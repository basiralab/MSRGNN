{
 "cells": [
  {
   "cell_type": "code",
   "execution_count": 17,
   "id": "d1380b68",
   "metadata": {},
   "outputs": [
    {
     "name": "stdout",
     "output_type": "stream",
     "text": [
      "The autoreload extension is already loaded. To reload it, use:\n",
      "  %reload_ext autoreload\n"
     ]
    }
   ],
   "source": [
    "%load_ext autoreload\n",
    "%autoreload 2"
   ]
  },
  {
   "cell_type": "code",
   "execution_count": 18,
   "id": "b1aef315",
   "metadata": {},
   "outputs": [],
   "source": [
    "from data_utility import DeepiqDataset\n",
    "from torch.utils.data import DataLoader\n",
    "from torch.utils.data import TensorDataset, DataLoader, random_split, Dataset\n",
    "import torch"
   ]
  },
  {
   "cell_type": "code",
   "execution_count": 19,
   "id": "409cefd3",
   "metadata": {},
   "outputs": [],
   "source": [
    "BATCH_SIZE = 32"
   ]
  },
  {
   "cell_type": "code",
   "execution_count": 20,
   "id": "81c44e88",
   "metadata": {},
   "outputs": [
    {
     "name": "stdout",
     "output_type": "stream",
     "text": [
      "Dataset size: 500\n",
      "Splitting into:\n",
      "  - Training set:   300 samples (60.00%)\n",
      "  - Validation set: 100 samples (20.00%)\n",
      "  - Test set:       100 samples (20.00%)\n",
      "----------------------------------------\n",
      "Type of train_dataset: <class 'torch.utils.data.dataset.Subset'>\n",
      "Actual size of train_dataset: 300\n",
      "Actual size of val_dataset:   100\n",
      "Actual size of test_dataset:  100\n",
      "\n",
      "Successfully split the dataset without losing any data points.\n",
      "----------------------------------------\n",
      "Number of batches in train_loader: 10\n",
      "Number of batches in val_loader:   4\n",
      "Number of batches in test_loader:  4\n"
     ]
    }
   ],
   "source": [
    "full_dataset = DeepiqDataset(\n",
    "    dataset_root_dir = \"./odd-one-out\",\n",
    "    num_panels = [5]\n",
    ")\n",
    "\n",
    "dataset_size = len(full_dataset)\n",
    "print(f\"Dataset size: {dataset_size}\")\n",
    "\n",
    "train_prop = 0.6\n",
    "val_prop = 0.2\n",
    "# test_prop = 0.2\n",
    "\n",
    "train_size = int(train_prop * dataset_size)\n",
    "val_size = int(val_prop * dataset_size)\n",
    "\n",
    "test_size = dataset_size - train_size - val_size\n",
    "\n",
    "print(f\"Splitting into:\")\n",
    "print(f\"  - Training set:   {train_size} samples ({train_size/dataset_size:.2%})\")\n",
    "print(f\"  - Validation set: {val_size} samples ({val_size/dataset_size:.2%})\")\n",
    "print(f\"  - Test set:       {test_size} samples ({test_size/dataset_size:.2%})\")\n",
    "print(\"-\" * 40)\n",
    "\n",
    "\n",
    "generator = torch.Generator().manual_seed(42)\n",
    "\n",
    "train_dataset, val_dataset, test_dataset = random_split(\n",
    "    full_dataset, [train_size, val_size, test_size], generator=generator\n",
    ")\n",
    "\n",
    "\n",
    "# --- 4. Verification ---\n",
    "print(f\"Type of train_dataset: {type(train_dataset)}\")\n",
    "\n",
    "# Verify the lengths of the splits\n",
    "print(f\"Actual size of train_dataset: {len(train_dataset)}\")\n",
    "print(f\"Actual size of val_dataset:   {len(val_dataset)}\")\n",
    "print(f\"Actual size of test_dataset:  {len(test_dataset)}\")\n",
    "\n",
    "assert len(train_dataset) + len(val_dataset) + len(test_dataset) == dataset_size\n",
    "print(\"\\nSuccessfully split the dataset without losing any data points.\")\n",
    "print(\"-\" * 40)\n",
    "\n",
    "\n",
    "# --- 5. Create DataLoaders for each set ---\n",
    "train_loader = DataLoader(train_dataset, batch_size=BATCH_SIZE, shuffle=True)\n",
    "val_loader = DataLoader(val_dataset, batch_size=BATCH_SIZE, shuffle=False)\n",
    "test_loader = DataLoader(test_dataset, batch_size=BATCH_SIZE, shuffle=False)\n",
    "\n",
    "print(f\"Number of batches in train_loader: {len(train_loader)}\")\n",
    "print(f\"Number of batches in val_loader:   {len(val_loader)}\")\n",
    "print(f\"Number of batches in test_loader:  {len(test_loader)}\")"
   ]
  },
  {
   "cell_type": "code",
   "execution_count": 21,
   "id": "9da8adaa",
   "metadata": {},
   "outputs": [],
   "source": [
    "from msrgnn import OddOneOutMSRGNN, validate, train_epoch, count_parameters"
   ]
  },
  {
   "cell_type": "code",
   "execution_count": 22,
   "id": "d44ca931",
   "metadata": {},
   "outputs": [],
   "source": [
    "import torch\n",
    "import torch.nn as nn\n",
    "import time"
   ]
  },
  {
   "cell_type": "code",
   "execution_count": 23,
   "id": "aaa399f9",
   "metadata": {},
   "outputs": [],
   "source": [
    "CTX_SIZE = 4\n",
    "CAND_SIZE = 4\n",
    "DEVICE = 'cuda' if torch.cuda.is_available() else 'cpu'\n",
    "LEARNING_RATE = 1e-4\n",
    "EPOCHS = 100\n",
    "\n",
    "model_params = {\n",
    "    'resnet_base_channels': 64,\n",
    "    'pos_embedding_dim': 128,\n",
    "    'gnn_hidden_dim': 128,\n",
    "    'relation_net_mlp_layers': 3,\n",
    "    'relation_net_dropout': 0,\n",
    "    'gnn_message_dropout_p': 0,\n",
    "    'reasoner_proj_dropout': 0,\n",
    "    'num_panels': 5,\n",
    "}\n",
    "\n",
    "model = OddOneOutMSRGNN(**model_params).to(DEVICE)"
   ]
  },
  {
   "cell_type": "code",
   "execution_count": 24,
   "id": "4ef49bb1",
   "metadata": {},
   "outputs": [],
   "source": [
    "optimizer = torch.optim.AdamW(model.parameters(), lr=LEARNING_RATE, weight_decay=1e-4)\n",
    "criterion = nn.CrossEntropyLoss(label_smoothing=0.1)\n",
    "scaler = None\n",
    "scheduler = torch.optim.lr_scheduler.CosineAnnealingLR(\n",
    "    optimizer,\n",
    "    T_max=EPOCHS,\n",
    "    eta_min=1e-6\n",
    ")"
   ]
  },
  {
   "cell_type": "code",
   "execution_count": 25,
   "id": "1fa2ea22",
   "metadata": {},
   "outputs": [],
   "source": [
    "import json"
   ]
  },
  {
   "cell_type": "code",
   "execution_count": 26,
   "id": "03725d6b",
   "metadata": {},
   "outputs": [],
   "source": [
    "# --- Training Hyperparameters ---\n",
    "N_SPLITS = 3\n",
    "EPOCHS = 100\n",
    "BATCH_SIZE = 32\n",
    "LEARNING_RATE = 1e-4\n",
    "WEIGHT_DECAY = 1e-4\n",
    "PATIENCE = 10 # For early stopping\n",
    "\n",
    "# --- Model & Logging Setup ---\n",
    "MODEL_FOLDER_NAME = \"O3_5-MSRGNN\"\n",
    "DEVICE = \"cuda\" if torch.cuda.is_available() else \"cpu\""
   ]
  },
  {
   "cell_type": "code",
   "execution_count": 27,
   "id": "82fda978",
   "metadata": {},
   "outputs": [],
   "source": [
    "import os\n",
    "import time\n",
    "import numpy as np\n",
    "import torch\n",
    "import torch.nn as nn\n",
    "from torch.utils.data import DataLoader, Subset\n",
    "from sklearn.model_selection import KFold\n",
    "from torch.utils.tensorboard import SummaryWriter\n",
    "from tqdm import tqdm"
   ]
  },
  {
   "cell_type": "markdown",
   "id": "9451eee3",
   "metadata": {},
   "source": [
    "# O3 STL"
   ]
  },
  {
   "cell_type": "code",
   "execution_count": 28,
   "id": "1e84b37b",
   "metadata": {},
   "outputs": [
    {
     "name": "stdout",
     "output_type": "stream",
     "text": [
      "Total data for cross-validation: 500 samples.\n",
      "\n",
      "============================== OUTER FOLD 1/3 ==============================\n",
      "Fold 1 Model has 4,804,547 trainable parameters.\n",
      "Fold 1 Training on 283, Validating on 50, Testing on 167.\n",
      "\n",
      "--- Fold 1, Epoch 1/100 ---\n"
     ]
    },
    {
     "name": "stderr",
     "output_type": "stream",
     "text": [
      "Training:  11%|█         | 1/9 [00:00<00:03,  2.13it/s]"
     ]
    },
    {
     "name": "stderr",
     "output_type": "stream",
     "text": [
      "Training: 100%|██████████| 9/9 [00:01<00:00,  8.22it/s]\n"
     ]
    },
    {
     "name": "stdout",
     "output_type": "stream",
     "text": [
      "Epoch Loss: 1.5386, Accuracy: 0.3993\n"
     ]
    },
    {
     "name": "stderr",
     "output_type": "stream",
     "text": [
      "Validating: 100%|██████████| 2/2 [00:00<00:00,  4.12it/s]\n"
     ]
    },
    {
     "name": "stdout",
     "output_type": "stream",
     "text": [
      "  Train Loss: 1.5386 | Train Acc: 0.3993\n",
      "  Val Loss:   1.6094 | Val Acc:   0.3600\n",
      "  Epoch Duration: 1.59 seconds\n",
      "  -> New best inner validation accuracy: 0.3600. Model state saved.\n",
      "\n",
      "--- Fold 1, Epoch 2/100 ---\n"
     ]
    },
    {
     "name": "stderr",
     "output_type": "stream",
     "text": [
      "Training: 100%|██████████| 9/9 [00:01<00:00,  8.59it/s]\n"
     ]
    },
    {
     "name": "stdout",
     "output_type": "stream",
     "text": [
      "Epoch Loss: 1.3523, Accuracy: 0.4770\n"
     ]
    },
    {
     "name": "stderr",
     "output_type": "stream",
     "text": [
      "Validating: 100%|██████████| 2/2 [00:00<00:00,  3.65it/s]\n"
     ]
    },
    {
     "name": "stdout",
     "output_type": "stream",
     "text": [
      "  Train Loss: 1.3523 | Train Acc: 0.4770\n",
      "  Val Loss:   1.6094 | Val Acc:   0.3000\n",
      "  Epoch Duration: 1.60 seconds\n",
      "\n",
      "--- Fold 1, Epoch 3/100 ---\n"
     ]
    },
    {
     "name": "stderr",
     "output_type": "stream",
     "text": [
      "Training: 100%|██████████| 9/9 [00:01<00:00,  8.59it/s]\n"
     ]
    },
    {
     "name": "stdout",
     "output_type": "stream",
     "text": [
      "Epoch Loss: 1.1578, Accuracy: 0.5901\n"
     ]
    },
    {
     "name": "stderr",
     "output_type": "stream",
     "text": [
      "Validating: 100%|██████████| 2/2 [00:00<00:00,  4.18it/s]\n"
     ]
    },
    {
     "name": "stdout",
     "output_type": "stream",
     "text": [
      "  Train Loss: 1.1578 | Train Acc: 0.5901\n",
      "  Val Loss:   1.6094 | Val Acc:   0.2400\n",
      "  Epoch Duration: 1.53 seconds\n",
      "\n",
      "--- Fold 1, Epoch 4/100 ---\n"
     ]
    },
    {
     "name": "stderr",
     "output_type": "stream",
     "text": [
      "Training: 100%|██████████| 9/9 [00:01<00:00,  8.50it/s]\n"
     ]
    },
    {
     "name": "stdout",
     "output_type": "stream",
     "text": [
      "Epoch Loss: 0.8830, Accuracy: 0.7385\n"
     ]
    },
    {
     "name": "stderr",
     "output_type": "stream",
     "text": [
      "Validating: 100%|██████████| 2/2 [00:00<00:00,  4.27it/s]\n"
     ]
    },
    {
     "name": "stdout",
     "output_type": "stream",
     "text": [
      "  Train Loss: 0.8830 | Train Acc: 0.7385\n",
      "  Val Loss:   1.6093 | Val Acc:   0.2800\n",
      "  Epoch Duration: 1.53 seconds\n",
      "\n",
      "--- Fold 1, Epoch 5/100 ---\n"
     ]
    },
    {
     "name": "stderr",
     "output_type": "stream",
     "text": [
      "Training: 100%|██████████| 9/9 [00:01<00:00,  8.56it/s]\n"
     ]
    },
    {
     "name": "stdout",
     "output_type": "stream",
     "text": [
      "Epoch Loss: 0.6101, Accuracy: 0.8587\n"
     ]
    },
    {
     "name": "stderr",
     "output_type": "stream",
     "text": [
      "Validating: 100%|██████████| 2/2 [00:00<00:00,  3.81it/s]\n"
     ]
    },
    {
     "name": "stdout",
     "output_type": "stream",
     "text": [
      "  Train Loss: 0.6101 | Train Acc: 0.8587\n",
      "  Val Loss:   1.6086 | Val Acc:   0.2400\n",
      "  Epoch Duration: 1.59 seconds\n",
      "\n",
      "--- Fold 1, Epoch 6/100 ---\n"
     ]
    },
    {
     "name": "stderr",
     "output_type": "stream",
     "text": [
      "Training: 100%|██████████| 9/9 [00:01<00:00,  8.21it/s]\n"
     ]
    },
    {
     "name": "stdout",
     "output_type": "stream",
     "text": [
      "Epoch Loss: 0.3672, Accuracy: 0.9152\n"
     ]
    },
    {
     "name": "stderr",
     "output_type": "stream",
     "text": [
      "Validating: 100%|██████████| 2/2 [00:00<00:00,  4.12it/s]\n"
     ]
    },
    {
     "name": "stdout",
     "output_type": "stream",
     "text": [
      "  Train Loss: 0.3672 | Train Acc: 0.9152\n",
      "  Val Loss:   1.6080 | Val Acc:   0.2800\n",
      "  Epoch Duration: 1.59 seconds\n",
      "\n",
      "--- Fold 1, Epoch 7/100 ---\n"
     ]
    },
    {
     "name": "stderr",
     "output_type": "stream",
     "text": [
      "Training: 100%|██████████| 9/9 [00:01<00:00,  7.43it/s]\n"
     ]
    },
    {
     "name": "stdout",
     "output_type": "stream",
     "text": [
      "Epoch Loss: 0.1932, Accuracy: 0.9753\n"
     ]
    },
    {
     "name": "stderr",
     "output_type": "stream",
     "text": [
      "Validating: 100%|██████████| 2/2 [00:00<00:00,  3.81it/s]\n"
     ]
    },
    {
     "name": "stdout",
     "output_type": "stream",
     "text": [
      "  Train Loss: 0.1932 | Train Acc: 0.9753\n",
      "  Val Loss:   1.5986 | Val Acc:   0.2600\n",
      "  Epoch Duration: 1.74 seconds\n",
      "\n",
      "--- Fold 1, Epoch 8/100 ---\n"
     ]
    },
    {
     "name": "stderr",
     "output_type": "stream",
     "text": [
      "Training: 100%|██████████| 9/9 [00:01<00:00,  7.41it/s]\n"
     ]
    },
    {
     "name": "stdout",
     "output_type": "stream",
     "text": [
      "Epoch Loss: 0.1053, Accuracy: 0.9894\n"
     ]
    },
    {
     "name": "stderr",
     "output_type": "stream",
     "text": [
      "Validating: 100%|██████████| 2/2 [00:00<00:00,  4.19it/s]\n"
     ]
    },
    {
     "name": "stdout",
     "output_type": "stream",
     "text": [
      "  Train Loss: 0.1053 | Train Acc: 0.9894\n",
      "  Val Loss:   1.5961 | Val Acc:   0.2000\n",
      "  Epoch Duration: 1.70 seconds\n",
      "\n",
      "--- Fold 1, Epoch 9/100 ---\n"
     ]
    },
    {
     "name": "stderr",
     "output_type": "stream",
     "text": [
      "Training: 100%|██████████| 9/9 [00:01<00:00,  7.73it/s]\n"
     ]
    },
    {
     "name": "stdout",
     "output_type": "stream",
     "text": [
      "Epoch Loss: 0.0543, Accuracy: 0.9929\n"
     ]
    },
    {
     "name": "stderr",
     "output_type": "stream",
     "text": [
      "Validating: 100%|██████████| 2/2 [00:00<00:00,  3.83it/s]\n"
     ]
    },
    {
     "name": "stdout",
     "output_type": "stream",
     "text": [
      "  Train Loss: 0.0543 | Train Acc: 0.9929\n",
      "  Val Loss:   1.6126 | Val Acc:   0.2800\n",
      "  Epoch Duration: 1.69 seconds\n",
      "\n",
      "--- Fold 1, Epoch 10/100 ---\n"
     ]
    },
    {
     "name": "stderr",
     "output_type": "stream",
     "text": [
      "Training: 100%|██████████| 9/9 [00:01<00:00,  7.21it/s]\n"
     ]
    },
    {
     "name": "stdout",
     "output_type": "stream",
     "text": [
      "Epoch Loss: 0.0250, Accuracy: 1.0000\n"
     ]
    },
    {
     "name": "stderr",
     "output_type": "stream",
     "text": [
      "Validating: 100%|██████████| 2/2 [00:00<00:00,  4.18it/s]\n"
     ]
    },
    {
     "name": "stdout",
     "output_type": "stream",
     "text": [
      "  Train Loss: 0.0250 | Train Acc: 1.0000\n",
      "  Val Loss:   1.6462 | Val Acc:   0.2400\n",
      "  Epoch Duration: 1.73 seconds\n",
      "\n",
      "--- Fold 1, Epoch 11/100 ---\n"
     ]
    },
    {
     "name": "stderr",
     "output_type": "stream",
     "text": [
      "Training: 100%|██████████| 9/9 [00:01<00:00,  8.30it/s]\n"
     ]
    },
    {
     "name": "stdout",
     "output_type": "stream",
     "text": [
      "Epoch Loss: 0.0176, Accuracy: 0.9965\n"
     ]
    },
    {
     "name": "stderr",
     "output_type": "stream",
     "text": [
      "Validating: 100%|██████████| 2/2 [00:00<00:00,  4.23it/s]\n"
     ]
    },
    {
     "name": "stdout",
     "output_type": "stream",
     "text": [
      "  Train Loss: 0.0176 | Train Acc: 0.9965\n",
      "  Val Loss:   1.5642 | Val Acc:   0.4200\n",
      "  Epoch Duration: 1.56 seconds\n",
      "  -> New best inner validation accuracy: 0.4200. Model state saved.\n",
      "\n",
      "--- Fold 1, Epoch 12/100 ---\n"
     ]
    },
    {
     "name": "stderr",
     "output_type": "stream",
     "text": [
      "Training: 100%|██████████| 9/9 [00:01<00:00,  7.12it/s]\n"
     ]
    },
    {
     "name": "stdout",
     "output_type": "stream",
     "text": [
      "Epoch Loss: 0.0249, Accuracy: 0.9929\n"
     ]
    },
    {
     "name": "stderr",
     "output_type": "stream",
     "text": [
      "Validating: 100%|██████████| 2/2 [00:00<00:00,  4.11it/s]\n"
     ]
    },
    {
     "name": "stdout",
     "output_type": "stream",
     "text": [
      "  Train Loss: 0.0249 | Train Acc: 0.9929\n",
      "  Val Loss:   2.1759 | Val Acc:   0.3200\n",
      "  Epoch Duration: 1.76 seconds\n",
      "\n",
      "--- Fold 1, Epoch 13/100 ---\n"
     ]
    },
    {
     "name": "stderr",
     "output_type": "stream",
     "text": [
      "Training: 100%|██████████| 9/9 [00:01<00:00,  8.38it/s]\n"
     ]
    },
    {
     "name": "stdout",
     "output_type": "stream",
     "text": [
      "Epoch Loss: 0.0392, Accuracy: 0.9965\n"
     ]
    },
    {
     "name": "stderr",
     "output_type": "stream",
     "text": [
      "Validating: 100%|██████████| 2/2 [00:00<00:00,  4.32it/s]\n"
     ]
    },
    {
     "name": "stdout",
     "output_type": "stream",
     "text": [
      "  Train Loss: 0.0392 | Train Acc: 0.9965\n",
      "  Val Loss:   2.2475 | Val Acc:   0.2400\n",
      "  Epoch Duration: 1.54 seconds\n",
      "\n",
      "--- Fold 1, Epoch 14/100 ---\n"
     ]
    },
    {
     "name": "stderr",
     "output_type": "stream",
     "text": [
      "Training: 100%|██████████| 9/9 [00:01<00:00,  7.34it/s]\n"
     ]
    },
    {
     "name": "stdout",
     "output_type": "stream",
     "text": [
      "Epoch Loss: 0.0456, Accuracy: 0.9859\n"
     ]
    },
    {
     "name": "stderr",
     "output_type": "stream",
     "text": [
      "Validating: 100%|██████████| 2/2 [00:00<00:00,  4.12it/s]\n"
     ]
    },
    {
     "name": "stdout",
     "output_type": "stream",
     "text": [
      "  Train Loss: 0.0456 | Train Acc: 0.9859\n",
      "  Val Loss:   2.3311 | Val Acc:   0.5000\n",
      "  Epoch Duration: 1.72 seconds\n",
      "  -> New best inner validation accuracy: 0.5000. Model state saved.\n",
      "\n",
      "--- Fold 1, Epoch 15/100 ---\n"
     ]
    },
    {
     "name": "stderr",
     "output_type": "stream",
     "text": [
      "Training: 100%|██████████| 9/9 [00:01<00:00,  8.17it/s]\n"
     ]
    },
    {
     "name": "stdout",
     "output_type": "stream",
     "text": [
      "Epoch Loss: 0.0257, Accuracy: 0.9894\n"
     ]
    },
    {
     "name": "stderr",
     "output_type": "stream",
     "text": [
      "Validating: 100%|██████████| 2/2 [00:00<00:00,  4.24it/s]\n"
     ]
    },
    {
     "name": "stdout",
     "output_type": "stream",
     "text": [
      "  Train Loss: 0.0257 | Train Acc: 0.9894\n",
      "  Val Loss:   2.1352 | Val Acc:   0.3800\n",
      "  Epoch Duration: 1.58 seconds\n",
      "\n",
      "--- Fold 1, Epoch 16/100 ---\n"
     ]
    },
    {
     "name": "stderr",
     "output_type": "stream",
     "text": [
      "Training: 100%|██████████| 9/9 [00:01<00:00,  7.32it/s]\n"
     ]
    },
    {
     "name": "stdout",
     "output_type": "stream",
     "text": [
      "Epoch Loss: 0.0042, Accuracy: 1.0000\n"
     ]
    },
    {
     "name": "stderr",
     "output_type": "stream",
     "text": [
      "Validating: 100%|██████████| 2/2 [00:00<00:00,  4.19it/s]\n"
     ]
    },
    {
     "name": "stdout",
     "output_type": "stream",
     "text": [
      "  Train Loss: 0.0042 | Train Acc: 1.0000\n",
      "  Val Loss:   2.9151 | Val Acc:   0.3400\n",
      "  Epoch Duration: 1.71 seconds\n",
      "\n",
      "--- Fold 1, Epoch 17/100 ---\n"
     ]
    },
    {
     "name": "stderr",
     "output_type": "stream",
     "text": [
      "Training: 100%|██████████| 9/9 [00:01<00:00,  7.93it/s]\n"
     ]
    },
    {
     "name": "stdout",
     "output_type": "stream",
     "text": [
      "Epoch Loss: 0.0032, Accuracy: 1.0000\n"
     ]
    },
    {
     "name": "stderr",
     "output_type": "stream",
     "text": [
      "Validating: 100%|██████████| 2/2 [00:00<00:00,  4.12it/s]\n"
     ]
    },
    {
     "name": "stdout",
     "output_type": "stream",
     "text": [
      "  Train Loss: 0.0032 | Train Acc: 1.0000\n",
      "  Val Loss:   2.9250 | Val Acc:   0.3800\n",
      "  Epoch Duration: 1.63 seconds\n",
      "\n",
      "--- Fold 1, Epoch 18/100 ---\n"
     ]
    },
    {
     "name": "stderr",
     "output_type": "stream",
     "text": [
      "Training: 100%|██████████| 9/9 [00:01<00:00,  7.40it/s]\n"
     ]
    },
    {
     "name": "stdout",
     "output_type": "stream",
     "text": [
      "Epoch Loss: 0.0043, Accuracy: 1.0000\n"
     ]
    },
    {
     "name": "stderr",
     "output_type": "stream",
     "text": [
      "Validating: 100%|██████████| 2/2 [00:00<00:00,  4.20it/s]\n"
     ]
    },
    {
     "name": "stdout",
     "output_type": "stream",
     "text": [
      "  Train Loss: 0.0043 | Train Acc: 1.0000\n",
      "  Val Loss:   3.2825 | Val Acc:   0.3800\n",
      "  Epoch Duration: 1.70 seconds\n",
      "\n",
      "--- Fold 1, Epoch 19/100 ---\n"
     ]
    },
    {
     "name": "stderr",
     "output_type": "stream",
     "text": [
      "Training: 100%|██████████| 9/9 [00:01<00:00,  8.14it/s]\n"
     ]
    },
    {
     "name": "stdout",
     "output_type": "stream",
     "text": [
      "Epoch Loss: 0.0013, Accuracy: 1.0000\n"
     ]
    },
    {
     "name": "stderr",
     "output_type": "stream",
     "text": [
      "Validating: 100%|██████████| 2/2 [00:00<00:00,  4.24it/s]\n"
     ]
    },
    {
     "name": "stdout",
     "output_type": "stream",
     "text": [
      "  Train Loss: 0.0013 | Train Acc: 1.0000\n",
      "  Val Loss:   3.7813 | Val Acc:   0.3200\n",
      "  Epoch Duration: 1.58 seconds\n",
      "\n",
      "--- Fold 1, Epoch 20/100 ---\n"
     ]
    },
    {
     "name": "stderr",
     "output_type": "stream",
     "text": [
      "Training: 100%|██████████| 9/9 [00:01<00:00,  6.81it/s]\n"
     ]
    },
    {
     "name": "stdout",
     "output_type": "stream",
     "text": [
      "Epoch Loss: 0.0013, Accuracy: 1.0000\n"
     ]
    },
    {
     "name": "stderr",
     "output_type": "stream",
     "text": [
      "Validating: 100%|██████████| 2/2 [00:00<00:00,  3.50it/s]\n"
     ]
    },
    {
     "name": "stdout",
     "output_type": "stream",
     "text": [
      "  Train Loss: 0.0013 | Train Acc: 1.0000\n",
      "  Val Loss:   1.9146 | Val Acc:   0.3600\n",
      "  Epoch Duration: 1.90 seconds\n",
      "\n",
      "--- Fold 1, Epoch 21/100 ---\n"
     ]
    },
    {
     "name": "stderr",
     "output_type": "stream",
     "text": [
      "Training: 100%|██████████| 9/9 [00:01<00:00,  7.41it/s]\n"
     ]
    },
    {
     "name": "stdout",
     "output_type": "stream",
     "text": [
      "Epoch Loss: 0.0009, Accuracy: 1.0000\n"
     ]
    },
    {
     "name": "stderr",
     "output_type": "stream",
     "text": [
      "Validating: 100%|██████████| 2/2 [00:00<00:00,  4.19it/s]\n"
     ]
    },
    {
     "name": "stdout",
     "output_type": "stream",
     "text": [
      "  Train Loss: 0.0009 | Train Acc: 1.0000\n",
      "  Val Loss:   3.2442 | Val Acc:   0.4400\n",
      "  Epoch Duration: 1.70 seconds\n",
      "\n",
      "--- Fold 1, Epoch 22/100 ---\n"
     ]
    },
    {
     "name": "stderr",
     "output_type": "stream",
     "text": [
      "Training: 100%|██████████| 9/9 [00:01<00:00,  8.27it/s]\n"
     ]
    },
    {
     "name": "stdout",
     "output_type": "stream",
     "text": [
      "Epoch Loss: 0.0004, Accuracy: 1.0000\n"
     ]
    },
    {
     "name": "stderr",
     "output_type": "stream",
     "text": [
      "Validating: 100%|██████████| 2/2 [00:00<00:00,  4.11it/s]\n"
     ]
    },
    {
     "name": "stdout",
     "output_type": "stream",
     "text": [
      "  Train Loss: 0.0004 | Train Acc: 1.0000\n",
      "  Val Loss:   3.1255 | Val Acc:   0.4000\n",
      "  Epoch Duration: 1.58 seconds\n",
      "\n",
      "--- Fold 1, Epoch 23/100 ---\n"
     ]
    },
    {
     "name": "stderr",
     "output_type": "stream",
     "text": [
      "Training: 100%|██████████| 9/9 [00:01<00:00,  7.43it/s]\n"
     ]
    },
    {
     "name": "stdout",
     "output_type": "stream",
     "text": [
      "Epoch Loss: 0.0025, Accuracy: 1.0000\n"
     ]
    },
    {
     "name": "stderr",
     "output_type": "stream",
     "text": [
      "Validating: 100%|██████████| 2/2 [00:00<00:00,  4.25it/s]\n"
     ]
    },
    {
     "name": "stdout",
     "output_type": "stream",
     "text": [
      "  Train Loss: 0.0025 | Train Acc: 1.0000\n",
      "  Val Loss:   3.1151 | Val Acc:   0.4000\n",
      "  Epoch Duration: 1.69 seconds\n",
      "\n",
      "--- Fold 1, Epoch 24/100 ---\n"
     ]
    },
    {
     "name": "stderr",
     "output_type": "stream",
     "text": [
      "Training: 100%|██████████| 9/9 [00:01<00:00,  8.21it/s]\n"
     ]
    },
    {
     "name": "stdout",
     "output_type": "stream",
     "text": [
      "Epoch Loss: 0.0008, Accuracy: 1.0000\n"
     ]
    },
    {
     "name": "stderr",
     "output_type": "stream",
     "text": [
      "Validating: 100%|██████████| 2/2 [00:00<00:00,  4.35it/s]\n"
     ]
    },
    {
     "name": "stdout",
     "output_type": "stream",
     "text": [
      "  Train Loss: 0.0008 | Train Acc: 1.0000\n",
      "  Val Loss:   2.8355 | Val Acc:   0.4000\n",
      "  Epoch Duration: 1.56 seconds\n",
      "  Early stopping at epoch 24.\n",
      "\n",
      "--- Fold 1 Final Evaluation ---\n",
      "Loading best model for fold 1 (achieved 0.5000 on inner val set).\n"
     ]
    },
    {
     "name": "stderr",
     "output_type": "stream",
     "text": [
      "Validating: 100%|██████████| 6/6 [00:00<00:00,  9.31it/s]\n"
     ]
    },
    {
     "name": "stdout",
     "output_type": "stream",
     "text": [
      "Performance of best model on the OUTER TEST SET for fold 1: 0.3952\n",
      "\n",
      "============================== OUTER FOLD 2/3 ==============================\n",
      "Fold 2 Model has 4,804,547 trainable parameters.\n",
      "Fold 2 Training on 283, Validating on 50, Testing on 167.\n",
      "\n",
      "--- Fold 2, Epoch 1/100 ---\n"
     ]
    },
    {
     "name": "stderr",
     "output_type": "stream",
     "text": [
      "Training: 100%|██████████| 9/9 [00:01<00:00,  8.33it/s]\n"
     ]
    },
    {
     "name": "stdout",
     "output_type": "stream",
     "text": [
      "Epoch Loss: 1.5343, Accuracy: 0.3498\n"
     ]
    },
    {
     "name": "stderr",
     "output_type": "stream",
     "text": [
      "Validating: 100%|██████████| 2/2 [00:00<00:00,  4.21it/s]\n"
     ]
    },
    {
     "name": "stdout",
     "output_type": "stream",
     "text": [
      "  Train Loss: 1.5343 | Train Acc: 0.3498\n",
      "  Val Loss:   1.6094 | Val Acc:   0.2400\n",
      "  Epoch Duration: 1.56 seconds\n",
      "  -> New best inner validation accuracy: 0.2400. Model state saved.\n",
      "\n",
      "--- Fold 2, Epoch 2/100 ---\n"
     ]
    },
    {
     "name": "stderr",
     "output_type": "stream",
     "text": [
      "Training: 100%|██████████| 9/9 [00:01<00:00,  7.01it/s]\n"
     ]
    },
    {
     "name": "stdout",
     "output_type": "stream",
     "text": [
      "Epoch Loss: 1.3455, Accuracy: 0.4841\n"
     ]
    },
    {
     "name": "stderr",
     "output_type": "stream",
     "text": [
      "Validating: 100%|██████████| 2/2 [00:00<00:00,  3.94it/s]\n"
     ]
    },
    {
     "name": "stdout",
     "output_type": "stream",
     "text": [
      "  Train Loss: 1.3455 | Train Acc: 0.4841\n",
      "  Val Loss:   1.6094 | Val Acc:   0.1800\n",
      "  Epoch Duration: 1.80 seconds\n",
      "\n",
      "--- Fold 2, Epoch 3/100 ---\n"
     ]
    },
    {
     "name": "stderr",
     "output_type": "stream",
     "text": [
      "Training: 100%|██████████| 9/9 [00:01<00:00,  8.30it/s]\n"
     ]
    },
    {
     "name": "stdout",
     "output_type": "stream",
     "text": [
      "Epoch Loss: 1.1318, Accuracy: 0.6042\n"
     ]
    },
    {
     "name": "stderr",
     "output_type": "stream",
     "text": [
      "Validating: 100%|██████████| 2/2 [00:00<00:00,  4.11it/s]\n"
     ]
    },
    {
     "name": "stdout",
     "output_type": "stream",
     "text": [
      "  Train Loss: 1.1318 | Train Acc: 0.6042\n",
      "  Val Loss:   1.6095 | Val Acc:   0.2000\n",
      "  Epoch Duration: 1.58 seconds\n",
      "\n",
      "--- Fold 2, Epoch 4/100 ---\n"
     ]
    },
    {
     "name": "stderr",
     "output_type": "stream",
     "text": [
      "Training: 100%|██████████| 9/9 [00:01<00:00,  7.26it/s]\n"
     ]
    },
    {
     "name": "stdout",
     "output_type": "stream",
     "text": [
      "Epoch Loss: 0.7667, Accuracy: 0.7774\n"
     ]
    },
    {
     "name": "stderr",
     "output_type": "stream",
     "text": [
      "Validating: 100%|██████████| 2/2 [00:00<00:00,  4.26it/s]\n"
     ]
    },
    {
     "name": "stdout",
     "output_type": "stream",
     "text": [
      "  Train Loss: 0.7667 | Train Acc: 0.7774\n",
      "  Val Loss:   1.6097 | Val Acc:   0.1600\n",
      "  Epoch Duration: 1.72 seconds\n",
      "\n",
      "--- Fold 2, Epoch 5/100 ---\n"
     ]
    },
    {
     "name": "stderr",
     "output_type": "stream",
     "text": [
      "Training: 100%|██████████| 9/9 [00:01<00:00,  8.13it/s]\n"
     ]
    },
    {
     "name": "stdout",
     "output_type": "stream",
     "text": [
      "Epoch Loss: 0.4092, Accuracy: 0.9258\n"
     ]
    },
    {
     "name": "stderr",
     "output_type": "stream",
     "text": [
      "Validating: 100%|██████████| 2/2 [00:00<00:00,  4.18it/s]\n"
     ]
    },
    {
     "name": "stdout",
     "output_type": "stream",
     "text": [
      "  Train Loss: 0.4092 | Train Acc: 0.9258\n",
      "  Val Loss:   1.6109 | Val Acc:   0.1400\n",
      "  Epoch Duration: 1.59 seconds\n",
      "\n",
      "--- Fold 2, Epoch 6/100 ---\n"
     ]
    },
    {
     "name": "stderr",
     "output_type": "stream",
     "text": [
      "Training: 100%|██████████| 9/9 [00:01<00:00,  8.01it/s]\n"
     ]
    },
    {
     "name": "stdout",
     "output_type": "stream",
     "text": [
      "Epoch Loss: 0.2218, Accuracy: 0.9647\n"
     ]
    },
    {
     "name": "stderr",
     "output_type": "stream",
     "text": [
      "Validating: 100%|██████████| 2/2 [00:00<00:00,  4.25it/s]\n"
     ]
    },
    {
     "name": "stdout",
     "output_type": "stream",
     "text": [
      "  Train Loss: 0.2218 | Train Acc: 0.9647\n",
      "  Val Loss:   1.6105 | Val Acc:   0.1600\n",
      "  Epoch Duration: 1.60 seconds\n",
      "\n",
      "--- Fold 2, Epoch 7/100 ---\n"
     ]
    },
    {
     "name": "stderr",
     "output_type": "stream",
     "text": [
      "Training: 100%|██████████| 9/9 [00:01<00:00,  7.15it/s]\n"
     ]
    },
    {
     "name": "stdout",
     "output_type": "stream",
     "text": [
      "Epoch Loss: 0.1443, Accuracy: 0.9823\n"
     ]
    },
    {
     "name": "stderr",
     "output_type": "stream",
     "text": [
      "Validating: 100%|██████████| 2/2 [00:00<00:00,  4.21it/s]\n"
     ]
    },
    {
     "name": "stdout",
     "output_type": "stream",
     "text": [
      "  Train Loss: 0.1443 | Train Acc: 0.9823\n",
      "  Val Loss:   1.6047 | Val Acc:   0.2800\n",
      "  Epoch Duration: 1.74 seconds\n",
      "  -> New best inner validation accuracy: 0.2800. Model state saved.\n",
      "\n",
      "--- Fold 2, Epoch 8/100 ---\n"
     ]
    },
    {
     "name": "stderr",
     "output_type": "stream",
     "text": [
      "Training: 100%|██████████| 9/9 [00:01<00:00,  8.15it/s]\n"
     ]
    },
    {
     "name": "stdout",
     "output_type": "stream",
     "text": [
      "Epoch Loss: 0.0744, Accuracy: 0.9965\n"
     ]
    },
    {
     "name": "stderr",
     "output_type": "stream",
     "text": [
      "Validating: 100%|██████████| 2/2 [00:00<00:00,  4.19it/s]\n"
     ]
    },
    {
     "name": "stdout",
     "output_type": "stream",
     "text": [
      "  Train Loss: 0.0744 | Train Acc: 0.9965\n",
      "  Val Loss:   1.6213 | Val Acc:   0.2000\n",
      "  Epoch Duration: 1.59 seconds\n",
      "\n",
      "--- Fold 2, Epoch 9/100 ---\n"
     ]
    },
    {
     "name": "stderr",
     "output_type": "stream",
     "text": [
      "Training: 100%|██████████| 9/9 [00:01<00:00,  7.33it/s]\n"
     ]
    },
    {
     "name": "stdout",
     "output_type": "stream",
     "text": [
      "Epoch Loss: 0.0541, Accuracy: 0.9823\n"
     ]
    },
    {
     "name": "stderr",
     "output_type": "stream",
     "text": [
      "Validating: 100%|██████████| 2/2 [00:00<00:00,  4.12it/s]\n"
     ]
    },
    {
     "name": "stdout",
     "output_type": "stream",
     "text": [
      "  Train Loss: 0.0541 | Train Acc: 0.9823\n",
      "  Val Loss:   1.6270 | Val Acc:   0.1600\n",
      "  Epoch Duration: 1.72 seconds\n",
      "\n",
      "--- Fold 2, Epoch 10/100 ---\n"
     ]
    },
    {
     "name": "stderr",
     "output_type": "stream",
     "text": [
      "Training: 100%|██████████| 9/9 [00:01<00:00,  8.40it/s]\n"
     ]
    },
    {
     "name": "stdout",
     "output_type": "stream",
     "text": [
      "Epoch Loss: 0.0261, Accuracy: 1.0000\n"
     ]
    },
    {
     "name": "stderr",
     "output_type": "stream",
     "text": [
      "Validating: 100%|██████████| 2/2 [00:00<00:00,  4.15it/s]\n"
     ]
    },
    {
     "name": "stdout",
     "output_type": "stream",
     "text": [
      "  Train Loss: 0.0261 | Train Acc: 1.0000\n",
      "  Val Loss:   1.7035 | Val Acc:   0.2400\n",
      "  Epoch Duration: 1.56 seconds\n",
      "\n",
      "--- Fold 2, Epoch 11/100 ---\n"
     ]
    },
    {
     "name": "stderr",
     "output_type": "stream",
     "text": [
      "Training: 100%|██████████| 9/9 [00:01<00:00,  7.34it/s]\n"
     ]
    },
    {
     "name": "stdout",
     "output_type": "stream",
     "text": [
      "Epoch Loss: 0.0309, Accuracy: 0.9929\n"
     ]
    },
    {
     "name": "stderr",
     "output_type": "stream",
     "text": [
      "Validating: 100%|██████████| 2/2 [00:00<00:00,  4.21it/s]\n"
     ]
    },
    {
     "name": "stdout",
     "output_type": "stream",
     "text": [
      "  Train Loss: 0.0309 | Train Acc: 0.9929\n",
      "  Val Loss:   1.7265 | Val Acc:   0.2000\n",
      "  Epoch Duration: 1.71 seconds\n",
      "\n",
      "--- Fold 2, Epoch 12/100 ---\n"
     ]
    },
    {
     "name": "stderr",
     "output_type": "stream",
     "text": [
      "Training: 100%|██████████| 9/9 [00:01<00:00,  7.94it/s]\n"
     ]
    },
    {
     "name": "stdout",
     "output_type": "stream",
     "text": [
      "Epoch Loss: 0.0459, Accuracy: 0.9894\n"
     ]
    },
    {
     "name": "stderr",
     "output_type": "stream",
     "text": [
      "Validating: 100%|██████████| 2/2 [00:00<00:00,  4.27it/s]\n"
     ]
    },
    {
     "name": "stdout",
     "output_type": "stream",
     "text": [
      "  Train Loss: 0.0459 | Train Acc: 0.9894\n",
      "  Val Loss:   2.3434 | Val Acc:   0.3400\n",
      "  Epoch Duration: 1.61 seconds\n",
      "  -> New best inner validation accuracy: 0.3400. Model state saved.\n",
      "\n",
      "--- Fold 2, Epoch 13/100 ---\n"
     ]
    },
    {
     "name": "stderr",
     "output_type": "stream",
     "text": [
      "Training: 100%|██████████| 9/9 [00:01<00:00,  7.28it/s]\n"
     ]
    },
    {
     "name": "stdout",
     "output_type": "stream",
     "text": [
      "Epoch Loss: 0.0448, Accuracy: 0.9859\n"
     ]
    },
    {
     "name": "stderr",
     "output_type": "stream",
     "text": [
      "Validating: 100%|██████████| 2/2 [00:00<00:00,  4.22it/s]\n"
     ]
    },
    {
     "name": "stdout",
     "output_type": "stream",
     "text": [
      "  Train Loss: 0.0448 | Train Acc: 0.9859\n",
      "  Val Loss:   2.6684 | Val Acc:   0.3800\n",
      "  Epoch Duration: 1.72 seconds\n",
      "  -> New best inner validation accuracy: 0.3800. Model state saved.\n",
      "\n",
      "--- Fold 2, Epoch 14/100 ---\n"
     ]
    },
    {
     "name": "stderr",
     "output_type": "stream",
     "text": [
      "Training: 100%|██████████| 9/9 [00:01<00:00,  8.58it/s]\n"
     ]
    },
    {
     "name": "stdout",
     "output_type": "stream",
     "text": [
      "Epoch Loss: 0.0141, Accuracy: 1.0000\n"
     ]
    },
    {
     "name": "stderr",
     "output_type": "stream",
     "text": [
      "Validating: 100%|██████████| 2/2 [00:00<00:00,  4.33it/s]\n"
     ]
    },
    {
     "name": "stdout",
     "output_type": "stream",
     "text": [
      "  Train Loss: 0.0141 | Train Acc: 1.0000\n",
      "  Val Loss:   2.9145 | Val Acc:   0.3800\n",
      "  Epoch Duration: 1.52 seconds\n",
      "\n",
      "--- Fold 2, Epoch 15/100 ---\n"
     ]
    },
    {
     "name": "stderr",
     "output_type": "stream",
     "text": [
      "Training: 100%|██████████| 9/9 [00:01<00:00,  7.49it/s]\n"
     ]
    },
    {
     "name": "stdout",
     "output_type": "stream",
     "text": [
      "Epoch Loss: 0.0116, Accuracy: 1.0000\n"
     ]
    },
    {
     "name": "stderr",
     "output_type": "stream",
     "text": [
      "Validating: 100%|██████████| 2/2 [00:00<00:00,  4.06it/s]\n"
     ]
    },
    {
     "name": "stdout",
     "output_type": "stream",
     "text": [
      "  Train Loss: 0.0116 | Train Acc: 1.0000\n",
      "  Val Loss:   3.5184 | Val Acc:   0.3400\n",
      "  Epoch Duration: 1.70 seconds\n",
      "\n",
      "--- Fold 2, Epoch 16/100 ---\n"
     ]
    },
    {
     "name": "stderr",
     "output_type": "stream",
     "text": [
      "Training: 100%|██████████| 9/9 [00:01<00:00,  7.74it/s]\n"
     ]
    },
    {
     "name": "stdout",
     "output_type": "stream",
     "text": [
      "Epoch Loss: 0.0133, Accuracy: 0.9965\n"
     ]
    },
    {
     "name": "stderr",
     "output_type": "stream",
     "text": [
      "Validating: 100%|██████████| 2/2 [00:00<00:00,  4.28it/s]\n"
     ]
    },
    {
     "name": "stdout",
     "output_type": "stream",
     "text": [
      "  Train Loss: 0.0133 | Train Acc: 0.9965\n",
      "  Val Loss:   2.9887 | Val Acc:   0.3400\n",
      "  Epoch Duration: 1.64 seconds\n",
      "\n",
      "--- Fold 2, Epoch 17/100 ---\n"
     ]
    },
    {
     "name": "stderr",
     "output_type": "stream",
     "text": [
      "Training: 100%|██████████| 9/9 [00:01<00:00,  8.34it/s]\n"
     ]
    },
    {
     "name": "stdout",
     "output_type": "stream",
     "text": [
      "Epoch Loss: 0.0069, Accuracy: 0.9965\n"
     ]
    },
    {
     "name": "stderr",
     "output_type": "stream",
     "text": [
      "Validating: 100%|██████████| 2/2 [00:00<00:00,  4.26it/s]\n"
     ]
    },
    {
     "name": "stdout",
     "output_type": "stream",
     "text": [
      "  Train Loss: 0.0069 | Train Acc: 0.9965\n",
      "  Val Loss:   1.6118 | Val Acc:   0.3600\n",
      "  Epoch Duration: 1.56 seconds\n",
      "\n",
      "--- Fold 2, Epoch 18/100 ---\n"
     ]
    },
    {
     "name": "stderr",
     "output_type": "stream",
     "text": [
      "Training: 100%|██████████| 9/9 [00:01<00:00,  7.26it/s]\n"
     ]
    },
    {
     "name": "stdout",
     "output_type": "stream",
     "text": [
      "Epoch Loss: 0.0245, Accuracy: 0.9929\n"
     ]
    },
    {
     "name": "stderr",
     "output_type": "stream",
     "text": [
      "Validating: 100%|██████████| 2/2 [00:00<00:00,  4.14it/s]\n"
     ]
    },
    {
     "name": "stdout",
     "output_type": "stream",
     "text": [
      "  Train Loss: 0.0245 | Train Acc: 0.9929\n",
      "  Val Loss:   2.2355 | Val Acc:   0.3400\n",
      "  Epoch Duration: 1.73 seconds\n",
      "\n",
      "--- Fold 2, Epoch 19/100 ---\n"
     ]
    },
    {
     "name": "stderr",
     "output_type": "stream",
     "text": [
      "Training: 100%|██████████| 9/9 [00:01<00:00,  8.20it/s]\n"
     ]
    },
    {
     "name": "stdout",
     "output_type": "stream",
     "text": [
      "Epoch Loss: 0.0199, Accuracy: 0.9965\n"
     ]
    },
    {
     "name": "stderr",
     "output_type": "stream",
     "text": [
      "Validating: 100%|██████████| 2/2 [00:00<00:00,  4.15it/s]\n"
     ]
    },
    {
     "name": "stdout",
     "output_type": "stream",
     "text": [
      "  Train Loss: 0.0199 | Train Acc: 0.9965\n",
      "  Val Loss:   2.5554 | Val Acc:   0.3200\n",
      "  Epoch Duration: 1.59 seconds\n",
      "\n",
      "--- Fold 2, Epoch 20/100 ---\n"
     ]
    },
    {
     "name": "stderr",
     "output_type": "stream",
     "text": [
      "Training: 100%|██████████| 9/9 [00:01<00:00,  7.49it/s]\n"
     ]
    },
    {
     "name": "stdout",
     "output_type": "stream",
     "text": [
      "Epoch Loss: 0.0161, Accuracy: 0.9929\n"
     ]
    },
    {
     "name": "stderr",
     "output_type": "stream",
     "text": [
      "Validating: 100%|██████████| 2/2 [00:00<00:00,  3.96it/s]\n"
     ]
    },
    {
     "name": "stdout",
     "output_type": "stream",
     "text": [
      "  Train Loss: 0.0161 | Train Acc: 0.9929\n",
      "  Val Loss:   3.2215 | Val Acc:   0.3000\n",
      "  Epoch Duration: 1.71 seconds\n",
      "\n",
      "--- Fold 2, Epoch 21/100 ---\n"
     ]
    },
    {
     "name": "stderr",
     "output_type": "stream",
     "text": [
      "Training: 100%|██████████| 9/9 [00:01<00:00,  8.15it/s]\n"
     ]
    },
    {
     "name": "stdout",
     "output_type": "stream",
     "text": [
      "Epoch Loss: 0.0146, Accuracy: 0.9965\n"
     ]
    },
    {
     "name": "stderr",
     "output_type": "stream",
     "text": [
      "Validating: 100%|██████████| 2/2 [00:00<00:00,  4.29it/s]\n"
     ]
    },
    {
     "name": "stdout",
     "output_type": "stream",
     "text": [
      "  Train Loss: 0.0146 | Train Acc: 0.9965\n",
      "  Val Loss:   3.1512 | Val Acc:   0.3800\n",
      "  Epoch Duration: 1.58 seconds\n",
      "\n",
      "--- Fold 2, Epoch 22/100 ---\n"
     ]
    },
    {
     "name": "stderr",
     "output_type": "stream",
     "text": [
      "Training: 100%|██████████| 9/9 [00:01<00:00,  7.23it/s]\n"
     ]
    },
    {
     "name": "stdout",
     "output_type": "stream",
     "text": [
      "Epoch Loss: 0.0067, Accuracy: 1.0000\n"
     ]
    },
    {
     "name": "stderr",
     "output_type": "stream",
     "text": [
      "Validating: 100%|██████████| 2/2 [00:00<00:00,  4.11it/s]\n"
     ]
    },
    {
     "name": "stdout",
     "output_type": "stream",
     "text": [
      "  Train Loss: 0.0067 | Train Acc: 1.0000\n",
      "  Val Loss:   2.8581 | Val Acc:   0.4400\n",
      "  Epoch Duration: 1.74 seconds\n",
      "  -> New best inner validation accuracy: 0.4400. Model state saved.\n",
      "\n",
      "--- Fold 2, Epoch 23/100 ---\n"
     ]
    },
    {
     "name": "stderr",
     "output_type": "stream",
     "text": [
      "Training: 100%|██████████| 9/9 [00:01<00:00,  8.16it/s]\n"
     ]
    },
    {
     "name": "stdout",
     "output_type": "stream",
     "text": [
      "Epoch Loss: 0.0391, Accuracy: 0.9894\n"
     ]
    },
    {
     "name": "stderr",
     "output_type": "stream",
     "text": [
      "Validating: 100%|██████████| 2/2 [00:00<00:00,  4.30it/s]\n"
     ]
    },
    {
     "name": "stdout",
     "output_type": "stream",
     "text": [
      "  Train Loss: 0.0391 | Train Acc: 0.9894\n",
      "  Val Loss:   2.8655 | Val Acc:   0.2800\n",
      "  Epoch Duration: 1.58 seconds\n",
      "\n",
      "--- Fold 2, Epoch 24/100 ---\n"
     ]
    },
    {
     "name": "stderr",
     "output_type": "stream",
     "text": [
      "Training: 100%|██████████| 9/9 [00:01<00:00,  7.12it/s]\n"
     ]
    },
    {
     "name": "stdout",
     "output_type": "stream",
     "text": [
      "Epoch Loss: 0.0310, Accuracy: 0.9894\n"
     ]
    },
    {
     "name": "stderr",
     "output_type": "stream",
     "text": [
      "Validating: 100%|██████████| 2/2 [00:00<00:00,  4.08it/s]\n"
     ]
    },
    {
     "name": "stdout",
     "output_type": "stream",
     "text": [
      "  Train Loss: 0.0310 | Train Acc: 0.9894\n",
      "  Val Loss:   2.7468 | Val Acc:   0.3200\n",
      "  Epoch Duration: 1.76 seconds\n",
      "\n",
      "--- Fold 2, Epoch 25/100 ---\n"
     ]
    },
    {
     "name": "stderr",
     "output_type": "stream",
     "text": [
      "Training: 100%|██████████| 9/9 [00:01<00:00,  8.44it/s]\n"
     ]
    },
    {
     "name": "stdout",
     "output_type": "stream",
     "text": [
      "Epoch Loss: 0.0035, Accuracy: 1.0000\n"
     ]
    },
    {
     "name": "stderr",
     "output_type": "stream",
     "text": [
      "Validating: 100%|██████████| 2/2 [00:00<00:00,  4.30it/s]\n"
     ]
    },
    {
     "name": "stdout",
     "output_type": "stream",
     "text": [
      "  Train Loss: 0.0035 | Train Acc: 1.0000\n",
      "  Val Loss:   3.3202 | Val Acc:   0.3000\n",
      "  Epoch Duration: 1.54 seconds\n",
      "\n",
      "--- Fold 2, Epoch 26/100 ---\n"
     ]
    },
    {
     "name": "stderr",
     "output_type": "stream",
     "text": [
      "Training: 100%|██████████| 9/9 [00:01<00:00,  7.31it/s]\n"
     ]
    },
    {
     "name": "stdout",
     "output_type": "stream",
     "text": [
      "Epoch Loss: 0.0022, Accuracy: 1.0000\n"
     ]
    },
    {
     "name": "stderr",
     "output_type": "stream",
     "text": [
      "Validating: 100%|██████████| 2/2 [00:00<00:00,  4.19it/s]\n"
     ]
    },
    {
     "name": "stdout",
     "output_type": "stream",
     "text": [
      "  Train Loss: 0.0022 | Train Acc: 1.0000\n",
      "  Val Loss:   3.4013 | Val Acc:   0.3000\n",
      "  Epoch Duration: 1.71 seconds\n",
      "\n",
      "--- Fold 2, Epoch 27/100 ---\n"
     ]
    },
    {
     "name": "stderr",
     "output_type": "stream",
     "text": [
      "Training: 100%|██████████| 9/9 [00:01<00:00,  7.92it/s]\n"
     ]
    },
    {
     "name": "stdout",
     "output_type": "stream",
     "text": [
      "Epoch Loss: 0.0045, Accuracy: 1.0000\n"
     ]
    },
    {
     "name": "stderr",
     "output_type": "stream",
     "text": [
      "Validating: 100%|██████████| 2/2 [00:00<00:00,  4.01it/s]\n"
     ]
    },
    {
     "name": "stdout",
     "output_type": "stream",
     "text": [
      "  Train Loss: 0.0045 | Train Acc: 1.0000\n",
      "  Val Loss:   4.4052 | Val Acc:   0.3200\n",
      "  Epoch Duration: 1.64 seconds\n",
      "\n",
      "--- Fold 2, Epoch 28/100 ---\n"
     ]
    },
    {
     "name": "stderr",
     "output_type": "stream",
     "text": [
      "Training: 100%|██████████| 9/9 [00:01<00:00,  7.37it/s]\n"
     ]
    },
    {
     "name": "stdout",
     "output_type": "stream",
     "text": [
      "Epoch Loss: 0.0065, Accuracy: 0.9965\n"
     ]
    },
    {
     "name": "stderr",
     "output_type": "stream",
     "text": [
      "Validating: 100%|██████████| 2/2 [00:00<00:00,  4.11it/s]\n"
     ]
    },
    {
     "name": "stdout",
     "output_type": "stream",
     "text": [
      "  Train Loss: 0.0065 | Train Acc: 0.9965\n",
      "  Val Loss:   4.0872 | Val Acc:   0.3800\n",
      "  Epoch Duration: 1.72 seconds\n",
      "\n",
      "--- Fold 2, Epoch 29/100 ---\n"
     ]
    },
    {
     "name": "stderr",
     "output_type": "stream",
     "text": [
      "Training: 100%|██████████| 9/9 [00:01<00:00,  8.09it/s]\n"
     ]
    },
    {
     "name": "stdout",
     "output_type": "stream",
     "text": [
      "Epoch Loss: 0.0006, Accuracy: 1.0000\n"
     ]
    },
    {
     "name": "stderr",
     "output_type": "stream",
     "text": [
      "Validating: 100%|██████████| 2/2 [00:00<00:00,  4.15it/s]\n"
     ]
    },
    {
     "name": "stdout",
     "output_type": "stream",
     "text": [
      "  Train Loss: 0.0006 | Train Acc: 1.0000\n",
      "  Val Loss:   4.6554 | Val Acc:   0.3600\n",
      "  Epoch Duration: 1.60 seconds\n",
      "\n",
      "--- Fold 2, Epoch 30/100 ---\n"
     ]
    },
    {
     "name": "stderr",
     "output_type": "stream",
     "text": [
      "Training: 100%|██████████| 9/9 [00:01<00:00,  7.31it/s]\n"
     ]
    },
    {
     "name": "stdout",
     "output_type": "stream",
     "text": [
      "Epoch Loss: 0.0002, Accuracy: 1.0000\n"
     ]
    },
    {
     "name": "stderr",
     "output_type": "stream",
     "text": [
      "Validating: 100%|██████████| 2/2 [00:00<00:00,  4.07it/s]\n"
     ]
    },
    {
     "name": "stdout",
     "output_type": "stream",
     "text": [
      "  Train Loss: 0.0002 | Train Acc: 1.0000\n",
      "  Val Loss:   4.4453 | Val Acc:   0.3600\n",
      "  Epoch Duration: 1.73 seconds\n",
      "\n",
      "--- Fold 2, Epoch 31/100 ---\n"
     ]
    },
    {
     "name": "stderr",
     "output_type": "stream",
     "text": [
      "Training: 100%|██████████| 9/9 [00:01<00:00,  7.94it/s]\n"
     ]
    },
    {
     "name": "stdout",
     "output_type": "stream",
     "text": [
      "Epoch Loss: 0.0001, Accuracy: 1.0000\n"
     ]
    },
    {
     "name": "stderr",
     "output_type": "stream",
     "text": [
      "Validating: 100%|██████████| 2/2 [00:00<00:00,  4.13it/s]\n"
     ]
    },
    {
     "name": "stdout",
     "output_type": "stream",
     "text": [
      "  Train Loss: 0.0001 | Train Acc: 1.0000\n",
      "  Val Loss:   4.4628 | Val Acc:   0.3400\n",
      "  Epoch Duration: 1.62 seconds\n",
      "\n",
      "--- Fold 2, Epoch 32/100 ---\n"
     ]
    },
    {
     "name": "stderr",
     "output_type": "stream",
     "text": [
      "Training: 100%|██████████| 9/9 [00:01<00:00,  7.49it/s]\n"
     ]
    },
    {
     "name": "stdout",
     "output_type": "stream",
     "text": [
      "Epoch Loss: 0.0001, Accuracy: 1.0000\n"
     ]
    },
    {
     "name": "stderr",
     "output_type": "stream",
     "text": [
      "Validating: 100%|██████████| 2/2 [00:00<00:00,  4.04it/s]\n"
     ]
    },
    {
     "name": "stdout",
     "output_type": "stream",
     "text": [
      "  Train Loss: 0.0001 | Train Acc: 1.0000\n",
      "  Val Loss:   4.8442 | Val Acc:   0.3200\n",
      "  Epoch Duration: 1.70 seconds\n",
      "  Early stopping at epoch 32.\n",
      "\n",
      "--- Fold 2 Final Evaluation ---\n",
      "Loading best model for fold 2 (achieved 0.4400 on inner val set).\n"
     ]
    },
    {
     "name": "stderr",
     "output_type": "stream",
     "text": [
      "Validating: 100%|██████████| 6/6 [00:00<00:00,  9.53it/s]\n"
     ]
    },
    {
     "name": "stdout",
     "output_type": "stream",
     "text": [
      "Performance of best model on the OUTER TEST SET for fold 2: 0.3413\n",
      "\n",
      "============================== OUTER FOLD 3/3 ==============================\n",
      "Fold 3 Model has 4,804,547 trainable parameters.\n",
      "Fold 3 Training on 283, Validating on 51, Testing on 166.\n",
      "\n",
      "--- Fold 3, Epoch 1/100 ---\n"
     ]
    },
    {
     "name": "stderr",
     "output_type": "stream",
     "text": [
      "Training: 100%|██████████| 9/9 [00:01<00:00,  7.00it/s]\n"
     ]
    },
    {
     "name": "stdout",
     "output_type": "stream",
     "text": [
      "Epoch Loss: 1.5529, Accuracy: 0.3534\n"
     ]
    },
    {
     "name": "stderr",
     "output_type": "stream",
     "text": [
      "Validating: 100%|██████████| 2/2 [00:00<00:00,  3.89it/s]\n"
     ]
    },
    {
     "name": "stdout",
     "output_type": "stream",
     "text": [
      "  Train Loss: 1.5529 | Train Acc: 0.3534\n",
      "  Val Loss:   1.6094 | Val Acc:   0.1765\n",
      "  Epoch Duration: 1.80 seconds\n",
      "  -> New best inner validation accuracy: 0.1765. Model state saved.\n",
      "\n",
      "--- Fold 3, Epoch 2/100 ---\n"
     ]
    },
    {
     "name": "stderr",
     "output_type": "stream",
     "text": [
      "Training: 100%|██████████| 9/9 [00:01<00:00,  7.97it/s]\n"
     ]
    },
    {
     "name": "stdout",
     "output_type": "stream",
     "text": [
      "Epoch Loss: 1.3319, Accuracy: 0.4735\n"
     ]
    },
    {
     "name": "stderr",
     "output_type": "stream",
     "text": [
      "Validating: 100%|██████████| 2/2 [00:00<00:00,  4.20it/s]\n"
     ]
    },
    {
     "name": "stdout",
     "output_type": "stream",
     "text": [
      "  Train Loss: 1.3319 | Train Acc: 0.4735\n",
      "  Val Loss:   1.6094 | Val Acc:   0.1961\n",
      "  Epoch Duration: 1.61 seconds\n",
      "  -> New best inner validation accuracy: 0.1961. Model state saved.\n",
      "\n",
      "--- Fold 3, Epoch 3/100 ---\n"
     ]
    },
    {
     "name": "stderr",
     "output_type": "stream",
     "text": [
      "Training: 100%|██████████| 9/9 [00:01<00:00,  7.44it/s]\n"
     ]
    },
    {
     "name": "stdout",
     "output_type": "stream",
     "text": [
      "Epoch Loss: 1.1149, Accuracy: 0.6184\n"
     ]
    },
    {
     "name": "stderr",
     "output_type": "stream",
     "text": [
      "Validating: 100%|██████████| 2/2 [00:00<00:00,  3.94it/s]\n"
     ]
    },
    {
     "name": "stdout",
     "output_type": "stream",
     "text": [
      "  Train Loss: 1.1149 | Train Acc: 0.6184\n",
      "  Val Loss:   1.6094 | Val Acc:   0.2941\n",
      "  Epoch Duration: 1.72 seconds\n",
      "  -> New best inner validation accuracy: 0.2941. Model state saved.\n",
      "\n",
      "--- Fold 3, Epoch 4/100 ---\n"
     ]
    },
    {
     "name": "stderr",
     "output_type": "stream",
     "text": [
      "Training: 100%|██████████| 9/9 [00:01<00:00,  7.25it/s]\n"
     ]
    },
    {
     "name": "stdout",
     "output_type": "stream",
     "text": [
      "Epoch Loss: 0.8207, Accuracy: 0.7703\n"
     ]
    },
    {
     "name": "stderr",
     "output_type": "stream",
     "text": [
      "Validating: 100%|██████████| 2/2 [00:00<00:00,  4.25it/s]\n"
     ]
    },
    {
     "name": "stdout",
     "output_type": "stream",
     "text": [
      "  Train Loss: 0.8207 | Train Acc: 0.7703\n",
      "  Val Loss:   1.6096 | Val Acc:   0.2353\n",
      "  Epoch Duration: 1.72 seconds\n",
      "\n",
      "--- Fold 3, Epoch 5/100 ---\n"
     ]
    },
    {
     "name": "stderr",
     "output_type": "stream",
     "text": [
      "Training: 100%|██████████| 9/9 [00:01<00:00,  7.50it/s]\n"
     ]
    },
    {
     "name": "stdout",
     "output_type": "stream",
     "text": [
      "Epoch Loss: 0.5159, Accuracy: 0.8657\n"
     ]
    },
    {
     "name": "stderr",
     "output_type": "stream",
     "text": [
      "Validating: 100%|██████████| 2/2 [00:00<00:00,  4.02it/s]\n"
     ]
    },
    {
     "name": "stdout",
     "output_type": "stream",
     "text": [
      "  Train Loss: 0.5159 | Train Acc: 0.8657\n",
      "  Val Loss:   1.6090 | Val Acc:   0.3725\n",
      "  Epoch Duration: 1.70 seconds\n",
      "  -> New best inner validation accuracy: 0.3725. Model state saved.\n",
      "\n",
      "--- Fold 3, Epoch 6/100 ---\n"
     ]
    },
    {
     "name": "stderr",
     "output_type": "stream",
     "text": [
      "Training: 100%|██████████| 9/9 [00:01<00:00,  8.02it/s]\n"
     ]
    },
    {
     "name": "stdout",
     "output_type": "stream",
     "text": [
      "Epoch Loss: 0.2759, Accuracy: 0.9293\n"
     ]
    },
    {
     "name": "stderr",
     "output_type": "stream",
     "text": [
      "Validating: 100%|██████████| 2/2 [00:00<00:00,  3.82it/s]\n"
     ]
    },
    {
     "name": "stdout",
     "output_type": "stream",
     "text": [
      "  Train Loss: 0.2759 | Train Acc: 0.9293\n",
      "  Val Loss:   1.6114 | Val Acc:   0.1569\n",
      "  Epoch Duration: 1.65 seconds\n",
      "\n",
      "--- Fold 3, Epoch 7/100 ---\n"
     ]
    },
    {
     "name": "stderr",
     "output_type": "stream",
     "text": [
      "Training: 100%|██████████| 9/9 [00:01<00:00,  7.46it/s]\n"
     ]
    },
    {
     "name": "stdout",
     "output_type": "stream",
     "text": [
      "Epoch Loss: 0.1587, Accuracy: 0.9647\n"
     ]
    },
    {
     "name": "stderr",
     "output_type": "stream",
     "text": [
      "Validating: 100%|██████████| 2/2 [00:00<00:00,  4.12it/s]\n"
     ]
    },
    {
     "name": "stdout",
     "output_type": "stream",
     "text": [
      "  Train Loss: 0.1587 | Train Acc: 0.9647\n",
      "  Val Loss:   1.6227 | Val Acc:   0.1569\n",
      "  Epoch Duration: 1.70 seconds\n",
      "\n",
      "--- Fold 3, Epoch 8/100 ---\n"
     ]
    },
    {
     "name": "stderr",
     "output_type": "stream",
     "text": [
      "Training: 100%|██████████| 9/9 [00:01<00:00,  7.98it/s]\n"
     ]
    },
    {
     "name": "stdout",
     "output_type": "stream",
     "text": [
      "Epoch Loss: 0.1039, Accuracy: 0.9859\n"
     ]
    },
    {
     "name": "stderr",
     "output_type": "stream",
     "text": [
      "Validating: 100%|██████████| 2/2 [00:00<00:00,  4.31it/s]\n"
     ]
    },
    {
     "name": "stdout",
     "output_type": "stream",
     "text": [
      "  Train Loss: 0.1039 | Train Acc: 0.9859\n",
      "  Val Loss:   1.6265 | Val Acc:   0.1569\n",
      "  Epoch Duration: 1.60 seconds\n",
      "\n",
      "--- Fold 3, Epoch 9/100 ---\n"
     ]
    },
    {
     "name": "stderr",
     "output_type": "stream",
     "text": [
      "Training: 100%|██████████| 9/9 [00:01<00:00,  7.33it/s]\n"
     ]
    },
    {
     "name": "stdout",
     "output_type": "stream",
     "text": [
      "Epoch Loss: 0.0946, Accuracy: 0.9823\n"
     ]
    },
    {
     "name": "stderr",
     "output_type": "stream",
     "text": [
      "Validating: 100%|██████████| 2/2 [00:00<00:00,  4.17it/s]\n"
     ]
    },
    {
     "name": "stdout",
     "output_type": "stream",
     "text": [
      "  Train Loss: 0.0946 | Train Acc: 0.9823\n",
      "  Val Loss:   1.7073 | Val Acc:   0.1569\n",
      "  Epoch Duration: 1.71 seconds\n",
      "\n",
      "--- Fold 3, Epoch 10/100 ---\n"
     ]
    },
    {
     "name": "stderr",
     "output_type": "stream",
     "text": [
      "Training: 100%|██████████| 9/9 [00:01<00:00,  8.12it/s]\n"
     ]
    },
    {
     "name": "stdout",
     "output_type": "stream",
     "text": [
      "Epoch Loss: 0.0908, Accuracy: 0.9753\n"
     ]
    },
    {
     "name": "stderr",
     "output_type": "stream",
     "text": [
      "Validating: 100%|██████████| 2/2 [00:00<00:00,  4.04it/s]\n"
     ]
    },
    {
     "name": "stdout",
     "output_type": "stream",
     "text": [
      "  Train Loss: 0.0908 | Train Acc: 0.9753\n",
      "  Val Loss:   1.6906 | Val Acc:   0.0784\n",
      "  Epoch Duration: 1.61 seconds\n",
      "\n",
      "--- Fold 3, Epoch 11/100 ---\n"
     ]
    },
    {
     "name": "stderr",
     "output_type": "stream",
     "text": [
      "Training: 100%|██████████| 9/9 [00:01<00:00,  7.42it/s]\n"
     ]
    },
    {
     "name": "stdout",
     "output_type": "stream",
     "text": [
      "Epoch Loss: 0.0577, Accuracy: 0.9894\n"
     ]
    },
    {
     "name": "stderr",
     "output_type": "stream",
     "text": [
      "Validating: 100%|██████████| 2/2 [00:00<00:00,  4.24it/s]\n"
     ]
    },
    {
     "name": "stdout",
     "output_type": "stream",
     "text": [
      "  Train Loss: 0.0577 | Train Acc: 0.9894\n",
      "  Val Loss:   1.6711 | Val Acc:   0.1765\n",
      "  Epoch Duration: 1.69 seconds\n",
      "\n",
      "--- Fold 3, Epoch 12/100 ---\n"
     ]
    },
    {
     "name": "stderr",
     "output_type": "stream",
     "text": [
      "Training: 100%|██████████| 9/9 [00:01<00:00,  7.98it/s]\n"
     ]
    },
    {
     "name": "stdout",
     "output_type": "stream",
     "text": [
      "Epoch Loss: 0.0781, Accuracy: 0.9788\n"
     ]
    },
    {
     "name": "stderr",
     "output_type": "stream",
     "text": [
      "Validating: 100%|██████████| 2/2 [00:00<00:00,  3.95it/s]\n"
     ]
    },
    {
     "name": "stdout",
     "output_type": "stream",
     "text": [
      "  Train Loss: 0.0781 | Train Acc: 0.9788\n",
      "  Val Loss:   1.6260 | Val Acc:   0.2941\n",
      "  Epoch Duration: 1.64 seconds\n",
      "\n",
      "--- Fold 3, Epoch 13/100 ---\n"
     ]
    },
    {
     "name": "stderr",
     "output_type": "stream",
     "text": [
      "Training: 100%|██████████| 9/9 [00:01<00:00,  7.29it/s]\n"
     ]
    },
    {
     "name": "stdout",
     "output_type": "stream",
     "text": [
      "Epoch Loss: 0.0275, Accuracy: 0.9965\n"
     ]
    },
    {
     "name": "stderr",
     "output_type": "stream",
     "text": [
      "Validating: 100%|██████████| 2/2 [00:00<00:00,  4.10it/s]\n"
     ]
    },
    {
     "name": "stdout",
     "output_type": "stream",
     "text": [
      "  Train Loss: 0.0275 | Train Acc: 0.9965\n",
      "  Val Loss:   2.2053 | Val Acc:   0.3725\n",
      "  Epoch Duration: 1.73 seconds\n",
      "\n",
      "--- Fold 3, Epoch 14/100 ---\n"
     ]
    },
    {
     "name": "stderr",
     "output_type": "stream",
     "text": [
      "Training: 100%|██████████| 9/9 [00:01<00:00,  7.93it/s]\n"
     ]
    },
    {
     "name": "stdout",
     "output_type": "stream",
     "text": [
      "Epoch Loss: 0.0199, Accuracy: 0.9965\n"
     ]
    },
    {
     "name": "stderr",
     "output_type": "stream",
     "text": [
      "Validating: 100%|██████████| 2/2 [00:00<00:00,  4.23it/s]\n"
     ]
    },
    {
     "name": "stdout",
     "output_type": "stream",
     "text": [
      "  Train Loss: 0.0199 | Train Acc: 0.9965\n",
      "  Val Loss:   2.4143 | Val Acc:   0.3529\n",
      "  Epoch Duration: 1.62 seconds\n",
      "\n",
      "--- Fold 3, Epoch 15/100 ---\n"
     ]
    },
    {
     "name": "stderr",
     "output_type": "stream",
     "text": [
      "Training: 100%|██████████| 9/9 [00:01<00:00,  7.38it/s]\n"
     ]
    },
    {
     "name": "stdout",
     "output_type": "stream",
     "text": [
      "Epoch Loss: 0.0112, Accuracy: 1.0000\n"
     ]
    },
    {
     "name": "stderr",
     "output_type": "stream",
     "text": [
      "Validating: 100%|██████████| 2/2 [00:00<00:00,  4.09it/s]\n"
     ]
    },
    {
     "name": "stdout",
     "output_type": "stream",
     "text": [
      "  Train Loss: 0.0112 | Train Acc: 1.0000\n",
      "  Val Loss:   2.5753 | Val Acc:   0.2941\n",
      "  Epoch Duration: 1.72 seconds\n",
      "  Early stopping at epoch 15.\n",
      "\n",
      "--- Fold 3 Final Evaluation ---\n",
      "Loading best model for fold 3 (achieved 0.3725 on inner val set).\n"
     ]
    },
    {
     "name": "stderr",
     "output_type": "stream",
     "text": [
      "Validating: 100%|██████████| 6/6 [00:00<00:00,  9.17it/s]"
     ]
    },
    {
     "name": "stdout",
     "output_type": "stream",
     "text": [
      "Performance of best model on the OUTER TEST SET for fold 3: 0.2831\n",
      "\n",
      "============================== FINAL UNBIASED PERFORMANCE SUMMARY ==============================\n",
      "Unbiased test accuracies from each fold: ['0.3952', '0.3413', '0.2831']\n",
      "Average Test Accuracy from CV: 0.3399\n",
      "Standard Deviation of Test Accuracy from CV: 0.0458\n",
      "-> Estimated Generalization Performance: 0.3399 ± 0.0458\n",
      "\n",
      "Cross-validation finished.\n",
      "To view TensorBoard logs, run the following command in your terminal:\n",
      "tensorboard --logdir runs/O3_5-MSRGNN\n"
     ]
    },
    {
     "name": "stderr",
     "output_type": "stream",
     "text": [
      "\n"
     ]
    }
   ],
   "source": [
    "from sklearn.model_selection import train_test_split\n",
    "VAL_SPLIT_SIZE = 0.15\n",
    "\n",
    "# ==============================================================================\n",
    "# 2. DATASET & FOLD SETUP\n",
    "# ==============================================================================\n",
    "print(f\"Total data for cross-validation: {len(full_dataset)} samples.\")\n",
    "\n",
    "kfold = KFold(n_splits=N_SPLITS, shuffle=True, random_state=42)\n",
    "fold_test_results = []\n",
    "\n",
    "# ==============================================================================\n",
    "# 3. CROSS-VALIDATION LOOP\n",
    "# ==============================================================================\n",
    "for fold, (train_outer_idx, test_outer_idx) in enumerate(kfold.split(np.zeros(len(full_dataset)))):\n",
    "    print(f\"\\n{'='*30} OUTER FOLD {fold+1}/{N_SPLITS} {'='*30}\")\n",
    "\n",
    "    SAVED_MODELS_PATH = f\"./saved_models/{MODEL_FOLDER_NAME}/\"\n",
    "\n",
    "    if not os.path.exists(SAVED_MODELS_PATH):\n",
    "        os.makedirs(SAVED_MODELS_PATH)\n",
    "    writer = SummaryWriter(log_dir=f'runs/{MODEL_FOLDER_NAME}/fold_{fold+1}')\n",
    "\n",
    "    inner_train_idx, inner_val_idx = train_test_split(\n",
    "        train_outer_idx,\n",
    "        test_size=VAL_SPLIT_SIZE,\n",
    "        shuffle=True,\n",
    "        random_state=42\n",
    "    )\n",
    "\n",
    "    inner_train_subset = Subset(full_dataset, inner_train_idx)\n",
    "    inner_val_subset = Subset(full_dataset, inner_val_idx)\n",
    "    outer_test_subset = Subset(full_dataset, test_outer_idx)\n",
    "\n",
    "    train_loader = DataLoader(inner_train_subset, batch_size=BATCH_SIZE, shuffle=True, num_workers=4, pin_memory=True)\n",
    "    val_loader = DataLoader(inner_val_subset, batch_size=BATCH_SIZE, shuffle=False, num_workers=4, pin_memory=True)\n",
    "    test_loader = DataLoader(outer_test_subset, batch_size=BATCH_SIZE, shuffle=False, num_workers=4, pin_memory=True)\n",
    "\n",
    "    model = OddOneOutMSRGNN(**model_params).to(DEVICE)\n",
    "    optimizer = torch.optim.AdamW(model.parameters(), lr=LEARNING_RATE, weight_decay=WEIGHT_DECAY)\n",
    "    criterion = nn.CrossEntropyLoss()\n",
    "    scaler = None\n",
    "    scheduler = torch.optim.lr_scheduler.CosineAnnealingLR(optimizer, T_max=EPOCHS, eta_min=1e-6)\n",
    "\n",
    "    total_params = sum(p.numel() for p in model.parameters() if p.requires_grad)\n",
    "    print(f\"Fold {fold+1} Model has {total_params:,} trainable parameters.\")\n",
    "    print(f\"Fold {fold+1} Training on {len(inner_train_subset)}, Validating on {len(inner_val_subset)}, Testing on {len(outer_test_subset)}.\")\n",
    "\n",
    "    best_model_path = f\"{SAVED_MODELS_PATH}/best_model_fold_{fold+1}.pth\"\n",
    "    best_val_acc_fold = 0.0\n",
    "    epochs_without_improvement = 0\n",
    "\n",
    "    for epoch in range(1, EPOCHS + 1):\n",
    "        epoch_start_time = time.time()\n",
    "        \n",
    "        print(f\"\\n--- Fold {fold+1}, Epoch {epoch}/{EPOCHS} ---\")\n",
    "        train_loss, train_acc = train_epoch(model, train_loader, optimizer, criterion, DEVICE)\n",
    "        val_loss, val_acc = validate(model, val_loader, criterion, DEVICE)\n",
    "\n",
    "        scheduler.step()\n",
    "\n",
    "        epoch_duration = time.time() - epoch_start_time\n",
    "\n",
    "        print(f\"  Train Loss: {train_loss:.4f} | Train Acc: {train_acc:.4f}\")\n",
    "        print(f\"  Val Loss:   {val_loss:.4f} | Val Acc:   {val_acc:.4f}\")\n",
    "        print(f\"  Epoch Duration: {epoch_duration:.2f} seconds\")\n",
    "        \n",
    "        writer.add_scalar('Loss/train', train_loss, epoch)\n",
    "        writer.add_scalar('Accuracy/train', train_acc, epoch)\n",
    "        writer.add_scalar('Loss/val', val_loss, epoch)\n",
    "        writer.add_scalar('Accuracy/val', val_acc, epoch)\n",
    "        writer.add_scalar('Performance/seconds_per_epoch', epoch_duration, epoch)\n",
    "        writer.add_scalar('Learning_Rate', optimizer.param_groups[0]['lr'], epoch)\n",
    "\n",
    "        if val_acc > best_val_acc_fold:\n",
    "            best_val_acc_fold = val_acc\n",
    "            epochs_without_improvement = 0\n",
    "            torch.save(model.state_dict(), best_model_path)\n",
    "            print(f\"  -> New best inner validation accuracy: {best_val_acc_fold:.4f}. Model state saved.\")\n",
    "        else:\n",
    "            epochs_without_improvement += 1\n",
    "            if epochs_without_improvement >= PATIENCE:\n",
    "                print(f\"  Early stopping at epoch {epoch}.\")\n",
    "                break\n",
    "    \n",
    "    print(f\"\\n--- Fold {fold+1} Final Evaluation ---\")\n",
    "    print(f\"Loading best model for fold {fold+1} (achieved {best_val_acc_fold:.4f} on inner val set).\")\n",
    "    # Load the best model weights identified during the inner loop\n",
    "    model.load_state_dict(torch.load(best_model_path))\n",
    "    \n",
    "    # Evaluate this best model on the completely unseen outer test set\n",
    "    _, final_fold_test_acc = validate(model, test_loader, criterion, DEVICE)\n",
    "    print(f\"Performance of best model on the OUTER TEST SET for fold {fold+1}: {final_fold_test_acc:.4f}\")\n",
    "\n",
    "    fold_test_results.append(final_fold_test_acc)\n",
    "    writer.add_scalar('Accuracy/test', final_fold_test_acc)\n",
    "\n",
    "    hparams = { 'learning_rate': LEARNING_RATE, 'batch_size': BATCH_SIZE, **model_params }\n",
    "    final_metrics = {\n",
    "        'hparam/test_accuracy': final_fold_test_acc,\n",
    "        'hparam/best_inner_val_accuracy': best_val_acc_fold\n",
    "    }\n",
    "    writer.add_hparams(hparams, final_metrics)\n",
    "    writer.close()\n",
    "\n",
    "# ==============================================================================\n",
    "# 4. AGGREGATE AND REPORT CV RESULTS\n",
    "# ==============================================================================\n",
    "mean_test_acc = np.mean(fold_test_results)\n",
    "std_test_acc = np.std(fold_test_results)\n",
    "\n",
    "print(f\"\\n{'='*30} FINAL UNBIASED PERFORMANCE SUMMARY {'='*30}\")\n",
    "print(f\"Unbiased test accuracies from each fold: {[f'{acc:.4f}' for acc in fold_test_results]}\")\n",
    "print(f\"Average Test Accuracy from CV: {mean_test_acc:.4f}\")\n",
    "print(f\"Standard Deviation of Test Accuracy from CV: {std_test_acc:.4f}\")\n",
    "print(f\"-> Estimated Generalization Performance: {mean_test_acc:.4f} \\u00B1 {std_test_acc:.4f}\")\n",
    "\n",
    "print(\"\\nCross-validation finished.\")\n",
    "print(\"To view TensorBoard logs, run the following command in your terminal:\")\n",
    "print(f\"tensorboard --logdir runs/{MODEL_FOLDER_NAME}\")"
   ]
  },
  {
   "cell_type": "code",
   "execution_count": 29,
   "id": "3a8fc429",
   "metadata": {},
   "outputs": [],
   "source": [
    "def load_partial_state_dict(model_to_load: nn.Module, pretrained_path: str):\n",
    "    \"\"\"\n",
    "    Loads weights from a pretrained model, skipping layers with mismatched shapes.\n",
    "\n",
    "    Args:\n",
    "        model_to_load (nn.Module): The model instance to load weights INTO.\n",
    "        pretrained_path (str): The path to the .pt or .pth file of the pretrained model.\n",
    "    \"\"\"\n",
    "    print(f\"Loading pretrained weights from: {pretrained_path}\")\n",
    "    \n",
    "    pretrained_dict = torch.load(pretrained_path, map_location=torch.device('cpu'))\n",
    "\n",
    "    if 'model_state_dict' in pretrained_dict:\n",
    "        pretrained_dict = pretrained_dict['model_state_dict']\n",
    "    elif 'model' in pretrained_dict and isinstance(pretrained_dict['model'], dict):\n",
    "        pretrained_dict = pretrained_dict['model']\n",
    "        \n",
    "    model_dict = model_to_load.state_dict()\n",
    "\n",
    "    # 1. Filter out unnecessary keys and weights with mismatched shapes\n",
    "    # We create a new dictionary that only contains the weights we can actually use\n",
    "    filtered_dict = {}\n",
    "    initialized_layers = []\n",
    "    skipped_layers = []\n",
    "\n",
    "    for key, param in pretrained_dict.items():\n",
    "        if key in model_dict:\n",
    "            # Check if the shape of the weights match\n",
    "            if param.shape == model_dict[key].shape:\n",
    "                filtered_dict[key] = param\n",
    "                initialized_layers.append(key)\n",
    "            else:\n",
    "                # Key exists, but shapes are different. This is the main case we want to handle.\n",
    "                reason = f\"Shape Mismatch. Pretrained: {param.shape}, Model: {model_dict[key].shape}\"\n",
    "                skipped_layers.append((key, reason))\n",
    "        else:\n",
    "            # The key from the pretrained model doesn't exist in the new model\n",
    "            skipped_layers.append((key, \"Key Not Found in Model\"))\n",
    "\n",
    "    # 2. Overwrite the entries in the model's state dict with the filtered weights\n",
    "    model_dict.update(filtered_dict)\n",
    "\n",
    "    # 3. Load the updated state dict into the model.\n",
    "    # Since we've filtered it, we can be strict here.\n",
    "    model_to_load.load_state_dict(model_dict)\n",
    "\n",
    "    print(\"\\n--- Transfer Learning Report ---\")\n",
    "    print(f\"Successfully loaded {len(initialized_layers)} / {len(model_dict)} layers.\")\n",
    "    if initialized_layers and len(initialized_layers) < 10:\n",
    "        print(\"Loaded layers:\")\n",
    "        for layer in initialized_layers:\n",
    "            print(f\"  - {layer}\")\n",
    "    \n",
    "    if skipped_layers:\n",
    "        print(f\"\\nSkipped {len(skipped_layers)} layers:\")\n",
    "        for key, reason in skipped_layers:\n",
    "            print(f\"  - {key} ({reason})\")\n",
    "    print(\"--------------------------------\\n\")\n",
    "    \n",
    "    return model_to_load"
   ]
  },
  {
   "cell_type": "markdown",
   "id": "249b7b7c",
   "metadata": {},
   "source": [
    "# I-RAVEN to O3 TL"
   ]
  },
  {
   "cell_type": "code",
   "execution_count": 30,
   "id": "1f0d78e0",
   "metadata": {},
   "outputs": [
    {
     "name": "stdout",
     "output_type": "stream",
     "text": [
      "Total data for cross-validation: 500 samples.\n",
      "\n",
      "============================== OUTER FOLD 1/3 ==============================\n",
      "Loading pretrained weights from: ../I_RAVEN/saved_models/best_model_msrgnn.pth\n",
      "\n",
      "--- Transfer Learning Report ---\n",
      "Successfully loaded 138 / 140 layers.\n",
      "\n",
      "Skipped 2 layers:\n",
      "  - template_edge_index (Shape Mismatch. Pretrained: torch.Size([2, 36]), Model: torch.Size([2, 12]))\n",
      "  - reasoner.panel_pos_emb.weight (Shape Mismatch. Pretrained: torch.Size([9, 128]), Model: torch.Size([4, 128]))\n",
      "--------------------------------\n",
      "\n",
      "Fold 1 Model has 4,804,547 trainable parameters.\n",
      "Fold 1 Training on 283, Validating on 50, Testing on 167.\n",
      "\n",
      "--- Fold 1, Epoch 1/100 ---\n"
     ]
    },
    {
     "name": "stderr",
     "output_type": "stream",
     "text": [
      "Training: 100%|██████████| 9/9 [00:01<00:00,  7.98it/s]\n"
     ]
    },
    {
     "name": "stdout",
     "output_type": "stream",
     "text": [
      "Epoch Loss: 1.4550, Accuracy: 0.4841\n"
     ]
    },
    {
     "name": "stderr",
     "output_type": "stream",
     "text": [
      "Validating: 100%|██████████| 2/2 [00:00<00:00,  4.28it/s]\n"
     ]
    },
    {
     "name": "stdout",
     "output_type": "stream",
     "text": [
      "  Train Loss: 1.4550 | Train Acc: 0.4841\n",
      "  Val Loss:   1.6072 | Val Acc:   0.3200\n",
      "  Epoch Duration: 1.60 seconds\n",
      "  -> New best inner validation accuracy: 0.3200. Model state saved.\n",
      "\n",
      "--- Fold 1, Epoch 2/100 ---\n"
     ]
    },
    {
     "name": "stderr",
     "output_type": "stream",
     "text": [
      "Training: 100%|██████████| 9/9 [00:01<00:00,  7.24it/s]\n"
     ]
    },
    {
     "name": "stdout",
     "output_type": "stream",
     "text": [
      "Epoch Loss: 0.6458, Accuracy: 0.7809\n"
     ]
    },
    {
     "name": "stderr",
     "output_type": "stream",
     "text": [
      "Validating: 100%|██████████| 2/2 [00:00<00:00,  4.03it/s]\n"
     ]
    },
    {
     "name": "stdout",
     "output_type": "stream",
     "text": [
      "  Train Loss: 0.6458 | Train Acc: 0.7809\n",
      "  Val Loss:   1.6029 | Val Acc:   0.2600\n",
      "  Epoch Duration: 1.74 seconds\n",
      "\n",
      "--- Fold 1, Epoch 3/100 ---\n"
     ]
    },
    {
     "name": "stderr",
     "output_type": "stream",
     "text": [
      "Training:   0%|          | 0/9 [00:00<?, ?it/s]"
     ]
    },
    {
     "name": "stderr",
     "output_type": "stream",
     "text": [
      "Training: 100%|██████████| 9/9 [00:01<00:00,  6.90it/s]\n"
     ]
    },
    {
     "name": "stdout",
     "output_type": "stream",
     "text": [
      "Epoch Loss: 0.3078, Accuracy: 0.9223\n"
     ]
    },
    {
     "name": "stderr",
     "output_type": "stream",
     "text": [
      "Validating: 100%|██████████| 2/2 [00:00<00:00,  3.90it/s]\n"
     ]
    },
    {
     "name": "stdout",
     "output_type": "stream",
     "text": [
      "  Train Loss: 0.3078 | Train Acc: 0.9223\n",
      "  Val Loss:   1.5969 | Val Acc:   0.3600\n",
      "  Epoch Duration: 1.82 seconds\n",
      "  -> New best inner validation accuracy: 0.3600. Model state saved.\n",
      "\n",
      "--- Fold 1, Epoch 4/100 ---\n"
     ]
    },
    {
     "name": "stderr",
     "output_type": "stream",
     "text": [
      "Training: 100%|██████████| 9/9 [00:01<00:00,  7.74it/s]\n"
     ]
    },
    {
     "name": "stdout",
     "output_type": "stream",
     "text": [
      "Epoch Loss: 0.1465, Accuracy: 0.9753\n"
     ]
    },
    {
     "name": "stderr",
     "output_type": "stream",
     "text": [
      "Validating: 100%|██████████| 2/2 [00:00<00:00,  4.15it/s]\n"
     ]
    },
    {
     "name": "stdout",
     "output_type": "stream",
     "text": [
      "  Train Loss: 0.1465 | Train Acc: 0.9753\n",
      "  Val Loss:   1.5992 | Val Acc:   0.2200\n",
      "  Epoch Duration: 1.65 seconds\n",
      "\n",
      "--- Fold 1, Epoch 5/100 ---\n"
     ]
    },
    {
     "name": "stderr",
     "output_type": "stream",
     "text": [
      "Training: 100%|██████████| 9/9 [00:01<00:00,  7.28it/s]\n"
     ]
    },
    {
     "name": "stdout",
     "output_type": "stream",
     "text": [
      "Epoch Loss: 0.0631, Accuracy: 0.9894\n"
     ]
    },
    {
     "name": "stderr",
     "output_type": "stream",
     "text": [
      "Validating: 100%|██████████| 2/2 [00:00<00:00,  3.79it/s]\n"
     ]
    },
    {
     "name": "stdout",
     "output_type": "stream",
     "text": [
      "  Train Loss: 0.0631 | Train Acc: 0.9894\n",
      "  Val Loss:   1.6074 | Val Acc:   0.2800\n",
      "  Epoch Duration: 1.77 seconds\n",
      "\n",
      "--- Fold 1, Epoch 6/100 ---\n"
     ]
    },
    {
     "name": "stderr",
     "output_type": "stream",
     "text": [
      "Training: 100%|██████████| 9/9 [00:01<00:00,  7.39it/s]\n"
     ]
    },
    {
     "name": "stdout",
     "output_type": "stream",
     "text": [
      "Epoch Loss: 0.0244, Accuracy: 0.9965\n"
     ]
    },
    {
     "name": "stderr",
     "output_type": "stream",
     "text": [
      "Validating: 100%|██████████| 2/2 [00:00<00:00,  4.18it/s]\n"
     ]
    },
    {
     "name": "stdout",
     "output_type": "stream",
     "text": [
      "  Train Loss: 0.0244 | Train Acc: 0.9965\n",
      "  Val Loss:   2.1223 | Val Acc:   0.3000\n",
      "  Epoch Duration: 1.70 seconds\n",
      "\n",
      "--- Fold 1, Epoch 7/100 ---\n"
     ]
    },
    {
     "name": "stderr",
     "output_type": "stream",
     "text": [
      "Training: 100%|██████████| 9/9 [00:01<00:00,  7.88it/s]\n"
     ]
    },
    {
     "name": "stdout",
     "output_type": "stream",
     "text": [
      "Epoch Loss: 0.0105, Accuracy: 1.0000\n"
     ]
    },
    {
     "name": "stderr",
     "output_type": "stream",
     "text": [
      "Validating: 100%|██████████| 2/2 [00:00<00:00,  4.01it/s]\n"
     ]
    },
    {
     "name": "stdout",
     "output_type": "stream",
     "text": [
      "  Train Loss: 0.0105 | Train Acc: 1.0000\n",
      "  Val Loss:   1.8141 | Val Acc:   0.4600\n",
      "  Epoch Duration: 1.65 seconds\n",
      "  -> New best inner validation accuracy: 0.4600. Model state saved.\n",
      "\n",
      "--- Fold 1, Epoch 8/100 ---\n"
     ]
    },
    {
     "name": "stderr",
     "output_type": "stream",
     "text": [
      "Training: 100%|██████████| 9/9 [00:01<00:00,  7.42it/s]\n"
     ]
    },
    {
     "name": "stdout",
     "output_type": "stream",
     "text": [
      "Epoch Loss: 0.0036, Accuracy: 1.0000\n"
     ]
    },
    {
     "name": "stderr",
     "output_type": "stream",
     "text": [
      "Validating: 100%|██████████| 2/2 [00:00<00:00,  4.15it/s]\n"
     ]
    },
    {
     "name": "stdout",
     "output_type": "stream",
     "text": [
      "  Train Loss: 0.0036 | Train Acc: 1.0000\n",
      "  Val Loss:   1.9251 | Val Acc:   0.4200\n",
      "  Epoch Duration: 1.70 seconds\n",
      "\n",
      "--- Fold 1, Epoch 9/100 ---\n"
     ]
    },
    {
     "name": "stderr",
     "output_type": "stream",
     "text": [
      "Training: 100%|██████████| 9/9 [00:01<00:00,  8.01it/s]\n"
     ]
    },
    {
     "name": "stdout",
     "output_type": "stream",
     "text": [
      "Epoch Loss: 0.0016, Accuracy: 1.0000\n"
     ]
    },
    {
     "name": "stderr",
     "output_type": "stream",
     "text": [
      "Validating: 100%|██████████| 2/2 [00:00<00:00,  4.24it/s]\n"
     ]
    },
    {
     "name": "stdout",
     "output_type": "stream",
     "text": [
      "  Train Loss: 0.0016 | Train Acc: 1.0000\n",
      "  Val Loss:   3.0454 | Val Acc:   0.5000\n",
      "  Epoch Duration: 1.60 seconds\n",
      "  -> New best inner validation accuracy: 0.5000. Model state saved.\n",
      "\n",
      "--- Fold 1, Epoch 10/100 ---\n"
     ]
    },
    {
     "name": "stderr",
     "output_type": "stream",
     "text": [
      "Training: 100%|██████████| 9/9 [00:01<00:00,  7.11it/s]\n"
     ]
    },
    {
     "name": "stdout",
     "output_type": "stream",
     "text": [
      "Epoch Loss: 0.0011, Accuracy: 1.0000\n"
     ]
    },
    {
     "name": "stderr",
     "output_type": "stream",
     "text": [
      "Validating: 100%|██████████| 2/2 [00:00<00:00,  4.08it/s]\n"
     ]
    },
    {
     "name": "stdout",
     "output_type": "stream",
     "text": [
      "  Train Loss: 0.0011 | Train Acc: 1.0000\n",
      "  Val Loss:   1.9935 | Val Acc:   0.5200\n",
      "  Epoch Duration: 1.76 seconds\n",
      "  -> New best inner validation accuracy: 0.5200. Model state saved.\n",
      "\n",
      "--- Fold 1, Epoch 11/100 ---\n"
     ]
    },
    {
     "name": "stderr",
     "output_type": "stream",
     "text": [
      "Training: 100%|██████████| 9/9 [00:01<00:00,  8.73it/s]\n"
     ]
    },
    {
     "name": "stdout",
     "output_type": "stream",
     "text": [
      "Epoch Loss: 0.0007, Accuracy: 1.0000\n"
     ]
    },
    {
     "name": "stderr",
     "output_type": "stream",
     "text": [
      "Validating: 100%|██████████| 2/2 [00:00<00:00,  3.88it/s]\n"
     ]
    },
    {
     "name": "stdout",
     "output_type": "stream",
     "text": [
      "  Train Loss: 0.0007 | Train Acc: 1.0000\n",
      "  Val Loss:   1.4956 | Val Acc:   0.7000\n",
      "  Epoch Duration: 1.55 seconds\n",
      "  -> New best inner validation accuracy: 0.7000. Model state saved.\n",
      "\n",
      "--- Fold 1, Epoch 12/100 ---\n"
     ]
    },
    {
     "name": "stderr",
     "output_type": "stream",
     "text": [
      "Training: 100%|██████████| 9/9 [00:01<00:00,  7.86it/s]\n"
     ]
    },
    {
     "name": "stdout",
     "output_type": "stream",
     "text": [
      "Epoch Loss: 0.0005, Accuracy: 1.0000\n"
     ]
    },
    {
     "name": "stderr",
     "output_type": "stream",
     "text": [
      "Validating: 100%|██████████| 2/2 [00:00<00:00,  4.03it/s]\n"
     ]
    },
    {
     "name": "stdout",
     "output_type": "stream",
     "text": [
      "  Train Loss: 0.0005 | Train Acc: 1.0000\n",
      "  Val Loss:   1.3510 | Val Acc:   0.7200\n",
      "  Epoch Duration: 1.65 seconds\n",
      "  -> New best inner validation accuracy: 0.7200. Model state saved.\n",
      "\n",
      "--- Fold 1, Epoch 13/100 ---\n"
     ]
    },
    {
     "name": "stderr",
     "output_type": "stream",
     "text": [
      "Training: 100%|██████████| 9/9 [00:01<00:00,  7.70it/s]\n"
     ]
    },
    {
     "name": "stdout",
     "output_type": "stream",
     "text": [
      "Epoch Loss: 0.0004, Accuracy: 1.0000\n"
     ]
    },
    {
     "name": "stderr",
     "output_type": "stream",
     "text": [
      "Validating: 100%|██████████| 2/2 [00:00<00:00,  3.89it/s]\n"
     ]
    },
    {
     "name": "stdout",
     "output_type": "stream",
     "text": [
      "  Train Loss: 0.0004 | Train Acc: 1.0000\n",
      "  Val Loss:   1.2992 | Val Acc:   0.7000\n",
      "  Epoch Duration: 1.69 seconds\n",
      "\n",
      "--- Fold 1, Epoch 14/100 ---\n"
     ]
    },
    {
     "name": "stderr",
     "output_type": "stream",
     "text": [
      "Training: 100%|██████████| 9/9 [00:01<00:00,  7.30it/s]\n"
     ]
    },
    {
     "name": "stdout",
     "output_type": "stream",
     "text": [
      "Epoch Loss: 0.0004, Accuracy: 1.0000\n"
     ]
    },
    {
     "name": "stderr",
     "output_type": "stream",
     "text": [
      "Validating: 100%|██████████| 2/2 [00:00<00:00,  4.13it/s]\n"
     ]
    },
    {
     "name": "stdout",
     "output_type": "stream",
     "text": [
      "  Train Loss: 0.0004 | Train Acc: 1.0000\n",
      "  Val Loss:   1.2898 | Val Acc:   0.7000\n",
      "  Epoch Duration: 1.72 seconds\n",
      "\n",
      "--- Fold 1, Epoch 15/100 ---\n"
     ]
    },
    {
     "name": "stderr",
     "output_type": "stream",
     "text": [
      "Training: 100%|██████████| 9/9 [00:01<00:00,  7.76it/s]\n"
     ]
    },
    {
     "name": "stdout",
     "output_type": "stream",
     "text": [
      "Epoch Loss: 0.0003, Accuracy: 1.0000\n"
     ]
    },
    {
     "name": "stderr",
     "output_type": "stream",
     "text": [
      "Validating: 100%|██████████| 2/2 [00:00<00:00,  3.91it/s]\n"
     ]
    },
    {
     "name": "stdout",
     "output_type": "stream",
     "text": [
      "  Train Loss: 0.0003 | Train Acc: 1.0000\n",
      "  Val Loss:   1.2991 | Val Acc:   0.7000\n",
      "  Epoch Duration: 1.68 seconds\n",
      "\n",
      "--- Fold 1, Epoch 16/100 ---\n"
     ]
    },
    {
     "name": "stderr",
     "output_type": "stream",
     "text": [
      "Training: 100%|██████████| 9/9 [00:01<00:00,  7.41it/s]\n"
     ]
    },
    {
     "name": "stdout",
     "output_type": "stream",
     "text": [
      "Epoch Loss: 0.0003, Accuracy: 1.0000\n"
     ]
    },
    {
     "name": "stderr",
     "output_type": "stream",
     "text": [
      "Validating: 100%|██████████| 2/2 [00:00<00:00,  4.02it/s]\n"
     ]
    },
    {
     "name": "stdout",
     "output_type": "stream",
     "text": [
      "  Train Loss: 0.0003 | Train Acc: 1.0000\n",
      "  Val Loss:   1.3026 | Val Acc:   0.7000\n",
      "  Epoch Duration: 1.72 seconds\n",
      "\n",
      "--- Fold 1, Epoch 17/100 ---\n"
     ]
    },
    {
     "name": "stderr",
     "output_type": "stream",
     "text": [
      "Training: 100%|██████████| 9/9 [00:01<00:00,  8.08it/s]\n"
     ]
    },
    {
     "name": "stdout",
     "output_type": "stream",
     "text": [
      "Epoch Loss: 0.0002, Accuracy: 1.0000\n"
     ]
    },
    {
     "name": "stderr",
     "output_type": "stream",
     "text": [
      "Validating: 100%|██████████| 2/2 [00:00<00:00,  3.98it/s]\n"
     ]
    },
    {
     "name": "stdout",
     "output_type": "stream",
     "text": [
      "  Train Loss: 0.0002 | Train Acc: 1.0000\n",
      "  Val Loss:   1.3116 | Val Acc:   0.7000\n",
      "  Epoch Duration: 1.62 seconds\n",
      "\n",
      "--- Fold 1, Epoch 18/100 ---\n"
     ]
    },
    {
     "name": "stderr",
     "output_type": "stream",
     "text": [
      "Training: 100%|██████████| 9/9 [00:01<00:00,  7.38it/s]\n"
     ]
    },
    {
     "name": "stdout",
     "output_type": "stream",
     "text": [
      "Epoch Loss: 0.0002, Accuracy: 1.0000\n"
     ]
    },
    {
     "name": "stderr",
     "output_type": "stream",
     "text": [
      "Validating: 100%|██████████| 2/2 [00:00<00:00,  4.05it/s]\n"
     ]
    },
    {
     "name": "stdout",
     "output_type": "stream",
     "text": [
      "  Train Loss: 0.0002 | Train Acc: 1.0000\n",
      "  Val Loss:   1.3062 | Val Acc:   0.7000\n",
      "  Epoch Duration: 1.72 seconds\n",
      "\n",
      "--- Fold 1, Epoch 19/100 ---\n"
     ]
    },
    {
     "name": "stderr",
     "output_type": "stream",
     "text": [
      "Training: 100%|██████████| 9/9 [00:01<00:00,  8.23it/s]\n"
     ]
    },
    {
     "name": "stdout",
     "output_type": "stream",
     "text": [
      "Epoch Loss: 0.0002, Accuracy: 1.0000\n"
     ]
    },
    {
     "name": "stderr",
     "output_type": "stream",
     "text": [
      "Validating: 100%|██████████| 2/2 [00:00<00:00,  4.07it/s]\n"
     ]
    },
    {
     "name": "stdout",
     "output_type": "stream",
     "text": [
      "  Train Loss: 0.0002 | Train Acc: 1.0000\n",
      "  Val Loss:   1.3109 | Val Acc:   0.7000\n",
      "  Epoch Duration: 1.59 seconds\n",
      "\n",
      "--- Fold 1, Epoch 20/100 ---\n"
     ]
    },
    {
     "name": "stderr",
     "output_type": "stream",
     "text": [
      "Training: 100%|██████████| 9/9 [00:01<00:00,  7.49it/s]\n"
     ]
    },
    {
     "name": "stdout",
     "output_type": "stream",
     "text": [
      "Epoch Loss: 0.0002, Accuracy: 1.0000\n"
     ]
    },
    {
     "name": "stderr",
     "output_type": "stream",
     "text": [
      "Validating: 100%|██████████| 2/2 [00:00<00:00,  4.10it/s]\n"
     ]
    },
    {
     "name": "stdout",
     "output_type": "stream",
     "text": [
      "  Train Loss: 0.0002 | Train Acc: 1.0000\n",
      "  Val Loss:   1.3264 | Val Acc:   0.7000\n",
      "  Epoch Duration: 1.70 seconds\n",
      "\n",
      "--- Fold 1, Epoch 21/100 ---\n"
     ]
    },
    {
     "name": "stderr",
     "output_type": "stream",
     "text": [
      "Training: 100%|██████████| 9/9 [00:01<00:00,  8.06it/s]\n"
     ]
    },
    {
     "name": "stdout",
     "output_type": "stream",
     "text": [
      "Epoch Loss: 0.0002, Accuracy: 1.0000\n"
     ]
    },
    {
     "name": "stderr",
     "output_type": "stream",
     "text": [
      "Validating: 100%|██████████| 2/2 [00:00<00:00,  4.08it/s]\n"
     ]
    },
    {
     "name": "stdout",
     "output_type": "stream",
     "text": [
      "  Train Loss: 0.0002 | Train Acc: 1.0000\n",
      "  Val Loss:   1.3333 | Val Acc:   0.7000\n",
      "  Epoch Duration: 1.61 seconds\n",
      "\n",
      "--- Fold 1, Epoch 22/100 ---\n"
     ]
    },
    {
     "name": "stderr",
     "output_type": "stream",
     "text": [
      "Training: 100%|██████████| 9/9 [00:01<00:00,  7.36it/s]\n"
     ]
    },
    {
     "name": "stdout",
     "output_type": "stream",
     "text": [
      "Epoch Loss: 0.0002, Accuracy: 1.0000\n"
     ]
    },
    {
     "name": "stderr",
     "output_type": "stream",
     "text": [
      "Validating: 100%|██████████| 2/2 [00:00<00:00,  4.15it/s]\n"
     ]
    },
    {
     "name": "stdout",
     "output_type": "stream",
     "text": [
      "  Train Loss: 0.0002 | Train Acc: 1.0000\n",
      "  Val Loss:   1.3365 | Val Acc:   0.7000\n",
      "  Epoch Duration: 1.72 seconds\n",
      "  Early stopping at epoch 22.\n",
      "\n",
      "--- Fold 1 Final Evaluation ---\n",
      "Loading best model for fold 1 (achieved 0.7200 on inner val set).\n"
     ]
    },
    {
     "name": "stderr",
     "output_type": "stream",
     "text": [
      "Validating: 100%|██████████| 6/6 [00:00<00:00,  9.35it/s]\n"
     ]
    },
    {
     "name": "stdout",
     "output_type": "stream",
     "text": [
      "Performance of best model on the OUTER TEST SET for fold 1: 0.6946\n",
      "\n",
      "============================== OUTER FOLD 2/3 ==============================\n",
      "Loading pretrained weights from: ../I_RAVEN/saved_models/best_model_msrgnn.pth\n",
      "\n",
      "--- Transfer Learning Report ---\n",
      "Successfully loaded 138 / 140 layers.\n",
      "\n",
      "Skipped 2 layers:\n",
      "  - template_edge_index (Shape Mismatch. Pretrained: torch.Size([2, 36]), Model: torch.Size([2, 12]))\n",
      "  - reasoner.panel_pos_emb.weight (Shape Mismatch. Pretrained: torch.Size([9, 128]), Model: torch.Size([4, 128]))\n",
      "--------------------------------\n",
      "\n",
      "Fold 2 Model has 4,804,547 trainable parameters.\n",
      "Fold 2 Training on 283, Validating on 50, Testing on 167.\n",
      "\n",
      "--- Fold 2, Epoch 1/100 ---\n"
     ]
    },
    {
     "name": "stderr",
     "output_type": "stream",
     "text": [
      "Training: 100%|██████████| 9/9 [00:01<00:00,  7.06it/s]\n"
     ]
    },
    {
     "name": "stdout",
     "output_type": "stream",
     "text": [
      "Epoch Loss: 1.2300, Accuracy: 0.5583\n"
     ]
    },
    {
     "name": "stderr",
     "output_type": "stream",
     "text": [
      "Validating: 100%|██████████| 2/2 [00:00<00:00,  4.16it/s]\n"
     ]
    },
    {
     "name": "stdout",
     "output_type": "stream",
     "text": [
      "  Train Loss: 1.2300 | Train Acc: 0.5583\n",
      "  Val Loss:   1.6105 | Val Acc:   0.1200\n",
      "  Epoch Duration: 1.76 seconds\n",
      "  -> New best inner validation accuracy: 0.1200. Model state saved.\n",
      "\n",
      "--- Fold 2, Epoch 2/100 ---\n"
     ]
    },
    {
     "name": "stderr",
     "output_type": "stream",
     "text": [
      "Training: 100%|██████████| 9/9 [00:01<00:00,  7.45it/s]\n"
     ]
    },
    {
     "name": "stdout",
     "output_type": "stream",
     "text": [
      "Epoch Loss: 0.6486, Accuracy: 0.7774\n"
     ]
    },
    {
     "name": "stderr",
     "output_type": "stream",
     "text": [
      "Validating: 100%|██████████| 2/2 [00:00<00:00,  4.29it/s]\n"
     ]
    },
    {
     "name": "stdout",
     "output_type": "stream",
     "text": [
      "  Train Loss: 0.6486 | Train Acc: 0.7774\n",
      "  Val Loss:   1.6120 | Val Acc:   0.1800\n",
      "  Epoch Duration: 1.68 seconds\n",
      "  -> New best inner validation accuracy: 0.1800. Model state saved.\n",
      "\n",
      "--- Fold 2, Epoch 3/100 ---\n"
     ]
    },
    {
     "name": "stderr",
     "output_type": "stream",
     "text": [
      "Training: 100%|██████████| 9/9 [00:01<00:00,  7.87it/s]\n"
     ]
    },
    {
     "name": "stdout",
     "output_type": "stream",
     "text": [
      "Epoch Loss: 0.3976, Accuracy: 0.8693\n"
     ]
    },
    {
     "name": "stderr",
     "output_type": "stream",
     "text": [
      "Validating: 100%|██████████| 2/2 [00:00<00:00,  3.94it/s]\n"
     ]
    },
    {
     "name": "stdout",
     "output_type": "stream",
     "text": [
      "  Train Loss: 0.3976 | Train Acc: 0.8693\n",
      "  Val Loss:   1.6099 | Val Acc:   0.1600\n",
      "  Epoch Duration: 1.66 seconds\n",
      "\n",
      "--- Fold 2, Epoch 4/100 ---\n"
     ]
    },
    {
     "name": "stderr",
     "output_type": "stream",
     "text": [
      "Training: 100%|██████████| 9/9 [00:01<00:00,  7.43it/s]\n"
     ]
    },
    {
     "name": "stdout",
     "output_type": "stream",
     "text": [
      "Epoch Loss: 0.2287, Accuracy: 0.9258\n"
     ]
    },
    {
     "name": "stderr",
     "output_type": "stream",
     "text": [
      "Validating: 100%|██████████| 2/2 [00:00<00:00,  4.15it/s]\n"
     ]
    },
    {
     "name": "stdout",
     "output_type": "stream",
     "text": [
      "  Train Loss: 0.2287 | Train Acc: 0.9258\n",
      "  Val Loss:   1.6133 | Val Acc:   0.1800\n",
      "  Epoch Duration: 1.70 seconds\n",
      "\n",
      "--- Fold 2, Epoch 5/100 ---\n"
     ]
    },
    {
     "name": "stderr",
     "output_type": "stream",
     "text": [
      "Training: 100%|██████████| 9/9 [00:01<00:00,  8.02it/s]\n"
     ]
    },
    {
     "name": "stdout",
     "output_type": "stream",
     "text": [
      "Epoch Loss: 0.1141, Accuracy: 0.9788\n"
     ]
    },
    {
     "name": "stderr",
     "output_type": "stream",
     "text": [
      "Validating: 100%|██████████| 2/2 [00:00<00:00,  4.22it/s]\n"
     ]
    },
    {
     "name": "stdout",
     "output_type": "stream",
     "text": [
      "  Train Loss: 0.1141 | Train Acc: 0.9788\n",
      "  Val Loss:   1.7176 | Val Acc:   0.2200\n",
      "  Epoch Duration: 1.60 seconds\n",
      "  -> New best inner validation accuracy: 0.2200. Model state saved.\n",
      "\n",
      "--- Fold 2, Epoch 6/100 ---\n"
     ]
    },
    {
     "name": "stderr",
     "output_type": "stream",
     "text": [
      "Training: 100%|██████████| 9/9 [00:01<00:00,  7.37it/s]\n"
     ]
    },
    {
     "name": "stdout",
     "output_type": "stream",
     "text": [
      "Epoch Loss: 0.0506, Accuracy: 0.9929\n"
     ]
    },
    {
     "name": "stderr",
     "output_type": "stream",
     "text": [
      "Validating: 100%|██████████| 2/2 [00:00<00:00,  4.04it/s]\n"
     ]
    },
    {
     "name": "stdout",
     "output_type": "stream",
     "text": [
      "  Train Loss: 0.0506 | Train Acc: 0.9929\n",
      "  Val Loss:   2.4351 | Val Acc:   0.4800\n",
      "  Epoch Duration: 1.72 seconds\n",
      "  -> New best inner validation accuracy: 0.4800. Model state saved.\n",
      "\n",
      "--- Fold 2, Epoch 7/100 ---\n"
     ]
    },
    {
     "name": "stderr",
     "output_type": "stream",
     "text": [
      "Training: 100%|██████████| 9/9 [00:01<00:00,  7.77it/s]\n"
     ]
    },
    {
     "name": "stdout",
     "output_type": "stream",
     "text": [
      "Epoch Loss: 0.0124, Accuracy: 1.0000\n"
     ]
    },
    {
     "name": "stderr",
     "output_type": "stream",
     "text": [
      "Validating: 100%|██████████| 2/2 [00:00<00:00,  3.47it/s]\n"
     ]
    },
    {
     "name": "stdout",
     "output_type": "stream",
     "text": [
      "  Train Loss: 0.0124 | Train Acc: 1.0000\n",
      "  Val Loss:   3.8585 | Val Acc:   0.4000\n",
      "  Epoch Duration: 1.74 seconds\n",
      "\n",
      "--- Fold 2, Epoch 8/100 ---\n"
     ]
    },
    {
     "name": "stderr",
     "output_type": "stream",
     "text": [
      "Training: 100%|██████████| 9/9 [00:01<00:00,  7.83it/s]\n"
     ]
    },
    {
     "name": "stdout",
     "output_type": "stream",
     "text": [
      "Epoch Loss: 0.0071, Accuracy: 1.0000\n"
     ]
    },
    {
     "name": "stderr",
     "output_type": "stream",
     "text": [
      "Validating: 100%|██████████| 2/2 [00:00<00:00,  4.31it/s]\n"
     ]
    },
    {
     "name": "stdout",
     "output_type": "stream",
     "text": [
      "  Train Loss: 0.0071 | Train Acc: 1.0000\n",
      "  Val Loss:   2.9003 | Val Acc:   0.5000\n",
      "  Epoch Duration: 1.62 seconds\n",
      "  -> New best inner validation accuracy: 0.5000. Model state saved.\n",
      "\n",
      "--- Fold 2, Epoch 9/100 ---\n"
     ]
    },
    {
     "name": "stderr",
     "output_type": "stream",
     "text": [
      "Training: 100%|██████████| 9/9 [00:01<00:00,  7.33it/s]\n"
     ]
    },
    {
     "name": "stdout",
     "output_type": "stream",
     "text": [
      "Epoch Loss: 0.0037, Accuracy: 1.0000\n"
     ]
    },
    {
     "name": "stderr",
     "output_type": "stream",
     "text": [
      "Validating: 100%|██████████| 2/2 [00:00<00:00,  4.00it/s]\n"
     ]
    },
    {
     "name": "stdout",
     "output_type": "stream",
     "text": [
      "  Train Loss: 0.0037 | Train Acc: 1.0000\n",
      "  Val Loss:   3.6204 | Val Acc:   0.5200\n",
      "  Epoch Duration: 1.73 seconds\n",
      "  -> New best inner validation accuracy: 0.5200. Model state saved.\n",
      "\n",
      "--- Fold 2, Epoch 10/100 ---\n"
     ]
    },
    {
     "name": "stderr",
     "output_type": "stream",
     "text": [
      "Training: 100%|██████████| 9/9 [00:01<00:00,  8.18it/s]\n"
     ]
    },
    {
     "name": "stdout",
     "output_type": "stream",
     "text": [
      "Epoch Loss: 0.0026, Accuracy: 1.0000\n"
     ]
    },
    {
     "name": "stderr",
     "output_type": "stream",
     "text": [
      "Validating: 100%|██████████| 2/2 [00:00<00:00,  4.29it/s]\n"
     ]
    },
    {
     "name": "stdout",
     "output_type": "stream",
     "text": [
      "  Train Loss: 0.0026 | Train Acc: 1.0000\n",
      "  Val Loss:   1.8146 | Val Acc:   0.6400\n",
      "  Epoch Duration: 1.57 seconds\n",
      "  -> New best inner validation accuracy: 0.6400. Model state saved.\n",
      "\n",
      "--- Fold 2, Epoch 11/100 ---\n"
     ]
    },
    {
     "name": "stderr",
     "output_type": "stream",
     "text": [
      "Training: 100%|██████████| 9/9 [00:01<00:00,  7.29it/s]\n"
     ]
    },
    {
     "name": "stdout",
     "output_type": "stream",
     "text": [
      "Epoch Loss: 0.0022, Accuracy: 1.0000\n"
     ]
    },
    {
     "name": "stderr",
     "output_type": "stream",
     "text": [
      "Validating: 100%|██████████| 2/2 [00:00<00:00,  4.07it/s]\n"
     ]
    },
    {
     "name": "stdout",
     "output_type": "stream",
     "text": [
      "  Train Loss: 0.0022 | Train Acc: 1.0000\n",
      "  Val Loss:   1.6569 | Val Acc:   0.7200\n",
      "  Epoch Duration: 1.73 seconds\n",
      "  -> New best inner validation accuracy: 0.7200. Model state saved.\n",
      "\n",
      "--- Fold 2, Epoch 12/100 ---\n"
     ]
    },
    {
     "name": "stderr",
     "output_type": "stream",
     "text": [
      "Training: 100%|██████████| 9/9 [00:01<00:00,  8.41it/s]\n"
     ]
    },
    {
     "name": "stdout",
     "output_type": "stream",
     "text": [
      "Epoch Loss: 0.0009, Accuracy: 1.0000\n"
     ]
    },
    {
     "name": "stderr",
     "output_type": "stream",
     "text": [
      "Validating: 100%|██████████| 2/2 [00:00<00:00,  4.29it/s]\n"
     ]
    },
    {
     "name": "stdout",
     "output_type": "stream",
     "text": [
      "  Train Loss: 0.0009 | Train Acc: 1.0000\n",
      "  Val Loss:   1.6373 | Val Acc:   0.7400\n",
      "  Epoch Duration: 1.54 seconds\n",
      "  -> New best inner validation accuracy: 0.7400. Model state saved.\n",
      "\n",
      "--- Fold 2, Epoch 13/100 ---\n"
     ]
    },
    {
     "name": "stderr",
     "output_type": "stream",
     "text": [
      "Training: 100%|██████████| 9/9 [00:01<00:00,  7.29it/s]\n"
     ]
    },
    {
     "name": "stdout",
     "output_type": "stream",
     "text": [
      "Epoch Loss: 0.0010, Accuracy: 1.0000\n"
     ]
    },
    {
     "name": "stderr",
     "output_type": "stream",
     "text": [
      "Validating: 100%|██████████| 2/2 [00:00<00:00,  4.01it/s]\n"
     ]
    },
    {
     "name": "stdout",
     "output_type": "stream",
     "text": [
      "  Train Loss: 0.0010 | Train Acc: 1.0000\n",
      "  Val Loss:   1.4841 | Val Acc:   0.7400\n",
      "  Epoch Duration: 1.74 seconds\n",
      "\n",
      "--- Fold 2, Epoch 14/100 ---\n"
     ]
    },
    {
     "name": "stderr",
     "output_type": "stream",
     "text": [
      "Training: 100%|██████████| 9/9 [00:01<00:00,  8.53it/s]\n"
     ]
    },
    {
     "name": "stdout",
     "output_type": "stream",
     "text": [
      "Epoch Loss: 0.0003, Accuracy: 1.0000\n"
     ]
    },
    {
     "name": "stderr",
     "output_type": "stream",
     "text": [
      "Validating: 100%|██████████| 2/2 [00:00<00:00,  3.63it/s]\n"
     ]
    },
    {
     "name": "stdout",
     "output_type": "stream",
     "text": [
      "  Train Loss: 0.0003 | Train Acc: 1.0000\n",
      "  Val Loss:   1.5541 | Val Acc:   0.7400\n",
      "  Epoch Duration: 1.62 seconds\n",
      "\n",
      "--- Fold 2, Epoch 15/100 ---\n"
     ]
    },
    {
     "name": "stderr",
     "output_type": "stream",
     "text": [
      "Training: 100%|██████████| 9/9 [00:01<00:00,  7.26it/s]\n"
     ]
    },
    {
     "name": "stdout",
     "output_type": "stream",
     "text": [
      "Epoch Loss: 0.0003, Accuracy: 1.0000\n"
     ]
    },
    {
     "name": "stderr",
     "output_type": "stream",
     "text": [
      "Validating: 100%|██████████| 2/2 [00:00<00:00,  4.17it/s]\n"
     ]
    },
    {
     "name": "stdout",
     "output_type": "stream",
     "text": [
      "  Train Loss: 0.0003 | Train Acc: 1.0000\n",
      "  Val Loss:   1.5513 | Val Acc:   0.7400\n",
      "  Epoch Duration: 1.73 seconds\n",
      "\n",
      "--- Fold 2, Epoch 16/100 ---\n"
     ]
    },
    {
     "name": "stderr",
     "output_type": "stream",
     "text": [
      "Training: 100%|██████████| 9/9 [00:01<00:00,  8.14it/s]\n"
     ]
    },
    {
     "name": "stdout",
     "output_type": "stream",
     "text": [
      "Epoch Loss: 0.0002, Accuracy: 1.0000\n"
     ]
    },
    {
     "name": "stderr",
     "output_type": "stream",
     "text": [
      "Validating: 100%|██████████| 2/2 [00:00<00:00,  4.16it/s]\n"
     ]
    },
    {
     "name": "stdout",
     "output_type": "stream",
     "text": [
      "  Train Loss: 0.0002 | Train Acc: 1.0000\n",
      "  Val Loss:   1.5938 | Val Acc:   0.7400\n",
      "  Epoch Duration: 1.59 seconds\n",
      "\n",
      "--- Fold 2, Epoch 17/100 ---\n"
     ]
    },
    {
     "name": "stderr",
     "output_type": "stream",
     "text": [
      "Training: 100%|██████████| 9/9 [00:01<00:00,  7.41it/s]\n"
     ]
    },
    {
     "name": "stdout",
     "output_type": "stream",
     "text": [
      "Epoch Loss: 0.0001, Accuracy: 1.0000\n"
     ]
    },
    {
     "name": "stderr",
     "output_type": "stream",
     "text": [
      "Validating: 100%|██████████| 2/2 [00:00<00:00,  4.05it/s]\n"
     ]
    },
    {
     "name": "stdout",
     "output_type": "stream",
     "text": [
      "  Train Loss: 0.0001 | Train Acc: 1.0000\n",
      "  Val Loss:   1.6245 | Val Acc:   0.7200\n",
      "  Epoch Duration: 1.71 seconds\n",
      "\n",
      "--- Fold 2, Epoch 18/100 ---\n"
     ]
    },
    {
     "name": "stderr",
     "output_type": "stream",
     "text": [
      "Training: 100%|██████████| 9/9 [00:01<00:00,  8.08it/s]\n"
     ]
    },
    {
     "name": "stdout",
     "output_type": "stream",
     "text": [
      "Epoch Loss: 0.0001, Accuracy: 1.0000\n"
     ]
    },
    {
     "name": "stderr",
     "output_type": "stream",
     "text": [
      "Validating: 100%|██████████| 2/2 [00:00<00:00,  4.28it/s]\n"
     ]
    },
    {
     "name": "stdout",
     "output_type": "stream",
     "text": [
      "  Train Loss: 0.0001 | Train Acc: 1.0000\n",
      "  Val Loss:   1.6198 | Val Acc:   0.7200\n",
      "  Epoch Duration: 1.59 seconds\n",
      "\n",
      "--- Fold 2, Epoch 19/100 ---\n"
     ]
    },
    {
     "name": "stderr",
     "output_type": "stream",
     "text": [
      "Training: 100%|██████████| 9/9 [00:01<00:00,  7.57it/s]\n"
     ]
    },
    {
     "name": "stdout",
     "output_type": "stream",
     "text": [
      "Epoch Loss: 0.0001, Accuracy: 1.0000\n"
     ]
    },
    {
     "name": "stderr",
     "output_type": "stream",
     "text": [
      "Validating: 100%|██████████| 2/2 [00:00<00:00,  4.26it/s]\n"
     ]
    },
    {
     "name": "stdout",
     "output_type": "stream",
     "text": [
      "  Train Loss: 0.0001 | Train Acc: 1.0000\n",
      "  Val Loss:   1.6178 | Val Acc:   0.7200\n",
      "  Epoch Duration: 1.67 seconds\n",
      "\n",
      "--- Fold 2, Epoch 20/100 ---\n"
     ]
    },
    {
     "name": "stderr",
     "output_type": "stream",
     "text": [
      "Training: 100%|██████████| 9/9 [00:01<00:00,  7.82it/s]\n"
     ]
    },
    {
     "name": "stdout",
     "output_type": "stream",
     "text": [
      "Epoch Loss: 0.0001, Accuracy: 1.0000\n"
     ]
    },
    {
     "name": "stderr",
     "output_type": "stream",
     "text": [
      "Validating: 100%|██████████| 2/2 [00:00<00:00,  4.17it/s]\n"
     ]
    },
    {
     "name": "stdout",
     "output_type": "stream",
     "text": [
      "  Train Loss: 0.0001 | Train Acc: 1.0000\n",
      "  Val Loss:   1.6113 | Val Acc:   0.7200\n",
      "  Epoch Duration: 1.64 seconds\n",
      "\n",
      "--- Fold 2, Epoch 21/100 ---\n"
     ]
    },
    {
     "name": "stderr",
     "output_type": "stream",
     "text": [
      "Training: 100%|██████████| 9/9 [00:01<00:00,  7.48it/s]\n"
     ]
    },
    {
     "name": "stdout",
     "output_type": "stream",
     "text": [
      "Epoch Loss: 0.0001, Accuracy: 1.0000\n"
     ]
    },
    {
     "name": "stderr",
     "output_type": "stream",
     "text": [
      "Validating: 100%|██████████| 2/2 [00:00<00:00,  4.10it/s]\n"
     ]
    },
    {
     "name": "stdout",
     "output_type": "stream",
     "text": [
      "  Train Loss: 0.0001 | Train Acc: 1.0000\n",
      "  Val Loss:   1.6047 | Val Acc:   0.7200\n",
      "  Epoch Duration: 1.70 seconds\n",
      "\n",
      "--- Fold 2, Epoch 22/100 ---\n"
     ]
    },
    {
     "name": "stderr",
     "output_type": "stream",
     "text": [
      "Training: 100%|██████████| 9/9 [00:01<00:00,  8.22it/s]\n"
     ]
    },
    {
     "name": "stdout",
     "output_type": "stream",
     "text": [
      "Epoch Loss: 0.0001, Accuracy: 1.0000\n"
     ]
    },
    {
     "name": "stderr",
     "output_type": "stream",
     "text": [
      "Validating: 100%|██████████| 2/2 [00:00<00:00,  4.06it/s]\n"
     ]
    },
    {
     "name": "stdout",
     "output_type": "stream",
     "text": [
      "  Train Loss: 0.0001 | Train Acc: 1.0000\n",
      "  Val Loss:   1.6024 | Val Acc:   0.7200\n",
      "  Epoch Duration: 1.59 seconds\n",
      "  Early stopping at epoch 22.\n",
      "\n",
      "--- Fold 2 Final Evaluation ---\n",
      "Loading best model for fold 2 (achieved 0.7400 on inner val set).\n"
     ]
    },
    {
     "name": "stderr",
     "output_type": "stream",
     "text": [
      "Validating: 100%|██████████| 6/6 [00:00<00:00,  8.89it/s]\n"
     ]
    },
    {
     "name": "stdout",
     "output_type": "stream",
     "text": [
      "Performance of best model on the OUTER TEST SET for fold 2: 0.7365\n",
      "\n",
      "============================== OUTER FOLD 3/3 ==============================\n",
      "Loading pretrained weights from: ../I_RAVEN/saved_models/best_model_msrgnn.pth\n",
      "\n",
      "--- Transfer Learning Report ---\n",
      "Successfully loaded 138 / 140 layers.\n",
      "\n",
      "Skipped 2 layers:\n",
      "  - template_edge_index (Shape Mismatch. Pretrained: torch.Size([2, 36]), Model: torch.Size([2, 12]))\n",
      "  - reasoner.panel_pos_emb.weight (Shape Mismatch. Pretrained: torch.Size([9, 128]), Model: torch.Size([4, 128]))\n",
      "--------------------------------\n",
      "\n",
      "Fold 3 Model has 4,804,547 trainable parameters.\n",
      "Fold 3 Training on 283, Validating on 51, Testing on 166.\n",
      "\n",
      "--- Fold 3, Epoch 1/100 ---\n"
     ]
    },
    {
     "name": "stderr",
     "output_type": "stream",
     "text": [
      "Training: 100%|██████████| 9/9 [00:01<00:00,  7.59it/s]\n"
     ]
    },
    {
     "name": "stdout",
     "output_type": "stream",
     "text": [
      "Epoch Loss: 1.4643, Accuracy: 0.4982\n"
     ]
    },
    {
     "name": "stderr",
     "output_type": "stream",
     "text": [
      "Validating: 100%|██████████| 2/2 [00:00<00:00,  4.27it/s]\n"
     ]
    },
    {
     "name": "stdout",
     "output_type": "stream",
     "text": [
      "  Train Loss: 1.4643 | Train Acc: 0.4982\n",
      "  Val Loss:   1.6081 | Val Acc:   0.2353\n",
      "  Epoch Duration: 1.66 seconds\n",
      "  -> New best inner validation accuracy: 0.2353. Model state saved.\n",
      "\n",
      "--- Fold 3, Epoch 2/100 ---\n"
     ]
    },
    {
     "name": "stderr",
     "output_type": "stream",
     "text": [
      "Training: 100%|██████████| 9/9 [00:01<00:00,  7.75it/s]\n"
     ]
    },
    {
     "name": "stdout",
     "output_type": "stream",
     "text": [
      "Epoch Loss: 0.6396, Accuracy: 0.7880\n"
     ]
    },
    {
     "name": "stderr",
     "output_type": "stream",
     "text": [
      "Validating: 100%|██████████| 2/2 [00:00<00:00,  4.10it/s]\n"
     ]
    },
    {
     "name": "stdout",
     "output_type": "stream",
     "text": [
      "  Train Loss: 0.6396 | Train Acc: 0.7880\n",
      "  Val Loss:   1.6056 | Val Acc:   0.3922\n",
      "  Epoch Duration: 1.66 seconds\n",
      "  -> New best inner validation accuracy: 0.3922. Model state saved.\n",
      "\n",
      "--- Fold 3, Epoch 3/100 ---\n"
     ]
    },
    {
     "name": "stderr",
     "output_type": "stream",
     "text": [
      "Training: 100%|██████████| 9/9 [00:01<00:00,  7.06it/s]\n"
     ]
    },
    {
     "name": "stdout",
     "output_type": "stream",
     "text": [
      "Epoch Loss: 0.3429, Accuracy: 0.8975\n"
     ]
    },
    {
     "name": "stderr",
     "output_type": "stream",
     "text": [
      "Validating: 100%|██████████| 2/2 [00:00<00:00,  4.14it/s]\n"
     ]
    },
    {
     "name": "stdout",
     "output_type": "stream",
     "text": [
      "  Train Loss: 0.3429 | Train Acc: 0.8975\n",
      "  Val Loss:   1.5973 | Val Acc:   0.2353\n",
      "  Epoch Duration: 1.76 seconds\n",
      "\n",
      "--- Fold 3, Epoch 4/100 ---\n"
     ]
    },
    {
     "name": "stderr",
     "output_type": "stream",
     "text": [
      "Training: 100%|██████████| 9/9 [00:01<00:00,  8.38it/s]\n"
     ]
    },
    {
     "name": "stdout",
     "output_type": "stream",
     "text": [
      "Epoch Loss: 0.1613, Accuracy: 0.9647\n"
     ]
    },
    {
     "name": "stderr",
     "output_type": "stream",
     "text": [
      "Validating: 100%|██████████| 2/2 [00:00<00:00,  4.40it/s]\n"
     ]
    },
    {
     "name": "stdout",
     "output_type": "stream",
     "text": [
      "  Train Loss: 0.1613 | Train Acc: 0.9647\n",
      "  Val Loss:   1.6062 | Val Acc:   0.1569\n",
      "  Epoch Duration: 1.54 seconds\n",
      "\n",
      "--- Fold 3, Epoch 5/100 ---\n"
     ]
    },
    {
     "name": "stderr",
     "output_type": "stream",
     "text": [
      "Training: 100%|██████████| 9/9 [00:01<00:00,  7.82it/s]\n"
     ]
    },
    {
     "name": "stdout",
     "output_type": "stream",
     "text": [
      "Epoch Loss: 0.0758, Accuracy: 0.9929\n"
     ]
    },
    {
     "name": "stderr",
     "output_type": "stream",
     "text": [
      "Validating: 100%|██████████| 2/2 [00:00<00:00,  3.94it/s]\n"
     ]
    },
    {
     "name": "stdout",
     "output_type": "stream",
     "text": [
      "  Train Loss: 0.0758 | Train Acc: 0.9929\n",
      "  Val Loss:   1.6114 | Val Acc:   0.2353\n",
      "  Epoch Duration: 1.67 seconds\n",
      "\n",
      "--- Fold 3, Epoch 6/100 ---\n"
     ]
    },
    {
     "name": "stderr",
     "output_type": "stream",
     "text": [
      "Training: 100%|██████████| 9/9 [00:01<00:00,  7.36it/s]\n"
     ]
    },
    {
     "name": "stdout",
     "output_type": "stream",
     "text": [
      "Epoch Loss: 0.0264, Accuracy: 1.0000\n"
     ]
    },
    {
     "name": "stderr",
     "output_type": "stream",
     "text": [
      "Validating: 100%|██████████| 2/2 [00:00<00:00,  4.05it/s]\n"
     ]
    },
    {
     "name": "stdout",
     "output_type": "stream",
     "text": [
      "  Train Loss: 0.0264 | Train Acc: 1.0000\n",
      "  Val Loss:   2.8707 | Val Acc:   0.2941\n",
      "  Epoch Duration: 1.72 seconds\n",
      "\n",
      "--- Fold 3, Epoch 7/100 ---\n"
     ]
    },
    {
     "name": "stderr",
     "output_type": "stream",
     "text": [
      "Training: 100%|██████████| 9/9 [00:01<00:00,  8.28it/s]\n"
     ]
    },
    {
     "name": "stdout",
     "output_type": "stream",
     "text": [
      "Epoch Loss: 0.0120, Accuracy: 1.0000\n"
     ]
    },
    {
     "name": "stderr",
     "output_type": "stream",
     "text": [
      "Validating: 100%|██████████| 2/2 [00:00<00:00,  4.27it/s]\n"
     ]
    },
    {
     "name": "stdout",
     "output_type": "stream",
     "text": [
      "  Train Loss: 0.0120 | Train Acc: 1.0000\n",
      "  Val Loss:   3.3262 | Val Acc:   0.4314\n",
      "  Epoch Duration: 1.56 seconds\n",
      "  -> New best inner validation accuracy: 0.4314. Model state saved.\n",
      "\n",
      "--- Fold 3, Epoch 8/100 ---\n"
     ]
    },
    {
     "name": "stderr",
     "output_type": "stream",
     "text": [
      "Training: 100%|██████████| 9/9 [00:01<00:00,  7.37it/s]\n"
     ]
    },
    {
     "name": "stdout",
     "output_type": "stream",
     "text": [
      "Epoch Loss: 0.0041, Accuracy: 1.0000\n"
     ]
    },
    {
     "name": "stderr",
     "output_type": "stream",
     "text": [
      "Validating: 100%|██████████| 2/2 [00:00<00:00,  4.14it/s]\n"
     ]
    },
    {
     "name": "stdout",
     "output_type": "stream",
     "text": [
      "  Train Loss: 0.0041 | Train Acc: 1.0000\n",
      "  Val Loss:   3.8426 | Val Acc:   0.4314\n",
      "  Epoch Duration: 1.71 seconds\n",
      "\n",
      "--- Fold 3, Epoch 9/100 ---\n"
     ]
    },
    {
     "name": "stderr",
     "output_type": "stream",
     "text": [
      "Training: 100%|██████████| 9/9 [00:01<00:00,  8.43it/s]\n"
     ]
    },
    {
     "name": "stdout",
     "output_type": "stream",
     "text": [
      "Epoch Loss: 0.0020, Accuracy: 1.0000\n"
     ]
    },
    {
     "name": "stderr",
     "output_type": "stream",
     "text": [
      "Validating: 100%|██████████| 2/2 [00:00<00:00,  4.38it/s]\n"
     ]
    },
    {
     "name": "stdout",
     "output_type": "stream",
     "text": [
      "  Train Loss: 0.0020 | Train Acc: 1.0000\n",
      "  Val Loss:   2.6509 | Val Acc:   0.5490\n",
      "  Epoch Duration: 1.53 seconds\n",
      "  -> New best inner validation accuracy: 0.5490. Model state saved.\n",
      "\n",
      "--- Fold 3, Epoch 10/100 ---\n"
     ]
    },
    {
     "name": "stderr",
     "output_type": "stream",
     "text": [
      "Training: 100%|██████████| 9/9 [00:01<00:00,  7.23it/s]\n"
     ]
    },
    {
     "name": "stdout",
     "output_type": "stream",
     "text": [
      "Epoch Loss: 0.0010, Accuracy: 1.0000\n"
     ]
    },
    {
     "name": "stderr",
     "output_type": "stream",
     "text": [
      "Validating: 100%|██████████| 2/2 [00:00<00:00,  4.01it/s]\n"
     ]
    },
    {
     "name": "stdout",
     "output_type": "stream",
     "text": [
      "  Train Loss: 0.0010 | Train Acc: 1.0000\n",
      "  Val Loss:   1.9809 | Val Acc:   0.6471\n",
      "  Epoch Duration: 1.75 seconds\n",
      "  -> New best inner validation accuracy: 0.6471. Model state saved.\n",
      "\n",
      "--- Fold 3, Epoch 11/100 ---\n"
     ]
    },
    {
     "name": "stderr",
     "output_type": "stream",
     "text": [
      "Training: 100%|██████████| 9/9 [00:01<00:00,  8.25it/s]\n"
     ]
    },
    {
     "name": "stdout",
     "output_type": "stream",
     "text": [
      "Epoch Loss: 0.0006, Accuracy: 1.0000\n"
     ]
    },
    {
     "name": "stderr",
     "output_type": "stream",
     "text": [
      "Validating: 100%|██████████| 2/2 [00:00<00:00,  4.31it/s]\n"
     ]
    },
    {
     "name": "stdout",
     "output_type": "stream",
     "text": [
      "  Train Loss: 0.0006 | Train Acc: 1.0000\n",
      "  Val Loss:   1.7943 | Val Acc:   0.6471\n",
      "  Epoch Duration: 1.56 seconds\n",
      "\n",
      "--- Fold 3, Epoch 12/100 ---\n"
     ]
    },
    {
     "name": "stderr",
     "output_type": "stream",
     "text": [
      "Training: 100%|██████████| 9/9 [00:01<00:00,  7.27it/s]\n"
     ]
    },
    {
     "name": "stdout",
     "output_type": "stream",
     "text": [
      "Epoch Loss: 0.0004, Accuracy: 1.0000\n"
     ]
    },
    {
     "name": "stderr",
     "output_type": "stream",
     "text": [
      "Validating: 100%|██████████| 2/2 [00:00<00:00,  4.08it/s]\n"
     ]
    },
    {
     "name": "stdout",
     "output_type": "stream",
     "text": [
      "  Train Loss: 0.0004 | Train Acc: 1.0000\n",
      "  Val Loss:   1.7959 | Val Acc:   0.6275\n",
      "  Epoch Duration: 1.73 seconds\n",
      "\n",
      "--- Fold 3, Epoch 13/100 ---\n"
     ]
    },
    {
     "name": "stderr",
     "output_type": "stream",
     "text": [
      "Training: 100%|██████████| 9/9 [00:01<00:00,  8.20it/s]\n"
     ]
    },
    {
     "name": "stdout",
     "output_type": "stream",
     "text": [
      "Epoch Loss: 0.0003, Accuracy: 1.0000\n"
     ]
    },
    {
     "name": "stderr",
     "output_type": "stream",
     "text": [
      "Validating: 100%|██████████| 2/2 [00:00<00:00,  4.22it/s]\n"
     ]
    },
    {
     "name": "stdout",
     "output_type": "stream",
     "text": [
      "  Train Loss: 0.0003 | Train Acc: 1.0000\n",
      "  Val Loss:   1.8092 | Val Acc:   0.6275\n",
      "  Epoch Duration: 1.58 seconds\n",
      "\n",
      "--- Fold 3, Epoch 14/100 ---\n"
     ]
    },
    {
     "name": "stderr",
     "output_type": "stream",
     "text": [
      "Training: 100%|██████████| 9/9 [00:01<00:00,  7.19it/s]\n"
     ]
    },
    {
     "name": "stdout",
     "output_type": "stream",
     "text": [
      "Epoch Loss: 0.0003, Accuracy: 1.0000\n"
     ]
    },
    {
     "name": "stderr",
     "output_type": "stream",
     "text": [
      "Validating: 100%|██████████| 2/2 [00:00<00:00,  4.12it/s]\n"
     ]
    },
    {
     "name": "stdout",
     "output_type": "stream",
     "text": [
      "  Train Loss: 0.0003 | Train Acc: 1.0000\n",
      "  Val Loss:   1.8148 | Val Acc:   0.6471\n",
      "  Epoch Duration: 1.74 seconds\n",
      "\n",
      "--- Fold 3, Epoch 15/100 ---\n"
     ]
    },
    {
     "name": "stderr",
     "output_type": "stream",
     "text": [
      "Training: 100%|██████████| 9/9 [00:01<00:00,  8.24it/s]\n"
     ]
    },
    {
     "name": "stdout",
     "output_type": "stream",
     "text": [
      "Epoch Loss: 0.0002, Accuracy: 1.0000\n"
     ]
    },
    {
     "name": "stderr",
     "output_type": "stream",
     "text": [
      "Validating: 100%|██████████| 2/2 [00:00<00:00,  4.18it/s]\n"
     ]
    },
    {
     "name": "stdout",
     "output_type": "stream",
     "text": [
      "  Train Loss: 0.0002 | Train Acc: 1.0000\n",
      "  Val Loss:   1.8316 | Val Acc:   0.6471\n",
      "  Epoch Duration: 1.58 seconds\n",
      "\n",
      "--- Fold 3, Epoch 16/100 ---\n"
     ]
    },
    {
     "name": "stderr",
     "output_type": "stream",
     "text": [
      "Training: 100%|██████████| 9/9 [00:01<00:00,  7.05it/s]\n"
     ]
    },
    {
     "name": "stdout",
     "output_type": "stream",
     "text": [
      "Epoch Loss: 0.0002, Accuracy: 1.0000\n"
     ]
    },
    {
     "name": "stderr",
     "output_type": "stream",
     "text": [
      "Validating: 100%|██████████| 2/2 [00:00<00:00,  3.94it/s]\n"
     ]
    },
    {
     "name": "stdout",
     "output_type": "stream",
     "text": [
      "  Train Loss: 0.0002 | Train Acc: 1.0000\n",
      "  Val Loss:   1.8443 | Val Acc:   0.6275\n",
      "  Epoch Duration: 1.79 seconds\n",
      "\n",
      "--- Fold 3, Epoch 17/100 ---\n"
     ]
    },
    {
     "name": "stderr",
     "output_type": "stream",
     "text": [
      "Training: 100%|██████████| 9/9 [00:01<00:00,  8.23it/s]\n"
     ]
    },
    {
     "name": "stdout",
     "output_type": "stream",
     "text": [
      "Epoch Loss: 0.0002, Accuracy: 1.0000\n"
     ]
    },
    {
     "name": "stderr",
     "output_type": "stream",
     "text": [
      "Validating: 100%|██████████| 2/2 [00:00<00:00,  4.33it/s]\n"
     ]
    },
    {
     "name": "stdout",
     "output_type": "stream",
     "text": [
      "  Train Loss: 0.0002 | Train Acc: 1.0000\n",
      "  Val Loss:   1.8532 | Val Acc:   0.6275\n",
      "  Epoch Duration: 1.57 seconds\n",
      "\n",
      "--- Fold 3, Epoch 18/100 ---\n"
     ]
    },
    {
     "name": "stderr",
     "output_type": "stream",
     "text": [
      "Training: 100%|██████████| 9/9 [00:01<00:00,  7.25it/s]\n"
     ]
    },
    {
     "name": "stdout",
     "output_type": "stream",
     "text": [
      "Epoch Loss: 0.0002, Accuracy: 1.0000\n"
     ]
    },
    {
     "name": "stderr",
     "output_type": "stream",
     "text": [
      "Validating: 100%|██████████| 2/2 [00:00<00:00,  3.95it/s]\n"
     ]
    },
    {
     "name": "stdout",
     "output_type": "stream",
     "text": [
      "  Train Loss: 0.0002 | Train Acc: 1.0000\n",
      "  Val Loss:   1.8625 | Val Acc:   0.6275\n",
      "  Epoch Duration: 1.75 seconds\n",
      "\n",
      "--- Fold 3, Epoch 19/100 ---\n"
     ]
    },
    {
     "name": "stderr",
     "output_type": "stream",
     "text": [
      "Training: 100%|██████████| 9/9 [00:01<00:00,  7.87it/s]\n"
     ]
    },
    {
     "name": "stdout",
     "output_type": "stream",
     "text": [
      "Epoch Loss: 0.0002, Accuracy: 1.0000\n"
     ]
    },
    {
     "name": "stderr",
     "output_type": "stream",
     "text": [
      "Validating: 100%|██████████| 2/2 [00:00<00:00,  4.32it/s]\n"
     ]
    },
    {
     "name": "stdout",
     "output_type": "stream",
     "text": [
      "  Train Loss: 0.0002 | Train Acc: 1.0000\n",
      "  Val Loss:   1.8683 | Val Acc:   0.6275\n",
      "  Epoch Duration: 1.61 seconds\n",
      "\n",
      "--- Fold 3, Epoch 20/100 ---\n"
     ]
    },
    {
     "name": "stderr",
     "output_type": "stream",
     "text": [
      "Training: 100%|██████████| 9/9 [00:01<00:00,  6.95it/s]\n"
     ]
    },
    {
     "name": "stdout",
     "output_type": "stream",
     "text": [
      "Epoch Loss: 0.0001, Accuracy: 1.0000\n"
     ]
    },
    {
     "name": "stderr",
     "output_type": "stream",
     "text": [
      "Validating: 100%|██████████| 2/2 [00:00<00:00,  3.91it/s]\n"
     ]
    },
    {
     "name": "stdout",
     "output_type": "stream",
     "text": [
      "  Train Loss: 0.0001 | Train Acc: 1.0000\n",
      "  Val Loss:   1.8771 | Val Acc:   0.6275\n",
      "  Epoch Duration: 1.81 seconds\n",
      "  Early stopping at epoch 20.\n",
      "\n",
      "--- Fold 3 Final Evaluation ---\n",
      "Loading best model for fold 3 (achieved 0.6471 on inner val set).\n"
     ]
    },
    {
     "name": "stderr",
     "output_type": "stream",
     "text": [
      "Validating: 100%|██████████| 6/6 [00:00<00:00,  9.65it/s]"
     ]
    },
    {
     "name": "stdout",
     "output_type": "stream",
     "text": [
      "Performance of best model on the OUTER TEST SET for fold 3: 0.6325\n",
      "\n",
      "============================== FINAL UNBIASED PERFORMANCE SUMMARY ==============================\n",
      "Unbiased test accuracies from each fold: ['0.6946', '0.7365', '0.6325']\n",
      "Average Test Accuracy from CV: 0.6879\n",
      "Standard Deviation of Test Accuracy from CV: 0.0427\n",
      "-> Estimated Generalization Performance: 0.6879 ± 0.0427\n",
      "\n",
      "Cross-validation finished.\n",
      "To view TensorBoard logs, run the following command in your terminal:\n",
      "tensorboard --logdir runs/O3_5-MSRGNN-TRANSFER\n"
     ]
    },
    {
     "name": "stderr",
     "output_type": "stream",
     "text": [
      "\n"
     ]
    }
   ],
   "source": [
    "from sklearn.model_selection import train_test_split\n",
    "VAL_SPLIT_SIZE = 0.15\n",
    "\n",
    "MODEL_FOLDER_NAME = \"O3_5-MSRGNN-TRANSFER\"\n",
    "\n",
    "# ==============================================================================\n",
    "# 2. DATASET & FOLD SETUP\n",
    "# ==============================================================================\n",
    "print(f\"Total data for cross-validation: {len(full_dataset)} samples.\")\n",
    "\n",
    "kfold = KFold(n_splits=N_SPLITS, shuffle=True, random_state=42)\n",
    "fold_test_results = []\n",
    "\n",
    "# ==============================================================================\n",
    "# 3. CROSS-VALIDATION LOOP\n",
    "# ==============================================================================\n",
    "for fold, (train_outer_idx, test_outer_idx) in enumerate(kfold.split(np.zeros(len(full_dataset)))):\n",
    "    print(f\"\\n{'='*30} OUTER FOLD {fold+1}/{N_SPLITS} {'='*30}\")\n",
    "\n",
    "    SAVED_MODELS_PATH = f\"./saved_models/{MODEL_FOLDER_NAME}/\"\n",
    "\n",
    "    if not os.path.exists(SAVED_MODELS_PATH):\n",
    "        os.makedirs(SAVED_MODELS_PATH)\n",
    "    writer = SummaryWriter(log_dir=f'runs/{MODEL_FOLDER_NAME}/fold_{fold+1}')\n",
    "\n",
    "    inner_train_idx, inner_val_idx = train_test_split(\n",
    "        train_outer_idx,\n",
    "        test_size=VAL_SPLIT_SIZE,\n",
    "        shuffle=True, # Shuffle before splitting\n",
    "        random_state=42\n",
    "    )\n",
    "\n",
    "    inner_train_subset = Subset(full_dataset, inner_train_idx)\n",
    "    inner_val_subset = Subset(full_dataset, inner_val_idx)\n",
    "    outer_test_subset = Subset(full_dataset, test_outer_idx)\n",
    "\n",
    "    train_loader = DataLoader(inner_train_subset, batch_size=BATCH_SIZE, shuffle=True, num_workers=4, pin_memory=True)\n",
    "    val_loader = DataLoader(inner_val_subset, batch_size=BATCH_SIZE, shuffle=False, num_workers=4, pin_memory=True)\n",
    "    test_loader = DataLoader(outer_test_subset, batch_size=BATCH_SIZE, shuffle=False, num_workers=4, pin_memory=True)\n",
    "\n",
    "    model = OddOneOutMSRGNN(**model_params).to(DEVICE)\n",
    "\n",
    "    load_partial_state_dict(\n",
    "        model,\n",
    "        \"../I_RAVEN/saved_models/best_model_msrgnn.pth\"\n",
    "    )\n",
    "\n",
    "    optimizer = torch.optim.AdamW(model.parameters(), lr=LEARNING_RATE, weight_decay=WEIGHT_DECAY)\n",
    "    criterion = nn.CrossEntropyLoss()\n",
    "    scheduler = torch.optim.lr_scheduler.CosineAnnealingLR(optimizer, T_max=EPOCHS, eta_min=1e-6)\n",
    "    scaler = None\n",
    "\n",
    "    total_params = sum(p.numel() for p in model.parameters() if p.requires_grad)\n",
    "    print(f\"Fold {fold+1} Model has {total_params:,} trainable parameters.\")\n",
    "    print(f\"Fold {fold+1} Training on {len(inner_train_subset)}, Validating on {len(inner_val_subset)}, Testing on {len(outer_test_subset)}.\")\n",
    "\n",
    "    best_model_path = f\"{SAVED_MODELS_PATH}/best_model_fold_{fold+1}.pth\"\n",
    "    best_val_acc_fold = 0.0\n",
    "    epochs_without_improvement = 0\n",
    "\n",
    "    for epoch in range(1, EPOCHS + 1):\n",
    "        epoch_start_time = time.time()\n",
    "        \n",
    "        print(f\"\\n--- Fold {fold+1}, Epoch {epoch}/{EPOCHS} ---\")\n",
    "        train_loss, train_acc = train_epoch(model, train_loader, optimizer, criterion, DEVICE)\n",
    "        val_loss, val_acc = validate(model, val_loader, criterion, DEVICE)\n",
    "\n",
    "        scheduler.step()\n",
    "\n",
    "        epoch_duration = time.time() - epoch_start_time\n",
    "\n",
    "        print(f\"  Train Loss: {train_loss:.4f} | Train Acc: {train_acc:.4f}\")\n",
    "        print(f\"  Val Loss:   {val_loss:.4f} | Val Acc:   {val_acc:.4f}\")\n",
    "        print(f\"  Epoch Duration: {epoch_duration:.2f} seconds\")\n",
    "        \n",
    "        writer.add_scalar('Loss/train', train_loss, epoch)\n",
    "        writer.add_scalar('Accuracy/train', train_acc, epoch)\n",
    "        writer.add_scalar('Loss/val', val_loss, epoch)\n",
    "        writer.add_scalar('Accuracy/val', val_acc, epoch)\n",
    "        writer.add_scalar('Performance/seconds_per_epoch', epoch_duration, epoch)\n",
    "        writer.add_scalar('Learning_Rate', optimizer.param_groups[0]['lr'], epoch)\n",
    "\n",
    "        if val_acc > best_val_acc_fold:\n",
    "            best_val_acc_fold = val_acc\n",
    "            epochs_without_improvement = 0\n",
    "            torch.save(model.state_dict(), best_model_path)\n",
    "            print(f\"  -> New best inner validation accuracy: {best_val_acc_fold:.4f}. Model state saved.\")\n",
    "        else:\n",
    "            epochs_without_improvement += 1\n",
    "            if epochs_without_improvement >= PATIENCE:\n",
    "                print(f\"  Early stopping at epoch {epoch}.\")\n",
    "                break\n",
    "    \n",
    "    print(f\"\\n--- Fold {fold+1} Final Evaluation ---\")\n",
    "    print(f\"Loading best model for fold {fold+1} (achieved {best_val_acc_fold:.4f} on inner val set).\")\n",
    "    # Load the best model weights identified during the inner loop\n",
    "    model.load_state_dict(torch.load(best_model_path))\n",
    "    \n",
    "    # Evaluate this best model on the completely unseen outer test set\n",
    "    _, final_fold_test_acc = validate(model, test_loader, criterion, DEVICE)\n",
    "    print(f\"Performance of best model on the OUTER TEST SET for fold {fold+1}: {final_fold_test_acc:.4f}\")\n",
    "\n",
    "    fold_test_results.append(final_fold_test_acc)\n",
    "    writer.add_scalar('Accuracy/test', final_fold_test_acc)\n",
    "    \n",
    "    hparams = { 'learning_rate': LEARNING_RATE, 'batch_size': BATCH_SIZE, **model_params }\n",
    "    final_metrics = {\n",
    "        'hparam/test_accuracy': final_fold_test_acc,\n",
    "        'hparam/best_inner_val_accuracy': best_val_acc_fold\n",
    "    }\n",
    "    writer.add_hparams(hparams, final_metrics)\n",
    "    writer.close()\n",
    "\n",
    "# ==============================================================================\n",
    "# 4. AGGREGATE AND REPORT CV RESULTS\n",
    "# ==============================================================================\n",
    "mean_test_acc = np.mean(fold_test_results)\n",
    "std_test_acc = np.std(fold_test_results)\n",
    "\n",
    "print(f\"\\n{'='*30} FINAL UNBIASED PERFORMANCE SUMMARY {'='*30}\")\n",
    "print(f\"Unbiased test accuracies from each fold: {[f'{acc:.4f}' for acc in fold_test_results]}\")\n",
    "print(f\"Average Test Accuracy from CV: {mean_test_acc:.4f}\")\n",
    "print(f\"Standard Deviation of Test Accuracy from CV: {std_test_acc:.4f}\")\n",
    "print(f\"-> Estimated Generalization Performance: {mean_test_acc:.4f} \\u00B1 {std_test_acc:.4f}\")\n",
    "\n",
    "print(\"\\nCross-validation finished.\")\n",
    "print(\"To view TensorBoard logs, run the following command in your terminal:\")\n",
    "print(f\"tensorboard --logdir runs/{MODEL_FOLDER_NAME}\")"
   ]
  },
  {
   "cell_type": "markdown",
   "id": "2b46b54f",
   "metadata": {},
   "source": [
    "# RADIO-1 to O3 TL"
   ]
  },
  {
   "cell_type": "code",
   "execution_count": 31,
   "id": "7b2006be",
   "metadata": {},
   "outputs": [
    {
     "name": "stdout",
     "output_type": "stream",
     "text": [
      "Total data for cross-validation: 500 samples.\n",
      "\n",
      "============================== OUTER FOLD 1/3 ==============================\n",
      "Loading pretrained weights from: ../RADIO/saved_models/RADIO1_MSRGNN/deployable_model.pth\n",
      "\n",
      "--- Transfer Learning Report ---\n",
      "Successfully loaded 138 / 140 layers.\n",
      "\n",
      "Skipped 1 layers:\n",
      "  - reasoner.panel_pos_emb.weight (Shape Mismatch. Pretrained: torch.Size([9, 128]), Model: torch.Size([4, 128]))\n",
      "--------------------------------\n",
      "\n",
      "Fold 1 Model has 4,804,547 trainable parameters.\n",
      "Fold 1 Training on 283, Validating on 50, Testing on 167.\n",
      "\n",
      "--- Fold 1, Epoch 1/100 ---\n"
     ]
    },
    {
     "name": "stderr",
     "output_type": "stream",
     "text": [
      "Training: 100%|██████████| 9/9 [00:01<00:00,  7.84it/s]\n"
     ]
    },
    {
     "name": "stdout",
     "output_type": "stream",
     "text": [
      "Epoch Loss: 1.3821, Accuracy: 0.4594\n"
     ]
    },
    {
     "name": "stderr",
     "output_type": "stream",
     "text": [
      "Validating: 100%|██████████| 2/2 [00:00<00:00,  4.22it/s]\n"
     ]
    },
    {
     "name": "stdout",
     "output_type": "stream",
     "text": [
      "  Train Loss: 1.3821 | Train Acc: 0.4594\n",
      "  Val Loss:   1.6095 | Val Acc:   0.2000\n",
      "  Epoch Duration: 1.63 seconds\n",
      "  -> New best inner validation accuracy: 0.2000. Model state saved.\n",
      "\n",
      "--- Fold 1, Epoch 2/100 ---\n"
     ]
    },
    {
     "name": "stderr",
     "output_type": "stream",
     "text": [
      "Training: 100%|██████████| 9/9 [00:01<00:00,  7.69it/s]\n"
     ]
    },
    {
     "name": "stdout",
     "output_type": "stream",
     "text": [
      "Epoch Loss: 1.0980, Accuracy: 0.5866\n"
     ]
    },
    {
     "name": "stderr",
     "output_type": "stream",
     "text": [
      "Validating: 100%|██████████| 2/2 [00:00<00:00,  3.88it/s]\n"
     ]
    },
    {
     "name": "stdout",
     "output_type": "stream",
     "text": [
      "  Train Loss: 1.0980 | Train Acc: 0.5866\n",
      "  Val Loss:   1.6102 | Val Acc:   0.2800\n",
      "  Epoch Duration: 1.69 seconds\n",
      "  -> New best inner validation accuracy: 0.2800. Model state saved.\n",
      "\n",
      "--- Fold 1, Epoch 3/100 ---\n"
     ]
    },
    {
     "name": "stderr",
     "output_type": "stream",
     "text": [
      "Training: 100%|██████████| 9/9 [00:01<00:00,  7.50it/s]\n"
     ]
    },
    {
     "name": "stdout",
     "output_type": "stream",
     "text": [
      "Epoch Loss: 0.9220, Accuracy: 0.6678\n"
     ]
    },
    {
     "name": "stderr",
     "output_type": "stream",
     "text": [
      "Validating: 100%|██████████| 2/2 [00:00<00:00,  3.93it/s]\n"
     ]
    },
    {
     "name": "stdout",
     "output_type": "stream",
     "text": [
      "  Train Loss: 0.9220 | Train Acc: 0.6678\n",
      "  Val Loss:   1.6101 | Val Acc:   0.2600\n",
      "  Epoch Duration: 1.72 seconds\n",
      "\n",
      "--- Fold 1, Epoch 4/100 ---\n"
     ]
    },
    {
     "name": "stderr",
     "output_type": "stream",
     "text": [
      "Training: 100%|██████████| 9/9 [00:01<00:00,  8.19it/s]\n"
     ]
    },
    {
     "name": "stdout",
     "output_type": "stream",
     "text": [
      "Epoch Loss: 0.7682, Accuracy: 0.7279\n"
     ]
    },
    {
     "name": "stderr",
     "output_type": "stream",
     "text": [
      "Validating: 100%|██████████| 2/2 [00:00<00:00,  4.36it/s]\n"
     ]
    },
    {
     "name": "stdout",
     "output_type": "stream",
     "text": [
      "  Train Loss: 0.7682 | Train Acc: 0.7279\n",
      "  Val Loss:   1.6104 | Val Acc:   0.2400\n",
      "  Epoch Duration: 1.57 seconds\n",
      "\n",
      "--- Fold 1, Epoch 5/100 ---\n"
     ]
    },
    {
     "name": "stderr",
     "output_type": "stream",
     "text": [
      "Training: 100%|██████████| 9/9 [00:01<00:00,  7.21it/s]\n"
     ]
    },
    {
     "name": "stdout",
     "output_type": "stream",
     "text": [
      "Epoch Loss: 0.6318, Accuracy: 0.7951\n"
     ]
    },
    {
     "name": "stderr",
     "output_type": "stream",
     "text": [
      "Validating: 100%|██████████| 2/2 [00:00<00:00,  4.11it/s]\n"
     ]
    },
    {
     "name": "stdout",
     "output_type": "stream",
     "text": [
      "  Train Loss: 0.6318 | Train Acc: 0.7951\n",
      "  Val Loss:   1.6096 | Val Acc:   0.2400\n",
      "  Epoch Duration: 1.74 seconds\n",
      "\n",
      "--- Fold 1, Epoch 6/100 ---\n"
     ]
    },
    {
     "name": "stderr",
     "output_type": "stream",
     "text": [
      "Training: 100%|██████████| 9/9 [00:01<00:00,  8.37it/s]\n"
     ]
    },
    {
     "name": "stdout",
     "output_type": "stream",
     "text": [
      "Epoch Loss: 0.4668, Accuracy: 0.8516\n"
     ]
    },
    {
     "name": "stderr",
     "output_type": "stream",
     "text": [
      "Validating: 100%|██████████| 2/2 [00:00<00:00,  4.32it/s]\n"
     ]
    },
    {
     "name": "stdout",
     "output_type": "stream",
     "text": [
      "  Train Loss: 0.4668 | Train Acc: 0.8516\n",
      "  Val Loss:   1.6108 | Val Acc:   0.2400\n",
      "  Epoch Duration: 1.55 seconds\n",
      "\n",
      "--- Fold 1, Epoch 7/100 ---\n"
     ]
    },
    {
     "name": "stderr",
     "output_type": "stream",
     "text": [
      "Training: 100%|██████████| 9/9 [00:01<00:00,  7.37it/s]\n"
     ]
    },
    {
     "name": "stdout",
     "output_type": "stream",
     "text": [
      "Epoch Loss: 0.3421, Accuracy: 0.8869\n"
     ]
    },
    {
     "name": "stderr",
     "output_type": "stream",
     "text": [
      "Validating: 100%|██████████| 2/2 [00:00<00:00,  4.10it/s]\n"
     ]
    },
    {
     "name": "stdout",
     "output_type": "stream",
     "text": [
      "  Train Loss: 0.3421 | Train Acc: 0.8869\n",
      "  Val Loss:   1.5892 | Val Acc:   0.3000\n",
      "  Epoch Duration: 1.72 seconds\n",
      "  -> New best inner validation accuracy: 0.3000. Model state saved.\n",
      "\n",
      "--- Fold 1, Epoch 8/100 ---\n"
     ]
    },
    {
     "name": "stderr",
     "output_type": "stream",
     "text": [
      "Training: 100%|██████████| 9/9 [00:01<00:00,  8.47it/s]\n"
     ]
    },
    {
     "name": "stdout",
     "output_type": "stream",
     "text": [
      "Epoch Loss: 0.2462, Accuracy: 0.9435\n"
     ]
    },
    {
     "name": "stderr",
     "output_type": "stream",
     "text": [
      "Validating: 100%|██████████| 2/2 [00:00<00:00,  4.38it/s]\n"
     ]
    },
    {
     "name": "stdout",
     "output_type": "stream",
     "text": [
      "  Train Loss: 0.2462 | Train Acc: 0.9435\n",
      "  Val Loss:   1.5719 | Val Acc:   0.3000\n",
      "  Epoch Duration: 1.53 seconds\n",
      "\n",
      "--- Fold 1, Epoch 9/100 ---\n"
     ]
    },
    {
     "name": "stderr",
     "output_type": "stream",
     "text": [
      "Training: 100%|██████████| 9/9 [00:01<00:00,  7.07it/s]\n"
     ]
    },
    {
     "name": "stdout",
     "output_type": "stream",
     "text": [
      "Epoch Loss: 0.1992, Accuracy: 0.9329\n"
     ]
    },
    {
     "name": "stderr",
     "output_type": "stream",
     "text": [
      "Validating: 100%|██████████| 2/2 [00:00<00:00,  4.11it/s]\n"
     ]
    },
    {
     "name": "stdout",
     "output_type": "stream",
     "text": [
      "  Train Loss: 0.1992 | Train Acc: 0.9329\n",
      "  Val Loss:   1.6383 | Val Acc:   0.5000\n",
      "  Epoch Duration: 1.77 seconds\n",
      "  -> New best inner validation accuracy: 0.5000. Model state saved.\n",
      "\n",
      "--- Fold 1, Epoch 10/100 ---\n"
     ]
    },
    {
     "name": "stderr",
     "output_type": "stream",
     "text": [
      "Training: 100%|██████████| 9/9 [00:01<00:00,  8.08it/s]\n"
     ]
    },
    {
     "name": "stdout",
     "output_type": "stream",
     "text": [
      "Epoch Loss: 0.1361, Accuracy: 0.9717\n"
     ]
    },
    {
     "name": "stderr",
     "output_type": "stream",
     "text": [
      "Validating: 100%|██████████| 2/2 [00:00<00:00,  4.37it/s]\n"
     ]
    },
    {
     "name": "stdout",
     "output_type": "stream",
     "text": [
      "  Train Loss: 0.1361 | Train Acc: 0.9717\n",
      "  Val Loss:   1.6525 | Val Acc:   0.5600\n",
      "  Epoch Duration: 1.58 seconds\n",
      "  -> New best inner validation accuracy: 0.5600. Model state saved.\n",
      "\n",
      "--- Fold 1, Epoch 11/100 ---\n"
     ]
    },
    {
     "name": "stderr",
     "output_type": "stream",
     "text": [
      "Training: 100%|██████████| 9/9 [00:01<00:00,  7.53it/s]\n"
     ]
    },
    {
     "name": "stdout",
     "output_type": "stream",
     "text": [
      "Epoch Loss: 0.0978, Accuracy: 0.9753\n"
     ]
    },
    {
     "name": "stderr",
     "output_type": "stream",
     "text": [
      "Validating:  50%|█████     | 1/2 [00:00<00:00,  2.61it/s]"
     ]
    },
    {
     "name": "stderr",
     "output_type": "stream",
     "text": [
      "Validating: 100%|██████████| 2/2 [00:00<00:00,  4.21it/s]\n"
     ]
    },
    {
     "name": "stdout",
     "output_type": "stream",
     "text": [
      "  Train Loss: 0.0978 | Train Acc: 0.9753\n",
      "  Val Loss:   1.5033 | Val Acc:   0.6000\n",
      "  Epoch Duration: 1.68 seconds\n",
      "  -> New best inner validation accuracy: 0.6000. Model state saved.\n",
      "\n",
      "--- Fold 1, Epoch 12/100 ---\n"
     ]
    },
    {
     "name": "stderr",
     "output_type": "stream",
     "text": [
      "Training: 100%|██████████| 9/9 [00:01<00:00,  6.98it/s]\n"
     ]
    },
    {
     "name": "stdout",
     "output_type": "stream",
     "text": [
      "Epoch Loss: 0.0758, Accuracy: 0.9823\n"
     ]
    },
    {
     "name": "stderr",
     "output_type": "stream",
     "text": [
      "Validating: 100%|██████████| 2/2 [00:00<00:00,  3.80it/s]\n"
     ]
    },
    {
     "name": "stdout",
     "output_type": "stream",
     "text": [
      "  Train Loss: 0.0758 | Train Acc: 0.9823\n",
      "  Val Loss:   1.9666 | Val Acc:   0.5600\n",
      "  Epoch Duration: 1.82 seconds\n",
      "\n",
      "--- Fold 1, Epoch 13/100 ---\n"
     ]
    },
    {
     "name": "stderr",
     "output_type": "stream",
     "text": [
      "Training: 100%|██████████| 9/9 [00:01<00:00,  7.59it/s]\n"
     ]
    },
    {
     "name": "stdout",
     "output_type": "stream",
     "text": [
      "Epoch Loss: 0.0366, Accuracy: 0.9894\n"
     ]
    },
    {
     "name": "stderr",
     "output_type": "stream",
     "text": [
      "Validating: 100%|██████████| 2/2 [00:00<00:00,  4.24it/s]\n"
     ]
    },
    {
     "name": "stdout",
     "output_type": "stream",
     "text": [
      "  Train Loss: 0.0366 | Train Acc: 0.9894\n",
      "  Val Loss:   2.4004 | Val Acc:   0.4800\n",
      "  Epoch Duration: 1.67 seconds\n",
      "\n",
      "--- Fold 1, Epoch 14/100 ---\n"
     ]
    },
    {
     "name": "stderr",
     "output_type": "stream",
     "text": [
      "Training: 100%|██████████| 9/9 [00:01<00:00,  7.27it/s]\n"
     ]
    },
    {
     "name": "stdout",
     "output_type": "stream",
     "text": [
      "Epoch Loss: 0.0241, Accuracy: 0.9929\n"
     ]
    },
    {
     "name": "stderr",
     "output_type": "stream",
     "text": [
      "Validating: 100%|██████████| 2/2 [00:00<00:00,  3.93it/s]\n"
     ]
    },
    {
     "name": "stdout",
     "output_type": "stream",
     "text": [
      "  Train Loss: 0.0241 | Train Acc: 0.9929\n",
      "  Val Loss:   1.9500 | Val Acc:   0.6000\n",
      "  Epoch Duration: 1.75 seconds\n",
      "\n",
      "--- Fold 1, Epoch 15/100 ---\n"
     ]
    },
    {
     "name": "stderr",
     "output_type": "stream",
     "text": [
      "Training: 100%|██████████| 9/9 [00:01<00:00,  7.48it/s]\n"
     ]
    },
    {
     "name": "stdout",
     "output_type": "stream",
     "text": [
      "Epoch Loss: 0.0354, Accuracy: 0.9929\n"
     ]
    },
    {
     "name": "stderr",
     "output_type": "stream",
     "text": [
      "Validating: 100%|██████████| 2/2 [00:00<00:00,  4.22it/s]\n"
     ]
    },
    {
     "name": "stdout",
     "output_type": "stream",
     "text": [
      "  Train Loss: 0.0354 | Train Acc: 0.9929\n",
      "  Val Loss:   2.0617 | Val Acc:   0.6400\n",
      "  Epoch Duration: 1.68 seconds\n",
      "  -> New best inner validation accuracy: 0.6400. Model state saved.\n",
      "\n",
      "--- Fold 1, Epoch 16/100 ---\n"
     ]
    },
    {
     "name": "stderr",
     "output_type": "stream",
     "text": [
      "Training: 100%|██████████| 9/9 [00:01<00:00,  7.89it/s]\n"
     ]
    },
    {
     "name": "stdout",
     "output_type": "stream",
     "text": [
      "Epoch Loss: 0.0297, Accuracy: 0.9929\n"
     ]
    },
    {
     "name": "stderr",
     "output_type": "stream",
     "text": [
      "Validating: 100%|██████████| 2/2 [00:00<00:00,  4.00it/s]\n"
     ]
    },
    {
     "name": "stdout",
     "output_type": "stream",
     "text": [
      "  Train Loss: 0.0297 | Train Acc: 0.9929\n",
      "  Val Loss:   2.0453 | Val Acc:   0.6000\n",
      "  Epoch Duration: 1.65 seconds\n",
      "\n",
      "--- Fold 1, Epoch 17/100 ---\n"
     ]
    },
    {
     "name": "stderr",
     "output_type": "stream",
     "text": [
      "Training: 100%|██████████| 9/9 [00:01<00:00,  7.55it/s]\n"
     ]
    },
    {
     "name": "stdout",
     "output_type": "stream",
     "text": [
      "Epoch Loss: 0.0302, Accuracy: 0.9929\n"
     ]
    },
    {
     "name": "stderr",
     "output_type": "stream",
     "text": [
      "Validating: 100%|██████████| 2/2 [00:00<00:00,  4.12it/s]\n"
     ]
    },
    {
     "name": "stdout",
     "output_type": "stream",
     "text": [
      "  Train Loss: 0.0302 | Train Acc: 0.9929\n",
      "  Val Loss:   2.1581 | Val Acc:   0.6600\n",
      "  Epoch Duration: 1.68 seconds\n",
      "  -> New best inner validation accuracy: 0.6600. Model state saved.\n",
      "\n",
      "--- Fold 1, Epoch 18/100 ---\n"
     ]
    },
    {
     "name": "stderr",
     "output_type": "stream",
     "text": [
      "Training: 100%|██████████| 9/9 [00:01<00:00,  8.12it/s]\n"
     ]
    },
    {
     "name": "stdout",
     "output_type": "stream",
     "text": [
      "Epoch Loss: 0.0136, Accuracy: 0.9965\n"
     ]
    },
    {
     "name": "stderr",
     "output_type": "stream",
     "text": [
      "Validating: 100%|██████████| 2/2 [00:00<00:00,  4.32it/s]\n"
     ]
    },
    {
     "name": "stdout",
     "output_type": "stream",
     "text": [
      "  Train Loss: 0.0136 | Train Acc: 0.9965\n",
      "  Val Loss:   1.9753 | Val Acc:   0.6000\n",
      "  Epoch Duration: 1.58 seconds\n",
      "\n",
      "--- Fold 1, Epoch 19/100 ---\n"
     ]
    },
    {
     "name": "stderr",
     "output_type": "stream",
     "text": [
      "Training: 100%|██████████| 9/9 [00:01<00:00,  7.50it/s]\n"
     ]
    },
    {
     "name": "stdout",
     "output_type": "stream",
     "text": [
      "Epoch Loss: 0.0102, Accuracy: 0.9965\n"
     ]
    },
    {
     "name": "stderr",
     "output_type": "stream",
     "text": [
      "Validating: 100%|██████████| 2/2 [00:00<00:00,  4.20it/s]\n"
     ]
    },
    {
     "name": "stdout",
     "output_type": "stream",
     "text": [
      "  Train Loss: 0.0102 | Train Acc: 0.9965\n",
      "  Val Loss:   2.5204 | Val Acc:   0.5600\n",
      "  Epoch Duration: 1.68 seconds\n",
      "\n",
      "--- Fold 1, Epoch 20/100 ---\n"
     ]
    },
    {
     "name": "stderr",
     "output_type": "stream",
     "text": [
      "Training: 100%|██████████| 9/9 [00:01<00:00,  8.40it/s]\n"
     ]
    },
    {
     "name": "stdout",
     "output_type": "stream",
     "text": [
      "Epoch Loss: 0.0082, Accuracy: 1.0000\n"
     ]
    },
    {
     "name": "stderr",
     "output_type": "stream",
     "text": [
      "Validating: 100%|██████████| 2/2 [00:00<00:00,  4.13it/s]\n"
     ]
    },
    {
     "name": "stdout",
     "output_type": "stream",
     "text": [
      "  Train Loss: 0.0082 | Train Acc: 1.0000\n",
      "  Val Loss:   2.9013 | Val Acc:   0.5800\n",
      "  Epoch Duration: 1.56 seconds\n",
      "\n",
      "--- Fold 1, Epoch 21/100 ---\n"
     ]
    },
    {
     "name": "stderr",
     "output_type": "stream",
     "text": [
      "Training: 100%|██████████| 9/9 [00:01<00:00,  7.41it/s]\n"
     ]
    },
    {
     "name": "stdout",
     "output_type": "stream",
     "text": [
      "Epoch Loss: 0.0099, Accuracy: 0.9929\n"
     ]
    },
    {
     "name": "stderr",
     "output_type": "stream",
     "text": [
      "Validating: 100%|██████████| 2/2 [00:00<00:00,  4.27it/s]\n"
     ]
    },
    {
     "name": "stdout",
     "output_type": "stream",
     "text": [
      "  Train Loss: 0.0099 | Train Acc: 0.9929\n",
      "  Val Loss:   3.1709 | Val Acc:   0.4800\n",
      "  Epoch Duration: 1.69 seconds\n",
      "\n",
      "--- Fold 1, Epoch 22/100 ---\n"
     ]
    },
    {
     "name": "stderr",
     "output_type": "stream",
     "text": [
      "Training: 100%|██████████| 9/9 [00:01<00:00,  7.92it/s]\n"
     ]
    },
    {
     "name": "stdout",
     "output_type": "stream",
     "text": [
      "Epoch Loss: 0.0082, Accuracy: 1.0000\n"
     ]
    },
    {
     "name": "stderr",
     "output_type": "stream",
     "text": [
      "Validating: 100%|██████████| 2/2 [00:00<00:00,  4.11it/s]\n"
     ]
    },
    {
     "name": "stdout",
     "output_type": "stream",
     "text": [
      "  Train Loss: 0.0082 | Train Acc: 1.0000\n",
      "  Val Loss:   2.4897 | Val Acc:   0.6000\n",
      "  Epoch Duration: 1.63 seconds\n",
      "\n",
      "--- Fold 1, Epoch 23/100 ---\n"
     ]
    },
    {
     "name": "stderr",
     "output_type": "stream",
     "text": [
      "Training: 100%|██████████| 9/9 [00:01<00:00,  8.21it/s]\n"
     ]
    },
    {
     "name": "stdout",
     "output_type": "stream",
     "text": [
      "Epoch Loss: 0.0285, Accuracy: 0.9894\n"
     ]
    },
    {
     "name": "stderr",
     "output_type": "stream",
     "text": [
      "Validating: 100%|██████████| 2/2 [00:00<00:00,  3.99it/s]\n"
     ]
    },
    {
     "name": "stdout",
     "output_type": "stream",
     "text": [
      "  Train Loss: 0.0285 | Train Acc: 0.9894\n",
      "  Val Loss:   3.6830 | Val Acc:   0.5400\n",
      "  Epoch Duration: 1.61 seconds\n",
      "\n",
      "--- Fold 1, Epoch 24/100 ---\n"
     ]
    },
    {
     "name": "stderr",
     "output_type": "stream",
     "text": [
      "Training: 100%|██████████| 9/9 [00:01<00:00,  7.43it/s]\n"
     ]
    },
    {
     "name": "stdout",
     "output_type": "stream",
     "text": [
      "Epoch Loss: 0.0681, Accuracy: 0.9859\n"
     ]
    },
    {
     "name": "stderr",
     "output_type": "stream",
     "text": [
      "Validating: 100%|██████████| 2/2 [00:00<00:00,  4.15it/s]\n"
     ]
    },
    {
     "name": "stdout",
     "output_type": "stream",
     "text": [
      "  Train Loss: 0.0681 | Train Acc: 0.9859\n",
      "  Val Loss:   2.6423 | Val Acc:   0.6000\n",
      "  Epoch Duration: 1.70 seconds\n",
      "\n",
      "--- Fold 1, Epoch 25/100 ---\n"
     ]
    },
    {
     "name": "stderr",
     "output_type": "stream",
     "text": [
      "Training: 100%|██████████| 9/9 [00:01<00:00,  8.17it/s]\n"
     ]
    },
    {
     "name": "stdout",
     "output_type": "stream",
     "text": [
      "Epoch Loss: 0.0214, Accuracy: 0.9965\n"
     ]
    },
    {
     "name": "stderr",
     "output_type": "stream",
     "text": [
      "Validating: 100%|██████████| 2/2 [00:00<00:00,  4.11it/s]\n"
     ]
    },
    {
     "name": "stdout",
     "output_type": "stream",
     "text": [
      "  Train Loss: 0.0214 | Train Acc: 0.9965\n",
      "  Val Loss:   2.4309 | Val Acc:   0.5800\n",
      "  Epoch Duration: 1.60 seconds\n",
      "\n",
      "--- Fold 1, Epoch 26/100 ---\n"
     ]
    },
    {
     "name": "stderr",
     "output_type": "stream",
     "text": [
      "Training: 100%|██████████| 9/9 [00:01<00:00,  7.24it/s]\n"
     ]
    },
    {
     "name": "stdout",
     "output_type": "stream",
     "text": [
      "Epoch Loss: 0.0051, Accuracy: 1.0000\n"
     ]
    },
    {
     "name": "stderr",
     "output_type": "stream",
     "text": [
      "Validating: 100%|██████████| 2/2 [00:00<00:00,  4.03it/s]\n"
     ]
    },
    {
     "name": "stdout",
     "output_type": "stream",
     "text": [
      "  Train Loss: 0.0051 | Train Acc: 1.0000\n",
      "  Val Loss:   3.0111 | Val Acc:   0.5600\n",
      "  Epoch Duration: 1.75 seconds\n",
      "\n",
      "--- Fold 1, Epoch 27/100 ---\n"
     ]
    },
    {
     "name": "stderr",
     "output_type": "stream",
     "text": [
      "Training: 100%|██████████| 9/9 [00:01<00:00,  7.93it/s]\n"
     ]
    },
    {
     "name": "stdout",
     "output_type": "stream",
     "text": [
      "Epoch Loss: 0.0061, Accuracy: 1.0000\n"
     ]
    },
    {
     "name": "stderr",
     "output_type": "stream",
     "text": [
      "Validating: 100%|██████████| 2/2 [00:00<00:00,  4.29it/s]\n"
     ]
    },
    {
     "name": "stdout",
     "output_type": "stream",
     "text": [
      "  Train Loss: 0.0061 | Train Acc: 1.0000\n",
      "  Val Loss:   2.6761 | Val Acc:   0.6000\n",
      "  Epoch Duration: 1.61 seconds\n",
      "  Early stopping at epoch 27.\n",
      "\n",
      "--- Fold 1 Final Evaluation ---\n",
      "Loading best model for fold 1 (achieved 0.6600 on inner val set).\n"
     ]
    },
    {
     "name": "stderr",
     "output_type": "stream",
     "text": [
      "Validating: 100%|██████████| 6/6 [00:00<00:00,  8.71it/s]\n"
     ]
    },
    {
     "name": "stdout",
     "output_type": "stream",
     "text": [
      "Performance of best model on the OUTER TEST SET for fold 1: 0.5090\n",
      "\n",
      "============================== OUTER FOLD 2/3 ==============================\n",
      "Loading pretrained weights from: ../RADIO/saved_models/RADIO1_MSRGNN/deployable_model.pth\n",
      "\n",
      "--- Transfer Learning Report ---\n",
      "Successfully loaded 138 / 140 layers.\n",
      "\n",
      "Skipped 1 layers:\n",
      "  - reasoner.panel_pos_emb.weight (Shape Mismatch. Pretrained: torch.Size([9, 128]), Model: torch.Size([4, 128]))\n",
      "--------------------------------\n",
      "\n",
      "Fold 2 Model has 4,804,547 trainable parameters.\n",
      "Fold 2 Training on 283, Validating on 50, Testing on 167.\n",
      "\n",
      "--- Fold 2, Epoch 1/100 ---\n"
     ]
    },
    {
     "name": "stderr",
     "output_type": "stream",
     "text": [
      "Training: 100%|██████████| 9/9 [00:01<00:00,  7.52it/s]\n"
     ]
    },
    {
     "name": "stdout",
     "output_type": "stream",
     "text": [
      "Epoch Loss: 1.3769, Accuracy: 0.4806\n"
     ]
    },
    {
     "name": "stderr",
     "output_type": "stream",
     "text": [
      "Validating: 100%|██████████| 2/2 [00:00<00:00,  4.14it/s]\n"
     ]
    },
    {
     "name": "stdout",
     "output_type": "stream",
     "text": [
      "  Train Loss: 1.3769 | Train Acc: 0.4806\n",
      "  Val Loss:   1.6115 | Val Acc:   0.1800\n",
      "  Epoch Duration: 1.69 seconds\n",
      "  -> New best inner validation accuracy: 0.1800. Model state saved.\n",
      "\n",
      "--- Fold 2, Epoch 2/100 ---\n"
     ]
    },
    {
     "name": "stderr",
     "output_type": "stream",
     "text": [
      "Training: 100%|██████████| 9/9 [00:01<00:00,  8.19it/s]\n"
     ]
    },
    {
     "name": "stdout",
     "output_type": "stream",
     "text": [
      "Epoch Loss: 1.1670, Accuracy: 0.5406\n"
     ]
    },
    {
     "name": "stderr",
     "output_type": "stream",
     "text": [
      "Validating: 100%|██████████| 2/2 [00:00<00:00,  4.34it/s]\n"
     ]
    },
    {
     "name": "stdout",
     "output_type": "stream",
     "text": [
      "  Train Loss: 1.1670 | Train Acc: 0.5406\n",
      "  Val Loss:   1.6101 | Val Acc:   0.2400\n",
      "  Epoch Duration: 1.57 seconds\n",
      "  -> New best inner validation accuracy: 0.2400. Model state saved.\n",
      "\n",
      "--- Fold 2, Epoch 3/100 ---\n"
     ]
    },
    {
     "name": "stderr",
     "output_type": "stream",
     "text": [
      "Training: 100%|██████████| 9/9 [00:01<00:00,  7.47it/s]\n"
     ]
    },
    {
     "name": "stdout",
     "output_type": "stream",
     "text": [
      "Epoch Loss: 1.0161, Accuracy: 0.5830\n"
     ]
    },
    {
     "name": "stderr",
     "output_type": "stream",
     "text": [
      "Validating: 100%|██████████| 2/2 [00:00<00:00,  4.08it/s]\n"
     ]
    },
    {
     "name": "stdout",
     "output_type": "stream",
     "text": [
      "  Train Loss: 1.0161 | Train Acc: 0.5830\n",
      "  Val Loss:   1.6077 | Val Acc:   0.3600\n",
      "  Epoch Duration: 1.70 seconds\n",
      "  -> New best inner validation accuracy: 0.3600. Model state saved.\n",
      "\n",
      "--- Fold 2, Epoch 4/100 ---\n"
     ]
    },
    {
     "name": "stderr",
     "output_type": "stream",
     "text": [
      "Training: 100%|██████████| 9/9 [00:01<00:00,  8.32it/s]\n"
     ]
    },
    {
     "name": "stdout",
     "output_type": "stream",
     "text": [
      "Epoch Loss: 0.8790, Accuracy: 0.6502\n"
     ]
    },
    {
     "name": "stderr",
     "output_type": "stream",
     "text": [
      "Validating: 100%|██████████| 2/2 [00:00<00:00,  3.78it/s]\n"
     ]
    },
    {
     "name": "stdout",
     "output_type": "stream",
     "text": [
      "  Train Loss: 0.8790 | Train Acc: 0.6502\n",
      "  Val Loss:   1.6033 | Val Acc:   0.3200\n",
      "  Epoch Duration: 1.63 seconds\n",
      "\n",
      "--- Fold 2, Epoch 5/100 ---\n"
     ]
    },
    {
     "name": "stderr",
     "output_type": "stream",
     "text": [
      "Training: 100%|██████████| 9/9 [00:01<00:00,  7.53it/s]\n"
     ]
    },
    {
     "name": "stdout",
     "output_type": "stream",
     "text": [
      "Epoch Loss: 0.7232, Accuracy: 0.7244\n"
     ]
    },
    {
     "name": "stderr",
     "output_type": "stream",
     "text": [
      "Validating: 100%|██████████| 2/2 [00:00<00:00,  4.12it/s]\n"
     ]
    },
    {
     "name": "stdout",
     "output_type": "stream",
     "text": [
      "  Train Loss: 0.7232 | Train Acc: 0.7244\n",
      "  Val Loss:   1.5930 | Val Acc:   0.2800\n",
      "  Epoch Duration: 1.69 seconds\n",
      "\n",
      "--- Fold 2, Epoch 6/100 ---\n"
     ]
    },
    {
     "name": "stderr",
     "output_type": "stream",
     "text": [
      "Training: 100%|██████████| 9/9 [00:01<00:00,  8.65it/s]\n"
     ]
    },
    {
     "name": "stdout",
     "output_type": "stream",
     "text": [
      "Epoch Loss: 0.5553, Accuracy: 0.8057\n"
     ]
    },
    {
     "name": "stderr",
     "output_type": "stream",
     "text": [
      "Validating: 100%|██████████| 2/2 [00:00<00:00,  4.17it/s]\n"
     ]
    },
    {
     "name": "stdout",
     "output_type": "stream",
     "text": [
      "  Train Loss: 0.5553 | Train Acc: 0.8057\n",
      "  Val Loss:   1.5425 | Val Acc:   0.3600\n",
      "  Epoch Duration: 1.53 seconds\n",
      "\n",
      "--- Fold 2, Epoch 7/100 ---\n"
     ]
    },
    {
     "name": "stderr",
     "output_type": "stream",
     "text": [
      "Training: 100%|██████████| 9/9 [00:01<00:00,  8.58it/s]\n"
     ]
    },
    {
     "name": "stdout",
     "output_type": "stream",
     "text": [
      "Epoch Loss: 0.3685, Accuracy: 0.8763\n"
     ]
    },
    {
     "name": "stderr",
     "output_type": "stream",
     "text": [
      "Validating: 100%|██████████| 2/2 [00:00<00:00,  4.15it/s]\n"
     ]
    },
    {
     "name": "stdout",
     "output_type": "stream",
     "text": [
      "  Train Loss: 0.3685 | Train Acc: 0.8763\n",
      "  Val Loss:   1.4588 | Val Acc:   0.4200\n",
      "  Epoch Duration: 1.54 seconds\n",
      "  -> New best inner validation accuracy: 0.4200. Model state saved.\n",
      "\n",
      "--- Fold 2, Epoch 8/100 ---\n"
     ]
    },
    {
     "name": "stderr",
     "output_type": "stream",
     "text": [
      "Training: 100%|██████████| 9/9 [00:01<00:00,  8.57it/s]\n"
     ]
    },
    {
     "name": "stdout",
     "output_type": "stream",
     "text": [
      "Epoch Loss: 0.3065, Accuracy: 0.8975\n"
     ]
    },
    {
     "name": "stderr",
     "output_type": "stream",
     "text": [
      "Validating: 100%|██████████| 2/2 [00:00<00:00,  4.27it/s]\n"
     ]
    },
    {
     "name": "stdout",
     "output_type": "stream",
     "text": [
      "  Train Loss: 0.3065 | Train Acc: 0.8975\n",
      "  Val Loss:   1.6080 | Val Acc:   0.5200\n",
      "  Epoch Duration: 1.53 seconds\n",
      "  -> New best inner validation accuracy: 0.5200. Model state saved.\n",
      "\n",
      "--- Fold 2, Epoch 9/100 ---\n"
     ]
    },
    {
     "name": "stderr",
     "output_type": "stream",
     "text": [
      "Training: 100%|██████████| 9/9 [00:01<00:00,  8.61it/s]\n"
     ]
    },
    {
     "name": "stdout",
     "output_type": "stream",
     "text": [
      "Epoch Loss: 0.2278, Accuracy: 0.9399\n"
     ]
    },
    {
     "name": "stderr",
     "output_type": "stream",
     "text": [
      "Validating: 100%|██████████| 2/2 [00:00<00:00,  4.17it/s]\n"
     ]
    },
    {
     "name": "stdout",
     "output_type": "stream",
     "text": [
      "  Train Loss: 0.2278 | Train Acc: 0.9399\n",
      "  Val Loss:   2.0108 | Val Acc:   0.4200\n",
      "  Epoch Duration: 1.53 seconds\n",
      "\n",
      "--- Fold 2, Epoch 10/100 ---\n"
     ]
    },
    {
     "name": "stderr",
     "output_type": "stream",
     "text": [
      "Training: 100%|██████████| 9/9 [00:01<00:00,  8.60it/s]\n"
     ]
    },
    {
     "name": "stdout",
     "output_type": "stream",
     "text": [
      "Epoch Loss: 0.1453, Accuracy: 0.9611\n"
     ]
    },
    {
     "name": "stderr",
     "output_type": "stream",
     "text": [
      "Validating: 100%|██████████| 2/2 [00:00<00:00,  4.19it/s]\n"
     ]
    },
    {
     "name": "stdout",
     "output_type": "stream",
     "text": [
      "  Train Loss: 0.1453 | Train Acc: 0.9611\n",
      "  Val Loss:   2.3003 | Val Acc:   0.4000\n",
      "  Epoch Duration: 1.53 seconds\n",
      "\n",
      "--- Fold 2, Epoch 11/100 ---\n"
     ]
    },
    {
     "name": "stderr",
     "output_type": "stream",
     "text": [
      "Training: 100%|██████████| 9/9 [00:01<00:00,  8.52it/s]\n"
     ]
    },
    {
     "name": "stdout",
     "output_type": "stream",
     "text": [
      "Epoch Loss: 0.1390, Accuracy: 0.9611\n"
     ]
    },
    {
     "name": "stderr",
     "output_type": "stream",
     "text": [
      "Validating: 100%|██████████| 2/2 [00:00<00:00,  4.15it/s]\n"
     ]
    },
    {
     "name": "stdout",
     "output_type": "stream",
     "text": [
      "  Train Loss: 0.1390 | Train Acc: 0.9611\n",
      "  Val Loss:   2.8017 | Val Acc:   0.4000\n",
      "  Epoch Duration: 1.54 seconds\n",
      "\n",
      "--- Fold 2, Epoch 12/100 ---\n"
     ]
    },
    {
     "name": "stderr",
     "output_type": "stream",
     "text": [
      "Training: 100%|██████████| 9/9 [00:01<00:00,  8.64it/s]\n"
     ]
    },
    {
     "name": "stdout",
     "output_type": "stream",
     "text": [
      "Epoch Loss: 0.0837, Accuracy: 0.9753\n"
     ]
    },
    {
     "name": "stderr",
     "output_type": "stream",
     "text": [
      "Validating: 100%|██████████| 2/2 [00:00<00:00,  4.16it/s]\n"
     ]
    },
    {
     "name": "stdout",
     "output_type": "stream",
     "text": [
      "  Train Loss: 0.0837 | Train Acc: 0.9753\n",
      "  Val Loss:   2.5117 | Val Acc:   0.4200\n",
      "  Epoch Duration: 1.53 seconds\n",
      "\n",
      "--- Fold 2, Epoch 13/100 ---\n"
     ]
    },
    {
     "name": "stderr",
     "output_type": "stream",
     "text": [
      "Training: 100%|██████████| 9/9 [00:01<00:00,  8.62it/s]\n"
     ]
    },
    {
     "name": "stdout",
     "output_type": "stream",
     "text": [
      "Epoch Loss: 0.0439, Accuracy: 0.9859\n"
     ]
    },
    {
     "name": "stderr",
     "output_type": "stream",
     "text": [
      "Validating: 100%|██████████| 2/2 [00:00<00:00,  4.18it/s]\n"
     ]
    },
    {
     "name": "stdout",
     "output_type": "stream",
     "text": [
      "  Train Loss: 0.0439 | Train Acc: 0.9859\n",
      "  Val Loss:   2.1010 | Val Acc:   0.5000\n",
      "  Epoch Duration: 1.53 seconds\n",
      "\n",
      "--- Fold 2, Epoch 14/100 ---\n"
     ]
    },
    {
     "name": "stderr",
     "output_type": "stream",
     "text": [
      "Training: 100%|██████████| 9/9 [00:01<00:00,  8.51it/s]\n"
     ]
    },
    {
     "name": "stdout",
     "output_type": "stream",
     "text": [
      "Epoch Loss: 0.0781, Accuracy: 0.9717\n"
     ]
    },
    {
     "name": "stderr",
     "output_type": "stream",
     "text": [
      "Validating: 100%|██████████| 2/2 [00:00<00:00,  4.12it/s]\n"
     ]
    },
    {
     "name": "stdout",
     "output_type": "stream",
     "text": [
      "  Train Loss: 0.0781 | Train Acc: 0.9717\n",
      "  Val Loss:   2.7668 | Val Acc:   0.4600\n",
      "  Epoch Duration: 1.55 seconds\n",
      "\n",
      "--- Fold 2, Epoch 15/100 ---\n"
     ]
    },
    {
     "name": "stderr",
     "output_type": "stream",
     "text": [
      "Training: 100%|██████████| 9/9 [00:01<00:00,  8.57it/s]\n"
     ]
    },
    {
     "name": "stdout",
     "output_type": "stream",
     "text": [
      "Epoch Loss: 0.0634, Accuracy: 0.9823\n"
     ]
    },
    {
     "name": "stderr",
     "output_type": "stream",
     "text": [
      "Validating: 100%|██████████| 2/2 [00:00<00:00,  4.17it/s]\n"
     ]
    },
    {
     "name": "stdout",
     "output_type": "stream",
     "text": [
      "  Train Loss: 0.0634 | Train Acc: 0.9823\n",
      "  Val Loss:   2.6509 | Val Acc:   0.4600\n",
      "  Epoch Duration: 1.54 seconds\n",
      "\n",
      "--- Fold 2, Epoch 16/100 ---\n"
     ]
    },
    {
     "name": "stderr",
     "output_type": "stream",
     "text": [
      "Training: 100%|██████████| 9/9 [00:01<00:00,  8.50it/s]\n"
     ]
    },
    {
     "name": "stdout",
     "output_type": "stream",
     "text": [
      "Epoch Loss: 0.0317, Accuracy: 0.9965\n"
     ]
    },
    {
     "name": "stderr",
     "output_type": "stream",
     "text": [
      "Validating: 100%|██████████| 2/2 [00:00<00:00,  4.19it/s]\n"
     ]
    },
    {
     "name": "stdout",
     "output_type": "stream",
     "text": [
      "  Train Loss: 0.0317 | Train Acc: 0.9965\n",
      "  Val Loss:   3.1519 | Val Acc:   0.4200\n",
      "  Epoch Duration: 1.54 seconds\n",
      "\n",
      "--- Fold 2, Epoch 17/100 ---\n"
     ]
    },
    {
     "name": "stderr",
     "output_type": "stream",
     "text": [
      "Training: 100%|██████████| 9/9 [00:01<00:00,  8.55it/s]\n"
     ]
    },
    {
     "name": "stdout",
     "output_type": "stream",
     "text": [
      "Epoch Loss: 0.0376, Accuracy: 0.9965\n"
     ]
    },
    {
     "name": "stderr",
     "output_type": "stream",
     "text": [
      "Validating: 100%|██████████| 2/2 [00:00<00:00,  4.22it/s]\n"
     ]
    },
    {
     "name": "stdout",
     "output_type": "stream",
     "text": [
      "  Train Loss: 0.0376 | Train Acc: 0.9965\n",
      "  Val Loss:   3.2396 | Val Acc:   0.4600\n",
      "  Epoch Duration: 1.53 seconds\n",
      "\n",
      "--- Fold 2, Epoch 18/100 ---\n"
     ]
    },
    {
     "name": "stderr",
     "output_type": "stream",
     "text": [
      "Training: 100%|██████████| 9/9 [00:01<00:00,  8.59it/s]\n"
     ]
    },
    {
     "name": "stdout",
     "output_type": "stream",
     "text": [
      "Epoch Loss: 0.0519, Accuracy: 0.9859\n"
     ]
    },
    {
     "name": "stderr",
     "output_type": "stream",
     "text": [
      "Validating: 100%|██████████| 2/2 [00:00<00:00,  4.25it/s]\n"
     ]
    },
    {
     "name": "stdout",
     "output_type": "stream",
     "text": [
      "  Train Loss: 0.0519 | Train Acc: 0.9859\n",
      "  Val Loss:   3.4332 | Val Acc:   0.4200\n",
      "  Epoch Duration: 1.53 seconds\n",
      "  Early stopping at epoch 18.\n",
      "\n",
      "--- Fold 2 Final Evaluation ---\n",
      "Loading best model for fold 2 (achieved 0.5200 on inner val set).\n"
     ]
    },
    {
     "name": "stderr",
     "output_type": "stream",
     "text": [
      "Validating: 100%|██████████| 6/6 [00:00<00:00,  9.54it/s]\n"
     ]
    },
    {
     "name": "stdout",
     "output_type": "stream",
     "text": [
      "Performance of best model on the OUTER TEST SET for fold 2: 0.4132\n",
      "\n",
      "============================== OUTER FOLD 3/3 ==============================\n",
      "Loading pretrained weights from: ../RADIO/saved_models/RADIO1_MSRGNN/deployable_model.pth\n",
      "\n",
      "--- Transfer Learning Report ---\n",
      "Successfully loaded 138 / 140 layers.\n",
      "\n",
      "Skipped 1 layers:\n",
      "  - reasoner.panel_pos_emb.weight (Shape Mismatch. Pretrained: torch.Size([9, 128]), Model: torch.Size([4, 128]))\n",
      "--------------------------------\n",
      "\n",
      "Fold 3 Model has 4,804,547 trainable parameters.\n",
      "Fold 3 Training on 283, Validating on 51, Testing on 166.\n",
      "\n",
      "--- Fold 3, Epoch 1/100 ---\n"
     ]
    },
    {
     "name": "stderr",
     "output_type": "stream",
     "text": [
      "Training: 100%|██████████| 9/9 [00:01<00:00,  8.65it/s]\n"
     ]
    },
    {
     "name": "stdout",
     "output_type": "stream",
     "text": [
      "Epoch Loss: 1.4042, Accuracy: 0.4311\n"
     ]
    },
    {
     "name": "stderr",
     "output_type": "stream",
     "text": [
      "Validating: 100%|██████████| 2/2 [00:00<00:00,  4.26it/s]\n"
     ]
    },
    {
     "name": "stdout",
     "output_type": "stream",
     "text": [
      "  Train Loss: 1.4042 | Train Acc: 0.4311\n",
      "  Val Loss:   1.6095 | Val Acc:   0.2353\n",
      "  Epoch Duration: 1.52 seconds\n",
      "  -> New best inner validation accuracy: 0.2353. Model state saved.\n",
      "\n",
      "--- Fold 3, Epoch 2/100 ---\n"
     ]
    },
    {
     "name": "stderr",
     "output_type": "stream",
     "text": [
      "Training: 100%|██████████| 9/9 [00:01<00:00,  8.58it/s]\n"
     ]
    },
    {
     "name": "stdout",
     "output_type": "stream",
     "text": [
      "Epoch Loss: 1.1139, Accuracy: 0.5760\n"
     ]
    },
    {
     "name": "stderr",
     "output_type": "stream",
     "text": [
      "Validating: 100%|██████████| 2/2 [00:00<00:00,  4.17it/s]\n"
     ]
    },
    {
     "name": "stdout",
     "output_type": "stream",
     "text": [
      "  Train Loss: 1.1139 | Train Acc: 0.5760\n",
      "  Val Loss:   1.6088 | Val Acc:   0.3922\n",
      "  Epoch Duration: 1.53 seconds\n",
      "  -> New best inner validation accuracy: 0.3922. Model state saved.\n",
      "\n",
      "--- Fold 3, Epoch 3/100 ---\n"
     ]
    },
    {
     "name": "stderr",
     "output_type": "stream",
     "text": [
      "Training: 100%|██████████| 9/9 [00:01<00:00,  8.57it/s]\n"
     ]
    },
    {
     "name": "stdout",
     "output_type": "stream",
     "text": [
      "Epoch Loss: 0.9017, Accuracy: 0.6572\n"
     ]
    },
    {
     "name": "stderr",
     "output_type": "stream",
     "text": [
      "Validating: 100%|██████████| 2/2 [00:00<00:00,  4.18it/s]\n"
     ]
    },
    {
     "name": "stdout",
     "output_type": "stream",
     "text": [
      "  Train Loss: 0.9017 | Train Acc: 0.6572\n",
      "  Val Loss:   1.6093 | Val Acc:   0.2549\n",
      "  Epoch Duration: 1.54 seconds\n",
      "\n",
      "--- Fold 3, Epoch 4/100 ---\n"
     ]
    },
    {
     "name": "stderr",
     "output_type": "stream",
     "text": [
      "Training: 100%|██████████| 9/9 [00:01<00:00,  8.49it/s]\n"
     ]
    },
    {
     "name": "stdout",
     "output_type": "stream",
     "text": [
      "Epoch Loss: 0.7488, Accuracy: 0.7244\n"
     ]
    },
    {
     "name": "stderr",
     "output_type": "stream",
     "text": [
      "Validating: 100%|██████████| 2/2 [00:00<00:00,  4.15it/s]\n"
     ]
    },
    {
     "name": "stdout",
     "output_type": "stream",
     "text": [
      "  Train Loss: 0.7488 | Train Acc: 0.7244\n",
      "  Val Loss:   1.6105 | Val Acc:   0.2157\n",
      "  Epoch Duration: 1.55 seconds\n",
      "\n",
      "--- Fold 3, Epoch 5/100 ---\n"
     ]
    },
    {
     "name": "stderr",
     "output_type": "stream",
     "text": [
      "Training: 100%|██████████| 9/9 [00:01<00:00,  8.49it/s]\n"
     ]
    },
    {
     "name": "stdout",
     "output_type": "stream",
     "text": [
      "Epoch Loss: 0.5869, Accuracy: 0.8021\n"
     ]
    },
    {
     "name": "stderr",
     "output_type": "stream",
     "text": [
      "Validating: 100%|██████████| 2/2 [00:00<00:00,  4.15it/s]\n"
     ]
    },
    {
     "name": "stdout",
     "output_type": "stream",
     "text": [
      "  Train Loss: 0.5869 | Train Acc: 0.8021\n",
      "  Val Loss:   1.6120 | Val Acc:   0.1961\n",
      "  Epoch Duration: 1.55 seconds\n",
      "\n",
      "--- Fold 3, Epoch 6/100 ---\n"
     ]
    },
    {
     "name": "stderr",
     "output_type": "stream",
     "text": [
      "Training: 100%|██████████| 9/9 [00:01<00:00,  8.55it/s]\n"
     ]
    },
    {
     "name": "stdout",
     "output_type": "stream",
     "text": [
      "Epoch Loss: 0.4004, Accuracy: 0.8905\n"
     ]
    },
    {
     "name": "stderr",
     "output_type": "stream",
     "text": [
      "Validating: 100%|██████████| 2/2 [00:00<00:00,  4.20it/s]\n"
     ]
    },
    {
     "name": "stdout",
     "output_type": "stream",
     "text": [
      "  Train Loss: 0.4004 | Train Acc: 0.8905\n",
      "  Val Loss:   1.6091 | Val Acc:   0.1961\n",
      "  Epoch Duration: 1.54 seconds\n",
      "\n",
      "--- Fold 3, Epoch 7/100 ---\n"
     ]
    },
    {
     "name": "stderr",
     "output_type": "stream",
     "text": [
      "Training: 100%|██████████| 9/9 [00:01<00:00,  8.50it/s]\n"
     ]
    },
    {
     "name": "stdout",
     "output_type": "stream",
     "text": [
      "Epoch Loss: 0.2343, Accuracy: 0.9258\n"
     ]
    },
    {
     "name": "stderr",
     "output_type": "stream",
     "text": [
      "Validating: 100%|██████████| 2/2 [00:00<00:00,  4.18it/s]\n"
     ]
    },
    {
     "name": "stdout",
     "output_type": "stream",
     "text": [
      "  Train Loss: 0.2343 | Train Acc: 0.9258\n",
      "  Val Loss:   1.5806 | Val Acc:   0.2941\n",
      "  Epoch Duration: 1.54 seconds\n",
      "\n",
      "--- Fold 3, Epoch 8/100 ---\n"
     ]
    },
    {
     "name": "stderr",
     "output_type": "stream",
     "text": [
      "Training: 100%|██████████| 9/9 [00:01<00:00,  8.65it/s]\n"
     ]
    },
    {
     "name": "stdout",
     "output_type": "stream",
     "text": [
      "Epoch Loss: 0.1523, Accuracy: 0.9611\n"
     ]
    },
    {
     "name": "stderr",
     "output_type": "stream",
     "text": [
      "Validating: 100%|██████████| 2/2 [00:00<00:00,  4.09it/s]\n"
     ]
    },
    {
     "name": "stdout",
     "output_type": "stream",
     "text": [
      "  Train Loss: 0.1523 | Train Acc: 0.9611\n",
      "  Val Loss:   1.7055 | Val Acc:   0.4118\n",
      "  Epoch Duration: 1.54 seconds\n",
      "  -> New best inner validation accuracy: 0.4118. Model state saved.\n",
      "\n",
      "--- Fold 3, Epoch 9/100 ---\n"
     ]
    },
    {
     "name": "stderr",
     "output_type": "stream",
     "text": [
      "Training: 100%|██████████| 9/9 [00:01<00:00,  8.54it/s]\n"
     ]
    },
    {
     "name": "stdout",
     "output_type": "stream",
     "text": [
      "Epoch Loss: 0.0915, Accuracy: 0.9823\n"
     ]
    },
    {
     "name": "stderr",
     "output_type": "stream",
     "text": [
      "Validating: 100%|██████████| 2/2 [00:00<00:00,  4.17it/s]\n"
     ]
    },
    {
     "name": "stdout",
     "output_type": "stream",
     "text": [
      "  Train Loss: 0.0915 | Train Acc: 0.9823\n",
      "  Val Loss:   2.1581 | Val Acc:   0.4510\n",
      "  Epoch Duration: 1.54 seconds\n",
      "  -> New best inner validation accuracy: 0.4510. Model state saved.\n",
      "\n",
      "--- Fold 3, Epoch 10/100 ---\n"
     ]
    },
    {
     "name": "stderr",
     "output_type": "stream",
     "text": [
      "Training: 100%|██████████| 9/9 [00:01<00:00,  8.51it/s]\n"
     ]
    },
    {
     "name": "stdout",
     "output_type": "stream",
     "text": [
      "Epoch Loss: 0.0758, Accuracy: 0.9965\n"
     ]
    },
    {
     "name": "stderr",
     "output_type": "stream",
     "text": [
      "Validating: 100%|██████████| 2/2 [00:00<00:00,  4.12it/s]\n"
     ]
    },
    {
     "name": "stdout",
     "output_type": "stream",
     "text": [
      "  Train Loss: 0.0758 | Train Acc: 0.9965\n",
      "  Val Loss:   2.1611 | Val Acc:   0.4706\n",
      "  Epoch Duration: 1.55 seconds\n",
      "  -> New best inner validation accuracy: 0.4706. Model state saved.\n",
      "\n",
      "--- Fold 3, Epoch 11/100 ---\n"
     ]
    },
    {
     "name": "stderr",
     "output_type": "stream",
     "text": [
      "Training: 100%|██████████| 9/9 [00:01<00:00,  8.60it/s]\n"
     ]
    },
    {
     "name": "stdout",
     "output_type": "stream",
     "text": [
      "Epoch Loss: 0.0576, Accuracy: 0.9859\n"
     ]
    },
    {
     "name": "stderr",
     "output_type": "stream",
     "text": [
      "Validating: 100%|██████████| 2/2 [00:00<00:00,  4.12it/s]\n"
     ]
    },
    {
     "name": "stdout",
     "output_type": "stream",
     "text": [
      "  Train Loss: 0.0576 | Train Acc: 0.9859\n",
      "  Val Loss:   2.4126 | Val Acc:   0.4510\n",
      "  Epoch Duration: 1.54 seconds\n",
      "\n",
      "--- Fold 3, Epoch 12/100 ---\n"
     ]
    },
    {
     "name": "stderr",
     "output_type": "stream",
     "text": [
      "Training: 100%|██████████| 9/9 [00:01<00:00,  8.52it/s]\n"
     ]
    },
    {
     "name": "stdout",
     "output_type": "stream",
     "text": [
      "Epoch Loss: 0.0498, Accuracy: 0.9859\n"
     ]
    },
    {
     "name": "stderr",
     "output_type": "stream",
     "text": [
      "Validating: 100%|██████████| 2/2 [00:00<00:00,  4.16it/s]\n"
     ]
    },
    {
     "name": "stdout",
     "output_type": "stream",
     "text": [
      "  Train Loss: 0.0498 | Train Acc: 0.9859\n",
      "  Val Loss:   2.9289 | Val Acc:   0.4314\n",
      "  Epoch Duration: 1.54 seconds\n",
      "\n",
      "--- Fold 3, Epoch 13/100 ---\n"
     ]
    },
    {
     "name": "stderr",
     "output_type": "stream",
     "text": [
      "Training: 100%|██████████| 9/9 [00:01<00:00,  8.59it/s]\n"
     ]
    },
    {
     "name": "stdout",
     "output_type": "stream",
     "text": [
      "Epoch Loss: 0.0183, Accuracy: 1.0000\n"
     ]
    },
    {
     "name": "stderr",
     "output_type": "stream",
     "text": [
      "Validating: 100%|██████████| 2/2 [00:00<00:00,  4.14it/s]\n"
     ]
    },
    {
     "name": "stdout",
     "output_type": "stream",
     "text": [
      "  Train Loss: 0.0183 | Train Acc: 1.0000\n",
      "  Val Loss:   2.3053 | Val Acc:   0.5098\n",
      "  Epoch Duration: 1.54 seconds\n",
      "  -> New best inner validation accuracy: 0.5098. Model state saved.\n",
      "\n",
      "--- Fold 3, Epoch 14/100 ---\n"
     ]
    },
    {
     "name": "stderr",
     "output_type": "stream",
     "text": [
      "Training: 100%|██████████| 9/9 [00:01<00:00,  8.55it/s]\n"
     ]
    },
    {
     "name": "stdout",
     "output_type": "stream",
     "text": [
      "Epoch Loss: 0.0452, Accuracy: 0.9823\n"
     ]
    },
    {
     "name": "stderr",
     "output_type": "stream",
     "text": [
      "Validating: 100%|██████████| 2/2 [00:00<00:00,  4.13it/s]\n"
     ]
    },
    {
     "name": "stdout",
     "output_type": "stream",
     "text": [
      "  Train Loss: 0.0452 | Train Acc: 0.9823\n",
      "  Val Loss:   3.2984 | Val Acc:   0.4118\n",
      "  Epoch Duration: 1.54 seconds\n",
      "\n",
      "--- Fold 3, Epoch 15/100 ---\n"
     ]
    },
    {
     "name": "stderr",
     "output_type": "stream",
     "text": [
      "Training: 100%|██████████| 9/9 [00:01<00:00,  8.51it/s]\n"
     ]
    },
    {
     "name": "stdout",
     "output_type": "stream",
     "text": [
      "Epoch Loss: 0.0305, Accuracy: 0.9965\n"
     ]
    },
    {
     "name": "stderr",
     "output_type": "stream",
     "text": [
      "Validating: 100%|██████████| 2/2 [00:00<00:00,  4.23it/s]\n"
     ]
    },
    {
     "name": "stdout",
     "output_type": "stream",
     "text": [
      "  Train Loss: 0.0305 | Train Acc: 0.9965\n",
      "  Val Loss:   2.8995 | Val Acc:   0.4510\n",
      "  Epoch Duration: 1.54 seconds\n",
      "\n",
      "--- Fold 3, Epoch 16/100 ---\n"
     ]
    },
    {
     "name": "stderr",
     "output_type": "stream",
     "text": [
      "Training: 100%|██████████| 9/9 [00:01<00:00,  8.69it/s]\n"
     ]
    },
    {
     "name": "stdout",
     "output_type": "stream",
     "text": [
      "Epoch Loss: 0.0267, Accuracy: 0.9929\n"
     ]
    },
    {
     "name": "stderr",
     "output_type": "stream",
     "text": [
      "Validating: 100%|██████████| 2/2 [00:00<00:00,  4.27it/s]\n"
     ]
    },
    {
     "name": "stdout",
     "output_type": "stream",
     "text": [
      "  Train Loss: 0.0267 | Train Acc: 0.9929\n",
      "  Val Loss:   3.0517 | Val Acc:   0.5098\n",
      "  Epoch Duration: 1.51 seconds\n",
      "\n",
      "--- Fold 3, Epoch 17/100 ---\n"
     ]
    },
    {
     "name": "stderr",
     "output_type": "stream",
     "text": [
      "Training: 100%|██████████| 9/9 [00:01<00:00,  8.69it/s]\n"
     ]
    },
    {
     "name": "stdout",
     "output_type": "stream",
     "text": [
      "Epoch Loss: 0.0170, Accuracy: 1.0000\n"
     ]
    },
    {
     "name": "stderr",
     "output_type": "stream",
     "text": [
      "Validating: 100%|██████████| 2/2 [00:00<00:00,  4.28it/s]\n"
     ]
    },
    {
     "name": "stdout",
     "output_type": "stream",
     "text": [
      "  Train Loss: 0.0170 | Train Acc: 1.0000\n",
      "  Val Loss:   3.5460 | Val Acc:   0.4902\n",
      "  Epoch Duration: 1.51 seconds\n",
      "\n",
      "--- Fold 3, Epoch 18/100 ---\n"
     ]
    },
    {
     "name": "stderr",
     "output_type": "stream",
     "text": [
      "Training: 100%|██████████| 9/9 [00:01<00:00,  8.57it/s]\n"
     ]
    },
    {
     "name": "stdout",
     "output_type": "stream",
     "text": [
      "Epoch Loss: 0.0172, Accuracy: 0.9965\n"
     ]
    },
    {
     "name": "stderr",
     "output_type": "stream",
     "text": [
      "Validating: 100%|██████████| 2/2 [00:00<00:00,  4.26it/s]\n"
     ]
    },
    {
     "name": "stdout",
     "output_type": "stream",
     "text": [
      "  Train Loss: 0.0172 | Train Acc: 0.9965\n",
      "  Val Loss:   3.7156 | Val Acc:   0.4314\n",
      "  Epoch Duration: 1.53 seconds\n",
      "\n",
      "--- Fold 3, Epoch 19/100 ---\n"
     ]
    },
    {
     "name": "stderr",
     "output_type": "stream",
     "text": [
      "Training: 100%|██████████| 9/9 [00:01<00:00,  8.63it/s]\n"
     ]
    },
    {
     "name": "stdout",
     "output_type": "stream",
     "text": [
      "Epoch Loss: 0.0132, Accuracy: 0.9965\n"
     ]
    },
    {
     "name": "stderr",
     "output_type": "stream",
     "text": [
      "Validating: 100%|██████████| 2/2 [00:00<00:00,  4.29it/s]\n"
     ]
    },
    {
     "name": "stdout",
     "output_type": "stream",
     "text": [
      "  Train Loss: 0.0132 | Train Acc: 0.9965\n",
      "  Val Loss:   3.2340 | Val Acc:   0.4314\n",
      "  Epoch Duration: 1.51 seconds\n",
      "\n",
      "--- Fold 3, Epoch 20/100 ---\n"
     ]
    },
    {
     "name": "stderr",
     "output_type": "stream",
     "text": [
      "Training: 100%|██████████| 9/9 [00:01<00:00,  8.70it/s]\n"
     ]
    },
    {
     "name": "stdout",
     "output_type": "stream",
     "text": [
      "Epoch Loss: 0.0201, Accuracy: 0.9894\n"
     ]
    },
    {
     "name": "stderr",
     "output_type": "stream",
     "text": [
      "Validating: 100%|██████████| 2/2 [00:00<00:00,  4.14it/s]\n"
     ]
    },
    {
     "name": "stdout",
     "output_type": "stream",
     "text": [
      "  Train Loss: 0.0201 | Train Acc: 0.9894\n",
      "  Val Loss:   3.3382 | Val Acc:   0.4510\n",
      "  Epoch Duration: 1.52 seconds\n",
      "\n",
      "--- Fold 3, Epoch 21/100 ---\n"
     ]
    },
    {
     "name": "stderr",
     "output_type": "stream",
     "text": [
      "Training: 100%|██████████| 9/9 [00:01<00:00,  8.39it/s]\n"
     ]
    },
    {
     "name": "stdout",
     "output_type": "stream",
     "text": [
      "Epoch Loss: 0.0198, Accuracy: 0.9929\n"
     ]
    },
    {
     "name": "stderr",
     "output_type": "stream",
     "text": [
      "Validating: 100%|██████████| 2/2 [00:00<00:00,  4.17it/s]\n"
     ]
    },
    {
     "name": "stdout",
     "output_type": "stream",
     "text": [
      "  Train Loss: 0.0198 | Train Acc: 0.9929\n",
      "  Val Loss:   3.1799 | Val Acc:   0.4706\n",
      "  Epoch Duration: 1.56 seconds\n",
      "\n",
      "--- Fold 3, Epoch 22/100 ---\n"
     ]
    },
    {
     "name": "stderr",
     "output_type": "stream",
     "text": [
      "Training: 100%|██████████| 9/9 [00:01<00:00,  8.62it/s]\n"
     ]
    },
    {
     "name": "stdout",
     "output_type": "stream",
     "text": [
      "Epoch Loss: 0.0264, Accuracy: 0.9965\n"
     ]
    },
    {
     "name": "stderr",
     "output_type": "stream",
     "text": [
      "Validating: 100%|██████████| 2/2 [00:00<00:00,  4.18it/s]\n"
     ]
    },
    {
     "name": "stdout",
     "output_type": "stream",
     "text": [
      "  Train Loss: 0.0264 | Train Acc: 0.9965\n",
      "  Val Loss:   3.5020 | Val Acc:   0.5098\n",
      "  Epoch Duration: 1.53 seconds\n",
      "\n",
      "--- Fold 3, Epoch 23/100 ---\n"
     ]
    },
    {
     "name": "stderr",
     "output_type": "stream",
     "text": [
      "Training: 100%|██████████| 9/9 [00:01<00:00,  8.63it/s]\n"
     ]
    },
    {
     "name": "stdout",
     "output_type": "stream",
     "text": [
      "Epoch Loss: 0.0289, Accuracy: 0.9929\n"
     ]
    },
    {
     "name": "stderr",
     "output_type": "stream",
     "text": [
      "Validating: 100%|██████████| 2/2 [00:00<00:00,  4.15it/s]\n"
     ]
    },
    {
     "name": "stdout",
     "output_type": "stream",
     "text": [
      "  Train Loss: 0.0289 | Train Acc: 0.9929\n",
      "  Val Loss:   3.3996 | Val Acc:   0.4314\n",
      "  Epoch Duration: 1.53 seconds\n",
      "  Early stopping at epoch 23.\n",
      "\n",
      "--- Fold 3 Final Evaluation ---\n",
      "Loading best model for fold 3 (achieved 0.5098 on inner val set).\n"
     ]
    },
    {
     "name": "stderr",
     "output_type": "stream",
     "text": [
      "Validating: 100%|██████████| 6/6 [00:00<00:00,  9.81it/s]"
     ]
    },
    {
     "name": "stdout",
     "output_type": "stream",
     "text": [
      "Performance of best model on the OUTER TEST SET for fold 3: 0.4458\n",
      "\n",
      "============================== FINAL UNBIASED PERFORMANCE SUMMARY ==============================\n",
      "Unbiased test accuracies from each fold: ['0.5090', '0.4132', '0.4458']\n",
      "Average Test Accuracy from CV: 0.4560\n",
      "Standard Deviation of Test Accuracy from CV: 0.0398\n",
      "-> Estimated Generalization Performance: 0.4560 ± 0.0398\n",
      "\n",
      "Cross-validation finished.\n",
      "To view TensorBoard logs, run the following command in your terminal:\n",
      "tensorboard --logdir runs/O3_5-MSRGNN-TRANSFER_RADIO\n"
     ]
    },
    {
     "name": "stderr",
     "output_type": "stream",
     "text": [
      "\n"
     ]
    }
   ],
   "source": [
    "from sklearn.model_selection import train_test_split\n",
    "VAL_SPLIT_SIZE = 0.15\n",
    "\n",
    "MODEL_FOLDER_NAME = \"O3_5-MSRGNN-TRANSFER_RADIO\"\n",
    "\n",
    "# ==============================================================================\n",
    "# 2. DATASET & FOLD SETUP\n",
    "# ==============================================================================\n",
    "print(f\"Total data for cross-validation: {len(full_dataset)} samples.\")\n",
    "\n",
    "kfold = KFold(n_splits=N_SPLITS, shuffle=True, random_state=42)\n",
    "fold_test_results = []\n",
    "\n",
    "# ==============================================================================\n",
    "# 3. CROSS-VALIDATION LOOP\n",
    "# ==============================================================================\n",
    "for fold, (train_outer_idx, test_outer_idx) in enumerate(kfold.split(np.zeros(len(full_dataset)))):\n",
    "    print(f\"\\n{'='*30} OUTER FOLD {fold+1}/{N_SPLITS} {'='*30}\")\n",
    "\n",
    "    SAVED_MODELS_PATH = f\"./saved_models/{MODEL_FOLDER_NAME}/\"\n",
    "\n",
    "    if not os.path.exists(SAVED_MODELS_PATH):\n",
    "        os.makedirs(SAVED_MODELS_PATH)\n",
    "    writer = SummaryWriter(log_dir=f'runs/{MODEL_FOLDER_NAME}/fold_{fold+1}')\n",
    "\n",
    "    inner_train_idx, inner_val_idx = train_test_split(\n",
    "        train_outer_idx,\n",
    "        test_size=VAL_SPLIT_SIZE,\n",
    "        shuffle=True, # Shuffle before splitting\n",
    "        random_state=42\n",
    "    )\n",
    "\n",
    "    inner_train_subset = Subset(full_dataset, inner_train_idx)\n",
    "    inner_val_subset = Subset(full_dataset, inner_val_idx)\n",
    "    outer_test_subset = Subset(full_dataset, test_outer_idx)\n",
    "\n",
    "    train_loader = DataLoader(inner_train_subset, batch_size=BATCH_SIZE, shuffle=True, num_workers=4, pin_memory=True)\n",
    "    val_loader = DataLoader(inner_val_subset, batch_size=BATCH_SIZE, shuffle=False, num_workers=4, pin_memory=True)\n",
    "    test_loader = DataLoader(outer_test_subset, batch_size=BATCH_SIZE, shuffle=False, num_workers=4, pin_memory=True)\n",
    "\n",
    "    model = OddOneOutMSRGNN(**model_params).to(DEVICE)\n",
    "\n",
    "    load_partial_state_dict(\n",
    "        model,\n",
    "        \"../RADIO/saved_models/RADIO1_MSRGNN/deployable_model.pth\"\n",
    "    )\n",
    "\n",
    "    optimizer = torch.optim.AdamW(model.parameters(), lr=LEARNING_RATE, weight_decay=WEIGHT_DECAY)\n",
    "    criterion = nn.CrossEntropyLoss()\n",
    "    scheduler = torch.optim.lr_scheduler.CosineAnnealingLR(optimizer, T_max=EPOCHS, eta_min=1e-6)\n",
    "    scaler = None\n",
    "\n",
    "    total_params = sum(p.numel() for p in model.parameters() if p.requires_grad)\n",
    "    print(f\"Fold {fold+1} Model has {total_params:,} trainable parameters.\")\n",
    "    print(f\"Fold {fold+1} Training on {len(inner_train_subset)}, Validating on {len(inner_val_subset)}, Testing on {len(outer_test_subset)}.\")\n",
    "\n",
    "    best_model_path = f\"{SAVED_MODELS_PATH}/best_model_fold_{fold+1}.pth\"\n",
    "    best_val_acc_fold = 0.0\n",
    "    epochs_without_improvement = 0\n",
    "\n",
    "    for epoch in range(1, EPOCHS + 1):\n",
    "        epoch_start_time = time.time()\n",
    "        \n",
    "        print(f\"\\n--- Fold {fold+1}, Epoch {epoch}/{EPOCHS} ---\")\n",
    "        train_loss, train_acc = train_epoch(model, train_loader, optimizer, criterion, DEVICE)\n",
    "        val_loss, val_acc = validate(model, val_loader, criterion, DEVICE)\n",
    "\n",
    "        scheduler.step()\n",
    "\n",
    "        epoch_duration = time.time() - epoch_start_time\n",
    "\n",
    "        print(f\"  Train Loss: {train_loss:.4f} | Train Acc: {train_acc:.4f}\")\n",
    "        print(f\"  Val Loss:   {val_loss:.4f} | Val Acc:   {val_acc:.4f}\")\n",
    "        print(f\"  Epoch Duration: {epoch_duration:.2f} seconds\")\n",
    "        \n",
    "        writer.add_scalar('Loss/train', train_loss, epoch)\n",
    "        writer.add_scalar('Accuracy/train', train_acc, epoch)\n",
    "        writer.add_scalar('Loss/val', val_loss, epoch)\n",
    "        writer.add_scalar('Accuracy/val', val_acc, epoch)\n",
    "        writer.add_scalar('Performance/seconds_per_epoch', epoch_duration, epoch)\n",
    "        writer.add_scalar('Learning_Rate', optimizer.param_groups[0]['lr'], epoch)\n",
    "\n",
    "        if val_acc > best_val_acc_fold:\n",
    "            best_val_acc_fold = val_acc\n",
    "            epochs_without_improvement = 0\n",
    "            torch.save(model.state_dict(), best_model_path)\n",
    "            print(f\"  -> New best inner validation accuracy: {best_val_acc_fold:.4f}. Model state saved.\")\n",
    "        else:\n",
    "            epochs_without_improvement += 1\n",
    "            if epochs_without_improvement >= PATIENCE:\n",
    "                print(f\"  Early stopping at epoch {epoch}.\")\n",
    "                break\n",
    "    \n",
    "    print(f\"\\n--- Fold {fold+1} Final Evaluation ---\")\n",
    "    print(f\"Loading best model for fold {fold+1} (achieved {best_val_acc_fold:.4f} on inner val set).\")\n",
    "    # Load the best model weights identified during the inner loop\n",
    "    model.load_state_dict(torch.load(best_model_path))\n",
    "    \n",
    "    # Evaluate this best model on the completely unseen outer test set\n",
    "    _, final_fold_test_acc = validate(model, test_loader, criterion, DEVICE)\n",
    "    print(f\"Performance of best model on the OUTER TEST SET for fold {fold+1}: {final_fold_test_acc:.4f}\")\n",
    "\n",
    "    fold_test_results.append(final_fold_test_acc)\n",
    "    writer.add_scalar('Accuracy/test', final_fold_test_acc)\n",
    "    \n",
    "    hparams = { 'learning_rate': LEARNING_RATE, 'batch_size': BATCH_SIZE, **model_params }\n",
    "    final_metrics = {\n",
    "        'hparam/test_accuracy': final_fold_test_acc,\n",
    "        'hparam/best_inner_val_accuracy': best_val_acc_fold\n",
    "    }\n",
    "    writer.add_hparams(hparams, final_metrics)\n",
    "    writer.close()\n",
    "\n",
    "# ==============================================================================\n",
    "# 4. AGGREGATE AND REPORT CV RESULTS\n",
    "# ==============================================================================\n",
    "mean_test_acc = np.mean(fold_test_results)\n",
    "std_test_acc = np.std(fold_test_results)\n",
    "\n",
    "print(f\"\\n{'='*30} FINAL UNBIASED PERFORMANCE SUMMARY {'='*30}\")\n",
    "print(f\"Unbiased test accuracies from each fold: {[f'{acc:.4f}' for acc in fold_test_results]}\")\n",
    "print(f\"Average Test Accuracy from CV: {mean_test_acc:.4f}\")\n",
    "print(f\"Standard Deviation of Test Accuracy from CV: {std_test_acc:.4f}\")\n",
    "print(f\"-> Estimated Generalization Performance: {mean_test_acc:.4f} \\u00B1 {std_test_acc:.4f}\")\n",
    "\n",
    "print(\"\\nCross-validation finished.\")\n",
    "print(\"To view TensorBoard logs, run the following command in your terminal:\")\n",
    "print(f\"tensorboard --logdir runs/{MODEL_FOLDER_NAME}\")"
   ]
  },
  {
   "cell_type": "markdown",
   "id": "1d1129cf",
   "metadata": {},
   "source": [
    "# RADIO-2 to O3 TL"
   ]
  },
  {
   "cell_type": "code",
   "execution_count": 32,
   "id": "115e42e9",
   "metadata": {},
   "outputs": [
    {
     "name": "stdout",
     "output_type": "stream",
     "text": [
      "Total data for cross-validation: 500 samples.\n",
      "\n",
      "============================== OUTER FOLD 1/3 ==============================\n",
      "Loading pretrained weights from: ../RADIO/saved_models/RADIO2_MSRGNN/deployable_model.pth\n",
      "\n",
      "--- Transfer Learning Report ---\n",
      "Successfully loaded 138 / 140 layers.\n",
      "\n",
      "Skipped 1 layers:\n",
      "  - reasoner.panel_pos_emb.weight (Shape Mismatch. Pretrained: torch.Size([9, 128]), Model: torch.Size([4, 128]))\n",
      "--------------------------------\n",
      "\n",
      "Fold 1 Model has 4,804,547 trainable parameters.\n",
      "Fold 1 Training on 283, Validating on 50, Testing on 167.\n",
      "\n",
      "--- Fold 1, Epoch 1/100 ---\n"
     ]
    },
    {
     "name": "stderr",
     "output_type": "stream",
     "text": [
      "Training: 100%|██████████| 9/9 [00:01<00:00,  8.26it/s]\n"
     ]
    },
    {
     "name": "stdout",
     "output_type": "stream",
     "text": [
      "Epoch Loss: 1.3835, Accuracy: 0.4452\n"
     ]
    },
    {
     "name": "stderr",
     "output_type": "stream",
     "text": [
      "Validating: 100%|██████████| 2/2 [00:00<00:00,  4.38it/s]\n"
     ]
    },
    {
     "name": "stdout",
     "output_type": "stream",
     "text": [
      "  Train Loss: 1.3835 | Train Acc: 0.4452\n",
      "  Val Loss:   1.6083 | Val Acc:   0.2400\n",
      "  Epoch Duration: 1.55 seconds\n",
      "  -> New best inner validation accuracy: 0.2400. Model state saved.\n",
      "\n",
      "--- Fold 1, Epoch 2/100 ---\n"
     ]
    },
    {
     "name": "stderr",
     "output_type": "stream",
     "text": [
      "Training: 100%|██████████| 9/9 [00:01<00:00,  8.62it/s]\n"
     ]
    },
    {
     "name": "stdout",
     "output_type": "stream",
     "text": [
      "Epoch Loss: 1.0545, Accuracy: 0.6042\n"
     ]
    },
    {
     "name": "stderr",
     "output_type": "stream",
     "text": [
      "Validating: 100%|██████████| 2/2 [00:00<00:00,  4.21it/s]\n"
     ]
    },
    {
     "name": "stdout",
     "output_type": "stream",
     "text": [
      "  Train Loss: 1.0545 | Train Acc: 0.6042\n",
      "  Val Loss:   1.6103 | Val Acc:   0.2000\n",
      "  Epoch Duration: 1.53 seconds\n",
      "\n",
      "--- Fold 1, Epoch 3/100 ---\n"
     ]
    },
    {
     "name": "stderr",
     "output_type": "stream",
     "text": [
      "Training: 100%|██████████| 9/9 [00:01<00:00,  8.67it/s]\n"
     ]
    },
    {
     "name": "stdout",
     "output_type": "stream",
     "text": [
      "Epoch Loss: 0.8780, Accuracy: 0.7032\n"
     ]
    },
    {
     "name": "stderr",
     "output_type": "stream",
     "text": [
      "Validating: 100%|██████████| 2/2 [00:00<00:00,  4.22it/s]\n"
     ]
    },
    {
     "name": "stdout",
     "output_type": "stream",
     "text": [
      "  Train Loss: 0.8780 | Train Acc: 0.7032\n",
      "  Val Loss:   1.6103 | Val Acc:   0.2600\n",
      "  Epoch Duration: 1.52 seconds\n",
      "  -> New best inner validation accuracy: 0.2600. Model state saved.\n",
      "\n",
      "--- Fold 1, Epoch 4/100 ---\n"
     ]
    },
    {
     "name": "stderr",
     "output_type": "stream",
     "text": [
      "Training: 100%|██████████| 9/9 [00:01<00:00,  8.59it/s]\n"
     ]
    },
    {
     "name": "stdout",
     "output_type": "stream",
     "text": [
      "Epoch Loss: 0.7076, Accuracy: 0.7703\n"
     ]
    },
    {
     "name": "stderr",
     "output_type": "stream",
     "text": [
      "Validating: 100%|██████████| 2/2 [00:00<00:00,  4.13it/s]\n"
     ]
    },
    {
     "name": "stdout",
     "output_type": "stream",
     "text": [
      "  Train Loss: 0.7076 | Train Acc: 0.7703\n",
      "  Val Loss:   1.6090 | Val Acc:   0.3000\n",
      "  Epoch Duration: 1.54 seconds\n",
      "  -> New best inner validation accuracy: 0.3000. Model state saved.\n",
      "\n",
      "--- Fold 1, Epoch 5/100 ---\n"
     ]
    },
    {
     "name": "stderr",
     "output_type": "stream",
     "text": [
      "Training: 100%|██████████| 9/9 [00:01<00:00,  8.58it/s]\n"
     ]
    },
    {
     "name": "stdout",
     "output_type": "stream",
     "text": [
      "Epoch Loss: 0.5252, Accuracy: 0.8410\n"
     ]
    },
    {
     "name": "stderr",
     "output_type": "stream",
     "text": [
      "Validating: 100%|██████████| 2/2 [00:00<00:00,  4.12it/s]\n"
     ]
    },
    {
     "name": "stdout",
     "output_type": "stream",
     "text": [
      "  Train Loss: 0.5252 | Train Acc: 0.8410\n",
      "  Val Loss:   1.5975 | Val Acc:   0.3000\n",
      "  Epoch Duration: 1.54 seconds\n",
      "\n",
      "--- Fold 1, Epoch 6/100 ---\n"
     ]
    },
    {
     "name": "stderr",
     "output_type": "stream",
     "text": [
      "Training: 100%|██████████| 9/9 [00:01<00:00,  8.56it/s]\n"
     ]
    },
    {
     "name": "stdout",
     "output_type": "stream",
     "text": [
      "Epoch Loss: 0.3701, Accuracy: 0.9011\n"
     ]
    },
    {
     "name": "stderr",
     "output_type": "stream",
     "text": [
      "Validating: 100%|██████████| 2/2 [00:00<00:00,  4.15it/s]\n"
     ]
    },
    {
     "name": "stdout",
     "output_type": "stream",
     "text": [
      "  Train Loss: 0.3701 | Train Acc: 0.9011\n",
      "  Val Loss:   1.5952 | Val Acc:   0.3600\n",
      "  Epoch Duration: 1.54 seconds\n",
      "  -> New best inner validation accuracy: 0.3600. Model state saved.\n",
      "\n",
      "--- Fold 1, Epoch 7/100 ---\n"
     ]
    },
    {
     "name": "stderr",
     "output_type": "stream",
     "text": [
      "Training: 100%|██████████| 9/9 [00:01<00:00,  8.67it/s]\n"
     ]
    },
    {
     "name": "stdout",
     "output_type": "stream",
     "text": [
      "Epoch Loss: 0.2597, Accuracy: 0.9399\n"
     ]
    },
    {
     "name": "stderr",
     "output_type": "stream",
     "text": [
      "Validating: 100%|██████████| 2/2 [00:00<00:00,  4.14it/s]\n"
     ]
    },
    {
     "name": "stdout",
     "output_type": "stream",
     "text": [
      "  Train Loss: 0.2597 | Train Acc: 0.9399\n",
      "  Val Loss:   1.5031 | Val Acc:   0.4600\n",
      "  Epoch Duration: 1.53 seconds\n",
      "  -> New best inner validation accuracy: 0.4600. Model state saved.\n",
      "\n",
      "--- Fold 1, Epoch 8/100 ---\n"
     ]
    },
    {
     "name": "stderr",
     "output_type": "stream",
     "text": [
      "Training: 100%|██████████| 9/9 [00:01<00:00,  8.56it/s]\n"
     ]
    },
    {
     "name": "stdout",
     "output_type": "stream",
     "text": [
      "Epoch Loss: 0.1555, Accuracy: 0.9753\n"
     ]
    },
    {
     "name": "stderr",
     "output_type": "stream",
     "text": [
      "Validating: 100%|██████████| 2/2 [00:00<00:00,  4.17it/s]\n"
     ]
    },
    {
     "name": "stdout",
     "output_type": "stream",
     "text": [
      "  Train Loss: 0.1555 | Train Acc: 0.9753\n",
      "  Val Loss:   1.4242 | Val Acc:   0.5200\n",
      "  Epoch Duration: 1.54 seconds\n",
      "  -> New best inner validation accuracy: 0.5200. Model state saved.\n",
      "\n",
      "--- Fold 1, Epoch 9/100 ---\n"
     ]
    },
    {
     "name": "stderr",
     "output_type": "stream",
     "text": [
      "Training: 100%|██████████| 9/9 [00:01<00:00,  8.61it/s]\n"
     ]
    },
    {
     "name": "stdout",
     "output_type": "stream",
     "text": [
      "Epoch Loss: 0.0888, Accuracy: 0.9894\n"
     ]
    },
    {
     "name": "stderr",
     "output_type": "stream",
     "text": [
      "Validating: 100%|██████████| 2/2 [00:00<00:00,  4.11it/s]\n"
     ]
    },
    {
     "name": "stdout",
     "output_type": "stream",
     "text": [
      "  Train Loss: 0.0888 | Train Acc: 0.9894\n",
      "  Val Loss:   1.4215 | Val Acc:   0.4400\n",
      "  Epoch Duration: 1.54 seconds\n",
      "\n",
      "--- Fold 1, Epoch 10/100 ---\n"
     ]
    },
    {
     "name": "stderr",
     "output_type": "stream",
     "text": [
      "Training: 100%|██████████| 9/9 [00:01<00:00,  8.55it/s]\n"
     ]
    },
    {
     "name": "stdout",
     "output_type": "stream",
     "text": [
      "Epoch Loss: 0.0421, Accuracy: 1.0000\n"
     ]
    },
    {
     "name": "stderr",
     "output_type": "stream",
     "text": [
      "Validating: 100%|██████████| 2/2 [00:00<00:00,  4.13it/s]\n"
     ]
    },
    {
     "name": "stdout",
     "output_type": "stream",
     "text": [
      "  Train Loss: 0.0421 | Train Acc: 1.0000\n",
      "  Val Loss:   1.4867 | Val Acc:   0.4600\n",
      "  Epoch Duration: 1.54 seconds\n",
      "\n",
      "--- Fold 1, Epoch 11/100 ---\n"
     ]
    },
    {
     "name": "stderr",
     "output_type": "stream",
     "text": [
      "Training: 100%|██████████| 9/9 [00:01<00:00,  8.75it/s]\n"
     ]
    },
    {
     "name": "stdout",
     "output_type": "stream",
     "text": [
      "Epoch Loss: 0.0233, Accuracy: 1.0000\n"
     ]
    },
    {
     "name": "stderr",
     "output_type": "stream",
     "text": [
      "Validating: 100%|██████████| 2/2 [00:00<00:00,  4.10it/s]\n"
     ]
    },
    {
     "name": "stdout",
     "output_type": "stream",
     "text": [
      "  Train Loss: 0.0233 | Train Acc: 1.0000\n",
      "  Val Loss:   1.8223 | Val Acc:   0.4600\n",
      "  Epoch Duration: 1.52 seconds\n",
      "\n",
      "--- Fold 1, Epoch 12/100 ---\n"
     ]
    },
    {
     "name": "stderr",
     "output_type": "stream",
     "text": [
      "Training: 100%|██████████| 9/9 [00:01<00:00,  8.61it/s]\n"
     ]
    },
    {
     "name": "stdout",
     "output_type": "stream",
     "text": [
      "Epoch Loss: 0.0126, Accuracy: 1.0000\n"
     ]
    },
    {
     "name": "stderr",
     "output_type": "stream",
     "text": [
      "Validating: 100%|██████████| 2/2 [00:00<00:00,  4.16it/s]\n"
     ]
    },
    {
     "name": "stdout",
     "output_type": "stream",
     "text": [
      "  Train Loss: 0.0126 | Train Acc: 1.0000\n",
      "  Val Loss:   1.7255 | Val Acc:   0.4800\n",
      "  Epoch Duration: 1.53 seconds\n",
      "\n",
      "--- Fold 1, Epoch 13/100 ---\n"
     ]
    },
    {
     "name": "stderr",
     "output_type": "stream",
     "text": [
      "Training: 100%|██████████| 9/9 [00:01<00:00,  8.58it/s]\n"
     ]
    },
    {
     "name": "stdout",
     "output_type": "stream",
     "text": [
      "Epoch Loss: 0.0148, Accuracy: 0.9965\n"
     ]
    },
    {
     "name": "stderr",
     "output_type": "stream",
     "text": [
      "Validating: 100%|██████████| 2/2 [00:00<00:00,  4.21it/s]\n"
     ]
    },
    {
     "name": "stdout",
     "output_type": "stream",
     "text": [
      "  Train Loss: 0.0148 | Train Acc: 0.9965\n",
      "  Val Loss:   1.9209 | Val Acc:   0.4800\n",
      "  Epoch Duration: 1.53 seconds\n",
      "\n",
      "--- Fold 1, Epoch 14/100 ---\n"
     ]
    },
    {
     "name": "stderr",
     "output_type": "stream",
     "text": [
      "Training: 100%|██████████| 9/9 [00:01<00:00,  8.67it/s]\n"
     ]
    },
    {
     "name": "stdout",
     "output_type": "stream",
     "text": [
      "Epoch Loss: 0.0165, Accuracy: 0.9965\n"
     ]
    },
    {
     "name": "stderr",
     "output_type": "stream",
     "text": [
      "Validating: 100%|██████████| 2/2 [00:00<00:00,  4.15it/s]\n"
     ]
    },
    {
     "name": "stdout",
     "output_type": "stream",
     "text": [
      "  Train Loss: 0.0165 | Train Acc: 0.9965\n",
      "  Val Loss:   2.2888 | Val Acc:   0.4200\n",
      "  Epoch Duration: 1.53 seconds\n",
      "\n",
      "--- Fold 1, Epoch 15/100 ---\n"
     ]
    },
    {
     "name": "stderr",
     "output_type": "stream",
     "text": [
      "Training: 100%|██████████| 9/9 [00:01<00:00,  8.66it/s]\n"
     ]
    },
    {
     "name": "stdout",
     "output_type": "stream",
     "text": [
      "Epoch Loss: 0.0100, Accuracy: 1.0000\n"
     ]
    },
    {
     "name": "stderr",
     "output_type": "stream",
     "text": [
      "Validating: 100%|██████████| 2/2 [00:00<00:00,  4.16it/s]\n"
     ]
    },
    {
     "name": "stdout",
     "output_type": "stream",
     "text": [
      "  Train Loss: 0.0100 | Train Acc: 1.0000\n",
      "  Val Loss:   1.7999 | Val Acc:   0.5800\n",
      "  Epoch Duration: 1.53 seconds\n",
      "  -> New best inner validation accuracy: 0.5800. Model state saved.\n",
      "\n",
      "--- Fold 1, Epoch 16/100 ---\n"
     ]
    },
    {
     "name": "stderr",
     "output_type": "stream",
     "text": [
      "Training: 100%|██████████| 9/9 [00:01<00:00,  8.57it/s]\n"
     ]
    },
    {
     "name": "stdout",
     "output_type": "stream",
     "text": [
      "Epoch Loss: 0.0101, Accuracy: 1.0000\n"
     ]
    },
    {
     "name": "stderr",
     "output_type": "stream",
     "text": [
      "Validating: 100%|██████████| 2/2 [00:00<00:00,  4.18it/s]\n"
     ]
    },
    {
     "name": "stdout",
     "output_type": "stream",
     "text": [
      "  Train Loss: 0.0101 | Train Acc: 1.0000\n",
      "  Val Loss:   2.1919 | Val Acc:   0.5200\n",
      "  Epoch Duration: 1.53 seconds\n",
      "\n",
      "--- Fold 1, Epoch 17/100 ---\n"
     ]
    },
    {
     "name": "stderr",
     "output_type": "stream",
     "text": [
      "Training: 100%|██████████| 9/9 [00:01<00:00,  8.52it/s]\n"
     ]
    },
    {
     "name": "stdout",
     "output_type": "stream",
     "text": [
      "Epoch Loss: 0.0052, Accuracy: 1.0000\n"
     ]
    },
    {
     "name": "stderr",
     "output_type": "stream",
     "text": [
      "Validating: 100%|██████████| 2/2 [00:00<00:00,  4.20it/s]\n"
     ]
    },
    {
     "name": "stdout",
     "output_type": "stream",
     "text": [
      "  Train Loss: 0.0052 | Train Acc: 1.0000\n",
      "  Val Loss:   1.9186 | Val Acc:   0.5200\n",
      "  Epoch Duration: 1.54 seconds\n",
      "\n",
      "--- Fold 1, Epoch 18/100 ---\n"
     ]
    },
    {
     "name": "stderr",
     "output_type": "stream",
     "text": [
      "Training:  56%|█████▌    | 5/9 [00:00<00:00,  7.83it/s]"
     ]
    },
    {
     "name": "stderr",
     "output_type": "stream",
     "text": [
      "Training: 100%|██████████| 9/9 [00:01<00:00,  7.91it/s]\n"
     ]
    },
    {
     "name": "stdout",
     "output_type": "stream",
     "text": [
      "Epoch Loss: 0.0032, Accuracy: 1.0000\n"
     ]
    },
    {
     "name": "stderr",
     "output_type": "stream",
     "text": [
      "Validating: 100%|██████████| 2/2 [00:00<00:00,  4.25it/s]\n"
     ]
    },
    {
     "name": "stdout",
     "output_type": "stream",
     "text": [
      "  Train Loss: 0.0032 | Train Acc: 1.0000\n",
      "  Val Loss:   1.7959 | Val Acc:   0.5200\n",
      "  Epoch Duration: 1.62 seconds\n",
      "\n",
      "--- Fold 1, Epoch 19/100 ---\n"
     ]
    },
    {
     "name": "stderr",
     "output_type": "stream",
     "text": [
      "Training: 100%|██████████| 9/9 [00:01<00:00,  8.56it/s]\n"
     ]
    },
    {
     "name": "stdout",
     "output_type": "stream",
     "text": [
      "Epoch Loss: 0.0031, Accuracy: 1.0000\n"
     ]
    },
    {
     "name": "stderr",
     "output_type": "stream",
     "text": [
      "Validating: 100%|██████████| 2/2 [00:00<00:00,  4.23it/s]\n"
     ]
    },
    {
     "name": "stdout",
     "output_type": "stream",
     "text": [
      "  Train Loss: 0.0031 | Train Acc: 1.0000\n",
      "  Val Loss:   1.9391 | Val Acc:   0.5200\n",
      "  Epoch Duration: 1.53 seconds\n",
      "\n",
      "--- Fold 1, Epoch 20/100 ---\n"
     ]
    },
    {
     "name": "stderr",
     "output_type": "stream",
     "text": [
      "Training: 100%|██████████| 9/9 [00:01<00:00,  8.78it/s]\n"
     ]
    },
    {
     "name": "stdout",
     "output_type": "stream",
     "text": [
      "Epoch Loss: 0.0009, Accuracy: 1.0000\n"
     ]
    },
    {
     "name": "stderr",
     "output_type": "stream",
     "text": [
      "Validating: 100%|██████████| 2/2 [00:00<00:00,  4.10it/s]\n"
     ]
    },
    {
     "name": "stdout",
     "output_type": "stream",
     "text": [
      "  Train Loss: 0.0009 | Train Acc: 1.0000\n",
      "  Val Loss:   2.3893 | Val Acc:   0.4200\n",
      "  Epoch Duration: 1.52 seconds\n",
      "\n",
      "--- Fold 1, Epoch 21/100 ---\n"
     ]
    },
    {
     "name": "stderr",
     "output_type": "stream",
     "text": [
      "Training: 100%|██████████| 9/9 [00:01<00:00,  8.67it/s]\n"
     ]
    },
    {
     "name": "stdout",
     "output_type": "stream",
     "text": [
      "Epoch Loss: 0.0032, Accuracy: 1.0000\n"
     ]
    },
    {
     "name": "stderr",
     "output_type": "stream",
     "text": [
      "Validating: 100%|██████████| 2/2 [00:00<00:00,  4.24it/s]\n"
     ]
    },
    {
     "name": "stdout",
     "output_type": "stream",
     "text": [
      "  Train Loss: 0.0032 | Train Acc: 1.0000\n",
      "  Val Loss:   2.4133 | Val Acc:   0.4800\n",
      "  Epoch Duration: 1.52 seconds\n",
      "\n",
      "--- Fold 1, Epoch 22/100 ---\n"
     ]
    },
    {
     "name": "stderr",
     "output_type": "stream",
     "text": [
      "Training: 100%|██████████| 9/9 [00:01<00:00,  8.74it/s]\n"
     ]
    },
    {
     "name": "stdout",
     "output_type": "stream",
     "text": [
      "Epoch Loss: 0.0044, Accuracy: 1.0000\n"
     ]
    },
    {
     "name": "stderr",
     "output_type": "stream",
     "text": [
      "Validating: 100%|██████████| 2/2 [00:00<00:00,  4.17it/s]\n"
     ]
    },
    {
     "name": "stdout",
     "output_type": "stream",
     "text": [
      "  Train Loss: 0.0044 | Train Acc: 1.0000\n",
      "  Val Loss:   2.2446 | Val Acc:   0.5400\n",
      "  Epoch Duration: 1.52 seconds\n",
      "\n",
      "--- Fold 1, Epoch 23/100 ---\n"
     ]
    },
    {
     "name": "stderr",
     "output_type": "stream",
     "text": [
      "Training: 100%|██████████| 9/9 [00:01<00:00,  8.65it/s]\n"
     ]
    },
    {
     "name": "stdout",
     "output_type": "stream",
     "text": [
      "Epoch Loss: 0.0015, Accuracy: 1.0000\n"
     ]
    },
    {
     "name": "stderr",
     "output_type": "stream",
     "text": [
      "Validating: 100%|██████████| 2/2 [00:00<00:00,  4.31it/s]\n"
     ]
    },
    {
     "name": "stdout",
     "output_type": "stream",
     "text": [
      "  Train Loss: 0.0015 | Train Acc: 1.0000\n",
      "  Val Loss:   2.2710 | Val Acc:   0.5200\n",
      "  Epoch Duration: 1.51 seconds\n",
      "\n",
      "--- Fold 1, Epoch 24/100 ---\n"
     ]
    },
    {
     "name": "stderr",
     "output_type": "stream",
     "text": [
      "Training: 100%|██████████| 9/9 [00:01<00:00,  8.51it/s]\n"
     ]
    },
    {
     "name": "stdout",
     "output_type": "stream",
     "text": [
      "Epoch Loss: 0.0031, Accuracy: 1.0000\n"
     ]
    },
    {
     "name": "stderr",
     "output_type": "stream",
     "text": [
      "Validating: 100%|██████████| 2/2 [00:00<00:00,  4.24it/s]\n"
     ]
    },
    {
     "name": "stdout",
     "output_type": "stream",
     "text": [
      "  Train Loss: 0.0031 | Train Acc: 1.0000\n",
      "  Val Loss:   2.5397 | Val Acc:   0.5000\n",
      "  Epoch Duration: 1.54 seconds\n",
      "\n",
      "--- Fold 1, Epoch 25/100 ---\n"
     ]
    },
    {
     "name": "stderr",
     "output_type": "stream",
     "text": [
      "Training: 100%|██████████| 9/9 [00:01<00:00,  8.63it/s]\n"
     ]
    },
    {
     "name": "stdout",
     "output_type": "stream",
     "text": [
      "Epoch Loss: 0.0012, Accuracy: 1.0000\n"
     ]
    },
    {
     "name": "stderr",
     "output_type": "stream",
     "text": [
      "Validating: 100%|██████████| 2/2 [00:00<00:00,  4.17it/s]\n"
     ]
    },
    {
     "name": "stdout",
     "output_type": "stream",
     "text": [
      "  Train Loss: 0.0012 | Train Acc: 1.0000\n",
      "  Val Loss:   2.2470 | Val Acc:   0.5000\n",
      "  Epoch Duration: 1.53 seconds\n",
      "  Early stopping at epoch 25.\n",
      "\n",
      "--- Fold 1 Final Evaluation ---\n",
      "Loading best model for fold 1 (achieved 0.5800 on inner val set).\n"
     ]
    },
    {
     "name": "stderr",
     "output_type": "stream",
     "text": [
      "Validating: 100%|██████████| 6/6 [00:00<00:00,  9.54it/s]\n"
     ]
    },
    {
     "name": "stdout",
     "output_type": "stream",
     "text": [
      "Performance of best model on the OUTER TEST SET for fold 1: 0.4491\n",
      "\n",
      "============================== OUTER FOLD 2/3 ==============================\n",
      "Loading pretrained weights from: ../RADIO/saved_models/RADIO2_MSRGNN/deployable_model.pth\n",
      "\n",
      "--- Transfer Learning Report ---\n",
      "Successfully loaded 138 / 140 layers.\n",
      "\n",
      "Skipped 1 layers:\n",
      "  - reasoner.panel_pos_emb.weight (Shape Mismatch. Pretrained: torch.Size([9, 128]), Model: torch.Size([4, 128]))\n",
      "--------------------------------\n",
      "\n",
      "Fold 2 Model has 4,804,547 trainable parameters.\n",
      "Fold 2 Training on 283, Validating on 50, Testing on 167.\n",
      "\n",
      "--- Fold 2, Epoch 1/100 ---\n"
     ]
    },
    {
     "name": "stderr",
     "output_type": "stream",
     "text": [
      "Training: 100%|██████████| 9/9 [00:01<00:00,  8.41it/s]\n"
     ]
    },
    {
     "name": "stdout",
     "output_type": "stream",
     "text": [
      "Epoch Loss: 1.3394, Accuracy: 0.4700\n"
     ]
    },
    {
     "name": "stderr",
     "output_type": "stream",
     "text": [
      "Validating: 100%|██████████| 2/2 [00:00<00:00,  4.22it/s]\n"
     ]
    },
    {
     "name": "stdout",
     "output_type": "stream",
     "text": [
      "  Train Loss: 1.3394 | Train Acc: 0.4700\n",
      "  Val Loss:   1.6097 | Val Acc:   0.1600\n",
      "  Epoch Duration: 1.55 seconds\n",
      "  -> New best inner validation accuracy: 0.1600. Model state saved.\n",
      "\n",
      "--- Fold 2, Epoch 2/100 ---\n"
     ]
    },
    {
     "name": "stderr",
     "output_type": "stream",
     "text": [
      "Training: 100%|██████████| 9/9 [00:01<00:00,  8.67it/s]\n"
     ]
    },
    {
     "name": "stdout",
     "output_type": "stream",
     "text": [
      "Epoch Loss: 1.0631, Accuracy: 0.5760\n"
     ]
    },
    {
     "name": "stderr",
     "output_type": "stream",
     "text": [
      "Validating: 100%|██████████| 2/2 [00:00<00:00,  4.14it/s]\n"
     ]
    },
    {
     "name": "stdout",
     "output_type": "stream",
     "text": [
      "  Train Loss: 1.0631 | Train Acc: 0.5760\n",
      "  Val Loss:   1.6103 | Val Acc:   0.1600\n",
      "  Epoch Duration: 1.53 seconds\n",
      "\n",
      "--- Fold 2, Epoch 3/100 ---\n"
     ]
    },
    {
     "name": "stderr",
     "output_type": "stream",
     "text": [
      "Training: 100%|██████████| 9/9 [00:01<00:00,  8.63it/s]\n"
     ]
    },
    {
     "name": "stdout",
     "output_type": "stream",
     "text": [
      "Epoch Loss: 0.8859, Accuracy: 0.6784\n"
     ]
    },
    {
     "name": "stderr",
     "output_type": "stream",
     "text": [
      "Validating: 100%|██████████| 2/2 [00:00<00:00,  4.19it/s]\n"
     ]
    },
    {
     "name": "stdout",
     "output_type": "stream",
     "text": [
      "  Train Loss: 0.8859 | Train Acc: 0.6784\n",
      "  Val Loss:   1.6145 | Val Acc:   0.1800\n",
      "  Epoch Duration: 1.53 seconds\n",
      "  -> New best inner validation accuracy: 0.1800. Model state saved.\n",
      "\n",
      "--- Fold 2, Epoch 4/100 ---\n"
     ]
    },
    {
     "name": "stderr",
     "output_type": "stream",
     "text": [
      "Training: 100%|██████████| 9/9 [00:01<00:00,  8.59it/s]\n"
     ]
    },
    {
     "name": "stdout",
     "output_type": "stream",
     "text": [
      "Epoch Loss: 0.7065, Accuracy: 0.7456\n"
     ]
    },
    {
     "name": "stderr",
     "output_type": "stream",
     "text": [
      "Validating: 100%|██████████| 2/2 [00:00<00:00,  4.12it/s]\n"
     ]
    },
    {
     "name": "stdout",
     "output_type": "stream",
     "text": [
      "  Train Loss: 0.7065 | Train Acc: 0.7456\n",
      "  Val Loss:   1.6249 | Val Acc:   0.1600\n",
      "  Epoch Duration: 1.54 seconds\n",
      "\n",
      "--- Fold 2, Epoch 5/100 ---\n"
     ]
    },
    {
     "name": "stderr",
     "output_type": "stream",
     "text": [
      "Training: 100%|██████████| 9/9 [00:01<00:00,  8.61it/s]\n"
     ]
    },
    {
     "name": "stdout",
     "output_type": "stream",
     "text": [
      "Epoch Loss: 0.5152, Accuracy: 0.8551\n"
     ]
    },
    {
     "name": "stderr",
     "output_type": "stream",
     "text": [
      "Validating: 100%|██████████| 2/2 [00:00<00:00,  4.27it/s]\n"
     ]
    },
    {
     "name": "stdout",
     "output_type": "stream",
     "text": [
      "  Train Loss: 0.5152 | Train Acc: 0.8551\n",
      "  Val Loss:   1.6353 | Val Acc:   0.1200\n",
      "  Epoch Duration: 1.52 seconds\n",
      "\n",
      "--- Fold 2, Epoch 6/100 ---\n"
     ]
    },
    {
     "name": "stderr",
     "output_type": "stream",
     "text": [
      "Training: 100%|██████████| 9/9 [00:01<00:00,  8.65it/s]\n"
     ]
    },
    {
     "name": "stdout",
     "output_type": "stream",
     "text": [
      "Epoch Loss: 0.3273, Accuracy: 0.9364\n"
     ]
    },
    {
     "name": "stderr",
     "output_type": "stream",
     "text": [
      "Validating: 100%|██████████| 2/2 [00:00<00:00,  4.16it/s]\n"
     ]
    },
    {
     "name": "stdout",
     "output_type": "stream",
     "text": [
      "  Train Loss: 0.3273 | Train Acc: 0.9364\n",
      "  Val Loss:   1.6129 | Val Acc:   0.2000\n",
      "  Epoch Duration: 1.53 seconds\n",
      "  -> New best inner validation accuracy: 0.2000. Model state saved.\n",
      "\n",
      "--- Fold 2, Epoch 7/100 ---\n"
     ]
    },
    {
     "name": "stderr",
     "output_type": "stream",
     "text": [
      "Training: 100%|██████████| 9/9 [00:01<00:00,  8.68it/s]\n"
     ]
    },
    {
     "name": "stdout",
     "output_type": "stream",
     "text": [
      "Epoch Loss: 0.2242, Accuracy: 0.9611\n"
     ]
    },
    {
     "name": "stderr",
     "output_type": "stream",
     "text": [
      "Validating: 100%|██████████| 2/2 [00:00<00:00,  4.24it/s]\n"
     ]
    },
    {
     "name": "stdout",
     "output_type": "stream",
     "text": [
      "  Train Loss: 0.2242 | Train Acc: 0.9611\n",
      "  Val Loss:   1.5173 | Val Acc:   0.4200\n",
      "  Epoch Duration: 1.51 seconds\n",
      "  -> New best inner validation accuracy: 0.4200. Model state saved.\n",
      "\n",
      "--- Fold 2, Epoch 8/100 ---\n"
     ]
    },
    {
     "name": "stderr",
     "output_type": "stream",
     "text": [
      "Training: 100%|██████████| 9/9 [00:01<00:00,  8.76it/s]\n"
     ]
    },
    {
     "name": "stdout",
     "output_type": "stream",
     "text": [
      "Epoch Loss: 0.1416, Accuracy: 0.9788\n"
     ]
    },
    {
     "name": "stderr",
     "output_type": "stream",
     "text": [
      "Validating: 100%|██████████| 2/2 [00:00<00:00,  4.30it/s]\n"
     ]
    },
    {
     "name": "stdout",
     "output_type": "stream",
     "text": [
      "  Train Loss: 0.1416 | Train Acc: 0.9788\n",
      "  Val Loss:   1.3524 | Val Acc:   0.4800\n",
      "  Epoch Duration: 1.50 seconds\n",
      "  -> New best inner validation accuracy: 0.4800. Model state saved.\n",
      "\n",
      "--- Fold 2, Epoch 9/100 ---\n"
     ]
    },
    {
     "name": "stderr",
     "output_type": "stream",
     "text": [
      "Training: 100%|██████████| 9/9 [00:01<00:00,  7.90it/s]\n"
     ]
    },
    {
     "name": "stdout",
     "output_type": "stream",
     "text": [
      "Epoch Loss: 0.0871, Accuracy: 0.9929\n"
     ]
    },
    {
     "name": "stderr",
     "output_type": "stream",
     "text": [
      "Validating: 100%|██████████| 2/2 [00:00<00:00,  4.15it/s]\n"
     ]
    },
    {
     "name": "stdout",
     "output_type": "stream",
     "text": [
      "  Train Loss: 0.0871 | Train Acc: 0.9929\n",
      "  Val Loss:   1.5691 | Val Acc:   0.4600\n",
      "  Epoch Duration: 1.63 seconds\n",
      "\n",
      "--- Fold 2, Epoch 10/100 ---\n"
     ]
    },
    {
     "name": "stderr",
     "output_type": "stream",
     "text": [
      "Training: 100%|██████████| 9/9 [00:01<00:00,  8.60it/s]\n"
     ]
    },
    {
     "name": "stdout",
     "output_type": "stream",
     "text": [
      "Epoch Loss: 0.0426, Accuracy: 0.9965\n"
     ]
    },
    {
     "name": "stderr",
     "output_type": "stream",
     "text": [
      "Validating: 100%|██████████| 2/2 [00:00<00:00,  4.15it/s]\n"
     ]
    },
    {
     "name": "stdout",
     "output_type": "stream",
     "text": [
      "  Train Loss: 0.0426 | Train Acc: 0.9965\n",
      "  Val Loss:   1.5113 | Val Acc:   0.5200\n",
      "  Epoch Duration: 1.54 seconds\n",
      "  -> New best inner validation accuracy: 0.5200. Model state saved.\n",
      "\n",
      "--- Fold 2, Epoch 11/100 ---\n"
     ]
    },
    {
     "name": "stderr",
     "output_type": "stream",
     "text": [
      "Training: 100%|██████████| 9/9 [00:01<00:00,  8.72it/s]\n"
     ]
    },
    {
     "name": "stdout",
     "output_type": "stream",
     "text": [
      "Epoch Loss: 0.0339, Accuracy: 0.9965\n"
     ]
    },
    {
     "name": "stderr",
     "output_type": "stream",
     "text": [
      "Validating: 100%|██████████| 2/2 [00:00<00:00,  4.10it/s]\n"
     ]
    },
    {
     "name": "stdout",
     "output_type": "stream",
     "text": [
      "  Train Loss: 0.0339 | Train Acc: 0.9965\n",
      "  Val Loss:   1.6960 | Val Acc:   0.4400\n",
      "  Epoch Duration: 1.53 seconds\n",
      "\n",
      "--- Fold 2, Epoch 12/100 ---\n"
     ]
    },
    {
     "name": "stderr",
     "output_type": "stream",
     "text": [
      "Training: 100%|██████████| 9/9 [00:01<00:00,  8.56it/s]\n"
     ]
    },
    {
     "name": "stdout",
     "output_type": "stream",
     "text": [
      "Epoch Loss: 0.0236, Accuracy: 0.9965\n"
     ]
    },
    {
     "name": "stderr",
     "output_type": "stream",
     "text": [
      "Validating: 100%|██████████| 2/2 [00:00<00:00,  4.16it/s]\n"
     ]
    },
    {
     "name": "stdout",
     "output_type": "stream",
     "text": [
      "  Train Loss: 0.0236 | Train Acc: 0.9965\n",
      "  Val Loss:   1.7989 | Val Acc:   0.5000\n",
      "  Epoch Duration: 1.54 seconds\n",
      "\n",
      "--- Fold 2, Epoch 13/100 ---\n"
     ]
    },
    {
     "name": "stderr",
     "output_type": "stream",
     "text": [
      "Training: 100%|██████████| 9/9 [00:01<00:00,  8.55it/s]\n"
     ]
    },
    {
     "name": "stdout",
     "output_type": "stream",
     "text": [
      "Epoch Loss: 0.0242, Accuracy: 0.9965\n"
     ]
    },
    {
     "name": "stderr",
     "output_type": "stream",
     "text": [
      "Validating: 100%|██████████| 2/2 [00:00<00:00,  4.16it/s]\n"
     ]
    },
    {
     "name": "stdout",
     "output_type": "stream",
     "text": [
      "  Train Loss: 0.0242 | Train Acc: 0.9965\n",
      "  Val Loss:   1.7743 | Val Acc:   0.5200\n",
      "  Epoch Duration: 1.54 seconds\n",
      "\n",
      "--- Fold 2, Epoch 14/100 ---\n"
     ]
    },
    {
     "name": "stderr",
     "output_type": "stream",
     "text": [
      "Training: 100%|██████████| 9/9 [00:01<00:00,  8.62it/s]\n"
     ]
    },
    {
     "name": "stdout",
     "output_type": "stream",
     "text": [
      "Epoch Loss: 0.0102, Accuracy: 1.0000\n"
     ]
    },
    {
     "name": "stderr",
     "output_type": "stream",
     "text": [
      "Validating: 100%|██████████| 2/2 [00:00<00:00,  4.20it/s]\n"
     ]
    },
    {
     "name": "stdout",
     "output_type": "stream",
     "text": [
      "  Train Loss: 0.0102 | Train Acc: 1.0000\n",
      "  Val Loss:   1.4889 | Val Acc:   0.5400\n",
      "  Epoch Duration: 1.53 seconds\n",
      "  -> New best inner validation accuracy: 0.5400. Model state saved.\n",
      "\n",
      "--- Fold 2, Epoch 15/100 ---\n"
     ]
    },
    {
     "name": "stderr",
     "output_type": "stream",
     "text": [
      "Training: 100%|██████████| 9/9 [00:01<00:00,  8.56it/s]\n"
     ]
    },
    {
     "name": "stdout",
     "output_type": "stream",
     "text": [
      "Epoch Loss: 0.0087, Accuracy: 1.0000\n"
     ]
    },
    {
     "name": "stderr",
     "output_type": "stream",
     "text": [
      "Validating: 100%|██████████| 2/2 [00:00<00:00,  4.16it/s]\n"
     ]
    },
    {
     "name": "stdout",
     "output_type": "stream",
     "text": [
      "  Train Loss: 0.0087 | Train Acc: 1.0000\n",
      "  Val Loss:   2.0093 | Val Acc:   0.4600\n",
      "  Epoch Duration: 1.54 seconds\n",
      "\n",
      "--- Fold 2, Epoch 16/100 ---\n"
     ]
    },
    {
     "name": "stderr",
     "output_type": "stream",
     "text": [
      "Training: 100%|██████████| 9/9 [00:01<00:00,  8.60it/s]\n"
     ]
    },
    {
     "name": "stdout",
     "output_type": "stream",
     "text": [
      "Epoch Loss: 0.0122, Accuracy: 0.9965\n"
     ]
    },
    {
     "name": "stderr",
     "output_type": "stream",
     "text": [
      "Validating: 100%|██████████| 2/2 [00:00<00:00,  4.10it/s]\n"
     ]
    },
    {
     "name": "stdout",
     "output_type": "stream",
     "text": [
      "  Train Loss: 0.0122 | Train Acc: 0.9965\n",
      "  Val Loss:   2.2649 | Val Acc:   0.4800\n",
      "  Epoch Duration: 1.54 seconds\n",
      "\n",
      "--- Fold 2, Epoch 17/100 ---\n"
     ]
    },
    {
     "name": "stderr",
     "output_type": "stream",
     "text": [
      "Training: 100%|██████████| 9/9 [00:01<00:00,  8.57it/s]\n"
     ]
    },
    {
     "name": "stdout",
     "output_type": "stream",
     "text": [
      "Epoch Loss: 0.0045, Accuracy: 1.0000\n"
     ]
    },
    {
     "name": "stderr",
     "output_type": "stream",
     "text": [
      "Validating: 100%|██████████| 2/2 [00:00<00:00,  4.16it/s]\n"
     ]
    },
    {
     "name": "stdout",
     "output_type": "stream",
     "text": [
      "  Train Loss: 0.0045 | Train Acc: 1.0000\n",
      "  Val Loss:   2.2716 | Val Acc:   0.4600\n",
      "  Epoch Duration: 1.54 seconds\n",
      "\n",
      "--- Fold 2, Epoch 18/100 ---\n"
     ]
    },
    {
     "name": "stderr",
     "output_type": "stream",
     "text": [
      "Training: 100%|██████████| 9/9 [00:01<00:00,  8.61it/s]\n"
     ]
    },
    {
     "name": "stdout",
     "output_type": "stream",
     "text": [
      "Epoch Loss: 0.0179, Accuracy: 0.9894\n"
     ]
    },
    {
     "name": "stderr",
     "output_type": "stream",
     "text": [
      "Validating: 100%|██████████| 2/2 [00:00<00:00,  4.08it/s]\n"
     ]
    },
    {
     "name": "stdout",
     "output_type": "stream",
     "text": [
      "  Train Loss: 0.0179 | Train Acc: 0.9894\n",
      "  Val Loss:   2.1808 | Val Acc:   0.4800\n",
      "  Epoch Duration: 1.54 seconds\n",
      "\n",
      "--- Fold 2, Epoch 19/100 ---\n"
     ]
    },
    {
     "name": "stderr",
     "output_type": "stream",
     "text": [
      "Training: 100%|██████████| 9/9 [00:01<00:00,  8.55it/s]\n"
     ]
    },
    {
     "name": "stdout",
     "output_type": "stream",
     "text": [
      "Epoch Loss: 0.0146, Accuracy: 0.9965\n"
     ]
    },
    {
     "name": "stderr",
     "output_type": "stream",
     "text": [
      "Validating: 100%|██████████| 2/2 [00:00<00:00,  4.22it/s]\n"
     ]
    },
    {
     "name": "stdout",
     "output_type": "stream",
     "text": [
      "  Train Loss: 0.0146 | Train Acc: 0.9965\n",
      "  Val Loss:   2.0037 | Val Acc:   0.5800\n",
      "  Epoch Duration: 1.53 seconds\n",
      "  -> New best inner validation accuracy: 0.5800. Model state saved.\n",
      "\n",
      "--- Fold 2, Epoch 20/100 ---\n"
     ]
    },
    {
     "name": "stderr",
     "output_type": "stream",
     "text": [
      "Training: 100%|██████████| 9/9 [00:01<00:00,  8.58it/s]\n"
     ]
    },
    {
     "name": "stdout",
     "output_type": "stream",
     "text": [
      "Epoch Loss: 0.0033, Accuracy: 1.0000\n"
     ]
    },
    {
     "name": "stderr",
     "output_type": "stream",
     "text": [
      "Validating: 100%|██████████| 2/2 [00:00<00:00,  4.12it/s]\n"
     ]
    },
    {
     "name": "stdout",
     "output_type": "stream",
     "text": [
      "  Train Loss: 0.0033 | Train Acc: 1.0000\n",
      "  Val Loss:   2.1893 | Val Acc:   0.4400\n",
      "  Epoch Duration: 1.54 seconds\n",
      "\n",
      "--- Fold 2, Epoch 21/100 ---\n"
     ]
    },
    {
     "name": "stderr",
     "output_type": "stream",
     "text": [
      "Training: 100%|██████████| 9/9 [00:01<00:00,  8.57it/s]\n"
     ]
    },
    {
     "name": "stdout",
     "output_type": "stream",
     "text": [
      "Epoch Loss: 0.0016, Accuracy: 1.0000\n"
     ]
    },
    {
     "name": "stderr",
     "output_type": "stream",
     "text": [
      "Validating: 100%|██████████| 2/2 [00:00<00:00,  4.15it/s]\n"
     ]
    },
    {
     "name": "stdout",
     "output_type": "stream",
     "text": [
      "  Train Loss: 0.0016 | Train Acc: 1.0000\n",
      "  Val Loss:   1.7240 | Val Acc:   0.5800\n",
      "  Epoch Duration: 1.54 seconds\n",
      "\n",
      "--- Fold 2, Epoch 22/100 ---\n"
     ]
    },
    {
     "name": "stderr",
     "output_type": "stream",
     "text": [
      "Training: 100%|██████████| 9/9 [00:01<00:00,  8.61it/s]\n"
     ]
    },
    {
     "name": "stdout",
     "output_type": "stream",
     "text": [
      "Epoch Loss: 0.0007, Accuracy: 1.0000\n"
     ]
    },
    {
     "name": "stderr",
     "output_type": "stream",
     "text": [
      "Validating: 100%|██████████| 2/2 [00:00<00:00,  4.24it/s]\n"
     ]
    },
    {
     "name": "stdout",
     "output_type": "stream",
     "text": [
      "  Train Loss: 0.0007 | Train Acc: 1.0000\n",
      "  Val Loss:   1.7623 | Val Acc:   0.5000\n",
      "  Epoch Duration: 1.52 seconds\n",
      "\n",
      "--- Fold 2, Epoch 23/100 ---\n"
     ]
    },
    {
     "name": "stderr",
     "output_type": "stream",
     "text": [
      "Training: 100%|██████████| 9/9 [00:01<00:00,  8.64it/s]\n"
     ]
    },
    {
     "name": "stdout",
     "output_type": "stream",
     "text": [
      "Epoch Loss: 0.0005, Accuracy: 1.0000\n"
     ]
    },
    {
     "name": "stderr",
     "output_type": "stream",
     "text": [
      "Validating: 100%|██████████| 2/2 [00:00<00:00,  4.09it/s]\n"
     ]
    },
    {
     "name": "stdout",
     "output_type": "stream",
     "text": [
      "  Train Loss: 0.0005 | Train Acc: 1.0000\n",
      "  Val Loss:   1.8101 | Val Acc:   0.5200\n",
      "  Epoch Duration: 1.54 seconds\n",
      "\n",
      "--- Fold 2, Epoch 24/100 ---\n"
     ]
    },
    {
     "name": "stderr",
     "output_type": "stream",
     "text": [
      "Training: 100%|██████████| 9/9 [00:01<00:00,  8.57it/s]\n"
     ]
    },
    {
     "name": "stdout",
     "output_type": "stream",
     "text": [
      "Epoch Loss: 0.0002, Accuracy: 1.0000\n"
     ]
    },
    {
     "name": "stderr",
     "output_type": "stream",
     "text": [
      "Validating: 100%|██████████| 2/2 [00:00<00:00,  4.25it/s]\n"
     ]
    },
    {
     "name": "stdout",
     "output_type": "stream",
     "text": [
      "  Train Loss: 0.0002 | Train Acc: 1.0000\n",
      "  Val Loss:   1.9153 | Val Acc:   0.5400\n",
      "  Epoch Duration: 1.53 seconds\n",
      "\n",
      "--- Fold 2, Epoch 25/100 ---\n"
     ]
    },
    {
     "name": "stderr",
     "output_type": "stream",
     "text": [
      "Training: 100%|██████████| 9/9 [00:01<00:00,  8.68it/s]\n"
     ]
    },
    {
     "name": "stdout",
     "output_type": "stream",
     "text": [
      "Epoch Loss: 0.0002, Accuracy: 1.0000\n"
     ]
    },
    {
     "name": "stderr",
     "output_type": "stream",
     "text": [
      "Validating: 100%|██████████| 2/2 [00:00<00:00,  4.29it/s]\n"
     ]
    },
    {
     "name": "stdout",
     "output_type": "stream",
     "text": [
      "  Train Loss: 0.0002 | Train Acc: 1.0000\n",
      "  Val Loss:   1.9366 | Val Acc:   0.5400\n",
      "  Epoch Duration: 1.51 seconds\n",
      "\n",
      "--- Fold 2, Epoch 26/100 ---\n"
     ]
    },
    {
     "name": "stderr",
     "output_type": "stream",
     "text": [
      "Training: 100%|██████████| 9/9 [00:01<00:00,  8.63it/s]\n"
     ]
    },
    {
     "name": "stdout",
     "output_type": "stream",
     "text": [
      "Epoch Loss: 0.0002, Accuracy: 1.0000\n"
     ]
    },
    {
     "name": "stderr",
     "output_type": "stream",
     "text": [
      "Validating: 100%|██████████| 2/2 [00:00<00:00,  4.18it/s]\n"
     ]
    },
    {
     "name": "stdout",
     "output_type": "stream",
     "text": [
      "  Train Loss: 0.0002 | Train Acc: 1.0000\n",
      "  Val Loss:   1.9274 | Val Acc:   0.5600\n",
      "  Epoch Duration: 1.53 seconds\n",
      "\n",
      "--- Fold 2, Epoch 27/100 ---\n"
     ]
    },
    {
     "name": "stderr",
     "output_type": "stream",
     "text": [
      "Training: 100%|██████████| 9/9 [00:01<00:00,  8.56it/s]\n"
     ]
    },
    {
     "name": "stdout",
     "output_type": "stream",
     "text": [
      "Epoch Loss: 0.0001, Accuracy: 1.0000\n"
     ]
    },
    {
     "name": "stderr",
     "output_type": "stream",
     "text": [
      "Validating: 100%|██████████| 2/2 [00:00<00:00,  4.20it/s]\n"
     ]
    },
    {
     "name": "stdout",
     "output_type": "stream",
     "text": [
      "  Train Loss: 0.0001 | Train Acc: 1.0000\n",
      "  Val Loss:   1.9417 | Val Acc:   0.5200\n",
      "  Epoch Duration: 1.53 seconds\n",
      "\n",
      "--- Fold 2, Epoch 28/100 ---\n"
     ]
    },
    {
     "name": "stderr",
     "output_type": "stream",
     "text": [
      "Training: 100%|██████████| 9/9 [00:01<00:00,  8.64it/s]\n"
     ]
    },
    {
     "name": "stdout",
     "output_type": "stream",
     "text": [
      "Epoch Loss: 0.0001, Accuracy: 1.0000\n"
     ]
    },
    {
     "name": "stderr",
     "output_type": "stream",
     "text": [
      "Validating: 100%|██████████| 2/2 [00:00<00:00,  4.12it/s]\n"
     ]
    },
    {
     "name": "stdout",
     "output_type": "stream",
     "text": [
      "  Train Loss: 0.0001 | Train Acc: 1.0000\n",
      "  Val Loss:   1.9459 | Val Acc:   0.5000\n",
      "  Epoch Duration: 1.53 seconds\n",
      "\n",
      "--- Fold 2, Epoch 29/100 ---\n"
     ]
    },
    {
     "name": "stderr",
     "output_type": "stream",
     "text": [
      "Training: 100%|██████████| 9/9 [00:01<00:00,  8.62it/s]\n"
     ]
    },
    {
     "name": "stdout",
     "output_type": "stream",
     "text": [
      "Epoch Loss: 0.0001, Accuracy: 1.0000\n"
     ]
    },
    {
     "name": "stderr",
     "output_type": "stream",
     "text": [
      "Validating: 100%|██████████| 2/2 [00:00<00:00,  4.16it/s]\n"
     ]
    },
    {
     "name": "stdout",
     "output_type": "stream",
     "text": [
      "  Train Loss: 0.0001 | Train Acc: 1.0000\n",
      "  Val Loss:   1.9464 | Val Acc:   0.5000\n",
      "  Epoch Duration: 1.53 seconds\n",
      "  Early stopping at epoch 29.\n",
      "\n",
      "--- Fold 2 Final Evaluation ---\n",
      "Loading best model for fold 2 (achieved 0.5800 on inner val set).\n"
     ]
    },
    {
     "name": "stderr",
     "output_type": "stream",
     "text": [
      "Validating: 100%|██████████| 6/6 [00:00<00:00,  9.68it/s]\n"
     ]
    },
    {
     "name": "stdout",
     "output_type": "stream",
     "text": [
      "Performance of best model on the OUTER TEST SET for fold 2: 0.4431\n",
      "\n",
      "============================== OUTER FOLD 3/3 ==============================\n",
      "Loading pretrained weights from: ../RADIO/saved_models/RADIO2_MSRGNN/deployable_model.pth\n",
      "\n",
      "--- Transfer Learning Report ---\n",
      "Successfully loaded 138 / 140 layers.\n",
      "\n",
      "Skipped 1 layers:\n",
      "  - reasoner.panel_pos_emb.weight (Shape Mismatch. Pretrained: torch.Size([9, 128]), Model: torch.Size([4, 128]))\n",
      "--------------------------------\n",
      "\n",
      "Fold 3 Model has 4,804,547 trainable parameters.\n",
      "Fold 3 Training on 283, Validating on 51, Testing on 166.\n",
      "\n",
      "--- Fold 3, Epoch 1/100 ---\n"
     ]
    },
    {
     "name": "stderr",
     "output_type": "stream",
     "text": [
      "Training: 100%|██████████| 9/9 [00:01<00:00,  8.57it/s]\n"
     ]
    },
    {
     "name": "stdout",
     "output_type": "stream",
     "text": [
      "Epoch Loss: 1.3538, Accuracy: 0.4770\n"
     ]
    },
    {
     "name": "stderr",
     "output_type": "stream",
     "text": [
      "Validating: 100%|██████████| 2/2 [00:00<00:00,  4.16it/s]\n"
     ]
    },
    {
     "name": "stdout",
     "output_type": "stream",
     "text": [
      "  Train Loss: 1.3538 | Train Acc: 0.4770\n",
      "  Val Loss:   1.6091 | Val Acc:   0.3333\n",
      "  Epoch Duration: 1.54 seconds\n",
      "  -> New best inner validation accuracy: 0.3333. Model state saved.\n",
      "\n",
      "--- Fold 3, Epoch 2/100 ---\n"
     ]
    },
    {
     "name": "stderr",
     "output_type": "stream",
     "text": [
      "Training: 100%|██████████| 9/9 [00:01<00:00,  8.66it/s]\n"
     ]
    },
    {
     "name": "stdout",
     "output_type": "stream",
     "text": [
      "Epoch Loss: 1.1071, Accuracy: 0.6007\n"
     ]
    },
    {
     "name": "stderr",
     "output_type": "stream",
     "text": [
      "Validating: 100%|██████████| 2/2 [00:00<00:00,  4.09it/s]\n"
     ]
    },
    {
     "name": "stdout",
     "output_type": "stream",
     "text": [
      "  Train Loss: 1.1071 | Train Acc: 0.6007\n",
      "  Val Loss:   1.6097 | Val Acc:   0.1765\n",
      "  Epoch Duration: 1.54 seconds\n",
      "\n",
      "--- Fold 3, Epoch 3/100 ---\n"
     ]
    },
    {
     "name": "stderr",
     "output_type": "stream",
     "text": [
      "Training: 100%|██████████| 9/9 [00:01<00:00,  8.58it/s]\n"
     ]
    },
    {
     "name": "stdout",
     "output_type": "stream",
     "text": [
      "Epoch Loss: 0.8835, Accuracy: 0.6890\n"
     ]
    },
    {
     "name": "stderr",
     "output_type": "stream",
     "text": [
      "Validating: 100%|██████████| 2/2 [00:00<00:00,  4.14it/s]\n"
     ]
    },
    {
     "name": "stdout",
     "output_type": "stream",
     "text": [
      "  Train Loss: 0.8835 | Train Acc: 0.6890\n",
      "  Val Loss:   1.6120 | Val Acc:   0.2157\n",
      "  Epoch Duration: 1.54 seconds\n",
      "\n",
      "--- Fold 3, Epoch 4/100 ---\n"
     ]
    },
    {
     "name": "stderr",
     "output_type": "stream",
     "text": [
      "Training: 100%|██████████| 9/9 [00:01<00:00,  8.52it/s]\n"
     ]
    },
    {
     "name": "stdout",
     "output_type": "stream",
     "text": [
      "Epoch Loss: 0.6739, Accuracy: 0.8057\n"
     ]
    },
    {
     "name": "stderr",
     "output_type": "stream",
     "text": [
      "Validating: 100%|██████████| 2/2 [00:00<00:00,  4.14it/s]\n"
     ]
    },
    {
     "name": "stdout",
     "output_type": "stream",
     "text": [
      "  Train Loss: 0.6739 | Train Acc: 0.8057\n",
      "  Val Loss:   1.5937 | Val Acc:   0.4118\n",
      "  Epoch Duration: 1.55 seconds\n",
      "  -> New best inner validation accuracy: 0.4118. Model state saved.\n",
      "\n",
      "--- Fold 3, Epoch 5/100 ---\n"
     ]
    },
    {
     "name": "stderr",
     "output_type": "stream",
     "text": [
      "Training: 100%|██████████| 9/9 [00:01<00:00,  8.57it/s]\n"
     ]
    },
    {
     "name": "stdout",
     "output_type": "stream",
     "text": [
      "Epoch Loss: 0.4861, Accuracy: 0.8799\n"
     ]
    },
    {
     "name": "stderr",
     "output_type": "stream",
     "text": [
      "Validating: 100%|██████████| 2/2 [00:00<00:00,  4.12it/s]\n"
     ]
    },
    {
     "name": "stdout",
     "output_type": "stream",
     "text": [
      "  Train Loss: 0.4861 | Train Acc: 0.8799\n",
      "  Val Loss:   1.6029 | Val Acc:   0.3922\n",
      "  Epoch Duration: 1.54 seconds\n",
      "\n",
      "--- Fold 3, Epoch 6/100 ---\n"
     ]
    },
    {
     "name": "stderr",
     "output_type": "stream",
     "text": [
      "Training: 100%|██████████| 9/9 [00:01<00:00,  8.59it/s]\n"
     ]
    },
    {
     "name": "stdout",
     "output_type": "stream",
     "text": [
      "Epoch Loss: 0.3556, Accuracy: 0.9223\n"
     ]
    },
    {
     "name": "stderr",
     "output_type": "stream",
     "text": [
      "Validating: 100%|██████████| 2/2 [00:00<00:00,  4.18it/s]\n"
     ]
    },
    {
     "name": "stdout",
     "output_type": "stream",
     "text": [
      "  Train Loss: 0.3556 | Train Acc: 0.9223\n",
      "  Val Loss:   1.6072 | Val Acc:   0.2157\n",
      "  Epoch Duration: 1.53 seconds\n",
      "\n",
      "--- Fold 3, Epoch 7/100 ---\n"
     ]
    },
    {
     "name": "stderr",
     "output_type": "stream",
     "text": [
      "Training: 100%|██████████| 9/9 [00:01<00:00,  8.70it/s]\n"
     ]
    },
    {
     "name": "stdout",
     "output_type": "stream",
     "text": [
      "Epoch Loss: 0.2580, Accuracy: 0.9435\n"
     ]
    },
    {
     "name": "stderr",
     "output_type": "stream",
     "text": [
      "Validating: 100%|██████████| 2/2 [00:00<00:00,  4.11it/s]\n"
     ]
    },
    {
     "name": "stdout",
     "output_type": "stream",
     "text": [
      "  Train Loss: 0.2580 | Train Acc: 0.9435\n",
      "  Val Loss:   1.6054 | Val Acc:   0.2549\n",
      "  Epoch Duration: 1.53 seconds\n",
      "\n",
      "--- Fold 3, Epoch 8/100 ---\n"
     ]
    },
    {
     "name": "stderr",
     "output_type": "stream",
     "text": [
      "Training: 100%|██████████| 9/9 [00:01<00:00,  8.65it/s]\n"
     ]
    },
    {
     "name": "stdout",
     "output_type": "stream",
     "text": [
      "Epoch Loss: 0.1329, Accuracy: 0.9823\n"
     ]
    },
    {
     "name": "stderr",
     "output_type": "stream",
     "text": [
      "Validating: 100%|██████████| 2/2 [00:00<00:00,  4.15it/s]\n"
     ]
    },
    {
     "name": "stdout",
     "output_type": "stream",
     "text": [
      "  Train Loss: 0.1329 | Train Acc: 0.9823\n",
      "  Val Loss:   1.5953 | Val Acc:   0.2745\n",
      "  Epoch Duration: 1.53 seconds\n",
      "\n",
      "--- Fold 3, Epoch 9/100 ---\n"
     ]
    },
    {
     "name": "stderr",
     "output_type": "stream",
     "text": [
      "Training: 100%|██████████| 9/9 [00:01<00:00,  8.56it/s]\n"
     ]
    },
    {
     "name": "stdout",
     "output_type": "stream",
     "text": [
      "Epoch Loss: 0.0576, Accuracy: 0.9859\n"
     ]
    },
    {
     "name": "stderr",
     "output_type": "stream",
     "text": [
      "Validating: 100%|██████████| 2/2 [00:00<00:00,  4.18it/s]\n"
     ]
    },
    {
     "name": "stdout",
     "output_type": "stream",
     "text": [
      "  Train Loss: 0.0576 | Train Acc: 0.9859\n",
      "  Val Loss:   1.4945 | Val Acc:   0.3529\n",
      "  Epoch Duration: 1.54 seconds\n",
      "\n",
      "--- Fold 3, Epoch 10/100 ---\n"
     ]
    },
    {
     "name": "stderr",
     "output_type": "stream",
     "text": [
      "Training: 100%|██████████| 9/9 [00:01<00:00,  8.53it/s]\n"
     ]
    },
    {
     "name": "stdout",
     "output_type": "stream",
     "text": [
      "Epoch Loss: 0.0364, Accuracy: 0.9929\n"
     ]
    },
    {
     "name": "stderr",
     "output_type": "stream",
     "text": [
      "Validating: 100%|██████████| 2/2 [00:00<00:00,  4.21it/s]\n"
     ]
    },
    {
     "name": "stdout",
     "output_type": "stream",
     "text": [
      "  Train Loss: 0.0364 | Train Acc: 0.9929\n",
      "  Val Loss:   1.7265 | Val Acc:   0.5294\n",
      "  Epoch Duration: 1.54 seconds\n",
      "  -> New best inner validation accuracy: 0.5294. Model state saved.\n",
      "\n",
      "--- Fold 3, Epoch 11/100 ---\n"
     ]
    },
    {
     "name": "stderr",
     "output_type": "stream",
     "text": [
      "Training: 100%|██████████| 9/9 [00:01<00:00,  8.55it/s]\n"
     ]
    },
    {
     "name": "stdout",
     "output_type": "stream",
     "text": [
      "Epoch Loss: 0.0309, Accuracy: 0.9965\n"
     ]
    },
    {
     "name": "stderr",
     "output_type": "stream",
     "text": [
      "Validating: 100%|██████████| 2/2 [00:00<00:00,  4.18it/s]\n"
     ]
    },
    {
     "name": "stdout",
     "output_type": "stream",
     "text": [
      "  Train Loss: 0.0309 | Train Acc: 0.9965\n",
      "  Val Loss:   2.2600 | Val Acc:   0.4314\n",
      "  Epoch Duration: 1.54 seconds\n",
      "\n",
      "--- Fold 3, Epoch 12/100 ---\n"
     ]
    },
    {
     "name": "stderr",
     "output_type": "stream",
     "text": [
      "Training: 100%|██████████| 9/9 [00:01<00:00,  8.56it/s]\n"
     ]
    },
    {
     "name": "stdout",
     "output_type": "stream",
     "text": [
      "Epoch Loss: 0.0243, Accuracy: 0.9929\n"
     ]
    },
    {
     "name": "stderr",
     "output_type": "stream",
     "text": [
      "Validating: 100%|██████████| 2/2 [00:00<00:00,  4.12it/s]\n"
     ]
    },
    {
     "name": "stdout",
     "output_type": "stream",
     "text": [
      "  Train Loss: 0.0243 | Train Acc: 0.9929\n",
      "  Val Loss:   2.8052 | Val Acc:   0.4902\n",
      "  Epoch Duration: 1.54 seconds\n",
      "\n",
      "--- Fold 3, Epoch 13/100 ---\n"
     ]
    },
    {
     "name": "stderr",
     "output_type": "stream",
     "text": [
      "Training: 100%|██████████| 9/9 [00:01<00:00,  8.59it/s]\n"
     ]
    },
    {
     "name": "stdout",
     "output_type": "stream",
     "text": [
      "Epoch Loss: 0.0073, Accuracy: 1.0000\n"
     ]
    },
    {
     "name": "stderr",
     "output_type": "stream",
     "text": [
      "Validating: 100%|██████████| 2/2 [00:00<00:00,  4.12it/s]\n"
     ]
    },
    {
     "name": "stdout",
     "output_type": "stream",
     "text": [
      "  Train Loss: 0.0073 | Train Acc: 1.0000\n",
      "  Val Loss:   2.4891 | Val Acc:   0.4902\n",
      "  Epoch Duration: 1.54 seconds\n",
      "\n",
      "--- Fold 3, Epoch 14/100 ---\n"
     ]
    },
    {
     "name": "stderr",
     "output_type": "stream",
     "text": [
      "Training: 100%|██████████| 9/9 [00:01<00:00,  8.62it/s]\n"
     ]
    },
    {
     "name": "stdout",
     "output_type": "stream",
     "text": [
      "Epoch Loss: 0.0070, Accuracy: 1.0000\n"
     ]
    },
    {
     "name": "stderr",
     "output_type": "stream",
     "text": [
      "Validating: 100%|██████████| 2/2 [00:00<00:00,  4.18it/s]\n"
     ]
    },
    {
     "name": "stdout",
     "output_type": "stream",
     "text": [
      "  Train Loss: 0.0070 | Train Acc: 1.0000\n",
      "  Val Loss:   3.0870 | Val Acc:   0.4510\n",
      "  Epoch Duration: 1.53 seconds\n",
      "\n",
      "--- Fold 3, Epoch 15/100 ---\n"
     ]
    },
    {
     "name": "stderr",
     "output_type": "stream",
     "text": [
      "Training: 100%|██████████| 9/9 [00:01<00:00,  8.58it/s]\n"
     ]
    },
    {
     "name": "stdout",
     "output_type": "stream",
     "text": [
      "Epoch Loss: 0.0068, Accuracy: 1.0000\n"
     ]
    },
    {
     "name": "stderr",
     "output_type": "stream",
     "text": [
      "Validating: 100%|██████████| 2/2 [00:00<00:00,  4.20it/s]\n"
     ]
    },
    {
     "name": "stdout",
     "output_type": "stream",
     "text": [
      "  Train Loss: 0.0068 | Train Acc: 1.0000\n",
      "  Val Loss:   3.3867 | Val Acc:   0.4510\n",
      "  Epoch Duration: 1.53 seconds\n",
      "\n",
      "--- Fold 3, Epoch 16/100 ---\n"
     ]
    },
    {
     "name": "stderr",
     "output_type": "stream",
     "text": [
      "Training: 100%|██████████| 9/9 [00:01<00:00,  8.62it/s]\n"
     ]
    },
    {
     "name": "stdout",
     "output_type": "stream",
     "text": [
      "Epoch Loss: 0.0081, Accuracy: 0.9965\n"
     ]
    },
    {
     "name": "stderr",
     "output_type": "stream",
     "text": [
      "Validating: 100%|██████████| 2/2 [00:00<00:00,  4.18it/s]\n"
     ]
    },
    {
     "name": "stdout",
     "output_type": "stream",
     "text": [
      "  Train Loss: 0.0081 | Train Acc: 0.9965\n",
      "  Val Loss:   3.2976 | Val Acc:   0.4902\n",
      "  Epoch Duration: 1.53 seconds\n",
      "\n",
      "--- Fold 3, Epoch 17/100 ---\n"
     ]
    },
    {
     "name": "stderr",
     "output_type": "stream",
     "text": [
      "Training: 100%|██████████| 9/9 [00:01<00:00,  8.56it/s]\n"
     ]
    },
    {
     "name": "stdout",
     "output_type": "stream",
     "text": [
      "Epoch Loss: 0.0048, Accuracy: 0.9965\n"
     ]
    },
    {
     "name": "stderr",
     "output_type": "stream",
     "text": [
      "Validating: 100%|██████████| 2/2 [00:00<00:00,  4.19it/s]\n"
     ]
    },
    {
     "name": "stdout",
     "output_type": "stream",
     "text": [
      "  Train Loss: 0.0048 | Train Acc: 0.9965\n",
      "  Val Loss:   3.5610 | Val Acc:   0.4510\n",
      "  Epoch Duration: 1.54 seconds\n",
      "\n",
      "--- Fold 3, Epoch 18/100 ---\n"
     ]
    },
    {
     "name": "stderr",
     "output_type": "stream",
     "text": [
      "Training: 100%|██████████| 9/9 [00:01<00:00,  8.58it/s]\n"
     ]
    },
    {
     "name": "stdout",
     "output_type": "stream",
     "text": [
      "Epoch Loss: 0.0027, Accuracy: 1.0000\n"
     ]
    },
    {
     "name": "stderr",
     "output_type": "stream",
     "text": [
      "Validating: 100%|██████████| 2/2 [00:00<00:00,  4.17it/s]\n"
     ]
    },
    {
     "name": "stdout",
     "output_type": "stream",
     "text": [
      "  Train Loss: 0.0027 | Train Acc: 1.0000\n",
      "  Val Loss:   3.9296 | Val Acc:   0.4118\n",
      "  Epoch Duration: 1.54 seconds\n",
      "\n",
      "--- Fold 3, Epoch 19/100 ---\n"
     ]
    },
    {
     "name": "stderr",
     "output_type": "stream",
     "text": [
      "Training: 100%|██████████| 9/9 [00:01<00:00,  8.59it/s]\n"
     ]
    },
    {
     "name": "stdout",
     "output_type": "stream",
     "text": [
      "Epoch Loss: 0.0030, Accuracy: 1.0000\n"
     ]
    },
    {
     "name": "stderr",
     "output_type": "stream",
     "text": [
      "Validating: 100%|██████████| 2/2 [00:00<00:00,  4.17it/s]\n"
     ]
    },
    {
     "name": "stdout",
     "output_type": "stream",
     "text": [
      "  Train Loss: 0.0030 | Train Acc: 1.0000\n",
      "  Val Loss:   3.7170 | Val Acc:   0.4118\n",
      "  Epoch Duration: 1.53 seconds\n",
      "\n",
      "--- Fold 3, Epoch 20/100 ---\n"
     ]
    },
    {
     "name": "stderr",
     "output_type": "stream",
     "text": [
      "Training: 100%|██████████| 9/9 [00:01<00:00,  8.58it/s]\n"
     ]
    },
    {
     "name": "stdout",
     "output_type": "stream",
     "text": [
      "Epoch Loss: 0.0036, Accuracy: 1.0000\n"
     ]
    },
    {
     "name": "stderr",
     "output_type": "stream",
     "text": [
      "Validating: 100%|██████████| 2/2 [00:00<00:00,  4.16it/s]\n"
     ]
    },
    {
     "name": "stdout",
     "output_type": "stream",
     "text": [
      "  Train Loss: 0.0036 | Train Acc: 1.0000\n",
      "  Val Loss:   3.2471 | Val Acc:   0.4706\n",
      "  Epoch Duration: 1.54 seconds\n",
      "  Early stopping at epoch 20.\n",
      "\n",
      "--- Fold 3 Final Evaluation ---\n",
      "Loading best model for fold 3 (achieved 0.5294 on inner val set).\n"
     ]
    },
    {
     "name": "stderr",
     "output_type": "stream",
     "text": [
      "Validating: 100%|██████████| 6/6 [00:00<00:00,  9.55it/s]"
     ]
    },
    {
     "name": "stdout",
     "output_type": "stream",
     "text": [
      "Performance of best model on the OUTER TEST SET for fold 3: 0.5060\n",
      "\n",
      "============================== FINAL UNBIASED PERFORMANCE SUMMARY ==============================\n",
      "Unbiased test accuracies from each fold: ['0.4491', '0.4431', '0.5060']\n",
      "Average Test Accuracy from CV: 0.4661\n",
      "Standard Deviation of Test Accuracy from CV: 0.0284\n",
      "-> Estimated Generalization Performance: 0.4661 ± 0.0284\n",
      "\n",
      "Cross-validation finished.\n",
      "To view TensorBoard logs, run the following command in your terminal:\n",
      "tensorboard --logdir runs/O3_5-MSRGNN-TRANSFER_RADIO_2\n"
     ]
    },
    {
     "name": "stderr",
     "output_type": "stream",
     "text": [
      "\n"
     ]
    }
   ],
   "source": [
    "from sklearn.model_selection import train_test_split\n",
    "VAL_SPLIT_SIZE = 0.15\n",
    "\n",
    "MODEL_FOLDER_NAME = \"O3_5-MSRGNN-TRANSFER_RADIO_2\"\n",
    "\n",
    "# ==============================================================================\n",
    "# 2. DATASET & FOLD SETUP\n",
    "# ==============================================================================\n",
    "print(f\"Total data for cross-validation: {len(full_dataset)} samples.\")\n",
    "\n",
    "kfold = KFold(n_splits=N_SPLITS, shuffle=True, random_state=42)\n",
    "fold_test_results = []\n",
    "\n",
    "# ==============================================================================\n",
    "# 3. CROSS-VALIDATION LOOP\n",
    "# ==============================================================================\n",
    "for fold, (train_outer_idx, test_outer_idx) in enumerate(kfold.split(np.zeros(len(full_dataset)))):\n",
    "    print(f\"\\n{'='*30} OUTER FOLD {fold+1}/{N_SPLITS} {'='*30}\")\n",
    "\n",
    "    SAVED_MODELS_PATH = f\"./saved_models/{MODEL_FOLDER_NAME}/\"\n",
    "\n",
    "    if not os.path.exists(SAVED_MODELS_PATH):\n",
    "        os.makedirs(SAVED_MODELS_PATH)\n",
    "    writer = SummaryWriter(log_dir=f'runs/{MODEL_FOLDER_NAME}/fold_{fold+1}')\n",
    "\n",
    "    inner_train_idx, inner_val_idx = train_test_split(\n",
    "        train_outer_idx,\n",
    "        test_size=VAL_SPLIT_SIZE,\n",
    "        shuffle=True, # Shuffle before splitting\n",
    "        random_state=42\n",
    "    )\n",
    "\n",
    "    inner_train_subset = Subset(full_dataset, inner_train_idx)\n",
    "    inner_val_subset = Subset(full_dataset, inner_val_idx)\n",
    "    outer_test_subset = Subset(full_dataset, test_outer_idx)\n",
    "\n",
    "    train_loader = DataLoader(inner_train_subset, batch_size=BATCH_SIZE, shuffle=True, num_workers=4, pin_memory=True)\n",
    "    val_loader = DataLoader(inner_val_subset, batch_size=BATCH_SIZE, shuffle=False, num_workers=4, pin_memory=True)\n",
    "    test_loader = DataLoader(outer_test_subset, batch_size=BATCH_SIZE, shuffle=False, num_workers=4, pin_memory=True)\n",
    "\n",
    "    model = OddOneOutMSRGNN(**model_params).to(DEVICE)\n",
    "\n",
    "    load_partial_state_dict(\n",
    "        model,\n",
    "        \"../RADIO/saved_models/RADIO2_MSRGNN/deployable_model.pth\"\n",
    "    )\n",
    "\n",
    "    optimizer = torch.optim.AdamW(model.parameters(), lr=LEARNING_RATE, weight_decay=WEIGHT_DECAY)\n",
    "    criterion = nn.CrossEntropyLoss()\n",
    "    scheduler = torch.optim.lr_scheduler.CosineAnnealingLR(optimizer, T_max=EPOCHS, eta_min=1e-6)\n",
    "    scaler = None\n",
    "\n",
    "    total_params = sum(p.numel() for p in model.parameters() if p.requires_grad)\n",
    "    print(f\"Fold {fold+1} Model has {total_params:,} trainable parameters.\")\n",
    "    print(f\"Fold {fold+1} Training on {len(inner_train_subset)}, Validating on {len(inner_val_subset)}, Testing on {len(outer_test_subset)}.\")\n",
    "\n",
    "    best_model_path = f\"{SAVED_MODELS_PATH}/best_model_fold_{fold+1}.pth\"\n",
    "    best_val_acc_fold = 0.0\n",
    "    epochs_without_improvement = 0\n",
    "\n",
    "    # --- Inner Training Loop for the Fold ---\n",
    "    for epoch in range(1, EPOCHS + 1):\n",
    "        epoch_start_time = time.time()\n",
    "        \n",
    "        print(f\"\\n--- Fold {fold+1}, Epoch {epoch}/{EPOCHS} ---\")\n",
    "        train_loss, train_acc = train_epoch(model, train_loader, optimizer, criterion, DEVICE)\n",
    "        val_loss, val_acc = validate(model, val_loader, criterion, DEVICE)\n",
    "\n",
    "        scheduler.step()\n",
    "\n",
    "        epoch_duration = time.time() - epoch_start_time\n",
    "\n",
    "        print(f\"  Train Loss: {train_loss:.4f} | Train Acc: {train_acc:.4f}\")\n",
    "        print(f\"  Val Loss:   {val_loss:.4f} | Val Acc:   {val_acc:.4f}\")\n",
    "        print(f\"  Epoch Duration: {epoch_duration:.2f} seconds\")\n",
    "        \n",
    "        writer.add_scalar('Loss/train', train_loss, epoch)\n",
    "        writer.add_scalar('Accuracy/train', train_acc, epoch)\n",
    "        writer.add_scalar('Loss/val', val_loss, epoch)\n",
    "        writer.add_scalar('Accuracy/val', val_acc, epoch)\n",
    "        writer.add_scalar('Performance/seconds_per_epoch', epoch_duration, epoch)\n",
    "        writer.add_scalar('Learning_Rate', optimizer.param_groups[0]['lr'], epoch)\n",
    "\n",
    "        if val_acc > best_val_acc_fold:\n",
    "            best_val_acc_fold = val_acc\n",
    "            epochs_without_improvement = 0\n",
    "            torch.save(model.state_dict(), best_model_path)\n",
    "            print(f\"  -> New best inner validation accuracy: {best_val_acc_fold:.4f}. Model state saved.\")\n",
    "        else:\n",
    "            epochs_without_improvement += 1\n",
    "            if epochs_without_improvement >= PATIENCE:\n",
    "                print(f\"  Early stopping at epoch {epoch}.\")\n",
    "                break\n",
    "    \n",
    "    print(f\"\\n--- Fold {fold+1} Final Evaluation ---\")\n",
    "    print(f\"Loading best model for fold {fold+1} (achieved {best_val_acc_fold:.4f} on inner val set).\")\n",
    "    # Load the best model weights identified during the inner loop\n",
    "    model.load_state_dict(torch.load(best_model_path))\n",
    "    \n",
    "    # Evaluate this best model on the completely unseen outer test set\n",
    "    _, final_fold_test_acc = validate(model, test_loader, criterion, DEVICE)\n",
    "    print(f\"Performance of best model on the OUTER TEST SET for fold {fold+1}: {final_fold_test_acc:.4f}\")\n",
    "\n",
    "    fold_test_results.append(final_fold_test_acc)\n",
    "    writer.add_scalar('Accuracy/test', final_fold_test_acc)\n",
    "    \n",
    "    hparams = { 'learning_rate': LEARNING_RATE, 'batch_size': BATCH_SIZE, **model_params }\n",
    "    final_metrics = {\n",
    "        'hparam/test_accuracy': final_fold_test_acc,\n",
    "        'hparam/best_inner_val_accuracy': best_val_acc_fold\n",
    "    }\n",
    "    writer.add_hparams(hparams, final_metrics)\n",
    "    writer.close()\n",
    "\n",
    "# ==============================================================================\n",
    "# 4. AGGREGATE AND REPORT CV RESULTS\n",
    "# ==============================================================================\n",
    "mean_test_acc = np.mean(fold_test_results)\n",
    "std_test_acc = np.std(fold_test_results)\n",
    "\n",
    "print(f\"\\n{'='*30} FINAL UNBIASED PERFORMANCE SUMMARY {'='*30}\")\n",
    "print(f\"Unbiased test accuracies from each fold: {[f'{acc:.4f}' for acc in fold_test_results]}\")\n",
    "print(f\"Average Test Accuracy from CV: {mean_test_acc:.4f}\")\n",
    "print(f\"Standard Deviation of Test Accuracy from CV: {std_test_acc:.4f}\")\n",
    "print(f\"-> Estimated Generalization Performance: {mean_test_acc:.4f} \\u00B1 {std_test_acc:.4f}\")\n",
    "\n",
    "print(\"\\nCross-validation finished.\")\n",
    "print(\"To view TensorBoard logs, run the following command in your terminal:\")\n",
    "print(f\"tensorboard --logdir runs/{MODEL_FOLDER_NAME}\")"
   ]
  }
 ],
 "metadata": {
  "kernelspec": {
   "display_name": "DGL_ENV",
   "language": "python",
   "name": "dgl_env"
  },
  "language_info": {
   "codemirror_mode": {
    "name": "ipython",
    "version": 3
   },
   "file_extension": ".py",
   "mimetype": "text/x-python",
   "name": "python",
   "nbconvert_exporter": "python",
   "pygments_lexer": "ipython3",
   "version": "3.12.3"
  }
 },
 "nbformat": 4,
 "nbformat_minor": 5
}
