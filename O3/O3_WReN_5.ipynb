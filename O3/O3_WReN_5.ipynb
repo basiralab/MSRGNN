{
 "cells": [
  {
   "cell_type": "code",
   "execution_count": 1,
   "id": "d1380b68",
   "metadata": {},
   "outputs": [],
   "source": [
    "%load_ext autoreload\n",
    "%autoreload 2"
   ]
  },
  {
   "cell_type": "code",
   "execution_count": 2,
   "id": "b1aef315",
   "metadata": {},
   "outputs": [
    {
     "name": "stderr",
     "output_type": "stream",
     "text": [
      "/vol/venv/icc24/DGL_ENV/lib/python3.12/site-packages/tqdm/auto.py:21: TqdmWarning: IProgress not found. Please update jupyter and ipywidgets. See https://ipywidgets.readthedocs.io/en/stable/user_install.html\n",
      "  from .autonotebook import tqdm as notebook_tqdm\n"
     ]
    }
   ],
   "source": [
    "from data_utility import DeepiqDataset\n",
    "from torch.utils.data import DataLoader\n",
    "from torch.utils.data import TensorDataset, DataLoader, random_split, Dataset\n",
    "import torch"
   ]
  },
  {
   "cell_type": "code",
   "execution_count": 3,
   "id": "409cefd3",
   "metadata": {},
   "outputs": [],
   "source": [
    "BATCH_SIZE = 32"
   ]
  },
  {
   "cell_type": "code",
   "execution_count": 4,
   "id": "81c44e88",
   "metadata": {},
   "outputs": [
    {
     "name": "stdout",
     "output_type": "stream",
     "text": [
      "Dataset size: 500\n",
      "Splitting into:\n",
      "  - Training set:   300 samples (60.00%)\n",
      "  - Validation set: 100 samples (20.00%)\n",
      "  - Test set:       100 samples (20.00%)\n",
      "----------------------------------------\n",
      "Type of train_dataset: <class 'torch.utils.data.dataset.Subset'>\n",
      "Actual size of train_dataset: 300\n",
      "Actual size of val_dataset:   100\n",
      "Actual size of test_dataset:  100\n",
      "\n",
      "Successfully split the dataset without losing any data points.\n",
      "----------------------------------------\n",
      "Number of batches in train_loader: 10\n",
      "Number of batches in val_loader:   4\n",
      "Number of batches in test_loader:  4\n"
     ]
    }
   ],
   "source": [
    "full_dataset = DeepiqDataset(\n",
    "    dataset_root_dir = \"./odd-one-out\",\n",
    "    num_panels = [5]\n",
    ")\n",
    "\n",
    "dataset_size = len(full_dataset)\n",
    "print(f\"Dataset size: {dataset_size}\")\n",
    "\n",
    "train_prop = 0.6\n",
    "val_prop = 0.2\n",
    "# test_prop = 0.2\n",
    "\n",
    "train_size = int(train_prop * dataset_size)\n",
    "val_size = int(val_prop * dataset_size)\n",
    "\n",
    "test_size = dataset_size - train_size - val_size\n",
    "\n",
    "print(f\"Splitting into:\")\n",
    "print(f\"  - Training set:   {train_size} samples ({train_size/dataset_size:.2%})\")\n",
    "print(f\"  - Validation set: {val_size} samples ({val_size/dataset_size:.2%})\")\n",
    "print(f\"  - Test set:       {test_size} samples ({test_size/dataset_size:.2%})\")\n",
    "print(\"-\" * 40)\n",
    "\n",
    "\n",
    "generator = torch.Generator().manual_seed(42)\n",
    "\n",
    "train_dataset, val_dataset, test_dataset = random_split(\n",
    "    full_dataset, [train_size, val_size, test_size], generator=generator\n",
    ")\n",
    "\n",
    "\n",
    "# --- 4. Verification ---\n",
    "print(f\"Type of train_dataset: {type(train_dataset)}\")\n",
    "\n",
    "print(f\"Actual size of train_dataset: {len(train_dataset)}\")\n",
    "print(f\"Actual size of val_dataset:   {len(val_dataset)}\")\n",
    "print(f\"Actual size of test_dataset:  {len(test_dataset)}\")\n",
    "\n",
    "assert len(train_dataset) + len(val_dataset) + len(test_dataset) == dataset_size\n",
    "print(\"\\nSuccessfully split the dataset without losing any data points.\")\n",
    "print(\"-\" * 40)\n",
    "\n",
    "\n",
    "# --- 5. Create DataLoaders for each set ---\n",
    "train_loader = DataLoader(train_dataset, batch_size=BATCH_SIZE, shuffle=True)\n",
    "val_loader = DataLoader(val_dataset, batch_size=BATCH_SIZE, shuffle=False)\n",
    "test_loader = DataLoader(test_dataset, batch_size=BATCH_SIZE, shuffle=False)\n",
    "\n",
    "print(f\"Number of batches in train_loader: {len(train_loader)}\")\n",
    "print(f\"Number of batches in val_loader:   {len(val_loader)}\")\n",
    "print(f\"Number of batches in test_loader:  {len(test_loader)}\")"
   ]
  },
  {
   "cell_type": "code",
   "execution_count": 5,
   "id": "07b04a23",
   "metadata": {},
   "outputs": [
    {
     "name": "stdout",
     "output_type": "stream",
     "text": [
      "Shape of a single instance in train_loader: torch.Size([32, 5, 1, 80, 80])\n"
     ]
    }
   ],
   "source": [
    "print(f\"Shape of a single instance in train_loader: {next(iter(train_loader))[0].shape}\")"
   ]
  },
  {
   "cell_type": "code",
   "execution_count": 6,
   "id": "9da8adaa",
   "metadata": {},
   "outputs": [],
   "source": [
    "from wren import OddOneOutWReN, train_epoch, validate, count_parameters"
   ]
  },
  {
   "cell_type": "code",
   "execution_count": 7,
   "id": "d44ca931",
   "metadata": {},
   "outputs": [],
   "source": [
    "import torch\n",
    "import torch.nn as nn\n",
    "import time"
   ]
  },
  {
   "cell_type": "code",
   "execution_count": 8,
   "id": "1ed7f119",
   "metadata": {},
   "outputs": [],
   "source": [
    "IMG_SIZE = 80\n",
    "LEARNING_RATE = 1e-4\n",
    "BETA_1 = 0.9\n",
    "BETA_2 = 0.999\n",
    "EPSILON = 1e-8"
   ]
  },
  {
   "cell_type": "code",
   "execution_count": 9,
   "id": "1fa2ea22",
   "metadata": {},
   "outputs": [],
   "source": [
    "import json"
   ]
  },
  {
   "cell_type": "code",
   "execution_count": 10,
   "id": "03725d6b",
   "metadata": {},
   "outputs": [],
   "source": [
    "# --- Training Hyperparameters ---\n",
    "N_SPLITS = 3\n",
    "EPOCHS = 100\n",
    "BATCH_SIZE = 32\n",
    "PATIENCE = 10 # For early stopping\n",
    "\n",
    "# --- Model & Logging Setup ---\n",
    "MODEL_FOLDER_NAME = \"O3_5-WReN\"\n",
    "DEVICE = \"cuda\" if torch.cuda.is_available() else \"cpu\""
   ]
  },
  {
   "cell_type": "code",
   "execution_count": 11,
   "id": "82fda978",
   "metadata": {},
   "outputs": [],
   "source": [
    "import os\n",
    "import time\n",
    "import numpy as np\n",
    "import torch\n",
    "import torch.nn as nn\n",
    "from torch.utils.data import DataLoader, Subset\n",
    "from sklearn.model_selection import KFold\n",
    "from torch.utils.tensorboard import SummaryWriter\n",
    "from tqdm import tqdm"
   ]
  },
  {
   "cell_type": "markdown",
   "id": "8e4ac08b",
   "metadata": {},
   "source": [
    "# O3 STL"
   ]
  },
  {
   "cell_type": "code",
   "execution_count": 12,
   "id": "1e84b37b",
   "metadata": {},
   "outputs": [
    {
     "name": "stdout",
     "output_type": "stream",
     "text": [
      "Total data for cross-validation: 500 samples.\n",
      "\n",
      "============================== OUTER FOLD 1/3 ==============================\n",
      "Fold 1 Model has 1,212,129 trainable parameters.\n",
      "Fold 1 Training on 283, Validating on 50, Testing on 167.\n",
      "\n",
      "--- Fold 1, Epoch 1/100 ---\n"
     ]
    },
    {
     "name": "stderr",
     "output_type": "stream",
     "text": [
      "Training: 100%|██████████| 9/9 [00:01<00:00,  6.18it/s]\n",
      "Validating: 100%|██████████| 2/2 [00:00<00:00,  4.34it/s]\n"
     ]
    },
    {
     "name": "stdout",
     "output_type": "stream",
     "text": [
      "  Train Loss: 1.6101 | Train Acc: 0.1767\n",
      "  Val Loss:   1.6094 | Val Acc:   0.2000\n",
      "  Epoch Duration: 1.92 seconds\n",
      "  -> New best inner validation accuracy: 0.2000. Model state saved.\n",
      "\n",
      "--- Fold 1, Epoch 2/100 ---\n"
     ]
    },
    {
     "name": "stderr",
     "output_type": "stream",
     "text": [
      "Training: 100%|██████████| 9/9 [00:00<00:00, 10.52it/s]\n",
      "Validating: 100%|██████████| 2/2 [00:00<00:00,  4.53it/s]\n"
     ]
    },
    {
     "name": "stdout",
     "output_type": "stream",
     "text": [
      "  Train Loss: 1.6046 | Train Acc: 0.2580\n",
      "  Val Loss:   1.6094 | Val Acc:   0.2000\n",
      "  Epoch Duration: 1.30 seconds\n",
      "\n",
      "--- Fold 1, Epoch 3/100 ---\n"
     ]
    },
    {
     "name": "stderr",
     "output_type": "stream",
     "text": [
      "Training: 100%|██████████| 9/9 [00:00<00:00, 10.85it/s]\n",
      "Validating: 100%|██████████| 2/2 [00:00<00:00,  4.45it/s]\n"
     ]
    },
    {
     "name": "stdout",
     "output_type": "stream",
     "text": [
      "  Train Loss: 1.6035 | Train Acc: 0.2862\n",
      "  Val Loss:   1.6094 | Val Acc:   0.2000\n",
      "  Epoch Duration: 1.28 seconds\n",
      "\n",
      "--- Fold 1, Epoch 4/100 ---\n"
     ]
    },
    {
     "name": "stderr",
     "output_type": "stream",
     "text": [
      "Training: 100%|██████████| 9/9 [00:00<00:00, 10.72it/s]\n",
      "Validating: 100%|██████████| 2/2 [00:00<00:00,  4.43it/s]\n"
     ]
    },
    {
     "name": "stdout",
     "output_type": "stream",
     "text": [
      "  Train Loss: 1.5881 | Train Acc: 0.3569\n",
      "  Val Loss:   1.6094 | Val Acc:   0.2000\n",
      "  Epoch Duration: 1.30 seconds\n",
      "\n",
      "--- Fold 1, Epoch 5/100 ---\n"
     ]
    },
    {
     "name": "stderr",
     "output_type": "stream",
     "text": [
      "Training: 100%|██████████| 9/9 [00:00<00:00, 10.79it/s]\n",
      "Validating: 100%|██████████| 2/2 [00:00<00:00,  4.41it/s]\n"
     ]
    },
    {
     "name": "stdout",
     "output_type": "stream",
     "text": [
      "  Train Loss: 1.5671 | Train Acc: 0.3816\n",
      "  Val Loss:   1.6094 | Val Acc:   0.2000\n",
      "  Epoch Duration: 1.29 seconds\n",
      "\n",
      "--- Fold 1, Epoch 6/100 ---\n"
     ]
    },
    {
     "name": "stderr",
     "output_type": "stream",
     "text": [
      "Training: 100%|██████████| 9/9 [00:00<00:00, 10.41it/s]\n",
      "Validating: 100%|██████████| 2/2 [00:00<00:00,  4.29it/s]\n"
     ]
    },
    {
     "name": "stdout",
     "output_type": "stream",
     "text": [
      "  Train Loss: 1.5153 | Train Acc: 0.4099\n",
      "  Val Loss:   1.6094 | Val Acc:   0.2400\n",
      "  Epoch Duration: 1.34 seconds\n",
      "  -> New best inner validation accuracy: 0.2400. Model state saved.\n",
      "\n",
      "--- Fold 1, Epoch 7/100 ---\n"
     ]
    },
    {
     "name": "stderr",
     "output_type": "stream",
     "text": [
      "Training: 100%|██████████| 9/9 [00:00<00:00, 10.64it/s]\n",
      "Validating: 100%|██████████| 2/2 [00:00<00:00,  4.38it/s]\n"
     ]
    },
    {
     "name": "stdout",
     "output_type": "stream",
     "text": [
      "  Train Loss: 1.4301 | Train Acc: 0.4099\n",
      "  Val Loss:   1.6101 | Val Acc:   0.3000\n",
      "  Epoch Duration: 1.31 seconds\n",
      "  -> New best inner validation accuracy: 0.3000. Model state saved.\n",
      "\n",
      "--- Fold 1, Epoch 8/100 ---\n"
     ]
    },
    {
     "name": "stderr",
     "output_type": "stream",
     "text": [
      "Training: 100%|██████████| 9/9 [00:00<00:00, 10.71it/s]\n",
      "Validating: 100%|██████████| 2/2 [00:00<00:00,  4.52it/s]\n"
     ]
    },
    {
     "name": "stdout",
     "output_type": "stream",
     "text": [
      "  Train Loss: 1.2910 | Train Acc: 0.4876\n",
      "  Val Loss:   1.6127 | Val Acc:   0.2800\n",
      "  Epoch Duration: 1.29 seconds\n",
      "\n",
      "--- Fold 1, Epoch 9/100 ---\n"
     ]
    },
    {
     "name": "stderr",
     "output_type": "stream",
     "text": [
      "Training: 100%|██████████| 9/9 [00:00<00:00, 10.79it/s]\n",
      "Validating: 100%|██████████| 2/2 [00:00<00:00,  4.59it/s]\n"
     ]
    },
    {
     "name": "stdout",
     "output_type": "stream",
     "text": [
      "  Train Loss: 1.0861 | Train Acc: 0.5972\n",
      "  Val Loss:   1.6237 | Val Acc:   0.2600\n",
      "  Epoch Duration: 1.27 seconds\n",
      "\n",
      "--- Fold 1, Epoch 10/100 ---\n"
     ]
    },
    {
     "name": "stderr",
     "output_type": "stream",
     "text": [
      "Training: 100%|██████████| 9/9 [00:00<00:00, 10.69it/s]\n",
      "Validating: 100%|██████████| 2/2 [00:00<00:00,  4.41it/s]\n"
     ]
    },
    {
     "name": "stdout",
     "output_type": "stream",
     "text": [
      "  Train Loss: 1.0074 | Train Acc: 0.6360\n",
      "  Val Loss:   1.5718 | Val Acc:   0.3400\n",
      "  Epoch Duration: 1.30 seconds\n",
      "  -> New best inner validation accuracy: 0.3400. Model state saved.\n",
      "\n",
      "--- Fold 1, Epoch 11/100 ---\n"
     ]
    },
    {
     "name": "stderr",
     "output_type": "stream",
     "text": [
      "Training: 100%|██████████| 9/9 [00:00<00:00, 11.09it/s]\n",
      "Validating: 100%|██████████| 2/2 [00:00<00:00,  4.34it/s]\n"
     ]
    },
    {
     "name": "stdout",
     "output_type": "stream",
     "text": [
      "  Train Loss: 0.8401 | Train Acc: 0.7067\n",
      "  Val Loss:   1.5459 | Val Acc:   0.3000\n",
      "  Epoch Duration: 1.28 seconds\n",
      "\n",
      "--- Fold 1, Epoch 12/100 ---\n"
     ]
    },
    {
     "name": "stderr",
     "output_type": "stream",
     "text": [
      "Training: 100%|██████████| 9/9 [00:00<00:00, 10.81it/s]\n",
      "Validating: 100%|██████████| 2/2 [00:00<00:00,  4.51it/s]\n"
     ]
    },
    {
     "name": "stdout",
     "output_type": "stream",
     "text": [
      "  Train Loss: 0.6613 | Train Acc: 0.7739\n",
      "  Val Loss:   1.5774 | Val Acc:   0.2400\n",
      "  Epoch Duration: 1.28 seconds\n",
      "\n",
      "--- Fold 1, Epoch 13/100 ---\n"
     ]
    },
    {
     "name": "stderr",
     "output_type": "stream",
     "text": [
      "Training: 100%|██████████| 9/9 [00:00<00:00, 10.71it/s]\n",
      "Validating: 100%|██████████| 2/2 [00:00<00:00,  4.51it/s]\n"
     ]
    },
    {
     "name": "stdout",
     "output_type": "stream",
     "text": [
      "  Train Loss: 0.5720 | Train Acc: 0.7986\n",
      "  Val Loss:   1.5978 | Val Acc:   0.3400\n",
      "  Epoch Duration: 1.29 seconds\n",
      "\n",
      "--- Fold 1, Epoch 14/100 ---\n"
     ]
    },
    {
     "name": "stderr",
     "output_type": "stream",
     "text": [
      "Training: 100%|██████████| 9/9 [00:00<00:00, 10.87it/s]\n",
      "Validating: 100%|██████████| 2/2 [00:00<00:00,  4.49it/s]\n"
     ]
    },
    {
     "name": "stdout",
     "output_type": "stream",
     "text": [
      "  Train Loss: 0.4788 | Train Acc: 0.8163\n",
      "  Val Loss:   2.0697 | Val Acc:   0.2400\n",
      "  Epoch Duration: 1.28 seconds\n",
      "\n",
      "--- Fold 1, Epoch 15/100 ---\n"
     ]
    },
    {
     "name": "stderr",
     "output_type": "stream",
     "text": [
      "Training: 100%|██████████| 9/9 [00:00<00:00, 10.87it/s]\n",
      "Validating: 100%|██████████| 2/2 [00:00<00:00,  4.28it/s]\n"
     ]
    },
    {
     "name": "stdout",
     "output_type": "stream",
     "text": [
      "  Train Loss: 0.4342 | Train Acc: 0.8622\n",
      "  Val Loss:   2.2375 | Val Acc:   0.3000\n",
      "  Epoch Duration: 1.30 seconds\n",
      "\n",
      "--- Fold 1, Epoch 16/100 ---\n"
     ]
    },
    {
     "name": "stderr",
     "output_type": "stream",
     "text": [
      "Training: 100%|██████████| 9/9 [00:00<00:00, 10.73it/s]\n",
      "Validating: 100%|██████████| 2/2 [00:00<00:00,  4.43it/s]\n"
     ]
    },
    {
     "name": "stdout",
     "output_type": "stream",
     "text": [
      "  Train Loss: 0.3716 | Train Acc: 0.8728\n",
      "  Val Loss:   2.2514 | Val Acc:   0.3600\n",
      "  Epoch Duration: 1.30 seconds\n",
      "  -> New best inner validation accuracy: 0.3600. Model state saved.\n",
      "\n",
      "--- Fold 1, Epoch 17/100 ---\n"
     ]
    },
    {
     "name": "stderr",
     "output_type": "stream",
     "text": [
      "Training: 100%|██████████| 9/9 [00:00<00:00, 10.73it/s]\n",
      "Validating: 100%|██████████| 2/2 [00:00<00:00,  4.27it/s]\n"
     ]
    },
    {
     "name": "stdout",
     "output_type": "stream",
     "text": [
      "  Train Loss: 0.3269 | Train Acc: 0.9046\n",
      "  Val Loss:   2.5237 | Val Acc:   0.3200\n",
      "  Epoch Duration: 1.31 seconds\n",
      "\n",
      "--- Fold 1, Epoch 18/100 ---\n"
     ]
    },
    {
     "name": "stderr",
     "output_type": "stream",
     "text": [
      "Training: 100%|██████████| 9/9 [00:00<00:00, 10.10it/s]\n",
      "Validating: 100%|██████████| 2/2 [00:00<00:00,  4.64it/s]\n"
     ]
    },
    {
     "name": "stdout",
     "output_type": "stream",
     "text": [
      "  Train Loss: 0.2390 | Train Acc: 0.9329\n",
      "  Val Loss:   2.4323 | Val Acc:   0.2800\n",
      "  Epoch Duration: 1.33 seconds\n",
      "\n",
      "--- Fold 1, Epoch 19/100 ---\n"
     ]
    },
    {
     "name": "stderr",
     "output_type": "stream",
     "text": [
      "Training: 100%|██████████| 9/9 [00:00<00:00, 10.69it/s]\n",
      "Validating: 100%|██████████| 2/2 [00:00<00:00,  4.47it/s]\n"
     ]
    },
    {
     "name": "stdout",
     "output_type": "stream",
     "text": [
      "  Train Loss: 0.1936 | Train Acc: 0.9470\n",
      "  Val Loss:   2.8781 | Val Acc:   0.2800\n",
      "  Epoch Duration: 1.29 seconds\n",
      "\n",
      "--- Fold 1, Epoch 20/100 ---\n"
     ]
    },
    {
     "name": "stderr",
     "output_type": "stream",
     "text": [
      "Training: 100%|██████████| 9/9 [00:00<00:00, 10.92it/s]\n",
      "Validating: 100%|██████████| 2/2 [00:00<00:00,  4.41it/s]\n"
     ]
    },
    {
     "name": "stdout",
     "output_type": "stream",
     "text": [
      "  Train Loss: 0.2251 | Train Acc: 0.9258\n",
      "  Val Loss:   2.4716 | Val Acc:   0.2800\n",
      "  Epoch Duration: 1.28 seconds\n",
      "\n",
      "--- Fold 1, Epoch 21/100 ---\n"
     ]
    },
    {
     "name": "stderr",
     "output_type": "stream",
     "text": [
      "Training: 100%|██████████| 9/9 [00:00<00:00, 10.71it/s]\n",
      "Validating: 100%|██████████| 2/2 [00:00<00:00,  4.49it/s]\n"
     ]
    },
    {
     "name": "stdout",
     "output_type": "stream",
     "text": [
      "  Train Loss: 0.2246 | Train Acc: 0.9223\n",
      "  Val Loss:   3.0110 | Val Acc:   0.4200\n",
      "  Epoch Duration: 1.29 seconds\n",
      "  -> New best inner validation accuracy: 0.4200. Model state saved.\n",
      "\n",
      "--- Fold 1, Epoch 22/100 ---\n"
     ]
    },
    {
     "name": "stderr",
     "output_type": "stream",
     "text": [
      "Training: 100%|██████████| 9/9 [00:00<00:00, 10.70it/s]\n",
      "Validating: 100%|██████████| 2/2 [00:00<00:00,  4.55it/s]\n"
     ]
    },
    {
     "name": "stdout",
     "output_type": "stream",
     "text": [
      "  Train Loss: 0.1927 | Train Acc: 0.9505\n",
      "  Val Loss:   2.8723 | Val Acc:   0.3400\n",
      "  Epoch Duration: 1.29 seconds\n",
      "\n",
      "--- Fold 1, Epoch 23/100 ---\n"
     ]
    },
    {
     "name": "stderr",
     "output_type": "stream",
     "text": [
      "Training: 100%|██████████| 9/9 [00:00<00:00, 10.72it/s]\n",
      "Validating: 100%|██████████| 2/2 [00:00<00:00,  4.41it/s]\n"
     ]
    },
    {
     "name": "stdout",
     "output_type": "stream",
     "text": [
      "  Train Loss: 0.1635 | Train Acc: 0.9435\n",
      "  Val Loss:   3.0349 | Val Acc:   0.3600\n",
      "  Epoch Duration: 1.30 seconds\n",
      "\n",
      "--- Fold 1, Epoch 24/100 ---\n"
     ]
    },
    {
     "name": "stderr",
     "output_type": "stream",
     "text": [
      "Training: 100%|██████████| 9/9 [00:00<00:00, 10.70it/s]\n",
      "Validating: 100%|██████████| 2/2 [00:00<00:00,  4.64it/s]\n"
     ]
    },
    {
     "name": "stdout",
     "output_type": "stream",
     "text": [
      "  Train Loss: 0.1421 | Train Acc: 0.9505\n",
      "  Val Loss:   2.6605 | Val Acc:   0.3600\n",
      "  Epoch Duration: 1.28 seconds\n",
      "\n",
      "--- Fold 1, Epoch 25/100 ---\n"
     ]
    },
    {
     "name": "stderr",
     "output_type": "stream",
     "text": [
      "Training: 100%|██████████| 9/9 [00:00<00:00, 10.65it/s]\n",
      "Validating: 100%|██████████| 2/2 [00:00<00:00,  4.53it/s]\n"
     ]
    },
    {
     "name": "stdout",
     "output_type": "stream",
     "text": [
      "  Train Loss: 0.1357 | Train Acc: 0.9505\n",
      "  Val Loss:   2.4731 | Val Acc:   0.3800\n",
      "  Epoch Duration: 1.29 seconds\n",
      "\n",
      "--- Fold 1, Epoch 26/100 ---\n"
     ]
    },
    {
     "name": "stderr",
     "output_type": "stream",
     "text": [
      "Training: 100%|██████████| 9/9 [00:00<00:00, 10.84it/s]\n",
      "Validating: 100%|██████████| 2/2 [00:00<00:00,  4.58it/s]\n"
     ]
    },
    {
     "name": "stdout",
     "output_type": "stream",
     "text": [
      "  Train Loss: 0.1131 | Train Acc: 0.9647\n",
      "  Val Loss:   3.4996 | Val Acc:   0.3600\n",
      "  Epoch Duration: 1.27 seconds\n",
      "\n",
      "--- Fold 1, Epoch 27/100 ---\n"
     ]
    },
    {
     "name": "stderr",
     "output_type": "stream",
     "text": [
      "Training: 100%|██████████| 9/9 [00:00<00:00, 10.67it/s]\n",
      "Validating: 100%|██████████| 2/2 [00:00<00:00,  4.64it/s]\n"
     ]
    },
    {
     "name": "stdout",
     "output_type": "stream",
     "text": [
      "  Train Loss: 0.0796 | Train Acc: 0.9753\n",
      "  Val Loss:   3.4255 | Val Acc:   0.3200\n",
      "  Epoch Duration: 1.28 seconds\n",
      "\n",
      "--- Fold 1, Epoch 28/100 ---\n"
     ]
    },
    {
     "name": "stderr",
     "output_type": "stream",
     "text": [
      "Training: 100%|██████████| 9/9 [00:00<00:00, 10.68it/s]\n",
      "Validating: 100%|██████████| 2/2 [00:00<00:00,  4.49it/s]\n"
     ]
    },
    {
     "name": "stdout",
     "output_type": "stream",
     "text": [
      "  Train Loss: 0.1058 | Train Acc: 0.9788\n",
      "  Val Loss:   3.3288 | Val Acc:   0.3400\n",
      "  Epoch Duration: 1.29 seconds\n",
      "\n",
      "--- Fold 1, Epoch 29/100 ---\n"
     ]
    },
    {
     "name": "stderr",
     "output_type": "stream",
     "text": [
      "Training: 100%|██████████| 9/9 [00:00<00:00, 10.73it/s]\n",
      "Validating: 100%|██████████| 2/2 [00:00<00:00,  4.54it/s]\n"
     ]
    },
    {
     "name": "stdout",
     "output_type": "stream",
     "text": [
      "  Train Loss: 0.0466 | Train Acc: 0.9929\n",
      "  Val Loss:   3.4922 | Val Acc:   0.3000\n",
      "  Epoch Duration: 1.29 seconds\n",
      "\n",
      "--- Fold 1, Epoch 30/100 ---\n"
     ]
    },
    {
     "name": "stderr",
     "output_type": "stream",
     "text": [
      "Training: 100%|██████████| 9/9 [00:00<00:00, 10.64it/s]\n",
      "Validating: 100%|██████████| 2/2 [00:00<00:00,  4.51it/s]\n"
     ]
    },
    {
     "name": "stdout",
     "output_type": "stream",
     "text": [
      "  Train Loss: 0.0648 | Train Acc: 0.9823\n",
      "  Val Loss:   3.6041 | Val Acc:   0.3000\n",
      "  Epoch Duration: 1.30 seconds\n",
      "\n",
      "--- Fold 1, Epoch 31/100 ---\n"
     ]
    },
    {
     "name": "stderr",
     "output_type": "stream",
     "text": [
      "Training: 100%|██████████| 9/9 [00:00<00:00, 10.88it/s]\n",
      "Validating: 100%|██████████| 2/2 [00:00<00:00,  4.64it/s]\n"
     ]
    },
    {
     "name": "stdout",
     "output_type": "stream",
     "text": [
      "  Train Loss: 0.0418 | Train Acc: 0.9965\n",
      "  Val Loss:   3.8315 | Val Acc:   0.3000\n",
      "  Epoch Duration: 1.26 seconds\n",
      "  Early stopping at epoch 31.\n",
      "\n",
      "--- Fold 1 Final Evaluation ---\n",
      "Loading best model for fold 1 (achieved 0.4200 on inner val set).\n"
     ]
    },
    {
     "name": "stderr",
     "output_type": "stream",
     "text": [
      "Validating: 100%|██████████| 6/6 [00:00<00:00, 10.09it/s]\n"
     ]
    },
    {
     "name": "stdout",
     "output_type": "stream",
     "text": [
      "Performance of best model on the OUTER TEST SET for fold 1: 0.3473\n",
      "\n",
      "============================== OUTER FOLD 2/3 ==============================\n",
      "Fold 2 Model has 1,212,129 trainable parameters.\n",
      "Fold 2 Training on 283, Validating on 50, Testing on 167.\n",
      "\n",
      "--- Fold 2, Epoch 1/100 ---\n"
     ]
    },
    {
     "name": "stderr",
     "output_type": "stream",
     "text": [
      "Training: 100%|██████████| 9/9 [00:00<00:00, 10.83it/s]\n",
      "Validating: 100%|██████████| 2/2 [00:00<00:00,  4.43it/s]\n"
     ]
    },
    {
     "name": "stdout",
     "output_type": "stream",
     "text": [
      "  Train Loss: 1.6081 | Train Acc: 0.1908\n",
      "  Val Loss:   1.6094 | Val Acc:   0.3200\n",
      "  Epoch Duration: 1.29 seconds\n",
      "  -> New best inner validation accuracy: 0.3200. Model state saved.\n",
      "\n",
      "--- Fold 2, Epoch 2/100 ---\n"
     ]
    },
    {
     "name": "stderr",
     "output_type": "stream",
     "text": [
      "Training: 100%|██████████| 9/9 [00:00<00:00, 10.69it/s]\n",
      "Validating: 100%|██████████| 2/2 [00:00<00:00,  4.39it/s]\n"
     ]
    },
    {
     "name": "stdout",
     "output_type": "stream",
     "text": [
      "  Train Loss: 1.6068 | Train Acc: 0.2509\n",
      "  Val Loss:   1.6094 | Val Acc:   0.1400\n",
      "  Epoch Duration: 1.30 seconds\n",
      "\n",
      "--- Fold 2, Epoch 3/100 ---\n"
     ]
    },
    {
     "name": "stderr",
     "output_type": "stream",
     "text": [
      "Training: 100%|██████████| 9/9 [00:00<00:00, 10.77it/s]\n",
      "Validating: 100%|██████████| 2/2 [00:00<00:00,  4.38it/s]\n"
     ]
    },
    {
     "name": "stdout",
     "output_type": "stream",
     "text": [
      "  Train Loss: 1.6039 | Train Acc: 0.2686\n",
      "  Val Loss:   1.6095 | Val Acc:   0.1400\n",
      "  Epoch Duration: 1.30 seconds\n",
      "\n",
      "--- Fold 2, Epoch 4/100 ---\n"
     ]
    },
    {
     "name": "stderr",
     "output_type": "stream",
     "text": [
      "Training: 100%|██████████| 9/9 [00:00<00:00, 10.81it/s]\n",
      "Validating: 100%|██████████| 2/2 [00:00<00:00,  4.44it/s]\n"
     ]
    },
    {
     "name": "stdout",
     "output_type": "stream",
     "text": [
      "  Train Loss: 1.6007 | Train Acc: 0.2650\n",
      "  Val Loss:   1.6095 | Val Acc:   0.2000\n",
      "  Epoch Duration: 1.29 seconds\n",
      "\n",
      "--- Fold 2, Epoch 5/100 ---\n"
     ]
    },
    {
     "name": "stderr",
     "output_type": "stream",
     "text": [
      "Training: 100%|██████████| 9/9 [00:00<00:00, 10.88it/s]\n",
      "Validating: 100%|██████████| 2/2 [00:00<00:00,  4.40it/s]\n"
     ]
    },
    {
     "name": "stdout",
     "output_type": "stream",
     "text": [
      "  Train Loss: 1.5840 | Train Acc: 0.3463\n",
      "  Val Loss:   1.6092 | Val Acc:   0.2600\n",
      "  Epoch Duration: 1.29 seconds\n",
      "\n",
      "--- Fold 2, Epoch 6/100 ---\n"
     ]
    },
    {
     "name": "stderr",
     "output_type": "stream",
     "text": [
      "Training: 100%|██████████| 9/9 [00:00<00:00, 10.68it/s]\n",
      "Validating: 100%|██████████| 2/2 [00:00<00:00,  4.41it/s]\n"
     ]
    },
    {
     "name": "stdout",
     "output_type": "stream",
     "text": [
      "  Train Loss: 1.5467 | Train Acc: 0.4276\n",
      "  Val Loss:   1.6071 | Val Acc:   0.3000\n",
      "  Epoch Duration: 1.30 seconds\n",
      "\n",
      "--- Fold 2, Epoch 7/100 ---\n"
     ]
    },
    {
     "name": "stderr",
     "output_type": "stream",
     "text": [
      "Training: 100%|██████████| 9/9 [00:00<00:00, 10.71it/s]\n",
      "Validating: 100%|██████████| 2/2 [00:00<00:00,  4.42it/s]\n"
     ]
    },
    {
     "name": "stdout",
     "output_type": "stream",
     "text": [
      "  Train Loss: 1.4764 | Train Acc: 0.4276\n",
      "  Val Loss:   1.6076 | Val Acc:   0.2800\n",
      "  Epoch Duration: 1.30 seconds\n",
      "\n",
      "--- Fold 2, Epoch 8/100 ---\n"
     ]
    },
    {
     "name": "stderr",
     "output_type": "stream",
     "text": [
      "Training: 100%|██████████| 9/9 [00:00<00:00, 10.85it/s]\n",
      "Validating: 100%|██████████| 2/2 [00:00<00:00,  4.38it/s]\n"
     ]
    },
    {
     "name": "stdout",
     "output_type": "stream",
     "text": [
      "  Train Loss: 1.3364 | Train Acc: 0.4770\n",
      "  Val Loss:   1.6030 | Val Acc:   0.2600\n",
      "  Epoch Duration: 1.29 seconds\n",
      "\n",
      "--- Fold 2, Epoch 9/100 ---\n"
     ]
    },
    {
     "name": "stderr",
     "output_type": "stream",
     "text": [
      "Training: 100%|██████████| 9/9 [00:00<00:00, 10.72it/s]\n",
      "Validating: 100%|██████████| 2/2 [00:00<00:00,  4.39it/s]\n"
     ]
    },
    {
     "name": "stdout",
     "output_type": "stream",
     "text": [
      "  Train Loss: 1.1710 | Train Acc: 0.5406\n",
      "  Val Loss:   1.5221 | Val Acc:   0.4800\n",
      "  Epoch Duration: 1.30 seconds\n",
      "  -> New best inner validation accuracy: 0.4800. Model state saved.\n",
      "\n",
      "--- Fold 2, Epoch 10/100 ---\n"
     ]
    },
    {
     "name": "stderr",
     "output_type": "stream",
     "text": [
      "Training: 100%|██████████| 9/9 [00:00<00:00, 10.91it/s]\n",
      "Validating: 100%|██████████| 2/2 [00:00<00:00,  4.46it/s]\n"
     ]
    },
    {
     "name": "stdout",
     "output_type": "stream",
     "text": [
      "  Train Loss: 0.9933 | Train Acc: 0.6219\n",
      "  Val Loss:   1.5192 | Val Acc:   0.3800\n",
      "  Epoch Duration: 1.28 seconds\n",
      "\n",
      "--- Fold 2, Epoch 11/100 ---\n"
     ]
    },
    {
     "name": "stderr",
     "output_type": "stream",
     "text": [
      "Training: 100%|██████████| 9/9 [00:00<00:00, 10.72it/s]\n",
      "Validating: 100%|██████████| 2/2 [00:00<00:00,  4.42it/s]\n"
     ]
    },
    {
     "name": "stdout",
     "output_type": "stream",
     "text": [
      "  Train Loss: 0.8197 | Train Acc: 0.7102\n",
      "  Val Loss:   1.4804 | Val Acc:   0.4400\n",
      "  Epoch Duration: 1.30 seconds\n",
      "\n",
      "--- Fold 2, Epoch 12/100 ---\n"
     ]
    },
    {
     "name": "stderr",
     "output_type": "stream",
     "text": [
      "Training: 100%|██████████| 9/9 [00:00<00:00, 10.75it/s]\n",
      "Validating: 100%|██████████| 2/2 [00:00<00:00,  4.42it/s]\n"
     ]
    },
    {
     "name": "stdout",
     "output_type": "stream",
     "text": [
      "  Train Loss: 0.7063 | Train Acc: 0.7350\n",
      "  Val Loss:   1.4154 | Val Acc:   0.4600\n",
      "  Epoch Duration: 1.29 seconds\n",
      "\n",
      "--- Fold 2, Epoch 13/100 ---\n"
     ]
    },
    {
     "name": "stderr",
     "output_type": "stream",
     "text": [
      "Training: 100%|██████████| 9/9 [00:00<00:00, 10.68it/s]\n",
      "Validating: 100%|██████████| 2/2 [00:00<00:00,  4.43it/s]\n"
     ]
    },
    {
     "name": "stdout",
     "output_type": "stream",
     "text": [
      "  Train Loss: 0.6280 | Train Acc: 0.7915\n",
      "  Val Loss:   1.6632 | Val Acc:   0.4000\n",
      "  Epoch Duration: 1.30 seconds\n",
      "\n",
      "--- Fold 2, Epoch 14/100 ---\n"
     ]
    },
    {
     "name": "stderr",
     "output_type": "stream",
     "text": [
      "Training: 100%|██████████| 9/9 [00:00<00:00, 10.88it/s]\n",
      "Validating: 100%|██████████| 2/2 [00:00<00:00,  4.34it/s]\n"
     ]
    },
    {
     "name": "stdout",
     "output_type": "stream",
     "text": [
      "  Train Loss: 0.5473 | Train Acc: 0.8021\n",
      "  Val Loss:   1.9190 | Val Acc:   0.4200\n",
      "  Epoch Duration: 1.29 seconds\n",
      "\n",
      "--- Fold 2, Epoch 15/100 ---\n"
     ]
    },
    {
     "name": "stderr",
     "output_type": "stream",
     "text": [
      "Training: 100%|██████████| 9/9 [00:00<00:00, 10.78it/s]\n",
      "Validating: 100%|██████████| 2/2 [00:00<00:00,  4.53it/s]\n"
     ]
    },
    {
     "name": "stdout",
     "output_type": "stream",
     "text": [
      "  Train Loss: 0.4301 | Train Acc: 0.8269\n",
      "  Val Loss:   2.6253 | Val Acc:   0.2600\n",
      "  Epoch Duration: 1.28 seconds\n",
      "\n",
      "--- Fold 2, Epoch 16/100 ---\n"
     ]
    },
    {
     "name": "stderr",
     "output_type": "stream",
     "text": [
      "Training: 100%|██████████| 9/9 [00:00<00:00, 10.79it/s]\n",
      "Validating: 100%|██████████| 2/2 [00:00<00:00,  4.51it/s]\n"
     ]
    },
    {
     "name": "stdout",
     "output_type": "stream",
     "text": [
      "  Train Loss: 0.3152 | Train Acc: 0.8799\n",
      "  Val Loss:   2.7375 | Val Acc:   0.2600\n",
      "  Epoch Duration: 1.28 seconds\n",
      "\n",
      "--- Fold 2, Epoch 17/100 ---\n"
     ]
    },
    {
     "name": "stderr",
     "output_type": "stream",
     "text": [
      "Training: 100%|██████████| 9/9 [00:00<00:00, 10.78it/s]\n",
      "Validating: 100%|██████████| 2/2 [00:00<00:00,  4.45it/s]\n"
     ]
    },
    {
     "name": "stdout",
     "output_type": "stream",
     "text": [
      "  Train Loss: 0.3542 | Train Acc: 0.8622\n",
      "  Val Loss:   2.4368 | Val Acc:   0.4200\n",
      "  Epoch Duration: 1.29 seconds\n",
      "\n",
      "--- Fold 2, Epoch 18/100 ---\n"
     ]
    },
    {
     "name": "stderr",
     "output_type": "stream",
     "text": [
      "Training: 100%|██████████| 9/9 [00:00<00:00, 10.77it/s]\n",
      "Validating: 100%|██████████| 2/2 [00:00<00:00,  4.31it/s]\n"
     ]
    },
    {
     "name": "stdout",
     "output_type": "stream",
     "text": [
      "  Train Loss: 0.2648 | Train Acc: 0.9117\n",
      "  Val Loss:   2.4523 | Val Acc:   0.3600\n",
      "  Epoch Duration: 1.30 seconds\n",
      "\n",
      "--- Fold 2, Epoch 19/100 ---\n"
     ]
    },
    {
     "name": "stderr",
     "output_type": "stream",
     "text": [
      "Training: 100%|██████████| 9/9 [00:00<00:00, 10.58it/s]\n",
      "Validating: 100%|██████████| 2/2 [00:00<00:00,  4.49it/s]\n"
     ]
    },
    {
     "name": "stdout",
     "output_type": "stream",
     "text": [
      "  Train Loss: 0.1905 | Train Acc: 0.9541\n",
      "  Val Loss:   2.7495 | Val Acc:   0.3400\n",
      "  Epoch Duration: 1.30 seconds\n",
      "  Early stopping at epoch 19.\n",
      "\n",
      "--- Fold 2 Final Evaluation ---\n",
      "Loading best model for fold 2 (achieved 0.4800 on inner val set).\n"
     ]
    },
    {
     "name": "stderr",
     "output_type": "stream",
     "text": [
      "Validating: 100%|██████████| 6/6 [00:00<00:00, 10.09it/s]\n"
     ]
    },
    {
     "name": "stdout",
     "output_type": "stream",
     "text": [
      "Performance of best model on the OUTER TEST SET for fold 2: 0.2635\n",
      "\n",
      "============================== OUTER FOLD 3/3 ==============================\n",
      "Fold 3 Model has 1,212,129 trainable parameters.\n",
      "Fold 3 Training on 283, Validating on 51, Testing on 166.\n",
      "\n",
      "--- Fold 3, Epoch 1/100 ---\n"
     ]
    },
    {
     "name": "stderr",
     "output_type": "stream",
     "text": [
      "Training: 100%|██████████| 9/9 [00:00<00:00, 10.76it/s]\n",
      "Validating: 100%|██████████| 2/2 [00:00<00:00,  4.40it/s]\n"
     ]
    },
    {
     "name": "stdout",
     "output_type": "stream",
     "text": [
      "  Train Loss: 1.6085 | Train Acc: 0.2085\n",
      "  Val Loss:   1.6094 | Val Acc:   0.2549\n",
      "  Epoch Duration: 1.30 seconds\n",
      "  -> New best inner validation accuracy: 0.2549. Model state saved.\n",
      "\n",
      "--- Fold 3, Epoch 2/100 ---\n"
     ]
    },
    {
     "name": "stderr",
     "output_type": "stream",
     "text": [
      "Training: 100%|██████████| 9/9 [00:00<00:00, 10.58it/s]\n",
      "Validating: 100%|██████████| 2/2 [00:00<00:00,  4.39it/s]\n"
     ]
    },
    {
     "name": "stdout",
     "output_type": "stream",
     "text": [
      "  Train Loss: 1.6105 | Train Acc: 0.2155\n",
      "  Val Loss:   1.6094 | Val Acc:   0.1569\n",
      "  Epoch Duration: 1.31 seconds\n",
      "\n",
      "--- Fold 3, Epoch 3/100 ---\n"
     ]
    },
    {
     "name": "stderr",
     "output_type": "stream",
     "text": [
      "Training: 100%|██████████| 9/9 [00:00<00:00, 10.92it/s]\n",
      "Validating: 100%|██████████| 2/2 [00:00<00:00,  4.49it/s]\n"
     ]
    },
    {
     "name": "stdout",
     "output_type": "stream",
     "text": [
      "  Train Loss: 1.6040 | Train Acc: 0.2721\n",
      "  Val Loss:   1.6095 | Val Acc:   0.1569\n",
      "  Epoch Duration: 1.28 seconds\n",
      "\n",
      "--- Fold 3, Epoch 4/100 ---\n"
     ]
    },
    {
     "name": "stderr",
     "output_type": "stream",
     "text": [
      "Training: 100%|██████████| 9/9 [00:00<00:00, 10.86it/s]\n",
      "Validating: 100%|██████████| 2/2 [00:00<00:00,  4.39it/s]\n"
     ]
    },
    {
     "name": "stdout",
     "output_type": "stream",
     "text": [
      "  Train Loss: 1.5990 | Train Acc: 0.2191\n",
      "  Val Loss:   1.6095 | Val Acc:   0.1765\n",
      "  Epoch Duration: 1.29 seconds\n",
      "\n",
      "--- Fold 3, Epoch 5/100 ---\n"
     ]
    },
    {
     "name": "stderr",
     "output_type": "stream",
     "text": [
      "Training: 100%|██████████| 9/9 [00:00<00:00, 10.79it/s]\n",
      "Validating: 100%|██████████| 2/2 [00:00<00:00,  4.45it/s]\n"
     ]
    },
    {
     "name": "stdout",
     "output_type": "stream",
     "text": [
      "  Train Loss: 1.6025 | Train Acc: 0.2544\n",
      "  Val Loss:   1.6093 | Val Acc:   0.2941\n",
      "  Epoch Duration: 1.29 seconds\n",
      "  -> New best inner validation accuracy: 0.2941. Model state saved.\n",
      "\n",
      "--- Fold 3, Epoch 6/100 ---\n"
     ]
    },
    {
     "name": "stderr",
     "output_type": "stream",
     "text": [
      "Training: 100%|██████████| 9/9 [00:00<00:00, 10.43it/s]\n",
      "Validating: 100%|██████████| 2/2 [00:00<00:00,  4.39it/s]\n"
     ]
    },
    {
     "name": "stdout",
     "output_type": "stream",
     "text": [
      "  Train Loss: 1.5811 | Train Acc: 0.3357\n",
      "  Val Loss:   1.6085 | Val Acc:   0.3725\n",
      "  Epoch Duration: 1.32 seconds\n",
      "  -> New best inner validation accuracy: 0.3725. Model state saved.\n",
      "\n",
      "--- Fold 3, Epoch 7/100 ---\n"
     ]
    },
    {
     "name": "stderr",
     "output_type": "stream",
     "text": [
      "Training: 100%|██████████| 9/9 [00:00<00:00, 10.80it/s]\n",
      "Validating: 100%|██████████| 2/2 [00:00<00:00,  4.50it/s]\n"
     ]
    },
    {
     "name": "stdout",
     "output_type": "stream",
     "text": [
      "  Train Loss: 1.5434 | Train Acc: 0.3887\n",
      "  Val Loss:   1.6058 | Val Acc:   0.3529\n",
      "  Epoch Duration: 1.28 seconds\n",
      "\n",
      "--- Fold 3, Epoch 8/100 ---\n"
     ]
    },
    {
     "name": "stderr",
     "output_type": "stream",
     "text": [
      "Training: 100%|██████████| 9/9 [00:00<00:00, 10.83it/s]\n",
      "Validating: 100%|██████████| 2/2 [00:00<00:00,  4.46it/s]\n"
     ]
    },
    {
     "name": "stdout",
     "output_type": "stream",
     "text": [
      "  Train Loss: 1.4540 | Train Acc: 0.4276\n",
      "  Val Loss:   1.5880 | Val Acc:   0.3725\n",
      "  Epoch Duration: 1.29 seconds\n",
      "\n",
      "--- Fold 3, Epoch 9/100 ---\n"
     ]
    },
    {
     "name": "stderr",
     "output_type": "stream",
     "text": [
      "Training: 100%|██████████| 9/9 [00:00<00:00, 10.67it/s]\n",
      "Validating: 100%|██████████| 2/2 [00:00<00:00,  4.47it/s]\n"
     ]
    },
    {
     "name": "stdout",
     "output_type": "stream",
     "text": [
      "  Train Loss: 1.2941 | Train Acc: 0.4982\n",
      "  Val Loss:   1.5852 | Val Acc:   0.3529\n",
      "  Epoch Duration: 1.30 seconds\n",
      "\n",
      "--- Fold 3, Epoch 10/100 ---\n"
     ]
    },
    {
     "name": "stderr",
     "output_type": "stream",
     "text": [
      "Training: 100%|██████████| 9/9 [00:00<00:00, 11.00it/s]\n",
      "Validating: 100%|██████████| 2/2 [00:00<00:00,  4.53it/s]\n"
     ]
    },
    {
     "name": "stdout",
     "output_type": "stream",
     "text": [
      "  Train Loss: 1.2014 | Train Acc: 0.5442\n",
      "  Val Loss:   1.5121 | Val Acc:   0.3333\n",
      "  Epoch Duration: 1.27 seconds\n",
      "\n",
      "--- Fold 3, Epoch 11/100 ---\n"
     ]
    },
    {
     "name": "stderr",
     "output_type": "stream",
     "text": [
      "Training: 100%|██████████| 9/9 [00:00<00:00, 10.84it/s]\n",
      "Validating: 100%|██████████| 2/2 [00:00<00:00,  4.49it/s]\n"
     ]
    },
    {
     "name": "stdout",
     "output_type": "stream",
     "text": [
      "  Train Loss: 0.9981 | Train Acc: 0.6148\n",
      "  Val Loss:   1.4765 | Val Acc:   0.4118\n",
      "  Epoch Duration: 1.28 seconds\n",
      "  -> New best inner validation accuracy: 0.4118. Model state saved.\n",
      "\n",
      "--- Fold 3, Epoch 12/100 ---\n"
     ]
    },
    {
     "name": "stderr",
     "output_type": "stream",
     "text": [
      "Training: 100%|██████████| 9/9 [00:00<00:00, 10.84it/s]\n",
      "Validating: 100%|██████████| 2/2 [00:00<00:00,  4.45it/s]\n"
     ]
    },
    {
     "name": "stdout",
     "output_type": "stream",
     "text": [
      "  Train Loss: 0.8274 | Train Acc: 0.7173\n",
      "  Val Loss:   1.5116 | Val Acc:   0.4118\n",
      "  Epoch Duration: 1.29 seconds\n",
      "\n",
      "--- Fold 3, Epoch 13/100 ---\n"
     ]
    },
    {
     "name": "stderr",
     "output_type": "stream",
     "text": [
      "Training: 100%|██████████| 9/9 [00:00<00:00, 10.67it/s]\n",
      "Validating: 100%|██████████| 2/2 [00:00<00:00,  4.49it/s]\n"
     ]
    },
    {
     "name": "stdout",
     "output_type": "stream",
     "text": [
      "  Train Loss: 0.7280 | Train Acc: 0.7244\n",
      "  Val Loss:   1.6347 | Val Acc:   0.4314\n",
      "  Epoch Duration: 1.29 seconds\n",
      "  -> New best inner validation accuracy: 0.4314. Model state saved.\n",
      "\n",
      "--- Fold 3, Epoch 14/100 ---\n"
     ]
    },
    {
     "name": "stderr",
     "output_type": "stream",
     "text": [
      "Training: 100%|██████████| 9/9 [00:00<00:00, 10.97it/s]\n",
      "Validating: 100%|██████████| 2/2 [00:00<00:00,  4.50it/s]\n"
     ]
    },
    {
     "name": "stdout",
     "output_type": "stream",
     "text": [
      "  Train Loss: 0.6234 | Train Acc: 0.8127\n",
      "  Val Loss:   1.7468 | Val Acc:   0.4510\n",
      "  Epoch Duration: 1.27 seconds\n",
      "  -> New best inner validation accuracy: 0.4510. Model state saved.\n",
      "\n",
      "--- Fold 3, Epoch 15/100 ---\n"
     ]
    },
    {
     "name": "stderr",
     "output_type": "stream",
     "text": [
      "Training: 100%|██████████| 9/9 [00:00<00:00, 10.82it/s]\n",
      "Validating: 100%|██████████| 2/2 [00:00<00:00,  4.45it/s]\n"
     ]
    },
    {
     "name": "stdout",
     "output_type": "stream",
     "text": [
      "  Train Loss: 0.5255 | Train Acc: 0.8410\n",
      "  Val Loss:   2.0830 | Val Acc:   0.3725\n",
      "  Epoch Duration: 1.29 seconds\n",
      "\n",
      "--- Fold 3, Epoch 16/100 ---\n"
     ]
    },
    {
     "name": "stderr",
     "output_type": "stream",
     "text": [
      "Training: 100%|██████████| 9/9 [00:00<00:00, 10.79it/s]\n",
      "Validating: 100%|██████████| 2/2 [00:00<00:00,  4.43it/s]\n"
     ]
    },
    {
     "name": "stdout",
     "output_type": "stream",
     "text": [
      "  Train Loss: 0.4599 | Train Acc: 0.8551\n",
      "  Val Loss:   1.8877 | Val Acc:   0.3725\n",
      "  Epoch Duration: 1.29 seconds\n",
      "\n",
      "--- Fold 3, Epoch 17/100 ---\n"
     ]
    },
    {
     "name": "stderr",
     "output_type": "stream",
     "text": [
      "Training: 100%|██████████| 9/9 [00:00<00:00, 10.72it/s]\n",
      "Validating: 100%|██████████| 2/2 [00:00<00:00,  4.30it/s]\n"
     ]
    },
    {
     "name": "stdout",
     "output_type": "stream",
     "text": [
      "  Train Loss: 0.4340 | Train Acc: 0.8551\n",
      "  Val Loss:   2.2714 | Val Acc:   0.3333\n",
      "  Epoch Duration: 1.31 seconds\n",
      "\n",
      "--- Fold 3, Epoch 18/100 ---\n"
     ]
    },
    {
     "name": "stderr",
     "output_type": "stream",
     "text": [
      "Training: 100%|██████████| 9/9 [00:00<00:00, 10.48it/s]\n",
      "Validating: 100%|██████████| 2/2 [00:00<00:00,  4.43it/s]\n"
     ]
    },
    {
     "name": "stdout",
     "output_type": "stream",
     "text": [
      "  Train Loss: 0.3861 | Train Acc: 0.8693\n",
      "  Val Loss:   2.5123 | Val Acc:   0.4314\n",
      "  Epoch Duration: 1.32 seconds\n",
      "\n",
      "--- Fold 3, Epoch 19/100 ---\n"
     ]
    },
    {
     "name": "stderr",
     "output_type": "stream",
     "text": [
      "Training: 100%|██████████| 9/9 [00:00<00:00, 10.54it/s]\n",
      "Validating: 100%|██████████| 2/2 [00:00<00:00,  4.36it/s]\n"
     ]
    },
    {
     "name": "stdout",
     "output_type": "stream",
     "text": [
      "  Train Loss: 0.3753 | Train Acc: 0.8763\n",
      "  Val Loss:   2.6244 | Val Acc:   0.2745\n",
      "  Epoch Duration: 1.32 seconds\n",
      "\n",
      "--- Fold 3, Epoch 20/100 ---\n"
     ]
    },
    {
     "name": "stderr",
     "output_type": "stream",
     "text": [
      "Training: 100%|██████████| 9/9 [00:00<00:00, 10.97it/s]\n",
      "Validating: 100%|██████████| 2/2 [00:00<00:00,  4.42it/s]\n"
     ]
    },
    {
     "name": "stdout",
     "output_type": "stream",
     "text": [
      "  Train Loss: 0.3176 | Train Acc: 0.8799\n",
      "  Val Loss:   2.1660 | Val Acc:   0.4118\n",
      "  Epoch Duration: 1.28 seconds\n",
      "\n",
      "--- Fold 3, Epoch 21/100 ---\n"
     ]
    },
    {
     "name": "stderr",
     "output_type": "stream",
     "text": [
      "Training: 100%|██████████| 9/9 [00:00<00:00, 10.54it/s]\n",
      "Validating: 100%|██████████| 2/2 [00:00<00:00,  4.50it/s]\n"
     ]
    },
    {
     "name": "stdout",
     "output_type": "stream",
     "text": [
      "  Train Loss: 0.3023 | Train Acc: 0.9046\n",
      "  Val Loss:   2.1570 | Val Acc:   0.3922\n",
      "  Epoch Duration: 1.30 seconds\n",
      "\n",
      "--- Fold 3, Epoch 22/100 ---\n"
     ]
    },
    {
     "name": "stderr",
     "output_type": "stream",
     "text": [
      "Training: 100%|██████████| 9/9 [00:00<00:00, 10.72it/s]\n",
      "Validating: 100%|██████████| 2/2 [00:00<00:00,  4.46it/s]\n"
     ]
    },
    {
     "name": "stdout",
     "output_type": "stream",
     "text": [
      "  Train Loss: 0.2484 | Train Acc: 0.9329\n",
      "  Val Loss:   2.5769 | Val Acc:   0.3725\n",
      "  Epoch Duration: 1.29 seconds\n",
      "\n",
      "--- Fold 3, Epoch 23/100 ---\n"
     ]
    },
    {
     "name": "stderr",
     "output_type": "stream",
     "text": [
      "Training: 100%|██████████| 9/9 [00:00<00:00, 10.35it/s]\n",
      "Validating: 100%|██████████| 2/2 [00:00<00:00,  4.43it/s]\n"
     ]
    },
    {
     "name": "stdout",
     "output_type": "stream",
     "text": [
      "  Train Loss: 0.1967 | Train Acc: 0.9364\n",
      "  Val Loss:   2.8450 | Val Acc:   0.3529\n",
      "  Epoch Duration: 1.33 seconds\n",
      "\n",
      "--- Fold 3, Epoch 24/100 ---\n"
     ]
    },
    {
     "name": "stderr",
     "output_type": "stream",
     "text": [
      "Training: 100%|██████████| 9/9 [00:00<00:00, 10.57it/s]\n",
      "Validating: 100%|██████████| 2/2 [00:00<00:00,  4.31it/s]\n"
     ]
    },
    {
     "name": "stdout",
     "output_type": "stream",
     "text": [
      "  Train Loss: 0.1511 | Train Acc: 0.9647\n",
      "  Val Loss:   2.7833 | Val Acc:   0.3333\n",
      "  Epoch Duration: 1.32 seconds\n",
      "  Early stopping at epoch 24.\n",
      "\n",
      "--- Fold 3 Final Evaluation ---\n",
      "Loading best model for fold 3 (achieved 0.4510 on inner val set).\n"
     ]
    },
    {
     "name": "stderr",
     "output_type": "stream",
     "text": [
      "Validating: 100%|██████████| 6/6 [00:00<00:00,  9.91it/s]\n"
     ]
    },
    {
     "name": "stdout",
     "output_type": "stream",
     "text": [
      "Performance of best model on the OUTER TEST SET for fold 3: 0.2831\n",
      "\n",
      "============================== FINAL UNBIASED PERFORMANCE SUMMARY ==============================\n",
      "Unbiased test accuracies from each fold: ['0.3473', '0.2635', '0.2831']\n",
      "Average Test Accuracy from CV: 0.2980\n",
      "Standard Deviation of Test Accuracy from CV: 0.0358\n",
      "-> Estimated Generalization Performance: 0.2980 ± 0.0358\n",
      "\n",
      "Cross-validation finished.\n",
      "To view TensorBoard logs, run the following command in your terminal:\n",
      "tensorboard --logdir runs/O3_5-WReN\n"
     ]
    }
   ],
   "source": [
    "from sklearn.model_selection import train_test_split\n",
    "VAL_SPLIT_SIZE = 0.15\n",
    "\n",
    "# ==============================================================================\n",
    "# 2. DATASET & FOLD SETUP\n",
    "# ==============================================================================\n",
    "print(f\"Total data for cross-validation: {len(full_dataset)} samples.\")\n",
    "\n",
    "kfold = KFold(n_splits=N_SPLITS, shuffle=True, random_state=42)\n",
    "fold_test_results = []\n",
    "\n",
    "# ==============================================================================\n",
    "# 3. CROSS-VALIDATION LOOP\n",
    "# ==============================================================================\n",
    "for fold, (train_outer_idx, test_outer_idx) in enumerate(kfold.split(np.zeros(len(full_dataset)))):\n",
    "    print(f\"\\n{'='*30} OUTER FOLD {fold+1}/{N_SPLITS} {'='*30}\")\n",
    "\n",
    "    SAVED_MODELS_PATH = f\"./saved_models/{MODEL_FOLDER_NAME}/\"\n",
    "\n",
    "    if not os.path.exists(SAVED_MODELS_PATH):\n",
    "        os.makedirs(SAVED_MODELS_PATH)\n",
    "    writer = SummaryWriter(log_dir=f'runs/{MODEL_FOLDER_NAME}/fold_{fold+1}')\n",
    "\n",
    "    inner_train_idx, inner_val_idx = train_test_split(\n",
    "        train_outer_idx,\n",
    "        test_size=VAL_SPLIT_SIZE,\n",
    "        shuffle=True, # Shuffle before splitting\n",
    "        random_state=42\n",
    "    )\n",
    "\n",
    "    inner_train_subset = Subset(full_dataset, inner_train_idx)\n",
    "    inner_val_subset = Subset(full_dataset, inner_val_idx)\n",
    "    outer_test_subset = Subset(full_dataset, test_outer_idx)\n",
    "\n",
    "    train_loader = DataLoader(inner_train_subset, batch_size=BATCH_SIZE, shuffle=True, num_workers=4, pin_memory=True)\n",
    "    val_loader = DataLoader(inner_val_subset, batch_size=BATCH_SIZE, shuffle=False, num_workers=4, pin_memory=True)\n",
    "    test_loader = DataLoader(outer_test_subset, batch_size=BATCH_SIZE, shuffle=False, num_workers=4, pin_memory=True)\n",
    "\n",
    "    model = OddOneOutWReN(num_total_panels=5).to(DEVICE)\n",
    "    optimizer = torch.optim.Adam(\n",
    "        model.parameters(),\n",
    "        lr=LEARNING_RATE,\n",
    "        betas=(BETA_1, BETA_2),\n",
    "        eps=EPSILON\n",
    "    )\n",
    "    criterion = nn.CrossEntropyLoss()\n",
    "    scaler = None\n",
    "    scheduler = None\n",
    "\n",
    "    total_params = sum(p.numel() for p in model.parameters() if p.requires_grad)\n",
    "    print(f\"Fold {fold+1} Model has {total_params:,} trainable parameters.\")\n",
    "    print(f\"Fold {fold+1} Training on {len(inner_train_subset)}, Validating on {len(inner_val_subset)}, Testing on {len(outer_test_subset)}.\")\n",
    "\n",
    "    best_model_path = f\"{SAVED_MODELS_PATH}/best_model_fold_{fold+1}.pth\"\n",
    "    best_val_acc_fold = 0.0\n",
    "    epochs_without_improvement = 0\n",
    "\n",
    "    for epoch in range(1, EPOCHS + 1):\n",
    "        epoch_start_time = time.time()\n",
    "        \n",
    "        print(f\"\\n--- Fold {fold+1}, Epoch {epoch}/{EPOCHS} ---\")\n",
    "        train_loss, train_acc = train_epoch(model, train_loader, optimizer, criterion, DEVICE, scaler=scaler)\n",
    "        val_loss, val_acc = validate(model, val_loader, criterion, DEVICE)\n",
    "\n",
    "        epoch_duration = time.time() - epoch_start_time\n",
    "\n",
    "        print(f\"  Train Loss: {train_loss:.4f} | Train Acc: {train_acc:.4f}\")\n",
    "        print(f\"  Val Loss:   {val_loss:.4f} | Val Acc:   {val_acc:.4f}\")\n",
    "        print(f\"  Epoch Duration: {epoch_duration:.2f} seconds\")\n",
    "        \n",
    "        writer.add_scalar('Loss/train', train_loss, epoch)\n",
    "        writer.add_scalar('Accuracy/train', train_acc, epoch)\n",
    "        writer.add_scalar('Loss/val', val_loss, epoch)\n",
    "        writer.add_scalar('Accuracy/val', val_acc, epoch)\n",
    "        writer.add_scalar('Performance/seconds_per_epoch', epoch_duration, epoch)\n",
    "        writer.add_scalar('Learning_Rate', optimizer.param_groups[0]['lr'], epoch)\n",
    "\n",
    "        if val_acc > best_val_acc_fold:\n",
    "            best_val_acc_fold = val_acc\n",
    "            epochs_without_improvement = 0\n",
    "            torch.save(model.state_dict(), best_model_path)\n",
    "            print(f\"  -> New best inner validation accuracy: {best_val_acc_fold:.4f}. Model state saved.\")\n",
    "        else:\n",
    "            epochs_without_improvement += 1\n",
    "            if epochs_without_improvement >= PATIENCE:\n",
    "                print(f\"  Early stopping at epoch {epoch}.\")\n",
    "                break\n",
    "    \n",
    "    print(f\"\\n--- Fold {fold+1} Final Evaluation ---\")\n",
    "    print(f\"Loading best model for fold {fold+1} (achieved {best_val_acc_fold:.4f} on inner val set).\")\n",
    "    # Load the best model weights identified during the inner loop\n",
    "    model.load_state_dict(torch.load(best_model_path))\n",
    "    \n",
    "    # Evaluate this best model on the completely unseen outer test set\n",
    "    _, final_fold_test_acc = validate(model, test_loader, criterion, DEVICE)\n",
    "    print(f\"Performance of best model on the OUTER TEST SET for fold {fold+1}: {final_fold_test_acc:.4f}\")\n",
    "\n",
    "    fold_test_results.append(final_fold_test_acc)\n",
    "    writer.add_scalar('Accuracy/test', final_fold_test_acc)\n",
    "    \n",
    "    hparams = { 'learning_rate': LEARNING_RATE, 'batch_size': BATCH_SIZE }\n",
    "    final_metrics = {\n",
    "        'hparam/test_accuracy': final_fold_test_acc,\n",
    "        'hparam/best_inner_val_accuracy': best_val_acc_fold\n",
    "    }\n",
    "    writer.add_hparams(hparams, final_metrics)\n",
    "    writer.close()\n",
    "\n",
    "# ==============================================================================\n",
    "# 4. AGGREGATE AND REPORT CV RESULTS\n",
    "# ==============================================================================\n",
    "mean_test_acc = np.mean(fold_test_results)\n",
    "std_test_acc = np.std(fold_test_results)\n",
    "\n",
    "print(f\"\\n{'='*30} FINAL UNBIASED PERFORMANCE SUMMARY {'='*30}\")\n",
    "print(f\"Unbiased test accuracies from each fold: {[f'{acc:.4f}' for acc in fold_test_results]}\")\n",
    "print(f\"Average Test Accuracy from CV: {mean_test_acc:.4f}\")\n",
    "print(f\"Standard Deviation of Test Accuracy from CV: {std_test_acc:.4f}\")\n",
    "print(f\"-> Estimated Generalization Performance: {mean_test_acc:.4f} \\u00B1 {std_test_acc:.4f}\")\n",
    "\n",
    "print(\"\\nCross-validation finished.\")\n",
    "print(\"To view TensorBoard logs, run the following command in your terminal:\")\n",
    "print(f\"tensorboard --logdir runs/{MODEL_FOLDER_NAME}\")"
   ]
  },
  {
   "cell_type": "code",
   "execution_count": 13,
   "id": "3a8fc429",
   "metadata": {},
   "outputs": [],
   "source": [
    "def load_partial_state_dict(model_to_load: nn.Module, pretrained_path: str):\n",
    "    \"\"\"\n",
    "    Loads weights from a pretrained model, skipping layers with mismatched shapes.\n",
    "\n",
    "    Args:\n",
    "        model_to_load (nn.Module): The model instance to load weights INTO.\n",
    "        pretrained_path (str): The path to the .pt or .pth file of the pretrained model.\n",
    "    \"\"\"\n",
    "    print(f\"Loading pretrained weights from: {pretrained_path}\")\n",
    "    \n",
    "    pretrained_dict = torch.load(pretrained_path, map_location=torch.device('cpu'))\n",
    "\n",
    "    if 'model_state_dict' in pretrained_dict:\n",
    "        pretrained_dict = pretrained_dict['model_state_dict']\n",
    "    elif 'model' in pretrained_dict and isinstance(pretrained_dict['model'], dict):\n",
    "        pretrained_dict = pretrained_dict['model']\n",
    "        \n",
    "    model_dict = model_to_load.state_dict()\n",
    "\n",
    "    # 1. Filter out unnecessary keys and weights with mismatched shapes\n",
    "    # We create a new dictionary that only contains the weights we can actually use\n",
    "    filtered_dict = {}\n",
    "    initialized_layers = []\n",
    "    skipped_layers = []\n",
    "\n",
    "    for key, param in pretrained_dict.items():\n",
    "        if key in model_dict:\n",
    "            # Check if the shape of the weights match\n",
    "            if param.shape == model_dict[key].shape:\n",
    "                filtered_dict[key] = param\n",
    "                initialized_layers.append(key)\n",
    "            else:\n",
    "                # Key exists, but shapes are different. This is the main case we want to handle.\n",
    "                reason = f\"Shape Mismatch. Pretrained: {param.shape}, Model: {model_dict[key].shape}\"\n",
    "                skipped_layers.append((key, reason))\n",
    "        else:\n",
    "            # The key from the pretrained model doesn't exist in the new model\n",
    "            skipped_layers.append((key, \"Key Not Found in Model\"))\n",
    "\n",
    "    # 2. Overwrite the entries in the model's state dict with the filtered weights\n",
    "    model_dict.update(filtered_dict)\n",
    "\n",
    "    # 3. Load the updated state dict into the model.\n",
    "    # Since we've filtered it, we can be strict here.\n",
    "    model_to_load.load_state_dict(model_dict)\n",
    "\n",
    "    print(\"\\n--- Transfer Learning Report ---\")\n",
    "    print(f\"Successfully loaded {len(initialized_layers)} / {len(model_dict)} layers.\")\n",
    "    if initialized_layers and len(initialized_layers) < 10:\n",
    "        print(\"Loaded layers:\")\n",
    "        for layer in initialized_layers:\n",
    "            print(f\"  - {layer}\")\n",
    "    \n",
    "    if skipped_layers:\n",
    "        print(f\"\\nSkipped {len(skipped_layers)} layers:\")\n",
    "        for key, reason in skipped_layers:\n",
    "            print(f\"  - {key} ({reason})\")\n",
    "    print(\"--------------------------------\\n\")\n",
    "    \n",
    "    return model_to_load"
   ]
  },
  {
   "cell_type": "markdown",
   "id": "c7568276",
   "metadata": {},
   "source": [
    "# I-RAVEN to O3 TL"
   ]
  },
  {
   "cell_type": "code",
   "execution_count": 14,
   "id": "1f0d78e0",
   "metadata": {},
   "outputs": [
    {
     "name": "stdout",
     "output_type": "stream",
     "text": [
      "Total data for cross-validation: 500 samples.\n",
      "\n",
      "============================== OUTER FOLD 1/3 ==============================\n",
      "Loading pretrained weights from: ../I_RAVEN/saved_models/best_model_wren.pth\n",
      "\n",
      "--- Transfer Learning Report ---\n",
      "Successfully loaded 46 / 49 layers.\n",
      "\n",
      "Skipped 3 layers:\n",
      "  - mlp.fc3.weight (Shape Mismatch. Pretrained: torch.Size([13, 256]), Model: torch.Size([1, 256]))\n",
      "  - mlp.fc3.bias (Shape Mismatch. Pretrained: torch.Size([13]), Model: torch.Size([1]))\n",
      "  - proj.fc.weight (Shape Mismatch. Pretrained: torch.Size([256, 521]), Model: torch.Size([256, 517]))\n",
      "--------------------------------\n",
      "\n",
      "Fold 1 Model has 1,212,129 trainable parameters.\n",
      "Fold 1 Training on 283, Validating on 50, Testing on 167.\n",
      "\n",
      "--- Fold 1, Epoch 1/100 ---\n"
     ]
    },
    {
     "name": "stderr",
     "output_type": "stream",
     "text": [
      "Training: 100%|██████████| 9/9 [00:00<00:00, 10.70it/s]\n",
      "Validating: 100%|██████████| 2/2 [00:00<00:00,  4.58it/s]\n"
     ]
    },
    {
     "name": "stdout",
     "output_type": "stream",
     "text": [
      "  Train Loss: 1.6141 | Train Acc: 0.1873\n",
      "  Val Loss:   1.6094 | Val Acc:   0.2000\n",
      "  Epoch Duration: 1.28 seconds\n",
      "  -> New best inner validation accuracy: 0.2000. Model state saved.\n",
      "\n",
      "--- Fold 1, Epoch 2/100 ---\n"
     ]
    },
    {
     "name": "stderr",
     "output_type": "stream",
     "text": [
      "Training: 100%|██████████| 9/9 [00:00<00:00, 10.83it/s]\n",
      "Validating: 100%|██████████| 2/2 [00:00<00:00,  4.42it/s]\n"
     ]
    },
    {
     "name": "stdout",
     "output_type": "stream",
     "text": [
      "  Train Loss: 1.6081 | Train Acc: 0.2014\n",
      "  Val Loss:   1.6092 | Val Acc:   0.2000\n",
      "  Epoch Duration: 1.29 seconds\n",
      "\n",
      "--- Fold 1, Epoch 3/100 ---\n"
     ]
    },
    {
     "name": "stderr",
     "output_type": "stream",
     "text": [
      "Training: 100%|██████████| 9/9 [00:00<00:00, 10.34it/s]\n",
      "Validating: 100%|██████████| 2/2 [00:00<00:00,  4.23it/s]\n"
     ]
    },
    {
     "name": "stdout",
     "output_type": "stream",
     "text": [
      "  Train Loss: 1.6012 | Train Acc: 0.2756\n",
      "  Val Loss:   1.6093 | Val Acc:   0.3400\n",
      "  Epoch Duration: 1.35 seconds\n",
      "  -> New best inner validation accuracy: 0.3400. Model state saved.\n",
      "\n",
      "--- Fold 1, Epoch 4/100 ---\n"
     ]
    },
    {
     "name": "stderr",
     "output_type": "stream",
     "text": [
      "Training: 100%|██████████| 9/9 [00:00<00:00, 10.68it/s]\n",
      "Validating: 100%|██████████| 2/2 [00:00<00:00,  4.50it/s]\n"
     ]
    },
    {
     "name": "stdout",
     "output_type": "stream",
     "text": [
      "  Train Loss: 1.5723 | Train Acc: 0.3675\n",
      "  Val Loss:   1.6072 | Val Acc:   0.2600\n",
      "  Epoch Duration: 1.29 seconds\n",
      "\n",
      "--- Fold 1, Epoch 5/100 ---\n"
     ]
    },
    {
     "name": "stderr",
     "output_type": "stream",
     "text": [
      "Training: 100%|██████████| 9/9 [00:00<00:00, 10.88it/s]\n",
      "Validating: 100%|██████████| 2/2 [00:00<00:00,  4.56it/s]\n"
     ]
    },
    {
     "name": "stdout",
     "output_type": "stream",
     "text": [
      "  Train Loss: 1.5079 | Train Acc: 0.3993\n",
      "  Val Loss:   1.6062 | Val Acc:   0.2600\n",
      "  Epoch Duration: 1.27 seconds\n",
      "\n",
      "--- Fold 1, Epoch 6/100 ---\n"
     ]
    },
    {
     "name": "stderr",
     "output_type": "stream",
     "text": [
      "Training: 100%|██████████| 9/9 [00:00<00:00, 10.56it/s]\n",
      "Validating: 100%|██████████| 2/2 [00:00<00:00,  4.46it/s]\n"
     ]
    },
    {
     "name": "stdout",
     "output_type": "stream",
     "text": [
      "  Train Loss: 1.3892 | Train Acc: 0.4735\n",
      "  Val Loss:   1.6232 | Val Acc:   0.2400\n",
      "  Epoch Duration: 1.31 seconds\n",
      "\n",
      "--- Fold 1, Epoch 7/100 ---\n"
     ]
    },
    {
     "name": "stderr",
     "output_type": "stream",
     "text": [
      "Training: 100%|██████████| 9/9 [00:00<00:00, 10.80it/s]\n",
      "Validating: 100%|██████████| 2/2 [00:00<00:00,  4.36it/s]\n"
     ]
    },
    {
     "name": "stdout",
     "output_type": "stream",
     "text": [
      "  Train Loss: 1.2879 | Train Acc: 0.5512\n",
      "  Val Loss:   1.6221 | Val Acc:   0.3400\n",
      "  Epoch Duration: 1.30 seconds\n",
      "\n",
      "--- Fold 1, Epoch 8/100 ---\n"
     ]
    },
    {
     "name": "stderr",
     "output_type": "stream",
     "text": [
      "Training: 100%|██████████| 9/9 [00:00<00:00, 10.66it/s]\n",
      "Validating: 100%|██████████| 2/2 [00:00<00:00,  4.53it/s]\n"
     ]
    },
    {
     "name": "stdout",
     "output_type": "stream",
     "text": [
      "  Train Loss: 1.1493 | Train Acc: 0.5901\n",
      "  Val Loss:   1.6262 | Val Acc:   0.3200\n",
      "  Epoch Duration: 1.29 seconds\n",
      "\n",
      "--- Fold 1, Epoch 9/100 ---\n"
     ]
    },
    {
     "name": "stderr",
     "output_type": "stream",
     "text": [
      "Training: 100%|██████████| 9/9 [00:00<00:00, 10.73it/s]\n",
      "Validating: 100%|██████████| 2/2 [00:00<00:00,  4.47it/s]\n"
     ]
    },
    {
     "name": "stdout",
     "output_type": "stream",
     "text": [
      "  Train Loss: 1.0127 | Train Acc: 0.5936\n",
      "  Val Loss:   1.5212 | Val Acc:   0.4200\n",
      "  Epoch Duration: 1.29 seconds\n",
      "  -> New best inner validation accuracy: 0.4200. Model state saved.\n",
      "\n",
      "--- Fold 1, Epoch 10/100 ---\n"
     ]
    },
    {
     "name": "stderr",
     "output_type": "stream",
     "text": [
      "Training: 100%|██████████| 9/9 [00:00<00:00, 10.74it/s]\n",
      "Validating: 100%|██████████| 2/2 [00:00<00:00,  4.44it/s]\n"
     ]
    },
    {
     "name": "stdout",
     "output_type": "stream",
     "text": [
      "  Train Loss: 0.8833 | Train Acc: 0.6784\n",
      "  Val Loss:   1.4983 | Val Acc:   0.5200\n",
      "  Epoch Duration: 1.29 seconds\n",
      "  -> New best inner validation accuracy: 0.5200. Model state saved.\n",
      "\n",
      "--- Fold 1, Epoch 11/100 ---\n"
     ]
    },
    {
     "name": "stderr",
     "output_type": "stream",
     "text": [
      "Training: 100%|██████████| 9/9 [00:00<00:00, 10.54it/s]\n",
      "Validating: 100%|██████████| 2/2 [00:00<00:00,  4.54it/s]\n"
     ]
    },
    {
     "name": "stdout",
     "output_type": "stream",
     "text": [
      "  Train Loss: 0.7939 | Train Acc: 0.6926\n",
      "  Val Loss:   1.5816 | Val Acc:   0.4600\n",
      "  Epoch Duration: 1.30 seconds\n",
      "\n",
      "--- Fold 1, Epoch 12/100 ---\n"
     ]
    },
    {
     "name": "stderr",
     "output_type": "stream",
     "text": [
      "Training: 100%|██████████| 9/9 [00:00<00:00, 10.54it/s]\n",
      "Validating: 100%|██████████| 2/2 [00:00<00:00,  4.45it/s]\n"
     ]
    },
    {
     "name": "stdout",
     "output_type": "stream",
     "text": [
      "  Train Loss: 0.7050 | Train Acc: 0.7244\n",
      "  Val Loss:   1.6871 | Val Acc:   0.3800\n",
      "  Epoch Duration: 1.31 seconds\n",
      "\n",
      "--- Fold 1, Epoch 13/100 ---\n"
     ]
    },
    {
     "name": "stderr",
     "output_type": "stream",
     "text": [
      "Training: 100%|██████████| 9/9 [00:00<00:00, 10.65it/s]\n",
      "Validating: 100%|██████████| 2/2 [00:00<00:00,  4.36it/s]\n"
     ]
    },
    {
     "name": "stdout",
     "output_type": "stream",
     "text": [
      "  Train Loss: 0.6211 | Train Acc: 0.7527\n",
      "  Val Loss:   1.7199 | Val Acc:   0.4200\n",
      "  Epoch Duration: 1.31 seconds\n",
      "\n",
      "--- Fold 1, Epoch 14/100 ---\n"
     ]
    },
    {
     "name": "stderr",
     "output_type": "stream",
     "text": [
      "Training: 100%|██████████| 9/9 [00:00<00:00, 10.78it/s]\n",
      "Validating: 100%|██████████| 2/2 [00:00<00:00,  4.46it/s]\n"
     ]
    },
    {
     "name": "stdout",
     "output_type": "stream",
     "text": [
      "  Train Loss: 0.5081 | Train Acc: 0.7986\n",
      "  Val Loss:   1.8272 | Val Acc:   0.4600\n",
      "  Epoch Duration: 1.29 seconds\n",
      "\n",
      "--- Fold 1, Epoch 15/100 ---\n"
     ]
    },
    {
     "name": "stderr",
     "output_type": "stream",
     "text": [
      "Training: 100%|██████████| 9/9 [00:00<00:00, 10.94it/s]\n",
      "Validating: 100%|██████████| 2/2 [00:00<00:00,  4.50it/s]\n"
     ]
    },
    {
     "name": "stdout",
     "output_type": "stream",
     "text": [
      "  Train Loss: 0.4799 | Train Acc: 0.8057\n",
      "  Val Loss:   2.2927 | Val Acc:   0.4000\n",
      "  Epoch Duration: 1.27 seconds\n",
      "\n",
      "--- Fold 1, Epoch 16/100 ---\n"
     ]
    },
    {
     "name": "stderr",
     "output_type": "stream",
     "text": [
      "Training: 100%|██████████| 9/9 [00:00<00:00, 10.96it/s]\n",
      "Validating: 100%|██████████| 2/2 [00:00<00:00,  4.45it/s]\n"
     ]
    },
    {
     "name": "stdout",
     "output_type": "stream",
     "text": [
      "  Train Loss: 0.4300 | Train Acc: 0.8481\n",
      "  Val Loss:   2.1394 | Val Acc:   0.3400\n",
      "  Epoch Duration: 1.28 seconds\n",
      "\n",
      "--- Fold 1, Epoch 17/100 ---\n"
     ]
    },
    {
     "name": "stderr",
     "output_type": "stream",
     "text": [
      "Training: 100%|██████████| 9/9 [00:00<00:00, 10.80it/s]\n",
      "Validating: 100%|██████████| 2/2 [00:00<00:00,  4.44it/s]\n"
     ]
    },
    {
     "name": "stdout",
     "output_type": "stream",
     "text": [
      "  Train Loss: 0.4497 | Train Acc: 0.8516\n",
      "  Val Loss:   1.9121 | Val Acc:   0.4600\n",
      "  Epoch Duration: 1.29 seconds\n",
      "\n",
      "--- Fold 1, Epoch 18/100 ---\n"
     ]
    },
    {
     "name": "stderr",
     "output_type": "stream",
     "text": [
      "Training: 100%|██████████| 9/9 [00:00<00:00, 10.85it/s]\n",
      "Validating: 100%|██████████| 2/2 [00:00<00:00,  4.45it/s]\n"
     ]
    },
    {
     "name": "stdout",
     "output_type": "stream",
     "text": [
      "  Train Loss: 0.3259 | Train Acc: 0.8728\n",
      "  Val Loss:   2.4984 | Val Acc:   0.4200\n",
      "  Epoch Duration: 1.29 seconds\n",
      "\n",
      "--- Fold 1, Epoch 19/100 ---\n"
     ]
    },
    {
     "name": "stderr",
     "output_type": "stream",
     "text": [
      "Training: 100%|██████████| 9/9 [00:00<00:00, 10.93it/s]\n",
      "Validating: 100%|██████████| 2/2 [00:00<00:00,  4.50it/s]\n"
     ]
    },
    {
     "name": "stdout",
     "output_type": "stream",
     "text": [
      "  Train Loss: 0.3626 | Train Acc: 0.8728\n",
      "  Val Loss:   1.7763 | Val Acc:   0.4600\n",
      "  Epoch Duration: 1.27 seconds\n",
      "\n",
      "--- Fold 1, Epoch 20/100 ---\n"
     ]
    },
    {
     "name": "stderr",
     "output_type": "stream",
     "text": [
      "Training: 100%|██████████| 9/9 [00:00<00:00, 10.66it/s]\n",
      "Validating: 100%|██████████| 2/2 [00:00<00:00,  4.43it/s]\n"
     ]
    },
    {
     "name": "stdout",
     "output_type": "stream",
     "text": [
      "  Train Loss: 0.2394 | Train Acc: 0.9223\n",
      "  Val Loss:   1.8464 | Val Acc:   0.4000\n",
      "  Epoch Duration: 1.30 seconds\n",
      "  Early stopping at epoch 20.\n",
      "\n",
      "--- Fold 1 Final Evaluation ---\n",
      "Loading best model for fold 1 (achieved 0.5200 on inner val set).\n"
     ]
    },
    {
     "name": "stderr",
     "output_type": "stream",
     "text": [
      "Validating: 100%|██████████| 6/6 [00:00<00:00, 10.02it/s]\n"
     ]
    },
    {
     "name": "stdout",
     "output_type": "stream",
     "text": [
      "Performance of best model on the OUTER TEST SET for fold 1: 0.4611\n",
      "\n",
      "============================== OUTER FOLD 2/3 ==============================\n",
      "Loading pretrained weights from: ../I_RAVEN/saved_models/best_model_wren.pth\n",
      "\n",
      "--- Transfer Learning Report ---\n",
      "Successfully loaded 46 / 49 layers.\n",
      "\n",
      "Skipped 3 layers:\n",
      "  - mlp.fc3.weight (Shape Mismatch. Pretrained: torch.Size([13, 256]), Model: torch.Size([1, 256]))\n",
      "  - mlp.fc3.bias (Shape Mismatch. Pretrained: torch.Size([13]), Model: torch.Size([1]))\n",
      "  - proj.fc.weight (Shape Mismatch. Pretrained: torch.Size([256, 521]), Model: torch.Size([256, 517]))\n",
      "--------------------------------\n",
      "\n",
      "Fold 2 Model has 1,212,129 trainable parameters.\n",
      "Fold 2 Training on 283, Validating on 50, Testing on 167.\n",
      "\n",
      "--- Fold 2, Epoch 1/100 ---\n"
     ]
    },
    {
     "name": "stderr",
     "output_type": "stream",
     "text": [
      "Training: 100%|██████████| 9/9 [00:00<00:00, 10.68it/s]\n",
      "Validating: 100%|██████████| 2/2 [00:00<00:00,  4.51it/s]\n"
     ]
    },
    {
     "name": "stdout",
     "output_type": "stream",
     "text": [
      "  Train Loss: 1.6110 | Train Acc: 0.2332\n",
      "  Val Loss:   1.6094 | Val Acc:   0.1200\n",
      "  Epoch Duration: 1.29 seconds\n",
      "  -> New best inner validation accuracy: 0.1200. Model state saved.\n",
      "\n",
      "--- Fold 2, Epoch 2/100 ---\n"
     ]
    },
    {
     "name": "stderr",
     "output_type": "stream",
     "text": [
      "Training: 100%|██████████| 9/9 [00:00<00:00, 10.76it/s]\n",
      "Validating: 100%|██████████| 2/2 [00:00<00:00,  4.32it/s]\n"
     ]
    },
    {
     "name": "stdout",
     "output_type": "stream",
     "text": [
      "  Train Loss: 1.6083 | Train Acc: 0.2367\n",
      "  Val Loss:   1.6094 | Val Acc:   0.1200\n",
      "  Epoch Duration: 1.31 seconds\n",
      "\n",
      "--- Fold 2, Epoch 3/100 ---\n"
     ]
    },
    {
     "name": "stderr",
     "output_type": "stream",
     "text": [
      "Training: 100%|██████████| 9/9 [00:00<00:00, 10.66it/s]\n",
      "Validating: 100%|██████████| 2/2 [00:00<00:00,  4.33it/s]\n"
     ]
    },
    {
     "name": "stdout",
     "output_type": "stream",
     "text": [
      "  Train Loss: 1.5863 | Train Acc: 0.3534\n",
      "  Val Loss:   1.6094 | Val Acc:   0.2400\n",
      "  Epoch Duration: 1.31 seconds\n",
      "  -> New best inner validation accuracy: 0.2400. Model state saved.\n",
      "\n",
      "--- Fold 2, Epoch 4/100 ---\n"
     ]
    },
    {
     "name": "stderr",
     "output_type": "stream",
     "text": [
      "Training: 100%|██████████| 9/9 [00:00<00:00, 10.81it/s]\n",
      "Validating: 100%|██████████| 2/2 [00:00<00:00,  4.43it/s]\n"
     ]
    },
    {
     "name": "stdout",
     "output_type": "stream",
     "text": [
      "  Train Loss: 1.5530 | Train Acc: 0.3180\n",
      "  Val Loss:   1.6095 | Val Acc:   0.1000\n",
      "  Epoch Duration: 1.29 seconds\n",
      "\n",
      "--- Fold 2, Epoch 5/100 ---\n"
     ]
    },
    {
     "name": "stderr",
     "output_type": "stream",
     "text": [
      "Training: 100%|██████████| 9/9 [00:00<00:00, 10.46it/s]\n",
      "Validating: 100%|██████████| 2/2 [00:00<00:00,  4.47it/s]\n"
     ]
    },
    {
     "name": "stdout",
     "output_type": "stream",
     "text": [
      "  Train Loss: 1.4792 | Train Acc: 0.4099\n",
      "  Val Loss:   1.6108 | Val Acc:   0.2200\n",
      "  Epoch Duration: 1.31 seconds\n",
      "\n",
      "--- Fold 2, Epoch 6/100 ---\n"
     ]
    },
    {
     "name": "stderr",
     "output_type": "stream",
     "text": [
      "Training: 100%|██████████| 9/9 [00:00<00:00, 10.48it/s]\n",
      "Validating: 100%|██████████| 2/2 [00:00<00:00,  4.40it/s]\n"
     ]
    },
    {
     "name": "stdout",
     "output_type": "stream",
     "text": [
      "  Train Loss: 1.3998 | Train Acc: 0.4346\n",
      "  Val Loss:   1.6136 | Val Acc:   0.1800\n",
      "  Epoch Duration: 1.32 seconds\n",
      "\n",
      "--- Fold 2, Epoch 7/100 ---\n"
     ]
    },
    {
     "name": "stderr",
     "output_type": "stream",
     "text": [
      "Training: 100%|██████████| 9/9 [00:00<00:00, 10.91it/s]\n",
      "Validating: 100%|██████████| 2/2 [00:00<00:00,  4.38it/s]\n"
     ]
    },
    {
     "name": "stdout",
     "output_type": "stream",
     "text": [
      "  Train Loss: 1.3152 | Train Acc: 0.4629\n",
      "  Val Loss:   1.6167 | Val Acc:   0.2000\n",
      "  Epoch Duration: 1.29 seconds\n",
      "\n",
      "--- Fold 2, Epoch 8/100 ---\n"
     ]
    },
    {
     "name": "stderr",
     "output_type": "stream",
     "text": [
      "Training: 100%|██████████| 9/9 [00:00<00:00, 10.49it/s]\n",
      "Validating: 100%|██████████| 2/2 [00:00<00:00,  4.50it/s]\n"
     ]
    },
    {
     "name": "stdout",
     "output_type": "stream",
     "text": [
      "  Train Loss: 1.2431 | Train Acc: 0.5194\n",
      "  Val Loss:   1.6304 | Val Acc:   0.3600\n",
      "  Epoch Duration: 1.31 seconds\n",
      "  -> New best inner validation accuracy: 0.3600. Model state saved.\n",
      "\n",
      "--- Fold 2, Epoch 9/100 ---\n"
     ]
    },
    {
     "name": "stderr",
     "output_type": "stream",
     "text": [
      "Training: 100%|██████████| 9/9 [00:00<00:00, 10.68it/s]\n",
      "Validating: 100%|██████████| 2/2 [00:00<00:00,  4.48it/s]\n"
     ]
    },
    {
     "name": "stdout",
     "output_type": "stream",
     "text": [
      "  Train Loss: 1.1149 | Train Acc: 0.5618\n",
      "  Val Loss:   1.6676 | Val Acc:   0.3200\n",
      "  Epoch Duration: 1.30 seconds\n",
      "\n",
      "--- Fold 2, Epoch 10/100 ---\n"
     ]
    },
    {
     "name": "stderr",
     "output_type": "stream",
     "text": [
      "Training: 100%|██████████| 9/9 [00:00<00:00, 10.83it/s]\n",
      "Validating: 100%|██████████| 2/2 [00:00<00:00,  4.46it/s]\n"
     ]
    },
    {
     "name": "stdout",
     "output_type": "stream",
     "text": [
      "  Train Loss: 1.0843 | Train Acc: 0.6007\n",
      "  Val Loss:   1.4782 | Val Acc:   0.3600\n",
      "  Epoch Duration: 1.28 seconds\n",
      "\n",
      "--- Fold 2, Epoch 11/100 ---\n"
     ]
    },
    {
     "name": "stderr",
     "output_type": "stream",
     "text": [
      "Training: 100%|██████████| 9/9 [00:00<00:00, 10.69it/s]\n",
      "Validating: 100%|██████████| 2/2 [00:00<00:00,  4.36it/s]\n"
     ]
    },
    {
     "name": "stdout",
     "output_type": "stream",
     "text": [
      "  Train Loss: 0.9923 | Train Acc: 0.6219\n",
      "  Val Loss:   1.5261 | Val Acc:   0.4600\n",
      "  Epoch Duration: 1.31 seconds\n",
      "  -> New best inner validation accuracy: 0.4600. Model state saved.\n",
      "\n",
      "--- Fold 2, Epoch 12/100 ---\n"
     ]
    },
    {
     "name": "stderr",
     "output_type": "stream",
     "text": [
      "Training: 100%|██████████| 9/9 [00:00<00:00, 10.92it/s]\n",
      "Validating: 100%|██████████| 2/2 [00:00<00:00,  4.38it/s]\n"
     ]
    },
    {
     "name": "stdout",
     "output_type": "stream",
     "text": [
      "  Train Loss: 0.9199 | Train Acc: 0.6254\n",
      "  Val Loss:   1.9034 | Val Acc:   0.3600\n",
      "  Epoch Duration: 1.29 seconds\n",
      "\n",
      "--- Fold 2, Epoch 13/100 ---\n"
     ]
    },
    {
     "name": "stderr",
     "output_type": "stream",
     "text": [
      "Training: 100%|██████████| 9/9 [00:00<00:00, 10.74it/s]\n",
      "Validating: 100%|██████████| 2/2 [00:00<00:00,  4.45it/s]\n"
     ]
    },
    {
     "name": "stdout",
     "output_type": "stream",
     "text": [
      "  Train Loss: 0.8713 | Train Acc: 0.6678\n",
      "  Val Loss:   1.7915 | Val Acc:   0.3800\n",
      "  Epoch Duration: 1.29 seconds\n",
      "\n",
      "--- Fold 2, Epoch 14/100 ---\n"
     ]
    },
    {
     "name": "stderr",
     "output_type": "stream",
     "text": [
      "Training: 100%|██████████| 9/9 [00:00<00:00, 10.95it/s]\n",
      "Validating: 100%|██████████| 2/2 [00:00<00:00,  4.39it/s]\n"
     ]
    },
    {
     "name": "stdout",
     "output_type": "stream",
     "text": [
      "  Train Loss: 0.7901 | Train Acc: 0.6996\n",
      "  Val Loss:   1.9100 | Val Acc:   0.3400\n",
      "  Epoch Duration: 1.28 seconds\n",
      "\n",
      "--- Fold 2, Epoch 15/100 ---\n"
     ]
    },
    {
     "name": "stderr",
     "output_type": "stream",
     "text": [
      "Training: 100%|██████████| 9/9 [00:00<00:00, 10.83it/s]\n",
      "Validating: 100%|██████████| 2/2 [00:00<00:00,  4.44it/s]\n"
     ]
    },
    {
     "name": "stdout",
     "output_type": "stream",
     "text": [
      "  Train Loss: 0.7453 | Train Acc: 0.7350\n",
      "  Val Loss:   1.7970 | Val Acc:   0.3800\n",
      "  Epoch Duration: 1.29 seconds\n",
      "\n",
      "--- Fold 2, Epoch 16/100 ---\n"
     ]
    },
    {
     "name": "stderr",
     "output_type": "stream",
     "text": [
      "Training: 100%|██████████| 9/9 [00:00<00:00, 10.78it/s]\n",
      "Validating: 100%|██████████| 2/2 [00:00<00:00,  4.46it/s]\n"
     ]
    },
    {
     "name": "stdout",
     "output_type": "stream",
     "text": [
      "  Train Loss: 0.7235 | Train Acc: 0.7456\n",
      "  Val Loss:   1.6892 | Val Acc:   0.3400\n",
      "  Epoch Duration: 1.29 seconds\n",
      "\n",
      "--- Fold 2, Epoch 17/100 ---\n"
     ]
    },
    {
     "name": "stderr",
     "output_type": "stream",
     "text": [
      "Training: 100%|██████████| 9/9 [00:00<00:00, 10.78it/s]\n",
      "Validating: 100%|██████████| 2/2 [00:00<00:00,  4.51it/s]\n"
     ]
    },
    {
     "name": "stdout",
     "output_type": "stream",
     "text": [
      "  Train Loss: 0.6453 | Train Acc: 0.7703\n",
      "  Val Loss:   2.1680 | Val Acc:   0.4000\n",
      "  Epoch Duration: 1.28 seconds\n",
      "\n",
      "--- Fold 2, Epoch 18/100 ---\n"
     ]
    },
    {
     "name": "stderr",
     "output_type": "stream",
     "text": [
      "Training: 100%|██████████| 9/9 [00:00<00:00, 10.76it/s]\n",
      "Validating: 100%|██████████| 2/2 [00:00<00:00,  4.38it/s]\n"
     ]
    },
    {
     "name": "stdout",
     "output_type": "stream",
     "text": [
      "  Train Loss: 0.5920 | Train Acc: 0.8057\n",
      "  Val Loss:   1.6331 | Val Acc:   0.4600\n",
      "  Epoch Duration: 1.30 seconds\n",
      "\n",
      "--- Fold 2, Epoch 19/100 ---\n"
     ]
    },
    {
     "name": "stderr",
     "output_type": "stream",
     "text": [
      "Training: 100%|██████████| 9/9 [00:00<00:00, 10.93it/s]\n",
      "Validating: 100%|██████████| 2/2 [00:00<00:00,  4.45it/s]\n"
     ]
    },
    {
     "name": "stdout",
     "output_type": "stream",
     "text": [
      "  Train Loss: 0.5183 | Train Acc: 0.8127\n",
      "  Val Loss:   1.7273 | Val Acc:   0.3800\n",
      "  Epoch Duration: 1.28 seconds\n",
      "\n",
      "--- Fold 2, Epoch 20/100 ---\n"
     ]
    },
    {
     "name": "stderr",
     "output_type": "stream",
     "text": [
      "Training: 100%|██████████| 9/9 [00:00<00:00, 10.82it/s]\n",
      "Validating: 100%|██████████| 2/2 [00:00<00:00,  4.56it/s]\n"
     ]
    },
    {
     "name": "stdout",
     "output_type": "stream",
     "text": [
      "  Train Loss: 0.4765 | Train Acc: 0.8269\n",
      "  Val Loss:   1.7089 | Val Acc:   0.3200\n",
      "  Epoch Duration: 1.28 seconds\n",
      "\n",
      "--- Fold 2, Epoch 21/100 ---\n"
     ]
    },
    {
     "name": "stderr",
     "output_type": "stream",
     "text": [
      "Training: 100%|██████████| 9/9 [00:00<00:00, 10.84it/s]\n",
      "Validating: 100%|██████████| 2/2 [00:00<00:00,  4.42it/s]\n"
     ]
    },
    {
     "name": "stdout",
     "output_type": "stream",
     "text": [
      "  Train Loss: 0.3831 | Train Acc: 0.8834\n",
      "  Val Loss:   1.8346 | Val Acc:   0.4000\n",
      "  Epoch Duration: 1.29 seconds\n",
      "  Early stopping at epoch 21.\n",
      "\n",
      "--- Fold 2 Final Evaluation ---\n",
      "Loading best model for fold 2 (achieved 0.4600 on inner val set).\n"
     ]
    },
    {
     "name": "stderr",
     "output_type": "stream",
     "text": [
      "Validating: 100%|██████████| 6/6 [00:00<00:00,  9.80it/s]\n"
     ]
    },
    {
     "name": "stdout",
     "output_type": "stream",
     "text": [
      "Performance of best model on the OUTER TEST SET for fold 2: 0.5030\n",
      "\n",
      "============================== OUTER FOLD 3/3 ==============================\n",
      "Loading pretrained weights from: ../I_RAVEN/saved_models/best_model_wren.pth\n",
      "\n",
      "--- Transfer Learning Report ---\n",
      "Successfully loaded 46 / 49 layers.\n",
      "\n",
      "Skipped 3 layers:\n",
      "  - mlp.fc3.weight (Shape Mismatch. Pretrained: torch.Size([13, 256]), Model: torch.Size([1, 256]))\n",
      "  - mlp.fc3.bias (Shape Mismatch. Pretrained: torch.Size([13]), Model: torch.Size([1]))\n",
      "  - proj.fc.weight (Shape Mismatch. Pretrained: torch.Size([256, 521]), Model: torch.Size([256, 517]))\n",
      "--------------------------------\n",
      "\n",
      "Fold 3 Model has 1,212,129 trainable parameters.\n",
      "Fold 3 Training on 283, Validating on 51, Testing on 166.\n",
      "\n",
      "--- Fold 3, Epoch 1/100 ---\n"
     ]
    },
    {
     "name": "stderr",
     "output_type": "stream",
     "text": [
      "Training: 100%|██████████| 9/9 [00:00<00:00, 10.60it/s]\n",
      "Validating: 100%|██████████| 2/2 [00:00<00:00,  4.53it/s]\n"
     ]
    },
    {
     "name": "stdout",
     "output_type": "stream",
     "text": [
      "  Train Loss: 1.6108 | Train Acc: 0.2332\n",
      "  Val Loss:   1.6095 | Val Acc:   0.1569\n",
      "  Epoch Duration: 1.30 seconds\n",
      "  -> New best inner validation accuracy: 0.1569. Model state saved.\n",
      "\n",
      "--- Fold 3, Epoch 2/100 ---\n"
     ]
    },
    {
     "name": "stderr",
     "output_type": "stream",
     "text": [
      "Training: 100%|██████████| 9/9 [00:00<00:00, 10.63it/s]\n",
      "Validating: 100%|██████████| 2/2 [00:00<00:00,  4.48it/s]\n"
     ]
    },
    {
     "name": "stdout",
     "output_type": "stream",
     "text": [
      "  Train Loss: 1.6001 | Train Acc: 0.2933\n",
      "  Val Loss:   1.6095 | Val Acc:   0.1961\n",
      "  Epoch Duration: 1.30 seconds\n",
      "  -> New best inner validation accuracy: 0.1961. Model state saved.\n",
      "\n",
      "--- Fold 3, Epoch 3/100 ---\n"
     ]
    },
    {
     "name": "stderr",
     "output_type": "stream",
     "text": [
      "Training: 100%|██████████| 9/9 [00:00<00:00, 10.72it/s]\n",
      "Validating: 100%|██████████| 2/2 [00:00<00:00,  4.46it/s]\n"
     ]
    },
    {
     "name": "stdout",
     "output_type": "stream",
     "text": [
      "  Train Loss: 1.5998 | Train Acc: 0.3074\n",
      "  Val Loss:   1.6094 | Val Acc:   0.2157\n",
      "  Epoch Duration: 1.29 seconds\n",
      "  -> New best inner validation accuracy: 0.2157. Model state saved.\n",
      "\n",
      "--- Fold 3, Epoch 4/100 ---\n"
     ]
    },
    {
     "name": "stderr",
     "output_type": "stream",
     "text": [
      "Training: 100%|██████████| 9/9 [00:00<00:00, 10.79it/s]\n",
      "Validating: 100%|██████████| 2/2 [00:00<00:00,  4.37it/s]\n"
     ]
    },
    {
     "name": "stdout",
     "output_type": "stream",
     "text": [
      "  Train Loss: 1.5825 | Train Acc: 0.3463\n",
      "  Val Loss:   1.6097 | Val Acc:   0.2745\n",
      "  Epoch Duration: 1.30 seconds\n",
      "  -> New best inner validation accuracy: 0.2745. Model state saved.\n",
      "\n",
      "--- Fold 3, Epoch 5/100 ---\n"
     ]
    },
    {
     "name": "stderr",
     "output_type": "stream",
     "text": [
      "Training: 100%|██████████| 9/9 [00:00<00:00, 10.48it/s]\n",
      "Validating: 100%|██████████| 2/2 [00:00<00:00,  4.39it/s]\n"
     ]
    },
    {
     "name": "stdout",
     "output_type": "stream",
     "text": [
      "  Train Loss: 1.5583 | Train Acc: 0.3498\n",
      "  Val Loss:   1.6097 | Val Acc:   0.2549\n",
      "  Epoch Duration: 1.32 seconds\n",
      "\n",
      "--- Fold 3, Epoch 6/100 ---\n"
     ]
    },
    {
     "name": "stderr",
     "output_type": "stream",
     "text": [
      "Training: 100%|██████████| 9/9 [00:00<00:00, 10.48it/s]\n",
      "Validating: 100%|██████████| 2/2 [00:00<00:00,  4.46it/s]\n"
     ]
    },
    {
     "name": "stdout",
     "output_type": "stream",
     "text": [
      "  Train Loss: 1.4870 | Train Acc: 0.4028\n",
      "  Val Loss:   1.6076 | Val Acc:   0.3529\n",
      "  Epoch Duration: 1.31 seconds\n",
      "  -> New best inner validation accuracy: 0.3529. Model state saved.\n",
      "\n",
      "--- Fold 3, Epoch 7/100 ---\n"
     ]
    },
    {
     "name": "stderr",
     "output_type": "stream",
     "text": [
      "Training: 100%|██████████| 9/9 [00:00<00:00, 10.87it/s]\n",
      "Validating: 100%|██████████| 2/2 [00:00<00:00,  4.41it/s]\n"
     ]
    },
    {
     "name": "stdout",
     "output_type": "stream",
     "text": [
      "  Train Loss: 1.4526 | Train Acc: 0.4064\n",
      "  Val Loss:   1.6032 | Val Acc:   0.3725\n",
      "  Epoch Duration: 1.29 seconds\n",
      "  -> New best inner validation accuracy: 0.3725. Model state saved.\n",
      "\n",
      "--- Fold 3, Epoch 8/100 ---\n"
     ]
    },
    {
     "name": "stderr",
     "output_type": "stream",
     "text": [
      "Training: 100%|██████████| 9/9 [00:00<00:00, 10.67it/s]\n",
      "Validating: 100%|██████████| 2/2 [00:00<00:00,  4.39it/s]\n"
     ]
    },
    {
     "name": "stdout",
     "output_type": "stream",
     "text": [
      "  Train Loss: 1.3962 | Train Acc: 0.4205\n",
      "  Val Loss:   1.5968 | Val Acc:   0.4314\n",
      "  Epoch Duration: 1.31 seconds\n",
      "  -> New best inner validation accuracy: 0.4314. Model state saved.\n",
      "\n",
      "--- Fold 3, Epoch 9/100 ---\n"
     ]
    },
    {
     "name": "stderr",
     "output_type": "stream",
     "text": [
      "Training: 100%|██████████| 9/9 [00:00<00:00, 10.92it/s]\n",
      "Validating: 100%|██████████| 2/2 [00:00<00:00,  4.38it/s]\n"
     ]
    },
    {
     "name": "stdout",
     "output_type": "stream",
     "text": [
      "  Train Loss: 1.3401 | Train Acc: 0.4735\n",
      "  Val Loss:   1.5922 | Val Acc:   0.3529\n",
      "  Epoch Duration: 1.29 seconds\n",
      "\n",
      "--- Fold 3, Epoch 10/100 ---\n"
     ]
    },
    {
     "name": "stderr",
     "output_type": "stream",
     "text": [
      "Training: 100%|██████████| 9/9 [00:00<00:00, 10.87it/s]\n",
      "Validating: 100%|██████████| 2/2 [00:00<00:00,  4.40it/s]\n"
     ]
    },
    {
     "name": "stdout",
     "output_type": "stream",
     "text": [
      "  Train Loss: 1.3134 | Train Acc: 0.4664\n",
      "  Val Loss:   1.5998 | Val Acc:   0.3137\n",
      "  Epoch Duration: 1.29 seconds\n",
      "\n",
      "--- Fold 3, Epoch 11/100 ---\n"
     ]
    },
    {
     "name": "stderr",
     "output_type": "stream",
     "text": [
      "Training: 100%|██████████| 9/9 [00:00<00:00, 10.58it/s]\n",
      "Validating: 100%|██████████| 2/2 [00:00<00:00,  4.42it/s]\n"
     ]
    },
    {
     "name": "stdout",
     "output_type": "stream",
     "text": [
      "  Train Loss: 1.2697 | Train Acc: 0.4841\n",
      "  Val Loss:   1.5336 | Val Acc:   0.3529\n",
      "  Epoch Duration: 1.31 seconds\n",
      "\n",
      "--- Fold 3, Epoch 12/100 ---\n"
     ]
    },
    {
     "name": "stderr",
     "output_type": "stream",
     "text": [
      "Training: 100%|██████████| 9/9 [00:00<00:00, 10.81it/s]\n",
      "Validating: 100%|██████████| 2/2 [00:00<00:00,  4.41it/s]\n"
     ]
    },
    {
     "name": "stdout",
     "output_type": "stream",
     "text": [
      "  Train Loss: 1.2355 | Train Acc: 0.5336\n",
      "  Val Loss:   1.4726 | Val Acc:   0.4314\n",
      "  Epoch Duration: 1.29 seconds\n",
      "\n",
      "--- Fold 3, Epoch 13/100 ---\n"
     ]
    },
    {
     "name": "stderr",
     "output_type": "stream",
     "text": [
      "Training: 100%|██████████| 9/9 [00:00<00:00, 10.78it/s]\n",
      "Validating: 100%|██████████| 2/2 [00:00<00:00,  4.35it/s]\n"
     ]
    },
    {
     "name": "stdout",
     "output_type": "stream",
     "text": [
      "  Train Loss: 1.1302 | Train Acc: 0.5654\n",
      "  Val Loss:   1.5545 | Val Acc:   0.3333\n",
      "  Epoch Duration: 1.30 seconds\n",
      "\n",
      "--- Fold 3, Epoch 14/100 ---\n"
     ]
    },
    {
     "name": "stderr",
     "output_type": "stream",
     "text": [
      "Training: 100%|██████████| 9/9 [00:00<00:00, 10.95it/s]\n",
      "Validating: 100%|██████████| 2/2 [00:00<00:00,  4.41it/s]\n"
     ]
    },
    {
     "name": "stdout",
     "output_type": "stream",
     "text": [
      "  Train Loss: 1.0603 | Train Acc: 0.5901\n",
      "  Val Loss:   1.5848 | Val Acc:   0.3137\n",
      "  Epoch Duration: 1.28 seconds\n",
      "\n",
      "--- Fold 3, Epoch 15/100 ---\n"
     ]
    },
    {
     "name": "stderr",
     "output_type": "stream",
     "text": [
      "Training: 100%|██████████| 9/9 [00:00<00:00, 10.79it/s]\n",
      "Validating: 100%|██████████| 2/2 [00:00<00:00,  4.38it/s]\n"
     ]
    },
    {
     "name": "stdout",
     "output_type": "stream",
     "text": [
      "  Train Loss: 0.9978 | Train Acc: 0.6042\n",
      "  Val Loss:   1.4746 | Val Acc:   0.3725\n",
      "  Epoch Duration: 1.30 seconds\n",
      "\n",
      "--- Fold 3, Epoch 16/100 ---\n"
     ]
    },
    {
     "name": "stderr",
     "output_type": "stream",
     "text": [
      "Training: 100%|██████████| 9/9 [00:00<00:00, 10.73it/s]\n",
      "Validating: 100%|██████████| 2/2 [00:00<00:00,  4.37it/s]\n"
     ]
    },
    {
     "name": "stdout",
     "output_type": "stream",
     "text": [
      "  Train Loss: 0.9278 | Train Acc: 0.6431\n",
      "  Val Loss:   1.5204 | Val Acc:   0.3725\n",
      "  Epoch Duration: 1.30 seconds\n",
      "\n",
      "--- Fold 3, Epoch 17/100 ---\n"
     ]
    },
    {
     "name": "stderr",
     "output_type": "stream",
     "text": [
      "Training: 100%|██████████| 9/9 [00:00<00:00, 10.88it/s]\n",
      "Validating: 100%|██████████| 2/2 [00:00<00:00,  4.42it/s]\n"
     ]
    },
    {
     "name": "stdout",
     "output_type": "stream",
     "text": [
      "  Train Loss: 0.9354 | Train Acc: 0.6466\n",
      "  Val Loss:   1.6453 | Val Acc:   0.2745\n",
      "  Epoch Duration: 1.29 seconds\n",
      "\n",
      "--- Fold 3, Epoch 18/100 ---\n"
     ]
    },
    {
     "name": "stderr",
     "output_type": "stream",
     "text": [
      "Training: 100%|██████████| 9/9 [00:00<00:00, 10.87it/s]\n",
      "Validating: 100%|██████████| 2/2 [00:00<00:00,  4.42it/s]\n"
     ]
    },
    {
     "name": "stdout",
     "output_type": "stream",
     "text": [
      "  Train Loss: 0.7753 | Train Acc: 0.7420\n",
      "  Val Loss:   1.7673 | Val Acc:   0.2157\n",
      "  Epoch Duration: 1.29 seconds\n",
      "  Early stopping at epoch 18.\n",
      "\n",
      "--- Fold 3 Final Evaluation ---\n",
      "Loading best model for fold 3 (achieved 0.4314 on inner val set).\n"
     ]
    },
    {
     "name": "stderr",
     "output_type": "stream",
     "text": [
      "Validating: 100%|██████████| 6/6 [00:00<00:00,  9.87it/s]"
     ]
    },
    {
     "name": "stdout",
     "output_type": "stream",
     "text": [
      "Performance of best model on the OUTER TEST SET for fold 3: 0.2590\n",
      "\n",
      "============================== FINAL UNBIASED PERFORMANCE SUMMARY ==============================\n",
      "Unbiased test accuracies from each fold: ['0.4611', '0.5030', '0.2590']\n",
      "Average Test Accuracy from CV: 0.4077\n",
      "Standard Deviation of Test Accuracy from CV: 0.1065\n",
      "-> Estimated Generalization Performance: 0.4077 ± 0.1065\n",
      "\n",
      "Cross-validation finished.\n",
      "To view TensorBoard logs, run the following command in your terminal:\n",
      "tensorboard --logdir runs/O3_5-WReN-TRANSFER\n"
     ]
    },
    {
     "name": "stderr",
     "output_type": "stream",
     "text": [
      "\n"
     ]
    }
   ],
   "source": [
    "from sklearn.model_selection import train_test_split\n",
    "VAL_SPLIT_SIZE = 0.15\n",
    "\n",
    "MODEL_FOLDER_NAME = \"O3_5-WReN-TRANSFER\"\n",
    "\n",
    "# ==============================================================================\n",
    "# 2. DATASET & FOLD SETUP\n",
    "# ==============================================================================\n",
    "print(f\"Total data for cross-validation: {len(full_dataset)} samples.\")\n",
    "\n",
    "kfold = KFold(n_splits=N_SPLITS, shuffle=True, random_state=42)\n",
    "fold_test_results = []\n",
    "\n",
    "# ==============================================================================\n",
    "# 3. CROSS-VALIDATION LOOP\n",
    "# ==============================================================================\n",
    "for fold, (train_outer_idx, test_outer_idx) in enumerate(kfold.split(np.zeros(len(full_dataset)))):\n",
    "    print(f\"\\n{'='*30} OUTER FOLD {fold+1}/{N_SPLITS} {'='*30}\")\n",
    "\n",
    "    SAVED_MODELS_PATH = f\"./saved_models/{MODEL_FOLDER_NAME}/\"\n",
    "\n",
    "    if not os.path.exists(SAVED_MODELS_PATH):\n",
    "        os.makedirs(SAVED_MODELS_PATH)\n",
    "    writer = SummaryWriter(log_dir=f'runs/{MODEL_FOLDER_NAME}/fold_{fold+1}')\n",
    "\n",
    "    inner_train_idx, inner_val_idx = train_test_split(\n",
    "        train_outer_idx,\n",
    "        test_size=VAL_SPLIT_SIZE,\n",
    "        shuffle=True, # Shuffle before splitting\n",
    "        random_state=42\n",
    "    )\n",
    "\n",
    "    inner_train_subset = Subset(full_dataset, inner_train_idx)\n",
    "    inner_val_subset = Subset(full_dataset, inner_val_idx)\n",
    "    outer_test_subset = Subset(full_dataset, test_outer_idx)\n",
    "\n",
    "    train_loader = DataLoader(inner_train_subset, batch_size=BATCH_SIZE, shuffle=True, num_workers=4, pin_memory=True)\n",
    "    val_loader = DataLoader(inner_val_subset, batch_size=BATCH_SIZE, shuffle=False, num_workers=4, pin_memory=True)\n",
    "    test_loader = DataLoader(outer_test_subset, batch_size=BATCH_SIZE, shuffle=False, num_workers=4, pin_memory=True)\n",
    "\n",
    "    model = OddOneOutWReN(num_total_panels=5).to(DEVICE)\n",
    "\n",
    "    load_partial_state_dict(\n",
    "        model,\n",
    "        \"../I_RAVEN/saved_models/best_model_wren.pth\",\n",
    "    )\n",
    "\n",
    "    optimizer = torch.optim.Adam(\n",
    "        model.parameters(),\n",
    "        lr=LEARNING_RATE,\n",
    "        betas=(BETA_1, BETA_2),\n",
    "        eps=EPSILON\n",
    "    )\n",
    "    criterion = nn.CrossEntropyLoss()\n",
    "    scheduler = None\n",
    "    scaler = None\n",
    "\n",
    "\n",
    "    total_params = sum(p.numel() for p in model.parameters() if p.requires_grad)\n",
    "    print(f\"Fold {fold+1} Model has {total_params:,} trainable parameters.\")\n",
    "    print(f\"Fold {fold+1} Training on {len(inner_train_subset)}, Validating on {len(inner_val_subset)}, Testing on {len(outer_test_subset)}.\")\n",
    "\n",
    "    best_model_path = f\"{SAVED_MODELS_PATH}/best_model_fold_{fold+1}.pth\"\n",
    "    best_val_acc_fold = 0.0\n",
    "    epochs_without_improvement = 0\n",
    "\n",
    "    for epoch in range(1, EPOCHS + 1):\n",
    "        epoch_start_time = time.time()\n",
    "        \n",
    "        print(f\"\\n--- Fold {fold+1}, Epoch {epoch}/{EPOCHS} ---\")\n",
    "        train_loss, train_acc = train_epoch(model, train_loader, optimizer, criterion, DEVICE, scaler=scaler, scheduler=scheduler)\n",
    "        val_loss, val_acc = validate(model, val_loader, criterion, DEVICE)\n",
    "\n",
    "        epoch_duration = time.time() - epoch_start_time\n",
    "\n",
    "        print(f\"  Train Loss: {train_loss:.4f} | Train Acc: {train_acc:.4f}\")\n",
    "        print(f\"  Val Loss:   {val_loss:.4f} | Val Acc:   {val_acc:.4f}\")\n",
    "        print(f\"  Epoch Duration: {epoch_duration:.2f} seconds\")\n",
    "        \n",
    "        writer.add_scalar('Loss/train', train_loss, epoch)\n",
    "        writer.add_scalar('Accuracy/train', train_acc, epoch)\n",
    "        writer.add_scalar('Loss/val', val_loss, epoch)\n",
    "        writer.add_scalar('Accuracy/val', val_acc, epoch)\n",
    "        writer.add_scalar('Performance/seconds_per_epoch', epoch_duration, epoch)\n",
    "        writer.add_scalar('Learning_Rate', optimizer.param_groups[0]['lr'], epoch)\n",
    "\n",
    "        if val_acc > best_val_acc_fold:\n",
    "            best_val_acc_fold = val_acc\n",
    "            epochs_without_improvement = 0\n",
    "            torch.save(model.state_dict(), best_model_path)\n",
    "            print(f\"  -> New best inner validation accuracy: {best_val_acc_fold:.4f}. Model state saved.\")\n",
    "        else:\n",
    "            epochs_without_improvement += 1\n",
    "            if epochs_without_improvement >= PATIENCE:\n",
    "                print(f\"  Early stopping at epoch {epoch}.\")\n",
    "                break\n",
    "    \n",
    "    print(f\"\\n--- Fold {fold+1} Final Evaluation ---\")\n",
    "    print(f\"Loading best model for fold {fold+1} (achieved {best_val_acc_fold:.4f} on inner val set).\")\n",
    "    # Load the best model weights identified during the inner loop\n",
    "    model.load_state_dict(torch.load(best_model_path))\n",
    "    \n",
    "    # Evaluate this best model on the completely unseen outer test set\n",
    "    _, final_fold_test_acc = validate(model, test_loader, criterion, DEVICE)\n",
    "    print(f\"Performance of best model on the OUTER TEST SET for fold {fold+1}: {final_fold_test_acc:.4f}\")\n",
    "\n",
    "    fold_test_results.append(final_fold_test_acc)\n",
    "    writer.add_scalar('Accuracy/test', final_fold_test_acc)\n",
    "\n",
    "    hparams = { 'learning_rate': LEARNING_RATE, 'batch_size': BATCH_SIZE }\n",
    "    final_metrics = {\n",
    "        'hparam/test_accuracy': final_fold_test_acc,\n",
    "        'hparam/best_inner_val_accuracy': best_val_acc_fold\n",
    "    }\n",
    "    writer.add_hparams(hparams, final_metrics)\n",
    "    writer.close()\n",
    "\n",
    "# ==============================================================================\n",
    "# 4. AGGREGATE AND REPORT CV RESULTS\n",
    "# ==============================================================================\n",
    "mean_test_acc = np.mean(fold_test_results)\n",
    "std_test_acc = np.std(fold_test_results)\n",
    "\n",
    "print(f\"\\n{'='*30} FINAL UNBIASED PERFORMANCE SUMMARY {'='*30}\")\n",
    "print(f\"Unbiased test accuracies from each fold: {[f'{acc:.4f}' for acc in fold_test_results]}\")\n",
    "print(f\"Average Test Accuracy from CV: {mean_test_acc:.4f}\")\n",
    "print(f\"Standard Deviation of Test Accuracy from CV: {std_test_acc:.4f}\")\n",
    "print(f\"-> Estimated Generalization Performance: {mean_test_acc:.4f} \\u00B1 {std_test_acc:.4f}\")\n",
    "\n",
    "print(\"\\nCross-validation finished.\")\n",
    "print(\"To view TensorBoard logs, run the following command in your terminal:\")\n",
    "print(f\"tensorboard --logdir runs/{MODEL_FOLDER_NAME}\")"
   ]
  },
  {
   "cell_type": "markdown",
   "id": "64f370b9",
   "metadata": {},
   "source": [
    "# RADIO-1 to O3 TL"
   ]
  },
  {
   "cell_type": "code",
   "execution_count": 15,
   "id": "082e35ea",
   "metadata": {},
   "outputs": [
    {
     "name": "stdout",
     "output_type": "stream",
     "text": [
      "Total data for cross-validation: 500 samples.\n",
      "\n",
      "============================== OUTER FOLD 1/3 ==============================\n",
      "Loading pretrained weights from: ../RADIO/saved_models/RADIO1_WReN/deployable_model.pth\n",
      "\n",
      "--- Transfer Learning Report ---\n",
      "Successfully loaded 46 / 49 layers.\n",
      "\n",
      "Skipped 3 layers:\n",
      "  - mlp.fc3.weight (Shape Mismatch. Pretrained: torch.Size([13, 256]), Model: torch.Size([1, 256]))\n",
      "  - mlp.fc3.bias (Shape Mismatch. Pretrained: torch.Size([13]), Model: torch.Size([1]))\n",
      "  - proj.fc.weight (Shape Mismatch. Pretrained: torch.Size([256, 521]), Model: torch.Size([256, 517]))\n",
      "--------------------------------\n",
      "\n",
      "Fold 1 Model has 1,212,129 trainable parameters.\n",
      "Fold 1 Training on 283, Validating on 50, Testing on 167.\n",
      "\n",
      "--- Fold 1, Epoch 1/100 ---\n"
     ]
    },
    {
     "name": "stderr",
     "output_type": "stream",
     "text": [
      "Training: 100%|██████████| 9/9 [00:00<00:00, 11.00it/s]\n",
      "Validating: 100%|██████████| 2/2 [00:00<00:00,  4.47it/s]\n"
     ]
    },
    {
     "name": "stdout",
     "output_type": "stream",
     "text": [
      "  Train Loss: 1.6096 | Train Acc: 0.2085\n",
      "  Val Loss:   1.6094 | Val Acc:   0.2200\n",
      "  Epoch Duration: 1.27 seconds\n",
      "  -> New best inner validation accuracy: 0.2200. Model state saved.\n",
      "\n",
      "--- Fold 1, Epoch 2/100 ---\n"
     ]
    },
    {
     "name": "stderr",
     "output_type": "stream",
     "text": [
      "Training: 100%|██████████| 9/9 [00:00<00:00, 10.89it/s]\n",
      "Validating: 100%|██████████| 2/2 [00:00<00:00,  4.41it/s]\n"
     ]
    },
    {
     "name": "stdout",
     "output_type": "stream",
     "text": [
      "  Train Loss: 1.6110 | Train Acc: 0.1802\n",
      "  Val Loss:   1.6094 | Val Acc:   0.2800\n",
      "  Epoch Duration: 1.28 seconds\n",
      "  -> New best inner validation accuracy: 0.2800. Model state saved.\n",
      "\n",
      "--- Fold 1, Epoch 3/100 ---\n"
     ]
    },
    {
     "name": "stderr",
     "output_type": "stream",
     "text": [
      "Training: 100%|██████████| 9/9 [00:00<00:00, 10.83it/s]\n",
      "Validating: 100%|██████████| 2/2 [00:00<00:00,  4.43it/s]\n"
     ]
    },
    {
     "name": "stdout",
     "output_type": "stream",
     "text": [
      "  Train Loss: 1.6104 | Train Acc: 0.2014\n",
      "  Val Loss:   1.6094 | Val Acc:   0.3000\n",
      "  Epoch Duration: 1.29 seconds\n",
      "  -> New best inner validation accuracy: 0.3000. Model state saved.\n",
      "\n",
      "--- Fold 1, Epoch 4/100 ---\n"
     ]
    },
    {
     "name": "stderr",
     "output_type": "stream",
     "text": [
      "Training: 100%|██████████| 9/9 [00:00<00:00, 10.41it/s]\n",
      "Validating: 100%|██████████| 2/2 [00:00<00:00,  4.38it/s]\n"
     ]
    },
    {
     "name": "stdout",
     "output_type": "stream",
     "text": [
      "  Train Loss: 1.6099 | Train Acc: 0.2120\n",
      "  Val Loss:   1.6093 | Val Acc:   0.3400\n",
      "  Epoch Duration: 1.33 seconds\n",
      "  -> New best inner validation accuracy: 0.3400. Model state saved.\n",
      "\n",
      "--- Fold 1, Epoch 5/100 ---\n"
     ]
    },
    {
     "name": "stderr",
     "output_type": "stream",
     "text": [
      "Training: 100%|██████████| 9/9 [00:00<00:00, 10.75it/s]\n",
      "Validating: 100%|██████████| 2/2 [00:00<00:00,  4.42it/s]\n"
     ]
    },
    {
     "name": "stdout",
     "output_type": "stream",
     "text": [
      "  Train Loss: 1.6065 | Train Acc: 0.2403\n",
      "  Val Loss:   1.6094 | Val Acc:   0.2800\n",
      "  Epoch Duration: 1.30 seconds\n",
      "\n",
      "--- Fold 1, Epoch 6/100 ---\n"
     ]
    },
    {
     "name": "stderr",
     "output_type": "stream",
     "text": [
      "Training: 100%|██████████| 9/9 [00:00<00:00, 10.69it/s]\n",
      "Validating: 100%|██████████| 2/2 [00:00<00:00,  4.43it/s]\n"
     ]
    },
    {
     "name": "stdout",
     "output_type": "stream",
     "text": [
      "  Train Loss: 1.6078 | Train Acc: 0.2191\n",
      "  Val Loss:   1.6093 | Val Acc:   0.2600\n",
      "  Epoch Duration: 1.30 seconds\n",
      "\n",
      "--- Fold 1, Epoch 7/100 ---\n"
     ]
    },
    {
     "name": "stderr",
     "output_type": "stream",
     "text": [
      "Training: 100%|██████████| 9/9 [00:00<00:00, 10.78it/s]\n",
      "Validating: 100%|██████████| 2/2 [00:00<00:00,  4.47it/s]\n"
     ]
    },
    {
     "name": "stdout",
     "output_type": "stream",
     "text": [
      "  Train Loss: 1.6072 | Train Acc: 0.2721\n",
      "  Val Loss:   1.6071 | Val Acc:   0.3400\n",
      "  Epoch Duration: 1.29 seconds\n",
      "\n",
      "--- Fold 1, Epoch 8/100 ---\n"
     ]
    },
    {
     "name": "stderr",
     "output_type": "stream",
     "text": [
      "Training: 100%|██████████| 9/9 [00:00<00:00, 10.83it/s]\n",
      "Validating: 100%|██████████| 2/2 [00:00<00:00,  4.33it/s]\n"
     ]
    },
    {
     "name": "stdout",
     "output_type": "stream",
     "text": [
      "  Train Loss: 1.5971 | Train Acc: 0.3392\n",
      "  Val Loss:   1.5959 | Val Acc:   0.3000\n",
      "  Epoch Duration: 1.30 seconds\n",
      "\n",
      "--- Fold 1, Epoch 9/100 ---\n"
     ]
    },
    {
     "name": "stderr",
     "output_type": "stream",
     "text": [
      "Training: 100%|██████████| 9/9 [00:00<00:00, 10.54it/s]\n",
      "Validating: 100%|██████████| 2/2 [00:00<00:00,  4.37it/s]\n"
     ]
    },
    {
     "name": "stdout",
     "output_type": "stream",
     "text": [
      "  Train Loss: 1.5812 | Train Acc: 0.3640\n",
      "  Val Loss:   1.5669 | Val Acc:   0.3400\n",
      "  Epoch Duration: 1.32 seconds\n",
      "\n",
      "--- Fold 1, Epoch 10/100 ---\n"
     ]
    },
    {
     "name": "stderr",
     "output_type": "stream",
     "text": [
      "Training: 100%|██████████| 9/9 [00:00<00:00, 10.73it/s]\n",
      "Validating: 100%|██████████| 2/2 [00:00<00:00,  4.37it/s]\n"
     ]
    },
    {
     "name": "stdout",
     "output_type": "stream",
     "text": [
      "  Train Loss: 1.5495 | Train Acc: 0.3251\n",
      "  Val Loss:   1.5395 | Val Acc:   0.3400\n",
      "  Epoch Duration: 1.30 seconds\n",
      "\n",
      "--- Fold 1, Epoch 11/100 ---\n"
     ]
    },
    {
     "name": "stderr",
     "output_type": "stream",
     "text": [
      "Training: 100%|██████████| 9/9 [00:00<00:00, 10.84it/s]\n",
      "Validating: 100%|██████████| 2/2 [00:00<00:00,  4.43it/s]\n"
     ]
    },
    {
     "name": "stdout",
     "output_type": "stream",
     "text": [
      "  Train Loss: 1.4982 | Train Acc: 0.3428\n",
      "  Val Loss:   1.5158 | Val Acc:   0.3400\n",
      "  Epoch Duration: 1.29 seconds\n",
      "\n",
      "--- Fold 1, Epoch 12/100 ---\n"
     ]
    },
    {
     "name": "stderr",
     "output_type": "stream",
     "text": [
      "Training: 100%|██████████| 9/9 [00:00<00:00, 10.66it/s]\n",
      "Validating: 100%|██████████| 2/2 [00:00<00:00,  4.46it/s]\n"
     ]
    },
    {
     "name": "stdout",
     "output_type": "stream",
     "text": [
      "  Train Loss: 1.4292 | Train Acc: 0.3569\n",
      "  Val Loss:   1.4826 | Val Acc:   0.4400\n",
      "  Epoch Duration: 1.30 seconds\n",
      "  -> New best inner validation accuracy: 0.4400. Model state saved.\n",
      "\n",
      "--- Fold 1, Epoch 13/100 ---\n"
     ]
    },
    {
     "name": "stderr",
     "output_type": "stream",
     "text": [
      "Training: 100%|██████████| 9/9 [00:00<00:00, 10.90it/s]\n",
      "Validating: 100%|██████████| 2/2 [00:00<00:00,  4.42it/s]\n"
     ]
    },
    {
     "name": "stdout",
     "output_type": "stream",
     "text": [
      "  Train Loss: 1.3821 | Train Acc: 0.4382\n",
      "  Val Loss:   1.5058 | Val Acc:   0.3600\n",
      "  Epoch Duration: 1.28 seconds\n",
      "\n",
      "--- Fold 1, Epoch 14/100 ---\n"
     ]
    },
    {
     "name": "stderr",
     "output_type": "stream",
     "text": [
      "Training: 100%|██████████| 9/9 [00:00<00:00, 10.70it/s]\n",
      "Validating: 100%|██████████| 2/2 [00:00<00:00,  4.40it/s]\n"
     ]
    },
    {
     "name": "stdout",
     "output_type": "stream",
     "text": [
      "  Train Loss: 1.3518 | Train Acc: 0.4382\n",
      "  Val Loss:   1.5193 | Val Acc:   0.4400\n",
      "  Epoch Duration: 1.30 seconds\n",
      "\n",
      "--- Fold 1, Epoch 15/100 ---\n"
     ]
    },
    {
     "name": "stderr",
     "output_type": "stream",
     "text": [
      "Training: 100%|██████████| 9/9 [00:00<00:00, 10.69it/s]\n",
      "Validating: 100%|██████████| 2/2 [00:00<00:00,  4.49it/s]\n"
     ]
    },
    {
     "name": "stdout",
     "output_type": "stream",
     "text": [
      "  Train Loss: 1.3132 | Train Acc: 0.4876\n",
      "  Val Loss:   1.5453 | Val Acc:   0.2800\n",
      "  Epoch Duration: 1.29 seconds\n",
      "\n",
      "--- Fold 1, Epoch 16/100 ---\n"
     ]
    },
    {
     "name": "stderr",
     "output_type": "stream",
     "text": [
      "Training: 100%|██████████| 9/9 [00:00<00:00, 10.71it/s]\n",
      "Validating: 100%|██████████| 2/2 [00:00<00:00,  4.44it/s]\n"
     ]
    },
    {
     "name": "stdout",
     "output_type": "stream",
     "text": [
      "  Train Loss: 1.3727 | Train Acc: 0.4276\n",
      "  Val Loss:   1.5919 | Val Acc:   0.2800\n",
      "  Epoch Duration: 1.30 seconds\n",
      "\n",
      "--- Fold 1, Epoch 17/100 ---\n"
     ]
    },
    {
     "name": "stderr",
     "output_type": "stream",
     "text": [
      "Training: 100%|██████████| 9/9 [00:00<00:00, 10.86it/s]\n",
      "Validating: 100%|██████████| 2/2 [00:00<00:00,  4.38it/s]\n"
     ]
    },
    {
     "name": "stdout",
     "output_type": "stream",
     "text": [
      "  Train Loss: 1.2293 | Train Acc: 0.4876\n",
      "  Val Loss:   1.6111 | Val Acc:   0.3200\n",
      "  Epoch Duration: 1.29 seconds\n",
      "\n",
      "--- Fold 1, Epoch 18/100 ---\n"
     ]
    },
    {
     "name": "stderr",
     "output_type": "stream",
     "text": [
      "Training: 100%|██████████| 9/9 [00:00<00:00, 10.78it/s]\n",
      "Validating: 100%|██████████| 2/2 [00:00<00:00,  4.40it/s]\n"
     ]
    },
    {
     "name": "stdout",
     "output_type": "stream",
     "text": [
      "  Train Loss: 1.1353 | Train Acc: 0.5088\n",
      "  Val Loss:   1.6572 | Val Acc:   0.3400\n",
      "  Epoch Duration: 1.30 seconds\n",
      "\n",
      "--- Fold 1, Epoch 19/100 ---\n"
     ]
    },
    {
     "name": "stderr",
     "output_type": "stream",
     "text": [
      "Training: 100%|██████████| 9/9 [00:00<00:00, 10.66it/s]\n",
      "Validating: 100%|██████████| 2/2 [00:00<00:00,  4.39it/s]\n"
     ]
    },
    {
     "name": "stdout",
     "output_type": "stream",
     "text": [
      "  Train Loss: 1.0498 | Train Acc: 0.5300\n",
      "  Val Loss:   1.6119 | Val Acc:   0.3800\n",
      "  Epoch Duration: 1.31 seconds\n",
      "\n",
      "--- Fold 1, Epoch 20/100 ---\n"
     ]
    },
    {
     "name": "stderr",
     "output_type": "stream",
     "text": [
      "Training: 100%|██████████| 9/9 [00:00<00:00, 10.91it/s]\n",
      "Validating: 100%|██████████| 2/2 [00:00<00:00,  4.48it/s]\n"
     ]
    },
    {
     "name": "stdout",
     "output_type": "stream",
     "text": [
      "  Train Loss: 1.0526 | Train Acc: 0.5477\n",
      "  Val Loss:   1.5061 | Val Acc:   0.4800\n",
      "  Epoch Duration: 1.28 seconds\n",
      "  -> New best inner validation accuracy: 0.4800. Model state saved.\n",
      "\n",
      "--- Fold 1, Epoch 21/100 ---\n"
     ]
    },
    {
     "name": "stderr",
     "output_type": "stream",
     "text": [
      "Training: 100%|██████████| 9/9 [00:00<00:00, 10.77it/s]\n",
      "Validating: 100%|██████████| 2/2 [00:00<00:00,  4.45it/s]\n"
     ]
    },
    {
     "name": "stdout",
     "output_type": "stream",
     "text": [
      "  Train Loss: 0.9785 | Train Acc: 0.5583\n",
      "  Val Loss:   1.4681 | Val Acc:   0.5000\n",
      "  Epoch Duration: 1.29 seconds\n",
      "  -> New best inner validation accuracy: 0.5000. Model state saved.\n",
      "\n",
      "--- Fold 1, Epoch 22/100 ---\n"
     ]
    },
    {
     "name": "stderr",
     "output_type": "stream",
     "text": [
      "Training: 100%|██████████| 9/9 [00:00<00:00, 10.95it/s]\n",
      "Validating: 100%|██████████| 2/2 [00:00<00:00,  4.42it/s]\n"
     ]
    },
    {
     "name": "stdout",
     "output_type": "stream",
     "text": [
      "  Train Loss: 1.0074 | Train Acc: 0.5830\n",
      "  Val Loss:   1.5602 | Val Acc:   0.4600\n",
      "  Epoch Duration: 1.28 seconds\n",
      "\n",
      "--- Fold 1, Epoch 23/100 ---\n"
     ]
    },
    {
     "name": "stderr",
     "output_type": "stream",
     "text": [
      "Training: 100%|██████████| 9/9 [00:00<00:00, 10.69it/s]\n",
      "Validating: 100%|██████████| 2/2 [00:00<00:00,  4.39it/s]\n"
     ]
    },
    {
     "name": "stdout",
     "output_type": "stream",
     "text": [
      "  Train Loss: 1.0487 | Train Acc: 0.5512\n",
      "  Val Loss:   1.7017 | Val Acc:   0.4200\n",
      "  Epoch Duration: 1.30 seconds\n",
      "\n",
      "--- Fold 1, Epoch 24/100 ---\n"
     ]
    },
    {
     "name": "stderr",
     "output_type": "stream",
     "text": [
      "Training: 100%|██████████| 9/9 [00:00<00:00, 10.82it/s]\n",
      "Validating: 100%|██████████| 2/2 [00:00<00:00,  4.39it/s]\n"
     ]
    },
    {
     "name": "stdout",
     "output_type": "stream",
     "text": [
      "  Train Loss: 1.0354 | Train Acc: 0.5724\n",
      "  Val Loss:   1.7889 | Val Acc:   0.4200\n",
      "  Epoch Duration: 1.29 seconds\n",
      "\n",
      "--- Fold 1, Epoch 25/100 ---\n"
     ]
    },
    {
     "name": "stderr",
     "output_type": "stream",
     "text": [
      "Training: 100%|██████████| 9/9 [00:00<00:00, 10.73it/s]\n",
      "Validating: 100%|██████████| 2/2 [00:00<00:00,  4.49it/s]\n"
     ]
    },
    {
     "name": "stdout",
     "output_type": "stream",
     "text": [
      "  Train Loss: 1.0381 | Train Acc: 0.5760\n",
      "  Val Loss:   1.9981 | Val Acc:   0.3200\n",
      "  Epoch Duration: 1.29 seconds\n",
      "\n",
      "--- Fold 1, Epoch 26/100 ---\n"
     ]
    },
    {
     "name": "stderr",
     "output_type": "stream",
     "text": [
      "Training: 100%|██████████| 9/9 [00:00<00:00, 10.55it/s]\n",
      "Validating: 100%|██████████| 2/2 [00:00<00:00,  4.36it/s]\n"
     ]
    },
    {
     "name": "stdout",
     "output_type": "stream",
     "text": [
      "  Train Loss: 0.9572 | Train Acc: 0.6007\n",
      "  Val Loss:   2.2278 | Val Acc:   0.2800\n",
      "  Epoch Duration: 1.32 seconds\n",
      "\n",
      "--- Fold 1, Epoch 27/100 ---\n"
     ]
    },
    {
     "name": "stderr",
     "output_type": "stream",
     "text": [
      "Training: 100%|██████████| 9/9 [00:00<00:00, 10.82it/s]\n",
      "Validating: 100%|██████████| 2/2 [00:00<00:00,  4.50it/s]\n"
     ]
    },
    {
     "name": "stdout",
     "output_type": "stream",
     "text": [
      "  Train Loss: 0.8899 | Train Acc: 0.6360\n",
      "  Val Loss:   2.0159 | Val Acc:   0.3400\n",
      "  Epoch Duration: 1.28 seconds\n",
      "\n",
      "--- Fold 1, Epoch 28/100 ---\n"
     ]
    },
    {
     "name": "stderr",
     "output_type": "stream",
     "text": [
      "Training: 100%|██████████| 9/9 [00:00<00:00, 10.96it/s]\n",
      "Validating: 100%|██████████| 2/2 [00:00<00:00,  4.45it/s]\n"
     ]
    },
    {
     "name": "stdout",
     "output_type": "stream",
     "text": [
      "  Train Loss: 0.8949 | Train Acc: 0.6290\n",
      "  Val Loss:   1.6354 | Val Acc:   0.4400\n",
      "  Epoch Duration: 1.28 seconds\n",
      "\n",
      "--- Fold 1, Epoch 29/100 ---\n"
     ]
    },
    {
     "name": "stderr",
     "output_type": "stream",
     "text": [
      "Training: 100%|██████████| 9/9 [00:00<00:00, 10.78it/s]\n",
      "Validating: 100%|██████████| 2/2 [00:00<00:00,  4.37it/s]\n"
     ]
    },
    {
     "name": "stdout",
     "output_type": "stream",
     "text": [
      "  Train Loss: 0.8187 | Train Acc: 0.6608\n",
      "  Val Loss:   1.8249 | Val Acc:   0.3800\n",
      "  Epoch Duration: 1.30 seconds\n",
      "\n",
      "--- Fold 1, Epoch 30/100 ---\n"
     ]
    },
    {
     "name": "stderr",
     "output_type": "stream",
     "text": [
      "Training: 100%|██████████| 9/9 [00:00<00:00, 10.84it/s]\n",
      "Validating: 100%|██████████| 2/2 [00:00<00:00,  4.63it/s]\n"
     ]
    },
    {
     "name": "stdout",
     "output_type": "stream",
     "text": [
      "  Train Loss: 0.8045 | Train Acc: 0.6572\n",
      "  Val Loss:   1.6237 | Val Acc:   0.4400\n",
      "  Epoch Duration: 1.27 seconds\n",
      "\n",
      "--- Fold 1, Epoch 31/100 ---\n"
     ]
    },
    {
     "name": "stderr",
     "output_type": "stream",
     "text": [
      "Training: 100%|██████████| 9/9 [00:00<00:00, 11.00it/s]\n",
      "Validating: 100%|██████████| 2/2 [00:00<00:00,  4.45it/s]\n"
     ]
    },
    {
     "name": "stdout",
     "output_type": "stream",
     "text": [
      "  Train Loss: 0.7444 | Train Acc: 0.6926\n",
      "  Val Loss:   1.6796 | Val Acc:   0.4000\n",
      "  Epoch Duration: 1.27 seconds\n",
      "  Early stopping at epoch 31.\n",
      "\n",
      "--- Fold 1 Final Evaluation ---\n",
      "Loading best model for fold 1 (achieved 0.5000 on inner val set).\n"
     ]
    },
    {
     "name": "stderr",
     "output_type": "stream",
     "text": [
      "Validating: 100%|██████████| 6/6 [00:00<00:00, 10.07it/s]\n"
     ]
    },
    {
     "name": "stdout",
     "output_type": "stream",
     "text": [
      "Performance of best model on the OUTER TEST SET for fold 1: 0.3054\n",
      "\n",
      "============================== OUTER FOLD 2/3 ==============================\n",
      "Loading pretrained weights from: ../RADIO/saved_models/RADIO1_WReN/deployable_model.pth\n",
      "\n",
      "--- Transfer Learning Report ---\n",
      "Successfully loaded 46 / 49 layers.\n",
      "\n",
      "Skipped 3 layers:\n",
      "  - mlp.fc3.weight (Shape Mismatch. Pretrained: torch.Size([13, 256]), Model: torch.Size([1, 256]))\n",
      "  - mlp.fc3.bias (Shape Mismatch. Pretrained: torch.Size([13]), Model: torch.Size([1]))\n",
      "  - proj.fc.weight (Shape Mismatch. Pretrained: torch.Size([256, 521]), Model: torch.Size([256, 517]))\n",
      "--------------------------------\n",
      "\n",
      "Fold 2 Model has 1,212,129 trainable parameters.\n",
      "Fold 2 Training on 283, Validating on 50, Testing on 167.\n",
      "\n",
      "--- Fold 2, Epoch 1/100 ---\n"
     ]
    },
    {
     "name": "stderr",
     "output_type": "stream",
     "text": [
      "Training: 100%|██████████| 9/9 [00:00<00:00, 10.49it/s]\n",
      "Validating: 100%|██████████| 2/2 [00:00<00:00,  4.34it/s]\n"
     ]
    },
    {
     "name": "stdout",
     "output_type": "stream",
     "text": [
      "  Train Loss: 1.6083 | Train Acc: 0.2191\n",
      "  Val Loss:   1.6094 | Val Acc:   0.2400\n",
      "  Epoch Duration: 1.32 seconds\n",
      "  -> New best inner validation accuracy: 0.2400. Model state saved.\n",
      "\n",
      "--- Fold 2, Epoch 2/100 ---\n"
     ]
    },
    {
     "name": "stderr",
     "output_type": "stream",
     "text": [
      "Training: 100%|██████████| 9/9 [00:00<00:00, 10.57it/s]\n",
      "Validating: 100%|██████████| 2/2 [00:00<00:00,  4.44it/s]\n"
     ]
    },
    {
     "name": "stdout",
     "output_type": "stream",
     "text": [
      "  Train Loss: 1.6092 | Train Acc: 0.2438\n",
      "  Val Loss:   1.6096 | Val Acc:   0.1400\n",
      "  Epoch Duration: 1.31 seconds\n",
      "\n",
      "--- Fold 2, Epoch 3/100 ---\n"
     ]
    },
    {
     "name": "stderr",
     "output_type": "stream",
     "text": [
      "Training: 100%|██████████| 9/9 [00:00<00:00, 10.76it/s]\n",
      "Validating: 100%|██████████| 2/2 [00:00<00:00,  4.34it/s]\n"
     ]
    },
    {
     "name": "stdout",
     "output_type": "stream",
     "text": [
      "  Train Loss: 1.6007 | Train Acc: 0.2615\n",
      "  Val Loss:   1.6094 | Val Acc:   0.2600\n",
      "  Epoch Duration: 1.30 seconds\n",
      "  -> New best inner validation accuracy: 0.2600. Model state saved.\n",
      "\n",
      "--- Fold 2, Epoch 4/100 ---\n"
     ]
    },
    {
     "name": "stderr",
     "output_type": "stream",
     "text": [
      "Training: 100%|██████████| 9/9 [00:00<00:00, 10.90it/s]\n",
      "Validating: 100%|██████████| 2/2 [00:00<00:00,  4.34it/s]\n"
     ]
    },
    {
     "name": "stdout",
     "output_type": "stream",
     "text": [
      "  Train Loss: 1.5847 | Train Acc: 0.3145\n",
      "  Val Loss:   1.6069 | Val Acc:   0.4400\n",
      "  Epoch Duration: 1.29 seconds\n",
      "  -> New best inner validation accuracy: 0.4400. Model state saved.\n",
      "\n",
      "--- Fold 2, Epoch 5/100 ---\n"
     ]
    },
    {
     "name": "stderr",
     "output_type": "stream",
     "text": [
      "Training: 100%|██████████| 9/9 [00:00<00:00, 10.79it/s]\n",
      "Validating: 100%|██████████| 2/2 [00:00<00:00,  4.43it/s]\n"
     ]
    },
    {
     "name": "stdout",
     "output_type": "stream",
     "text": [
      "  Train Loss: 1.5255 | Train Acc: 0.3993\n",
      "  Val Loss:   1.5738 | Val Acc:   0.4800\n",
      "  Epoch Duration: 1.29 seconds\n",
      "  -> New best inner validation accuracy: 0.4800. Model state saved.\n",
      "\n",
      "--- Fold 2, Epoch 6/100 ---\n"
     ]
    },
    {
     "name": "stderr",
     "output_type": "stream",
     "text": [
      "Training: 100%|██████████| 9/9 [00:00<00:00, 10.90it/s]\n",
      "Validating: 100%|██████████| 2/2 [00:00<00:00,  4.56it/s]\n"
     ]
    },
    {
     "name": "stdout",
     "output_type": "stream",
     "text": [
      "  Train Loss: 1.4305 | Train Acc: 0.4700\n",
      "  Val Loss:   1.4676 | Val Acc:   0.5000\n",
      "  Epoch Duration: 1.27 seconds\n",
      "  -> New best inner validation accuracy: 0.5000. Model state saved.\n",
      "\n",
      "--- Fold 2, Epoch 7/100 ---\n"
     ]
    },
    {
     "name": "stderr",
     "output_type": "stream",
     "text": [
      "Training: 100%|██████████| 9/9 [00:00<00:00, 10.70it/s]\n",
      "Validating: 100%|██████████| 2/2 [00:00<00:00,  4.42it/s]\n"
     ]
    },
    {
     "name": "stdout",
     "output_type": "stream",
     "text": [
      "  Train Loss: 1.3251 | Train Acc: 0.5053\n",
      "  Val Loss:   1.3974 | Val Acc:   0.4600\n",
      "  Epoch Duration: 1.30 seconds\n",
      "\n",
      "--- Fold 2, Epoch 8/100 ---\n"
     ]
    },
    {
     "name": "stderr",
     "output_type": "stream",
     "text": [
      "Training: 100%|██████████| 9/9 [00:00<00:00, 10.45it/s]\n",
      "Validating: 100%|██████████| 2/2 [00:00<00:00,  4.60it/s]\n"
     ]
    },
    {
     "name": "stdout",
     "output_type": "stream",
     "text": [
      "  Train Loss: 1.3040 | Train Acc: 0.5194\n",
      "  Val Loss:   1.4389 | Val Acc:   0.4600\n",
      "  Epoch Duration: 1.30 seconds\n",
      "\n",
      "--- Fold 2, Epoch 9/100 ---\n"
     ]
    },
    {
     "name": "stderr",
     "output_type": "stream",
     "text": [
      "Training: 100%|██████████| 9/9 [00:00<00:00, 10.71it/s]\n",
      "Validating: 100%|██████████| 2/2 [00:00<00:00,  4.40it/s]\n"
     ]
    },
    {
     "name": "stdout",
     "output_type": "stream",
     "text": [
      "  Train Loss: 1.2374 | Train Acc: 0.5194\n",
      "  Val Loss:   1.3087 | Val Acc:   0.5200\n",
      "  Epoch Duration: 1.30 seconds\n",
      "  -> New best inner validation accuracy: 0.5200. Model state saved.\n",
      "\n",
      "--- Fold 2, Epoch 10/100 ---\n"
     ]
    },
    {
     "name": "stderr",
     "output_type": "stream",
     "text": [
      "Training: 100%|██████████| 9/9 [00:00<00:00, 10.85it/s]\n",
      "Validating: 100%|██████████| 2/2 [00:00<00:00,  4.37it/s]\n"
     ]
    },
    {
     "name": "stdout",
     "output_type": "stream",
     "text": [
      "  Train Loss: 1.1537 | Train Acc: 0.5512\n",
      "  Val Loss:   1.3935 | Val Acc:   0.5200\n",
      "  Epoch Duration: 1.29 seconds\n",
      "\n",
      "--- Fold 2, Epoch 11/100 ---\n"
     ]
    },
    {
     "name": "stderr",
     "output_type": "stream",
     "text": [
      "Training: 100%|██████████| 9/9 [00:00<00:00, 10.77it/s]\n",
      "Validating: 100%|██████████| 2/2 [00:00<00:00,  4.44it/s]\n"
     ]
    },
    {
     "name": "stdout",
     "output_type": "stream",
     "text": [
      "  Train Loss: 1.0227 | Train Acc: 0.6113\n",
      "  Val Loss:   1.6311 | Val Acc:   0.3400\n",
      "  Epoch Duration: 1.29 seconds\n",
      "\n",
      "--- Fold 2, Epoch 12/100 ---\n"
     ]
    },
    {
     "name": "stderr",
     "output_type": "stream",
     "text": [
      "Training: 100%|██████████| 9/9 [00:00<00:00, 10.41it/s]\n",
      "Validating: 100%|██████████| 2/2 [00:00<00:00,  4.61it/s]\n"
     ]
    },
    {
     "name": "stdout",
     "output_type": "stream",
     "text": [
      "  Train Loss: 0.9742 | Train Acc: 0.6254\n",
      "  Val Loss:   1.7055 | Val Acc:   0.3400\n",
      "  Epoch Duration: 1.30 seconds\n",
      "\n",
      "--- Fold 2, Epoch 13/100 ---\n"
     ]
    },
    {
     "name": "stderr",
     "output_type": "stream",
     "text": [
      "Training: 100%|██████████| 9/9 [00:00<00:00, 10.76it/s]\n",
      "Validating: 100%|██████████| 2/2 [00:00<00:00,  4.56it/s]\n"
     ]
    },
    {
     "name": "stdout",
     "output_type": "stream",
     "text": [
      "  Train Loss: 0.8467 | Train Acc: 0.6855\n",
      "  Val Loss:   1.7869 | Val Acc:   0.2000\n",
      "  Epoch Duration: 1.28 seconds\n",
      "\n",
      "--- Fold 2, Epoch 14/100 ---\n"
     ]
    },
    {
     "name": "stderr",
     "output_type": "stream",
     "text": [
      "Training: 100%|██████████| 9/9 [00:00<00:00, 10.94it/s]\n",
      "Validating: 100%|██████████| 2/2 [00:00<00:00,  4.54it/s]\n"
     ]
    },
    {
     "name": "stdout",
     "output_type": "stream",
     "text": [
      "  Train Loss: 0.7948 | Train Acc: 0.7244\n",
      "  Val Loss:   1.7548 | Val Acc:   0.2000\n",
      "  Epoch Duration: 1.27 seconds\n",
      "\n",
      "--- Fold 2, Epoch 15/100 ---\n"
     ]
    },
    {
     "name": "stderr",
     "output_type": "stream",
     "text": [
      "Training: 100%|██████████| 9/9 [00:00<00:00, 10.87it/s]\n",
      "Validating: 100%|██████████| 2/2 [00:00<00:00,  4.43it/s]\n"
     ]
    },
    {
     "name": "stdout",
     "output_type": "stream",
     "text": [
      "  Train Loss: 0.6760 | Train Acc: 0.7350\n",
      "  Val Loss:   1.5334 | Val Acc:   0.4600\n",
      "  Epoch Duration: 1.29 seconds\n",
      "\n",
      "--- Fold 2, Epoch 16/100 ---\n"
     ]
    },
    {
     "name": "stderr",
     "output_type": "stream",
     "text": [
      "Training: 100%|██████████| 9/9 [00:00<00:00, 10.50it/s]\n",
      "Validating: 100%|██████████| 2/2 [00:00<00:00,  4.41it/s]\n"
     ]
    },
    {
     "name": "stdout",
     "output_type": "stream",
     "text": [
      "  Train Loss: 0.6043 | Train Acc: 0.8163\n",
      "  Val Loss:   1.5773 | Val Acc:   0.4600\n",
      "  Epoch Duration: 1.32 seconds\n",
      "\n",
      "--- Fold 2, Epoch 17/100 ---\n"
     ]
    },
    {
     "name": "stderr",
     "output_type": "stream",
     "text": [
      "Training: 100%|██████████| 9/9 [00:00<00:00, 10.79it/s]\n",
      "Validating: 100%|██████████| 2/2 [00:00<00:00,  4.49it/s]\n"
     ]
    },
    {
     "name": "stdout",
     "output_type": "stream",
     "text": [
      "  Train Loss: 0.5151 | Train Acc: 0.8092\n",
      "  Val Loss:   1.8102 | Val Acc:   0.3000\n",
      "  Epoch Duration: 1.29 seconds\n",
      "\n",
      "--- Fold 2, Epoch 18/100 ---\n"
     ]
    },
    {
     "name": "stderr",
     "output_type": "stream",
     "text": [
      "Training: 100%|██████████| 9/9 [00:00<00:00, 10.76it/s]\n",
      "Validating: 100%|██████████| 2/2 [00:00<00:00,  4.39it/s]\n"
     ]
    },
    {
     "name": "stdout",
     "output_type": "stream",
     "text": [
      "  Train Loss: 0.6190 | Train Acc: 0.7703\n",
      "  Val Loss:   1.9523 | Val Acc:   0.4000\n",
      "  Epoch Duration: 1.30 seconds\n",
      "\n",
      "--- Fold 2, Epoch 19/100 ---\n"
     ]
    },
    {
     "name": "stderr",
     "output_type": "stream",
     "text": [
      "Training: 100%|██████████| 9/9 [00:00<00:00, 10.51it/s]\n",
      "Validating: 100%|██████████| 2/2 [00:00<00:00,  4.34it/s]\n"
     ]
    },
    {
     "name": "stdout",
     "output_type": "stream",
     "text": [
      "  Train Loss: 0.6041 | Train Acc: 0.7986\n",
      "  Val Loss:   2.1546 | Val Acc:   0.3800\n",
      "  Epoch Duration: 1.32 seconds\n",
      "  Early stopping at epoch 19.\n",
      "\n",
      "--- Fold 2 Final Evaluation ---\n",
      "Loading best model for fold 2 (achieved 0.5200 on inner val set).\n"
     ]
    },
    {
     "name": "stderr",
     "output_type": "stream",
     "text": [
      "Validating: 100%|██████████| 6/6 [00:00<00:00,  9.95it/s]\n"
     ]
    },
    {
     "name": "stdout",
     "output_type": "stream",
     "text": [
      "Performance of best model on the OUTER TEST SET for fold 2: 0.4311\n",
      "\n",
      "============================== OUTER FOLD 3/3 ==============================\n",
      "Loading pretrained weights from: ../RADIO/saved_models/RADIO1_WReN/deployable_model.pth\n",
      "\n",
      "--- Transfer Learning Report ---\n",
      "Successfully loaded 46 / 49 layers.\n",
      "\n",
      "Skipped 3 layers:\n",
      "  - mlp.fc3.weight (Shape Mismatch. Pretrained: torch.Size([13, 256]), Model: torch.Size([1, 256]))\n",
      "  - mlp.fc3.bias (Shape Mismatch. Pretrained: torch.Size([13]), Model: torch.Size([1]))\n",
      "  - proj.fc.weight (Shape Mismatch. Pretrained: torch.Size([256, 521]), Model: torch.Size([256, 517]))\n",
      "--------------------------------\n",
      "\n",
      "Fold 3 Model has 1,212,129 trainable parameters.\n",
      "Fold 3 Training on 283, Validating on 51, Testing on 166.\n",
      "\n",
      "--- Fold 3, Epoch 1/100 ---\n"
     ]
    },
    {
     "name": "stderr",
     "output_type": "stream",
     "text": [
      "Training: 100%|██████████| 9/9 [00:00<00:00, 10.78it/s]\n",
      "Validating: 100%|██████████| 2/2 [00:00<00:00,  4.39it/s]\n"
     ]
    },
    {
     "name": "stdout",
     "output_type": "stream",
     "text": [
      "  Train Loss: 1.6087 | Train Acc: 0.2297\n",
      "  Val Loss:   1.6095 | Val Acc:   0.1569\n",
      "  Epoch Duration: 1.30 seconds\n",
      "  -> New best inner validation accuracy: 0.1569. Model state saved.\n",
      "\n",
      "--- Fold 3, Epoch 2/100 ---\n"
     ]
    },
    {
     "name": "stderr",
     "output_type": "stream",
     "text": [
      "Training: 100%|██████████| 9/9 [00:00<00:00, 11.00it/s]\n",
      "Validating: 100%|██████████| 2/2 [00:00<00:00,  4.49it/s]\n"
     ]
    },
    {
     "name": "stdout",
     "output_type": "stream",
     "text": [
      "  Train Loss: 1.6074 | Train Acc: 0.2226\n",
      "  Val Loss:   1.6095 | Val Acc:   0.1569\n",
      "  Epoch Duration: 1.27 seconds\n",
      "\n",
      "--- Fold 3, Epoch 3/100 ---\n"
     ]
    },
    {
     "name": "stderr",
     "output_type": "stream",
     "text": [
      "Training: 100%|██████████| 9/9 [00:00<00:00, 10.83it/s]\n",
      "Validating: 100%|██████████| 2/2 [00:00<00:00,  4.42it/s]\n"
     ]
    },
    {
     "name": "stdout",
     "output_type": "stream",
     "text": [
      "  Train Loss: 1.6079 | Train Acc: 0.2261\n",
      "  Val Loss:   1.6094 | Val Acc:   0.1373\n",
      "  Epoch Duration: 1.29 seconds\n",
      "\n",
      "--- Fold 3, Epoch 4/100 ---\n"
     ]
    },
    {
     "name": "stderr",
     "output_type": "stream",
     "text": [
      "Training: 100%|██████████| 9/9 [00:00<00:00, 10.46it/s]\n",
      "Validating: 100%|██████████| 2/2 [00:00<00:00,  4.63it/s]\n"
     ]
    },
    {
     "name": "stdout",
     "output_type": "stream",
     "text": [
      "  Train Loss: 1.6111 | Train Acc: 0.2014\n",
      "  Val Loss:   1.6094 | Val Acc:   0.2745\n",
      "  Epoch Duration: 1.30 seconds\n",
      "  -> New best inner validation accuracy: 0.2745. Model state saved.\n",
      "\n",
      "--- Fold 3, Epoch 5/100 ---\n"
     ]
    },
    {
     "name": "stderr",
     "output_type": "stream",
     "text": [
      "Training: 100%|██████████| 9/9 [00:00<00:00, 10.79it/s]\n",
      "Validating: 100%|██████████| 2/2 [00:00<00:00,  4.43it/s]\n"
     ]
    },
    {
     "name": "stdout",
     "output_type": "stream",
     "text": [
      "  Train Loss: 1.6154 | Train Acc: 0.1484\n",
      "  Val Loss:   1.6093 | Val Acc:   0.2941\n",
      "  Epoch Duration: 1.29 seconds\n",
      "  -> New best inner validation accuracy: 0.2941. Model state saved.\n",
      "\n",
      "--- Fold 3, Epoch 6/100 ---\n"
     ]
    },
    {
     "name": "stderr",
     "output_type": "stream",
     "text": [
      "Training: 100%|██████████| 9/9 [00:00<00:00, 10.96it/s]\n",
      "Validating: 100%|██████████| 2/2 [00:00<00:00,  4.41it/s]\n"
     ]
    },
    {
     "name": "stdout",
     "output_type": "stream",
     "text": [
      "  Train Loss: 1.6092 | Train Acc: 0.1908\n",
      "  Val Loss:   1.6088 | Val Acc:   0.3333\n",
      "  Epoch Duration: 1.28 seconds\n",
      "  -> New best inner validation accuracy: 0.3333. Model state saved.\n",
      "\n",
      "--- Fold 3, Epoch 7/100 ---\n"
     ]
    },
    {
     "name": "stderr",
     "output_type": "stream",
     "text": [
      "Training: 100%|██████████| 9/9 [00:00<00:00, 10.77it/s]\n",
      "Validating: 100%|██████████| 2/2 [00:00<00:00,  4.26it/s]\n"
     ]
    },
    {
     "name": "stdout",
     "output_type": "stream",
     "text": [
      "  Train Loss: 1.6047 | Train Acc: 0.2792\n",
      "  Val Loss:   1.6068 | Val Acc:   0.3333\n",
      "  Epoch Duration: 1.31 seconds\n",
      "\n",
      "--- Fold 3, Epoch 8/100 ---\n"
     ]
    },
    {
     "name": "stderr",
     "output_type": "stream",
     "text": [
      "Training: 100%|██████████| 9/9 [00:00<00:00, 10.52it/s]\n",
      "Validating: 100%|██████████| 2/2 [00:00<00:00,  4.37it/s]\n"
     ]
    },
    {
     "name": "stdout",
     "output_type": "stream",
     "text": [
      "  Train Loss: 1.6009 | Train Acc: 0.3004\n",
      "  Val Loss:   1.6011 | Val Acc:   0.3725\n",
      "  Epoch Duration: 1.32 seconds\n",
      "  -> New best inner validation accuracy: 0.3725. Model state saved.\n",
      "\n",
      "--- Fold 3, Epoch 9/100 ---\n"
     ]
    },
    {
     "name": "stderr",
     "output_type": "stream",
     "text": [
      "Training: 100%|██████████| 9/9 [00:00<00:00, 10.50it/s]\n",
      "Validating: 100%|██████████| 2/2 [00:00<00:00,  4.45it/s]\n"
     ]
    },
    {
     "name": "stdout",
     "output_type": "stream",
     "text": [
      "  Train Loss: 1.5998 | Train Acc: 0.2509\n",
      "  Val Loss:   1.5889 | Val Acc:   0.3725\n",
      "  Epoch Duration: 1.31 seconds\n",
      "\n",
      "--- Fold 3, Epoch 10/100 ---\n"
     ]
    },
    {
     "name": "stderr",
     "output_type": "stream",
     "text": [
      "Training: 100%|██████████| 9/9 [00:00<00:00, 10.71it/s]\n",
      "Validating: 100%|██████████| 2/2 [00:00<00:00,  4.50it/s]\n"
     ]
    },
    {
     "name": "stdout",
     "output_type": "stream",
     "text": [
      "  Train Loss: 1.5718 | Train Acc: 0.3357\n",
      "  Val Loss:   1.5583 | Val Acc:   0.4118\n",
      "  Epoch Duration: 1.29 seconds\n",
      "  -> New best inner validation accuracy: 0.4118. Model state saved.\n",
      "\n",
      "--- Fold 3, Epoch 11/100 ---\n"
     ]
    },
    {
     "name": "stderr",
     "output_type": "stream",
     "text": [
      "Training: 100%|██████████| 9/9 [00:00<00:00, 11.03it/s]\n",
      "Validating: 100%|██████████| 2/2 [00:00<00:00,  4.44it/s]\n"
     ]
    },
    {
     "name": "stdout",
     "output_type": "stream",
     "text": [
      "  Train Loss: 1.5375 | Train Acc: 0.3922\n",
      "  Val Loss:   1.5050 | Val Acc:   0.4314\n",
      "  Epoch Duration: 1.27 seconds\n",
      "  -> New best inner validation accuracy: 0.4314. Model state saved.\n",
      "\n",
      "--- Fold 3, Epoch 12/100 ---\n"
     ]
    },
    {
     "name": "stderr",
     "output_type": "stream",
     "text": [
      "Training: 100%|██████████| 9/9 [00:00<00:00, 10.80it/s]\n",
      "Validating: 100%|██████████| 2/2 [00:00<00:00,  4.55it/s]\n"
     ]
    },
    {
     "name": "stdout",
     "output_type": "stream",
     "text": [
      "  Train Loss: 1.4436 | Train Acc: 0.4099\n",
      "  Val Loss:   1.5588 | Val Acc:   0.3137\n",
      "  Epoch Duration: 1.28 seconds\n",
      "\n",
      "--- Fold 3, Epoch 13/100 ---\n"
     ]
    },
    {
     "name": "stderr",
     "output_type": "stream",
     "text": [
      "Training: 100%|██████████| 9/9 [00:00<00:00, 10.77it/s]\n",
      "Validating: 100%|██████████| 2/2 [00:00<00:00,  4.39it/s]\n"
     ]
    },
    {
     "name": "stdout",
     "output_type": "stream",
     "text": [
      "  Train Loss: 1.3623 | Train Acc: 0.4488\n",
      "  Val Loss:   1.7604 | Val Acc:   0.2549\n",
      "  Epoch Duration: 1.30 seconds\n",
      "\n",
      "--- Fold 3, Epoch 14/100 ---\n"
     ]
    },
    {
     "name": "stderr",
     "output_type": "stream",
     "text": [
      "Training: 100%|██████████| 9/9 [00:00<00:00, 10.71it/s]\n",
      "Validating: 100%|██████████| 2/2 [00:00<00:00,  4.41it/s]\n"
     ]
    },
    {
     "name": "stdout",
     "output_type": "stream",
     "text": [
      "  Train Loss: 1.2305 | Train Acc: 0.5300\n",
      "  Val Loss:   1.5858 | Val Acc:   0.3137\n",
      "  Epoch Duration: 1.30 seconds\n",
      "\n",
      "--- Fold 3, Epoch 15/100 ---\n"
     ]
    },
    {
     "name": "stderr",
     "output_type": "stream",
     "text": [
      "Training: 100%|██████████| 9/9 [00:00<00:00, 10.98it/s]\n",
      "Validating: 100%|██████████| 2/2 [00:00<00:00,  4.39it/s]\n"
     ]
    },
    {
     "name": "stdout",
     "output_type": "stream",
     "text": [
      "  Train Loss: 1.1028 | Train Acc: 0.5830\n",
      "  Val Loss:   2.0225 | Val Acc:   0.2353\n",
      "  Epoch Duration: 1.28 seconds\n",
      "\n",
      "--- Fold 3, Epoch 16/100 ---\n"
     ]
    },
    {
     "name": "stderr",
     "output_type": "stream",
     "text": [
      "Training: 100%|██████████| 9/9 [00:00<00:00, 10.62it/s]\n",
      "Validating: 100%|██████████| 2/2 [00:00<00:00,  4.50it/s]\n"
     ]
    },
    {
     "name": "stdout",
     "output_type": "stream",
     "text": [
      "  Train Loss: 1.0171 | Train Acc: 0.6325\n",
      "  Val Loss:   1.4581 | Val Acc:   0.3725\n",
      "  Epoch Duration: 1.30 seconds\n",
      "\n",
      "--- Fold 3, Epoch 17/100 ---\n"
     ]
    },
    {
     "name": "stderr",
     "output_type": "stream",
     "text": [
      "Training: 100%|██████████| 9/9 [00:00<00:00, 10.71it/s]\n",
      "Validating: 100%|██████████| 2/2 [00:00<00:00,  4.41it/s]\n"
     ]
    },
    {
     "name": "stdout",
     "output_type": "stream",
     "text": [
      "  Train Loss: 0.8837 | Train Acc: 0.6678\n",
      "  Val Loss:   2.0531 | Val Acc:   0.2745\n",
      "  Epoch Duration: 1.30 seconds\n",
      "\n",
      "--- Fold 3, Epoch 18/100 ---\n"
     ]
    },
    {
     "name": "stderr",
     "output_type": "stream",
     "text": [
      "Training: 100%|██████████| 9/9 [00:00<00:00, 10.61it/s]\n",
      "Validating: 100%|██████████| 2/2 [00:00<00:00,  4.47it/s]\n"
     ]
    },
    {
     "name": "stdout",
     "output_type": "stream",
     "text": [
      "  Train Loss: 0.8332 | Train Acc: 0.6714\n",
      "  Val Loss:   2.0208 | Val Acc:   0.2549\n",
      "  Epoch Duration: 1.30 seconds\n",
      "\n",
      "--- Fold 3, Epoch 19/100 ---\n"
     ]
    },
    {
     "name": "stderr",
     "output_type": "stream",
     "text": [
      "Training: 100%|██████████| 9/9 [00:00<00:00, 11.10it/s]\n",
      "Validating: 100%|██████████| 2/2 [00:00<00:00,  4.62it/s]\n"
     ]
    },
    {
     "name": "stdout",
     "output_type": "stream",
     "text": [
      "  Train Loss: 0.7335 | Train Acc: 0.7244\n",
      "  Val Loss:   2.4560 | Val Acc:   0.2157\n",
      "  Epoch Duration: 1.25 seconds\n",
      "\n",
      "--- Fold 3, Epoch 20/100 ---\n"
     ]
    },
    {
     "name": "stderr",
     "output_type": "stream",
     "text": [
      "Training: 100%|██████████| 9/9 [00:00<00:00, 10.91it/s]\n",
      "Validating: 100%|██████████| 2/2 [00:00<00:00,  4.49it/s]\n"
     ]
    },
    {
     "name": "stdout",
     "output_type": "stream",
     "text": [
      "  Train Loss: 0.7058 | Train Acc: 0.7668\n",
      "  Val Loss:   2.5892 | Val Acc:   0.1765\n",
      "  Epoch Duration: 1.28 seconds\n",
      "\n",
      "--- Fold 3, Epoch 21/100 ---\n"
     ]
    },
    {
     "name": "stderr",
     "output_type": "stream",
     "text": [
      "Training: 100%|██████████| 9/9 [00:00<00:00, 10.53it/s]\n",
      "Validating: 100%|██████████| 2/2 [00:00<00:00,  4.57it/s]\n"
     ]
    },
    {
     "name": "stdout",
     "output_type": "stream",
     "text": [
      "  Train Loss: 0.5344 | Train Acc: 0.7986\n",
      "  Val Loss:   1.8748 | Val Acc:   0.2745\n",
      "  Epoch Duration: 1.30 seconds\n",
      "  Early stopping at epoch 21.\n",
      "\n",
      "--- Fold 3 Final Evaluation ---\n",
      "Loading best model for fold 3 (achieved 0.4314 on inner val set).\n"
     ]
    },
    {
     "name": "stderr",
     "output_type": "stream",
     "text": [
      "Validating: 100%|██████████| 6/6 [00:00<00:00, 10.18it/s]"
     ]
    },
    {
     "name": "stdout",
     "output_type": "stream",
     "text": [
      "Performance of best model on the OUTER TEST SET for fold 3: 0.4096\n",
      "\n",
      "============================== FINAL UNBIASED PERFORMANCE SUMMARY ==============================\n",
      "Unbiased test accuracies from each fold: ['0.3054', '0.4311', '0.4096']\n",
      "Average Test Accuracy from CV: 0.3821\n",
      "Standard Deviation of Test Accuracy from CV: 0.0549\n",
      "-> Estimated Generalization Performance: 0.3821 ± 0.0549\n",
      "\n",
      "Cross-validation finished.\n",
      "To view TensorBoard logs, run the following command in your terminal:\n",
      "tensorboard --logdir runs/O3_5-WReN-TRANSFER_RADIO\n"
     ]
    },
    {
     "name": "stderr",
     "output_type": "stream",
     "text": [
      "\n"
     ]
    }
   ],
   "source": [
    "from sklearn.model_selection import train_test_split\n",
    "VAL_SPLIT_SIZE = 0.15\n",
    "\n",
    "MODEL_FOLDER_NAME = \"O3_5-WReN-TRANSFER_RADIO\"\n",
    "\n",
    "# ==============================================================================\n",
    "# 2. DATASET & FOLD SETUP\n",
    "# ==============================================================================\n",
    "print(f\"Total data for cross-validation: {len(full_dataset)} samples.\")\n",
    "\n",
    "kfold = KFold(n_splits=N_SPLITS, shuffle=True, random_state=42)\n",
    "fold_test_results = []\n",
    "\n",
    "# ==============================================================================\n",
    "# 3. CROSS-VALIDATION LOOP\n",
    "# ==============================================================================\n",
    "for fold, (train_outer_idx, test_outer_idx) in enumerate(kfold.split(np.zeros(len(full_dataset)))):\n",
    "    print(f\"\\n{'='*30} OUTER FOLD {fold+1}/{N_SPLITS} {'='*30}\")\n",
    "    \n",
    "    SAVED_MODELS_PATH = f\"./saved_models/{MODEL_FOLDER_NAME}/\"\n",
    "\n",
    "    if not os.path.exists(SAVED_MODELS_PATH):\n",
    "        os.makedirs(SAVED_MODELS_PATH)\n",
    "    writer = SummaryWriter(log_dir=f'runs/{MODEL_FOLDER_NAME}/fold_{fold+1}')\n",
    "\n",
    "    inner_train_idx, inner_val_idx = train_test_split(\n",
    "        train_outer_idx,\n",
    "        test_size=VAL_SPLIT_SIZE,\n",
    "        shuffle=True, # Shuffle before splitting\n",
    "        random_state=42\n",
    "    )\n",
    "\n",
    "    inner_train_subset = Subset(full_dataset, inner_train_idx)\n",
    "    inner_val_subset = Subset(full_dataset, inner_val_idx)\n",
    "    outer_test_subset = Subset(full_dataset, test_outer_idx)\n",
    "\n",
    "    train_loader = DataLoader(inner_train_subset, batch_size=BATCH_SIZE, shuffle=True, num_workers=4, pin_memory=True)\n",
    "    val_loader = DataLoader(inner_val_subset, batch_size=BATCH_SIZE, shuffle=False, num_workers=4, pin_memory=True)\n",
    "    test_loader = DataLoader(outer_test_subset, batch_size=BATCH_SIZE, shuffle=False, num_workers=4, pin_memory=True)\n",
    "\n",
    "    model = OddOneOutWReN(num_total_panels=5).to(DEVICE)\n",
    "\n",
    "    load_partial_state_dict(\n",
    "        model,\n",
    "        \"../RADIO/saved_models/RADIO1_WReN/deployable_model.pth\",\n",
    "    )\n",
    "\n",
    "    optimizer = torch.optim.Adam(\n",
    "        model.parameters(),\n",
    "        lr=LEARNING_RATE,\n",
    "        betas=(BETA_1, BETA_2),\n",
    "        eps=EPSILON\n",
    "    )\n",
    "    criterion = nn.CrossEntropyLoss()\n",
    "    scheduler = None\n",
    "    scaler = None\n",
    "\n",
    "\n",
    "    total_params = sum(p.numel() for p in model.parameters() if p.requires_grad)\n",
    "    print(f\"Fold {fold+1} Model has {total_params:,} trainable parameters.\")\n",
    "    print(f\"Fold {fold+1} Training on {len(inner_train_subset)}, Validating on {len(inner_val_subset)}, Testing on {len(outer_test_subset)}.\")\n",
    "\n",
    "    best_model_path = f\"{SAVED_MODELS_PATH}/best_model_fold_{fold+1}.pth\"\n",
    "    best_val_acc_fold = 0.0\n",
    "    epochs_without_improvement = 0\n",
    "\n",
    "    for epoch in range(1, EPOCHS + 1):\n",
    "        epoch_start_time = time.time()\n",
    "        \n",
    "        print(f\"\\n--- Fold {fold+1}, Epoch {epoch}/{EPOCHS} ---\")\n",
    "        train_loss, train_acc = train_epoch(model, train_loader, optimizer, criterion, DEVICE, scaler=scaler, scheduler=scheduler)\n",
    "        val_loss, val_acc = validate(model, val_loader, criterion, DEVICE)\n",
    "\n",
    "        epoch_duration = time.time() - epoch_start_time\n",
    "\n",
    "        print(f\"  Train Loss: {train_loss:.4f} | Train Acc: {train_acc:.4f}\")\n",
    "        print(f\"  Val Loss:   {val_loss:.4f} | Val Acc:   {val_acc:.4f}\")\n",
    "        print(f\"  Epoch Duration: {epoch_duration:.2f} seconds\")\n",
    "        \n",
    "        writer.add_scalar('Loss/train', train_loss, epoch)\n",
    "        writer.add_scalar('Accuracy/train', train_acc, epoch)\n",
    "        writer.add_scalar('Loss/val', val_loss, epoch)\n",
    "        writer.add_scalar('Accuracy/val', val_acc, epoch)\n",
    "        writer.add_scalar('Performance/seconds_per_epoch', epoch_duration, epoch)\n",
    "        writer.add_scalar('Learning_Rate', optimizer.param_groups[0]['lr'], epoch)\n",
    "\n",
    "        if val_acc > best_val_acc_fold:\n",
    "            best_val_acc_fold = val_acc\n",
    "            epochs_without_improvement = 0\n",
    "            torch.save(model.state_dict(), best_model_path)\n",
    "            print(f\"  -> New best inner validation accuracy: {best_val_acc_fold:.4f}. Model state saved.\")\n",
    "        else:\n",
    "            epochs_without_improvement += 1\n",
    "            if epochs_without_improvement >= PATIENCE:\n",
    "                print(f\"  Early stopping at epoch {epoch}.\")\n",
    "                break\n",
    "    \n",
    "    print(f\"\\n--- Fold {fold+1} Final Evaluation ---\")\n",
    "    print(f\"Loading best model for fold {fold+1} (achieved {best_val_acc_fold:.4f} on inner val set).\")\n",
    "    # Load the best model weights identified during the inner loop\n",
    "    model.load_state_dict(torch.load(best_model_path))\n",
    "    \n",
    "    # Evaluate this best model on the completely unseen outer test set\n",
    "    _, final_fold_test_acc = validate(model, test_loader, criterion, DEVICE)\n",
    "    print(f\"Performance of best model on the OUTER TEST SET for fold {fold+1}: {final_fold_test_acc:.4f}\")\n",
    "\n",
    "    fold_test_results.append(final_fold_test_acc)\n",
    "    writer.add_scalar('Accuracy/test', final_fold_test_acc)\n",
    "\n",
    "    hparams = { 'learning_rate': LEARNING_RATE, 'batch_size': BATCH_SIZE }\n",
    "    final_metrics = {\n",
    "        'hparam/test_accuracy': final_fold_test_acc,\n",
    "        'hparam/best_inner_val_accuracy': best_val_acc_fold\n",
    "    }\n",
    "    writer.add_hparams(hparams, final_metrics)\n",
    "    writer.close()\n",
    "\n",
    "# ==============================================================================\n",
    "# 4. AGGREGATE AND REPORT CV RESULTS\n",
    "# ==============================================================================\n",
    "mean_test_acc = np.mean(fold_test_results)\n",
    "std_test_acc = np.std(fold_test_results)\n",
    "\n",
    "print(f\"\\n{'='*30} FINAL UNBIASED PERFORMANCE SUMMARY {'='*30}\")\n",
    "print(f\"Unbiased test accuracies from each fold: {[f'{acc:.4f}' for acc in fold_test_results]}\")\n",
    "print(f\"Average Test Accuracy from CV: {mean_test_acc:.4f}\")\n",
    "print(f\"Standard Deviation of Test Accuracy from CV: {std_test_acc:.4f}\")\n",
    "print(f\"-> Estimated Generalization Performance: {mean_test_acc:.4f} \\u00B1 {std_test_acc:.4f}\")\n",
    "\n",
    "print(\"\\nCross-validation finished.\")\n",
    "print(\"To view TensorBoard logs, run the following command in your terminal:\")\n",
    "print(f\"tensorboard --logdir runs/{MODEL_FOLDER_NAME}\")"
   ]
  },
  {
   "cell_type": "markdown",
   "id": "39a70cd5",
   "metadata": {},
   "source": [
    "# RADIO-2 to O3 TL"
   ]
  },
  {
   "cell_type": "code",
   "execution_count": 16,
   "id": "18561326",
   "metadata": {},
   "outputs": [
    {
     "name": "stdout",
     "output_type": "stream",
     "text": [
      "Total data for cross-validation: 500 samples.\n",
      "\n",
      "============================== OUTER FOLD 1/3 ==============================\n",
      "Loading pretrained weights from: ../RADIO/saved_models/RADIO2_WReN/deployable_model.pth\n",
      "\n",
      "--- Transfer Learning Report ---\n",
      "Successfully loaded 46 / 49 layers.\n",
      "\n",
      "Skipped 3 layers:\n",
      "  - mlp.fc3.weight (Shape Mismatch. Pretrained: torch.Size([13, 256]), Model: torch.Size([1, 256]))\n",
      "  - mlp.fc3.bias (Shape Mismatch. Pretrained: torch.Size([13]), Model: torch.Size([1]))\n",
      "  - proj.fc.weight (Shape Mismatch. Pretrained: torch.Size([256, 521]), Model: torch.Size([256, 517]))\n",
      "--------------------------------\n",
      "\n",
      "Fold 1 Model has 1,212,129 trainable parameters.\n",
      "Fold 1 Training on 283, Validating on 50, Testing on 167.\n",
      "\n",
      "--- Fold 1, Epoch 1/100 ---\n"
     ]
    },
    {
     "name": "stderr",
     "output_type": "stream",
     "text": [
      "Training: 100%|██████████| 9/9 [00:00<00:00, 10.94it/s]\n",
      "Validating: 100%|██████████| 2/2 [00:00<00:00,  4.48it/s]\n"
     ]
    },
    {
     "name": "stdout",
     "output_type": "stream",
     "text": [
      "  Train Loss: 1.9440 | Train Acc: 0.2155\n",
      "  Val Loss:   1.6095 | Val Acc:   0.2400\n",
      "  Epoch Duration: 1.28 seconds\n",
      "  -> New best inner validation accuracy: 0.2400. Model state saved.\n",
      "\n",
      "--- Fold 1, Epoch 2/100 ---\n"
     ]
    },
    {
     "name": "stderr",
     "output_type": "stream",
     "text": [
      "Training: 100%|██████████| 9/9 [00:00<00:00, 10.74it/s]\n",
      "Validating: 100%|██████████| 2/2 [00:00<00:00,  4.44it/s]\n"
     ]
    },
    {
     "name": "stdout",
     "output_type": "stream",
     "text": [
      "  Train Loss: 1.6912 | Train Acc: 0.1979\n",
      "  Val Loss:   1.6095 | Val Acc:   0.1600\n",
      "  Epoch Duration: 1.29 seconds\n",
      "\n",
      "--- Fold 1, Epoch 3/100 ---\n"
     ]
    },
    {
     "name": "stderr",
     "output_type": "stream",
     "text": [
      "Training: 100%|██████████| 9/9 [00:00<00:00, 10.82it/s]\n",
      "Validating: 100%|██████████| 2/2 [00:00<00:00,  4.45it/s]\n"
     ]
    },
    {
     "name": "stdout",
     "output_type": "stream",
     "text": [
      "  Train Loss: 1.6162 | Train Acc: 0.1908\n",
      "  Val Loss:   1.6094 | Val Acc:   0.1800\n",
      "  Epoch Duration: 1.29 seconds\n",
      "\n",
      "--- Fold 1, Epoch 4/100 ---\n"
     ]
    },
    {
     "name": "stderr",
     "output_type": "stream",
     "text": [
      "Training: 100%|██████████| 9/9 [00:00<00:00, 10.93it/s]\n",
      "Validating: 100%|██████████| 2/2 [00:00<00:00,  4.44it/s]\n"
     ]
    },
    {
     "name": "stdout",
     "output_type": "stream",
     "text": [
      "  Train Loss: 1.6008 | Train Acc: 0.2473\n",
      "  Val Loss:   1.6092 | Val Acc:   0.3000\n",
      "  Epoch Duration: 1.28 seconds\n",
      "  -> New best inner validation accuracy: 0.3000. Model state saved.\n",
      "\n",
      "--- Fold 1, Epoch 5/100 ---\n"
     ]
    },
    {
     "name": "stderr",
     "output_type": "stream",
     "text": [
      "Training: 100%|██████████| 9/9 [00:00<00:00, 10.74it/s]\n",
      "Validating: 100%|██████████| 2/2 [00:00<00:00,  4.47it/s]\n"
     ]
    },
    {
     "name": "stdout",
     "output_type": "stream",
     "text": [
      "  Train Loss: 1.6005 | Train Acc: 0.2756\n",
      "  Val Loss:   1.6093 | Val Acc:   0.3000\n",
      "  Epoch Duration: 1.29 seconds\n",
      "\n",
      "--- Fold 1, Epoch 6/100 ---\n"
     ]
    },
    {
     "name": "stderr",
     "output_type": "stream",
     "text": [
      "Training: 100%|██████████| 9/9 [00:00<00:00, 10.85it/s]\n",
      "Validating: 100%|██████████| 2/2 [00:00<00:00,  4.49it/s]\n"
     ]
    },
    {
     "name": "stdout",
     "output_type": "stream",
     "text": [
      "  Train Loss: 1.6002 | Train Acc: 0.2580\n",
      "  Val Loss:   1.6089 | Val Acc:   0.3200\n",
      "  Epoch Duration: 1.28 seconds\n",
      "  -> New best inner validation accuracy: 0.3200. Model state saved.\n",
      "\n",
      "--- Fold 1, Epoch 7/100 ---\n"
     ]
    },
    {
     "name": "stderr",
     "output_type": "stream",
     "text": [
      "Training: 100%|██████████| 9/9 [00:00<00:00, 10.65it/s]\n",
      "Validating: 100%|██████████| 2/2 [00:00<00:00,  4.41it/s]\n"
     ]
    },
    {
     "name": "stdout",
     "output_type": "stream",
     "text": [
      "  Train Loss: 1.5961 | Train Acc: 0.2580\n",
      "  Val Loss:   1.6089 | Val Acc:   0.3600\n",
      "  Epoch Duration: 1.30 seconds\n",
      "  -> New best inner validation accuracy: 0.3600. Model state saved.\n",
      "\n",
      "--- Fold 1, Epoch 8/100 ---\n"
     ]
    },
    {
     "name": "stderr",
     "output_type": "stream",
     "text": [
      "Training: 100%|██████████| 9/9 [00:00<00:00, 10.51it/s]\n",
      "Validating: 100%|██████████| 2/2 [00:00<00:00,  4.37it/s]\n"
     ]
    },
    {
     "name": "stdout",
     "output_type": "stream",
     "text": [
      "  Train Loss: 1.5913 | Train Acc: 0.3004\n",
      "  Val Loss:   1.6083 | Val Acc:   0.3600\n",
      "  Epoch Duration: 1.32 seconds\n",
      "\n",
      "--- Fold 1, Epoch 9/100 ---\n"
     ]
    },
    {
     "name": "stderr",
     "output_type": "stream",
     "text": [
      "Training: 100%|██████████| 9/9 [00:00<00:00, 10.88it/s]\n",
      "Validating: 100%|██████████| 2/2 [00:00<00:00,  4.42it/s]\n"
     ]
    },
    {
     "name": "stdout",
     "output_type": "stream",
     "text": [
      "  Train Loss: 1.5763 | Train Acc: 0.3357\n",
      "  Val Loss:   1.5815 | Val Acc:   0.4200\n",
      "  Epoch Duration: 1.29 seconds\n",
      "  -> New best inner validation accuracy: 0.4200. Model state saved.\n",
      "\n",
      "--- Fold 1, Epoch 10/100 ---\n"
     ]
    },
    {
     "name": "stderr",
     "output_type": "stream",
     "text": [
      "Training: 100%|██████████| 9/9 [00:00<00:00, 10.75it/s]\n",
      "Validating: 100%|██████████| 2/2 [00:00<00:00,  4.41it/s]\n"
     ]
    },
    {
     "name": "stdout",
     "output_type": "stream",
     "text": [
      "  Train Loss: 1.5771 | Train Acc: 0.2615\n",
      "  Val Loss:   1.5595 | Val Acc:   0.4200\n",
      "  Epoch Duration: 1.30 seconds\n",
      "\n",
      "--- Fold 1, Epoch 11/100 ---\n"
     ]
    },
    {
     "name": "stderr",
     "output_type": "stream",
     "text": [
      "Training: 100%|██████████| 9/9 [00:00<00:00, 10.98it/s]\n",
      "Validating: 100%|██████████| 2/2 [00:00<00:00,  4.42it/s]\n"
     ]
    },
    {
     "name": "stdout",
     "output_type": "stream",
     "text": [
      "  Train Loss: 1.5477 | Train Acc: 0.3604\n",
      "  Val Loss:   1.5283 | Val Acc:   0.4400\n",
      "  Epoch Duration: 1.28 seconds\n",
      "  -> New best inner validation accuracy: 0.4400. Model state saved.\n",
      "\n",
      "--- Fold 1, Epoch 12/100 ---\n"
     ]
    },
    {
     "name": "stderr",
     "output_type": "stream",
     "text": [
      "Training: 100%|██████████| 9/9 [00:00<00:00, 10.80it/s]\n",
      "Validating: 100%|██████████| 2/2 [00:00<00:00,  4.45it/s]\n"
     ]
    },
    {
     "name": "stdout",
     "output_type": "stream",
     "text": [
      "  Train Loss: 1.5393 | Train Acc: 0.3251\n",
      "  Val Loss:   1.4979 | Val Acc:   0.4400\n",
      "  Epoch Duration: 1.29 seconds\n",
      "\n",
      "--- Fold 1, Epoch 13/100 ---\n"
     ]
    },
    {
     "name": "stderr",
     "output_type": "stream",
     "text": [
      "Training: 100%|██████████| 9/9 [00:00<00:00, 10.57it/s]\n",
      "Validating: 100%|██████████| 2/2 [00:00<00:00,  4.41it/s]\n"
     ]
    },
    {
     "name": "stdout",
     "output_type": "stream",
     "text": [
      "  Train Loss: 1.4884 | Train Acc: 0.3640\n",
      "  Val Loss:   1.5461 | Val Acc:   0.5000\n",
      "  Epoch Duration: 1.31 seconds\n",
      "  -> New best inner validation accuracy: 0.5000. Model state saved.\n",
      "\n",
      "--- Fold 1, Epoch 14/100 ---\n"
     ]
    },
    {
     "name": "stderr",
     "output_type": "stream",
     "text": [
      "Training: 100%|██████████| 9/9 [00:00<00:00, 10.64it/s]\n",
      "Validating: 100%|██████████| 2/2 [00:00<00:00,  4.42it/s]\n"
     ]
    },
    {
     "name": "stdout",
     "output_type": "stream",
     "text": [
      "  Train Loss: 1.4724 | Train Acc: 0.3534\n",
      "  Val Loss:   1.4843 | Val Acc:   0.4800\n",
      "  Epoch Duration: 1.30 seconds\n",
      "\n",
      "--- Fold 1, Epoch 15/100 ---\n"
     ]
    },
    {
     "name": "stderr",
     "output_type": "stream",
     "text": [
      "Training: 100%|██████████| 9/9 [00:00<00:00, 10.70it/s]\n",
      "Validating: 100%|██████████| 2/2 [00:00<00:00,  4.53it/s]\n"
     ]
    },
    {
     "name": "stdout",
     "output_type": "stream",
     "text": [
      "  Train Loss: 1.4230 | Train Acc: 0.3710\n",
      "  Val Loss:   1.4548 | Val Acc:   0.4400\n",
      "  Epoch Duration: 1.29 seconds\n",
      "\n",
      "--- Fold 1, Epoch 16/100 ---\n"
     ]
    },
    {
     "name": "stderr",
     "output_type": "stream",
     "text": [
      "Training: 100%|██████████| 9/9 [00:00<00:00, 10.76it/s]\n",
      "Validating: 100%|██████████| 2/2 [00:00<00:00,  4.40it/s]\n"
     ]
    },
    {
     "name": "stdout",
     "output_type": "stream",
     "text": [
      "  Train Loss: 1.3974 | Train Acc: 0.4170\n",
      "  Val Loss:   1.3879 | Val Acc:   0.4200\n",
      "  Epoch Duration: 1.30 seconds\n",
      "\n",
      "--- Fold 1, Epoch 17/100 ---\n"
     ]
    },
    {
     "name": "stderr",
     "output_type": "stream",
     "text": [
      "Training: 100%|██████████| 9/9 [00:00<00:00, 10.76it/s]\n",
      "Validating: 100%|██████████| 2/2 [00:00<00:00,  4.37it/s]\n"
     ]
    },
    {
     "name": "stdout",
     "output_type": "stream",
     "text": [
      "  Train Loss: 1.2977 | Train Acc: 0.5088\n",
      "  Val Loss:   1.5335 | Val Acc:   0.4800\n",
      "  Epoch Duration: 1.30 seconds\n",
      "\n",
      "--- Fold 1, Epoch 18/100 ---\n"
     ]
    },
    {
     "name": "stderr",
     "output_type": "stream",
     "text": [
      "Training: 100%|██████████| 9/9 [00:00<00:00, 10.81it/s]\n",
      "Validating: 100%|██████████| 2/2 [00:00<00:00,  4.41it/s]\n"
     ]
    },
    {
     "name": "stdout",
     "output_type": "stream",
     "text": [
      "  Train Loss: 1.2309 | Train Acc: 0.5124\n",
      "  Val Loss:   1.4740 | Val Acc:   0.4800\n",
      "  Epoch Duration: 1.29 seconds\n",
      "\n",
      "--- Fold 1, Epoch 19/100 ---\n"
     ]
    },
    {
     "name": "stderr",
     "output_type": "stream",
     "text": [
      "Training: 100%|██████████| 9/9 [00:00<00:00, 10.68it/s]\n",
      "Validating: 100%|██████████| 2/2 [00:00<00:00,  4.47it/s]\n"
     ]
    },
    {
     "name": "stdout",
     "output_type": "stream",
     "text": [
      "  Train Loss: 1.1135 | Train Acc: 0.5512\n",
      "  Val Loss:   1.4616 | Val Acc:   0.4200\n",
      "  Epoch Duration: 1.30 seconds\n",
      "\n",
      "--- Fold 1, Epoch 20/100 ---\n"
     ]
    },
    {
     "name": "stderr",
     "output_type": "stream",
     "text": [
      "Training: 100%|██████████| 9/9 [00:00<00:00, 10.74it/s]\n",
      "Validating: 100%|██████████| 2/2 [00:00<00:00,  4.43it/s]\n"
     ]
    },
    {
     "name": "stdout",
     "output_type": "stream",
     "text": [
      "  Train Loss: 0.9801 | Train Acc: 0.5972\n",
      "  Val Loss:   1.2723 | Val Acc:   0.4800\n",
      "  Epoch Duration: 1.30 seconds\n",
      "\n",
      "--- Fold 1, Epoch 21/100 ---\n"
     ]
    },
    {
     "name": "stderr",
     "output_type": "stream",
     "text": [
      "Training: 100%|██████████| 9/9 [00:00<00:00, 10.61it/s]\n",
      "Validating: 100%|██████████| 2/2 [00:00<00:00,  4.53it/s]\n"
     ]
    },
    {
     "name": "stdout",
     "output_type": "stream",
     "text": [
      "  Train Loss: 0.9142 | Train Acc: 0.6820\n",
      "  Val Loss:   1.6333 | Val Acc:   0.5200\n",
      "  Epoch Duration: 1.30 seconds\n",
      "  -> New best inner validation accuracy: 0.5200. Model state saved.\n",
      "\n",
      "--- Fold 1, Epoch 22/100 ---\n"
     ]
    },
    {
     "name": "stderr",
     "output_type": "stream",
     "text": [
      "Training: 100%|██████████| 9/9 [00:00<00:00, 10.78it/s]\n",
      "Validating: 100%|██████████| 2/2 [00:00<00:00,  4.41it/s]\n"
     ]
    },
    {
     "name": "stdout",
     "output_type": "stream",
     "text": [
      "  Train Loss: 0.7255 | Train Acc: 0.7456\n",
      "  Val Loss:   1.4993 | Val Acc:   0.4000\n",
      "  Epoch Duration: 1.29 seconds\n",
      "\n",
      "--- Fold 1, Epoch 23/100 ---\n"
     ]
    },
    {
     "name": "stderr",
     "output_type": "stream",
     "text": [
      "Training: 100%|██████████| 9/9 [00:00<00:00, 10.48it/s]\n",
      "Validating: 100%|██████████| 2/2 [00:00<00:00,  4.41it/s]\n"
     ]
    },
    {
     "name": "stdout",
     "output_type": "stream",
     "text": [
      "  Train Loss: 0.5021 | Train Acc: 0.8198\n",
      "  Val Loss:   1.6642 | Val Acc:   0.4400\n",
      "  Epoch Duration: 1.32 seconds\n",
      "\n",
      "--- Fold 1, Epoch 24/100 ---\n"
     ]
    },
    {
     "name": "stderr",
     "output_type": "stream",
     "text": [
      "Training: 100%|██████████| 9/9 [00:00<00:00, 10.61it/s]\n",
      "Validating: 100%|██████████| 2/2 [00:00<00:00,  4.35it/s]\n"
     ]
    },
    {
     "name": "stdout",
     "output_type": "stream",
     "text": [
      "  Train Loss: 0.4014 | Train Acc: 0.8516\n",
      "  Val Loss:   1.9460 | Val Acc:   0.3000\n",
      "  Epoch Duration: 1.31 seconds\n",
      "\n",
      "--- Fold 1, Epoch 25/100 ---\n"
     ]
    },
    {
     "name": "stderr",
     "output_type": "stream",
     "text": [
      "Training: 100%|██████████| 9/9 [00:00<00:00, 10.68it/s]\n",
      "Validating: 100%|██████████| 2/2 [00:00<00:00,  4.25it/s]\n"
     ]
    },
    {
     "name": "stdout",
     "output_type": "stream",
     "text": [
      "  Train Loss: 0.4039 | Train Acc: 0.8516\n",
      "  Val Loss:   2.1123 | Val Acc:   0.4000\n",
      "  Epoch Duration: 1.32 seconds\n",
      "\n",
      "--- Fold 1, Epoch 26/100 ---\n"
     ]
    },
    {
     "name": "stderr",
     "output_type": "stream",
     "text": [
      "Training: 100%|██████████| 9/9 [00:00<00:00, 10.84it/s]\n",
      "Validating: 100%|██████████| 2/2 [00:00<00:00,  4.51it/s]\n"
     ]
    },
    {
     "name": "stdout",
     "output_type": "stream",
     "text": [
      "  Train Loss: 0.3643 | Train Acc: 0.8763\n",
      "  Val Loss:   2.3379 | Val Acc:   0.5000\n",
      "  Epoch Duration: 1.28 seconds\n",
      "\n",
      "--- Fold 1, Epoch 27/100 ---\n"
     ]
    },
    {
     "name": "stderr",
     "output_type": "stream",
     "text": [
      "Training: 100%|██████████| 9/9 [00:00<00:00, 10.73it/s]\n",
      "Validating: 100%|██████████| 2/2 [00:00<00:00,  4.44it/s]\n"
     ]
    },
    {
     "name": "stdout",
     "output_type": "stream",
     "text": [
      "  Train Loss: 0.2107 | Train Acc: 0.9364\n",
      "  Val Loss:   2.3371 | Val Acc:   0.4000\n",
      "  Epoch Duration: 1.29 seconds\n",
      "\n",
      "--- Fold 1, Epoch 28/100 ---\n"
     ]
    },
    {
     "name": "stderr",
     "output_type": "stream",
     "text": [
      "Training: 100%|██████████| 9/9 [00:00<00:00, 10.66it/s]\n",
      "Validating: 100%|██████████| 2/2 [00:00<00:00,  4.43it/s]\n"
     ]
    },
    {
     "name": "stdout",
     "output_type": "stream",
     "text": [
      "  Train Loss: 0.1141 | Train Acc: 0.9717\n",
      "  Val Loss:   2.5249 | Val Acc:   0.4400\n",
      "  Epoch Duration: 1.30 seconds\n",
      "\n",
      "--- Fold 1, Epoch 29/100 ---\n"
     ]
    },
    {
     "name": "stderr",
     "output_type": "stream",
     "text": [
      "Training: 100%|██████████| 9/9 [00:00<00:00, 10.76it/s]\n",
      "Validating: 100%|██████████| 2/2 [00:00<00:00,  4.37it/s]\n"
     ]
    },
    {
     "name": "stdout",
     "output_type": "stream",
     "text": [
      "  Train Loss: 0.0769 | Train Acc: 0.9823\n",
      "  Val Loss:   2.2245 | Val Acc:   0.4400\n",
      "  Epoch Duration: 1.30 seconds\n",
      "\n",
      "--- Fold 1, Epoch 30/100 ---\n"
     ]
    },
    {
     "name": "stderr",
     "output_type": "stream",
     "text": [
      "Training: 100%|██████████| 9/9 [00:00<00:00, 10.93it/s]\n",
      "Validating: 100%|██████████| 2/2 [00:00<00:00,  4.40it/s]\n"
     ]
    },
    {
     "name": "stdout",
     "output_type": "stream",
     "text": [
      "  Train Loss: 0.0476 | Train Acc: 0.9894\n",
      "  Val Loss:   2.2255 | Val Acc:   0.4400\n",
      "  Epoch Duration: 1.28 seconds\n",
      "\n",
      "--- Fold 1, Epoch 31/100 ---\n"
     ]
    },
    {
     "name": "stderr",
     "output_type": "stream",
     "text": [
      "Training: 100%|██████████| 9/9 [00:00<00:00, 10.73it/s]\n",
      "Validating: 100%|██████████| 2/2 [00:00<00:00,  4.43it/s]\n"
     ]
    },
    {
     "name": "stdout",
     "output_type": "stream",
     "text": [
      "  Train Loss: 0.0437 | Train Acc: 0.9859\n",
      "  Val Loss:   2.1986 | Val Acc:   0.4800\n",
      "  Epoch Duration: 1.30 seconds\n",
      "  Early stopping at epoch 31.\n",
      "\n",
      "--- Fold 1 Final Evaluation ---\n",
      "Loading best model for fold 1 (achieved 0.5200 on inner val set).\n"
     ]
    },
    {
     "name": "stderr",
     "output_type": "stream",
     "text": [
      "Validating: 100%|██████████| 6/6 [00:00<00:00,  9.60it/s]\n"
     ]
    },
    {
     "name": "stdout",
     "output_type": "stream",
     "text": [
      "Performance of best model on the OUTER TEST SET for fold 1: 0.3593\n",
      "\n",
      "============================== OUTER FOLD 2/3 ==============================\n",
      "Loading pretrained weights from: ../RADIO/saved_models/RADIO2_WReN/deployable_model.pth\n",
      "\n",
      "--- Transfer Learning Report ---\n",
      "Successfully loaded 46 / 49 layers.\n",
      "\n",
      "Skipped 3 layers:\n",
      "  - mlp.fc3.weight (Shape Mismatch. Pretrained: torch.Size([13, 256]), Model: torch.Size([1, 256]))\n",
      "  - mlp.fc3.bias (Shape Mismatch. Pretrained: torch.Size([13]), Model: torch.Size([1]))\n",
      "  - proj.fc.weight (Shape Mismatch. Pretrained: torch.Size([256, 521]), Model: torch.Size([256, 517]))\n",
      "--------------------------------\n",
      "\n",
      "Fold 2 Model has 1,212,129 trainable parameters.\n",
      "Fold 2 Training on 283, Validating on 50, Testing on 167.\n",
      "\n",
      "--- Fold 2, Epoch 1/100 ---\n"
     ]
    },
    {
     "name": "stderr",
     "output_type": "stream",
     "text": [
      "Training: 100%|██████████| 9/9 [00:00<00:00, 10.84it/s]\n",
      "Validating: 100%|██████████| 2/2 [00:00<00:00,  4.45it/s]\n"
     ]
    },
    {
     "name": "stdout",
     "output_type": "stream",
     "text": [
      "  Train Loss: 2.1054 | Train Acc: 0.2756\n",
      "  Val Loss:   1.6094 | Val Acc:   0.3000\n",
      "  Epoch Duration: 1.28 seconds\n",
      "  -> New best inner validation accuracy: 0.3000. Model state saved.\n",
      "\n",
      "--- Fold 2, Epoch 2/100 ---\n"
     ]
    },
    {
     "name": "stderr",
     "output_type": "stream",
     "text": [
      "Training: 100%|██████████| 9/9 [00:00<00:00, 10.24it/s]\n",
      "Validating: 100%|██████████| 2/2 [00:00<00:00,  4.45it/s]\n"
     ]
    },
    {
     "name": "stdout",
     "output_type": "stream",
     "text": [
      "  Train Loss: 1.7210 | Train Acc: 0.2049\n",
      "  Val Loss:   1.6094 | Val Acc:   0.1800\n",
      "  Epoch Duration: 1.33 seconds\n",
      "\n",
      "--- Fold 2, Epoch 3/100 ---\n"
     ]
    },
    {
     "name": "stderr",
     "output_type": "stream",
     "text": [
      "Training: 100%|██████████| 9/9 [00:00<00:00, 10.62it/s]\n",
      "Validating: 100%|██████████| 2/2 [00:00<00:00,  4.42it/s]\n"
     ]
    },
    {
     "name": "stdout",
     "output_type": "stream",
     "text": [
      "  Train Loss: 1.6353 | Train Acc: 0.2014\n",
      "  Val Loss:   1.6094 | Val Acc:   0.2400\n",
      "  Epoch Duration: 1.31 seconds\n",
      "\n",
      "--- Fold 2, Epoch 4/100 ---\n"
     ]
    },
    {
     "name": "stderr",
     "output_type": "stream",
     "text": [
      "Training: 100%|██████████| 9/9 [00:00<00:00, 10.81it/s]\n",
      "Validating: 100%|██████████| 2/2 [00:00<00:00,  4.44it/s]\n"
     ]
    },
    {
     "name": "stdout",
     "output_type": "stream",
     "text": [
      "  Train Loss: 1.6091 | Train Acc: 0.2155\n",
      "  Val Loss:   1.6092 | Val Acc:   0.3200\n",
      "  Epoch Duration: 1.29 seconds\n",
      "  -> New best inner validation accuracy: 0.3200. Model state saved.\n",
      "\n",
      "--- Fold 2, Epoch 5/100 ---\n"
     ]
    },
    {
     "name": "stderr",
     "output_type": "stream",
     "text": [
      "Training: 100%|██████████| 9/9 [00:00<00:00, 10.92it/s]\n",
      "Validating: 100%|██████████| 2/2 [00:00<00:00,  4.34it/s]\n"
     ]
    },
    {
     "name": "stdout",
     "output_type": "stream",
     "text": [
      "  Train Loss: 1.6109 | Train Acc: 0.2261\n",
      "  Val Loss:   1.6091 | Val Acc:   0.3200\n",
      "  Epoch Duration: 1.29 seconds\n",
      "\n",
      "--- Fold 2, Epoch 6/100 ---\n"
     ]
    },
    {
     "name": "stderr",
     "output_type": "stream",
     "text": [
      "Training: 100%|██████████| 9/9 [00:00<00:00, 10.54it/s]\n",
      "Validating: 100%|██████████| 2/2 [00:00<00:00,  4.48it/s]\n"
     ]
    },
    {
     "name": "stdout",
     "output_type": "stream",
     "text": [
      "  Train Loss: 1.6120 | Train Acc: 0.1873\n",
      "  Val Loss:   1.6094 | Val Acc:   0.2400\n",
      "  Epoch Duration: 1.31 seconds\n",
      "\n",
      "--- Fold 2, Epoch 7/100 ---\n"
     ]
    },
    {
     "name": "stderr",
     "output_type": "stream",
     "text": [
      "Training: 100%|██████████| 9/9 [00:00<00:00, 10.54it/s]\n",
      "Validating: 100%|██████████| 2/2 [00:00<00:00,  4.43it/s]\n"
     ]
    },
    {
     "name": "stdout",
     "output_type": "stream",
     "text": [
      "  Train Loss: 1.6106 | Train Acc: 0.1943\n",
      "  Val Loss:   1.6095 | Val Acc:   0.3200\n",
      "  Epoch Duration: 1.31 seconds\n",
      "\n",
      "--- Fold 2, Epoch 8/100 ---\n"
     ]
    },
    {
     "name": "stderr",
     "output_type": "stream",
     "text": [
      "Training: 100%|██████████| 9/9 [00:00<00:00, 10.84it/s]\n",
      "Validating: 100%|██████████| 2/2 [00:00<00:00,  4.49it/s]\n"
     ]
    },
    {
     "name": "stdout",
     "output_type": "stream",
     "text": [
      "  Train Loss: 1.6101 | Train Acc: 0.1908\n",
      "  Val Loss:   1.6092 | Val Acc:   0.3200\n",
      "  Epoch Duration: 1.28 seconds\n",
      "\n",
      "--- Fold 2, Epoch 9/100 ---\n"
     ]
    },
    {
     "name": "stderr",
     "output_type": "stream",
     "text": [
      "Training: 100%|██████████| 9/9 [00:00<00:00, 10.82it/s]\n",
      "Validating: 100%|██████████| 2/2 [00:00<00:00,  4.44it/s]\n"
     ]
    },
    {
     "name": "stdout",
     "output_type": "stream",
     "text": [
      "  Train Loss: 1.6105 | Train Acc: 0.1837\n",
      "  Val Loss:   1.6082 | Val Acc:   0.3800\n",
      "  Epoch Duration: 1.29 seconds\n",
      "  -> New best inner validation accuracy: 0.3800. Model state saved.\n",
      "\n",
      "--- Fold 2, Epoch 10/100 ---\n"
     ]
    },
    {
     "name": "stderr",
     "output_type": "stream",
     "text": [
      "Training: 100%|██████████| 9/9 [00:00<00:00, 10.81it/s]\n",
      "Validating: 100%|██████████| 2/2 [00:00<00:00,  4.51it/s]\n"
     ]
    },
    {
     "name": "stdout",
     "output_type": "stream",
     "text": [
      "  Train Loss: 1.6113 | Train Acc: 0.1908\n",
      "  Val Loss:   1.6077 | Val Acc:   0.4200\n",
      "  Epoch Duration: 1.28 seconds\n",
      "  -> New best inner validation accuracy: 0.4200. Model state saved.\n",
      "\n",
      "--- Fold 2, Epoch 11/100 ---\n"
     ]
    },
    {
     "name": "stderr",
     "output_type": "stream",
     "text": [
      "Training: 100%|██████████| 9/9 [00:00<00:00, 10.64it/s]\n",
      "Validating: 100%|██████████| 2/2 [00:00<00:00,  4.36it/s]\n"
     ]
    },
    {
     "name": "stdout",
     "output_type": "stream",
     "text": [
      "  Train Loss: 1.6094 | Train Acc: 0.2226\n",
      "  Val Loss:   1.6068 | Val Acc:   0.4000\n",
      "  Epoch Duration: 1.31 seconds\n",
      "\n",
      "--- Fold 2, Epoch 12/100 ---\n"
     ]
    },
    {
     "name": "stderr",
     "output_type": "stream",
     "text": [
      "Training: 100%|██████████| 9/9 [00:00<00:00, 10.78it/s]\n",
      "Validating: 100%|██████████| 2/2 [00:00<00:00,  4.45it/s]\n"
     ]
    },
    {
     "name": "stdout",
     "output_type": "stream",
     "text": [
      "  Train Loss: 1.6081 | Train Acc: 0.2085\n",
      "  Val Loss:   1.6054 | Val Acc:   0.4200\n",
      "  Epoch Duration: 1.29 seconds\n",
      "\n",
      "--- Fold 2, Epoch 13/100 ---\n"
     ]
    },
    {
     "name": "stderr",
     "output_type": "stream",
     "text": [
      "Training: 100%|██████████| 9/9 [00:00<00:00, 10.92it/s]\n",
      "Validating: 100%|██████████| 2/2 [00:00<00:00,  4.46it/s]\n"
     ]
    },
    {
     "name": "stdout",
     "output_type": "stream",
     "text": [
      "  Train Loss: 1.6086 | Train Acc: 0.2120\n",
      "  Val Loss:   1.6043 | Val Acc:   0.4600\n",
      "  Epoch Duration: 1.28 seconds\n",
      "  -> New best inner validation accuracy: 0.4600. Model state saved.\n",
      "\n",
      "--- Fold 2, Epoch 14/100 ---\n"
     ]
    },
    {
     "name": "stderr",
     "output_type": "stream",
     "text": [
      "Training: 100%|██████████| 9/9 [00:00<00:00, 10.81it/s]\n",
      "Validating: 100%|██████████| 2/2 [00:00<00:00,  4.39it/s]\n"
     ]
    },
    {
     "name": "stdout",
     "output_type": "stream",
     "text": [
      "  Train Loss: 1.6060 | Train Acc: 0.2615\n",
      "  Val Loss:   1.6033 | Val Acc:   0.4600\n",
      "  Epoch Duration: 1.29 seconds\n",
      "\n",
      "--- Fold 2, Epoch 15/100 ---\n"
     ]
    },
    {
     "name": "stderr",
     "output_type": "stream",
     "text": [
      "Training: 100%|██████████| 9/9 [00:00<00:00, 10.74it/s]\n",
      "Validating: 100%|██████████| 2/2 [00:00<00:00,  4.44it/s]\n"
     ]
    },
    {
     "name": "stdout",
     "output_type": "stream",
     "text": [
      "  Train Loss: 1.6041 | Train Acc: 0.2827\n",
      "  Val Loss:   1.6022 | Val Acc:   0.4800\n",
      "  Epoch Duration: 1.29 seconds\n",
      "  -> New best inner validation accuracy: 0.4800. Model state saved.\n",
      "\n",
      "--- Fold 2, Epoch 16/100 ---\n"
     ]
    },
    {
     "name": "stderr",
     "output_type": "stream",
     "text": [
      "Training: 100%|██████████| 9/9 [00:00<00:00, 10.82it/s]\n",
      "Validating: 100%|██████████| 2/2 [00:00<00:00,  4.39it/s]\n"
     ]
    },
    {
     "name": "stdout",
     "output_type": "stream",
     "text": [
      "  Train Loss: 1.6009 | Train Acc: 0.3180\n",
      "  Val Loss:   1.6003 | Val Acc:   0.5000\n",
      "  Epoch Duration: 1.29 seconds\n",
      "  -> New best inner validation accuracy: 0.5000. Model state saved.\n",
      "\n",
      "--- Fold 2, Epoch 17/100 ---\n"
     ]
    },
    {
     "name": "stderr",
     "output_type": "stream",
     "text": [
      "Training: 100%|██████████| 9/9 [00:00<00:00, 10.82it/s]\n",
      "Validating: 100%|██████████| 2/2 [00:00<00:00,  4.39it/s]\n"
     ]
    },
    {
     "name": "stdout",
     "output_type": "stream",
     "text": [
      "  Train Loss: 1.6023 | Train Acc: 0.2898\n",
      "  Val Loss:   1.5961 | Val Acc:   0.4800\n",
      "  Epoch Duration: 1.29 seconds\n",
      "\n",
      "--- Fold 2, Epoch 18/100 ---\n"
     ]
    },
    {
     "name": "stderr",
     "output_type": "stream",
     "text": [
      "Training: 100%|██████████| 9/9 [00:00<00:00, 10.79it/s]\n",
      "Validating: 100%|██████████| 2/2 [00:00<00:00,  4.45it/s]\n"
     ]
    },
    {
     "name": "stdout",
     "output_type": "stream",
     "text": [
      "  Train Loss: 1.6003 | Train Acc: 0.2933\n",
      "  Val Loss:   1.5924 | Val Acc:   0.5000\n",
      "  Epoch Duration: 1.29 seconds\n",
      "\n",
      "--- Fold 2, Epoch 19/100 ---\n"
     ]
    },
    {
     "name": "stderr",
     "output_type": "stream",
     "text": [
      "Training: 100%|██████████| 9/9 [00:00<00:00, 10.63it/s]\n",
      "Validating: 100%|██████████| 2/2 [00:00<00:00,  4.37it/s]\n"
     ]
    },
    {
     "name": "stdout",
     "output_type": "stream",
     "text": [
      "  Train Loss: 1.5939 | Train Acc: 0.3498\n",
      "  Val Loss:   1.5862 | Val Acc:   0.4800\n",
      "  Epoch Duration: 1.31 seconds\n",
      "\n",
      "--- Fold 2, Epoch 20/100 ---\n"
     ]
    },
    {
     "name": "stderr",
     "output_type": "stream",
     "text": [
      "Training: 100%|██████████| 9/9 [00:00<00:00, 10.73it/s]\n",
      "Validating: 100%|██████████| 2/2 [00:00<00:00,  4.51it/s]\n"
     ]
    },
    {
     "name": "stdout",
     "output_type": "stream",
     "text": [
      "  Train Loss: 1.5938 | Train Acc: 0.2968\n",
      "  Val Loss:   1.5815 | Val Acc:   0.4800\n",
      "  Epoch Duration: 1.29 seconds\n",
      "\n",
      "--- Fold 2, Epoch 21/100 ---\n"
     ]
    },
    {
     "name": "stderr",
     "output_type": "stream",
     "text": [
      "Training: 100%|██████████| 9/9 [00:00<00:00, 10.60it/s]\n",
      "Validating: 100%|██████████| 2/2 [00:00<00:00,  4.52it/s]\n"
     ]
    },
    {
     "name": "stdout",
     "output_type": "stream",
     "text": [
      "  Train Loss: 1.5829 | Train Acc: 0.3816\n",
      "  Val Loss:   1.5712 | Val Acc:   0.4800\n",
      "  Epoch Duration: 1.30 seconds\n",
      "\n",
      "--- Fold 2, Epoch 22/100 ---\n"
     ]
    },
    {
     "name": "stderr",
     "output_type": "stream",
     "text": [
      "Training: 100%|██████████| 9/9 [00:00<00:00, 10.88it/s]\n",
      "Validating: 100%|██████████| 2/2 [00:00<00:00,  4.53it/s]\n"
     ]
    },
    {
     "name": "stdout",
     "output_type": "stream",
     "text": [
      "  Train Loss: 1.5709 | Train Acc: 0.4028\n",
      "  Val Loss:   1.5551 | Val Acc:   0.4800\n",
      "  Epoch Duration: 1.27 seconds\n",
      "\n",
      "--- Fold 2, Epoch 23/100 ---\n"
     ]
    },
    {
     "name": "stderr",
     "output_type": "stream",
     "text": [
      "Training: 100%|██████████| 9/9 [00:00<00:00, 10.87it/s]\n",
      "Validating: 100%|██████████| 2/2 [00:00<00:00,  4.61it/s]\n"
     ]
    },
    {
     "name": "stdout",
     "output_type": "stream",
     "text": [
      "  Train Loss: 1.5640 | Train Acc: 0.3640\n",
      "  Val Loss:   1.5432 | Val Acc:   0.4800\n",
      "  Epoch Duration: 1.27 seconds\n",
      "\n",
      "--- Fold 2, Epoch 24/100 ---\n"
     ]
    },
    {
     "name": "stderr",
     "output_type": "stream",
     "text": [
      "Training: 100%|██████████| 9/9 [00:00<00:00, 10.98it/s]\n",
      "Validating: 100%|██████████| 2/2 [00:00<00:00,  4.48it/s]\n"
     ]
    },
    {
     "name": "stdout",
     "output_type": "stream",
     "text": [
      "  Train Loss: 1.5375 | Train Acc: 0.3887\n",
      "  Val Loss:   1.5119 | Val Acc:   0.5000\n",
      "  Epoch Duration: 1.27 seconds\n",
      "\n",
      "--- Fold 2, Epoch 25/100 ---\n"
     ]
    },
    {
     "name": "stderr",
     "output_type": "stream",
     "text": [
      "Training: 100%|██████████| 9/9 [00:00<00:00, 10.94it/s]\n",
      "Validating: 100%|██████████| 2/2 [00:00<00:00,  4.51it/s]\n"
     ]
    },
    {
     "name": "stdout",
     "output_type": "stream",
     "text": [
      "  Train Loss: 1.5066 | Train Acc: 0.4523\n",
      "  Val Loss:   1.4524 | Val Acc:   0.4800\n",
      "  Epoch Duration: 1.27 seconds\n",
      "\n",
      "--- Fold 2, Epoch 26/100 ---\n"
     ]
    },
    {
     "name": "stderr",
     "output_type": "stream",
     "text": [
      "Training: 100%|██████████| 9/9 [00:00<00:00, 10.86it/s]\n",
      "Validating: 100%|██████████| 2/2 [00:00<00:00,  4.46it/s]\n"
     ]
    },
    {
     "name": "stdout",
     "output_type": "stream",
     "text": [
      "  Train Loss: 1.5050 | Train Acc: 0.3746\n",
      "  Val Loss:   1.4297 | Val Acc:   0.4600\n",
      "  Epoch Duration: 1.28 seconds\n",
      "  Early stopping at epoch 26.\n",
      "\n",
      "--- Fold 2 Final Evaluation ---\n",
      "Loading best model for fold 2 (achieved 0.5000 on inner val set).\n"
     ]
    },
    {
     "name": "stderr",
     "output_type": "stream",
     "text": [
      "Validating: 100%|██████████| 6/6 [00:00<00:00, 10.03it/s]\n"
     ]
    },
    {
     "name": "stdout",
     "output_type": "stream",
     "text": [
      "Performance of best model on the OUTER TEST SET for fold 2: 0.3353\n",
      "\n",
      "============================== OUTER FOLD 3/3 ==============================\n",
      "Loading pretrained weights from: ../RADIO/saved_models/RADIO2_WReN/deployable_model.pth\n",
      "\n",
      "--- Transfer Learning Report ---\n",
      "Successfully loaded 46 / 49 layers.\n",
      "\n",
      "Skipped 3 layers:\n",
      "  - mlp.fc3.weight (Shape Mismatch. Pretrained: torch.Size([13, 256]), Model: torch.Size([1, 256]))\n",
      "  - mlp.fc3.bias (Shape Mismatch. Pretrained: torch.Size([13]), Model: torch.Size([1]))\n",
      "  - proj.fc.weight (Shape Mismatch. Pretrained: torch.Size([256, 521]), Model: torch.Size([256, 517]))\n",
      "--------------------------------\n",
      "\n",
      "Fold 3 Model has 1,212,129 trainable parameters.\n",
      "Fold 3 Training on 283, Validating on 51, Testing on 166.\n",
      "\n",
      "--- Fold 3, Epoch 1/100 ---\n"
     ]
    },
    {
     "name": "stderr",
     "output_type": "stream",
     "text": [
      "Training: 100%|██████████| 9/9 [00:00<00:00, 10.78it/s]\n",
      "Validating: 100%|██████████| 2/2 [00:00<00:00,  4.45it/s]\n"
     ]
    },
    {
     "name": "stdout",
     "output_type": "stream",
     "text": [
      "  Train Loss: 1.9984 | Train Acc: 0.1837\n",
      "  Val Loss:   1.6093 | Val Acc:   0.2353\n",
      "  Epoch Duration: 1.29 seconds\n",
      "  -> New best inner validation accuracy: 0.2353. Model state saved.\n",
      "\n",
      "--- Fold 3, Epoch 2/100 ---\n"
     ]
    },
    {
     "name": "stderr",
     "output_type": "stream",
     "text": [
      "Training: 100%|██████████| 9/9 [00:00<00:00, 10.94it/s]\n",
      "Validating: 100%|██████████| 2/2 [00:00<00:00,  4.41it/s]\n"
     ]
    },
    {
     "name": "stdout",
     "output_type": "stream",
     "text": [
      "  Train Loss: 1.6515 | Train Acc: 0.2014\n",
      "  Val Loss:   1.6094 | Val Acc:   0.1765\n",
      "  Epoch Duration: 1.28 seconds\n",
      "\n",
      "--- Fold 3, Epoch 3/100 ---\n"
     ]
    },
    {
     "name": "stderr",
     "output_type": "stream",
     "text": [
      "Training: 100%|██████████| 9/9 [00:00<00:00, 10.96it/s]\n",
      "Validating: 100%|██████████| 2/2 [00:00<00:00,  4.51it/s]\n"
     ]
    },
    {
     "name": "stdout",
     "output_type": "stream",
     "text": [
      "  Train Loss: 1.6279 | Train Acc: 0.2049\n",
      "  Val Loss:   1.6094 | Val Acc:   0.1765\n",
      "  Epoch Duration: 1.27 seconds\n",
      "\n",
      "--- Fold 3, Epoch 4/100 ---\n"
     ]
    },
    {
     "name": "stderr",
     "output_type": "stream",
     "text": [
      "Training: 100%|██████████| 9/9 [00:00<00:00, 10.87it/s]\n",
      "Validating: 100%|██████████| 2/2 [00:00<00:00,  4.38it/s]\n"
     ]
    },
    {
     "name": "stdout",
     "output_type": "stream",
     "text": [
      "  Train Loss: 1.6097 | Train Acc: 0.2261\n",
      "  Val Loss:   1.6096 | Val Acc:   0.1569\n",
      "  Epoch Duration: 1.29 seconds\n",
      "\n",
      "--- Fold 3, Epoch 5/100 ---\n"
     ]
    },
    {
     "name": "stderr",
     "output_type": "stream",
     "text": [
      "Training: 100%|██████████| 9/9 [00:00<00:00, 10.77it/s]\n",
      "Validating: 100%|██████████| 2/2 [00:00<00:00,  4.31it/s]\n"
     ]
    },
    {
     "name": "stdout",
     "output_type": "stream",
     "text": [
      "  Train Loss: 1.6094 | Train Acc: 0.2261\n",
      "  Val Loss:   1.6096 | Val Acc:   0.1961\n",
      "  Epoch Duration: 1.30 seconds\n",
      "\n",
      "--- Fold 3, Epoch 6/100 ---\n"
     ]
    },
    {
     "name": "stderr",
     "output_type": "stream",
     "text": [
      "Training: 100%|██████████| 9/9 [00:00<00:00, 10.86it/s]\n",
      "Validating: 100%|██████████| 2/2 [00:00<00:00,  4.43it/s]\n"
     ]
    },
    {
     "name": "stdout",
     "output_type": "stream",
     "text": [
      "  Train Loss: 1.6101 | Train Acc: 0.1943\n",
      "  Val Loss:   1.6099 | Val Acc:   0.1569\n",
      "  Epoch Duration: 1.29 seconds\n",
      "\n",
      "--- Fold 3, Epoch 7/100 ---\n"
     ]
    },
    {
     "name": "stderr",
     "output_type": "stream",
     "text": [
      "Training: 100%|██████████| 9/9 [00:00<00:00, 10.38it/s]\n",
      "Validating: 100%|██████████| 2/2 [00:00<00:00,  4.59it/s]\n"
     ]
    },
    {
     "name": "stdout",
     "output_type": "stream",
     "text": [
      "  Train Loss: 1.6081 | Train Acc: 0.2226\n",
      "  Val Loss:   1.6097 | Val Acc:   0.1961\n",
      "  Epoch Duration: 1.31 seconds\n",
      "\n",
      "--- Fold 3, Epoch 8/100 ---\n"
     ]
    },
    {
     "name": "stderr",
     "output_type": "stream",
     "text": [
      "Training: 100%|██████████| 9/9 [00:00<00:00, 10.48it/s]\n",
      "Validating: 100%|██████████| 2/2 [00:00<00:00,  4.40it/s]\n"
     ]
    },
    {
     "name": "stdout",
     "output_type": "stream",
     "text": [
      "  Train Loss: 1.6071 | Train Acc: 0.2261\n",
      "  Val Loss:   1.6088 | Val Acc:   0.3333\n",
      "  Epoch Duration: 1.32 seconds\n",
      "  -> New best inner validation accuracy: 0.3333. Model state saved.\n",
      "\n",
      "--- Fold 3, Epoch 9/100 ---\n"
     ]
    },
    {
     "name": "stderr",
     "output_type": "stream",
     "text": [
      "Training: 100%|██████████| 9/9 [00:00<00:00, 10.81it/s]\n",
      "Validating: 100%|██████████| 2/2 [00:00<00:00,  4.33it/s]\n"
     ]
    },
    {
     "name": "stdout",
     "output_type": "stream",
     "text": [
      "  Train Loss: 1.6077 | Train Acc: 0.1943\n",
      "  Val Loss:   1.6065 | Val Acc:   0.3725\n",
      "  Epoch Duration: 1.30 seconds\n",
      "  -> New best inner validation accuracy: 0.3725. Model state saved.\n",
      "\n",
      "--- Fold 3, Epoch 10/100 ---\n"
     ]
    },
    {
     "name": "stderr",
     "output_type": "stream",
     "text": [
      "Training: 100%|██████████| 9/9 [00:00<00:00, 10.92it/s]\n",
      "Validating: 100%|██████████| 2/2 [00:00<00:00,  4.43it/s]\n"
     ]
    },
    {
     "name": "stdout",
     "output_type": "stream",
     "text": [
      "  Train Loss: 1.6051 | Train Acc: 0.2650\n",
      "  Val Loss:   1.6054 | Val Acc:   0.4118\n",
      "  Epoch Duration: 1.28 seconds\n",
      "  -> New best inner validation accuracy: 0.4118. Model state saved.\n",
      "\n",
      "--- Fold 3, Epoch 11/100 ---\n"
     ]
    },
    {
     "name": "stderr",
     "output_type": "stream",
     "text": [
      "Training: 100%|██████████| 9/9 [00:00<00:00, 10.92it/s]\n",
      "Validating: 100%|██████████| 2/2 [00:00<00:00,  4.53it/s]\n"
     ]
    },
    {
     "name": "stdout",
     "output_type": "stream",
     "text": [
      "  Train Loss: 1.6071 | Train Acc: 0.2650\n",
      "  Val Loss:   1.6044 | Val Acc:   0.3725\n",
      "  Epoch Duration: 1.27 seconds\n",
      "\n",
      "--- Fold 3, Epoch 12/100 ---\n"
     ]
    },
    {
     "name": "stderr",
     "output_type": "stream",
     "text": [
      "Training: 100%|██████████| 9/9 [00:00<00:00, 10.85it/s]\n",
      "Validating: 100%|██████████| 2/2 [00:00<00:00,  4.46it/s]\n"
     ]
    },
    {
     "name": "stdout",
     "output_type": "stream",
     "text": [
      "  Train Loss: 1.5977 | Train Acc: 0.2968\n",
      "  Val Loss:   1.6019 | Val Acc:   0.3725\n",
      "  Epoch Duration: 1.28 seconds\n",
      "\n",
      "--- Fold 3, Epoch 13/100 ---\n"
     ]
    },
    {
     "name": "stderr",
     "output_type": "stream",
     "text": [
      "Training: 100%|██████████| 9/9 [00:00<00:00, 10.91it/s]\n",
      "Validating: 100%|██████████| 2/2 [00:00<00:00,  4.35it/s]\n"
     ]
    },
    {
     "name": "stdout",
     "output_type": "stream",
     "text": [
      "  Train Loss: 1.5966 | Train Acc: 0.3180\n",
      "  Val Loss:   1.6012 | Val Acc:   0.2549\n",
      "  Epoch Duration: 1.29 seconds\n",
      "\n",
      "--- Fold 3, Epoch 14/100 ---\n"
     ]
    },
    {
     "name": "stderr",
     "output_type": "stream",
     "text": [
      "Training: 100%|██████████| 9/9 [00:00<00:00, 10.77it/s]\n",
      "Validating: 100%|██████████| 2/2 [00:00<00:00,  4.47it/s]\n"
     ]
    },
    {
     "name": "stdout",
     "output_type": "stream",
     "text": [
      "  Train Loss: 1.5921 | Train Acc: 0.3074\n",
      "  Val Loss:   1.5957 | Val Acc:   0.3922\n",
      "  Epoch Duration: 1.29 seconds\n",
      "\n",
      "--- Fold 3, Epoch 15/100 ---\n"
     ]
    },
    {
     "name": "stderr",
     "output_type": "stream",
     "text": [
      "Training: 100%|██████████| 9/9 [00:00<00:00, 10.72it/s]\n",
      "Validating: 100%|██████████| 2/2 [00:00<00:00,  4.57it/s]\n"
     ]
    },
    {
     "name": "stdout",
     "output_type": "stream",
     "text": [
      "  Train Loss: 1.5811 | Train Acc: 0.4028\n",
      "  Val Loss:   1.5933 | Val Acc:   0.3333\n",
      "  Epoch Duration: 1.28 seconds\n",
      "\n",
      "--- Fold 3, Epoch 16/100 ---\n"
     ]
    },
    {
     "name": "stderr",
     "output_type": "stream",
     "text": [
      "Training: 100%|██████████| 9/9 [00:00<00:00, 10.89it/s]\n",
      "Validating: 100%|██████████| 2/2 [00:00<00:00,  4.42it/s]\n"
     ]
    },
    {
     "name": "stdout",
     "output_type": "stream",
     "text": [
      "  Train Loss: 1.5593 | Train Acc: 0.4134\n",
      "  Val Loss:   1.5783 | Val Acc:   0.3333\n",
      "  Epoch Duration: 1.29 seconds\n",
      "\n",
      "--- Fold 3, Epoch 17/100 ---\n"
     ]
    },
    {
     "name": "stderr",
     "output_type": "stream",
     "text": [
      "Training: 100%|██████████| 9/9 [00:00<00:00, 10.70it/s]\n",
      "Validating: 100%|██████████| 2/2 [00:00<00:00,  4.46it/s]\n"
     ]
    },
    {
     "name": "stdout",
     "output_type": "stream",
     "text": [
      "  Train Loss: 1.5259 | Train Acc: 0.4594\n",
      "  Val Loss:   1.5629 | Val Acc:   0.3922\n",
      "  Epoch Duration: 1.30 seconds\n",
      "\n",
      "--- Fold 3, Epoch 18/100 ---\n"
     ]
    },
    {
     "name": "stderr",
     "output_type": "stream",
     "text": [
      "Training: 100%|██████████| 9/9 [00:00<00:00, 10.88it/s]\n",
      "Validating: 100%|██████████| 2/2 [00:00<00:00,  4.37it/s]\n"
     ]
    },
    {
     "name": "stdout",
     "output_type": "stream",
     "text": [
      "  Train Loss: 1.4544 | Train Acc: 0.4770\n",
      "  Val Loss:   1.5570 | Val Acc:   0.3529\n",
      "  Epoch Duration: 1.29 seconds\n",
      "\n",
      "--- Fold 3, Epoch 19/100 ---\n"
     ]
    },
    {
     "name": "stderr",
     "output_type": "stream",
     "text": [
      "Training: 100%|██████████| 9/9 [00:00<00:00, 10.83it/s]\n",
      "Validating: 100%|██████████| 2/2 [00:00<00:00,  4.63it/s]\n"
     ]
    },
    {
     "name": "stdout",
     "output_type": "stream",
     "text": [
      "  Train Loss: 1.3488 | Train Acc: 0.5088\n",
      "  Val Loss:   1.6093 | Val Acc:   0.3922\n",
      "  Epoch Duration: 1.27 seconds\n",
      "\n",
      "--- Fold 3, Epoch 20/100 ---\n"
     ]
    },
    {
     "name": "stderr",
     "output_type": "stream",
     "text": [
      "Training: 100%|██████████| 9/9 [00:00<00:00, 10.61it/s]\n",
      "Validating: 100%|██████████| 2/2 [00:00<00:00,  4.42it/s]\n"
     ]
    },
    {
     "name": "stdout",
     "output_type": "stream",
     "text": [
      "  Train Loss: 1.2235 | Train Acc: 0.5442\n",
      "  Val Loss:   1.5779 | Val Acc:   0.3333\n",
      "  Epoch Duration: 1.31 seconds\n",
      "  Early stopping at epoch 20.\n",
      "\n",
      "--- Fold 3 Final Evaluation ---\n",
      "Loading best model for fold 3 (achieved 0.4118 on inner val set).\n"
     ]
    },
    {
     "name": "stderr",
     "output_type": "stream",
     "text": [
      "Validating: 100%|██████████| 6/6 [00:00<00:00, 10.22it/s]"
     ]
    },
    {
     "name": "stdout",
     "output_type": "stream",
     "text": [
      "Performance of best model on the OUTER TEST SET for fold 3: 0.3735\n",
      "\n",
      "============================== FINAL UNBIASED PERFORMANCE SUMMARY ==============================\n",
      "Unbiased test accuracies from each fold: ['0.3593', '0.3353', '0.3735']\n",
      "Average Test Accuracy from CV: 0.3560\n",
      "Standard Deviation of Test Accuracy from CV: 0.0157\n",
      "-> Estimated Generalization Performance: 0.3560 ± 0.0157\n",
      "\n",
      "Cross-validation finished.\n",
      "To view TensorBoard logs, run the following command in your terminal:\n",
      "tensorboard --logdir runs/O3_5-WReN-TRANSFER_RADIO_2\n"
     ]
    },
    {
     "name": "stderr",
     "output_type": "stream",
     "text": [
      "\n"
     ]
    }
   ],
   "source": [
    "from sklearn.model_selection import train_test_split\n",
    "VAL_SPLIT_SIZE = 0.15\n",
    "\n",
    "MODEL_FOLDER_NAME = \"O3_5-WReN-TRANSFER_RADIO_2\"\n",
    "\n",
    "# ==============================================================================\n",
    "# 2. DATASET & FOLD SETUP\n",
    "# ==============================================================================\n",
    "print(f\"Total data for cross-validation: {len(full_dataset)} samples.\")\n",
    "\n",
    "kfold = KFold(n_splits=N_SPLITS, shuffle=True, random_state=42)\n",
    "fold_test_results = []\n",
    "\n",
    "# ==============================================================================\n",
    "# 3. CROSS-VALIDATION LOOP\n",
    "# ==============================================================================\n",
    "for fold, (train_outer_idx, test_outer_idx) in enumerate(kfold.split(np.zeros(len(full_dataset)))):\n",
    "    print(f\"\\n{'='*30} OUTER FOLD {fold+1}/{N_SPLITS} {'='*30}\")\n",
    "\n",
    "    SAVED_MODELS_PATH = f\"./saved_models/{MODEL_FOLDER_NAME}/\"\n",
    "\n",
    "    if not os.path.exists(SAVED_MODELS_PATH):\n",
    "        os.makedirs(SAVED_MODELS_PATH)\n",
    "    writer = SummaryWriter(log_dir=f'runs/{MODEL_FOLDER_NAME}/fold_{fold+1}')\n",
    "\n",
    "    inner_train_idx, inner_val_idx = train_test_split(\n",
    "        train_outer_idx,\n",
    "        test_size=VAL_SPLIT_SIZE,\n",
    "        shuffle=True, # Shuffle before splitting\n",
    "        random_state=42\n",
    "    )\n",
    "\n",
    "    inner_train_subset = Subset(full_dataset, inner_train_idx)\n",
    "    inner_val_subset = Subset(full_dataset, inner_val_idx)\n",
    "    outer_test_subset = Subset(full_dataset, test_outer_idx)\n",
    "\n",
    "    train_loader = DataLoader(inner_train_subset, batch_size=BATCH_SIZE, shuffle=True, num_workers=4, pin_memory=True)\n",
    "    val_loader = DataLoader(inner_val_subset, batch_size=BATCH_SIZE, shuffle=False, num_workers=4, pin_memory=True)\n",
    "    test_loader = DataLoader(outer_test_subset, batch_size=BATCH_SIZE, shuffle=False, num_workers=4, pin_memory=True)\n",
    "\n",
    "    model = OddOneOutWReN(num_total_panels=5).to(DEVICE)\n",
    "\n",
    "    load_partial_state_dict(\n",
    "        model,\n",
    "        \"../RADIO/saved_models/RADIO2_WReN/deployable_model.pth\",\n",
    "    )\n",
    "\n",
    "    optimizer = torch.optim.Adam(\n",
    "        model.parameters(),\n",
    "        lr=LEARNING_RATE,\n",
    "        betas=(BETA_1, BETA_2),\n",
    "        eps=EPSILON\n",
    "    )\n",
    "    criterion = nn.CrossEntropyLoss()\n",
    "    scheduler = None\n",
    "    scaler = None\n",
    "\n",
    "\n",
    "    total_params = sum(p.numel() for p in model.parameters() if p.requires_grad)\n",
    "    print(f\"Fold {fold+1} Model has {total_params:,} trainable parameters.\")\n",
    "    print(f\"Fold {fold+1} Training on {len(inner_train_subset)}, Validating on {len(inner_val_subset)}, Testing on {len(outer_test_subset)}.\")\n",
    "\n",
    "    best_model_path = f\"{SAVED_MODELS_PATH}/best_model_fold_{fold+1}.pth\"\n",
    "    best_val_acc_fold = 0.0\n",
    "    epochs_without_improvement = 0\n",
    "\n",
    "    for epoch in range(1, EPOCHS + 1):\n",
    "        epoch_start_time = time.time()\n",
    "        \n",
    "        print(f\"\\n--- Fold {fold+1}, Epoch {epoch}/{EPOCHS} ---\")\n",
    "        train_loss, train_acc = train_epoch(model, train_loader, optimizer, criterion, DEVICE, scaler=scaler, scheduler=scheduler)\n",
    "        val_loss, val_acc = validate(model, val_loader, criterion, DEVICE)\n",
    "\n",
    "        epoch_duration = time.time() - epoch_start_time\n",
    "\n",
    "        print(f\"  Train Loss: {train_loss:.4f} | Train Acc: {train_acc:.4f}\")\n",
    "        print(f\"  Val Loss:   {val_loss:.4f} | Val Acc:   {val_acc:.4f}\")\n",
    "        print(f\"  Epoch Duration: {epoch_duration:.2f} seconds\")\n",
    "        \n",
    "        writer.add_scalar('Loss/train', train_loss, epoch)\n",
    "        writer.add_scalar('Accuracy/train', train_acc, epoch)\n",
    "        writer.add_scalar('Loss/val', val_loss, epoch)\n",
    "        writer.add_scalar('Accuracy/val', val_acc, epoch)\n",
    "        writer.add_scalar('Performance/seconds_per_epoch', epoch_duration, epoch)\n",
    "        writer.add_scalar('Learning_Rate', optimizer.param_groups[0]['lr'], epoch)\n",
    "\n",
    "        if val_acc > best_val_acc_fold:\n",
    "            best_val_acc_fold = val_acc\n",
    "            epochs_without_improvement = 0\n",
    "            torch.save(model.state_dict(), best_model_path)\n",
    "            print(f\"  -> New best inner validation accuracy: {best_val_acc_fold:.4f}. Model state saved.\")\n",
    "        else:\n",
    "            epochs_without_improvement += 1\n",
    "            if epochs_without_improvement >= PATIENCE:\n",
    "                print(f\"  Early stopping at epoch {epoch}.\")\n",
    "                break\n",
    "    \n",
    "    print(f\"\\n--- Fold {fold+1} Final Evaluation ---\")\n",
    "    print(f\"Loading best model for fold {fold+1} (achieved {best_val_acc_fold:.4f} on inner val set).\")\n",
    "    # Load the best model weights identified during the inner loop\n",
    "    model.load_state_dict(torch.load(best_model_path))\n",
    "    \n",
    "    # Evaluate this best model on the completely unseen outer test set\n",
    "    _, final_fold_test_acc = validate(model, test_loader, criterion, DEVICE)\n",
    "    print(f\"Performance of best model on the OUTER TEST SET for fold {fold+1}: {final_fold_test_acc:.4f}\")\n",
    "\n",
    "    fold_test_results.append(final_fold_test_acc)\n",
    "    writer.add_scalar('Accuracy/test', final_fold_test_acc)\n",
    "    \n",
    "    hparams = { 'learning_rate': LEARNING_RATE, 'batch_size': BATCH_SIZE }\n",
    "    final_metrics = {\n",
    "        'hparam/test_accuracy': final_fold_test_acc,\n",
    "        'hparam/best_inner_val_accuracy': best_val_acc_fold\n",
    "    }\n",
    "    writer.add_hparams(hparams, final_metrics)\n",
    "    writer.close()\n",
    "\n",
    "# ==============================================================================\n",
    "# 4. AGGREGATE AND REPORT CV RESULTS\n",
    "# ==============================================================================\n",
    "mean_test_acc = np.mean(fold_test_results)\n",
    "std_test_acc = np.std(fold_test_results)\n",
    "\n",
    "print(f\"\\n{'='*30} FINAL UNBIASED PERFORMANCE SUMMARY {'='*30}\")\n",
    "print(f\"Unbiased test accuracies from each fold: {[f'{acc:.4f}' for acc in fold_test_results]}\")\n",
    "print(f\"Average Test Accuracy from CV: {mean_test_acc:.4f}\")\n",
    "print(f\"Standard Deviation of Test Accuracy from CV: {std_test_acc:.4f}\")\n",
    "print(f\"-> Estimated Generalization Performance: {mean_test_acc:.4f} \\u00B1 {std_test_acc:.4f}\")\n",
    "\n",
    "print(\"\\nCross-validation finished.\")\n",
    "print(\"To view TensorBoard logs, run the following command in your terminal:\")\n",
    "print(f\"tensorboard --logdir runs/{MODEL_FOLDER_NAME}\")"
   ]
  }
 ],
 "metadata": {
  "kernelspec": {
   "display_name": "DGL_ENV",
   "language": "python",
   "name": "dgl_env"
  },
  "language_info": {
   "codemirror_mode": {
    "name": "ipython",
    "version": 3
   },
   "file_extension": ".py",
   "mimetype": "text/x-python",
   "name": "python",
   "nbconvert_exporter": "python",
   "pygments_lexer": "ipython3",
   "version": "3.12.3"
  }
 },
 "nbformat": 4,
 "nbformat_minor": 5
}
