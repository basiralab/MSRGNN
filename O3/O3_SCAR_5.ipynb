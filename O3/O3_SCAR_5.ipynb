{
 "cells": [
  {
   "cell_type": "code",
   "execution_count": 1,
   "id": "d1380b68",
   "metadata": {},
   "outputs": [],
   "source": [
    "%load_ext autoreload\n",
    "%autoreload 2"
   ]
  },
  {
   "cell_type": "code",
   "execution_count": 2,
   "id": "b1aef315",
   "metadata": {},
   "outputs": [
    {
     "name": "stderr",
     "output_type": "stream",
     "text": [
      "/vol/venv/icc24/DGL_ENV/lib/python3.12/site-packages/tqdm/auto.py:21: TqdmWarning: IProgress not found. Please update jupyter and ipywidgets. See https://ipywidgets.readthedocs.io/en/stable/user_install.html\n",
      "  from .autonotebook import tqdm as notebook_tqdm\n"
     ]
    }
   ],
   "source": [
    "from data_utility import DeepiqDataset\n",
    "from torch.utils.data import DataLoader\n",
    "from torch.utils.data import TensorDataset, DataLoader, random_split, Dataset\n",
    "import torch"
   ]
  },
  {
   "cell_type": "code",
   "execution_count": 3,
   "id": "409cefd3",
   "metadata": {},
   "outputs": [],
   "source": [
    "BATCH_SIZE = 32"
   ]
  },
  {
   "cell_type": "code",
   "execution_count": 4,
   "id": "81c44e88",
   "metadata": {},
   "outputs": [
    {
     "name": "stdout",
     "output_type": "stream",
     "text": [
      "Dataset size: 500\n",
      "Splitting into:\n",
      "  - Training set:   300 samples (60.00%)\n",
      "  - Validation set: 100 samples (20.00%)\n",
      "  - Test set:       100 samples (20.00%)\n",
      "----------------------------------------\n",
      "Type of train_dataset: <class 'torch.utils.data.dataset.Subset'>\n",
      "Actual size of train_dataset: 300\n",
      "Actual size of val_dataset:   100\n",
      "Actual size of test_dataset:  100\n",
      "\n",
      "Successfully split the dataset without losing any data points.\n",
      "----------------------------------------\n",
      "Number of batches in train_loader: 10\n",
      "Number of batches in val_loader:   4\n",
      "Number of batches in test_loader:  4\n"
     ]
    }
   ],
   "source": [
    "full_dataset = DeepiqDataset(\n",
    "    dataset_root_dir = \"./odd-one-out\",\n",
    "    num_panels = [5]\n",
    ")\n",
    "\n",
    "dataset_size = len(full_dataset)\n",
    "print(f\"Dataset size: {dataset_size}\")\n",
    "\n",
    "train_prop = 0.6\n",
    "val_prop = 0.2\n",
    "# test_prop = 0.2\n",
    "\n",
    "train_size = int(train_prop * dataset_size)\n",
    "val_size = int(val_prop * dataset_size)\n",
    "\n",
    "test_size = dataset_size - train_size - val_size\n",
    "\n",
    "print(f\"Splitting into:\")\n",
    "print(f\"  - Training set:   {train_size} samples ({train_size/dataset_size:.2%})\")\n",
    "print(f\"  - Validation set: {val_size} samples ({val_size/dataset_size:.2%})\")\n",
    "print(f\"  - Test set:       {test_size} samples ({test_size/dataset_size:.2%})\")\n",
    "print(\"-\" * 40)\n",
    "\n",
    "\n",
    "generator = torch.Generator().manual_seed(42)\n",
    "\n",
    "train_dataset, val_dataset, test_dataset = random_split(\n",
    "    full_dataset, [train_size, val_size, test_size], generator=generator\n",
    ")\n",
    "\n",
    "\n",
    "# --- 4. Verification ---\n",
    "print(f\"Type of train_dataset: {type(train_dataset)}\")\n",
    "\n",
    "# Verify the lengths of the splits\n",
    "print(f\"Actual size of train_dataset: {len(train_dataset)}\")\n",
    "print(f\"Actual size of val_dataset:   {len(val_dataset)}\")\n",
    "print(f\"Actual size of test_dataset:  {len(test_dataset)}\")\n",
    "\n",
    "assert len(train_dataset) + len(val_dataset) + len(test_dataset) == dataset_size\n",
    "print(\"\\nSuccessfully split the dataset without losing any data points.\")\n",
    "print(\"-\" * 40)\n",
    "\n",
    "\n",
    "# --- 5. Create DataLoaders for each set ---\n",
    "train_loader = DataLoader(train_dataset, batch_size=BATCH_SIZE, shuffle=True)\n",
    "val_loader = DataLoader(val_dataset, batch_size=BATCH_SIZE, shuffle=False)\n",
    "test_loader = DataLoader(test_dataset, batch_size=BATCH_SIZE, shuffle=False)\n",
    "\n",
    "print(f\"Number of batches in train_loader: {len(train_loader)}\")\n",
    "print(f\"Number of batches in val_loader:   {len(val_loader)}\")\n",
    "print(f\"Number of batches in test_loader:  {len(test_loader)}\")"
   ]
  },
  {
   "cell_type": "code",
   "execution_count": 5,
   "id": "07b04a23",
   "metadata": {},
   "outputs": [
    {
     "name": "stdout",
     "output_type": "stream",
     "text": [
      "Shape of a single instance in train_loader: torch.Size([32, 5, 1, 80, 80])\n"
     ]
    }
   ],
   "source": [
    "# print shape of an instance\n",
    "print(f\"Shape of a single instance in train_loader: {next(iter(train_loader))[0].shape}\")"
   ]
  },
  {
   "cell_type": "code",
   "execution_count": 6,
   "id": "9da8adaa",
   "metadata": {},
   "outputs": [],
   "source": [
    "from scar import OddOneOutSCAR, validate, train_epoch, count_parameters"
   ]
  },
  {
   "cell_type": "code",
   "execution_count": 7,
   "id": "d44ca931",
   "metadata": {},
   "outputs": [],
   "source": [
    "import torch\n",
    "import torch.nn as nn\n",
    "import time"
   ]
  },
  {
   "cell_type": "code",
   "execution_count": 8,
   "id": "1ed7f119",
   "metadata": {},
   "outputs": [],
   "source": [
    "IMG_SIZE = 80\n",
    "BETA_1 = 0.9\n",
    "BETA_2 = 0.999\n",
    "EPSILON = 1e-8"
   ]
  },
  {
   "cell_type": "code",
   "execution_count": 9,
   "id": "1fa2ea22",
   "metadata": {},
   "outputs": [],
   "source": [
    "import json"
   ]
  },
  {
   "cell_type": "code",
   "execution_count": 10,
   "id": "03725d6b",
   "metadata": {},
   "outputs": [],
   "source": [
    "# --- Training Hyperparameters ---\n",
    "N_SPLITS = 3\n",
    "EPOCHS = 100\n",
    "BATCH_SIZE = 32\n",
    "LEARNING_RATE = 1e-3\n",
    "WEIGHT_DECAY = 1e-4\n",
    "PATIENCE = 10 # For early stopping\n",
    "\n",
    "# --- Model & Logging Setup ---\n",
    "MODEL_FOLDER_NAME = \"O3_5-SCAR\"\n",
    "DEVICE = \"cuda\" if torch.cuda.is_available() else \"cpu\""
   ]
  },
  {
   "cell_type": "code",
   "execution_count": 11,
   "id": "82fda978",
   "metadata": {},
   "outputs": [],
   "source": [
    "import os\n",
    "import time\n",
    "import numpy as np\n",
    "import torch\n",
    "import torch.nn as nn\n",
    "from torch.utils.data import DataLoader, Subset\n",
    "from sklearn.model_selection import KFold\n",
    "from torch.utils.tensorboard import SummaryWriter\n",
    "from tqdm import tqdm"
   ]
  },
  {
   "cell_type": "markdown",
   "id": "3927a54a",
   "metadata": {},
   "source": [
    "# O3 STL"
   ]
  },
  {
   "cell_type": "code",
   "execution_count": 12,
   "id": "1e84b37b",
   "metadata": {},
   "outputs": [
    {
     "name": "stdout",
     "output_type": "stream",
     "text": [
      "Total data for cross-validation: 500 samples.\n",
      "\n",
      "============================== OUTER FOLD 1/3 ==============================\n",
      "Fold 1 Model has 486,826 trainable parameters.\n",
      "Fold 1 Training on 283, Validating on 50, Testing on 167.\n",
      "\n",
      "--- Fold 1, Epoch 1/100 ---\n"
     ]
    },
    {
     "name": "stderr",
     "output_type": "stream",
     "text": [
      "Training: 100%|██████████| 9/9 [00:01<00:00,  8.36it/s]\n"
     ]
    },
    {
     "name": "stdout",
     "output_type": "stream",
     "text": [
      "Epoch Loss: 1.6097, Accuracy: 0.1837\n"
     ]
    },
    {
     "name": "stderr",
     "output_type": "stream",
     "text": [
      "Validating: 100%|██████████| 2/2 [00:00<00:00,  5.03it/s]\n"
     ]
    },
    {
     "name": "stdout",
     "output_type": "stream",
     "text": [
      "  Train Loss: 1.6097 | Train Acc: 0.1837\n",
      "  Val Loss:   1.6094 | Val Acc:   0.1800\n",
      "  Epoch Duration: 1.48 seconds\n",
      "  -> New best inner validation accuracy: 0.1800. Model state saved.\n",
      "\n",
      "--- Fold 1, Epoch 2/100 ---\n"
     ]
    },
    {
     "name": "stderr",
     "output_type": "stream",
     "text": [
      "Training: 100%|██████████| 9/9 [00:00<00:00, 13.04it/s]\n"
     ]
    },
    {
     "name": "stdout",
     "output_type": "stream",
     "text": [
      "Epoch Loss: 1.5678, Accuracy: 0.2827\n"
     ]
    },
    {
     "name": "stderr",
     "output_type": "stream",
     "text": [
      "Validating:  50%|█████     | 1/2 [00:00<00:00,  3.36it/s]"
     ]
    },
    {
     "name": "stderr",
     "output_type": "stream",
     "text": [
      "Validating: 100%|██████████| 2/2 [00:00<00:00,  5.09it/s]\n"
     ]
    },
    {
     "name": "stdout",
     "output_type": "stream",
     "text": [
      "  Train Loss: 1.5678 | Train Acc: 0.2827\n",
      "  Val Loss:   1.6121 | Val Acc:   0.1200\n",
      "  Epoch Duration: 1.09 seconds\n",
      "\n",
      "--- Fold 1, Epoch 3/100 ---\n"
     ]
    },
    {
     "name": "stderr",
     "output_type": "stream",
     "text": [
      "Training: 100%|██████████| 9/9 [00:00<00:00, 13.84it/s]\n"
     ]
    },
    {
     "name": "stdout",
     "output_type": "stream",
     "text": [
      "Epoch Loss: 1.4020, Accuracy: 0.4099\n"
     ]
    },
    {
     "name": "stderr",
     "output_type": "stream",
     "text": [
      "Validating: 100%|██████████| 2/2 [00:00<00:00,  5.58it/s]\n"
     ]
    },
    {
     "name": "stdout",
     "output_type": "stream",
     "text": [
      "  Train Loss: 1.4020 | Train Acc: 0.4099\n",
      "  Val Loss:   1.6124 | Val Acc:   0.1600\n",
      "  Epoch Duration: 1.02 seconds\n",
      "\n",
      "--- Fold 1, Epoch 4/100 ---\n"
     ]
    },
    {
     "name": "stderr",
     "output_type": "stream",
     "text": [
      "Training: 100%|██████████| 9/9 [00:00<00:00, 12.03it/s]\n"
     ]
    },
    {
     "name": "stdout",
     "output_type": "stream",
     "text": [
      "Epoch Loss: 1.2156, Accuracy: 0.4770\n"
     ]
    },
    {
     "name": "stderr",
     "output_type": "stream",
     "text": [
      "Validating: 100%|██████████| 2/2 [00:00<00:00,  5.79it/s]\n"
     ]
    },
    {
     "name": "stdout",
     "output_type": "stream",
     "text": [
      "  Train Loss: 1.2156 | Train Acc: 0.4770\n",
      "  Val Loss:   1.6611 | Val Acc:   0.1800\n",
      "  Epoch Duration: 1.10 seconds\n",
      "\n",
      "--- Fold 1, Epoch 5/100 ---\n"
     ]
    },
    {
     "name": "stderr",
     "output_type": "stream",
     "text": [
      "Training: 100%|██████████| 9/9 [00:00<00:00, 12.59it/s]\n"
     ]
    },
    {
     "name": "stdout",
     "output_type": "stream",
     "text": [
      "Epoch Loss: 1.0017, Accuracy: 0.6042\n"
     ]
    },
    {
     "name": "stderr",
     "output_type": "stream",
     "text": [
      "Validating: 100%|██████████| 2/2 [00:00<00:00,  5.53it/s]\n"
     ]
    },
    {
     "name": "stdout",
     "output_type": "stream",
     "text": [
      "  Train Loss: 1.0017 | Train Acc: 0.6042\n",
      "  Val Loss:   1.6433 | Val Acc:   0.2000\n",
      "  Epoch Duration: 1.08 seconds\n",
      "  -> New best inner validation accuracy: 0.2000. Model state saved.\n",
      "\n",
      "--- Fold 1, Epoch 6/100 ---\n"
     ]
    },
    {
     "name": "stderr",
     "output_type": "stream",
     "text": [
      "Training: 100%|██████████| 9/9 [00:00<00:00, 13.24it/s]\n"
     ]
    },
    {
     "name": "stdout",
     "output_type": "stream",
     "text": [
      "Epoch Loss: 0.7691, Accuracy: 0.7138\n"
     ]
    },
    {
     "name": "stderr",
     "output_type": "stream",
     "text": [
      "Validating: 100%|██████████| 2/2 [00:00<00:00,  5.55it/s]\n"
     ]
    },
    {
     "name": "stdout",
     "output_type": "stream",
     "text": [
      "  Train Loss: 0.7691 | Train Acc: 0.7138\n",
      "  Val Loss:   1.7052 | Val Acc:   0.2400\n",
      "  Epoch Duration: 1.05 seconds\n",
      "  -> New best inner validation accuracy: 0.2400. Model state saved.\n",
      "\n",
      "--- Fold 1, Epoch 7/100 ---\n"
     ]
    },
    {
     "name": "stderr",
     "output_type": "stream",
     "text": [
      "Training: 100%|██████████| 9/9 [00:00<00:00, 13.20it/s]\n"
     ]
    },
    {
     "name": "stdout",
     "output_type": "stream",
     "text": [
      "Epoch Loss: 0.6882, Accuracy: 0.7456\n"
     ]
    },
    {
     "name": "stderr",
     "output_type": "stream",
     "text": [
      "Validating: 100%|██████████| 2/2 [00:00<00:00,  5.31it/s]\n"
     ]
    },
    {
     "name": "stdout",
     "output_type": "stream",
     "text": [
      "  Train Loss: 0.6882 | Train Acc: 0.7456\n",
      "  Val Loss:   1.6076 | Val Acc:   0.2200\n",
      "  Epoch Duration: 1.07 seconds\n",
      "\n",
      "--- Fold 1, Epoch 8/100 ---\n"
     ]
    },
    {
     "name": "stderr",
     "output_type": "stream",
     "text": [
      "Training: 100%|██████████| 9/9 [00:00<00:00, 12.92it/s]\n"
     ]
    },
    {
     "name": "stdout",
     "output_type": "stream",
     "text": [
      "Epoch Loss: 0.4907, Accuracy: 0.8375\n"
     ]
    },
    {
     "name": "stderr",
     "output_type": "stream",
     "text": [
      "Validating: 100%|██████████| 2/2 [00:00<00:00,  5.40it/s]\n"
     ]
    },
    {
     "name": "stdout",
     "output_type": "stream",
     "text": [
      "  Train Loss: 0.4907 | Train Acc: 0.8375\n",
      "  Val Loss:   1.6267 | Val Acc:   0.2400\n",
      "  Epoch Duration: 1.07 seconds\n",
      "\n",
      "--- Fold 1, Epoch 9/100 ---\n"
     ]
    },
    {
     "name": "stderr",
     "output_type": "stream",
     "text": [
      "Training: 100%|██████████| 9/9 [00:00<00:00, 10.92it/s]\n"
     ]
    },
    {
     "name": "stdout",
     "output_type": "stream",
     "text": [
      "Epoch Loss: 0.3159, Accuracy: 0.8834\n"
     ]
    },
    {
     "name": "stderr",
     "output_type": "stream",
     "text": [
      "Validating: 100%|██████████| 2/2 [00:00<00:00,  5.44it/s]\n"
     ]
    },
    {
     "name": "stdout",
     "output_type": "stream",
     "text": [
      "  Train Loss: 0.3159 | Train Acc: 0.8834\n",
      "  Val Loss:   1.6185 | Val Acc:   0.2200\n",
      "  Epoch Duration: 1.20 seconds\n",
      "\n",
      "--- Fold 1, Epoch 10/100 ---\n"
     ]
    },
    {
     "name": "stderr",
     "output_type": "stream",
     "text": [
      "Training: 100%|██████████| 9/9 [00:00<00:00, 12.81it/s]\n"
     ]
    },
    {
     "name": "stdout",
     "output_type": "stream",
     "text": [
      "Epoch Loss: 0.2313, Accuracy: 0.9293\n"
     ]
    },
    {
     "name": "stderr",
     "output_type": "stream",
     "text": [
      "Validating: 100%|██████████| 2/2 [00:00<00:00,  5.43it/s]\n"
     ]
    },
    {
     "name": "stdout",
     "output_type": "stream",
     "text": [
      "  Train Loss: 0.2313 | Train Acc: 0.9293\n",
      "  Val Loss:   1.7050 | Val Acc:   0.1800\n",
      "  Epoch Duration: 1.08 seconds\n",
      "\n",
      "--- Fold 1, Epoch 11/100 ---\n"
     ]
    },
    {
     "name": "stderr",
     "output_type": "stream",
     "text": [
      "Training: 100%|██████████| 9/9 [00:00<00:00, 13.09it/s]\n"
     ]
    },
    {
     "name": "stdout",
     "output_type": "stream",
     "text": [
      "Epoch Loss: 0.4021, Accuracy: 0.8834\n"
     ]
    },
    {
     "name": "stderr",
     "output_type": "stream",
     "text": [
      "Validating: 100%|██████████| 2/2 [00:00<00:00,  5.31it/s]\n"
     ]
    },
    {
     "name": "stdout",
     "output_type": "stream",
     "text": [
      "  Train Loss: 0.4021 | Train Acc: 0.8834\n",
      "  Val Loss:   1.6141 | Val Acc:   0.3200\n",
      "  Epoch Duration: 1.07 seconds\n",
      "  -> New best inner validation accuracy: 0.3200. Model state saved.\n",
      "\n",
      "--- Fold 1, Epoch 12/100 ---\n"
     ]
    },
    {
     "name": "stderr",
     "output_type": "stream",
     "text": [
      "Training: 100%|██████████| 9/9 [00:00<00:00, 11.25it/s]\n"
     ]
    },
    {
     "name": "stdout",
     "output_type": "stream",
     "text": [
      "Epoch Loss: 0.3194, Accuracy: 0.8975\n"
     ]
    },
    {
     "name": "stderr",
     "output_type": "stream",
     "text": [
      "Validating: 100%|██████████| 2/2 [00:00<00:00,  5.47it/s]\n"
     ]
    },
    {
     "name": "stdout",
     "output_type": "stream",
     "text": [
      "  Train Loss: 0.3194 | Train Acc: 0.8975\n",
      "  Val Loss:   2.0581 | Val Acc:   0.1600\n",
      "  Epoch Duration: 1.17 seconds\n",
      "\n",
      "--- Fold 1, Epoch 13/100 ---\n"
     ]
    },
    {
     "name": "stderr",
     "output_type": "stream",
     "text": [
      "Training: 100%|██████████| 9/9 [00:00<00:00, 11.97it/s]\n"
     ]
    },
    {
     "name": "stdout",
     "output_type": "stream",
     "text": [
      "Epoch Loss: 0.1792, Accuracy: 0.9399\n"
     ]
    },
    {
     "name": "stderr",
     "output_type": "stream",
     "text": [
      "Validating: 100%|██████████| 2/2 [00:00<00:00,  5.58it/s]\n"
     ]
    },
    {
     "name": "stdout",
     "output_type": "stream",
     "text": [
      "  Train Loss: 0.1792 | Train Acc: 0.9399\n",
      "  Val Loss:   1.9555 | Val Acc:   0.2200\n",
      "  Epoch Duration: 1.12 seconds\n",
      "\n",
      "--- Fold 1, Epoch 14/100 ---\n"
     ]
    },
    {
     "name": "stderr",
     "output_type": "stream",
     "text": [
      "Training: 100%|██████████| 9/9 [00:00<00:00, 13.11it/s]\n"
     ]
    },
    {
     "name": "stdout",
     "output_type": "stream",
     "text": [
      "Epoch Loss: 0.1000, Accuracy: 0.9717\n"
     ]
    },
    {
     "name": "stderr",
     "output_type": "stream",
     "text": [
      "Validating: 100%|██████████| 2/2 [00:00<00:00,  5.26it/s]\n"
     ]
    },
    {
     "name": "stdout",
     "output_type": "stream",
     "text": [
      "  Train Loss: 0.1000 | Train Acc: 0.9717\n",
      "  Val Loss:   4.0429 | Val Acc:   0.1600\n",
      "  Epoch Duration: 1.07 seconds\n",
      "\n",
      "--- Fold 1, Epoch 15/100 ---\n"
     ]
    },
    {
     "name": "stderr",
     "output_type": "stream",
     "text": [
      "Training: 100%|██████████| 9/9 [00:00<00:00, 10.86it/s]\n"
     ]
    },
    {
     "name": "stdout",
     "output_type": "stream",
     "text": [
      "Epoch Loss: 0.0350, Accuracy: 0.9894\n"
     ]
    },
    {
     "name": "stderr",
     "output_type": "stream",
     "text": [
      "Validating: 100%|██████████| 2/2 [00:00<00:00,  5.45it/s]\n"
     ]
    },
    {
     "name": "stdout",
     "output_type": "stream",
     "text": [
      "  Train Loss: 0.0350 | Train Acc: 0.9894\n",
      "  Val Loss:   8.0853 | Val Acc:   0.1800\n",
      "  Epoch Duration: 1.20 seconds\n",
      "\n",
      "--- Fold 1, Epoch 16/100 ---\n"
     ]
    },
    {
     "name": "stderr",
     "output_type": "stream",
     "text": [
      "Training: 100%|██████████| 9/9 [00:00<00:00, 12.10it/s]\n"
     ]
    },
    {
     "name": "stdout",
     "output_type": "stream",
     "text": [
      "Epoch Loss: 0.0165, Accuracy: 0.9965\n"
     ]
    },
    {
     "name": "stderr",
     "output_type": "stream",
     "text": [
      "Validating: 100%|██████████| 2/2 [00:00<00:00,  5.31it/s]\n"
     ]
    },
    {
     "name": "stdout",
     "output_type": "stream",
     "text": [
      "  Train Loss: 0.0165 | Train Acc: 0.9965\n",
      "  Val Loss:   11.9555 | Val Acc:   0.1600\n",
      "  Epoch Duration: 1.13 seconds\n",
      "\n",
      "--- Fold 1, Epoch 17/100 ---\n"
     ]
    },
    {
     "name": "stderr",
     "output_type": "stream",
     "text": [
      "Training: 100%|██████████| 9/9 [00:00<00:00, 13.03it/s]\n"
     ]
    },
    {
     "name": "stdout",
     "output_type": "stream",
     "text": [
      "Epoch Loss: 0.0072, Accuracy: 0.9965\n"
     ]
    },
    {
     "name": "stderr",
     "output_type": "stream",
     "text": [
      "Validating: 100%|██████████| 2/2 [00:00<00:00,  5.38it/s]\n"
     ]
    },
    {
     "name": "stdout",
     "output_type": "stream",
     "text": [
      "  Train Loss: 0.0072 | Train Acc: 0.9965\n",
      "  Val Loss:   13.2682 | Val Acc:   0.1600\n",
      "  Epoch Duration: 1.07 seconds\n",
      "\n",
      "--- Fold 1, Epoch 18/100 ---\n"
     ]
    },
    {
     "name": "stderr",
     "output_type": "stream",
     "text": [
      "Training: 100%|██████████| 9/9 [00:00<00:00, 12.28it/s]\n"
     ]
    },
    {
     "name": "stdout",
     "output_type": "stream",
     "text": [
      "Epoch Loss: 0.0021, Accuracy: 1.0000\n"
     ]
    },
    {
     "name": "stderr",
     "output_type": "stream",
     "text": [
      "Validating: 100%|██████████| 2/2 [00:00<00:00,  5.57it/s]\n"
     ]
    },
    {
     "name": "stdout",
     "output_type": "stream",
     "text": [
      "  Train Loss: 0.0021 | Train Acc: 1.0000\n",
      "  Val Loss:   14.5316 | Val Acc:   0.1800\n",
      "  Epoch Duration: 1.10 seconds\n",
      "\n",
      "--- Fold 1, Epoch 19/100 ---\n"
     ]
    },
    {
     "name": "stderr",
     "output_type": "stream",
     "text": [
      "Training: 100%|██████████| 9/9 [00:00<00:00, 12.92it/s]\n"
     ]
    },
    {
     "name": "stdout",
     "output_type": "stream",
     "text": [
      "Epoch Loss: 0.0003, Accuracy: 1.0000\n"
     ]
    },
    {
     "name": "stderr",
     "output_type": "stream",
     "text": [
      "Validating: 100%|██████████| 2/2 [00:00<00:00,  5.29it/s]\n"
     ]
    },
    {
     "name": "stdout",
     "output_type": "stream",
     "text": [
      "  Train Loss: 0.0003 | Train Acc: 1.0000\n",
      "  Val Loss:   15.2986 | Val Acc:   0.2000\n",
      "  Epoch Duration: 1.08 seconds\n",
      "\n",
      "--- Fold 1, Epoch 20/100 ---\n"
     ]
    },
    {
     "name": "stderr",
     "output_type": "stream",
     "text": [
      "Training: 100%|██████████| 9/9 [00:00<00:00, 13.55it/s]\n"
     ]
    },
    {
     "name": "stdout",
     "output_type": "stream",
     "text": [
      "Epoch Loss: 0.0002, Accuracy: 1.0000\n"
     ]
    },
    {
     "name": "stderr",
     "output_type": "stream",
     "text": [
      "Validating: 100%|██████████| 2/2 [00:00<00:00,  5.38it/s]\n"
     ]
    },
    {
     "name": "stdout",
     "output_type": "stream",
     "text": [
      "  Train Loss: 0.0002 | Train Acc: 1.0000\n",
      "  Val Loss:   15.3211 | Val Acc:   0.2000\n",
      "  Epoch Duration: 1.04 seconds\n",
      "\n",
      "--- Fold 1, Epoch 21/100 ---\n"
     ]
    },
    {
     "name": "stderr",
     "output_type": "stream",
     "text": [
      "Training: 100%|██████████| 9/9 [00:00<00:00, 10.52it/s]\n"
     ]
    },
    {
     "name": "stdout",
     "output_type": "stream",
     "text": [
      "Epoch Loss: 0.0002, Accuracy: 1.0000\n"
     ]
    },
    {
     "name": "stderr",
     "output_type": "stream",
     "text": [
      "Validating: 100%|██████████| 2/2 [00:00<00:00,  4.05it/s]\n"
     ]
    },
    {
     "name": "stdout",
     "output_type": "stream",
     "text": [
      "  Train Loss: 0.0002 | Train Acc: 1.0000\n",
      "  Val Loss:   15.3218 | Val Acc:   0.2000\n",
      "  Epoch Duration: 1.36 seconds\n",
      "  Early stopping at epoch 21.\n",
      "\n",
      "--- Fold 1 Final Evaluation ---\n",
      "Loading best model for fold 1 (achieved 0.3200 on inner val set).\n"
     ]
    },
    {
     "name": "stderr",
     "output_type": "stream",
     "text": [
      "Validating: 100%|██████████| 6/6 [00:00<00:00, 10.82it/s]\n"
     ]
    },
    {
     "name": "stdout",
     "output_type": "stream",
     "text": [
      "Performance of best model on the OUTER TEST SET for fold 1: 0.2575\n",
      "\n",
      "============================== OUTER FOLD 2/3 ==============================\n",
      "Fold 2 Model has 486,826 trainable parameters.\n",
      "Fold 2 Training on 283, Validating on 50, Testing on 167.\n",
      "\n",
      "--- Fold 2, Epoch 1/100 ---\n"
     ]
    },
    {
     "name": "stderr",
     "output_type": "stream",
     "text": [
      "Training: 100%|██████████| 9/9 [00:00<00:00, 12.66it/s]\n"
     ]
    },
    {
     "name": "stdout",
     "output_type": "stream",
     "text": [
      "Epoch Loss: 1.6099, Accuracy: 0.2226\n"
     ]
    },
    {
     "name": "stderr",
     "output_type": "stream",
     "text": [
      "Validating: 100%|██████████| 2/2 [00:00<00:00,  5.51it/s]\n"
     ]
    },
    {
     "name": "stdout",
     "output_type": "stream",
     "text": [
      "  Train Loss: 1.6099 | Train Acc: 0.2226\n",
      "  Val Loss:   1.6094 | Val Acc:   0.2000\n",
      "  Epoch Duration: 1.08 seconds\n",
      "  -> New best inner validation accuracy: 0.2000. Model state saved.\n",
      "\n",
      "--- Fold 2, Epoch 2/100 ---\n"
     ]
    },
    {
     "name": "stderr",
     "output_type": "stream",
     "text": [
      "Training: 100%|██████████| 9/9 [00:00<00:00, 12.91it/s]\n"
     ]
    },
    {
     "name": "stdout",
     "output_type": "stream",
     "text": [
      "Epoch Loss: 1.6089, Accuracy: 0.2226\n"
     ]
    },
    {
     "name": "stderr",
     "output_type": "stream",
     "text": [
      "Validating: 100%|██████████| 2/2 [00:00<00:00,  5.25it/s]\n"
     ]
    },
    {
     "name": "stdout",
     "output_type": "stream",
     "text": [
      "  Train Loss: 1.6089 | Train Acc: 0.2226\n",
      "  Val Loss:   1.6094 | Val Acc:   0.1200\n",
      "  Epoch Duration: 1.09 seconds\n",
      "\n",
      "--- Fold 2, Epoch 3/100 ---\n"
     ]
    },
    {
     "name": "stderr",
     "output_type": "stream",
     "text": [
      "Training: 100%|██████████| 9/9 [00:00<00:00, 12.70it/s]\n"
     ]
    },
    {
     "name": "stdout",
     "output_type": "stream",
     "text": [
      "Epoch Loss: 1.6204, Accuracy: 0.2226\n"
     ]
    },
    {
     "name": "stderr",
     "output_type": "stream",
     "text": [
      "Validating: 100%|██████████| 2/2 [00:00<00:00,  5.51it/s]\n"
     ]
    },
    {
     "name": "stdout",
     "output_type": "stream",
     "text": [
      "  Train Loss: 1.6204 | Train Acc: 0.2226\n",
      "  Val Loss:   1.6093 | Val Acc:   0.3000\n",
      "  Epoch Duration: 1.08 seconds\n",
      "  -> New best inner validation accuracy: 0.3000. Model state saved.\n",
      "\n",
      "--- Fold 2, Epoch 4/100 ---\n"
     ]
    },
    {
     "name": "stderr",
     "output_type": "stream",
     "text": [
      "Training: 100%|██████████| 9/9 [00:00<00:00, 12.11it/s]\n"
     ]
    },
    {
     "name": "stdout",
     "output_type": "stream",
     "text": [
      "Epoch Loss: 1.5704, Accuracy: 0.3180\n"
     ]
    },
    {
     "name": "stderr",
     "output_type": "stream",
     "text": [
      "Validating: 100%|██████████| 2/2 [00:00<00:00,  5.52it/s]\n"
     ]
    },
    {
     "name": "stdout",
     "output_type": "stream",
     "text": [
      "  Train Loss: 1.5704 | Train Acc: 0.3180\n",
      "  Val Loss:   1.6073 | Val Acc:   0.2400\n",
      "  Epoch Duration: 1.11 seconds\n",
      "\n",
      "--- Fold 2, Epoch 5/100 ---\n"
     ]
    },
    {
     "name": "stderr",
     "output_type": "stream",
     "text": [
      "Training: 100%|██████████| 9/9 [00:00<00:00, 13.03it/s]\n"
     ]
    },
    {
     "name": "stdout",
     "output_type": "stream",
     "text": [
      "Epoch Loss: 1.4358, Accuracy: 0.3781\n"
     ]
    },
    {
     "name": "stderr",
     "output_type": "stream",
     "text": [
      "Validating: 100%|██████████| 2/2 [00:00<00:00,  5.29it/s]\n"
     ]
    },
    {
     "name": "stdout",
     "output_type": "stream",
     "text": [
      "  Train Loss: 1.4358 | Train Acc: 0.3781\n",
      "  Val Loss:   1.6092 | Val Acc:   0.2000\n",
      "  Epoch Duration: 1.08 seconds\n",
      "\n",
      "--- Fold 2, Epoch 6/100 ---\n"
     ]
    },
    {
     "name": "stderr",
     "output_type": "stream",
     "text": [
      "Training: 100%|██████████| 9/9 [00:00<00:00, 13.20it/s]\n"
     ]
    },
    {
     "name": "stdout",
     "output_type": "stream",
     "text": [
      "Epoch Loss: 1.2117, Accuracy: 0.4876\n"
     ]
    },
    {
     "name": "stderr",
     "output_type": "stream",
     "text": [
      "Validating: 100%|██████████| 2/2 [00:00<00:00,  5.34it/s]\n"
     ]
    },
    {
     "name": "stdout",
     "output_type": "stream",
     "text": [
      "  Train Loss: 1.2117 | Train Acc: 0.4876\n",
      "  Val Loss:   1.5946 | Val Acc:   0.1800\n",
      "  Epoch Duration: 1.06 seconds\n",
      "\n",
      "--- Fold 2, Epoch 7/100 ---\n"
     ]
    },
    {
     "name": "stderr",
     "output_type": "stream",
     "text": [
      "Training: 100%|██████████| 9/9 [00:00<00:00, 13.29it/s]\n"
     ]
    },
    {
     "name": "stdout",
     "output_type": "stream",
     "text": [
      "Epoch Loss: 0.8300, Accuracy: 0.6678\n"
     ]
    },
    {
     "name": "stderr",
     "output_type": "stream",
     "text": [
      "Validating: 100%|██████████| 2/2 [00:00<00:00,  4.48it/s]\n"
     ]
    },
    {
     "name": "stdout",
     "output_type": "stream",
     "text": [
      "  Train Loss: 0.8300 | Train Acc: 0.6678\n",
      "  Val Loss:   1.6362 | Val Acc:   0.1400\n",
      "  Epoch Duration: 1.13 seconds\n",
      "\n",
      "--- Fold 2, Epoch 8/100 ---\n"
     ]
    },
    {
     "name": "stderr",
     "output_type": "stream",
     "text": [
      "Training: 100%|██████████| 9/9 [00:00<00:00, 13.11it/s]\n"
     ]
    },
    {
     "name": "stdout",
     "output_type": "stream",
     "text": [
      "Epoch Loss: 0.6398, Accuracy: 0.7420\n"
     ]
    },
    {
     "name": "stderr",
     "output_type": "stream",
     "text": [
      "Validating: 100%|██████████| 2/2 [00:00<00:00,  5.27it/s]\n"
     ]
    },
    {
     "name": "stdout",
     "output_type": "stream",
     "text": [
      "  Train Loss: 0.6398 | Train Acc: 0.7420\n",
      "  Val Loss:   1.7194 | Val Acc:   0.2600\n",
      "  Epoch Duration: 1.07 seconds\n",
      "\n",
      "--- Fold 2, Epoch 9/100 ---\n"
     ]
    },
    {
     "name": "stderr",
     "output_type": "stream",
     "text": [
      "Training: 100%|██████████| 9/9 [00:00<00:00, 10.17it/s]\n"
     ]
    },
    {
     "name": "stdout",
     "output_type": "stream",
     "text": [
      "Epoch Loss: 0.4796, Accuracy: 0.8021\n"
     ]
    },
    {
     "name": "stderr",
     "output_type": "stream",
     "text": [
      "Validating: 100%|██████████| 2/2 [00:00<00:00,  5.62it/s]\n"
     ]
    },
    {
     "name": "stdout",
     "output_type": "stream",
     "text": [
      "  Train Loss: 0.4796 | Train Acc: 0.8021\n",
      "  Val Loss:   1.9851 | Val Acc:   0.1600\n",
      "  Epoch Duration: 1.25 seconds\n",
      "\n",
      "--- Fold 2, Epoch 10/100 ---\n"
     ]
    },
    {
     "name": "stderr",
     "output_type": "stream",
     "text": [
      "Training: 100%|██████████| 9/9 [00:00<00:00, 12.87it/s]\n"
     ]
    },
    {
     "name": "stdout",
     "output_type": "stream",
     "text": [
      "Epoch Loss: 0.4300, Accuracy: 0.8410\n"
     ]
    },
    {
     "name": "stderr",
     "output_type": "stream",
     "text": [
      "Validating: 100%|██████████| 2/2 [00:00<00:00,  4.87it/s]\n"
     ]
    },
    {
     "name": "stdout",
     "output_type": "stream",
     "text": [
      "  Train Loss: 0.4300 | Train Acc: 0.8410\n",
      "  Val Loss:   1.7194 | Val Acc:   0.2600\n",
      "  Epoch Duration: 1.12 seconds\n",
      "\n",
      "--- Fold 2, Epoch 11/100 ---\n"
     ]
    },
    {
     "name": "stderr",
     "output_type": "stream",
     "text": [
      "Training: 100%|██████████| 9/9 [00:00<00:00, 12.71it/s]\n"
     ]
    },
    {
     "name": "stdout",
     "output_type": "stream",
     "text": [
      "Epoch Loss: 0.2462, Accuracy: 0.9364\n"
     ]
    },
    {
     "name": "stderr",
     "output_type": "stream",
     "text": [
      "Validating: 100%|██████████| 2/2 [00:00<00:00,  5.58it/s]\n"
     ]
    },
    {
     "name": "stdout",
     "output_type": "stream",
     "text": [
      "  Train Loss: 0.2462 | Train Acc: 0.9364\n",
      "  Val Loss:   4.6727 | Val Acc:   0.1600\n",
      "  Epoch Duration: 1.07 seconds\n",
      "\n",
      "--- Fold 2, Epoch 12/100 ---\n"
     ]
    },
    {
     "name": "stderr",
     "output_type": "stream",
     "text": [
      "Training: 100%|██████████| 9/9 [00:00<00:00, 10.79it/s]\n"
     ]
    },
    {
     "name": "stdout",
     "output_type": "stream",
     "text": [
      "Epoch Loss: 0.2328, Accuracy: 0.9329\n"
     ]
    },
    {
     "name": "stderr",
     "output_type": "stream",
     "text": [
      "Validating: 100%|██████████| 2/2 [00:00<00:00,  5.61it/s]\n"
     ]
    },
    {
     "name": "stdout",
     "output_type": "stream",
     "text": [
      "  Train Loss: 0.2328 | Train Acc: 0.9329\n",
      "  Val Loss:   4.4095 | Val Acc:   0.2200\n",
      "  Epoch Duration: 1.20 seconds\n",
      "\n",
      "--- Fold 2, Epoch 13/100 ---\n"
     ]
    },
    {
     "name": "stderr",
     "output_type": "stream",
     "text": [
      "Training: 100%|██████████| 9/9 [00:00<00:00, 13.41it/s]\n"
     ]
    },
    {
     "name": "stdout",
     "output_type": "stream",
     "text": [
      "Epoch Loss: 0.2081, Accuracy: 0.9364\n"
     ]
    },
    {
     "name": "stderr",
     "output_type": "stream",
     "text": [
      "Validating: 100%|██████████| 2/2 [00:00<00:00,  5.20it/s]\n"
     ]
    },
    {
     "name": "stdout",
     "output_type": "stream",
     "text": [
      "  Train Loss: 0.2081 | Train Acc: 0.9364\n",
      "  Val Loss:   6.2638 | Val Acc:   0.2400\n",
      "  Epoch Duration: 1.06 seconds\n",
      "  Early stopping at epoch 13.\n",
      "\n",
      "--- Fold 2 Final Evaluation ---\n",
      "Loading best model for fold 2 (achieved 0.3000 on inner val set).\n"
     ]
    },
    {
     "name": "stderr",
     "output_type": "stream",
     "text": [
      "Validating: 100%|██████████| 6/6 [00:00<00:00, 11.07it/s]\n"
     ]
    },
    {
     "name": "stdout",
     "output_type": "stream",
     "text": [
      "Performance of best model on the OUTER TEST SET for fold 2: 0.2635\n",
      "\n",
      "============================== OUTER FOLD 3/3 ==============================\n",
      "Fold 3 Model has 486,826 trainable parameters.\n",
      "Fold 3 Training on 283, Validating on 51, Testing on 166.\n",
      "\n",
      "--- Fold 3, Epoch 1/100 ---\n"
     ]
    },
    {
     "name": "stderr",
     "output_type": "stream",
     "text": [
      "Training: 100%|██████████| 9/9 [00:00<00:00, 13.00it/s]\n"
     ]
    },
    {
     "name": "stdout",
     "output_type": "stream",
     "text": [
      "Epoch Loss: 1.6094, Accuracy: 0.2085\n"
     ]
    },
    {
     "name": "stderr",
     "output_type": "stream",
     "text": [
      "Validating: 100%|██████████| 2/2 [00:00<00:00,  5.31it/s]\n"
     ]
    },
    {
     "name": "stdout",
     "output_type": "stream",
     "text": [
      "  Train Loss: 1.6094 | Train Acc: 0.2085\n",
      "  Val Loss:   1.6094 | Val Acc:   0.2157\n",
      "  Epoch Duration: 1.08 seconds\n",
      "  -> New best inner validation accuracy: 0.2157. Model state saved.\n",
      "\n",
      "--- Fold 3, Epoch 2/100 ---\n"
     ]
    },
    {
     "name": "stderr",
     "output_type": "stream",
     "text": [
      "Training: 100%|██████████| 9/9 [00:00<00:00, 13.62it/s]\n"
     ]
    },
    {
     "name": "stdout",
     "output_type": "stream",
     "text": [
      "Epoch Loss: 1.6009, Accuracy: 0.2650\n"
     ]
    },
    {
     "name": "stderr",
     "output_type": "stream",
     "text": [
      "Validating: 100%|██████████| 2/2 [00:00<00:00,  5.36it/s]\n"
     ]
    },
    {
     "name": "stdout",
     "output_type": "stream",
     "text": [
      "  Train Loss: 1.6009 | Train Acc: 0.2650\n",
      "  Val Loss:   1.6094 | Val Acc:   0.2157\n",
      "  Epoch Duration: 1.04 seconds\n",
      "\n",
      "--- Fold 3, Epoch 3/100 ---\n"
     ]
    },
    {
     "name": "stderr",
     "output_type": "stream",
     "text": [
      "Training: 100%|██████████| 9/9 [00:00<00:00, 11.83it/s]\n"
     ]
    },
    {
     "name": "stdout",
     "output_type": "stream",
     "text": [
      "Epoch Loss: 1.5180, Accuracy: 0.3039\n"
     ]
    },
    {
     "name": "stderr",
     "output_type": "stream",
     "text": [
      "Validating: 100%|██████████| 2/2 [00:00<00:00,  5.57it/s]\n"
     ]
    },
    {
     "name": "stdout",
     "output_type": "stream",
     "text": [
      "  Train Loss: 1.5180 | Train Acc: 0.3039\n",
      "  Val Loss:   1.6089 | Val Acc:   0.2745\n",
      "  Epoch Duration: 1.13 seconds\n",
      "  -> New best inner validation accuracy: 0.2745. Model state saved.\n",
      "\n",
      "--- Fold 3, Epoch 4/100 ---\n"
     ]
    },
    {
     "name": "stderr",
     "output_type": "stream",
     "text": [
      "Training: 100%|██████████| 9/9 [00:00<00:00, 12.94it/s]\n"
     ]
    },
    {
     "name": "stdout",
     "output_type": "stream",
     "text": [
      "Epoch Loss: 1.2789, Accuracy: 0.4417\n"
     ]
    },
    {
     "name": "stderr",
     "output_type": "stream",
     "text": [
      "Validating: 100%|██████████| 2/2 [00:00<00:00,  4.94it/s]\n"
     ]
    },
    {
     "name": "stdout",
     "output_type": "stream",
     "text": [
      "  Train Loss: 1.2789 | Train Acc: 0.4417\n",
      "  Val Loss:   1.6083 | Val Acc:   0.2353\n",
      "  Epoch Duration: 1.11 seconds\n",
      "\n",
      "--- Fold 3, Epoch 5/100 ---\n"
     ]
    },
    {
     "name": "stderr",
     "output_type": "stream",
     "text": [
      "Training: 100%|██████████| 9/9 [00:00<00:00, 12.83it/s]\n"
     ]
    },
    {
     "name": "stdout",
     "output_type": "stream",
     "text": [
      "Epoch Loss: 1.0476, Accuracy: 0.5760\n"
     ]
    },
    {
     "name": "stderr",
     "output_type": "stream",
     "text": [
      "Validating: 100%|██████████| 2/2 [00:00<00:00,  5.53it/s]\n"
     ]
    },
    {
     "name": "stdout",
     "output_type": "stream",
     "text": [
      "  Train Loss: 1.0476 | Train Acc: 0.5760\n",
      "  Val Loss:   1.6115 | Val Acc:   0.2549\n",
      "  Epoch Duration: 1.07 seconds\n",
      "\n",
      "--- Fold 3, Epoch 6/100 ---\n"
     ]
    },
    {
     "name": "stderr",
     "output_type": "stream",
     "text": [
      "Training: 100%|██████████| 9/9 [00:00<00:00, 11.01it/s]\n"
     ]
    },
    {
     "name": "stdout",
     "output_type": "stream",
     "text": [
      "Epoch Loss: 0.8919, Accuracy: 0.6643\n"
     ]
    },
    {
     "name": "stderr",
     "output_type": "stream",
     "text": [
      "Validating: 100%|██████████| 2/2 [00:00<00:00,  5.41it/s]\n"
     ]
    },
    {
     "name": "stdout",
     "output_type": "stream",
     "text": [
      "  Train Loss: 0.8919 | Train Acc: 0.6643\n",
      "  Val Loss:   1.5778 | Val Acc:   0.3725\n",
      "  Epoch Duration: 1.19 seconds\n",
      "  -> New best inner validation accuracy: 0.3725. Model state saved.\n",
      "\n",
      "--- Fold 3, Epoch 7/100 ---\n"
     ]
    },
    {
     "name": "stderr",
     "output_type": "stream",
     "text": [
      "Training: 100%|██████████| 9/9 [00:00<00:00, 13.33it/s]\n"
     ]
    },
    {
     "name": "stdout",
     "output_type": "stream",
     "text": [
      "Epoch Loss: 0.7278, Accuracy: 0.7208\n"
     ]
    },
    {
     "name": "stderr",
     "output_type": "stream",
     "text": [
      "Validating: 100%|██████████| 2/2 [00:00<00:00,  4.55it/s]\n"
     ]
    },
    {
     "name": "stdout",
     "output_type": "stream",
     "text": [
      "  Train Loss: 0.7278 | Train Acc: 0.7208\n",
      "  Val Loss:   1.6354 | Val Acc:   0.2745\n",
      "  Epoch Duration: 1.12 seconds\n",
      "\n",
      "--- Fold 3, Epoch 8/100 ---\n"
     ]
    },
    {
     "name": "stderr",
     "output_type": "stream",
     "text": [
      "Training: 100%|██████████| 9/9 [00:00<00:00, 12.91it/s]\n"
     ]
    },
    {
     "name": "stdout",
     "output_type": "stream",
     "text": [
      "Epoch Loss: 0.5473, Accuracy: 0.8021\n"
     ]
    },
    {
     "name": "stderr",
     "output_type": "stream",
     "text": [
      "Validating: 100%|██████████| 2/2 [00:00<00:00,  5.23it/s]\n"
     ]
    },
    {
     "name": "stdout",
     "output_type": "stream",
     "text": [
      "  Train Loss: 0.5473 | Train Acc: 0.8021\n",
      "  Val Loss:   2.4118 | Val Acc:   0.2745\n",
      "  Epoch Duration: 1.09 seconds\n",
      "\n",
      "--- Fold 3, Epoch 9/100 ---\n"
     ]
    },
    {
     "name": "stderr",
     "output_type": "stream",
     "text": [
      "Training: 100%|██████████| 9/9 [00:00<00:00, 12.03it/s]\n"
     ]
    },
    {
     "name": "stdout",
     "output_type": "stream",
     "text": [
      "Epoch Loss: 0.5294, Accuracy: 0.8127\n"
     ]
    },
    {
     "name": "stderr",
     "output_type": "stream",
     "text": [
      "Validating: 100%|██████████| 2/2 [00:00<00:00,  5.30it/s]\n"
     ]
    },
    {
     "name": "stdout",
     "output_type": "stream",
     "text": [
      "  Train Loss: 0.5294 | Train Acc: 0.8127\n",
      "  Val Loss:   1.7376 | Val Acc:   0.2157\n",
      "  Epoch Duration: 1.13 seconds\n",
      "\n",
      "--- Fold 3, Epoch 10/100 ---\n"
     ]
    },
    {
     "name": "stderr",
     "output_type": "stream",
     "text": [
      "Training: 100%|██████████| 9/9 [00:00<00:00, 12.48it/s]\n"
     ]
    },
    {
     "name": "stdout",
     "output_type": "stream",
     "text": [
      "Epoch Loss: 0.3482, Accuracy: 0.8728\n"
     ]
    },
    {
     "name": "stderr",
     "output_type": "stream",
     "text": [
      "Validating: 100%|██████████| 2/2 [00:00<00:00,  5.59it/s]\n"
     ]
    },
    {
     "name": "stdout",
     "output_type": "stream",
     "text": [
      "  Train Loss: 0.3482 | Train Acc: 0.8728\n",
      "  Val Loss:   2.3544 | Val Acc:   0.0784\n",
      "  Epoch Duration: 1.09 seconds\n",
      "\n",
      "--- Fold 3, Epoch 11/100 ---\n"
     ]
    },
    {
     "name": "stderr",
     "output_type": "stream",
     "text": [
      "Training: 100%|██████████| 9/9 [00:00<00:00, 13.45it/s]\n"
     ]
    },
    {
     "name": "stdout",
     "output_type": "stream",
     "text": [
      "Epoch Loss: 0.3127, Accuracy: 0.9011\n"
     ]
    },
    {
     "name": "stderr",
     "output_type": "stream",
     "text": [
      "Validating: 100%|██████████| 2/2 [00:00<00:00,  5.44it/s]\n"
     ]
    },
    {
     "name": "stdout",
     "output_type": "stream",
     "text": [
      "  Train Loss: 0.3127 | Train Acc: 0.9011\n",
      "  Val Loss:   1.8140 | Val Acc:   0.1176\n",
      "  Epoch Duration: 1.04 seconds\n",
      "\n",
      "--- Fold 3, Epoch 12/100 ---\n"
     ]
    },
    {
     "name": "stderr",
     "output_type": "stream",
     "text": [
      "Training: 100%|██████████| 9/9 [00:00<00:00, 11.33it/s]\n"
     ]
    },
    {
     "name": "stdout",
     "output_type": "stream",
     "text": [
      "Epoch Loss: 0.2225, Accuracy: 0.9364\n"
     ]
    },
    {
     "name": "stderr",
     "output_type": "stream",
     "text": [
      "Validating: 100%|██████████| 2/2 [00:00<00:00,  5.55it/s]\n"
     ]
    },
    {
     "name": "stdout",
     "output_type": "stream",
     "text": [
      "  Train Loss: 0.2225 | Train Acc: 0.9364\n",
      "  Val Loss:   2.1815 | Val Acc:   0.1373\n",
      "  Epoch Duration: 1.16 seconds\n",
      "\n",
      "--- Fold 3, Epoch 13/100 ---\n"
     ]
    },
    {
     "name": "stderr",
     "output_type": "stream",
     "text": [
      "Training: 100%|██████████| 9/9 [00:00<00:00, 12.87it/s]\n"
     ]
    },
    {
     "name": "stdout",
     "output_type": "stream",
     "text": [
      "Epoch Loss: 0.1550, Accuracy: 0.9505\n"
     ]
    },
    {
     "name": "stderr",
     "output_type": "stream",
     "text": [
      "Validating: 100%|██████████| 2/2 [00:00<00:00,  4.96it/s]\n"
     ]
    },
    {
     "name": "stdout",
     "output_type": "stream",
     "text": [
      "  Train Loss: 0.1550 | Train Acc: 0.9505\n",
      "  Val Loss:   3.6137 | Val Acc:   0.1373\n",
      "  Epoch Duration: 1.11 seconds\n",
      "\n",
      "--- Fold 3, Epoch 14/100 ---\n"
     ]
    },
    {
     "name": "stderr",
     "output_type": "stream",
     "text": [
      "Training: 100%|██████████| 9/9 [00:00<00:00, 13.14it/s]\n"
     ]
    },
    {
     "name": "stdout",
     "output_type": "stream",
     "text": [
      "Epoch Loss: 0.0771, Accuracy: 0.9682\n"
     ]
    },
    {
     "name": "stderr",
     "output_type": "stream",
     "text": [
      "Validating: 100%|██████████| 2/2 [00:00<00:00,  5.36it/s]\n"
     ]
    },
    {
     "name": "stdout",
     "output_type": "stream",
     "text": [
      "  Train Loss: 0.0771 | Train Acc: 0.9682\n",
      "  Val Loss:   7.5947 | Val Acc:   0.1569\n",
      "  Epoch Duration: 1.07 seconds\n",
      "\n",
      "--- Fold 3, Epoch 15/100 ---\n"
     ]
    },
    {
     "name": "stderr",
     "output_type": "stream",
     "text": [
      "Training: 100%|██████████| 9/9 [00:00<00:00, 11.65it/s]\n"
     ]
    },
    {
     "name": "stdout",
     "output_type": "stream",
     "text": [
      "Epoch Loss: 0.0429, Accuracy: 0.9788\n"
     ]
    },
    {
     "name": "stderr",
     "output_type": "stream",
     "text": [
      "Validating: 100%|██████████| 2/2 [00:00<00:00,  5.63it/s]\n"
     ]
    },
    {
     "name": "stdout",
     "output_type": "stream",
     "text": [
      "  Train Loss: 0.0429 | Train Acc: 0.9788\n",
      "  Val Loss:   10.0323 | Val Acc:   0.1569\n",
      "  Epoch Duration: 1.14 seconds\n",
      "\n",
      "--- Fold 3, Epoch 16/100 ---\n"
     ]
    },
    {
     "name": "stderr",
     "output_type": "stream",
     "text": [
      "Training: 100%|██████████| 9/9 [00:00<00:00, 12.97it/s]\n"
     ]
    },
    {
     "name": "stdout",
     "output_type": "stream",
     "text": [
      "Epoch Loss: 0.0221, Accuracy: 0.9929\n"
     ]
    },
    {
     "name": "stderr",
     "output_type": "stream",
     "text": [
      "Validating: 100%|██████████| 2/2 [00:00<00:00,  4.68it/s]\n"
     ]
    },
    {
     "name": "stdout",
     "output_type": "stream",
     "text": [
      "  Train Loss: 0.0221 | Train Acc: 0.9929\n",
      "  Val Loss:   10.7023 | Val Acc:   0.1373\n",
      "  Epoch Duration: 1.13 seconds\n",
      "  Early stopping at epoch 16.\n",
      "\n",
      "--- Fold 3 Final Evaluation ---\n",
      "Loading best model for fold 3 (achieved 0.3725 on inner val set).\n"
     ]
    },
    {
     "name": "stderr",
     "output_type": "stream",
     "text": [
      "Validating: 100%|██████████| 6/6 [00:00<00:00, 10.04it/s]"
     ]
    },
    {
     "name": "stdout",
     "output_type": "stream",
     "text": [
      "Performance of best model on the OUTER TEST SET for fold 3: 0.1566\n",
      "\n",
      "============================== FINAL UNBIASED PERFORMANCE SUMMARY ==============================\n",
      "Unbiased test accuracies from each fold: ['0.2575', '0.2635', '0.1566']\n",
      "Average Test Accuracy from CV: 0.2259\n",
      "Standard Deviation of Test Accuracy from CV: 0.0490\n",
      "-> Estimated Generalization Performance: 0.2259 ± 0.0490\n",
      "\n",
      "Cross-validation finished.\n",
      "To view TensorBoard logs, run the following command in your terminal:\n",
      "tensorboard --logdir runs/O3_5-SCAR\n"
     ]
    },
    {
     "name": "stderr",
     "output_type": "stream",
     "text": [
      "\n"
     ]
    }
   ],
   "source": [
    "from sklearn.model_selection import train_test_split\n",
    "VAL_SPLIT_SIZE = 0.15\n",
    "\n",
    "# ==============================================================================\n",
    "# 2. DATASET & FOLD SETUP\n",
    "# ==============================================================================\n",
    "print(f\"Total data for cross-validation: {len(full_dataset)} samples.\")\n",
    "\n",
    "kfold = KFold(n_splits=N_SPLITS, shuffle=True, random_state=42)\n",
    "fold_test_results = []\n",
    "\n",
    "# ==============================================================================\n",
    "# 3. CROSS-VALIDATION LOOP\n",
    "# ==============================================================================\n",
    "for fold, (train_outer_idx, test_outer_idx) in enumerate(kfold.split(np.zeros(len(full_dataset)))):\n",
    "    print(f\"\\n{'='*30} OUTER FOLD {fold+1}/{N_SPLITS} {'='*30}\")\n",
    "    \n",
    "    SAVED_MODELS_PATH = f\"./saved_models/{MODEL_FOLDER_NAME}/\"\n",
    "\n",
    "    if not os.path.exists(SAVED_MODELS_PATH):\n",
    "        os.makedirs(SAVED_MODELS_PATH)\n",
    "    writer = SummaryWriter(log_dir=f'runs/{MODEL_FOLDER_NAME}/fold_{fold+1}')\n",
    "\n",
    "    inner_train_idx, inner_val_idx = train_test_split(\n",
    "        train_outer_idx,\n",
    "        test_size=VAL_SPLIT_SIZE,\n",
    "        shuffle=True, # Shuffle before splitting\n",
    "        random_state=42\n",
    "    )\n",
    "\n",
    "    inner_train_subset = Subset(full_dataset, inner_train_idx)\n",
    "    inner_val_subset = Subset(full_dataset, inner_val_idx)\n",
    "    outer_test_subset = Subset(full_dataset, test_outer_idx)\n",
    "\n",
    "    train_loader = DataLoader(inner_train_subset, batch_size=BATCH_SIZE, shuffle=True, num_workers=4, pin_memory=True)\n",
    "    val_loader = DataLoader(inner_val_subset, batch_size=BATCH_SIZE, shuffle=False, num_workers=4, pin_memory=True)\n",
    "    test_loader = DataLoader(outer_test_subset, batch_size=BATCH_SIZE, shuffle=False, num_workers=4, pin_memory=True)\n",
    "\n",
    "    model = OddOneOutSCAR().to(DEVICE)\n",
    "    optimizer = torch.optim.Adam(\n",
    "        model.parameters(),\n",
    "        lr=LEARNING_RATE,\n",
    "        betas=(BETA_1, BETA_2),\n",
    "        eps=EPSILON\n",
    "    )\n",
    "    criterion = nn.CrossEntropyLoss()\n",
    "    scheduler = torch.optim.lr_scheduler.ReduceLROnPlateau(\n",
    "        optimizer,\n",
    "        mode='min',\n",
    "        factor=0.1,\n",
    "        patience=5,\n",
    "    )\n",
    "    scaler = None\n",
    "\n",
    "\n",
    "    total_params = sum(p.numel() for p in model.parameters() if p.requires_grad)\n",
    "    print(f\"Fold {fold+1} Model has {total_params:,} trainable parameters.\")\n",
    "    print(f\"Fold {fold+1} Training on {len(inner_train_subset)}, Validating on {len(inner_val_subset)}, Testing on {len(outer_test_subset)}.\")\n",
    "\n",
    "    best_model_path = f\"{SAVED_MODELS_PATH}/best_model_fold_{fold+1}.pth\"\n",
    "    best_val_acc_fold = 0.0\n",
    "    epochs_without_improvement = 0\n",
    "\n",
    "    for epoch in range(1, EPOCHS + 1):\n",
    "        epoch_start_time = time.time()\n",
    "        \n",
    "        print(f\"\\n--- Fold {fold+1}, Epoch {epoch}/{EPOCHS} ---\")\n",
    "        train_loss, train_acc = train_epoch(model, train_loader, optimizer, criterion, DEVICE, scaler=scaler)\n",
    "        val_loss, val_acc = validate(model, val_loader, criterion, DEVICE)\n",
    "\n",
    "        scheduler.step(val_loss)  # Adjust learning rate based on validation loss\n",
    "\n",
    "        epoch_duration = time.time() - epoch_start_time\n",
    "\n",
    "        print(f\"  Train Loss: {train_loss:.4f} | Train Acc: {train_acc:.4f}\")\n",
    "        print(f\"  Val Loss:   {val_loss:.4f} | Val Acc:   {val_acc:.4f}\")\n",
    "        print(f\"  Epoch Duration: {epoch_duration:.2f} seconds\")\n",
    "        \n",
    "        writer.add_scalar('Loss/train', train_loss, epoch)\n",
    "        writer.add_scalar('Accuracy/train', train_acc, epoch)\n",
    "        writer.add_scalar('Loss/val', val_loss, epoch)\n",
    "        writer.add_scalar('Accuracy/val', val_acc, epoch)\n",
    "        writer.add_scalar('Performance/seconds_per_epoch', epoch_duration, epoch)\n",
    "        writer.add_scalar('Learning_Rate', optimizer.param_groups[0]['lr'], epoch)\n",
    "\n",
    "        if val_acc > best_val_acc_fold:\n",
    "            best_val_acc_fold = val_acc\n",
    "            epochs_without_improvement = 0\n",
    "            torch.save(model.state_dict(), best_model_path)\n",
    "            print(f\"  -> New best inner validation accuracy: {best_val_acc_fold:.4f}. Model state saved.\")\n",
    "        else:\n",
    "            epochs_without_improvement += 1\n",
    "            if epochs_without_improvement >= PATIENCE:\n",
    "                print(f\"  Early stopping at epoch {epoch}.\")\n",
    "                break\n",
    "    \n",
    "    print(f\"\\n--- Fold {fold+1} Final Evaluation ---\")\n",
    "    print(f\"Loading best model for fold {fold+1} (achieved {best_val_acc_fold:.4f} on inner val set).\")\n",
    "    # Load the best model weights identified during the inner loop\n",
    "    model.load_state_dict(torch.load(best_model_path))\n",
    "    \n",
    "    # Evaluate this best model on the completely unseen outer test set\n",
    "    _, final_fold_test_acc = validate(model, test_loader, criterion, DEVICE)\n",
    "    print(f\"Performance of best model on the OUTER TEST SET for fold {fold+1}: {final_fold_test_acc:.4f}\")\n",
    "\n",
    "    fold_test_results.append(final_fold_test_acc)\n",
    "    writer.add_scalar('Accuracy/test', final_fold_test_acc)\n",
    "\n",
    "    hparams = { 'learning_rate': LEARNING_RATE, 'batch_size': BATCH_SIZE }\n",
    "    final_metrics = {\n",
    "        'hparam/test_accuracy': final_fold_test_acc,\n",
    "        'hparam/best_inner_val_accuracy': best_val_acc_fold\n",
    "    }\n",
    "    writer.add_hparams(hparams, final_metrics)\n",
    "    writer.close()\n",
    "\n",
    "# ==============================================================================\n",
    "# 4. AGGREGATE AND REPORT CV RESULTS\n",
    "# ==============================================================================\n",
    "mean_test_acc = np.mean(fold_test_results)\n",
    "std_test_acc = np.std(fold_test_results)\n",
    "\n",
    "print(f\"\\n{'='*30} FINAL UNBIASED PERFORMANCE SUMMARY {'='*30}\")\n",
    "print(f\"Unbiased test accuracies from each fold: {[f'{acc:.4f}' for acc in fold_test_results]}\")\n",
    "print(f\"Average Test Accuracy from CV: {mean_test_acc:.4f}\")\n",
    "print(f\"Standard Deviation of Test Accuracy from CV: {std_test_acc:.4f}\")\n",
    "print(f\"-> Estimated Generalization Performance: {mean_test_acc:.4f} \\u00B1 {std_test_acc:.4f}\")\n",
    "\n",
    "print(\"\\nCross-validation finished.\")\n",
    "print(\"To view TensorBoard logs, run the following command in your terminal:\")\n",
    "print(f\"tensorboard --logdir runs/{MODEL_FOLDER_NAME}\")"
   ]
  },
  {
   "cell_type": "code",
   "execution_count": 13,
   "id": "3a8fc429",
   "metadata": {},
   "outputs": [],
   "source": [
    "def load_partial_state_dict(model_to_load: nn.Module, pretrained_path: str):\n",
    "    \"\"\"\n",
    "    Loads weights from a pretrained model, skipping layers with mismatched shapes.\n",
    "\n",
    "    Args:\n",
    "        model_to_load (nn.Module): The model instance to load weights INTO.\n",
    "        pretrained_path (str): The path to the .pt or .pth file of the pretrained model.\n",
    "    \"\"\"\n",
    "    print(f\"Loading pretrained weights from: {pretrained_path}\")\n",
    "    \n",
    "    pretrained_dict = torch.load(pretrained_path, map_location=torch.device('cpu'))\n",
    "\n",
    "    if 'model_state_dict' in pretrained_dict:\n",
    "        pretrained_dict = pretrained_dict['model_state_dict']\n",
    "    elif 'model' in pretrained_dict and isinstance(pretrained_dict['model'], dict):\n",
    "        pretrained_dict = pretrained_dict['model']\n",
    "        \n",
    "    model_dict = model_to_load.state_dict()\n",
    "\n",
    "    # 1. Filter out unnecessary keys and weights with mismatched shapes\n",
    "    # We create a new dictionary that only contains the weights we can actually use\n",
    "    filtered_dict = {}\n",
    "    initialized_layers = []\n",
    "    skipped_layers = []\n",
    "\n",
    "    for key, param in pretrained_dict.items():\n",
    "        if key in model_dict:\n",
    "            # Check if the shape of the weights match\n",
    "            if param.shape == model_dict[key].shape:\n",
    "                filtered_dict[key] = param\n",
    "                initialized_layers.append(key)\n",
    "            else:\n",
    "                # Key exists, but shapes are different. This is the main case we want to handle.\n",
    "                reason = f\"Shape Mismatch. Pretrained: {param.shape}, Model: {model_dict[key].shape}\"\n",
    "                skipped_layers.append((key, reason))\n",
    "        else:\n",
    "            # The key from the pretrained model doesn't exist in the new model\n",
    "            skipped_layers.append((key, \"Key Not Found in Model\"))\n",
    "\n",
    "    # 2. Overwrite the entries in the model's state dict with the filtered weights\n",
    "    model_dict.update(filtered_dict)\n",
    "\n",
    "    # 3. Load the updated state dict into the model.\n",
    "    # Since we've filtered it, we can be strict here.\n",
    "    model_to_load.load_state_dict(model_dict)\n",
    "\n",
    "    print(\"\\n--- Transfer Learning Report ---\")\n",
    "    print(f\"Successfully loaded {len(initialized_layers)} / {len(model_dict)} layers.\")\n",
    "    if initialized_layers and len(initialized_layers) < 10:\n",
    "        print(\"Loaded layers:\")\n",
    "        for layer in initialized_layers:\n",
    "            print(f\"  - {layer}\")\n",
    "    \n",
    "    if skipped_layers:\n",
    "        print(f\"\\nSkipped {len(skipped_layers)} layers:\")\n",
    "        for key, reason in skipped_layers:\n",
    "            print(f\"  - {key} ({reason})\")\n",
    "    print(\"--------------------------------\\n\")\n",
    "    \n",
    "    return model_to_load"
   ]
  },
  {
   "cell_type": "markdown",
   "id": "4a6b4afe",
   "metadata": {},
   "source": [
    "# I-RAVEN to O3 TL"
   ]
  },
  {
   "cell_type": "code",
   "execution_count": 21,
   "id": "1f0d78e0",
   "metadata": {},
   "outputs": [
    {
     "name": "stdout",
     "output_type": "stream",
     "text": [
      "Total data for cross-validation: 500 samples.\n",
      "\n",
      "============================== OUTER FOLD 1/3 ==============================\n",
      "Loading pretrained weights from: ../I_RAVEN/saved_models/best_model_scar.pth\n",
      "\n",
      "--- Transfer Learning Report ---\n",
      "Successfully loaded 64 / 64 layers.\n",
      "--------------------------------\n",
      "\n",
      "Fold 1 Model has 486,826 trainable parameters.\n",
      "Fold 1 Training on 283, Validating on 50, Testing on 167.\n",
      "\n",
      "--- Fold 1, Epoch 1/100 ---\n"
     ]
    },
    {
     "name": "stderr",
     "output_type": "stream",
     "text": [
      "Training: 100%|██████████| 9/9 [00:00<00:00, 12.72it/s]\n"
     ]
    },
    {
     "name": "stdout",
     "output_type": "stream",
     "text": [
      "Epoch Loss: 5.6073, Accuracy: 0.5124\n"
     ]
    },
    {
     "name": "stderr",
     "output_type": "stream",
     "text": [
      "Validating: 100%|██████████| 2/2 [00:00<00:00,  5.49it/s]\n"
     ]
    },
    {
     "name": "stdout",
     "output_type": "stream",
     "text": [
      "  Train Loss: 5.6073 | Train Acc: 0.5124\n",
      "  Val Loss:   1.6094 | Val Acc:   0.2400\n",
      "  Epoch Duration: 1.08 seconds\n",
      "  -> New best inner validation accuracy: 0.2400. Model state saved.\n",
      "\n",
      "--- Fold 1, Epoch 2/100 ---\n"
     ]
    },
    {
     "name": "stderr",
     "output_type": "stream",
     "text": [
      "Training: 100%|██████████| 9/9 [00:00<00:00,  9.89it/s]\n"
     ]
    },
    {
     "name": "stdout",
     "output_type": "stream",
     "text": [
      "Epoch Loss: 1.0032, Accuracy: 0.6184\n"
     ]
    },
    {
     "name": "stderr",
     "output_type": "stream",
     "text": [
      "Validating: 100%|██████████| 2/2 [00:00<00:00,  5.55it/s]\n"
     ]
    },
    {
     "name": "stdout",
     "output_type": "stream",
     "text": [
      "  Train Loss: 1.0032 | Train Acc: 0.6184\n",
      "  Val Loss:   1.6094 | Val Acc:   0.2200\n",
      "  Epoch Duration: 1.28 seconds\n",
      "\n",
      "--- Fold 1, Epoch 3/100 ---\n"
     ]
    },
    {
     "name": "stderr",
     "output_type": "stream",
     "text": [
      "Training: 100%|██████████| 9/9 [00:00<00:00, 13.78it/s]\n"
     ]
    },
    {
     "name": "stdout",
     "output_type": "stream",
     "text": [
      "Epoch Loss: 0.6844, Accuracy: 0.7456\n"
     ]
    },
    {
     "name": "stderr",
     "output_type": "stream",
     "text": [
      "Validating: 100%|██████████| 2/2 [00:00<00:00,  5.43it/s]\n"
     ]
    },
    {
     "name": "stdout",
     "output_type": "stream",
     "text": [
      "  Train Loss: 0.6844 | Train Acc: 0.7456\n",
      "  Val Loss:   1.6095 | Val Acc:   0.2200\n",
      "  Epoch Duration: 1.03 seconds\n",
      "\n",
      "--- Fold 1, Epoch 4/100 ---\n"
     ]
    },
    {
     "name": "stderr",
     "output_type": "stream",
     "text": [
      "Training: 100%|██████████| 9/9 [00:00<00:00, 13.64it/s]\n"
     ]
    },
    {
     "name": "stdout",
     "output_type": "stream",
     "text": [
      "Epoch Loss: 0.4556, Accuracy: 0.8481\n"
     ]
    },
    {
     "name": "stderr",
     "output_type": "stream",
     "text": [
      "Validating: 100%|██████████| 2/2 [00:00<00:00,  5.40it/s]\n"
     ]
    },
    {
     "name": "stdout",
     "output_type": "stream",
     "text": [
      "  Train Loss: 0.4556 | Train Acc: 0.8481\n",
      "  Val Loss:   1.6096 | Val Acc:   0.1600\n",
      "  Epoch Duration: 1.04 seconds\n",
      "\n",
      "--- Fold 1, Epoch 5/100 ---\n"
     ]
    },
    {
     "name": "stderr",
     "output_type": "stream",
     "text": [
      "Training: 100%|██████████| 9/9 [00:00<00:00, 13.92it/s]\n"
     ]
    },
    {
     "name": "stdout",
     "output_type": "stream",
     "text": [
      "Epoch Loss: 0.2697, Accuracy: 0.9223\n"
     ]
    },
    {
     "name": "stderr",
     "output_type": "stream",
     "text": [
      "Validating: 100%|██████████| 2/2 [00:00<00:00,  5.57it/s]\n"
     ]
    },
    {
     "name": "stdout",
     "output_type": "stream",
     "text": [
      "  Train Loss: 0.2697 | Train Acc: 0.9223\n",
      "  Val Loss:   1.6095 | Val Acc:   0.1400\n",
      "  Epoch Duration: 1.01 seconds\n",
      "\n",
      "--- Fold 1, Epoch 6/100 ---\n"
     ]
    },
    {
     "name": "stderr",
     "output_type": "stream",
     "text": [
      "Training: 100%|██████████| 9/9 [00:00<00:00, 13.72it/s]\n"
     ]
    },
    {
     "name": "stdout",
     "output_type": "stream",
     "text": [
      "Epoch Loss: 0.0942, Accuracy: 0.9823\n"
     ]
    },
    {
     "name": "stderr",
     "output_type": "stream",
     "text": [
      "Validating: 100%|██████████| 2/2 [00:00<00:00,  5.62it/s]\n"
     ]
    },
    {
     "name": "stdout",
     "output_type": "stream",
     "text": [
      "  Train Loss: 0.0942 | Train Acc: 0.9823\n",
      "  Val Loss:   1.6101 | Val Acc:   0.1000\n",
      "  Epoch Duration: 1.02 seconds\n",
      "\n",
      "--- Fold 1, Epoch 7/100 ---\n"
     ]
    },
    {
     "name": "stderr",
     "output_type": "stream",
     "text": [
      "Training: 100%|██████████| 9/9 [00:00<00:00, 13.80it/s]\n"
     ]
    },
    {
     "name": "stdout",
     "output_type": "stream",
     "text": [
      "Epoch Loss: 0.0490, Accuracy: 0.9859\n"
     ]
    },
    {
     "name": "stderr",
     "output_type": "stream",
     "text": [
      "Validating: 100%|██████████| 2/2 [00:00<00:00,  5.55it/s]\n"
     ]
    },
    {
     "name": "stdout",
     "output_type": "stream",
     "text": [
      "  Train Loss: 0.0490 | Train Acc: 0.9859\n",
      "  Val Loss:   1.6113 | Val Acc:   0.1800\n",
      "  Epoch Duration: 1.02 seconds\n",
      "\n",
      "--- Fold 1, Epoch 8/100 ---\n"
     ]
    },
    {
     "name": "stderr",
     "output_type": "stream",
     "text": [
      "Training: 100%|██████████| 9/9 [00:00<00:00, 13.71it/s]\n"
     ]
    },
    {
     "name": "stdout",
     "output_type": "stream",
     "text": [
      "Epoch Loss: 0.0056, Accuracy: 1.0000\n"
     ]
    },
    {
     "name": "stderr",
     "output_type": "stream",
     "text": [
      "Validating: 100%|██████████| 2/2 [00:00<00:00,  5.64it/s]\n"
     ]
    },
    {
     "name": "stdout",
     "output_type": "stream",
     "text": [
      "  Train Loss: 0.0056 | Train Acc: 1.0000\n",
      "  Val Loss:   1.6096 | Val Acc:   0.3200\n",
      "  Epoch Duration: 1.02 seconds\n",
      "  -> New best inner validation accuracy: 0.3200. Model state saved.\n",
      "\n",
      "--- Fold 1, Epoch 9/100 ---\n"
     ]
    },
    {
     "name": "stderr",
     "output_type": "stream",
     "text": [
      "Training: 100%|██████████| 9/9 [00:00<00:00, 13.63it/s]\n"
     ]
    },
    {
     "name": "stdout",
     "output_type": "stream",
     "text": [
      "Epoch Loss: 0.0021, Accuracy: 1.0000\n"
     ]
    },
    {
     "name": "stderr",
     "output_type": "stream",
     "text": [
      "Validating: 100%|██████████| 2/2 [00:00<00:00,  5.55it/s]\n"
     ]
    },
    {
     "name": "stdout",
     "output_type": "stream",
     "text": [
      "  Train Loss: 0.0021 | Train Acc: 1.0000\n",
      "  Val Loss:   1.6122 | Val Acc:   0.3000\n",
      "  Epoch Duration: 1.03 seconds\n",
      "\n",
      "--- Fold 1, Epoch 10/100 ---\n"
     ]
    },
    {
     "name": "stderr",
     "output_type": "stream",
     "text": [
      "Training: 100%|██████████| 9/9 [00:00<00:00, 13.65it/s]\n"
     ]
    },
    {
     "name": "stdout",
     "output_type": "stream",
     "text": [
      "Epoch Loss: 0.0010, Accuracy: 1.0000\n"
     ]
    },
    {
     "name": "stderr",
     "output_type": "stream",
     "text": [
      "Validating: 100%|██████████| 2/2 [00:00<00:00,  5.58it/s]\n"
     ]
    },
    {
     "name": "stdout",
     "output_type": "stream",
     "text": [
      "  Train Loss: 0.0010 | Train Acc: 1.0000\n",
      "  Val Loss:   1.6141 | Val Acc:   0.3000\n",
      "  Epoch Duration: 1.02 seconds\n",
      "\n",
      "--- Fold 1, Epoch 11/100 ---\n"
     ]
    },
    {
     "name": "stderr",
     "output_type": "stream",
     "text": [
      "Training: 100%|██████████| 9/9 [00:00<00:00, 13.71it/s]\n"
     ]
    },
    {
     "name": "stdout",
     "output_type": "stream",
     "text": [
      "Epoch Loss: 0.0007, Accuracy: 1.0000\n"
     ]
    },
    {
     "name": "stderr",
     "output_type": "stream",
     "text": [
      "Validating: 100%|██████████| 2/2 [00:00<00:00,  5.58it/s]\n"
     ]
    },
    {
     "name": "stdout",
     "output_type": "stream",
     "text": [
      "  Train Loss: 0.0007 | Train Acc: 1.0000\n",
      "  Val Loss:   1.6200 | Val Acc:   0.3400\n",
      "  Epoch Duration: 1.02 seconds\n",
      "  -> New best inner validation accuracy: 0.3400. Model state saved.\n",
      "\n",
      "--- Fold 1, Epoch 12/100 ---\n"
     ]
    },
    {
     "name": "stderr",
     "output_type": "stream",
     "text": [
      "Training: 100%|██████████| 9/9 [00:00<00:00, 13.86it/s]\n"
     ]
    },
    {
     "name": "stdout",
     "output_type": "stream",
     "text": [
      "Epoch Loss: 0.0005, Accuracy: 1.0000\n"
     ]
    },
    {
     "name": "stderr",
     "output_type": "stream",
     "text": [
      "Validating: 100%|██████████| 2/2 [00:00<00:00,  5.65it/s]\n"
     ]
    },
    {
     "name": "stdout",
     "output_type": "stream",
     "text": [
      "  Train Loss: 0.0005 | Train Acc: 1.0000\n",
      "  Val Loss:   1.6230 | Val Acc:   0.3400\n",
      "  Epoch Duration: 1.01 seconds\n",
      "\n",
      "--- Fold 1, Epoch 13/100 ---\n"
     ]
    },
    {
     "name": "stderr",
     "output_type": "stream",
     "text": [
      "Training: 100%|██████████| 9/9 [00:00<00:00, 13.37it/s]\n"
     ]
    },
    {
     "name": "stdout",
     "output_type": "stream",
     "text": [
      "Epoch Loss: 0.0015, Accuracy: 1.0000\n"
     ]
    },
    {
     "name": "stderr",
     "output_type": "stream",
     "text": [
      "Validating: 100%|██████████| 2/2 [00:00<00:00,  5.47it/s]\n"
     ]
    },
    {
     "name": "stdout",
     "output_type": "stream",
     "text": [
      "  Train Loss: 0.0015 | Train Acc: 1.0000\n",
      "  Val Loss:   1.6373 | Val Acc:   0.3600\n",
      "  Epoch Duration: 1.04 seconds\n",
      "  -> New best inner validation accuracy: 0.3600. Model state saved.\n",
      "\n",
      "--- Fold 1, Epoch 14/100 ---\n"
     ]
    },
    {
     "name": "stderr",
     "output_type": "stream",
     "text": [
      "Training: 100%|██████████| 9/9 [00:00<00:00, 13.82it/s]\n"
     ]
    },
    {
     "name": "stdout",
     "output_type": "stream",
     "text": [
      "Epoch Loss: 0.0004, Accuracy: 1.0000\n"
     ]
    },
    {
     "name": "stderr",
     "output_type": "stream",
     "text": [
      "Validating: 100%|██████████| 2/2 [00:00<00:00,  5.64it/s]\n"
     ]
    },
    {
     "name": "stdout",
     "output_type": "stream",
     "text": [
      "  Train Loss: 0.0004 | Train Acc: 1.0000\n",
      "  Val Loss:   1.7973 | Val Acc:   0.2600\n",
      "  Epoch Duration: 1.01 seconds\n",
      "\n",
      "--- Fold 1, Epoch 15/100 ---\n"
     ]
    },
    {
     "name": "stderr",
     "output_type": "stream",
     "text": [
      "Training: 100%|██████████| 9/9 [00:00<00:00, 13.52it/s]\n"
     ]
    },
    {
     "name": "stdout",
     "output_type": "stream",
     "text": [
      "Epoch Loss: 0.0004, Accuracy: 1.0000\n"
     ]
    },
    {
     "name": "stderr",
     "output_type": "stream",
     "text": [
      "Validating: 100%|██████████| 2/2 [00:00<00:00,  5.52it/s]\n"
     ]
    },
    {
     "name": "stdout",
     "output_type": "stream",
     "text": [
      "  Train Loss: 0.0004 | Train Acc: 1.0000\n",
      "  Val Loss:   3.5332 | Val Acc:   0.3800\n",
      "  Epoch Duration: 1.03 seconds\n",
      "  -> New best inner validation accuracy: 0.3800. Model state saved.\n",
      "\n",
      "--- Fold 1, Epoch 16/100 ---\n"
     ]
    },
    {
     "name": "stderr",
     "output_type": "stream",
     "text": [
      "Training: 100%|██████████| 9/9 [00:00<00:00, 13.72it/s]\n"
     ]
    },
    {
     "name": "stdout",
     "output_type": "stream",
     "text": [
      "Epoch Loss: 0.0003, Accuracy: 1.0000\n"
     ]
    },
    {
     "name": "stderr",
     "output_type": "stream",
     "text": [
      "Validating: 100%|██████████| 2/2 [00:00<00:00,  5.52it/s]\n"
     ]
    },
    {
     "name": "stdout",
     "output_type": "stream",
     "text": [
      "  Train Loss: 0.0003 | Train Acc: 1.0000\n",
      "  Val Loss:   5.1442 | Val Acc:   0.3800\n",
      "  Epoch Duration: 1.02 seconds\n",
      "\n",
      "--- Fold 1, Epoch 17/100 ---\n"
     ]
    },
    {
     "name": "stderr",
     "output_type": "stream",
     "text": [
      "Training: 100%|██████████| 9/9 [00:00<00:00, 13.76it/s]\n"
     ]
    },
    {
     "name": "stdout",
     "output_type": "stream",
     "text": [
      "Epoch Loss: 0.0003, Accuracy: 1.0000\n"
     ]
    },
    {
     "name": "stderr",
     "output_type": "stream",
     "text": [
      "Validating: 100%|██████████| 2/2 [00:00<00:00,  5.47it/s]\n"
     ]
    },
    {
     "name": "stdout",
     "output_type": "stream",
     "text": [
      "  Train Loss: 0.0003 | Train Acc: 1.0000\n",
      "  Val Loss:   5.9375 | Val Acc:   0.4000\n",
      "  Epoch Duration: 1.03 seconds\n",
      "  -> New best inner validation accuracy: 0.4000. Model state saved.\n",
      "\n",
      "--- Fold 1, Epoch 18/100 ---\n"
     ]
    },
    {
     "name": "stderr",
     "output_type": "stream",
     "text": [
      "Training: 100%|██████████| 9/9 [00:00<00:00, 13.56it/s]\n"
     ]
    },
    {
     "name": "stdout",
     "output_type": "stream",
     "text": [
      "Epoch Loss: 0.0003, Accuracy: 1.0000\n"
     ]
    },
    {
     "name": "stderr",
     "output_type": "stream",
     "text": [
      "Validating: 100%|██████████| 2/2 [00:00<00:00,  5.68it/s]\n"
     ]
    },
    {
     "name": "stdout",
     "output_type": "stream",
     "text": [
      "  Train Loss: 0.0003 | Train Acc: 1.0000\n",
      "  Val Loss:   6.6062 | Val Acc:   0.5000\n",
      "  Epoch Duration: 1.02 seconds\n",
      "  -> New best inner validation accuracy: 0.5000. Model state saved.\n",
      "\n",
      "--- Fold 1, Epoch 19/100 ---\n"
     ]
    },
    {
     "name": "stderr",
     "output_type": "stream",
     "text": [
      "Training: 100%|██████████| 9/9 [00:00<00:00, 13.35it/s]\n"
     ]
    },
    {
     "name": "stdout",
     "output_type": "stream",
     "text": [
      "Epoch Loss: 0.0004, Accuracy: 1.0000\n"
     ]
    },
    {
     "name": "stderr",
     "output_type": "stream",
     "text": [
      "Validating: 100%|██████████| 2/2 [00:00<00:00,  5.63it/s]\n"
     ]
    },
    {
     "name": "stdout",
     "output_type": "stream",
     "text": [
      "  Train Loss: 0.0004 | Train Acc: 1.0000\n",
      "  Val Loss:   7.3618 | Val Acc:   0.5400\n",
      "  Epoch Duration: 1.04 seconds\n",
      "  -> New best inner validation accuracy: 0.5400. Model state saved.\n",
      "\n",
      "--- Fold 1, Epoch 20/100 ---\n"
     ]
    },
    {
     "name": "stderr",
     "output_type": "stream",
     "text": [
      "Training: 100%|██████████| 9/9 [00:00<00:00, 13.65it/s]\n"
     ]
    },
    {
     "name": "stdout",
     "output_type": "stream",
     "text": [
      "Epoch Loss: 0.0003, Accuracy: 1.0000\n"
     ]
    },
    {
     "name": "stderr",
     "output_type": "stream",
     "text": [
      "Validating: 100%|██████████| 2/2 [00:00<00:00,  5.58it/s]\n"
     ]
    },
    {
     "name": "stdout",
     "output_type": "stream",
     "text": [
      "  Train Loss: 0.0003 | Train Acc: 1.0000\n",
      "  Val Loss:   5.8087 | Val Acc:   0.6200\n",
      "  Epoch Duration: 1.02 seconds\n",
      "  -> New best inner validation accuracy: 0.6200. Model state saved.\n",
      "\n",
      "--- Fold 1, Epoch 21/100 ---\n"
     ]
    },
    {
     "name": "stderr",
     "output_type": "stream",
     "text": [
      "Training: 100%|██████████| 9/9 [00:00<00:00, 13.80it/s]\n"
     ]
    },
    {
     "name": "stdout",
     "output_type": "stream",
     "text": [
      "Epoch Loss: 0.0003, Accuracy: 1.0000\n"
     ]
    },
    {
     "name": "stderr",
     "output_type": "stream",
     "text": [
      "Validating: 100%|██████████| 2/2 [00:00<00:00,  5.61it/s]\n"
     ]
    },
    {
     "name": "stdout",
     "output_type": "stream",
     "text": [
      "  Train Loss: 0.0003 | Train Acc: 1.0000\n",
      "  Val Loss:   3.4451 | Val Acc:   0.6400\n",
      "  Epoch Duration: 1.01 seconds\n",
      "  -> New best inner validation accuracy: 0.6400. Model state saved.\n",
      "\n",
      "--- Fold 1, Epoch 22/100 ---\n"
     ]
    },
    {
     "name": "stderr",
     "output_type": "stream",
     "text": [
      "Training: 100%|██████████| 9/9 [00:00<00:00, 13.93it/s]\n"
     ]
    },
    {
     "name": "stdout",
     "output_type": "stream",
     "text": [
      "Epoch Loss: 0.0005, Accuracy: 1.0000\n"
     ]
    },
    {
     "name": "stderr",
     "output_type": "stream",
     "text": [
      "Validating: 100%|██████████| 2/2 [00:00<00:00,  5.54it/s]\n"
     ]
    },
    {
     "name": "stdout",
     "output_type": "stream",
     "text": [
      "  Train Loss: 0.0005 | Train Acc: 1.0000\n",
      "  Val Loss:   2.5096 | Val Acc:   0.6600\n",
      "  Epoch Duration: 1.01 seconds\n",
      "  -> New best inner validation accuracy: 0.6600. Model state saved.\n",
      "\n",
      "--- Fold 1, Epoch 23/100 ---\n"
     ]
    },
    {
     "name": "stderr",
     "output_type": "stream",
     "text": [
      "Training: 100%|██████████| 9/9 [00:00<00:00, 14.08it/s]\n"
     ]
    },
    {
     "name": "stdout",
     "output_type": "stream",
     "text": [
      "Epoch Loss: 0.0003, Accuracy: 1.0000\n"
     ]
    },
    {
     "name": "stderr",
     "output_type": "stream",
     "text": [
      "Validating: 100%|██████████| 2/2 [00:00<00:00,  5.59it/s]\n"
     ]
    },
    {
     "name": "stdout",
     "output_type": "stream",
     "text": [
      "  Train Loss: 0.0003 | Train Acc: 1.0000\n",
      "  Val Loss:   2.1751 | Val Acc:   0.6600\n",
      "  Epoch Duration: 1.00 seconds\n",
      "\n",
      "--- Fold 1, Epoch 24/100 ---\n"
     ]
    },
    {
     "name": "stderr",
     "output_type": "stream",
     "text": [
      "Training: 100%|██████████| 9/9 [00:00<00:00, 13.65it/s]\n"
     ]
    },
    {
     "name": "stdout",
     "output_type": "stream",
     "text": [
      "Epoch Loss: 0.0003, Accuracy: 1.0000\n"
     ]
    },
    {
     "name": "stderr",
     "output_type": "stream",
     "text": [
      "Validating: 100%|██████████| 2/2 [00:00<00:00,  5.59it/s]\n"
     ]
    },
    {
     "name": "stdout",
     "output_type": "stream",
     "text": [
      "  Train Loss: 0.0003 | Train Acc: 1.0000\n",
      "  Val Loss:   2.0930 | Val Acc:   0.6800\n",
      "  Epoch Duration: 1.02 seconds\n",
      "  -> New best inner validation accuracy: 0.6800. Model state saved.\n",
      "\n",
      "--- Fold 1, Epoch 25/100 ---\n"
     ]
    },
    {
     "name": "stderr",
     "output_type": "stream",
     "text": [
      "Training: 100%|██████████| 9/9 [00:00<00:00, 13.93it/s]\n"
     ]
    },
    {
     "name": "stdout",
     "output_type": "stream",
     "text": [
      "Epoch Loss: 0.0003, Accuracy: 1.0000\n"
     ]
    },
    {
     "name": "stderr",
     "output_type": "stream",
     "text": [
      "Validating: 100%|██████████| 2/2 [00:00<00:00,  5.54it/s]\n"
     ]
    },
    {
     "name": "stdout",
     "output_type": "stream",
     "text": [
      "  Train Loss: 0.0003 | Train Acc: 1.0000\n",
      "  Val Loss:   2.0553 | Val Acc:   0.6600\n",
      "  Epoch Duration: 1.01 seconds\n",
      "\n",
      "--- Fold 1, Epoch 26/100 ---\n"
     ]
    },
    {
     "name": "stderr",
     "output_type": "stream",
     "text": [
      "Training: 100%|██████████| 9/9 [00:00<00:00, 13.83it/s]\n"
     ]
    },
    {
     "name": "stdout",
     "output_type": "stream",
     "text": [
      "Epoch Loss: 0.0003, Accuracy: 1.0000\n"
     ]
    },
    {
     "name": "stderr",
     "output_type": "stream",
     "text": [
      "Validating: 100%|██████████| 2/2 [00:00<00:00,  5.43it/s]\n"
     ]
    },
    {
     "name": "stdout",
     "output_type": "stream",
     "text": [
      "  Train Loss: 0.0003 | Train Acc: 1.0000\n",
      "  Val Loss:   2.0641 | Val Acc:   0.6600\n",
      "  Epoch Duration: 1.03 seconds\n",
      "\n",
      "--- Fold 1, Epoch 27/100 ---\n"
     ]
    },
    {
     "name": "stderr",
     "output_type": "stream",
     "text": [
      "Training: 100%|██████████| 9/9 [00:00<00:00, 13.55it/s]\n"
     ]
    },
    {
     "name": "stdout",
     "output_type": "stream",
     "text": [
      "Epoch Loss: 0.0005, Accuracy: 1.0000\n"
     ]
    },
    {
     "name": "stderr",
     "output_type": "stream",
     "text": [
      "Validating: 100%|██████████| 2/2 [00:00<00:00,  5.55it/s]\n"
     ]
    },
    {
     "name": "stdout",
     "output_type": "stream",
     "text": [
      "  Train Loss: 0.0005 | Train Acc: 1.0000\n",
      "  Val Loss:   2.0538 | Val Acc:   0.6600\n",
      "  Epoch Duration: 1.03 seconds\n",
      "\n",
      "--- Fold 1, Epoch 28/100 ---\n"
     ]
    },
    {
     "name": "stderr",
     "output_type": "stream",
     "text": [
      "Training: 100%|██████████| 9/9 [00:00<00:00, 13.71it/s]\n"
     ]
    },
    {
     "name": "stdout",
     "output_type": "stream",
     "text": [
      "Epoch Loss: 0.0003, Accuracy: 1.0000\n"
     ]
    },
    {
     "name": "stderr",
     "output_type": "stream",
     "text": [
      "Validating: 100%|██████████| 2/2 [00:00<00:00,  5.52it/s]\n"
     ]
    },
    {
     "name": "stdout",
     "output_type": "stream",
     "text": [
      "  Train Loss: 0.0003 | Train Acc: 1.0000\n",
      "  Val Loss:   2.0556 | Val Acc:   0.6600\n",
      "  Epoch Duration: 1.02 seconds\n",
      "\n",
      "--- Fold 1, Epoch 29/100 ---\n"
     ]
    },
    {
     "name": "stderr",
     "output_type": "stream",
     "text": [
      "Training: 100%|██████████| 9/9 [00:00<00:00, 13.74it/s]\n"
     ]
    },
    {
     "name": "stdout",
     "output_type": "stream",
     "text": [
      "Epoch Loss: 0.0005, Accuracy: 1.0000\n"
     ]
    },
    {
     "name": "stderr",
     "output_type": "stream",
     "text": [
      "Validating: 100%|██████████| 2/2 [00:00<00:00,  5.56it/s]\n"
     ]
    },
    {
     "name": "stdout",
     "output_type": "stream",
     "text": [
      "  Train Loss: 0.0005 | Train Acc: 1.0000\n",
      "  Val Loss:   2.0505 | Val Acc:   0.6800\n",
      "  Epoch Duration: 1.02 seconds\n",
      "\n",
      "--- Fold 1, Epoch 30/100 ---\n"
     ]
    },
    {
     "name": "stderr",
     "output_type": "stream",
     "text": [
      "Training: 100%|██████████| 9/9 [00:00<00:00, 13.85it/s]\n"
     ]
    },
    {
     "name": "stdout",
     "output_type": "stream",
     "text": [
      "Epoch Loss: 0.0003, Accuracy: 1.0000\n"
     ]
    },
    {
     "name": "stderr",
     "output_type": "stream",
     "text": [
      "Validating: 100%|██████████| 2/2 [00:00<00:00,  5.65it/s]\n"
     ]
    },
    {
     "name": "stdout",
     "output_type": "stream",
     "text": [
      "  Train Loss: 0.0003 | Train Acc: 1.0000\n",
      "  Val Loss:   2.0507 | Val Acc:   0.6800\n",
      "  Epoch Duration: 1.01 seconds\n",
      "\n",
      "--- Fold 1, Epoch 31/100 ---\n"
     ]
    },
    {
     "name": "stderr",
     "output_type": "stream",
     "text": [
      "Training: 100%|██████████| 9/9 [00:00<00:00, 13.81it/s]\n"
     ]
    },
    {
     "name": "stdout",
     "output_type": "stream",
     "text": [
      "Epoch Loss: 0.0004, Accuracy: 1.0000\n"
     ]
    },
    {
     "name": "stderr",
     "output_type": "stream",
     "text": [
      "Validating: 100%|██████████| 2/2 [00:00<00:00,  5.61it/s]\n"
     ]
    },
    {
     "name": "stdout",
     "output_type": "stream",
     "text": [
      "  Train Loss: 0.0004 | Train Acc: 1.0000\n",
      "  Val Loss:   2.0439 | Val Acc:   0.6800\n",
      "  Epoch Duration: 1.01 seconds\n",
      "\n",
      "--- Fold 1, Epoch 32/100 ---\n"
     ]
    },
    {
     "name": "stderr",
     "output_type": "stream",
     "text": [
      "Training: 100%|██████████| 9/9 [00:00<00:00, 13.76it/s]\n"
     ]
    },
    {
     "name": "stdout",
     "output_type": "stream",
     "text": [
      "Epoch Loss: 0.0004, Accuracy: 1.0000\n"
     ]
    },
    {
     "name": "stderr",
     "output_type": "stream",
     "text": [
      "Validating: 100%|██████████| 2/2 [00:00<00:00,  5.49it/s]\n"
     ]
    },
    {
     "name": "stdout",
     "output_type": "stream",
     "text": [
      "  Train Loss: 0.0004 | Train Acc: 1.0000\n",
      "  Val Loss:   2.0359 | Val Acc:   0.6800\n",
      "  Epoch Duration: 1.02 seconds\n",
      "\n",
      "--- Fold 1, Epoch 33/100 ---\n"
     ]
    },
    {
     "name": "stderr",
     "output_type": "stream",
     "text": [
      "Training: 100%|██████████| 9/9 [00:00<00:00, 13.74it/s]\n"
     ]
    },
    {
     "name": "stdout",
     "output_type": "stream",
     "text": [
      "Epoch Loss: 0.0004, Accuracy: 1.0000\n"
     ]
    },
    {
     "name": "stderr",
     "output_type": "stream",
     "text": [
      "Validating: 100%|██████████| 2/2 [00:00<00:00,  5.48it/s]\n"
     ]
    },
    {
     "name": "stdout",
     "output_type": "stream",
     "text": [
      "  Train Loss: 0.0004 | Train Acc: 1.0000\n",
      "  Val Loss:   2.0526 | Val Acc:   0.6800\n",
      "  Epoch Duration: 1.03 seconds\n",
      "\n",
      "--- Fold 1, Epoch 34/100 ---\n"
     ]
    },
    {
     "name": "stderr",
     "output_type": "stream",
     "text": [
      "Training: 100%|██████████| 9/9 [00:00<00:00, 13.84it/s]\n"
     ]
    },
    {
     "name": "stdout",
     "output_type": "stream",
     "text": [
      "Epoch Loss: 0.0003, Accuracy: 1.0000\n"
     ]
    },
    {
     "name": "stderr",
     "output_type": "stream",
     "text": [
      "Validating: 100%|██████████| 2/2 [00:00<00:00,  5.52it/s]\n"
     ]
    },
    {
     "name": "stdout",
     "output_type": "stream",
     "text": [
      "  Train Loss: 0.0003 | Train Acc: 1.0000\n",
      "  Val Loss:   2.0580 | Val Acc:   0.6600\n",
      "  Epoch Duration: 1.02 seconds\n",
      "  Early stopping at epoch 34.\n",
      "\n",
      "--- Fold 1 Final Evaluation ---\n",
      "Loading best model for fold 1 (achieved 0.6800 on inner val set).\n"
     ]
    },
    {
     "name": "stderr",
     "output_type": "stream",
     "text": [
      "Validating: 100%|██████████| 6/6 [00:00<00:00, 11.24it/s]\n"
     ]
    },
    {
     "name": "stdout",
     "output_type": "stream",
     "text": [
      "Performance of best model on the OUTER TEST SET for fold 1: 0.6407\n",
      "\n",
      "============================== OUTER FOLD 2/3 ==============================\n",
      "Loading pretrained weights from: ../I_RAVEN/saved_models/best_model_scar.pth\n",
      "\n",
      "--- Transfer Learning Report ---\n",
      "Successfully loaded 64 / 64 layers.\n",
      "--------------------------------\n",
      "\n",
      "Fold 2 Model has 486,826 trainable parameters.\n",
      "Fold 2 Training on 283, Validating on 50, Testing on 167.\n",
      "\n",
      "--- Fold 2, Epoch 1/100 ---\n"
     ]
    },
    {
     "name": "stderr",
     "output_type": "stream",
     "text": [
      "Training: 100%|██████████| 9/9 [00:00<00:00, 13.67it/s]\n"
     ]
    },
    {
     "name": "stdout",
     "output_type": "stream",
     "text": [
      "Epoch Loss: 5.3967, Accuracy: 0.4947\n"
     ]
    },
    {
     "name": "stderr",
     "output_type": "stream",
     "text": [
      "Validating: 100%|██████████| 2/2 [00:00<00:00,  5.55it/s]\n"
     ]
    },
    {
     "name": "stdout",
     "output_type": "stream",
     "text": [
      "  Train Loss: 5.3967 | Train Acc: 0.4947\n",
      "  Val Loss:   1.6095 | Val Acc:   0.1400\n",
      "  Epoch Duration: 1.02 seconds\n",
      "  -> New best inner validation accuracy: 0.1400. Model state saved.\n",
      "\n",
      "--- Fold 2, Epoch 2/100 ---\n"
     ]
    },
    {
     "name": "stderr",
     "output_type": "stream",
     "text": [
      "Training: 100%|██████████| 9/9 [00:00<00:00, 13.60it/s]\n"
     ]
    },
    {
     "name": "stdout",
     "output_type": "stream",
     "text": [
      "Epoch Loss: 1.0852, Accuracy: 0.5972\n"
     ]
    },
    {
     "name": "stderr",
     "output_type": "stream",
     "text": [
      "Validating: 100%|██████████| 2/2 [00:00<00:00,  5.57it/s]\n"
     ]
    },
    {
     "name": "stdout",
     "output_type": "stream",
     "text": [
      "  Train Loss: 1.0852 | Train Acc: 0.5972\n",
      "  Val Loss:   1.6094 | Val Acc:   0.2800\n",
      "  Epoch Duration: 1.03 seconds\n",
      "  -> New best inner validation accuracy: 0.2800. Model state saved.\n",
      "\n",
      "--- Fold 2, Epoch 3/100 ---\n"
     ]
    },
    {
     "name": "stderr",
     "output_type": "stream",
     "text": [
      "Training: 100%|██████████| 9/9 [00:00<00:00, 13.93it/s]\n"
     ]
    },
    {
     "name": "stdout",
     "output_type": "stream",
     "text": [
      "Epoch Loss: 0.8049, Accuracy: 0.7102\n"
     ]
    },
    {
     "name": "stderr",
     "output_type": "stream",
     "text": [
      "Validating: 100%|██████████| 2/2 [00:00<00:00,  5.65it/s]\n"
     ]
    },
    {
     "name": "stdout",
     "output_type": "stream",
     "text": [
      "  Train Loss: 0.8049 | Train Acc: 0.7102\n",
      "  Val Loss:   1.6099 | Val Acc:   0.1000\n",
      "  Epoch Duration: 1.01 seconds\n",
      "\n",
      "--- Fold 2, Epoch 4/100 ---\n"
     ]
    },
    {
     "name": "stderr",
     "output_type": "stream",
     "text": [
      "Training: 100%|██████████| 9/9 [00:00<00:00, 13.82it/s]\n"
     ]
    },
    {
     "name": "stdout",
     "output_type": "stream",
     "text": [
      "Epoch Loss: 0.5859, Accuracy: 0.7809\n"
     ]
    },
    {
     "name": "stderr",
     "output_type": "stream",
     "text": [
      "Validating: 100%|██████████| 2/2 [00:00<00:00,  5.53it/s]\n"
     ]
    },
    {
     "name": "stdout",
     "output_type": "stream",
     "text": [
      "  Train Loss: 0.5859 | Train Acc: 0.7809\n",
      "  Val Loss:   1.6095 | Val Acc:   0.1800\n",
      "  Epoch Duration: 1.02 seconds\n",
      "\n",
      "--- Fold 2, Epoch 5/100 ---\n"
     ]
    },
    {
     "name": "stderr",
     "output_type": "stream",
     "text": [
      "Training: 100%|██████████| 9/9 [00:00<00:00, 13.67it/s]\n"
     ]
    },
    {
     "name": "stdout",
     "output_type": "stream",
     "text": [
      "Epoch Loss: 0.4102, Accuracy: 0.8693\n"
     ]
    },
    {
     "name": "stderr",
     "output_type": "stream",
     "text": [
      "Validating: 100%|██████████| 2/2 [00:00<00:00,  5.56it/s]\n"
     ]
    },
    {
     "name": "stdout",
     "output_type": "stream",
     "text": [
      "  Train Loss: 0.4102 | Train Acc: 0.8693\n",
      "  Val Loss:   1.6093 | Val Acc:   0.2000\n",
      "  Epoch Duration: 1.02 seconds\n",
      "\n",
      "--- Fold 2, Epoch 6/100 ---\n"
     ]
    },
    {
     "name": "stderr",
     "output_type": "stream",
     "text": [
      "Training: 100%|██████████| 9/9 [00:00<00:00, 13.67it/s]\n"
     ]
    },
    {
     "name": "stdout",
     "output_type": "stream",
     "text": [
      "Epoch Loss: 0.2527, Accuracy: 0.9046\n"
     ]
    },
    {
     "name": "stderr",
     "output_type": "stream",
     "text": [
      "Validating: 100%|██████████| 2/2 [00:00<00:00,  5.67it/s]\n"
     ]
    },
    {
     "name": "stdout",
     "output_type": "stream",
     "text": [
      "  Train Loss: 0.2527 | Train Acc: 0.9046\n",
      "  Val Loss:   1.6090 | Val Acc:   0.3000\n",
      "  Epoch Duration: 1.02 seconds\n",
      "  -> New best inner validation accuracy: 0.3000. Model state saved.\n",
      "\n",
      "--- Fold 2, Epoch 7/100 ---\n"
     ]
    },
    {
     "name": "stderr",
     "output_type": "stream",
     "text": [
      "Training: 100%|██████████| 9/9 [00:00<00:00, 13.30it/s]\n"
     ]
    },
    {
     "name": "stdout",
     "output_type": "stream",
     "text": [
      "Epoch Loss: 0.1235, Accuracy: 0.9576\n"
     ]
    },
    {
     "name": "stderr",
     "output_type": "stream",
     "text": [
      "Validating: 100%|██████████| 2/2 [00:00<00:00,  5.47it/s]\n"
     ]
    },
    {
     "name": "stdout",
     "output_type": "stream",
     "text": [
      "  Train Loss: 0.1235 | Train Acc: 0.9576\n",
      "  Val Loss:   1.6089 | Val Acc:   0.2400\n",
      "  Epoch Duration: 1.05 seconds\n",
      "\n",
      "--- Fold 2, Epoch 8/100 ---\n"
     ]
    },
    {
     "name": "stderr",
     "output_type": "stream",
     "text": [
      "Training: 100%|██████████| 9/9 [00:00<00:00, 13.46it/s]\n"
     ]
    },
    {
     "name": "stdout",
     "output_type": "stream",
     "text": [
      "Epoch Loss: 0.0659, Accuracy: 0.9682\n"
     ]
    },
    {
     "name": "stderr",
     "output_type": "stream",
     "text": [
      "Validating: 100%|██████████| 2/2 [00:00<00:00,  5.44it/s]\n"
     ]
    },
    {
     "name": "stdout",
     "output_type": "stream",
     "text": [
      "  Train Loss: 0.0659 | Train Acc: 0.9682\n",
      "  Val Loss:   1.6111 | Val Acc:   0.1800\n",
      "  Epoch Duration: 1.04 seconds\n",
      "\n",
      "--- Fold 2, Epoch 9/100 ---\n"
     ]
    },
    {
     "name": "stderr",
     "output_type": "stream",
     "text": [
      "Training: 100%|██████████| 9/9 [00:00<00:00, 13.84it/s]\n"
     ]
    },
    {
     "name": "stdout",
     "output_type": "stream",
     "text": [
      "Epoch Loss: 0.1016, Accuracy: 0.9611\n"
     ]
    },
    {
     "name": "stderr",
     "output_type": "stream",
     "text": [
      "Validating: 100%|██████████| 2/2 [00:00<00:00,  5.60it/s]\n"
     ]
    },
    {
     "name": "stdout",
     "output_type": "stream",
     "text": [
      "  Train Loss: 0.1016 | Train Acc: 0.9611\n",
      "  Val Loss:   1.6090 | Val Acc:   0.2200\n",
      "  Epoch Duration: 1.01 seconds\n",
      "\n",
      "--- Fold 2, Epoch 10/100 ---\n"
     ]
    },
    {
     "name": "stderr",
     "output_type": "stream",
     "text": [
      "Training: 100%|██████████| 9/9 [00:00<00:00, 13.63it/s]\n"
     ]
    },
    {
     "name": "stdout",
     "output_type": "stream",
     "text": [
      "Epoch Loss: 0.0579, Accuracy: 0.9788\n"
     ]
    },
    {
     "name": "stderr",
     "output_type": "stream",
     "text": [
      "Validating: 100%|██████████| 2/2 [00:00<00:00,  5.53it/s]\n"
     ]
    },
    {
     "name": "stdout",
     "output_type": "stream",
     "text": [
      "  Train Loss: 0.0579 | Train Acc: 0.9788\n",
      "  Val Loss:   1.5744 | Val Acc:   0.2800\n",
      "  Epoch Duration: 1.03 seconds\n",
      "\n",
      "--- Fold 2, Epoch 11/100 ---\n"
     ]
    },
    {
     "name": "stderr",
     "output_type": "stream",
     "text": [
      "Training: 100%|██████████| 9/9 [00:00<00:00, 13.64it/s]\n"
     ]
    },
    {
     "name": "stdout",
     "output_type": "stream",
     "text": [
      "Epoch Loss: 0.1591, Accuracy: 0.9576\n"
     ]
    },
    {
     "name": "stderr",
     "output_type": "stream",
     "text": [
      "Validating: 100%|██████████| 2/2 [00:00<00:00,  5.50it/s]\n"
     ]
    },
    {
     "name": "stdout",
     "output_type": "stream",
     "text": [
      "  Train Loss: 0.1591 | Train Acc: 0.9576\n",
      "  Val Loss:   1.6560 | Val Acc:   0.2000\n",
      "  Epoch Duration: 1.03 seconds\n",
      "\n",
      "--- Fold 2, Epoch 12/100 ---\n"
     ]
    },
    {
     "name": "stderr",
     "output_type": "stream",
     "text": [
      "Training: 100%|██████████| 9/9 [00:00<00:00, 13.82it/s]\n"
     ]
    },
    {
     "name": "stdout",
     "output_type": "stream",
     "text": [
      "Epoch Loss: 0.0659, Accuracy: 0.9753\n"
     ]
    },
    {
     "name": "stderr",
     "output_type": "stream",
     "text": [
      "Validating: 100%|██████████| 2/2 [00:00<00:00,  5.58it/s]\n"
     ]
    },
    {
     "name": "stdout",
     "output_type": "stream",
     "text": [
      "  Train Loss: 0.0659 | Train Acc: 0.9753\n",
      "  Val Loss:   1.6585 | Val Acc:   0.2200\n",
      "  Epoch Duration: 1.02 seconds\n",
      "\n",
      "--- Fold 2, Epoch 13/100 ---\n"
     ]
    },
    {
     "name": "stderr",
     "output_type": "stream",
     "text": [
      "Training: 100%|██████████| 9/9 [00:00<00:00, 13.80it/s]\n"
     ]
    },
    {
     "name": "stdout",
     "output_type": "stream",
     "text": [
      "Epoch Loss: 0.1019, Accuracy: 0.9788\n"
     ]
    },
    {
     "name": "stderr",
     "output_type": "stream",
     "text": [
      "Validating: 100%|██████████| 2/2 [00:00<00:00,  5.53it/s]\n"
     ]
    },
    {
     "name": "stdout",
     "output_type": "stream",
     "text": [
      "  Train Loss: 0.1019 | Train Acc: 0.9788\n",
      "  Val Loss:   1.6649 | Val Acc:   0.3200\n",
      "  Epoch Duration: 1.02 seconds\n",
      "  -> New best inner validation accuracy: 0.3200. Model state saved.\n",
      "\n",
      "--- Fold 2, Epoch 14/100 ---\n"
     ]
    },
    {
     "name": "stderr",
     "output_type": "stream",
     "text": [
      "Training: 100%|██████████| 9/9 [00:00<00:00, 13.30it/s]\n"
     ]
    },
    {
     "name": "stdout",
     "output_type": "stream",
     "text": [
      "Epoch Loss: 0.0380, Accuracy: 0.9929\n"
     ]
    },
    {
     "name": "stderr",
     "output_type": "stream",
     "text": [
      "Validating: 100%|██████████| 2/2 [00:00<00:00,  5.64it/s]\n"
     ]
    },
    {
     "name": "stdout",
     "output_type": "stream",
     "text": [
      "  Train Loss: 0.0380 | Train Acc: 0.9929\n",
      "  Val Loss:   2.3696 | Val Acc:   0.3000\n",
      "  Epoch Duration: 1.04 seconds\n",
      "\n",
      "--- Fold 2, Epoch 15/100 ---\n"
     ]
    },
    {
     "name": "stderr",
     "output_type": "stream",
     "text": [
      "Training: 100%|██████████| 9/9 [00:00<00:00, 13.54it/s]\n"
     ]
    },
    {
     "name": "stdout",
     "output_type": "stream",
     "text": [
      "Epoch Loss: 0.0435, Accuracy: 0.9823\n"
     ]
    },
    {
     "name": "stderr",
     "output_type": "stream",
     "text": [
      "Validating: 100%|██████████| 2/2 [00:00<00:00,  5.57it/s]\n"
     ]
    },
    {
     "name": "stdout",
     "output_type": "stream",
     "text": [
      "  Train Loss: 0.0435 | Train Acc: 0.9823\n",
      "  Val Loss:   3.4008 | Val Acc:   0.3600\n",
      "  Epoch Duration: 1.03 seconds\n",
      "  -> New best inner validation accuracy: 0.3600. Model state saved.\n",
      "\n",
      "--- Fold 2, Epoch 16/100 ---\n"
     ]
    },
    {
     "name": "stderr",
     "output_type": "stream",
     "text": [
      "Training: 100%|██████████| 9/9 [00:00<00:00, 13.53it/s]\n"
     ]
    },
    {
     "name": "stdout",
     "output_type": "stream",
     "text": [
      "Epoch Loss: 0.0126, Accuracy: 0.9965\n"
     ]
    },
    {
     "name": "stderr",
     "output_type": "stream",
     "text": [
      "Validating: 100%|██████████| 2/2 [00:00<00:00,  5.44it/s]\n"
     ]
    },
    {
     "name": "stdout",
     "output_type": "stream",
     "text": [
      "  Train Loss: 0.0126 | Train Acc: 0.9965\n",
      "  Val Loss:   2.0153 | Val Acc:   0.2800\n",
      "  Epoch Duration: 1.04 seconds\n",
      "\n",
      "--- Fold 2, Epoch 17/100 ---\n"
     ]
    },
    {
     "name": "stderr",
     "output_type": "stream",
     "text": [
      "Training: 100%|██████████| 9/9 [00:00<00:00, 13.46it/s]\n"
     ]
    },
    {
     "name": "stdout",
     "output_type": "stream",
     "text": [
      "Epoch Loss: 0.0302, Accuracy: 0.9859\n"
     ]
    },
    {
     "name": "stderr",
     "output_type": "stream",
     "text": [
      "Validating: 100%|██████████| 2/2 [00:00<00:00,  5.65it/s]\n"
     ]
    },
    {
     "name": "stdout",
     "output_type": "stream",
     "text": [
      "  Train Loss: 0.0302 | Train Acc: 0.9859\n",
      "  Val Loss:   3.4977 | Val Acc:   0.3200\n",
      "  Epoch Duration: 1.03 seconds\n",
      "\n",
      "--- Fold 2, Epoch 18/100 ---\n"
     ]
    },
    {
     "name": "stderr",
     "output_type": "stream",
     "text": [
      "Training: 100%|██████████| 9/9 [00:00<00:00, 14.16it/s]\n"
     ]
    },
    {
     "name": "stdout",
     "output_type": "stream",
     "text": [
      "Epoch Loss: 0.0024, Accuracy: 1.0000\n"
     ]
    },
    {
     "name": "stderr",
     "output_type": "stream",
     "text": [
      "Validating: 100%|██████████| 2/2 [00:00<00:00,  5.70it/s]\n"
     ]
    },
    {
     "name": "stdout",
     "output_type": "stream",
     "text": [
      "  Train Loss: 0.0024 | Train Acc: 1.0000\n",
      "  Val Loss:   4.1827 | Val Acc:   0.4600\n",
      "  Epoch Duration: 0.99 seconds\n",
      "  -> New best inner validation accuracy: 0.4600. Model state saved.\n",
      "\n",
      "--- Fold 2, Epoch 19/100 ---\n"
     ]
    },
    {
     "name": "stderr",
     "output_type": "stream",
     "text": [
      "Training: 100%|██████████| 9/9 [00:00<00:00, 14.30it/s]\n"
     ]
    },
    {
     "name": "stdout",
     "output_type": "stream",
     "text": [
      "Epoch Loss: 0.0003, Accuracy: 1.0000\n"
     ]
    },
    {
     "name": "stderr",
     "output_type": "stream",
     "text": [
      "Validating: 100%|██████████| 2/2 [00:00<00:00,  5.90it/s]\n"
     ]
    },
    {
     "name": "stdout",
     "output_type": "stream",
     "text": [
      "  Train Loss: 0.0003 | Train Acc: 1.0000\n",
      "  Val Loss:   5.4259 | Val Acc:   0.5000\n",
      "  Epoch Duration: 0.97 seconds\n",
      "  -> New best inner validation accuracy: 0.5000. Model state saved.\n",
      "\n",
      "--- Fold 2, Epoch 20/100 ---\n"
     ]
    },
    {
     "name": "stderr",
     "output_type": "stream",
     "text": [
      "Training: 100%|██████████| 9/9 [00:00<00:00, 14.11it/s]\n"
     ]
    },
    {
     "name": "stdout",
     "output_type": "stream",
     "text": [
      "Epoch Loss: 0.0012, Accuracy: 1.0000\n"
     ]
    },
    {
     "name": "stderr",
     "output_type": "stream",
     "text": [
      "Validating: 100%|██████████| 2/2 [00:00<00:00,  5.83it/s]\n"
     ]
    },
    {
     "name": "stdout",
     "output_type": "stream",
     "text": [
      "  Train Loss: 0.0012 | Train Acc: 1.0000\n",
      "  Val Loss:   8.8617 | Val Acc:   0.5400\n",
      "  Epoch Duration: 0.99 seconds\n",
      "  -> New best inner validation accuracy: 0.5400. Model state saved.\n",
      "\n",
      "--- Fold 2, Epoch 21/100 ---\n"
     ]
    },
    {
     "name": "stderr",
     "output_type": "stream",
     "text": [
      "Training: 100%|██████████| 9/9 [00:00<00:00, 14.00it/s]\n"
     ]
    },
    {
     "name": "stdout",
     "output_type": "stream",
     "text": [
      "Epoch Loss: 0.0002, Accuracy: 1.0000\n"
     ]
    },
    {
     "name": "stderr",
     "output_type": "stream",
     "text": [
      "Validating: 100%|██████████| 2/2 [00:00<00:00,  5.72it/s]\n"
     ]
    },
    {
     "name": "stdout",
     "output_type": "stream",
     "text": [
      "  Train Loss: 0.0002 | Train Acc: 1.0000\n",
      "  Val Loss:   6.5719 | Val Acc:   0.5600\n",
      "  Epoch Duration: 1.00 seconds\n",
      "  -> New best inner validation accuracy: 0.5600. Model state saved.\n",
      "\n",
      "--- Fold 2, Epoch 22/100 ---\n"
     ]
    },
    {
     "name": "stderr",
     "output_type": "stream",
     "text": [
      "Training: 100%|██████████| 9/9 [00:00<00:00, 14.09it/s]\n"
     ]
    },
    {
     "name": "stdout",
     "output_type": "stream",
     "text": [
      "Epoch Loss: 0.0001, Accuracy: 1.0000\n"
     ]
    },
    {
     "name": "stderr",
     "output_type": "stream",
     "text": [
      "Validating: 100%|██████████| 2/2 [00:00<00:00,  5.69it/s]\n"
     ]
    },
    {
     "name": "stdout",
     "output_type": "stream",
     "text": [
      "  Train Loss: 0.0001 | Train Acc: 1.0000\n",
      "  Val Loss:   5.3634 | Val Acc:   0.6200\n",
      "  Epoch Duration: 1.00 seconds\n",
      "  -> New best inner validation accuracy: 0.6200. Model state saved.\n",
      "\n",
      "--- Fold 2, Epoch 23/100 ---\n"
     ]
    },
    {
     "name": "stderr",
     "output_type": "stream",
     "text": [
      "Training: 100%|██████████| 9/9 [00:00<00:00, 14.11it/s]\n"
     ]
    },
    {
     "name": "stdout",
     "output_type": "stream",
     "text": [
      "Epoch Loss: 0.0002, Accuracy: 1.0000\n"
     ]
    },
    {
     "name": "stderr",
     "output_type": "stream",
     "text": [
      "Validating: 100%|██████████| 2/2 [00:00<00:00,  5.59it/s]\n"
     ]
    },
    {
     "name": "stdout",
     "output_type": "stream",
     "text": [
      "  Train Loss: 0.0002 | Train Acc: 1.0000\n",
      "  Val Loss:   4.7383 | Val Acc:   0.7000\n",
      "  Epoch Duration: 1.00 seconds\n",
      "  -> New best inner validation accuracy: 0.7000. Model state saved.\n",
      "\n",
      "--- Fold 2, Epoch 24/100 ---\n"
     ]
    },
    {
     "name": "stderr",
     "output_type": "stream",
     "text": [
      "Training: 100%|██████████| 9/9 [00:00<00:00, 13.73it/s]\n"
     ]
    },
    {
     "name": "stdout",
     "output_type": "stream",
     "text": [
      "Epoch Loss: 0.0002, Accuracy: 1.0000\n"
     ]
    },
    {
     "name": "stderr",
     "output_type": "stream",
     "text": [
      "Validating: 100%|██████████| 2/2 [00:00<00:00,  5.73it/s]\n"
     ]
    },
    {
     "name": "stdout",
     "output_type": "stream",
     "text": [
      "  Train Loss: 0.0002 | Train Acc: 1.0000\n",
      "  Val Loss:   4.4975 | Val Acc:   0.6800\n",
      "  Epoch Duration: 1.01 seconds\n",
      "\n",
      "--- Fold 2, Epoch 25/100 ---\n"
     ]
    },
    {
     "name": "stderr",
     "output_type": "stream",
     "text": [
      "Training: 100%|██████████| 9/9 [00:00<00:00, 13.89it/s]\n"
     ]
    },
    {
     "name": "stdout",
     "output_type": "stream",
     "text": [
      "Epoch Loss: 0.0001, Accuracy: 1.0000\n"
     ]
    },
    {
     "name": "stderr",
     "output_type": "stream",
     "text": [
      "Validating: 100%|██████████| 2/2 [00:00<00:00,  5.59it/s]\n"
     ]
    },
    {
     "name": "stdout",
     "output_type": "stream",
     "text": [
      "  Train Loss: 0.0001 | Train Acc: 1.0000\n",
      "  Val Loss:   4.3823 | Val Acc:   0.6800\n",
      "  Epoch Duration: 1.01 seconds\n",
      "\n",
      "--- Fold 2, Epoch 26/100 ---\n"
     ]
    },
    {
     "name": "stderr",
     "output_type": "stream",
     "text": [
      "Training: 100%|██████████| 9/9 [00:00<00:00, 13.95it/s]\n"
     ]
    },
    {
     "name": "stdout",
     "output_type": "stream",
     "text": [
      "Epoch Loss: 0.0001, Accuracy: 1.0000\n"
     ]
    },
    {
     "name": "stderr",
     "output_type": "stream",
     "text": [
      "Validating: 100%|██████████| 2/2 [00:00<00:00,  5.70it/s]\n"
     ]
    },
    {
     "name": "stdout",
     "output_type": "stream",
     "text": [
      "  Train Loss: 0.0001 | Train Acc: 1.0000\n",
      "  Val Loss:   4.3554 | Val Acc:   0.6800\n",
      "  Epoch Duration: 1.00 seconds\n",
      "\n",
      "--- Fold 2, Epoch 27/100 ---\n"
     ]
    },
    {
     "name": "stderr",
     "output_type": "stream",
     "text": [
      "Training: 100%|██████████| 9/9 [00:00<00:00, 13.87it/s]\n"
     ]
    },
    {
     "name": "stdout",
     "output_type": "stream",
     "text": [
      "Epoch Loss: 0.0001, Accuracy: 1.0000\n"
     ]
    },
    {
     "name": "stderr",
     "output_type": "stream",
     "text": [
      "Validating: 100%|██████████| 2/2 [00:00<00:00,  5.59it/s]\n"
     ]
    },
    {
     "name": "stdout",
     "output_type": "stream",
     "text": [
      "  Train Loss: 0.0001 | Train Acc: 1.0000\n",
      "  Val Loss:   4.3598 | Val Acc:   0.6800\n",
      "  Epoch Duration: 1.01 seconds\n",
      "\n",
      "--- Fold 2, Epoch 28/100 ---\n"
     ]
    },
    {
     "name": "stderr",
     "output_type": "stream",
     "text": [
      "Training: 100%|██████████| 9/9 [00:00<00:00, 13.79it/s]\n"
     ]
    },
    {
     "name": "stdout",
     "output_type": "stream",
     "text": [
      "Epoch Loss: 0.0001, Accuracy: 1.0000\n"
     ]
    },
    {
     "name": "stderr",
     "output_type": "stream",
     "text": [
      "Validating: 100%|██████████| 2/2 [00:00<00:00,  5.60it/s]\n"
     ]
    },
    {
     "name": "stdout",
     "output_type": "stream",
     "text": [
      "  Train Loss: 0.0001 | Train Acc: 1.0000\n",
      "  Val Loss:   4.3513 | Val Acc:   0.6800\n",
      "  Epoch Duration: 1.01 seconds\n",
      "\n",
      "--- Fold 2, Epoch 29/100 ---\n"
     ]
    },
    {
     "name": "stderr",
     "output_type": "stream",
     "text": [
      "Training: 100%|██████████| 9/9 [00:00<00:00, 13.97it/s]\n"
     ]
    },
    {
     "name": "stdout",
     "output_type": "stream",
     "text": [
      "Epoch Loss: 0.0001, Accuracy: 1.0000\n"
     ]
    },
    {
     "name": "stderr",
     "output_type": "stream",
     "text": [
      "Validating: 100%|██████████| 2/2 [00:00<00:00,  5.58it/s]\n"
     ]
    },
    {
     "name": "stdout",
     "output_type": "stream",
     "text": [
      "  Train Loss: 0.0001 | Train Acc: 1.0000\n",
      "  Val Loss:   4.3521 | Val Acc:   0.7000\n",
      "  Epoch Duration: 1.01 seconds\n",
      "\n",
      "--- Fold 2, Epoch 30/100 ---\n"
     ]
    },
    {
     "name": "stderr",
     "output_type": "stream",
     "text": [
      "Training: 100%|██████████| 9/9 [00:00<00:00, 13.55it/s]\n"
     ]
    },
    {
     "name": "stdout",
     "output_type": "stream",
     "text": [
      "Epoch Loss: 0.0001, Accuracy: 1.0000\n"
     ]
    },
    {
     "name": "stderr",
     "output_type": "stream",
     "text": [
      "Validating: 100%|██████████| 2/2 [00:00<00:00,  5.44it/s]\n"
     ]
    },
    {
     "name": "stdout",
     "output_type": "stream",
     "text": [
      "  Train Loss: 0.0001 | Train Acc: 1.0000\n",
      "  Val Loss:   4.3698 | Val Acc:   0.7000\n",
      "  Epoch Duration: 1.04 seconds\n",
      "\n",
      "--- Fold 2, Epoch 31/100 ---\n"
     ]
    },
    {
     "name": "stderr",
     "output_type": "stream",
     "text": [
      "Training: 100%|██████████| 9/9 [00:00<00:00, 13.63it/s]\n"
     ]
    },
    {
     "name": "stdout",
     "output_type": "stream",
     "text": [
      "Epoch Loss: 0.0001, Accuracy: 1.0000\n"
     ]
    },
    {
     "name": "stderr",
     "output_type": "stream",
     "text": [
      "Validating: 100%|██████████| 2/2 [00:00<00:00,  5.51it/s]\n"
     ]
    },
    {
     "name": "stdout",
     "output_type": "stream",
     "text": [
      "  Train Loss: 0.0001 | Train Acc: 1.0000\n",
      "  Val Loss:   4.3539 | Val Acc:   0.7000\n",
      "  Epoch Duration: 1.03 seconds\n",
      "\n",
      "--- Fold 2, Epoch 32/100 ---\n"
     ]
    },
    {
     "name": "stderr",
     "output_type": "stream",
     "text": [
      "Training: 100%|██████████| 9/9 [00:00<00:00, 13.78it/s]\n"
     ]
    },
    {
     "name": "stdout",
     "output_type": "stream",
     "text": [
      "Epoch Loss: 0.0001, Accuracy: 1.0000\n"
     ]
    },
    {
     "name": "stderr",
     "output_type": "stream",
     "text": [
      "Validating: 100%|██████████| 2/2 [00:00<00:00,  5.65it/s]\n"
     ]
    },
    {
     "name": "stdout",
     "output_type": "stream",
     "text": [
      "  Train Loss: 0.0001 | Train Acc: 1.0000\n",
      "  Val Loss:   4.3426 | Val Acc:   0.7000\n",
      "  Epoch Duration: 1.01 seconds\n",
      "\n",
      "--- Fold 2, Epoch 33/100 ---\n"
     ]
    },
    {
     "name": "stderr",
     "output_type": "stream",
     "text": [
      "Training: 100%|██████████| 9/9 [00:00<00:00, 13.85it/s]\n"
     ]
    },
    {
     "name": "stdout",
     "output_type": "stream",
     "text": [
      "Epoch Loss: 0.0001, Accuracy: 1.0000\n"
     ]
    },
    {
     "name": "stderr",
     "output_type": "stream",
     "text": [
      "Validating: 100%|██████████| 2/2 [00:00<00:00,  5.55it/s]\n"
     ]
    },
    {
     "name": "stdout",
     "output_type": "stream",
     "text": [
      "  Train Loss: 0.0001 | Train Acc: 1.0000\n",
      "  Val Loss:   4.3536 | Val Acc:   0.7000\n",
      "  Epoch Duration: 1.02 seconds\n",
      "  Early stopping at epoch 33.\n",
      "\n",
      "--- Fold 2 Final Evaluation ---\n",
      "Loading best model for fold 2 (achieved 0.7000 on inner val set).\n"
     ]
    },
    {
     "name": "stderr",
     "output_type": "stream",
     "text": [
      "Validating: 100%|██████████| 6/6 [00:00<00:00, 11.77it/s]\n"
     ]
    },
    {
     "name": "stdout",
     "output_type": "stream",
     "text": [
      "Performance of best model on the OUTER TEST SET for fold 2: 0.6707\n",
      "\n",
      "============================== OUTER FOLD 3/3 ==============================\n",
      "Loading pretrained weights from: ../I_RAVEN/saved_models/best_model_scar.pth\n",
      "\n",
      "--- Transfer Learning Report ---\n",
      "Successfully loaded 64 / 64 layers.\n",
      "--------------------------------\n",
      "\n",
      "Fold 3 Model has 486,826 trainable parameters.\n",
      "Fold 3 Training on 283, Validating on 51, Testing on 166.\n",
      "\n",
      "--- Fold 3, Epoch 1/100 ---\n"
     ]
    },
    {
     "name": "stderr",
     "output_type": "stream",
     "text": [
      "Training: 100%|██████████| 9/9 [00:00<00:00, 14.05it/s]\n"
     ]
    },
    {
     "name": "stdout",
     "output_type": "stream",
     "text": [
      "Epoch Loss: 5.6299, Accuracy: 0.4876\n"
     ]
    },
    {
     "name": "stderr",
     "output_type": "stream",
     "text": [
      "Validating: 100%|██████████| 2/2 [00:00<00:00,  5.78it/s]\n"
     ]
    },
    {
     "name": "stdout",
     "output_type": "stream",
     "text": [
      "  Train Loss: 5.6299 | Train Acc: 0.4876\n",
      "  Val Loss:   1.6094 | Val Acc:   0.2549\n",
      "  Epoch Duration: 0.99 seconds\n",
      "  -> New best inner validation accuracy: 0.2549. Model state saved.\n",
      "\n",
      "--- Fold 3, Epoch 2/100 ---\n"
     ]
    },
    {
     "name": "stderr",
     "output_type": "stream",
     "text": [
      "Training: 100%|██████████| 9/9 [00:00<00:00, 13.95it/s]\n"
     ]
    },
    {
     "name": "stdout",
     "output_type": "stream",
     "text": [
      "Epoch Loss: 1.1773, Accuracy: 0.5795\n"
     ]
    },
    {
     "name": "stderr",
     "output_type": "stream",
     "text": [
      "Validating: 100%|██████████| 2/2 [00:00<00:00,  5.57it/s]\n"
     ]
    },
    {
     "name": "stdout",
     "output_type": "stream",
     "text": [
      "  Train Loss: 1.1773 | Train Acc: 0.5795\n",
      "  Val Loss:   1.6094 | Val Acc:   0.2745\n",
      "  Epoch Duration: 1.01 seconds\n",
      "  -> New best inner validation accuracy: 0.2745. Model state saved.\n",
      "\n",
      "--- Fold 3, Epoch 3/100 ---\n"
     ]
    },
    {
     "name": "stderr",
     "output_type": "stream",
     "text": [
      "Training: 100%|██████████| 9/9 [00:00<00:00, 13.78it/s]\n"
     ]
    },
    {
     "name": "stdout",
     "output_type": "stream",
     "text": [
      "Epoch Loss: 0.8735, Accuracy: 0.7032\n"
     ]
    },
    {
     "name": "stderr",
     "output_type": "stream",
     "text": [
      "Validating: 100%|██████████| 2/2 [00:00<00:00,  5.62it/s]\n"
     ]
    },
    {
     "name": "stdout",
     "output_type": "stream",
     "text": [
      "  Train Loss: 0.8735 | Train Acc: 0.7032\n",
      "  Val Loss:   1.6094 | Val Acc:   0.1961\n",
      "  Epoch Duration: 1.01 seconds\n",
      "\n",
      "--- Fold 3, Epoch 4/100 ---\n"
     ]
    },
    {
     "name": "stderr",
     "output_type": "stream",
     "text": [
      "Training: 100%|██████████| 9/9 [00:00<00:00, 13.67it/s]\n"
     ]
    },
    {
     "name": "stdout",
     "output_type": "stream",
     "text": [
      "Epoch Loss: 0.6030, Accuracy: 0.8092\n"
     ]
    },
    {
     "name": "stderr",
     "output_type": "stream",
     "text": [
      "Validating: 100%|██████████| 2/2 [00:00<00:00,  5.64it/s]\n"
     ]
    },
    {
     "name": "stdout",
     "output_type": "stream",
     "text": [
      "  Train Loss: 0.6030 | Train Acc: 0.8092\n",
      "  Val Loss:   1.6095 | Val Acc:   0.3333\n",
      "  Epoch Duration: 1.02 seconds\n",
      "  -> New best inner validation accuracy: 0.3333. Model state saved.\n",
      "\n",
      "--- Fold 3, Epoch 5/100 ---\n"
     ]
    },
    {
     "name": "stderr",
     "output_type": "stream",
     "text": [
      "Training: 100%|██████████| 9/9 [00:00<00:00, 14.02it/s]\n"
     ]
    },
    {
     "name": "stdout",
     "output_type": "stream",
     "text": [
      "Epoch Loss: 0.4131, Accuracy: 0.8622\n"
     ]
    },
    {
     "name": "stderr",
     "output_type": "stream",
     "text": [
      "Validating: 100%|██████████| 2/2 [00:00<00:00,  5.57it/s]\n"
     ]
    },
    {
     "name": "stdout",
     "output_type": "stream",
     "text": [
      "  Train Loss: 0.4131 | Train Acc: 0.8622\n",
      "  Val Loss:   1.6095 | Val Acc:   0.1569\n",
      "  Epoch Duration: 1.01 seconds\n",
      "\n",
      "--- Fold 3, Epoch 6/100 ---\n"
     ]
    },
    {
     "name": "stderr",
     "output_type": "stream",
     "text": [
      "Training: 100%|██████████| 9/9 [00:00<00:00, 13.60it/s]\n"
     ]
    },
    {
     "name": "stdout",
     "output_type": "stream",
     "text": [
      "Epoch Loss: 0.2107, Accuracy: 0.9364\n"
     ]
    },
    {
     "name": "stderr",
     "output_type": "stream",
     "text": [
      "Validating: 100%|██████████| 2/2 [00:00<00:00,  5.63it/s]\n"
     ]
    },
    {
     "name": "stdout",
     "output_type": "stream",
     "text": [
      "  Train Loss: 0.2107 | Train Acc: 0.9364\n",
      "  Val Loss:   1.6091 | Val Acc:   0.3529\n",
      "  Epoch Duration: 1.02 seconds\n",
      "  -> New best inner validation accuracy: 0.3529. Model state saved.\n",
      "\n",
      "--- Fold 3, Epoch 7/100 ---\n"
     ]
    },
    {
     "name": "stderr",
     "output_type": "stream",
     "text": [
      "Training: 100%|██████████| 9/9 [00:00<00:00, 13.76it/s]\n"
     ]
    },
    {
     "name": "stdout",
     "output_type": "stream",
     "text": [
      "Epoch Loss: 0.0855, Accuracy: 0.9682\n"
     ]
    },
    {
     "name": "stderr",
     "output_type": "stream",
     "text": [
      "Validating: 100%|██████████| 2/2 [00:00<00:00,  5.62it/s]\n"
     ]
    },
    {
     "name": "stdout",
     "output_type": "stream",
     "text": [
      "  Train Loss: 0.0855 | Train Acc: 0.9682\n",
      "  Val Loss:   1.6080 | Val Acc:   0.2745\n",
      "  Epoch Duration: 1.02 seconds\n",
      "\n",
      "--- Fold 3, Epoch 8/100 ---\n"
     ]
    },
    {
     "name": "stderr",
     "output_type": "stream",
     "text": [
      "Training: 100%|██████████| 9/9 [00:00<00:00, 13.92it/s]\n"
     ]
    },
    {
     "name": "stdout",
     "output_type": "stream",
     "text": [
      "Epoch Loss: 0.0865, Accuracy: 0.9859\n"
     ]
    },
    {
     "name": "stderr",
     "output_type": "stream",
     "text": [
      "Validating: 100%|██████████| 2/2 [00:00<00:00,  5.58it/s]\n"
     ]
    },
    {
     "name": "stdout",
     "output_type": "stream",
     "text": [
      "  Train Loss: 0.0865 | Train Acc: 0.9859\n",
      "  Val Loss:   1.6058 | Val Acc:   0.3137\n",
      "  Epoch Duration: 1.01 seconds\n",
      "\n",
      "--- Fold 3, Epoch 9/100 ---\n"
     ]
    },
    {
     "name": "stderr",
     "output_type": "stream",
     "text": [
      "Training: 100%|██████████| 9/9 [00:00<00:00, 13.63it/s]\n"
     ]
    },
    {
     "name": "stdout",
     "output_type": "stream",
     "text": [
      "Epoch Loss: 0.0476, Accuracy: 0.9859\n"
     ]
    },
    {
     "name": "stderr",
     "output_type": "stream",
     "text": [
      "Validating: 100%|██████████| 2/2 [00:00<00:00,  5.54it/s]\n"
     ]
    },
    {
     "name": "stdout",
     "output_type": "stream",
     "text": [
      "  Train Loss: 0.0476 | Train Acc: 0.9859\n",
      "  Val Loss:   1.6100 | Val Acc:   0.2353\n",
      "  Epoch Duration: 1.03 seconds\n",
      "\n",
      "--- Fold 3, Epoch 10/100 ---\n"
     ]
    },
    {
     "name": "stderr",
     "output_type": "stream",
     "text": [
      "Training: 100%|██████████| 9/9 [00:00<00:00, 13.89it/s]\n"
     ]
    },
    {
     "name": "stdout",
     "output_type": "stream",
     "text": [
      "Epoch Loss: 0.1146, Accuracy: 0.9647\n"
     ]
    },
    {
     "name": "stderr",
     "output_type": "stream",
     "text": [
      "Validating: 100%|██████████| 2/2 [00:00<00:00,  5.17it/s]\n"
     ]
    },
    {
     "name": "stdout",
     "output_type": "stream",
     "text": [
      "  Train Loss: 0.1146 | Train Acc: 0.9647\n",
      "  Val Loss:   1.6157 | Val Acc:   0.2157\n",
      "  Epoch Duration: 1.04 seconds\n",
      "\n",
      "--- Fold 3, Epoch 11/100 ---\n"
     ]
    },
    {
     "name": "stderr",
     "output_type": "stream",
     "text": [
      "Training: 100%|██████████| 9/9 [00:00<00:00, 13.63it/s]\n"
     ]
    },
    {
     "name": "stdout",
     "output_type": "stream",
     "text": [
      "Epoch Loss: 0.0804, Accuracy: 0.9717\n"
     ]
    },
    {
     "name": "stderr",
     "output_type": "stream",
     "text": [
      "Validating: 100%|██████████| 2/2 [00:00<00:00,  5.59it/s]\n"
     ]
    },
    {
     "name": "stdout",
     "output_type": "stream",
     "text": [
      "  Train Loss: 0.0804 | Train Acc: 0.9717\n",
      "  Val Loss:   1.5404 | Val Acc:   0.2745\n",
      "  Epoch Duration: 1.02 seconds\n",
      "\n",
      "--- Fold 3, Epoch 12/100 ---\n"
     ]
    },
    {
     "name": "stderr",
     "output_type": "stream",
     "text": [
      "Training: 100%|██████████| 9/9 [00:00<00:00, 13.75it/s]\n"
     ]
    },
    {
     "name": "stdout",
     "output_type": "stream",
     "text": [
      "Epoch Loss: 0.0449, Accuracy: 0.9859\n"
     ]
    },
    {
     "name": "stderr",
     "output_type": "stream",
     "text": [
      "Validating: 100%|██████████| 2/2 [00:00<00:00,  5.72it/s]\n"
     ]
    },
    {
     "name": "stdout",
     "output_type": "stream",
     "text": [
      "  Train Loss: 0.0449 | Train Acc: 0.9859\n",
      "  Val Loss:   1.7695 | Val Acc:   0.2745\n",
      "  Epoch Duration: 1.01 seconds\n",
      "\n",
      "--- Fold 3, Epoch 13/100 ---\n"
     ]
    },
    {
     "name": "stderr",
     "output_type": "stream",
     "text": [
      "Training: 100%|██████████| 9/9 [00:00<00:00, 14.14it/s]\n"
     ]
    },
    {
     "name": "stdout",
     "output_type": "stream",
     "text": [
      "Epoch Loss: 0.1566, Accuracy: 0.9717\n"
     ]
    },
    {
     "name": "stderr",
     "output_type": "stream",
     "text": [
      "Validating: 100%|██████████| 2/2 [00:00<00:00,  5.61it/s]\n"
     ]
    },
    {
     "name": "stdout",
     "output_type": "stream",
     "text": [
      "  Train Loss: 0.1566 | Train Acc: 0.9717\n",
      "  Val Loss:   1.6370 | Val Acc:   0.3333\n",
      "  Epoch Duration: 1.00 seconds\n",
      "\n",
      "--- Fold 3, Epoch 14/100 ---\n"
     ]
    },
    {
     "name": "stderr",
     "output_type": "stream",
     "text": [
      "Training: 100%|██████████| 9/9 [00:00<00:00, 13.83it/s]\n"
     ]
    },
    {
     "name": "stdout",
     "output_type": "stream",
     "text": [
      "Epoch Loss: 0.2232, Accuracy: 0.9470\n"
     ]
    },
    {
     "name": "stderr",
     "output_type": "stream",
     "text": [
      "Validating: 100%|██████████| 2/2 [00:00<00:00,  5.53it/s]\n"
     ]
    },
    {
     "name": "stdout",
     "output_type": "stream",
     "text": [
      "  Train Loss: 0.2232 | Train Acc: 0.9470\n",
      "  Val Loss:   1.5949 | Val Acc:   0.3333\n",
      "  Epoch Duration: 1.02 seconds\n",
      "\n",
      "--- Fold 3, Epoch 15/100 ---\n"
     ]
    },
    {
     "name": "stderr",
     "output_type": "stream",
     "text": [
      "Training: 100%|██████████| 9/9 [00:00<00:00, 13.69it/s]\n"
     ]
    },
    {
     "name": "stdout",
     "output_type": "stream",
     "text": [
      "Epoch Loss: 0.0743, Accuracy: 0.9753\n"
     ]
    },
    {
     "name": "stderr",
     "output_type": "stream",
     "text": [
      "Validating: 100%|██████████| 2/2 [00:00<00:00,  5.50it/s]\n"
     ]
    },
    {
     "name": "stdout",
     "output_type": "stream",
     "text": [
      "  Train Loss: 0.0743 | Train Acc: 0.9753\n",
      "  Val Loss:   1.7091 | Val Acc:   0.3529\n",
      "  Epoch Duration: 1.03 seconds\n",
      "\n",
      "--- Fold 3, Epoch 16/100 ---\n"
     ]
    },
    {
     "name": "stderr",
     "output_type": "stream",
     "text": [
      "Training: 100%|██████████| 9/9 [00:00<00:00, 13.68it/s]\n"
     ]
    },
    {
     "name": "stdout",
     "output_type": "stream",
     "text": [
      "Epoch Loss: 0.0702, Accuracy: 0.9753\n"
     ]
    },
    {
     "name": "stderr",
     "output_type": "stream",
     "text": [
      "Validating: 100%|██████████| 2/2 [00:00<00:00,  5.39it/s]\n"
     ]
    },
    {
     "name": "stdout",
     "output_type": "stream",
     "text": [
      "  Train Loss: 0.0702 | Train Acc: 0.9753\n",
      "  Val Loss:   1.8425 | Val Acc:   0.3333\n",
      "  Epoch Duration: 1.03 seconds\n",
      "  Early stopping at epoch 16.\n",
      "\n",
      "--- Fold 3 Final Evaluation ---\n",
      "Loading best model for fold 3 (achieved 0.3529 on inner val set).\n"
     ]
    },
    {
     "name": "stderr",
     "output_type": "stream",
     "text": [
      "Validating: 100%|██████████| 6/6 [00:00<00:00, 11.53it/s]\n"
     ]
    },
    {
     "name": "stdout",
     "output_type": "stream",
     "text": [
      "Performance of best model on the OUTER TEST SET for fold 3: 0.2952\n",
      "\n",
      "============================== FINAL UNBIASED PERFORMANCE SUMMARY ==============================\n",
      "Unbiased test accuracies from each fold: ['0.6407', '0.6707', '0.2952']\n",
      "Average Test Accuracy from CV: 0.5355\n",
      "Standard Deviation of Test Accuracy from CV: 0.1704\n",
      "-> Estimated Generalization Performance: 0.5355 ± 0.1704\n",
      "\n",
      "Cross-validation finished.\n",
      "To view TensorBoard logs, run the following command in your terminal:\n",
      "tensorboard --logdir runs/O3_5-SCAR-TRANSFER\n"
     ]
    }
   ],
   "source": [
    "from sklearn.model_selection import train_test_split\n",
    "VAL_SPLIT_SIZE = 0.15\n",
    "\n",
    "MODEL_FOLDER_NAME = \"O3_5-SCAR-TRANSFER\"\n",
    "\n",
    "# ==============================================================================\n",
    "# 2. DATASET & FOLD SETUP\n",
    "# ==============================================================================\n",
    "print(f\"Total data for cross-validation: {len(full_dataset)} samples.\")\n",
    "\n",
    "kfold = KFold(n_splits=N_SPLITS, shuffle=True, random_state=42)\n",
    "fold_test_results = []\n",
    "\n",
    "# ==============================================================================\n",
    "# 3. CROSS-VALIDATION LOOP\n",
    "# ==============================================================================\n",
    "for fold, (train_outer_idx, test_outer_idx) in enumerate(kfold.split(np.zeros(len(full_dataset)))):\n",
    "    print(f\"\\n{'='*30} OUTER FOLD {fold+1}/{N_SPLITS} {'='*30}\")\n",
    "\n",
    "    SAVED_MODELS_PATH = f\"./saved_models/{MODEL_FOLDER_NAME}/\"\n",
    "\n",
    "    if not os.path.exists(SAVED_MODELS_PATH):\n",
    "        os.makedirs(SAVED_MODELS_PATH)\n",
    "    writer = SummaryWriter(log_dir=f'runs/{MODEL_FOLDER_NAME}/fold_{fold+1}')\n",
    "\n",
    "    inner_train_idx, inner_val_idx = train_test_split(\n",
    "        train_outer_idx,\n",
    "        test_size=VAL_SPLIT_SIZE,\n",
    "        shuffle=True, # Shuffle before splitting\n",
    "        random_state=42\n",
    "    )\n",
    "\n",
    "    inner_train_subset = Subset(full_dataset, inner_train_idx)\n",
    "    inner_val_subset = Subset(full_dataset, inner_val_idx)\n",
    "    outer_test_subset = Subset(full_dataset, test_outer_idx)\n",
    "\n",
    "    train_loader = DataLoader(inner_train_subset, batch_size=BATCH_SIZE, shuffle=True, num_workers=4, pin_memory=True)\n",
    "    val_loader = DataLoader(inner_val_subset, batch_size=BATCH_SIZE, shuffle=False, num_workers=4, pin_memory=True)\n",
    "    test_loader = DataLoader(outer_test_subset, batch_size=BATCH_SIZE, shuffle=False, num_workers=4, pin_memory=True)\n",
    "\n",
    "    model = OddOneOutSCAR().to(DEVICE)\n",
    "\n",
    "    load_partial_state_dict(\n",
    "        model,\n",
    "        \"../I_RAVEN/saved_models/best_model_scar.pth\",\n",
    "    )\n",
    "\n",
    "    optimizer = torch.optim.Adam(\n",
    "        model.parameters(),\n",
    "        lr=LEARNING_RATE,\n",
    "        betas=(BETA_1, BETA_2),\n",
    "        eps=EPSILON\n",
    "    )\n",
    "    criterion = nn.CrossEntropyLoss()\n",
    "    scheduler = torch.optim.lr_scheduler.ReduceLROnPlateau(\n",
    "        optimizer,\n",
    "        mode='min',\n",
    "        factor=0.1,\n",
    "        patience=5,\n",
    "    )\n",
    "    scaler = None\n",
    "\n",
    "\n",
    "    total_params = sum(p.numel() for p in model.parameters() if p.requires_grad)\n",
    "    print(f\"Fold {fold+1} Model has {total_params:,} trainable parameters.\")\n",
    "    print(f\"Fold {fold+1} Training on {len(inner_train_subset)}, Validating on {len(inner_val_subset)}, Testing on {len(outer_test_subset)}.\")\n",
    "\n",
    "    best_model_path = f\"{SAVED_MODELS_PATH}/best_model_fold_{fold+1}.pth\"\n",
    "    best_val_acc_fold = 0.0\n",
    "    epochs_without_improvement = 0\n",
    "\n",
    "    for epoch in range(1, EPOCHS + 1):\n",
    "        epoch_start_time = time.time()\n",
    "        \n",
    "        print(f\"\\n--- Fold {fold+1}, Epoch {epoch}/{EPOCHS} ---\")\n",
    "        train_loss, train_acc = train_epoch(model, train_loader, optimizer, criterion, DEVICE, scaler=scaler, scheduler=scheduler)\n",
    "        val_loss, val_acc = validate(model, val_loader, criterion, DEVICE)\n",
    "\n",
    "        scheduler.step(val_loss)  # Adjust learning rate based on validation loss\n",
    "\n",
    "        epoch_duration = time.time() - epoch_start_time\n",
    "\n",
    "        print(f\"  Train Loss: {train_loss:.4f} | Train Acc: {train_acc:.4f}\")\n",
    "        print(f\"  Val Loss:   {val_loss:.4f} | Val Acc:   {val_acc:.4f}\")\n",
    "        print(f\"  Epoch Duration: {epoch_duration:.2f} seconds\")\n",
    "        \n",
    "        writer.add_scalar('Loss/train', train_loss, epoch)\n",
    "        writer.add_scalar('Accuracy/train', train_acc, epoch)\n",
    "        writer.add_scalar('Loss/val', val_loss, epoch)\n",
    "        writer.add_scalar('Accuracy/val', val_acc, epoch)\n",
    "        writer.add_scalar('Performance/seconds_per_epoch', epoch_duration, epoch)\n",
    "        writer.add_scalar('Learning_Rate', optimizer.param_groups[0]['lr'], epoch)\n",
    "\n",
    "        if val_acc > best_val_acc_fold:\n",
    "            best_val_acc_fold = val_acc\n",
    "            epochs_without_improvement = 0\n",
    "            torch.save(model.state_dict(), best_model_path)\n",
    "            print(f\"  -> New best inner validation accuracy: {best_val_acc_fold:.4f}. Model state saved.\")\n",
    "        else:\n",
    "            epochs_without_improvement += 1\n",
    "            if epochs_without_improvement >= PATIENCE:\n",
    "                print(f\"  Early stopping at epoch {epoch}.\")\n",
    "                break\n",
    "    \n",
    "    print(f\"\\n--- Fold {fold+1} Final Evaluation ---\")\n",
    "    print(f\"Loading best model for fold {fold+1} (achieved {best_val_acc_fold:.4f} on inner val set).\")\n",
    "    # Load the best model weights identified during the inner loop\n",
    "    model.load_state_dict(torch.load(best_model_path))\n",
    "    \n",
    "    # Evaluate this best model on the completely unseen outer test set\n",
    "    _, final_fold_test_acc = validate(model, test_loader, criterion, DEVICE)\n",
    "    print(f\"Performance of best model on the OUTER TEST SET for fold {fold+1}: {final_fold_test_acc:.4f}\")\n",
    "\n",
    "    fold_test_results.append(final_fold_test_acc)\n",
    "    writer.add_scalar('Accuracy/test', final_fold_test_acc)\n",
    "    \n",
    "    hparams = { 'learning_rate': LEARNING_RATE, 'batch_size': BATCH_SIZE }\n",
    "    final_metrics = {\n",
    "        'hparam/test_accuracy': final_fold_test_acc,\n",
    "        'hparam/best_inner_val_accuracy': best_val_acc_fold\n",
    "    }\n",
    "    writer.add_hparams(hparams, final_metrics)\n",
    "    writer.close()\n",
    "\n",
    "# ==============================================================================\n",
    "# 4. AGGREGATE AND REPORT CV RESULTS\n",
    "# ==============================================================================\n",
    "mean_test_acc = np.mean(fold_test_results)\n",
    "std_test_acc = np.std(fold_test_results)\n",
    "\n",
    "print(f\"\\n{'='*30} FINAL UNBIASED PERFORMANCE SUMMARY {'='*30}\")\n",
    "print(f\"Unbiased test accuracies from each fold: {[f'{acc:.4f}' for acc in fold_test_results]}\")\n",
    "print(f\"Average Test Accuracy from CV: {mean_test_acc:.4f}\")\n",
    "print(f\"Standard Deviation of Test Accuracy from CV: {std_test_acc:.4f}\")\n",
    "print(f\"-> Estimated Generalization Performance: {mean_test_acc:.4f} \\u00B1 {std_test_acc:.4f}\")\n",
    "\n",
    "print(\"\\nCross-validation finished.\")\n",
    "print(\"To view TensorBoard logs, run the following command in your terminal:\")\n",
    "print(f\"tensorboard --logdir runs/{MODEL_FOLDER_NAME}\")"
   ]
  },
  {
   "cell_type": "markdown",
   "id": "d03184a1",
   "metadata": {},
   "source": [
    "# RADIO-1 to O3 TL"
   ]
  },
  {
   "cell_type": "code",
   "execution_count": 15,
   "id": "f25bc9ed",
   "metadata": {},
   "outputs": [
    {
     "name": "stdout",
     "output_type": "stream",
     "text": [
      "Total data for cross-validation: 500 samples.\n",
      "\n",
      "============================== OUTER FOLD 1/3 ==============================\n",
      "Loading pretrained weights from: ../RADIO/saved_models/RADIO1_SCAR/deployable_model.pth\n",
      "\n",
      "--- Transfer Learning Report ---\n",
      "Successfully loaded 64 / 64 layers.\n",
      "--------------------------------\n",
      "\n",
      "Fold 1 Model has 486,826 trainable parameters.\n",
      "Fold 1 Training on 283, Validating on 50, Testing on 167.\n",
      "\n",
      "--- Fold 1, Epoch 1/100 ---\n"
     ]
    },
    {
     "name": "stderr",
     "output_type": "stream",
     "text": [
      "Training: 100%|██████████| 9/9 [00:00<00:00, 12.71it/s]\n"
     ]
    },
    {
     "name": "stdout",
     "output_type": "stream",
     "text": [
      "Epoch Loss: 1.5492, Accuracy: 0.3887\n"
     ]
    },
    {
     "name": "stderr",
     "output_type": "stream",
     "text": [
      "Validating: 100%|██████████| 2/2 [00:00<00:00,  5.12it/s]\n"
     ]
    },
    {
     "name": "stdout",
     "output_type": "stream",
     "text": [
      "  Train Loss: 1.5492 | Train Acc: 0.3887\n",
      "  Val Loss:   1.6093 | Val Acc:   0.3200\n",
      "  Epoch Duration: 1.10 seconds\n",
      "  -> New best inner validation accuracy: 0.3200. Model state saved.\n",
      "\n",
      "--- Fold 1, Epoch 2/100 ---\n"
     ]
    },
    {
     "name": "stderr",
     "output_type": "stream",
     "text": [
      "Training: 100%|██████████| 9/9 [00:00<00:00, 13.29it/s]\n"
     ]
    },
    {
     "name": "stdout",
     "output_type": "stream",
     "text": [
      "Epoch Loss: 1.4726, Accuracy: 0.4134\n"
     ]
    },
    {
     "name": "stderr",
     "output_type": "stream",
     "text": [
      "Validating: 100%|██████████| 2/2 [00:00<00:00,  5.47it/s]\n"
     ]
    },
    {
     "name": "stdout",
     "output_type": "stream",
     "text": [
      "  Train Loss: 1.4726 | Train Acc: 0.4134\n",
      "  Val Loss:   1.6122 | Val Acc:   0.2800\n",
      "  Epoch Duration: 1.05 seconds\n",
      "\n",
      "--- Fold 1, Epoch 3/100 ---\n"
     ]
    },
    {
     "name": "stderr",
     "output_type": "stream",
     "text": [
      "Training: 100%|██████████| 9/9 [00:00<00:00, 11.90it/s]\n"
     ]
    },
    {
     "name": "stdout",
     "output_type": "stream",
     "text": [
      "Epoch Loss: 1.2960, Accuracy: 0.5159\n"
     ]
    },
    {
     "name": "stderr",
     "output_type": "stream",
     "text": [
      "Validating: 100%|██████████| 2/2 [00:00<00:00,  5.29it/s]\n"
     ]
    },
    {
     "name": "stdout",
     "output_type": "stream",
     "text": [
      "  Train Loss: 1.2960 | Train Acc: 0.5159\n",
      "  Val Loss:   1.6174 | Val Acc:   0.2400\n",
      "  Epoch Duration: 1.14 seconds\n",
      "\n",
      "--- Fold 1, Epoch 4/100 ---\n"
     ]
    },
    {
     "name": "stderr",
     "output_type": "stream",
     "text": [
      "Training: 100%|██████████| 9/9 [00:00<00:00, 12.94it/s]\n"
     ]
    },
    {
     "name": "stdout",
     "output_type": "stream",
     "text": [
      "Epoch Loss: 1.2552, Accuracy: 0.5442\n"
     ]
    },
    {
     "name": "stderr",
     "output_type": "stream",
     "text": [
      "Validating: 100%|██████████| 2/2 [00:00<00:00,  5.65it/s]\n"
     ]
    },
    {
     "name": "stdout",
     "output_type": "stream",
     "text": [
      "  Train Loss: 1.2552 | Train Acc: 0.5442\n",
      "  Val Loss:   1.6126 | Val Acc:   0.2400\n",
      "  Epoch Duration: 1.06 seconds\n",
      "\n",
      "--- Fold 1, Epoch 5/100 ---\n"
     ]
    },
    {
     "name": "stderr",
     "output_type": "stream",
     "text": [
      "Training:   0%|          | 0/9 [00:00<?, ?it/s]"
     ]
    },
    {
     "name": "stderr",
     "output_type": "stream",
     "text": [
      "Training: 100%|██████████| 9/9 [00:00<00:00, 12.26it/s]\n"
     ]
    },
    {
     "name": "stdout",
     "output_type": "stream",
     "text": [
      "Epoch Loss: 1.1348, Accuracy: 0.5866\n"
     ]
    },
    {
     "name": "stderr",
     "output_type": "stream",
     "text": [
      "Validating: 100%|██████████| 2/2 [00:00<00:00,  5.40it/s]\n"
     ]
    },
    {
     "name": "stdout",
     "output_type": "stream",
     "text": [
      "  Train Loss: 1.1348 | Train Acc: 0.5866\n",
      "  Val Loss:   1.5834 | Val Acc:   0.3400\n",
      "  Epoch Duration: 1.11 seconds\n",
      "  -> New best inner validation accuracy: 0.3400. Model state saved.\n",
      "\n",
      "--- Fold 1, Epoch 6/100 ---\n"
     ]
    },
    {
     "name": "stderr",
     "output_type": "stream",
     "text": [
      "Training: 100%|██████████| 9/9 [00:00<00:00, 11.77it/s]\n"
     ]
    },
    {
     "name": "stdout",
     "output_type": "stream",
     "text": [
      "Epoch Loss: 1.0033, Accuracy: 0.6113\n"
     ]
    },
    {
     "name": "stderr",
     "output_type": "stream",
     "text": [
      "Validating: 100%|██████████| 2/2 [00:00<00:00,  5.27it/s]\n"
     ]
    },
    {
     "name": "stdout",
     "output_type": "stream",
     "text": [
      "  Train Loss: 1.0033 | Train Acc: 0.6113\n",
      "  Val Loss:   1.6395 | Val Acc:   0.2600\n",
      "  Epoch Duration: 1.15 seconds\n",
      "\n",
      "--- Fold 1, Epoch 7/100 ---\n"
     ]
    },
    {
     "name": "stderr",
     "output_type": "stream",
     "text": [
      "Training: 100%|██████████| 9/9 [00:00<00:00, 12.58it/s]\n"
     ]
    },
    {
     "name": "stdout",
     "output_type": "stream",
     "text": [
      "Epoch Loss: 0.9006, Accuracy: 0.6714\n"
     ]
    },
    {
     "name": "stderr",
     "output_type": "stream",
     "text": [
      "Validating: 100%|██████████| 2/2 [00:00<00:00,  5.38it/s]\n"
     ]
    },
    {
     "name": "stdout",
     "output_type": "stream",
     "text": [
      "  Train Loss: 0.9006 | Train Acc: 0.6714\n",
      "  Val Loss:   1.6146 | Val Acc:   0.3800\n",
      "  Epoch Duration: 1.09 seconds\n",
      "  -> New best inner validation accuracy: 0.3800. Model state saved.\n",
      "\n",
      "--- Fold 1, Epoch 8/100 ---\n"
     ]
    },
    {
     "name": "stderr",
     "output_type": "stream",
     "text": [
      "Training: 100%|██████████| 9/9 [00:00<00:00, 12.58it/s]\n"
     ]
    },
    {
     "name": "stdout",
     "output_type": "stream",
     "text": [
      "Epoch Loss: 0.6799, Accuracy: 0.7562\n"
     ]
    },
    {
     "name": "stderr",
     "output_type": "stream",
     "text": [
      "Validating: 100%|██████████| 2/2 [00:00<00:00,  5.44it/s]\n"
     ]
    },
    {
     "name": "stdout",
     "output_type": "stream",
     "text": [
      "  Train Loss: 0.6799 | Train Acc: 0.7562\n",
      "  Val Loss:   2.0503 | Val Acc:   0.3800\n",
      "  Epoch Duration: 1.09 seconds\n",
      "\n",
      "--- Fold 1, Epoch 9/100 ---\n"
     ]
    },
    {
     "name": "stderr",
     "output_type": "stream",
     "text": [
      "Training: 100%|██████████| 9/9 [00:00<00:00, 12.60it/s]\n"
     ]
    },
    {
     "name": "stdout",
     "output_type": "stream",
     "text": [
      "Epoch Loss: 0.5361, Accuracy: 0.8269\n"
     ]
    },
    {
     "name": "stderr",
     "output_type": "stream",
     "text": [
      "Validating: 100%|██████████| 2/2 [00:00<00:00,  5.21it/s]\n"
     ]
    },
    {
     "name": "stdout",
     "output_type": "stream",
     "text": [
      "  Train Loss: 0.5361 | Train Acc: 0.8269\n",
      "  Val Loss:   1.8305 | Val Acc:   0.2600\n",
      "  Epoch Duration: 1.10 seconds\n",
      "\n",
      "--- Fold 1, Epoch 10/100 ---\n"
     ]
    },
    {
     "name": "stderr",
     "output_type": "stream",
     "text": [
      "Training: 100%|██████████| 9/9 [00:00<00:00, 12.02it/s]\n"
     ]
    },
    {
     "name": "stdout",
     "output_type": "stream",
     "text": [
      "Epoch Loss: 0.4543, Accuracy: 0.8481\n"
     ]
    },
    {
     "name": "stderr",
     "output_type": "stream",
     "text": [
      "Validating: 100%|██████████| 2/2 [00:00<00:00,  5.30it/s]\n"
     ]
    },
    {
     "name": "stdout",
     "output_type": "stream",
     "text": [
      "  Train Loss: 0.4543 | Train Acc: 0.8481\n",
      "  Val Loss:   1.5794 | Val Acc:   0.1800\n",
      "  Epoch Duration: 1.13 seconds\n",
      "\n",
      "--- Fold 1, Epoch 11/100 ---\n"
     ]
    },
    {
     "name": "stderr",
     "output_type": "stream",
     "text": [
      "Training: 100%|██████████| 9/9 [00:00<00:00, 12.29it/s]\n"
     ]
    },
    {
     "name": "stdout",
     "output_type": "stream",
     "text": [
      "Epoch Loss: 0.4628, Accuracy: 0.8516\n"
     ]
    },
    {
     "name": "stderr",
     "output_type": "stream",
     "text": [
      "Validating: 100%|██████████| 2/2 [00:00<00:00,  5.44it/s]\n"
     ]
    },
    {
     "name": "stdout",
     "output_type": "stream",
     "text": [
      "  Train Loss: 0.4628 | Train Acc: 0.8516\n",
      "  Val Loss:   1.7653 | Val Acc:   0.3600\n",
      "  Epoch Duration: 1.11 seconds\n",
      "\n",
      "--- Fold 1, Epoch 12/100 ---\n"
     ]
    },
    {
     "name": "stderr",
     "output_type": "stream",
     "text": [
      "Training: 100%|██████████| 9/9 [00:00<00:00, 12.68it/s]\n"
     ]
    },
    {
     "name": "stdout",
     "output_type": "stream",
     "text": [
      "Epoch Loss: 0.2158, Accuracy: 0.9329\n"
     ]
    },
    {
     "name": "stderr",
     "output_type": "stream",
     "text": [
      "Validating: 100%|██████████| 2/2 [00:00<00:00,  5.61it/s]\n"
     ]
    },
    {
     "name": "stdout",
     "output_type": "stream",
     "text": [
      "  Train Loss: 0.2158 | Train Acc: 0.9329\n",
      "  Val Loss:   1.6289 | Val Acc:   0.3600\n",
      "  Epoch Duration: 1.07 seconds\n",
      "\n",
      "--- Fold 1, Epoch 13/100 ---\n"
     ]
    },
    {
     "name": "stderr",
     "output_type": "stream",
     "text": [
      "Training: 100%|██████████| 9/9 [00:00<00:00, 12.13it/s]\n"
     ]
    },
    {
     "name": "stdout",
     "output_type": "stream",
     "text": [
      "Epoch Loss: 0.1566, Accuracy: 0.9505\n"
     ]
    },
    {
     "name": "stderr",
     "output_type": "stream",
     "text": [
      "Validating: 100%|██████████| 2/2 [00:00<00:00,  5.32it/s]\n"
     ]
    },
    {
     "name": "stdout",
     "output_type": "stream",
     "text": [
      "  Train Loss: 0.1566 | Train Acc: 0.9505\n",
      "  Val Loss:   1.5994 | Val Acc:   0.2400\n",
      "  Epoch Duration: 1.12 seconds\n",
      "\n",
      "--- Fold 1, Epoch 14/100 ---\n"
     ]
    },
    {
     "name": "stderr",
     "output_type": "stream",
     "text": [
      "Training: 100%|██████████| 9/9 [00:00<00:00, 12.44it/s]\n"
     ]
    },
    {
     "name": "stdout",
     "output_type": "stream",
     "text": [
      "Epoch Loss: 0.2199, Accuracy: 0.9293\n"
     ]
    },
    {
     "name": "stderr",
     "output_type": "stream",
     "text": [
      "Validating: 100%|██████████| 2/2 [00:00<00:00,  5.32it/s]\n"
     ]
    },
    {
     "name": "stdout",
     "output_type": "stream",
     "text": [
      "  Train Loss: 0.2199 | Train Acc: 0.9293\n",
      "  Val Loss:   2.0470 | Val Acc:   0.3800\n",
      "  Epoch Duration: 1.11 seconds\n",
      "\n",
      "--- Fold 1, Epoch 15/100 ---\n"
     ]
    },
    {
     "name": "stderr",
     "output_type": "stream",
     "text": [
      "Training: 100%|██████████| 9/9 [00:00<00:00, 12.52it/s]\n"
     ]
    },
    {
     "name": "stdout",
     "output_type": "stream",
     "text": [
      "Epoch Loss: 0.1057, Accuracy: 0.9647\n"
     ]
    },
    {
     "name": "stderr",
     "output_type": "stream",
     "text": [
      "Validating: 100%|██████████| 2/2 [00:00<00:00,  5.42it/s]\n"
     ]
    },
    {
     "name": "stdout",
     "output_type": "stream",
     "text": [
      "  Train Loss: 0.1057 | Train Acc: 0.9647\n",
      "  Val Loss:   2.5848 | Val Acc:   0.4000\n",
      "  Epoch Duration: 1.10 seconds\n",
      "  -> New best inner validation accuracy: 0.4000. Model state saved.\n",
      "\n",
      "--- Fold 1, Epoch 16/100 ---\n"
     ]
    },
    {
     "name": "stderr",
     "output_type": "stream",
     "text": [
      "Training: 100%|██████████| 9/9 [00:00<00:00, 12.84it/s]\n"
     ]
    },
    {
     "name": "stdout",
     "output_type": "stream",
     "text": [
      "Epoch Loss: 0.0908, Accuracy: 0.9576\n"
     ]
    },
    {
     "name": "stderr",
     "output_type": "stream",
     "text": [
      "Validating: 100%|██████████| 2/2 [00:00<00:00,  5.41it/s]\n"
     ]
    },
    {
     "name": "stdout",
     "output_type": "stream",
     "text": [
      "  Train Loss: 0.0908 | Train Acc: 0.9576\n",
      "  Val Loss:   5.4886 | Val Acc:   0.3400\n",
      "  Epoch Duration: 1.08 seconds\n",
      "\n",
      "--- Fold 1, Epoch 17/100 ---\n"
     ]
    },
    {
     "name": "stderr",
     "output_type": "stream",
     "text": [
      "Training: 100%|██████████| 9/9 [00:00<00:00, 12.06it/s]\n"
     ]
    },
    {
     "name": "stdout",
     "output_type": "stream",
     "text": [
      "Epoch Loss: 0.0133, Accuracy: 0.9965\n"
     ]
    },
    {
     "name": "stderr",
     "output_type": "stream",
     "text": [
      "Validating: 100%|██████████| 2/2 [00:00<00:00,  5.47it/s]\n"
     ]
    },
    {
     "name": "stdout",
     "output_type": "stream",
     "text": [
      "  Train Loss: 0.0133 | Train Acc: 0.9965\n",
      "  Val Loss:   4.0017 | Val Acc:   0.4400\n",
      "  Epoch Duration: 1.12 seconds\n",
      "  -> New best inner validation accuracy: 0.4400. Model state saved.\n",
      "\n",
      "--- Fold 1, Epoch 18/100 ---\n"
     ]
    },
    {
     "name": "stderr",
     "output_type": "stream",
     "text": [
      "Training: 100%|██████████| 9/9 [00:00<00:00, 12.87it/s]\n"
     ]
    },
    {
     "name": "stdout",
     "output_type": "stream",
     "text": [
      "Epoch Loss: 0.0029, Accuracy: 1.0000\n"
     ]
    },
    {
     "name": "stderr",
     "output_type": "stream",
     "text": [
      "Validating: 100%|██████████| 2/2 [00:00<00:00,  5.85it/s]\n"
     ]
    },
    {
     "name": "stdout",
     "output_type": "stream",
     "text": [
      "  Train Loss: 0.0029 | Train Acc: 1.0000\n",
      "  Val Loss:   3.2794 | Val Acc:   0.5600\n",
      "  Epoch Duration: 1.05 seconds\n",
      "  -> New best inner validation accuracy: 0.5600. Model state saved.\n",
      "\n",
      "--- Fold 1, Epoch 19/100 ---\n"
     ]
    },
    {
     "name": "stderr",
     "output_type": "stream",
     "text": [
      "Training: 100%|██████████| 9/9 [00:00<00:00, 10.66it/s]\n"
     ]
    },
    {
     "name": "stdout",
     "output_type": "stream",
     "text": [
      "Epoch Loss: 0.0014, Accuracy: 1.0000\n"
     ]
    },
    {
     "name": "stderr",
     "output_type": "stream",
     "text": [
      "Validating: 100%|██████████| 2/2 [00:00<00:00,  5.49it/s]\n"
     ]
    },
    {
     "name": "stdout",
     "output_type": "stream",
     "text": [
      "  Train Loss: 0.0014 | Train Acc: 1.0000\n",
      "  Val Loss:   3.2950 | Val Acc:   0.4600\n",
      "  Epoch Duration: 1.22 seconds\n",
      "\n",
      "--- Fold 1, Epoch 20/100 ---\n"
     ]
    },
    {
     "name": "stderr",
     "output_type": "stream",
     "text": [
      "Training: 100%|██████████| 9/9 [00:00<00:00, 13.16it/s]\n"
     ]
    },
    {
     "name": "stdout",
     "output_type": "stream",
     "text": [
      "Epoch Loss: 0.0006, Accuracy: 1.0000\n"
     ]
    },
    {
     "name": "stderr",
     "output_type": "stream",
     "text": [
      "Validating: 100%|██████████| 2/2 [00:00<00:00,  5.18it/s]\n"
     ]
    },
    {
     "name": "stdout",
     "output_type": "stream",
     "text": [
      "  Train Loss: 0.0006 | Train Acc: 1.0000\n",
      "  Val Loss:   3.4946 | Val Acc:   0.5200\n",
      "  Epoch Duration: 1.08 seconds\n",
      "\n",
      "--- Fold 1, Epoch 21/100 ---\n"
     ]
    },
    {
     "name": "stderr",
     "output_type": "stream",
     "text": [
      "Training: 100%|██████████| 9/9 [00:00<00:00, 13.29it/s]\n"
     ]
    },
    {
     "name": "stdout",
     "output_type": "stream",
     "text": [
      "Epoch Loss: 0.0005, Accuracy: 1.0000\n"
     ]
    },
    {
     "name": "stderr",
     "output_type": "stream",
     "text": [
      "Validating: 100%|██████████| 2/2 [00:00<00:00,  5.52it/s]\n"
     ]
    },
    {
     "name": "stdout",
     "output_type": "stream",
     "text": [
      "  Train Loss: 0.0005 | Train Acc: 1.0000\n",
      "  Val Loss:   3.7976 | Val Acc:   0.5200\n",
      "  Epoch Duration: 1.05 seconds\n",
      "\n",
      "--- Fold 1, Epoch 22/100 ---\n"
     ]
    },
    {
     "name": "stderr",
     "output_type": "stream",
     "text": [
      "Training: 100%|██████████| 9/9 [00:00<00:00, 11.52it/s]\n"
     ]
    },
    {
     "name": "stdout",
     "output_type": "stream",
     "text": [
      "Epoch Loss: 0.0004, Accuracy: 1.0000\n"
     ]
    },
    {
     "name": "stderr",
     "output_type": "stream",
     "text": [
      "Validating: 100%|██████████| 2/2 [00:00<00:00,  5.67it/s]\n"
     ]
    },
    {
     "name": "stdout",
     "output_type": "stream",
     "text": [
      "  Train Loss: 0.0004 | Train Acc: 1.0000\n",
      "  Val Loss:   3.8435 | Val Acc:   0.5000\n",
      "  Epoch Duration: 1.14 seconds\n",
      "\n",
      "--- Fold 1, Epoch 23/100 ---\n"
     ]
    },
    {
     "name": "stderr",
     "output_type": "stream",
     "text": [
      "Training: 100%|██████████| 9/9 [00:00<00:00, 13.07it/s]\n"
     ]
    },
    {
     "name": "stdout",
     "output_type": "stream",
     "text": [
      "Epoch Loss: 0.0003, Accuracy: 1.0000\n"
     ]
    },
    {
     "name": "stderr",
     "output_type": "stream",
     "text": [
      "Validating: 100%|██████████| 2/2 [00:00<00:00,  5.35it/s]\n"
     ]
    },
    {
     "name": "stdout",
     "output_type": "stream",
     "text": [
      "  Train Loss: 0.0003 | Train Acc: 1.0000\n",
      "  Val Loss:   3.8308 | Val Acc:   0.5000\n",
      "  Epoch Duration: 1.07 seconds\n",
      "\n",
      "--- Fold 1, Epoch 24/100 ---\n"
     ]
    },
    {
     "name": "stderr",
     "output_type": "stream",
     "text": [
      "Training: 100%|██████████| 9/9 [00:00<00:00, 12.36it/s]\n"
     ]
    },
    {
     "name": "stdout",
     "output_type": "stream",
     "text": [
      "Epoch Loss: 0.0012, Accuracy: 1.0000\n"
     ]
    },
    {
     "name": "stderr",
     "output_type": "stream",
     "text": [
      "Validating: 100%|██████████| 2/2 [00:00<00:00,  5.56it/s]\n"
     ]
    },
    {
     "name": "stdout",
     "output_type": "stream",
     "text": [
      "  Train Loss: 0.0012 | Train Acc: 1.0000\n",
      "  Val Loss:   3.7921 | Val Acc:   0.5000\n",
      "  Epoch Duration: 1.09 seconds\n",
      "\n",
      "--- Fold 1, Epoch 25/100 ---\n"
     ]
    },
    {
     "name": "stderr",
     "output_type": "stream",
     "text": [
      "Training: 100%|██████████| 9/9 [00:00<00:00, 13.15it/s]\n"
     ]
    },
    {
     "name": "stdout",
     "output_type": "stream",
     "text": [
      "Epoch Loss: 0.0002, Accuracy: 1.0000\n"
     ]
    },
    {
     "name": "stderr",
     "output_type": "stream",
     "text": [
      "Validating: 100%|██████████| 2/2 [00:00<00:00,  5.31it/s]\n"
     ]
    },
    {
     "name": "stdout",
     "output_type": "stream",
     "text": [
      "  Train Loss: 0.0002 | Train Acc: 1.0000\n",
      "  Val Loss:   3.8101 | Val Acc:   0.5000\n",
      "  Epoch Duration: 1.07 seconds\n",
      "\n",
      "--- Fold 1, Epoch 26/100 ---\n"
     ]
    },
    {
     "name": "stderr",
     "output_type": "stream",
     "text": [
      "Training: 100%|██████████| 9/9 [00:00<00:00, 13.06it/s]\n"
     ]
    },
    {
     "name": "stdout",
     "output_type": "stream",
     "text": [
      "Epoch Loss: 0.0002, Accuracy: 1.0000\n"
     ]
    },
    {
     "name": "stderr",
     "output_type": "stream",
     "text": [
      "Validating: 100%|██████████| 2/2 [00:00<00:00,  5.41it/s]\n"
     ]
    },
    {
     "name": "stdout",
     "output_type": "stream",
     "text": [
      "  Train Loss: 0.0002 | Train Acc: 1.0000\n",
      "  Val Loss:   3.8091 | Val Acc:   0.5000\n",
      "  Epoch Duration: 1.06 seconds\n",
      "\n",
      "--- Fold 1, Epoch 27/100 ---\n"
     ]
    },
    {
     "name": "stderr",
     "output_type": "stream",
     "text": [
      "Training: 100%|██████████| 9/9 [00:00<00:00, 11.30it/s]\n"
     ]
    },
    {
     "name": "stdout",
     "output_type": "stream",
     "text": [
      "Epoch Loss: 0.0002, Accuracy: 1.0000\n"
     ]
    },
    {
     "name": "stderr",
     "output_type": "stream",
     "text": [
      "Validating: 100%|██████████| 2/2 [00:00<00:00,  5.57it/s]\n"
     ]
    },
    {
     "name": "stdout",
     "output_type": "stream",
     "text": [
      "  Train Loss: 0.0002 | Train Acc: 1.0000\n",
      "  Val Loss:   3.8058 | Val Acc:   0.5000\n",
      "  Epoch Duration: 1.16 seconds\n",
      "\n",
      "--- Fold 1, Epoch 28/100 ---\n"
     ]
    },
    {
     "name": "stderr",
     "output_type": "stream",
     "text": [
      "Training: 100%|██████████| 9/9 [00:00<00:00, 12.32it/s]\n"
     ]
    },
    {
     "name": "stdout",
     "output_type": "stream",
     "text": [
      "Epoch Loss: 0.0002, Accuracy: 1.0000\n"
     ]
    },
    {
     "name": "stderr",
     "output_type": "stream",
     "text": [
      "Validating: 100%|██████████| 2/2 [00:00<00:00,  4.81it/s]\n"
     ]
    },
    {
     "name": "stdout",
     "output_type": "stream",
     "text": [
      "  Train Loss: 0.0002 | Train Acc: 1.0000\n",
      "  Val Loss:   3.8065 | Val Acc:   0.5000\n",
      "  Epoch Duration: 1.15 seconds\n",
      "  Early stopping at epoch 28.\n",
      "\n",
      "--- Fold 1 Final Evaluation ---\n",
      "Loading best model for fold 1 (achieved 0.5600 on inner val set).\n"
     ]
    },
    {
     "name": "stderr",
     "output_type": "stream",
     "text": [
      "Validating: 100%|██████████| 6/6 [00:00<00:00,  9.34it/s]\n"
     ]
    },
    {
     "name": "stdout",
     "output_type": "stream",
     "text": [
      "Performance of best model on the OUTER TEST SET for fold 1: 0.4311\n",
      "\n",
      "============================== OUTER FOLD 2/3 ==============================\n",
      "Loading pretrained weights from: ../RADIO/saved_models/RADIO1_SCAR/deployable_model.pth\n",
      "\n",
      "--- Transfer Learning Report ---\n",
      "Successfully loaded 64 / 64 layers.\n",
      "--------------------------------\n",
      "\n",
      "Fold 2 Model has 486,826 trainable parameters.\n",
      "Fold 2 Training on 283, Validating on 50, Testing on 167.\n",
      "\n",
      "--- Fold 2, Epoch 1/100 ---\n"
     ]
    },
    {
     "name": "stderr",
     "output_type": "stream",
     "text": [
      "Training: 100%|██████████| 9/9 [00:00<00:00, 12.38it/s]\n"
     ]
    },
    {
     "name": "stdout",
     "output_type": "stream",
     "text": [
      "Epoch Loss: 1.6140, Accuracy: 0.3322\n"
     ]
    },
    {
     "name": "stderr",
     "output_type": "stream",
     "text": [
      "Validating: 100%|██████████| 2/2 [00:00<00:00,  5.58it/s]\n"
     ]
    },
    {
     "name": "stdout",
     "output_type": "stream",
     "text": [
      "  Train Loss: 1.6140 | Train Acc: 0.3322\n",
      "  Val Loss:   1.6125 | Val Acc:   0.2200\n",
      "  Epoch Duration: 1.09 seconds\n",
      "  -> New best inner validation accuracy: 0.2200. Model state saved.\n",
      "\n",
      "--- Fold 2, Epoch 2/100 ---\n"
     ]
    },
    {
     "name": "stderr",
     "output_type": "stream",
     "text": [
      "Training: 100%|██████████| 9/9 [00:00<00:00, 13.37it/s]\n"
     ]
    },
    {
     "name": "stdout",
     "output_type": "stream",
     "text": [
      "Epoch Loss: 1.5567, Accuracy: 0.3816\n"
     ]
    },
    {
     "name": "stderr",
     "output_type": "stream",
     "text": [
      "Validating: 100%|██████████| 2/2 [00:00<00:00,  5.17it/s]\n"
     ]
    },
    {
     "name": "stdout",
     "output_type": "stream",
     "text": [
      "  Train Loss: 1.5567 | Train Acc: 0.3816\n",
      "  Val Loss:   1.6114 | Val Acc:   0.1800\n",
      "  Epoch Duration: 1.07 seconds\n",
      "\n",
      "--- Fold 2, Epoch 3/100 ---\n"
     ]
    },
    {
     "name": "stderr",
     "output_type": "stream",
     "text": [
      "Training: 100%|██████████| 9/9 [00:00<00:00, 11.08it/s]\n"
     ]
    },
    {
     "name": "stdout",
     "output_type": "stream",
     "text": [
      "Epoch Loss: 1.3775, Accuracy: 0.4276\n"
     ]
    },
    {
     "name": "stderr",
     "output_type": "stream",
     "text": [
      "Validating: 100%|██████████| 2/2 [00:00<00:00,  5.48it/s]\n"
     ]
    },
    {
     "name": "stdout",
     "output_type": "stream",
     "text": [
      "  Train Loss: 1.3775 | Train Acc: 0.4276\n",
      "  Val Loss:   1.6113 | Val Acc:   0.2000\n",
      "  Epoch Duration: 1.18 seconds\n",
      "\n",
      "--- Fold 2, Epoch 4/100 ---\n"
     ]
    },
    {
     "name": "stderr",
     "output_type": "stream",
     "text": [
      "Training: 100%|██████████| 9/9 [00:00<00:00, 12.59it/s]\n"
     ]
    },
    {
     "name": "stdout",
     "output_type": "stream",
     "text": [
      "Epoch Loss: 1.3616, Accuracy: 0.5053\n"
     ]
    },
    {
     "name": "stderr",
     "output_type": "stream",
     "text": [
      "Validating: 100%|██████████| 2/2 [00:00<00:00,  4.58it/s]\n"
     ]
    },
    {
     "name": "stdout",
     "output_type": "stream",
     "text": [
      "  Train Loss: 1.3616 | Train Acc: 0.5053\n",
      "  Val Loss:   1.6127 | Val Acc:   0.2400\n",
      "  Epoch Duration: 1.16 seconds\n",
      "  -> New best inner validation accuracy: 0.2400. Model state saved.\n",
      "\n",
      "--- Fold 2, Epoch 5/100 ---\n"
     ]
    },
    {
     "name": "stderr",
     "output_type": "stream",
     "text": [
      "Training: 100%|██████████| 9/9 [00:00<00:00, 13.04it/s]\n"
     ]
    },
    {
     "name": "stdout",
     "output_type": "stream",
     "text": [
      "Epoch Loss: 1.2602, Accuracy: 0.5230\n"
     ]
    },
    {
     "name": "stderr",
     "output_type": "stream",
     "text": [
      "Validating: 100%|██████████| 2/2 [00:00<00:00,  5.27it/s]\n"
     ]
    },
    {
     "name": "stdout",
     "output_type": "stream",
     "text": [
      "  Train Loss: 1.2602 | Train Acc: 0.5230\n",
      "  Val Loss:   1.6135 | Val Acc:   0.2200\n",
      "  Epoch Duration: 1.07 seconds\n",
      "\n",
      "--- Fold 2, Epoch 6/100 ---\n"
     ]
    },
    {
     "name": "stderr",
     "output_type": "stream",
     "text": [
      "Training: 100%|██████████| 9/9 [00:00<00:00, 10.82it/s]\n"
     ]
    },
    {
     "name": "stdout",
     "output_type": "stream",
     "text": [
      "Epoch Loss: 1.1151, Accuracy: 0.5477\n"
     ]
    },
    {
     "name": "stderr",
     "output_type": "stream",
     "text": [
      "Validating: 100%|██████████| 2/2 [00:00<00:00,  5.59it/s]\n"
     ]
    },
    {
     "name": "stdout",
     "output_type": "stream",
     "text": [
      "  Train Loss: 1.1151 | Train Acc: 0.5477\n",
      "  Val Loss:   1.5995 | Val Acc:   0.3000\n",
      "  Epoch Duration: 1.20 seconds\n",
      "  -> New best inner validation accuracy: 0.3000. Model state saved.\n",
      "\n",
      "--- Fold 2, Epoch 7/100 ---\n"
     ]
    },
    {
     "name": "stderr",
     "output_type": "stream",
     "text": [
      "Training: 100%|██████████| 9/9 [00:00<00:00, 12.81it/s]\n"
     ]
    },
    {
     "name": "stdout",
     "output_type": "stream",
     "text": [
      "Epoch Loss: 0.9546, Accuracy: 0.6184\n"
     ]
    },
    {
     "name": "stderr",
     "output_type": "stream",
     "text": [
      "Validating: 100%|██████████| 2/2 [00:00<00:00,  5.19it/s]\n"
     ]
    },
    {
     "name": "stdout",
     "output_type": "stream",
     "text": [
      "  Train Loss: 0.9546 | Train Acc: 0.6184\n",
      "  Val Loss:   1.5366 | Val Acc:   0.3000\n",
      "  Epoch Duration: 1.10 seconds\n",
      "\n",
      "--- Fold 2, Epoch 8/100 ---\n"
     ]
    },
    {
     "name": "stderr",
     "output_type": "stream",
     "text": [
      "Training: 100%|██████████| 9/9 [00:00<00:00, 13.15it/s]\n"
     ]
    },
    {
     "name": "stdout",
     "output_type": "stream",
     "text": [
      "Epoch Loss: 0.7747, Accuracy: 0.7067\n"
     ]
    },
    {
     "name": "stderr",
     "output_type": "stream",
     "text": [
      "Validating: 100%|██████████| 2/2 [00:00<00:00,  5.17it/s]\n"
     ]
    },
    {
     "name": "stdout",
     "output_type": "stream",
     "text": [
      "  Train Loss: 0.7747 | Train Acc: 0.7067\n",
      "  Val Loss:   1.6104 | Val Acc:   0.2600\n",
      "  Epoch Duration: 1.08 seconds\n",
      "\n",
      "--- Fold 2, Epoch 9/100 ---\n"
     ]
    },
    {
     "name": "stderr",
     "output_type": "stream",
     "text": [
      "Training: 100%|██████████| 9/9 [00:00<00:00, 11.03it/s]\n"
     ]
    },
    {
     "name": "stdout",
     "output_type": "stream",
     "text": [
      "Epoch Loss: 0.6244, Accuracy: 0.7774\n"
     ]
    },
    {
     "name": "stderr",
     "output_type": "stream",
     "text": [
      "Validating: 100%|██████████| 2/2 [00:00<00:00,  5.42it/s]\n"
     ]
    },
    {
     "name": "stdout",
     "output_type": "stream",
     "text": [
      "  Train Loss: 0.6244 | Train Acc: 0.7774\n",
      "  Val Loss:   1.7039 | Val Acc:   0.2600\n",
      "  Epoch Duration: 1.19 seconds\n",
      "\n",
      "--- Fold 2, Epoch 10/100 ---\n"
     ]
    },
    {
     "name": "stderr",
     "output_type": "stream",
     "text": [
      "Training: 100%|██████████| 9/9 [00:00<00:00, 12.67it/s]\n"
     ]
    },
    {
     "name": "stdout",
     "output_type": "stream",
     "text": [
      "Epoch Loss: 0.3572, Accuracy: 0.8622\n"
     ]
    },
    {
     "name": "stderr",
     "output_type": "stream",
     "text": [
      "Validating: 100%|██████████| 2/2 [00:00<00:00,  5.30it/s]\n"
     ]
    },
    {
     "name": "stdout",
     "output_type": "stream",
     "text": [
      "  Train Loss: 0.3572 | Train Acc: 0.8622\n",
      "  Val Loss:   2.0724 | Val Acc:   0.3400\n",
      "  Epoch Duration: 1.09 seconds\n",
      "  -> New best inner validation accuracy: 0.3400. Model state saved.\n",
      "\n",
      "--- Fold 2, Epoch 11/100 ---\n"
     ]
    },
    {
     "name": "stderr",
     "output_type": "stream",
     "text": [
      "Training: 100%|██████████| 9/9 [00:00<00:00, 13.00it/s]\n"
     ]
    },
    {
     "name": "stdout",
     "output_type": "stream",
     "text": [
      "Epoch Loss: 0.3334, Accuracy: 0.8975\n"
     ]
    },
    {
     "name": "stderr",
     "output_type": "stream",
     "text": [
      "Validating: 100%|██████████| 2/2 [00:00<00:00,  3.90it/s]\n"
     ]
    },
    {
     "name": "stdout",
     "output_type": "stream",
     "text": [
      "  Train Loss: 0.3334 | Train Acc: 0.8975\n",
      "  Val Loss:   1.8561 | Val Acc:   0.3800\n",
      "  Epoch Duration: 1.21 seconds\n",
      "  -> New best inner validation accuracy: 0.3800. Model state saved.\n",
      "\n",
      "--- Fold 2, Epoch 12/100 ---\n"
     ]
    },
    {
     "name": "stderr",
     "output_type": "stream",
     "text": [
      "Training: 100%|██████████| 9/9 [00:00<00:00, 11.90it/s]\n"
     ]
    },
    {
     "name": "stdout",
     "output_type": "stream",
     "text": [
      "Epoch Loss: 0.1634, Accuracy: 0.9470\n"
     ]
    },
    {
     "name": "stderr",
     "output_type": "stream",
     "text": [
      "Validating: 100%|██████████| 2/2 [00:00<00:00,  5.42it/s]\n"
     ]
    },
    {
     "name": "stdout",
     "output_type": "stream",
     "text": [
      "  Train Loss: 0.1634 | Train Acc: 0.9470\n",
      "  Val Loss:   2.3772 | Val Acc:   0.3000\n",
      "  Epoch Duration: 1.13 seconds\n",
      "\n",
      "--- Fold 2, Epoch 13/100 ---\n"
     ]
    },
    {
     "name": "stderr",
     "output_type": "stream",
     "text": [
      "Training: 100%|██████████| 9/9 [00:00<00:00, 12.36it/s]\n"
     ]
    },
    {
     "name": "stdout",
     "output_type": "stream",
     "text": [
      "Epoch Loss: 0.2434, Accuracy: 0.9223\n"
     ]
    },
    {
     "name": "stderr",
     "output_type": "stream",
     "text": [
      "Validating: 100%|██████████| 2/2 [00:00<00:00,  5.66it/s]\n"
     ]
    },
    {
     "name": "stdout",
     "output_type": "stream",
     "text": [
      "  Train Loss: 0.2434 | Train Acc: 0.9223\n",
      "  Val Loss:   1.9076 | Val Acc:   0.3000\n",
      "  Epoch Duration: 1.09 seconds\n",
      "\n",
      "--- Fold 2, Epoch 14/100 ---\n"
     ]
    },
    {
     "name": "stderr",
     "output_type": "stream",
     "text": [
      "Training: 100%|██████████| 9/9 [00:00<00:00, 12.67it/s]\n"
     ]
    },
    {
     "name": "stdout",
     "output_type": "stream",
     "text": [
      "Epoch Loss: 0.1730, Accuracy: 0.9435\n"
     ]
    },
    {
     "name": "stderr",
     "output_type": "stream",
     "text": [
      "Validating: 100%|██████████| 2/2 [00:00<00:00,  5.21it/s]\n"
     ]
    },
    {
     "name": "stdout",
     "output_type": "stream",
     "text": [
      "  Train Loss: 0.1730 | Train Acc: 0.9435\n",
      "  Val Loss:   4.4654 | Val Acc:   0.2200\n",
      "  Epoch Duration: 1.10 seconds\n",
      "\n",
      "--- Fold 2, Epoch 15/100 ---\n"
     ]
    },
    {
     "name": "stderr",
     "output_type": "stream",
     "text": [
      "Training: 100%|██████████| 9/9 [00:00<00:00, 11.99it/s]\n"
     ]
    },
    {
     "name": "stdout",
     "output_type": "stream",
     "text": [
      "Epoch Loss: 0.0543, Accuracy: 0.9823\n"
     ]
    },
    {
     "name": "stderr",
     "output_type": "stream",
     "text": [
      "Validating: 100%|██████████| 2/2 [00:00<00:00,  5.56it/s]\n"
     ]
    },
    {
     "name": "stdout",
     "output_type": "stream",
     "text": [
      "  Train Loss: 0.0543 | Train Acc: 0.9823\n",
      "  Val Loss:   3.8660 | Val Acc:   0.3600\n",
      "  Epoch Duration: 1.12 seconds\n",
      "\n",
      "--- Fold 2, Epoch 16/100 ---\n"
     ]
    },
    {
     "name": "stderr",
     "output_type": "stream",
     "text": [
      "Training: 100%|██████████| 9/9 [00:00<00:00, 12.73it/s]\n"
     ]
    },
    {
     "name": "stdout",
     "output_type": "stream",
     "text": [
      "Epoch Loss: 0.0226, Accuracy: 0.9965\n"
     ]
    },
    {
     "name": "stderr",
     "output_type": "stream",
     "text": [
      "Validating: 100%|██████████| 2/2 [00:00<00:00,  5.33it/s]\n"
     ]
    },
    {
     "name": "stdout",
     "output_type": "stream",
     "text": [
      "  Train Loss: 0.0226 | Train Acc: 0.9965\n",
      "  Val Loss:   4.1741 | Val Acc:   0.3800\n",
      "  Epoch Duration: 1.09 seconds\n",
      "\n",
      "--- Fold 2, Epoch 17/100 ---\n"
     ]
    },
    {
     "name": "stderr",
     "output_type": "stream",
     "text": [
      "Training: 100%|██████████| 9/9 [00:00<00:00, 13.38it/s]\n"
     ]
    },
    {
     "name": "stdout",
     "output_type": "stream",
     "text": [
      "Epoch Loss: 0.0057, Accuracy: 1.0000\n"
     ]
    },
    {
     "name": "stderr",
     "output_type": "stream",
     "text": [
      "Validating: 100%|██████████| 2/2 [00:00<00:00,  5.33it/s]\n"
     ]
    },
    {
     "name": "stdout",
     "output_type": "stream",
     "text": [
      "  Train Loss: 0.0057 | Train Acc: 1.0000\n",
      "  Val Loss:   5.0228 | Val Acc:   0.3800\n",
      "  Epoch Duration: 1.05 seconds\n",
      "\n",
      "--- Fold 2, Epoch 18/100 ---\n"
     ]
    },
    {
     "name": "stderr",
     "output_type": "stream",
     "text": [
      "Training: 100%|██████████| 9/9 [00:00<00:00, 11.43it/s]\n"
     ]
    },
    {
     "name": "stdout",
     "output_type": "stream",
     "text": [
      "Epoch Loss: 0.0024, Accuracy: 1.0000\n"
     ]
    },
    {
     "name": "stderr",
     "output_type": "stream",
     "text": [
      "Validating: 100%|██████████| 2/2 [00:00<00:00,  5.54it/s]\n"
     ]
    },
    {
     "name": "stdout",
     "output_type": "stream",
     "text": [
      "  Train Loss: 0.0024 | Train Acc: 1.0000\n",
      "  Val Loss:   5.8554 | Val Acc:   0.3800\n",
      "  Epoch Duration: 1.15 seconds\n",
      "\n",
      "--- Fold 2, Epoch 19/100 ---\n"
     ]
    },
    {
     "name": "stderr",
     "output_type": "stream",
     "text": [
      "Training: 100%|██████████| 9/9 [00:00<00:00, 12.24it/s]\n"
     ]
    },
    {
     "name": "stdout",
     "output_type": "stream",
     "text": [
      "Epoch Loss: 0.0011, Accuracy: 1.0000\n"
     ]
    },
    {
     "name": "stderr",
     "output_type": "stream",
     "text": [
      "Validating: 100%|██████████| 2/2 [00:00<00:00,  5.36it/s]\n"
     ]
    },
    {
     "name": "stdout",
     "output_type": "stream",
     "text": [
      "  Train Loss: 0.0011 | Train Acc: 1.0000\n",
      "  Val Loss:   6.3398 | Val Acc:   0.4000\n",
      "  Epoch Duration: 1.12 seconds\n",
      "  -> New best inner validation accuracy: 0.4000. Model state saved.\n",
      "\n",
      "--- Fold 2, Epoch 20/100 ---\n"
     ]
    },
    {
     "name": "stderr",
     "output_type": "stream",
     "text": [
      "Training: 100%|██████████| 9/9 [00:00<00:00, 12.47it/s]\n"
     ]
    },
    {
     "name": "stdout",
     "output_type": "stream",
     "text": [
      "Epoch Loss: 0.0008, Accuracy: 1.0000\n"
     ]
    },
    {
     "name": "stderr",
     "output_type": "stream",
     "text": [
      "Validating: 100%|██████████| 2/2 [00:00<00:00,  5.32it/s]\n"
     ]
    },
    {
     "name": "stdout",
     "output_type": "stream",
     "text": [
      "  Train Loss: 0.0008 | Train Acc: 1.0000\n",
      "  Val Loss:   6.4069 | Val Acc:   0.4000\n",
      "  Epoch Duration: 1.11 seconds\n",
      "\n",
      "--- Fold 2, Epoch 21/100 ---\n"
     ]
    },
    {
     "name": "stderr",
     "output_type": "stream",
     "text": [
      "Training: 100%|██████████| 9/9 [00:00<00:00, 13.12it/s]\n"
     ]
    },
    {
     "name": "stdout",
     "output_type": "stream",
     "text": [
      "Epoch Loss: 0.0008, Accuracy: 1.0000\n"
     ]
    },
    {
     "name": "stderr",
     "output_type": "stream",
     "text": [
      "Validating: 100%|██████████| 2/2 [00:00<00:00,  5.27it/s]\n"
     ]
    },
    {
     "name": "stdout",
     "output_type": "stream",
     "text": [
      "  Train Loss: 0.0008 | Train Acc: 1.0000\n",
      "  Val Loss:   6.4234 | Val Acc:   0.4000\n",
      "  Epoch Duration: 1.07 seconds\n",
      "\n",
      "--- Fold 2, Epoch 22/100 ---\n"
     ]
    },
    {
     "name": "stderr",
     "output_type": "stream",
     "text": [
      "Training: 100%|██████████| 9/9 [00:00<00:00, 12.46it/s]\n"
     ]
    },
    {
     "name": "stdout",
     "output_type": "stream",
     "text": [
      "Epoch Loss: 0.0008, Accuracy: 1.0000\n"
     ]
    },
    {
     "name": "stderr",
     "output_type": "stream",
     "text": [
      "Validating: 100%|██████████| 2/2 [00:00<00:00,  5.55it/s]\n"
     ]
    },
    {
     "name": "stdout",
     "output_type": "stream",
     "text": [
      "  Train Loss: 0.0008 | Train Acc: 1.0000\n",
      "  Val Loss:   6.4513 | Val Acc:   0.4000\n",
      "  Epoch Duration: 1.09 seconds\n",
      "\n",
      "--- Fold 2, Epoch 23/100 ---\n"
     ]
    },
    {
     "name": "stderr",
     "output_type": "stream",
     "text": [
      "Training: 100%|██████████| 9/9 [00:00<00:00, 13.05it/s]\n"
     ]
    },
    {
     "name": "stdout",
     "output_type": "stream",
     "text": [
      "Epoch Loss: 0.0007, Accuracy: 1.0000\n"
     ]
    },
    {
     "name": "stderr",
     "output_type": "stream",
     "text": [
      "Validating: 100%|██████████| 2/2 [00:00<00:00,  5.45it/s]\n"
     ]
    },
    {
     "name": "stdout",
     "output_type": "stream",
     "text": [
      "  Train Loss: 0.0007 | Train Acc: 1.0000\n",
      "  Val Loss:   6.4635 | Val Acc:   0.4000\n",
      "  Epoch Duration: 1.06 seconds\n",
      "\n",
      "--- Fold 2, Epoch 24/100 ---\n"
     ]
    },
    {
     "name": "stderr",
     "output_type": "stream",
     "text": [
      "Training: 100%|██████████| 9/9 [00:00<00:00, 13.63it/s]\n"
     ]
    },
    {
     "name": "stdout",
     "output_type": "stream",
     "text": [
      "Epoch Loss: 0.0008, Accuracy: 1.0000\n"
     ]
    },
    {
     "name": "stderr",
     "output_type": "stream",
     "text": [
      "Validating: 100%|██████████| 2/2 [00:00<00:00,  5.25it/s]\n"
     ]
    },
    {
     "name": "stdout",
     "output_type": "stream",
     "text": [
      "  Train Loss: 0.0008 | Train Acc: 1.0000\n",
      "  Val Loss:   6.4741 | Val Acc:   0.4000\n",
      "  Epoch Duration: 1.05 seconds\n",
      "\n",
      "--- Fold 2, Epoch 25/100 ---\n"
     ]
    },
    {
     "name": "stderr",
     "output_type": "stream",
     "text": [
      "Training: 100%|██████████| 9/9 [00:00<00:00, 13.85it/s]\n"
     ]
    },
    {
     "name": "stdout",
     "output_type": "stream",
     "text": [
      "Epoch Loss: 0.0007, Accuracy: 1.0000\n"
     ]
    },
    {
     "name": "stderr",
     "output_type": "stream",
     "text": [
      "Validating: 100%|██████████| 2/2 [00:00<00:00,  5.64it/s]\n"
     ]
    },
    {
     "name": "stdout",
     "output_type": "stream",
     "text": [
      "  Train Loss: 0.0007 | Train Acc: 1.0000\n",
      "  Val Loss:   6.4676 | Val Acc:   0.4000\n",
      "  Epoch Duration: 1.01 seconds\n",
      "\n",
      "--- Fold 2, Epoch 26/100 ---\n"
     ]
    },
    {
     "name": "stderr",
     "output_type": "stream",
     "text": [
      "Training: 100%|██████████| 9/9 [00:00<00:00, 12.07it/s]\n"
     ]
    },
    {
     "name": "stdout",
     "output_type": "stream",
     "text": [
      "Epoch Loss: 0.0006, Accuracy: 1.0000\n"
     ]
    },
    {
     "name": "stderr",
     "output_type": "stream",
     "text": [
      "Validating: 100%|██████████| 2/2 [00:00<00:00,  5.62it/s]\n"
     ]
    },
    {
     "name": "stdout",
     "output_type": "stream",
     "text": [
      "  Train Loss: 0.0006 | Train Acc: 1.0000\n",
      "  Val Loss:   6.4670 | Val Acc:   0.4000\n",
      "  Epoch Duration: 1.11 seconds\n",
      "\n",
      "--- Fold 2, Epoch 27/100 ---\n"
     ]
    },
    {
     "name": "stderr",
     "output_type": "stream",
     "text": [
      "Training: 100%|██████████| 9/9 [00:00<00:00, 13.36it/s]\n"
     ]
    },
    {
     "name": "stdout",
     "output_type": "stream",
     "text": [
      "Epoch Loss: 0.0007, Accuracy: 1.0000\n"
     ]
    },
    {
     "name": "stderr",
     "output_type": "stream",
     "text": [
      "Validating: 100%|██████████| 2/2 [00:00<00:00,  5.35it/s]\n"
     ]
    },
    {
     "name": "stdout",
     "output_type": "stream",
     "text": [
      "  Train Loss: 0.0007 | Train Acc: 1.0000\n",
      "  Val Loss:   6.4843 | Val Acc:   0.4000\n",
      "  Epoch Duration: 1.05 seconds\n",
      "\n",
      "--- Fold 2, Epoch 28/100 ---\n"
     ]
    },
    {
     "name": "stderr",
     "output_type": "stream",
     "text": [
      "Training: 100%|██████████| 9/9 [00:00<00:00, 11.15it/s]\n"
     ]
    },
    {
     "name": "stdout",
     "output_type": "stream",
     "text": [
      "Epoch Loss: 0.0008, Accuracy: 1.0000\n"
     ]
    },
    {
     "name": "stderr",
     "output_type": "stream",
     "text": [
      "Validating: 100%|██████████| 2/2 [00:00<00:00,  5.55it/s]\n"
     ]
    },
    {
     "name": "stdout",
     "output_type": "stream",
     "text": [
      "  Train Loss: 0.0008 | Train Acc: 1.0000\n",
      "  Val Loss:   6.4834 | Val Acc:   0.4000\n",
      "  Epoch Duration: 1.17 seconds\n",
      "\n",
      "--- Fold 2, Epoch 29/100 ---\n"
     ]
    },
    {
     "name": "stderr",
     "output_type": "stream",
     "text": [
      "Training: 100%|██████████| 9/9 [00:00<00:00, 13.37it/s]\n"
     ]
    },
    {
     "name": "stdout",
     "output_type": "stream",
     "text": [
      "Epoch Loss: 0.0006, Accuracy: 1.0000\n"
     ]
    },
    {
     "name": "stderr",
     "output_type": "stream",
     "text": [
      "Validating: 100%|██████████| 2/2 [00:00<00:00,  5.28it/s]\n"
     ]
    },
    {
     "name": "stdout",
     "output_type": "stream",
     "text": [
      "  Train Loss: 0.0006 | Train Acc: 1.0000\n",
      "  Val Loss:   6.4819 | Val Acc:   0.4000\n",
      "  Epoch Duration: 1.06 seconds\n",
      "  Early stopping at epoch 29.\n",
      "\n",
      "--- Fold 2 Final Evaluation ---\n",
      "Loading best model for fold 2 (achieved 0.4000 on inner val set).\n"
     ]
    },
    {
     "name": "stderr",
     "output_type": "stream",
     "text": [
      "Validating: 100%|██████████| 6/6 [00:00<00:00, 11.01it/s]\n"
     ]
    },
    {
     "name": "stdout",
     "output_type": "stream",
     "text": [
      "Performance of best model on the OUTER TEST SET for fold 2: 0.3713\n",
      "\n",
      "============================== OUTER FOLD 3/3 ==============================\n",
      "Loading pretrained weights from: ../RADIO/saved_models/RADIO1_SCAR/deployable_model.pth\n",
      "\n",
      "--- Transfer Learning Report ---\n",
      "Successfully loaded 64 / 64 layers.\n",
      "--------------------------------\n",
      "\n",
      "Fold 3 Model has 486,826 trainable parameters.\n",
      "Fold 3 Training on 283, Validating on 51, Testing on 166.\n",
      "\n",
      "--- Fold 3, Epoch 1/100 ---\n"
     ]
    },
    {
     "name": "stderr",
     "output_type": "stream",
     "text": [
      "Training: 100%|██████████| 9/9 [00:00<00:00, 12.41it/s]\n"
     ]
    },
    {
     "name": "stdout",
     "output_type": "stream",
     "text": [
      "Epoch Loss: 1.6630, Accuracy: 0.3180\n"
     ]
    },
    {
     "name": "stderr",
     "output_type": "stream",
     "text": [
      "Validating: 100%|██████████| 2/2 [00:00<00:00,  5.39it/s]\n"
     ]
    },
    {
     "name": "stdout",
     "output_type": "stream",
     "text": [
      "  Train Loss: 1.6630 | Train Acc: 0.3180\n",
      "  Val Loss:   1.6143 | Val Acc:   0.1569\n",
      "  Epoch Duration: 1.10 seconds\n",
      "  -> New best inner validation accuracy: 0.1569. Model state saved.\n",
      "\n",
      "--- Fold 3, Epoch 2/100 ---\n"
     ]
    },
    {
     "name": "stderr",
     "output_type": "stream",
     "text": [
      "Training: 100%|██████████| 9/9 [00:00<00:00, 13.03it/s]\n"
     ]
    },
    {
     "name": "stdout",
     "output_type": "stream",
     "text": [
      "Epoch Loss: 1.5157, Accuracy: 0.3993\n"
     ]
    },
    {
     "name": "stderr",
     "output_type": "stream",
     "text": [
      "Validating: 100%|██████████| 2/2 [00:00<00:00,  5.44it/s]\n"
     ]
    },
    {
     "name": "stdout",
     "output_type": "stream",
     "text": [
      "  Train Loss: 1.5157 | Train Acc: 0.3993\n",
      "  Val Loss:   1.6110 | Val Acc:   0.1373\n",
      "  Epoch Duration: 1.06 seconds\n",
      "\n",
      "--- Fold 3, Epoch 3/100 ---\n"
     ]
    },
    {
     "name": "stderr",
     "output_type": "stream",
     "text": [
      "Training: 100%|██████████| 9/9 [00:00<00:00, 12.20it/s]\n"
     ]
    },
    {
     "name": "stdout",
     "output_type": "stream",
     "text": [
      "Epoch Loss: 1.4202, Accuracy: 0.4311\n"
     ]
    },
    {
     "name": "stderr",
     "output_type": "stream",
     "text": [
      "Validating: 100%|██████████| 2/2 [00:00<00:00,  5.40it/s]\n"
     ]
    },
    {
     "name": "stdout",
     "output_type": "stream",
     "text": [
      "  Train Loss: 1.4202 | Train Acc: 0.4311\n",
      "  Val Loss:   1.6151 | Val Acc:   0.0980\n",
      "  Epoch Duration: 1.11 seconds\n",
      "\n",
      "--- Fold 3, Epoch 4/100 ---\n"
     ]
    },
    {
     "name": "stderr",
     "output_type": "stream",
     "text": [
      "Training: 100%|██████████| 9/9 [00:00<00:00, 12.97it/s]\n"
     ]
    },
    {
     "name": "stdout",
     "output_type": "stream",
     "text": [
      "Epoch Loss: 1.3762, Accuracy: 0.4488\n"
     ]
    },
    {
     "name": "stderr",
     "output_type": "stream",
     "text": [
      "Validating: 100%|██████████| 2/2 [00:00<00:00,  5.27it/s]\n"
     ]
    },
    {
     "name": "stdout",
     "output_type": "stream",
     "text": [
      "  Train Loss: 1.3762 | Train Acc: 0.4488\n",
      "  Val Loss:   1.5884 | Val Acc:   0.3725\n",
      "  Epoch Duration: 1.08 seconds\n",
      "  -> New best inner validation accuracy: 0.3725. Model state saved.\n",
      "\n",
      "--- Fold 3, Epoch 5/100 ---\n"
     ]
    },
    {
     "name": "stderr",
     "output_type": "stream",
     "text": [
      "Training: 100%|██████████| 9/9 [00:00<00:00, 13.41it/s]\n"
     ]
    },
    {
     "name": "stdout",
     "output_type": "stream",
     "text": [
      "Epoch Loss: 1.2162, Accuracy: 0.5512\n"
     ]
    },
    {
     "name": "stderr",
     "output_type": "stream",
     "text": [
      "Validating: 100%|██████████| 2/2 [00:00<00:00,  5.30it/s]\n"
     ]
    },
    {
     "name": "stdout",
     "output_type": "stream",
     "text": [
      "  Train Loss: 1.2162 | Train Acc: 0.5512\n",
      "  Val Loss:   1.5537 | Val Acc:   0.3529\n",
      "  Epoch Duration: 1.05 seconds\n",
      "\n",
      "--- Fold 3, Epoch 6/100 ---\n"
     ]
    },
    {
     "name": "stderr",
     "output_type": "stream",
     "text": [
      "Training: 100%|██████████| 9/9 [00:00<00:00, 11.64it/s]\n"
     ]
    },
    {
     "name": "stdout",
     "output_type": "stream",
     "text": [
      "Epoch Loss: 1.1991, Accuracy: 0.5512\n"
     ]
    },
    {
     "name": "stderr",
     "output_type": "stream",
     "text": [
      "Validating: 100%|██████████| 2/2 [00:00<00:00,  5.63it/s]\n"
     ]
    },
    {
     "name": "stdout",
     "output_type": "stream",
     "text": [
      "  Train Loss: 1.1991 | Train Acc: 0.5512\n",
      "  Val Loss:   1.5795 | Val Acc:   0.3529\n",
      "  Epoch Duration: 1.13 seconds\n",
      "\n",
      "--- Fold 3, Epoch 7/100 ---\n"
     ]
    },
    {
     "name": "stderr",
     "output_type": "stream",
     "text": [
      "Training: 100%|██████████| 9/9 [00:00<00:00, 13.32it/s]\n"
     ]
    },
    {
     "name": "stdout",
     "output_type": "stream",
     "text": [
      "Epoch Loss: 1.0491, Accuracy: 0.6113\n"
     ]
    },
    {
     "name": "stderr",
     "output_type": "stream",
     "text": [
      "Validating: 100%|██████████| 2/2 [00:00<00:00,  5.37it/s]\n"
     ]
    },
    {
     "name": "stdout",
     "output_type": "stream",
     "text": [
      "  Train Loss: 1.0491 | Train Acc: 0.6113\n",
      "  Val Loss:   1.5430 | Val Acc:   0.3137\n",
      "  Epoch Duration: 1.05 seconds\n",
      "\n",
      "--- Fold 3, Epoch 8/100 ---\n"
     ]
    },
    {
     "name": "stderr",
     "output_type": "stream",
     "text": [
      "Training: 100%|██████████| 9/9 [00:00<00:00, 13.49it/s]\n"
     ]
    },
    {
     "name": "stdout",
     "output_type": "stream",
     "text": [
      "Epoch Loss: 1.0524, Accuracy: 0.6254\n"
     ]
    },
    {
     "name": "stderr",
     "output_type": "stream",
     "text": [
      "Validating: 100%|██████████| 2/2 [00:00<00:00,  5.28it/s]\n"
     ]
    },
    {
     "name": "stdout",
     "output_type": "stream",
     "text": [
      "  Train Loss: 1.0524 | Train Acc: 0.6254\n",
      "  Val Loss:   1.6030 | Val Acc:   0.3922\n",
      "  Epoch Duration: 1.05 seconds\n",
      "  -> New best inner validation accuracy: 0.3922. Model state saved.\n",
      "\n",
      "--- Fold 3, Epoch 9/100 ---\n"
     ]
    },
    {
     "name": "stderr",
     "output_type": "stream",
     "text": [
      "Training: 100%|██████████| 9/9 [00:00<00:00, 11.09it/s]\n"
     ]
    },
    {
     "name": "stdout",
     "output_type": "stream",
     "text": [
      "Epoch Loss: 0.9593, Accuracy: 0.6254\n"
     ]
    },
    {
     "name": "stderr",
     "output_type": "stream",
     "text": [
      "Validating: 100%|██████████| 2/2 [00:00<00:00,  5.35it/s]\n"
     ]
    },
    {
     "name": "stdout",
     "output_type": "stream",
     "text": [
      "  Train Loss: 0.9593 | Train Acc: 0.6254\n",
      "  Val Loss:   1.5623 | Val Acc:   0.2941\n",
      "  Epoch Duration: 1.19 seconds\n",
      "\n",
      "--- Fold 3, Epoch 10/100 ---\n"
     ]
    },
    {
     "name": "stderr",
     "output_type": "stream",
     "text": [
      "Training: 100%|██████████| 9/9 [00:00<00:00, 12.76it/s]\n"
     ]
    },
    {
     "name": "stdout",
     "output_type": "stream",
     "text": [
      "Epoch Loss: 0.8030, Accuracy: 0.7420\n"
     ]
    },
    {
     "name": "stderr",
     "output_type": "stream",
     "text": [
      "Validating: 100%|██████████| 2/2 [00:00<00:00,  4.27it/s]\n"
     ]
    },
    {
     "name": "stdout",
     "output_type": "stream",
     "text": [
      "  Train Loss: 0.8030 | Train Acc: 0.7420\n",
      "  Val Loss:   1.6513 | Val Acc:   0.3529\n",
      "  Epoch Duration: 1.18 seconds\n",
      "\n",
      "--- Fold 3, Epoch 11/100 ---\n"
     ]
    },
    {
     "name": "stderr",
     "output_type": "stream",
     "text": [
      "Training: 100%|██████████| 9/9 [00:00<00:00, 13.63it/s]\n"
     ]
    },
    {
     "name": "stdout",
     "output_type": "stream",
     "text": [
      "Epoch Loss: 0.7142, Accuracy: 0.7633\n"
     ]
    },
    {
     "name": "stderr",
     "output_type": "stream",
     "text": [
      "Validating: 100%|██████████| 2/2 [00:00<00:00,  5.47it/s]\n"
     ]
    },
    {
     "name": "stdout",
     "output_type": "stream",
     "text": [
      "  Train Loss: 0.7142 | Train Acc: 0.7633\n",
      "  Val Loss:   1.5905 | Val Acc:   0.3333\n",
      "  Epoch Duration: 1.03 seconds\n",
      "\n",
      "--- Fold 3, Epoch 12/100 ---\n"
     ]
    },
    {
     "name": "stderr",
     "output_type": "stream",
     "text": [
      "Training: 100%|██████████| 9/9 [00:00<00:00, 11.24it/s]\n"
     ]
    },
    {
     "name": "stdout",
     "output_type": "stream",
     "text": [
      "Epoch Loss: 0.6734, Accuracy: 0.7527\n"
     ]
    },
    {
     "name": "stderr",
     "output_type": "stream",
     "text": [
      "Validating: 100%|██████████| 2/2 [00:00<00:00,  5.60it/s]\n"
     ]
    },
    {
     "name": "stdout",
     "output_type": "stream",
     "text": [
      "  Train Loss: 0.6734 | Train Acc: 0.7527\n",
      "  Val Loss:   1.7447 | Val Acc:   0.3725\n",
      "  Epoch Duration: 1.16 seconds\n",
      "\n",
      "--- Fold 3, Epoch 13/100 ---\n"
     ]
    },
    {
     "name": "stderr",
     "output_type": "stream",
     "text": [
      "Training: 100%|██████████| 9/9 [00:00<00:00, 13.33it/s]\n"
     ]
    },
    {
     "name": "stdout",
     "output_type": "stream",
     "text": [
      "Epoch Loss: 0.4381, Accuracy: 0.8269\n"
     ]
    },
    {
     "name": "stderr",
     "output_type": "stream",
     "text": [
      "Validating: 100%|██████████| 2/2 [00:00<00:00,  5.05it/s]\n"
     ]
    },
    {
     "name": "stdout",
     "output_type": "stream",
     "text": [
      "  Train Loss: 0.4381 | Train Acc: 0.8269\n",
      "  Val Loss:   2.2059 | Val Acc:   0.2941\n",
      "  Epoch Duration: 1.08 seconds\n",
      "\n",
      "--- Fold 3, Epoch 14/100 ---\n"
     ]
    },
    {
     "name": "stderr",
     "output_type": "stream",
     "text": [
      "Training: 100%|██████████| 9/9 [00:00<00:00, 13.04it/s]\n"
     ]
    },
    {
     "name": "stdout",
     "output_type": "stream",
     "text": [
      "Epoch Loss: 0.2419, Accuracy: 0.9399\n"
     ]
    },
    {
     "name": "stderr",
     "output_type": "stream",
     "text": [
      "Validating: 100%|██████████| 2/2 [00:00<00:00,  5.45it/s]\n"
     ]
    },
    {
     "name": "stdout",
     "output_type": "stream",
     "text": [
      "  Train Loss: 0.2419 | Train Acc: 0.9399\n",
      "  Val Loss:   1.5909 | Val Acc:   0.4510\n",
      "  Epoch Duration: 1.06 seconds\n",
      "  -> New best inner validation accuracy: 0.4510. Model state saved.\n",
      "\n",
      "--- Fold 3, Epoch 15/100 ---\n"
     ]
    },
    {
     "name": "stderr",
     "output_type": "stream",
     "text": [
      "Training: 100%|██████████| 9/9 [00:00<00:00, 11.14it/s]\n"
     ]
    },
    {
     "name": "stdout",
     "output_type": "stream",
     "text": [
      "Epoch Loss: 0.1290, Accuracy: 0.9647\n"
     ]
    },
    {
     "name": "stderr",
     "output_type": "stream",
     "text": [
      "Validating: 100%|██████████| 2/2 [00:00<00:00,  5.56it/s]\n"
     ]
    },
    {
     "name": "stdout",
     "output_type": "stream",
     "text": [
      "  Train Loss: 0.1290 | Train Acc: 0.9647\n",
      "  Val Loss:   2.1243 | Val Acc:   0.4706\n",
      "  Epoch Duration: 1.17 seconds\n",
      "  -> New best inner validation accuracy: 0.4706. Model state saved.\n",
      "\n",
      "--- Fold 3, Epoch 16/100 ---\n"
     ]
    },
    {
     "name": "stderr",
     "output_type": "stream",
     "text": [
      "Training: 100%|██████████| 9/9 [00:00<00:00, 13.59it/s]\n"
     ]
    },
    {
     "name": "stdout",
     "output_type": "stream",
     "text": [
      "Epoch Loss: 0.0808, Accuracy: 0.9717\n"
     ]
    },
    {
     "name": "stderr",
     "output_type": "stream",
     "text": [
      "Validating: 100%|██████████| 2/2 [00:00<00:00,  5.07it/s]\n"
     ]
    },
    {
     "name": "stdout",
     "output_type": "stream",
     "text": [
      "  Train Loss: 0.0808 | Train Acc: 0.9717\n",
      "  Val Loss:   2.7792 | Val Acc:   0.4902\n",
      "  Epoch Duration: 1.06 seconds\n",
      "  -> New best inner validation accuracy: 0.4902. Model state saved.\n",
      "\n",
      "--- Fold 3, Epoch 17/100 ---\n"
     ]
    },
    {
     "name": "stderr",
     "output_type": "stream",
     "text": [
      "Training: 100%|██████████| 9/9 [00:00<00:00, 13.29it/s]\n"
     ]
    },
    {
     "name": "stdout",
     "output_type": "stream",
     "text": [
      "Epoch Loss: 0.0455, Accuracy: 0.9929\n"
     ]
    },
    {
     "name": "stderr",
     "output_type": "stream",
     "text": [
      "Validating: 100%|██████████| 2/2 [00:00<00:00,  5.59it/s]\n"
     ]
    },
    {
     "name": "stdout",
     "output_type": "stream",
     "text": [
      "  Train Loss: 0.0455 | Train Acc: 0.9929\n",
      "  Val Loss:   3.5241 | Val Acc:   0.5098\n",
      "  Epoch Duration: 1.04 seconds\n",
      "  -> New best inner validation accuracy: 0.5098. Model state saved.\n",
      "\n",
      "--- Fold 3, Epoch 18/100 ---\n"
     ]
    },
    {
     "name": "stderr",
     "output_type": "stream",
     "text": [
      "Training: 100%|██████████| 9/9 [00:00<00:00, 11.40it/s]\n"
     ]
    },
    {
     "name": "stdout",
     "output_type": "stream",
     "text": [
      "Epoch Loss: 0.0249, Accuracy: 1.0000\n"
     ]
    },
    {
     "name": "stderr",
     "output_type": "stream",
     "text": [
      "Validating: 100%|██████████| 2/2 [00:00<00:00,  5.53it/s]\n"
     ]
    },
    {
     "name": "stdout",
     "output_type": "stream",
     "text": [
      "  Train Loss: 0.0249 | Train Acc: 1.0000\n",
      "  Val Loss:   3.9163 | Val Acc:   0.4510\n",
      "  Epoch Duration: 1.16 seconds\n",
      "\n",
      "--- Fold 3, Epoch 19/100 ---\n"
     ]
    },
    {
     "name": "stderr",
     "output_type": "stream",
     "text": [
      "Training: 100%|██████████| 9/9 [00:00<00:00, 13.08it/s]\n"
     ]
    },
    {
     "name": "stdout",
     "output_type": "stream",
     "text": [
      "Epoch Loss: 0.0076, Accuracy: 1.0000\n"
     ]
    },
    {
     "name": "stderr",
     "output_type": "stream",
     "text": [
      "Validating: 100%|██████████| 2/2 [00:00<00:00,  4.30it/s]\n"
     ]
    },
    {
     "name": "stdout",
     "output_type": "stream",
     "text": [
      "  Train Loss: 0.0076 | Train Acc: 1.0000\n",
      "  Val Loss:   4.0530 | Val Acc:   0.4902\n",
      "  Epoch Duration: 1.16 seconds\n",
      "\n",
      "--- Fold 3, Epoch 20/100 ---\n"
     ]
    },
    {
     "name": "stderr",
     "output_type": "stream",
     "text": [
      "Training: 100%|██████████| 9/9 [00:00<00:00, 13.42it/s]\n"
     ]
    },
    {
     "name": "stdout",
     "output_type": "stream",
     "text": [
      "Epoch Loss: 0.0050, Accuracy: 1.0000\n"
     ]
    },
    {
     "name": "stderr",
     "output_type": "stream",
     "text": [
      "Validating: 100%|██████████| 2/2 [00:00<00:00,  5.53it/s]\n"
     ]
    },
    {
     "name": "stdout",
     "output_type": "stream",
     "text": [
      "  Train Loss: 0.0050 | Train Acc: 1.0000\n",
      "  Val Loss:   4.0967 | Val Acc:   0.4902\n",
      "  Epoch Duration: 1.04 seconds\n",
      "\n",
      "--- Fold 3, Epoch 21/100 ---\n"
     ]
    },
    {
     "name": "stderr",
     "output_type": "stream",
     "text": [
      "Training: 100%|██████████| 9/9 [00:00<00:00, 11.69it/s]\n"
     ]
    },
    {
     "name": "stdout",
     "output_type": "stream",
     "text": [
      "Epoch Loss: 0.0046, Accuracy: 1.0000\n"
     ]
    },
    {
     "name": "stderr",
     "output_type": "stream",
     "text": [
      "Validating: 100%|██████████| 2/2 [00:00<00:00,  5.64it/s]\n"
     ]
    },
    {
     "name": "stdout",
     "output_type": "stream",
     "text": [
      "  Train Loss: 0.0046 | Train Acc: 1.0000\n",
      "  Val Loss:   4.1491 | Val Acc:   0.4902\n",
      "  Epoch Duration: 1.13 seconds\n",
      "\n",
      "--- Fold 3, Epoch 22/100 ---\n"
     ]
    },
    {
     "name": "stderr",
     "output_type": "stream",
     "text": [
      "Training: 100%|██████████| 9/9 [00:00<00:00, 13.07it/s]\n"
     ]
    },
    {
     "name": "stdout",
     "output_type": "stream",
     "text": [
      "Epoch Loss: 0.0031, Accuracy: 1.0000\n"
     ]
    },
    {
     "name": "stderr",
     "output_type": "stream",
     "text": [
      "Validating: 100%|██████████| 2/2 [00:00<00:00,  4.85it/s]\n"
     ]
    },
    {
     "name": "stdout",
     "output_type": "stream",
     "text": [
      "  Train Loss: 0.0031 | Train Acc: 1.0000\n",
      "  Val Loss:   4.1927 | Val Acc:   0.4902\n",
      "  Epoch Duration: 1.11 seconds\n",
      "\n",
      "--- Fold 3, Epoch 23/100 ---\n"
     ]
    },
    {
     "name": "stderr",
     "output_type": "stream",
     "text": [
      "Training: 100%|██████████| 9/9 [00:00<00:00, 13.55it/s]\n"
     ]
    },
    {
     "name": "stdout",
     "output_type": "stream",
     "text": [
      "Epoch Loss: 0.0031, Accuracy: 1.0000\n"
     ]
    },
    {
     "name": "stderr",
     "output_type": "stream",
     "text": [
      "Validating: 100%|██████████| 2/2 [00:00<00:00,  5.64it/s]\n"
     ]
    },
    {
     "name": "stdout",
     "output_type": "stream",
     "text": [
      "  Train Loss: 0.0031 | Train Acc: 1.0000\n",
      "  Val Loss:   4.2275 | Val Acc:   0.4902\n",
      "  Epoch Duration: 1.02 seconds\n",
      "\n",
      "--- Fold 3, Epoch 24/100 ---\n"
     ]
    },
    {
     "name": "stderr",
     "output_type": "stream",
     "text": [
      "Training: 100%|██████████| 9/9 [00:00<00:00, 11.02it/s]\n"
     ]
    },
    {
     "name": "stdout",
     "output_type": "stream",
     "text": [
      "Epoch Loss: 0.0033, Accuracy: 1.0000\n"
     ]
    },
    {
     "name": "stderr",
     "output_type": "stream",
     "text": [
      "Validating: 100%|██████████| 2/2 [00:00<00:00,  5.46it/s]\n"
     ]
    },
    {
     "name": "stdout",
     "output_type": "stream",
     "text": [
      "  Train Loss: 0.0033 | Train Acc: 1.0000\n",
      "  Val Loss:   4.2562 | Val Acc:   0.4902\n",
      "  Epoch Duration: 1.19 seconds\n",
      "\n",
      "--- Fold 3, Epoch 25/100 ---\n"
     ]
    },
    {
     "name": "stderr",
     "output_type": "stream",
     "text": [
      "Training: 100%|██████████| 9/9 [00:00<00:00, 13.28it/s]\n"
     ]
    },
    {
     "name": "stdout",
     "output_type": "stream",
     "text": [
      "Epoch Loss: 0.0020, Accuracy: 1.0000\n"
     ]
    },
    {
     "name": "stderr",
     "output_type": "stream",
     "text": [
      "Validating: 100%|██████████| 2/2 [00:00<00:00,  5.27it/s]\n"
     ]
    },
    {
     "name": "stdout",
     "output_type": "stream",
     "text": [
      "  Train Loss: 0.0020 | Train Acc: 1.0000\n",
      "  Val Loss:   4.2922 | Val Acc:   0.4902\n",
      "  Epoch Duration: 1.06 seconds\n",
      "\n",
      "--- Fold 3, Epoch 26/100 ---\n"
     ]
    },
    {
     "name": "stderr",
     "output_type": "stream",
     "text": [
      "Training: 100%|██████████| 9/9 [00:00<00:00, 13.84it/s]\n"
     ]
    },
    {
     "name": "stdout",
     "output_type": "stream",
     "text": [
      "Epoch Loss: 0.0047, Accuracy: 1.0000\n"
     ]
    },
    {
     "name": "stderr",
     "output_type": "stream",
     "text": [
      "Validating: 100%|██████████| 2/2 [00:00<00:00,  5.58it/s]\n"
     ]
    },
    {
     "name": "stdout",
     "output_type": "stream",
     "text": [
      "  Train Loss: 0.0047 | Train Acc: 1.0000\n",
      "  Val Loss:   4.2929 | Val Acc:   0.4902\n",
      "  Epoch Duration: 1.01 seconds\n",
      "\n",
      "--- Fold 3, Epoch 27/100 ---\n"
     ]
    },
    {
     "name": "stderr",
     "output_type": "stream",
     "text": [
      "Training: 100%|██████████| 9/9 [00:00<00:00, 12.61it/s]\n"
     ]
    },
    {
     "name": "stdout",
     "output_type": "stream",
     "text": [
      "Epoch Loss: 0.0020, Accuracy: 1.0000\n"
     ]
    },
    {
     "name": "stderr",
     "output_type": "stream",
     "text": [
      "Validating: 100%|██████████| 2/2 [00:00<00:00,  5.53it/s]\n"
     ]
    },
    {
     "name": "stdout",
     "output_type": "stream",
     "text": [
      "  Train Loss: 0.0020 | Train Acc: 1.0000\n",
      "  Val Loss:   4.2934 | Val Acc:   0.4902\n",
      "  Epoch Duration: 1.08 seconds\n",
      "  Early stopping at epoch 27.\n",
      "\n",
      "--- Fold 3 Final Evaluation ---\n",
      "Loading best model for fold 3 (achieved 0.5098 on inner val set).\n"
     ]
    },
    {
     "name": "stderr",
     "output_type": "stream",
     "text": [
      "Validating: 100%|██████████| 6/6 [00:00<00:00, 11.23it/s]"
     ]
    },
    {
     "name": "stdout",
     "output_type": "stream",
     "text": [
      "Performance of best model on the OUTER TEST SET for fold 3: 0.3675\n",
      "\n",
      "============================== FINAL UNBIASED PERFORMANCE SUMMARY ==============================\n",
      "Unbiased test accuracies from each fold: ['0.4311', '0.3713', '0.3675']\n",
      "Average Test Accuracy from CV: 0.3900\n",
      "Standard Deviation of Test Accuracy from CV: 0.0292\n",
      "-> Estimated Generalization Performance: 0.3900 ± 0.0292\n",
      "\n",
      "Cross-validation finished.\n",
      "To view TensorBoard logs, run the following command in your terminal:\n",
      "tensorboard --logdir runs/O3_5-SCAR-TRANSFER_RADIO\n"
     ]
    },
    {
     "name": "stderr",
     "output_type": "stream",
     "text": [
      "\n"
     ]
    }
   ],
   "source": [
    "from sklearn.model_selection import train_test_split\n",
    "VAL_SPLIT_SIZE = 0.15\n",
    "\n",
    "MODEL_FOLDER_NAME = \"O3_5-SCAR-TRANSFER_RADIO\"\n",
    "\n",
    "# ==============================================================================\n",
    "# 2. DATASET & FOLD SETUP\n",
    "# ==============================================================================\n",
    "print(f\"Total data for cross-validation: {len(full_dataset)} samples.\")\n",
    "\n",
    "kfold = KFold(n_splits=N_SPLITS, shuffle=True, random_state=42)\n",
    "fold_test_results = []\n",
    "\n",
    "# ==============================================================================\n",
    "# 3. CROSS-VALIDATION LOOP\n",
    "# ==============================================================================\n",
    "for fold, (train_outer_idx, test_outer_idx) in enumerate(kfold.split(np.zeros(len(full_dataset)))):\n",
    "    print(f\"\\n{'='*30} OUTER FOLD {fold+1}/{N_SPLITS} {'='*30}\")\n",
    "\n",
    "    SAVED_MODELS_PATH = f\"./saved_models/{MODEL_FOLDER_NAME}/\"\n",
    "\n",
    "    if not os.path.exists(SAVED_MODELS_PATH):\n",
    "        os.makedirs(SAVED_MODELS_PATH)\n",
    "    writer = SummaryWriter(log_dir=f'runs/{MODEL_FOLDER_NAME}/fold_{fold+1}')\n",
    "\n",
    "    inner_train_idx, inner_val_idx = train_test_split(\n",
    "        train_outer_idx,\n",
    "        test_size=VAL_SPLIT_SIZE,\n",
    "        shuffle=True, # Shuffle before splitting\n",
    "        random_state=42\n",
    "    )\n",
    "\n",
    "    inner_train_subset = Subset(full_dataset, inner_train_idx)\n",
    "    inner_val_subset = Subset(full_dataset, inner_val_idx)\n",
    "    outer_test_subset = Subset(full_dataset, test_outer_idx)\n",
    "\n",
    "    train_loader = DataLoader(inner_train_subset, batch_size=BATCH_SIZE, shuffle=True, num_workers=4, pin_memory=True)\n",
    "    val_loader = DataLoader(inner_val_subset, batch_size=BATCH_SIZE, shuffle=False, num_workers=4, pin_memory=True)\n",
    "    test_loader = DataLoader(outer_test_subset, batch_size=BATCH_SIZE, shuffle=False, num_workers=4, pin_memory=True)\n",
    "\n",
    "    model = OddOneOutSCAR().to(DEVICE)\n",
    "\n",
    "    load_partial_state_dict(\n",
    "        model,\n",
    "        \"../RADIO/saved_models/RADIO1_SCAR/deployable_model.pth\",\n",
    "    )\n",
    "\n",
    "    optimizer = torch.optim.Adam(\n",
    "        model.parameters(),\n",
    "        lr=LEARNING_RATE,\n",
    "        betas=(BETA_1, BETA_2),\n",
    "        eps=EPSILON\n",
    "    )\n",
    "    criterion = nn.CrossEntropyLoss()\n",
    "    scheduler = torch.optim.lr_scheduler.ReduceLROnPlateau(\n",
    "        optimizer,\n",
    "        mode='min',\n",
    "        factor=0.1,\n",
    "        patience=5,\n",
    "    )\n",
    "    scaler = None\n",
    "\n",
    "\n",
    "    total_params = sum(p.numel() for p in model.parameters() if p.requires_grad)\n",
    "    print(f\"Fold {fold+1} Model has {total_params:,} trainable parameters.\")\n",
    "    print(f\"Fold {fold+1} Training on {len(inner_train_subset)}, Validating on {len(inner_val_subset)}, Testing on {len(outer_test_subset)}.\")\n",
    "\n",
    "    best_model_path = f\"{SAVED_MODELS_PATH}/best_model_fold_{fold+1}.pth\"\n",
    "    best_val_acc_fold = 0.0\n",
    "    epochs_without_improvement = 0\n",
    "\n",
    "    # --- Inner Training Loop for the Fold ---\n",
    "    for epoch in range(1, EPOCHS + 1):\n",
    "        epoch_start_time = time.time()\n",
    "        \n",
    "        print(f\"\\n--- Fold {fold+1}, Epoch {epoch}/{EPOCHS} ---\")\n",
    "        train_loss, train_acc = train_epoch(model, train_loader, optimizer, criterion, DEVICE, scaler=scaler, scheduler=scheduler)\n",
    "        val_loss, val_acc = validate(model, val_loader, criterion, DEVICE)\n",
    "\n",
    "        scheduler.step(val_loss)  # Adjust learning rate based on validation loss\n",
    "\n",
    "        epoch_duration = time.time() - epoch_start_time\n",
    "\n",
    "        print(f\"  Train Loss: {train_loss:.4f} | Train Acc: {train_acc:.4f}\")\n",
    "        print(f\"  Val Loss:   {val_loss:.4f} | Val Acc:   {val_acc:.4f}\")\n",
    "        print(f\"  Epoch Duration: {epoch_duration:.2f} seconds\")\n",
    "        \n",
    "        writer.add_scalar('Loss/train', train_loss, epoch)\n",
    "        writer.add_scalar('Accuracy/train', train_acc, epoch)\n",
    "        writer.add_scalar('Loss/val', val_loss, epoch)\n",
    "        writer.add_scalar('Accuracy/val', val_acc, epoch)\n",
    "        writer.add_scalar('Performance/seconds_per_epoch', epoch_duration, epoch)\n",
    "        writer.add_scalar('Learning_Rate', optimizer.param_groups[0]['lr'], epoch)\n",
    "\n",
    "        if val_acc > best_val_acc_fold:\n",
    "            best_val_acc_fold = val_acc\n",
    "            epochs_without_improvement = 0\n",
    "            torch.save(model.state_dict(), best_model_path)\n",
    "            print(f\"  -> New best inner validation accuracy: {best_val_acc_fold:.4f}. Model state saved.\")\n",
    "        else:\n",
    "            epochs_without_improvement += 1\n",
    "            if epochs_without_improvement >= PATIENCE:\n",
    "                print(f\"  Early stopping at epoch {epoch}.\")\n",
    "                break\n",
    "    \n",
    "    print(f\"\\n--- Fold {fold+1} Final Evaluation ---\")\n",
    "    print(f\"Loading best model for fold {fold+1} (achieved {best_val_acc_fold:.4f} on inner val set).\")\n",
    "    # Load the best model weights identified during the inner loop\n",
    "    model.load_state_dict(torch.load(best_model_path))\n",
    "    \n",
    "    # Evaluate this best model on the completely unseen outer test set\n",
    "    _, final_fold_test_acc = validate(model, test_loader, criterion, DEVICE)\n",
    "    print(f\"Performance of best model on the OUTER TEST SET for fold {fold+1}: {final_fold_test_acc:.4f}\")\n",
    "\n",
    "    fold_test_results.append(final_fold_test_acc)\n",
    "    writer.add_scalar('Accuracy/test', final_fold_test_acc)\n",
    "    \n",
    "    hparams = { 'learning_rate': LEARNING_RATE, 'batch_size': BATCH_SIZE }\n",
    "    final_metrics = {\n",
    "        'hparam/test_accuracy': final_fold_test_acc,\n",
    "        'hparam/best_inner_val_accuracy': best_val_acc_fold\n",
    "    }\n",
    "    writer.add_hparams(hparams, final_metrics)\n",
    "    writer.close()\n",
    "\n",
    "# ==============================================================================\n",
    "# 4. AGGREGATE AND REPORT CV RESULTS\n",
    "# ==============================================================================\n",
    "mean_test_acc = np.mean(fold_test_results)\n",
    "std_test_acc = np.std(fold_test_results)\n",
    "\n",
    "print(f\"\\n{'='*30} FINAL UNBIASED PERFORMANCE SUMMARY {'='*30}\")\n",
    "print(f\"Unbiased test accuracies from each fold: {[f'{acc:.4f}' for acc in fold_test_results]}\")\n",
    "print(f\"Average Test Accuracy from CV: {mean_test_acc:.4f}\")\n",
    "print(f\"Standard Deviation of Test Accuracy from CV: {std_test_acc:.4f}\")\n",
    "print(f\"-> Estimated Generalization Performance: {mean_test_acc:.4f} \\u00B1 {std_test_acc:.4f}\")\n",
    "\n",
    "print(\"\\nCross-validation finished.\")\n",
    "print(\"To view TensorBoard logs, run the following command in your terminal:\")\n",
    "print(f\"tensorboard --logdir runs/{MODEL_FOLDER_NAME}\")"
   ]
  },
  {
   "cell_type": "markdown",
   "id": "d95aa29f",
   "metadata": {},
   "source": [
    "# RADIO-2 to O3 TL"
   ]
  },
  {
   "cell_type": "code",
   "execution_count": 16,
   "id": "14900178",
   "metadata": {},
   "outputs": [
    {
     "name": "stdout",
     "output_type": "stream",
     "text": [
      "Total data for cross-validation: 500 samples.\n",
      "\n",
      "============================== OUTER FOLD 1/3 ==============================\n",
      "Loading pretrained weights from: ../RADIO/saved_models/RADIO2_SCAR/deployable_model.pth\n",
      "\n",
      "--- Transfer Learning Report ---\n",
      "Successfully loaded 64 / 64 layers.\n",
      "--------------------------------\n",
      "\n",
      "Fold 1 Model has 486,826 trainable parameters.\n",
      "Fold 1 Training on 283, Validating on 50, Testing on 167.\n",
      "\n",
      "--- Fold 1, Epoch 1/100 ---\n"
     ]
    },
    {
     "name": "stderr",
     "output_type": "stream",
     "text": [
      "Training: 100%|██████████| 9/9 [00:00<00:00, 11.85it/s]\n"
     ]
    },
    {
     "name": "stdout",
     "output_type": "stream",
     "text": [
      "Epoch Loss: 1.6907, Accuracy: 0.2226\n"
     ]
    },
    {
     "name": "stderr",
     "output_type": "stream",
     "text": [
      "Validating: 100%|██████████| 2/2 [00:00<00:00,  5.40it/s]\n"
     ]
    },
    {
     "name": "stdout",
     "output_type": "stream",
     "text": [
      "  Train Loss: 1.6907 | Train Acc: 0.2226\n",
      "  Val Loss:   1.6095 | Val Acc:   0.2200\n",
      "  Epoch Duration: 1.14 seconds\n",
      "  -> New best inner validation accuracy: 0.2200. Model state saved.\n",
      "\n",
      "--- Fold 1, Epoch 2/100 ---\n"
     ]
    },
    {
     "name": "stderr",
     "output_type": "stream",
     "text": [
      "Training: 100%|██████████| 9/9 [00:00<00:00, 13.17it/s]\n"
     ]
    },
    {
     "name": "stdout",
     "output_type": "stream",
     "text": [
      "Epoch Loss: 1.5847, Accuracy: 0.2367\n"
     ]
    },
    {
     "name": "stderr",
     "output_type": "stream",
     "text": [
      "Validating: 100%|██████████| 2/2 [00:00<00:00,  5.45it/s]\n"
     ]
    },
    {
     "name": "stdout",
     "output_type": "stream",
     "text": [
      "  Train Loss: 1.5847 | Train Acc: 0.2367\n",
      "  Val Loss:   1.6077 | Val Acc:   0.2200\n",
      "  Epoch Duration: 1.06 seconds\n",
      "\n",
      "--- Fold 1, Epoch 3/100 ---\n"
     ]
    },
    {
     "name": "stderr",
     "output_type": "stream",
     "text": [
      "Training: 100%|██████████| 9/9 [00:00<00:00, 12.44it/s]\n"
     ]
    },
    {
     "name": "stdout",
     "output_type": "stream",
     "text": [
      "Epoch Loss: 1.5522, Accuracy: 0.2827\n"
     ]
    },
    {
     "name": "stderr",
     "output_type": "stream",
     "text": [
      "Validating: 100%|██████████| 2/2 [00:00<00:00,  5.43it/s]\n"
     ]
    },
    {
     "name": "stdout",
     "output_type": "stream",
     "text": [
      "  Train Loss: 1.5522 | Train Acc: 0.2827\n",
      "  Val Loss:   1.6068 | Val Acc:   0.2400\n",
      "  Epoch Duration: 1.10 seconds\n",
      "  -> New best inner validation accuracy: 0.2400. Model state saved.\n",
      "\n",
      "--- Fold 1, Epoch 4/100 ---\n"
     ]
    },
    {
     "name": "stderr",
     "output_type": "stream",
     "text": [
      "Training: 100%|██████████| 9/9 [00:00<00:00, 13.11it/s]\n"
     ]
    },
    {
     "name": "stdout",
     "output_type": "stream",
     "text": [
      "Epoch Loss: 1.4436, Accuracy: 0.3534\n"
     ]
    },
    {
     "name": "stderr",
     "output_type": "stream",
     "text": [
      "Validating: 100%|██████████| 2/2 [00:00<00:00,  5.49it/s]\n"
     ]
    },
    {
     "name": "stdout",
     "output_type": "stream",
     "text": [
      "  Train Loss: 1.4436 | Train Acc: 0.3534\n",
      "  Val Loss:   1.6072 | Val Acc:   0.2600\n",
      "  Epoch Duration: 1.06 seconds\n",
      "  -> New best inner validation accuracy: 0.2600. Model state saved.\n",
      "\n",
      "--- Fold 1, Epoch 5/100 ---\n"
     ]
    },
    {
     "name": "stderr",
     "output_type": "stream",
     "text": [
      "Training: 100%|██████████| 9/9 [00:00<00:00, 13.40it/s]\n"
     ]
    },
    {
     "name": "stdout",
     "output_type": "stream",
     "text": [
      "Epoch Loss: 1.2830, Accuracy: 0.4276\n"
     ]
    },
    {
     "name": "stderr",
     "output_type": "stream",
     "text": [
      "Validating: 100%|██████████| 2/2 [00:00<00:00,  5.55it/s]\n"
     ]
    },
    {
     "name": "stdout",
     "output_type": "stream",
     "text": [
      "  Train Loss: 1.2830 | Train Acc: 0.4276\n",
      "  Val Loss:   1.6052 | Val Acc:   0.1800\n",
      "  Epoch Duration: 1.04 seconds\n",
      "\n",
      "--- Fold 1, Epoch 6/100 ---\n"
     ]
    },
    {
     "name": "stderr",
     "output_type": "stream",
     "text": [
      "Training: 100%|██████████| 9/9 [00:00<00:00, 11.62it/s]\n"
     ]
    },
    {
     "name": "stdout",
     "output_type": "stream",
     "text": [
      "Epoch Loss: 1.0487, Accuracy: 0.6007\n"
     ]
    },
    {
     "name": "stderr",
     "output_type": "stream",
     "text": [
      "Validating: 100%|██████████| 2/2 [00:00<00:00,  5.61it/s]\n"
     ]
    },
    {
     "name": "stdout",
     "output_type": "stream",
     "text": [
      "  Train Loss: 1.0487 | Train Acc: 0.6007\n",
      "  Val Loss:   1.6082 | Val Acc:   0.2600\n",
      "  Epoch Duration: 1.14 seconds\n",
      "\n",
      "--- Fold 1, Epoch 7/100 ---\n"
     ]
    },
    {
     "name": "stderr",
     "output_type": "stream",
     "text": [
      "Training: 100%|██████████| 9/9 [00:00<00:00, 13.15it/s]\n"
     ]
    },
    {
     "name": "stdout",
     "output_type": "stream",
     "text": [
      "Epoch Loss: 0.7876, Accuracy: 0.6537\n"
     ]
    },
    {
     "name": "stderr",
     "output_type": "stream",
     "text": [
      "Validating: 100%|██████████| 2/2 [00:00<00:00,  4.95it/s]\n"
     ]
    },
    {
     "name": "stdout",
     "output_type": "stream",
     "text": [
      "  Train Loss: 0.7876 | Train Acc: 0.6537\n",
      "  Val Loss:   1.8317 | Val Acc:   0.1400\n",
      "  Epoch Duration: 1.09 seconds\n",
      "\n",
      "--- Fold 1, Epoch 8/100 ---\n"
     ]
    },
    {
     "name": "stderr",
     "output_type": "stream",
     "text": [
      "Training: 100%|██████████| 9/9 [00:00<00:00, 13.26it/s]\n"
     ]
    },
    {
     "name": "stdout",
     "output_type": "stream",
     "text": [
      "Epoch Loss: 0.6950, Accuracy: 0.7527\n"
     ]
    },
    {
     "name": "stderr",
     "output_type": "stream",
     "text": [
      "Validating: 100%|██████████| 2/2 [00:00<00:00,  5.31it/s]\n"
     ]
    },
    {
     "name": "stdout",
     "output_type": "stream",
     "text": [
      "  Train Loss: 0.6950 | Train Acc: 0.7527\n",
      "  Val Loss:   1.9773 | Val Acc:   0.1800\n",
      "  Epoch Duration: 1.06 seconds\n",
      "\n",
      "--- Fold 1, Epoch 9/100 ---\n"
     ]
    },
    {
     "name": "stderr",
     "output_type": "stream",
     "text": [
      "Training: 100%|██████████| 9/9 [00:00<00:00, 11.86it/s]\n"
     ]
    },
    {
     "name": "stdout",
     "output_type": "stream",
     "text": [
      "Epoch Loss: 0.5396, Accuracy: 0.8092\n"
     ]
    },
    {
     "name": "stderr",
     "output_type": "stream",
     "text": [
      "Validating: 100%|██████████| 2/2 [00:00<00:00,  5.67it/s]\n"
     ]
    },
    {
     "name": "stdout",
     "output_type": "stream",
     "text": [
      "  Train Loss: 0.5396 | Train Acc: 0.8092\n",
      "  Val Loss:   1.9118 | Val Acc:   0.1800\n",
      "  Epoch Duration: 1.12 seconds\n",
      "\n",
      "--- Fold 1, Epoch 10/100 ---\n"
     ]
    },
    {
     "name": "stderr",
     "output_type": "stream",
     "text": [
      "Training: 100%|██████████| 9/9 [00:00<00:00, 12.79it/s]\n"
     ]
    },
    {
     "name": "stdout",
     "output_type": "stream",
     "text": [
      "Epoch Loss: 0.4667, Accuracy: 0.8163\n"
     ]
    },
    {
     "name": "stderr",
     "output_type": "stream",
     "text": [
      "Validating: 100%|██████████| 2/2 [00:00<00:00,  5.18it/s]\n"
     ]
    },
    {
     "name": "stdout",
     "output_type": "stream",
     "text": [
      "  Train Loss: 0.4667 | Train Acc: 0.8163\n",
      "  Val Loss:   1.9432 | Val Acc:   0.1400\n",
      "  Epoch Duration: 1.10 seconds\n",
      "\n",
      "--- Fold 1, Epoch 11/100 ---\n"
     ]
    },
    {
     "name": "stderr",
     "output_type": "stream",
     "text": [
      "Training: 100%|██████████| 9/9 [00:00<00:00, 13.37it/s]\n"
     ]
    },
    {
     "name": "stdout",
     "output_type": "stream",
     "text": [
      "Epoch Loss: 0.2952, Accuracy: 0.9117\n"
     ]
    },
    {
     "name": "stderr",
     "output_type": "stream",
     "text": [
      "Validating: 100%|██████████| 2/2 [00:00<00:00,  5.42it/s]\n"
     ]
    },
    {
     "name": "stdout",
     "output_type": "stream",
     "text": [
      "  Train Loss: 0.2952 | Train Acc: 0.9117\n",
      "  Val Loss:   2.1326 | Val Acc:   0.2400\n",
      "  Epoch Duration: 1.05 seconds\n",
      "\n",
      "--- Fold 1, Epoch 12/100 ---\n"
     ]
    },
    {
     "name": "stderr",
     "output_type": "stream",
     "text": [
      "Training: 100%|██████████| 9/9 [00:00<00:00, 11.72it/s]\n"
     ]
    },
    {
     "name": "stdout",
     "output_type": "stream",
     "text": [
      "Epoch Loss: 0.3639, Accuracy: 0.8869\n"
     ]
    },
    {
     "name": "stderr",
     "output_type": "stream",
     "text": [
      "Validating: 100%|██████████| 2/2 [00:00<00:00,  5.64it/s]\n"
     ]
    },
    {
     "name": "stdout",
     "output_type": "stream",
     "text": [
      "  Train Loss: 0.3639 | Train Acc: 0.8869\n",
      "  Val Loss:   2.3695 | Val Acc:   0.2400\n",
      "  Epoch Duration: 1.13 seconds\n",
      "\n",
      "--- Fold 1, Epoch 13/100 ---\n"
     ]
    },
    {
     "name": "stderr",
     "output_type": "stream",
     "text": [
      "Training: 100%|██████████| 9/9 [00:00<00:00, 12.83it/s]\n"
     ]
    },
    {
     "name": "stdout",
     "output_type": "stream",
     "text": [
      "Epoch Loss: 0.1136, Accuracy: 0.9576\n"
     ]
    },
    {
     "name": "stderr",
     "output_type": "stream",
     "text": [
      "Validating: 100%|██████████| 2/2 [00:00<00:00,  4.94it/s]\n"
     ]
    },
    {
     "name": "stdout",
     "output_type": "stream",
     "text": [
      "  Train Loss: 0.1136 | Train Acc: 0.9576\n",
      "  Val Loss:   3.3816 | Val Acc:   0.2200\n",
      "  Epoch Duration: 1.11 seconds\n",
      "\n",
      "--- Fold 1, Epoch 14/100 ---\n"
     ]
    },
    {
     "name": "stderr",
     "output_type": "stream",
     "text": [
      "Training: 100%|██████████| 9/9 [00:00<00:00, 13.20it/s]\n"
     ]
    },
    {
     "name": "stdout",
     "output_type": "stream",
     "text": [
      "Epoch Loss: 0.0587, Accuracy: 0.9788\n"
     ]
    },
    {
     "name": "stderr",
     "output_type": "stream",
     "text": [
      "Validating: 100%|██████████| 2/2 [00:00<00:00,  5.35it/s]\n"
     ]
    },
    {
     "name": "stdout",
     "output_type": "stream",
     "text": [
      "  Train Loss: 0.0587 | Train Acc: 0.9788\n",
      "  Val Loss:   5.9117 | Val Acc:   0.2600\n",
      "  Epoch Duration: 1.06 seconds\n",
      "  Early stopping at epoch 14.\n",
      "\n",
      "--- Fold 1 Final Evaluation ---\n",
      "Loading best model for fold 1 (achieved 0.2600 on inner val set).\n"
     ]
    },
    {
     "name": "stderr",
     "output_type": "stream",
     "text": [
      "Validating: 100%|██████████| 6/6 [00:00<00:00,  9.80it/s]\n"
     ]
    },
    {
     "name": "stdout",
     "output_type": "stream",
     "text": [
      "Performance of best model on the OUTER TEST SET for fold 1: 0.2515\n",
      "\n",
      "============================== OUTER FOLD 2/3 ==============================\n",
      "Loading pretrained weights from: ../RADIO/saved_models/RADIO2_SCAR/deployable_model.pth\n",
      "\n",
      "--- Transfer Learning Report ---\n",
      "Successfully loaded 64 / 64 layers.\n",
      "--------------------------------\n",
      "\n",
      "Fold 2 Model has 486,826 trainable parameters.\n",
      "Fold 2 Training on 283, Validating on 50, Testing on 167.\n",
      "\n",
      "--- Fold 2, Epoch 1/100 ---\n"
     ]
    },
    {
     "name": "stderr",
     "output_type": "stream",
     "text": [
      "Training: 100%|██████████| 9/9 [00:00<00:00, 13.61it/s]\n"
     ]
    },
    {
     "name": "stdout",
     "output_type": "stream",
     "text": [
      "Epoch Loss: 1.7036, Accuracy: 0.2473\n"
     ]
    },
    {
     "name": "stderr",
     "output_type": "stream",
     "text": [
      "Validating:   0%|          | 0/2 [00:00<?, ?it/s]"
     ]
    },
    {
     "name": "stderr",
     "output_type": "stream",
     "text": [
      "Validating: 100%|██████████| 2/2 [00:00<00:00,  5.26it/s]\n"
     ]
    },
    {
     "name": "stdout",
     "output_type": "stream",
     "text": [
      "  Train Loss: 1.7036 | Train Acc: 0.2473\n",
      "  Val Loss:   1.6094 | Val Acc:   0.2200\n",
      "  Epoch Duration: 1.05 seconds\n",
      "  -> New best inner validation accuracy: 0.2200. Model state saved.\n",
      "\n",
      "--- Fold 2, Epoch 2/100 ---\n"
     ]
    },
    {
     "name": "stderr",
     "output_type": "stream",
     "text": [
      "Training: 100%|██████████| 9/9 [00:00<00:00, 10.95it/s]\n"
     ]
    },
    {
     "name": "stdout",
     "output_type": "stream",
     "text": [
      "Epoch Loss: 1.6091, Accuracy: 0.2544\n"
     ]
    },
    {
     "name": "stderr",
     "output_type": "stream",
     "text": [
      "Validating: 100%|██████████| 2/2 [00:00<00:00,  5.54it/s]\n"
     ]
    },
    {
     "name": "stdout",
     "output_type": "stream",
     "text": [
      "  Train Loss: 1.6091 | Train Acc: 0.2544\n",
      "  Val Loss:   1.6095 | Val Acc:   0.2200\n",
      "  Epoch Duration: 1.19 seconds\n",
      "\n",
      "--- Fold 2, Epoch 3/100 ---\n"
     ]
    },
    {
     "name": "stderr",
     "output_type": "stream",
     "text": [
      "Training: 100%|██████████| 9/9 [00:00<00:00, 13.26it/s]\n"
     ]
    },
    {
     "name": "stdout",
     "output_type": "stream",
     "text": [
      "Epoch Loss: 1.6011, Accuracy: 0.2580\n"
     ]
    },
    {
     "name": "stderr",
     "output_type": "stream",
     "text": [
      "Validating: 100%|██████████| 2/2 [00:00<00:00,  5.35it/s]\n"
     ]
    },
    {
     "name": "stdout",
     "output_type": "stream",
     "text": [
      "  Train Loss: 1.6011 | Train Acc: 0.2580\n",
      "  Val Loss:   1.6103 | Val Acc:   0.1200\n",
      "  Epoch Duration: 1.06 seconds\n",
      "\n",
      "--- Fold 2, Epoch 4/100 ---\n"
     ]
    },
    {
     "name": "stderr",
     "output_type": "stream",
     "text": [
      "Training: 100%|██████████| 9/9 [00:00<00:00, 13.82it/s]\n"
     ]
    },
    {
     "name": "stdout",
     "output_type": "stream",
     "text": [
      "Epoch Loss: 1.5829, Accuracy: 0.2721\n"
     ]
    },
    {
     "name": "stderr",
     "output_type": "stream",
     "text": [
      "Validating: 100%|██████████| 2/2 [00:00<00:00,  5.58it/s]\n"
     ]
    },
    {
     "name": "stdout",
     "output_type": "stream",
     "text": [
      "  Train Loss: 1.5829 | Train Acc: 0.2721\n",
      "  Val Loss:   1.6088 | Val Acc:   0.2000\n",
      "  Epoch Duration: 1.02 seconds\n",
      "\n",
      "--- Fold 2, Epoch 5/100 ---\n"
     ]
    },
    {
     "name": "stderr",
     "output_type": "stream",
     "text": [
      "Training: 100%|██████████| 9/9 [00:00<00:00, 10.56it/s]\n"
     ]
    },
    {
     "name": "stdout",
     "output_type": "stream",
     "text": [
      "Epoch Loss: 1.5261, Accuracy: 0.3074\n"
     ]
    },
    {
     "name": "stderr",
     "output_type": "stream",
     "text": [
      "Validating: 100%|██████████| 2/2 [00:00<00:00,  5.39it/s]\n"
     ]
    },
    {
     "name": "stdout",
     "output_type": "stream",
     "text": [
      "  Train Loss: 1.5261 | Train Acc: 0.3074\n",
      "  Val Loss:   1.5920 | Val Acc:   0.2400\n",
      "  Epoch Duration: 1.23 seconds\n",
      "  -> New best inner validation accuracy: 0.2400. Model state saved.\n",
      "\n",
      "--- Fold 2, Epoch 6/100 ---\n"
     ]
    },
    {
     "name": "stderr",
     "output_type": "stream",
     "text": [
      "Training: 100%|██████████| 9/9 [00:00<00:00, 13.36it/s]\n"
     ]
    },
    {
     "name": "stdout",
     "output_type": "stream",
     "text": [
      "Epoch Loss: 1.3534, Accuracy: 0.3852\n"
     ]
    },
    {
     "name": "stderr",
     "output_type": "stream",
     "text": [
      "Validating: 100%|██████████| 2/2 [00:00<00:00,  4.98it/s]\n"
     ]
    },
    {
     "name": "stdout",
     "output_type": "stream",
     "text": [
      "  Train Loss: 1.3534 | Train Acc: 0.3852\n",
      "  Val Loss:   1.5761 | Val Acc:   0.2400\n",
      "  Epoch Duration: 1.08 seconds\n",
      "\n",
      "--- Fold 2, Epoch 7/100 ---\n"
     ]
    },
    {
     "name": "stderr",
     "output_type": "stream",
     "text": [
      "Training: 100%|██████████| 9/9 [00:00<00:00, 13.97it/s]\n"
     ]
    },
    {
     "name": "stdout",
     "output_type": "stream",
     "text": [
      "Epoch Loss: 1.1724, Accuracy: 0.5336\n"
     ]
    },
    {
     "name": "stderr",
     "output_type": "stream",
     "text": [
      "Validating: 100%|██████████| 2/2 [00:00<00:00,  5.44it/s]\n"
     ]
    },
    {
     "name": "stdout",
     "output_type": "stream",
     "text": [
      "  Train Loss: 1.1724 | Train Acc: 0.5336\n",
      "  Val Loss:   1.6681 | Val Acc:   0.3000\n",
      "  Epoch Duration: 1.02 seconds\n",
      "  -> New best inner validation accuracy: 0.3000. Model state saved.\n",
      "\n",
      "--- Fold 2, Epoch 8/100 ---\n"
     ]
    },
    {
     "name": "stderr",
     "output_type": "stream",
     "text": [
      "Training: 100%|██████████| 9/9 [00:00<00:00, 12.30it/s]\n"
     ]
    },
    {
     "name": "stdout",
     "output_type": "stream",
     "text": [
      "Epoch Loss: 0.9561, Accuracy: 0.6396\n"
     ]
    },
    {
     "name": "stderr",
     "output_type": "stream",
     "text": [
      "Validating: 100%|██████████| 2/2 [00:00<00:00,  5.39it/s]\n"
     ]
    },
    {
     "name": "stdout",
     "output_type": "stream",
     "text": [
      "  Train Loss: 0.9561 | Train Acc: 0.6396\n",
      "  Val Loss:   1.6817 | Val Acc:   0.1800\n",
      "  Epoch Duration: 1.11 seconds\n",
      "\n",
      "--- Fold 2, Epoch 9/100 ---\n"
     ]
    },
    {
     "name": "stderr",
     "output_type": "stream",
     "text": [
      "Training: 100%|██████████| 9/9 [00:00<00:00, 12.43it/s]\n"
     ]
    },
    {
     "name": "stdout",
     "output_type": "stream",
     "text": [
      "Epoch Loss: 0.6975, Accuracy: 0.7244\n"
     ]
    },
    {
     "name": "stderr",
     "output_type": "stream",
     "text": [
      "Validating: 100%|██████████| 2/2 [00:00<00:00,  5.39it/s]\n"
     ]
    },
    {
     "name": "stdout",
     "output_type": "stream",
     "text": [
      "  Train Loss: 0.6975 | Train Acc: 0.7244\n",
      "  Val Loss:   1.8166 | Val Acc:   0.1600\n",
      "  Epoch Duration: 1.10 seconds\n",
      "\n",
      "--- Fold 2, Epoch 10/100 ---\n"
     ]
    },
    {
     "name": "stderr",
     "output_type": "stream",
     "text": [
      "Training: 100%|██████████| 9/9 [00:00<00:00, 12.32it/s]\n"
     ]
    },
    {
     "name": "stdout",
     "output_type": "stream",
     "text": [
      "Epoch Loss: 0.4850, Accuracy: 0.8092\n"
     ]
    },
    {
     "name": "stderr",
     "output_type": "stream",
     "text": [
      "Validating: 100%|██████████| 2/2 [00:00<00:00,  5.39it/s]\n"
     ]
    },
    {
     "name": "stdout",
     "output_type": "stream",
     "text": [
      "  Train Loss: 0.4850 | Train Acc: 0.8092\n",
      "  Val Loss:   1.8529 | Val Acc:   0.3000\n",
      "  Epoch Duration: 1.11 seconds\n",
      "\n",
      "--- Fold 2, Epoch 11/100 ---\n"
     ]
    },
    {
     "name": "stderr",
     "output_type": "stream",
     "text": [
      "Training: 100%|██████████| 9/9 [00:00<00:00, 12.66it/s]\n"
     ]
    },
    {
     "name": "stdout",
     "output_type": "stream",
     "text": [
      "Epoch Loss: 0.3120, Accuracy: 0.8869\n"
     ]
    },
    {
     "name": "stderr",
     "output_type": "stream",
     "text": [
      "Validating: 100%|██████████| 2/2 [00:00<00:00,  5.08it/s]\n"
     ]
    },
    {
     "name": "stdout",
     "output_type": "stream",
     "text": [
      "  Train Loss: 0.3120 | Train Acc: 0.8869\n",
      "  Val Loss:   1.8236 | Val Acc:   0.2800\n",
      "  Epoch Duration: 1.12 seconds\n",
      "\n",
      "--- Fold 2, Epoch 12/100 ---\n"
     ]
    },
    {
     "name": "stderr",
     "output_type": "stream",
     "text": [
      "Training: 100%|██████████| 9/9 [00:00<00:00, 13.30it/s]\n"
     ]
    },
    {
     "name": "stdout",
     "output_type": "stream",
     "text": [
      "Epoch Loss: 0.3578, Accuracy: 0.9081\n"
     ]
    },
    {
     "name": "stderr",
     "output_type": "stream",
     "text": [
      "Validating: 100%|██████████| 2/2 [00:00<00:00,  5.30it/s]\n"
     ]
    },
    {
     "name": "stdout",
     "output_type": "stream",
     "text": [
      "  Train Loss: 0.3578 | Train Acc: 0.9081\n",
      "  Val Loss:   1.6051 | Val Acc:   0.2400\n",
      "  Epoch Duration: 1.06 seconds\n",
      "\n",
      "--- Fold 2, Epoch 13/100 ---\n"
     ]
    },
    {
     "name": "stderr",
     "output_type": "stream",
     "text": [
      "Training: 100%|██████████| 9/9 [00:00<00:00, 11.72it/s]\n"
     ]
    },
    {
     "name": "stdout",
     "output_type": "stream",
     "text": [
      "Epoch Loss: 0.2801, Accuracy: 0.9364\n"
     ]
    },
    {
     "name": "stderr",
     "output_type": "stream",
     "text": [
      "Validating: 100%|██████████| 2/2 [00:00<00:00,  5.54it/s]\n"
     ]
    },
    {
     "name": "stdout",
     "output_type": "stream",
     "text": [
      "  Train Loss: 0.2801 | Train Acc: 0.9364\n",
      "  Val Loss:   2.3541 | Val Acc:   0.2800\n",
      "  Epoch Duration: 1.13 seconds\n",
      "\n",
      "--- Fold 2, Epoch 14/100 ---\n"
     ]
    },
    {
     "name": "stderr",
     "output_type": "stream",
     "text": [
      "Training: 100%|██████████| 9/9 [00:00<00:00, 11.75it/s]\n"
     ]
    },
    {
     "name": "stdout",
     "output_type": "stream",
     "text": [
      "Epoch Loss: 0.1230, Accuracy: 0.9682\n"
     ]
    },
    {
     "name": "stderr",
     "output_type": "stream",
     "text": [
      "Validating: 100%|██████████| 2/2 [00:00<00:00,  5.65it/s]\n"
     ]
    },
    {
     "name": "stdout",
     "output_type": "stream",
     "text": [
      "  Train Loss: 0.1230 | Train Acc: 0.9682\n",
      "  Val Loss:   4.1934 | Val Acc:   0.1800\n",
      "  Epoch Duration: 1.13 seconds\n",
      "\n",
      "--- Fold 2, Epoch 15/100 ---\n"
     ]
    },
    {
     "name": "stderr",
     "output_type": "stream",
     "text": [
      "Training: 100%|██████████| 9/9 [00:00<00:00, 12.93it/s]\n"
     ]
    },
    {
     "name": "stdout",
     "output_type": "stream",
     "text": [
      "Epoch Loss: 0.0723, Accuracy: 0.9823\n"
     ]
    },
    {
     "name": "stderr",
     "output_type": "stream",
     "text": [
      "Validating: 100%|██████████| 2/2 [00:00<00:00,  5.38it/s]\n"
     ]
    },
    {
     "name": "stdout",
     "output_type": "stream",
     "text": [
      "  Train Loss: 0.0723 | Train Acc: 0.9823\n",
      "  Val Loss:   7.7925 | Val Acc:   0.2000\n",
      "  Epoch Duration: 1.08 seconds\n",
      "\n",
      "--- Fold 2, Epoch 16/100 ---\n"
     ]
    },
    {
     "name": "stderr",
     "output_type": "stream",
     "text": [
      "Training: 100%|██████████| 9/9 [00:00<00:00, 13.10it/s]\n"
     ]
    },
    {
     "name": "stdout",
     "output_type": "stream",
     "text": [
      "Epoch Loss: 0.0367, Accuracy: 0.9894\n"
     ]
    },
    {
     "name": "stderr",
     "output_type": "stream",
     "text": [
      "Validating: 100%|██████████| 2/2 [00:00<00:00,  5.52it/s]\n"
     ]
    },
    {
     "name": "stdout",
     "output_type": "stream",
     "text": [
      "  Train Loss: 0.0367 | Train Acc: 0.9894\n",
      "  Val Loss:   9.4040 | Val Acc:   0.2400\n",
      "  Epoch Duration: 1.06 seconds\n",
      "\n",
      "--- Fold 2, Epoch 17/100 ---\n"
     ]
    },
    {
     "name": "stderr",
     "output_type": "stream",
     "text": [
      "Training: 100%|██████████| 9/9 [00:00<00:00, 12.26it/s]\n"
     ]
    },
    {
     "name": "stdout",
     "output_type": "stream",
     "text": [
      "Epoch Loss: 0.0272, Accuracy: 0.9894\n"
     ]
    },
    {
     "name": "stderr",
     "output_type": "stream",
     "text": [
      "Validating: 100%|██████████| 2/2 [00:00<00:00,  5.67it/s]\n"
     ]
    },
    {
     "name": "stdout",
     "output_type": "stream",
     "text": [
      "  Train Loss: 0.0272 | Train Acc: 0.9894\n",
      "  Val Loss:   10.3657 | Val Acc:   0.2200\n",
      "  Epoch Duration: 1.09 seconds\n",
      "  Early stopping at epoch 17.\n",
      "\n",
      "--- Fold 2 Final Evaluation ---\n",
      "Loading best model for fold 2 (achieved 0.3000 on inner val set).\n"
     ]
    },
    {
     "name": "stderr",
     "output_type": "stream",
     "text": [
      "Validating: 100%|██████████| 6/6 [00:00<00:00, 11.37it/s]\n"
     ]
    },
    {
     "name": "stdout",
     "output_type": "stream",
     "text": [
      "Performance of best model on the OUTER TEST SET for fold 2: 0.2156\n",
      "\n",
      "============================== OUTER FOLD 3/3 ==============================\n",
      "Loading pretrained weights from: ../RADIO/saved_models/RADIO2_SCAR/deployable_model.pth\n",
      "\n",
      "--- Transfer Learning Report ---\n",
      "Successfully loaded 64 / 64 layers.\n",
      "--------------------------------\n",
      "\n",
      "Fold 3 Model has 486,826 trainable parameters.\n",
      "Fold 3 Training on 283, Validating on 51, Testing on 166.\n",
      "\n",
      "--- Fold 3, Epoch 1/100 ---\n"
     ]
    },
    {
     "name": "stderr",
     "output_type": "stream",
     "text": [
      "Training: 100%|██████████| 9/9 [00:00<00:00, 12.26it/s]\n"
     ]
    },
    {
     "name": "stdout",
     "output_type": "stream",
     "text": [
      "Epoch Loss: 1.7747, Accuracy: 0.2367\n"
     ]
    },
    {
     "name": "stderr",
     "output_type": "stream",
     "text": [
      "Validating: 100%|██████████| 2/2 [00:00<00:00,  5.31it/s]\n"
     ]
    },
    {
     "name": "stdout",
     "output_type": "stream",
     "text": [
      "  Train Loss: 1.7747 | Train Acc: 0.2367\n",
      "  Val Loss:   1.6094 | Val Acc:   0.2157\n",
      "  Epoch Duration: 1.12 seconds\n",
      "  -> New best inner validation accuracy: 0.2157. Model state saved.\n",
      "\n",
      "--- Fold 3, Epoch 2/100 ---\n"
     ]
    },
    {
     "name": "stderr",
     "output_type": "stream",
     "text": [
      "Training: 100%|██████████| 9/9 [00:00<00:00, 13.48it/s]\n"
     ]
    },
    {
     "name": "stdout",
     "output_type": "stream",
     "text": [
      "Epoch Loss: 1.6046, Accuracy: 0.3145\n"
     ]
    },
    {
     "name": "stderr",
     "output_type": "stream",
     "text": [
      "Validating: 100%|██████████| 2/2 [00:00<00:00,  5.38it/s]\n"
     ]
    },
    {
     "name": "stdout",
     "output_type": "stream",
     "text": [
      "  Train Loss: 1.6046 | Train Acc: 0.3145\n",
      "  Val Loss:   1.6094 | Val Acc:   0.1961\n",
      "  Epoch Duration: 1.05 seconds\n",
      "\n",
      "--- Fold 3, Epoch 3/100 ---\n"
     ]
    },
    {
     "name": "stderr",
     "output_type": "stream",
     "text": [
      "Training: 100%|██████████| 9/9 [00:00<00:00, 13.31it/s]\n"
     ]
    },
    {
     "name": "stdout",
     "output_type": "stream",
     "text": [
      "Epoch Loss: 1.5452, Accuracy: 0.3781\n"
     ]
    },
    {
     "name": "stderr",
     "output_type": "stream",
     "text": [
      "Validating: 100%|██████████| 2/2 [00:00<00:00,  5.27it/s]\n"
     ]
    },
    {
     "name": "stdout",
     "output_type": "stream",
     "text": [
      "  Train Loss: 1.5452 | Train Acc: 0.3781\n",
      "  Val Loss:   1.6090 | Val Acc:   0.2745\n",
      "  Epoch Duration: 1.06 seconds\n",
      "  -> New best inner validation accuracy: 0.2745. Model state saved.\n",
      "\n",
      "--- Fold 3, Epoch 4/100 ---\n"
     ]
    },
    {
     "name": "stderr",
     "output_type": "stream",
     "text": [
      "Training: 100%|██████████| 9/9 [00:00<00:00, 12.59it/s]\n"
     ]
    },
    {
     "name": "stdout",
     "output_type": "stream",
     "text": [
      "Epoch Loss: 1.4316, Accuracy: 0.4523\n"
     ]
    },
    {
     "name": "stderr",
     "output_type": "stream",
     "text": [
      "Validating: 100%|██████████| 2/2 [00:00<00:00,  5.62it/s]\n"
     ]
    },
    {
     "name": "stdout",
     "output_type": "stream",
     "text": [
      "  Train Loss: 1.4316 | Train Acc: 0.4523\n",
      "  Val Loss:   1.6125 | Val Acc:   0.1569\n",
      "  Epoch Duration: 1.08 seconds\n",
      "\n",
      "--- Fold 3, Epoch 5/100 ---\n"
     ]
    },
    {
     "name": "stderr",
     "output_type": "stream",
     "text": [
      "Training: 100%|██████████| 9/9 [00:00<00:00, 12.75it/s]\n"
     ]
    },
    {
     "name": "stdout",
     "output_type": "stream",
     "text": [
      "Epoch Loss: 1.2060, Accuracy: 0.5300\n"
     ]
    },
    {
     "name": "stderr",
     "output_type": "stream",
     "text": [
      "Validating: 100%|██████████| 2/2 [00:00<00:00,  5.60it/s]\n"
     ]
    },
    {
     "name": "stdout",
     "output_type": "stream",
     "text": [
      "  Train Loss: 1.2060 | Train Acc: 0.5300\n",
      "  Val Loss:   1.5885 | Val Acc:   0.3529\n",
      "  Epoch Duration: 1.07 seconds\n",
      "  -> New best inner validation accuracy: 0.3529. Model state saved.\n",
      "\n",
      "--- Fold 3, Epoch 6/100 ---\n"
     ]
    },
    {
     "name": "stderr",
     "output_type": "stream",
     "text": [
      "Training: 100%|██████████| 9/9 [00:00<00:00, 12.33it/s]\n"
     ]
    },
    {
     "name": "stdout",
     "output_type": "stream",
     "text": [
      "Epoch Loss: 0.9903, Accuracy: 0.6184\n"
     ]
    },
    {
     "name": "stderr",
     "output_type": "stream",
     "text": [
      "Validating: 100%|██████████| 2/2 [00:00<00:00,  5.61it/s]\n"
     ]
    },
    {
     "name": "stdout",
     "output_type": "stream",
     "text": [
      "  Train Loss: 0.9903 | Train Acc: 0.6184\n",
      "  Val Loss:   1.6251 | Val Acc:   0.2941\n",
      "  Epoch Duration: 1.09 seconds\n",
      "\n",
      "--- Fold 3, Epoch 7/100 ---\n"
     ]
    },
    {
     "name": "stderr",
     "output_type": "stream",
     "text": [
      "Training: 100%|██████████| 9/9 [00:00<00:00, 13.13it/s]\n"
     ]
    },
    {
     "name": "stdout",
     "output_type": "stream",
     "text": [
      "Epoch Loss: 0.7477, Accuracy: 0.7597\n"
     ]
    },
    {
     "name": "stderr",
     "output_type": "stream",
     "text": [
      "Validating: 100%|██████████| 2/2 [00:00<00:00,  4.99it/s]\n"
     ]
    },
    {
     "name": "stdout",
     "output_type": "stream",
     "text": [
      "  Train Loss: 0.7477 | Train Acc: 0.7597\n",
      "  Val Loss:   1.7164 | Val Acc:   0.2549\n",
      "  Epoch Duration: 1.09 seconds\n",
      "\n",
      "--- Fold 3, Epoch 8/100 ---\n"
     ]
    },
    {
     "name": "stderr",
     "output_type": "stream",
     "text": [
      "Training: 100%|██████████| 9/9 [00:00<00:00, 13.37it/s]\n"
     ]
    },
    {
     "name": "stdout",
     "output_type": "stream",
     "text": [
      "Epoch Loss: 0.4271, Accuracy: 0.8763\n"
     ]
    },
    {
     "name": "stderr",
     "output_type": "stream",
     "text": [
      "Validating: 100%|██████████| 2/2 [00:00<00:00,  5.52it/s]\n"
     ]
    },
    {
     "name": "stdout",
     "output_type": "stream",
     "text": [
      "  Train Loss: 0.4271 | Train Acc: 0.8763\n",
      "  Val Loss:   1.9210 | Val Acc:   0.2157\n",
      "  Epoch Duration: 1.04 seconds\n",
      "\n",
      "--- Fold 3, Epoch 9/100 ---\n"
     ]
    },
    {
     "name": "stderr",
     "output_type": "stream",
     "text": [
      "Training: 100%|██████████| 9/9 [00:00<00:00, 12.52it/s]\n"
     ]
    },
    {
     "name": "stdout",
     "output_type": "stream",
     "text": [
      "Epoch Loss: 0.2743, Accuracy: 0.9081\n"
     ]
    },
    {
     "name": "stderr",
     "output_type": "stream",
     "text": [
      "Validating: 100%|██████████| 2/2 [00:00<00:00,  5.19it/s]\n"
     ]
    },
    {
     "name": "stdout",
     "output_type": "stream",
     "text": [
      "  Train Loss: 0.2743 | Train Acc: 0.9081\n",
      "  Val Loss:   1.7377 | Val Acc:   0.2157\n",
      "  Epoch Duration: 1.11 seconds\n",
      "\n",
      "--- Fold 3, Epoch 10/100 ---\n"
     ]
    },
    {
     "name": "stderr",
     "output_type": "stream",
     "text": [
      "Training: 100%|██████████| 9/9 [00:00<00:00, 13.79it/s]\n"
     ]
    },
    {
     "name": "stdout",
     "output_type": "stream",
     "text": [
      "Epoch Loss: 0.3027, Accuracy: 0.9081\n"
     ]
    },
    {
     "name": "stderr",
     "output_type": "stream",
     "text": [
      "Validating: 100%|██████████| 2/2 [00:00<00:00,  5.57it/s]\n"
     ]
    },
    {
     "name": "stdout",
     "output_type": "stream",
     "text": [
      "  Train Loss: 0.3027 | Train Acc: 0.9081\n",
      "  Val Loss:   1.8285 | Val Acc:   0.1961\n",
      "  Epoch Duration: 1.02 seconds\n",
      "\n",
      "--- Fold 3, Epoch 11/100 ---\n"
     ]
    },
    {
     "name": "stderr",
     "output_type": "stream",
     "text": [
      "Training: 100%|██████████| 9/9 [00:00<00:00, 11.92it/s]\n"
     ]
    },
    {
     "name": "stdout",
     "output_type": "stream",
     "text": [
      "Epoch Loss: 0.2523, Accuracy: 0.9258\n"
     ]
    },
    {
     "name": "stderr",
     "output_type": "stream",
     "text": [
      "Validating: 100%|██████████| 2/2 [00:00<00:00,  5.33it/s]\n"
     ]
    },
    {
     "name": "stdout",
     "output_type": "stream",
     "text": [
      "  Train Loss: 0.2523 | Train Acc: 0.9258\n",
      "  Val Loss:   1.6914 | Val Acc:   0.1569\n",
      "  Epoch Duration: 1.14 seconds\n",
      "\n",
      "--- Fold 3, Epoch 12/100 ---\n"
     ]
    },
    {
     "name": "stderr",
     "output_type": "stream",
     "text": [
      "Training: 100%|██████████| 9/9 [00:00<00:00, 12.70it/s]\n"
     ]
    },
    {
     "name": "stdout",
     "output_type": "stream",
     "text": [
      "Epoch Loss: 0.0778, Accuracy: 0.9859\n"
     ]
    },
    {
     "name": "stderr",
     "output_type": "stream",
     "text": [
      "Validating: 100%|██████████| 2/2 [00:00<00:00,  5.30it/s]\n"
     ]
    },
    {
     "name": "stdout",
     "output_type": "stream",
     "text": [
      "  Train Loss: 0.0778 | Train Acc: 0.9859\n",
      "  Val Loss:   2.0981 | Val Acc:   0.2157\n",
      "  Epoch Duration: 1.09 seconds\n",
      "\n",
      "--- Fold 3, Epoch 13/100 ---\n"
     ]
    },
    {
     "name": "stderr",
     "output_type": "stream",
     "text": [
      "Training: 100%|██████████| 9/9 [00:00<00:00, 12.69it/s]\n"
     ]
    },
    {
     "name": "stdout",
     "output_type": "stream",
     "text": [
      "Epoch Loss: 0.0195, Accuracy: 1.0000\n"
     ]
    },
    {
     "name": "stderr",
     "output_type": "stream",
     "text": [
      "Validating: 100%|██████████| 2/2 [00:00<00:00,  5.50it/s]\n"
     ]
    },
    {
     "name": "stdout",
     "output_type": "stream",
     "text": [
      "  Train Loss: 0.0195 | Train Acc: 1.0000\n",
      "  Val Loss:   4.3163 | Val Acc:   0.2745\n",
      "  Epoch Duration: 1.08 seconds\n",
      "\n",
      "--- Fold 3, Epoch 14/100 ---\n"
     ]
    },
    {
     "name": "stderr",
     "output_type": "stream",
     "text": [
      "Training: 100%|██████████| 9/9 [00:00<00:00, 13.10it/s]\n"
     ]
    },
    {
     "name": "stdout",
     "output_type": "stream",
     "text": [
      "Epoch Loss: 0.0035, Accuracy: 1.0000\n"
     ]
    },
    {
     "name": "stderr",
     "output_type": "stream",
     "text": [
      "Validating: 100%|██████████| 2/2 [00:00<00:00,  5.23it/s]\n"
     ]
    },
    {
     "name": "stdout",
     "output_type": "stream",
     "text": [
      "  Train Loss: 0.0035 | Train Acc: 1.0000\n",
      "  Val Loss:   8.0182 | Val Acc:   0.1961\n",
      "  Epoch Duration: 1.08 seconds\n",
      "\n",
      "--- Fold 3, Epoch 15/100 ---\n"
     ]
    },
    {
     "name": "stderr",
     "output_type": "stream",
     "text": [
      "Training: 100%|██████████| 9/9 [00:00<00:00, 12.14it/s]\n"
     ]
    },
    {
     "name": "stdout",
     "output_type": "stream",
     "text": [
      "Epoch Loss: 0.0011, Accuracy: 1.0000\n"
     ]
    },
    {
     "name": "stderr",
     "output_type": "stream",
     "text": [
      "Validating: 100%|██████████| 2/2 [00:00<00:00,  4.28it/s]\n"
     ]
    },
    {
     "name": "stdout",
     "output_type": "stream",
     "text": [
      "  Train Loss: 0.0011 | Train Acc: 1.0000\n",
      "  Val Loss:   9.2998 | Val Acc:   0.1961\n",
      "  Epoch Duration: 1.22 seconds\n",
      "  Early stopping at epoch 15.\n",
      "\n",
      "--- Fold 3 Final Evaluation ---\n",
      "Loading best model for fold 3 (achieved 0.3529 on inner val set).\n"
     ]
    },
    {
     "name": "stderr",
     "output_type": "stream",
     "text": [
      "Validating: 100%|██████████| 6/6 [00:00<00:00,  9.09it/s]"
     ]
    },
    {
     "name": "stdout",
     "output_type": "stream",
     "text": [
      "Performance of best model on the OUTER TEST SET for fold 3: 0.1867\n",
      "\n",
      "============================== FINAL UNBIASED PERFORMANCE SUMMARY ==============================\n",
      "Unbiased test accuracies from each fold: ['0.2515', '0.2156', '0.1867']\n",
      "Average Test Accuracy from CV: 0.2179\n",
      "Standard Deviation of Test Accuracy from CV: 0.0265\n",
      "-> Estimated Generalization Performance: 0.2179 ± 0.0265\n",
      "\n",
      "Cross-validation finished.\n",
      "To view TensorBoard logs, run the following command in your terminal:\n",
      "tensorboard --logdir runs/O3_5-SCAR-TRANSFER_RADIO_2\n"
     ]
    },
    {
     "name": "stderr",
     "output_type": "stream",
     "text": [
      "\n"
     ]
    }
   ],
   "source": [
    "from sklearn.model_selection import train_test_split\n",
    "VAL_SPLIT_SIZE = 0.15\n",
    "\n",
    "MODEL_FOLDER_NAME = \"O3_5-SCAR-TRANSFER_RADIO_2\"\n",
    "\n",
    "# ==============================================================================\n",
    "# 2. DATASET & FOLD SETUP\n",
    "# ==============================================================================\n",
    "print(f\"Total data for cross-validation: {len(full_dataset)} samples.\")\n",
    "\n",
    "kfold = KFold(n_splits=N_SPLITS, shuffle=True, random_state=42)\n",
    "fold_test_results = []\n",
    "\n",
    "# ==============================================================================\n",
    "# 3. CROSS-VALIDATION LOOP\n",
    "# ==============================================================================\n",
    "for fold, (train_outer_idx, test_outer_idx) in enumerate(kfold.split(np.zeros(len(full_dataset)))):\n",
    "    print(f\"\\n{'='*30} OUTER FOLD {fold+1}/{N_SPLITS} {'='*30}\")\n",
    "\n",
    "    SAVED_MODELS_PATH = f\"./saved_models/{MODEL_FOLDER_NAME}/\"\n",
    "\n",
    "    if not os.path.exists(SAVED_MODELS_PATH):\n",
    "        os.makedirs(SAVED_MODELS_PATH)\n",
    "    writer = SummaryWriter(log_dir=f'runs/{MODEL_FOLDER_NAME}/fold_{fold+1}')\n",
    "\n",
    "    inner_train_idx, inner_val_idx = train_test_split(\n",
    "        train_outer_idx,\n",
    "        test_size=VAL_SPLIT_SIZE,\n",
    "        shuffle=True, # Shuffle before splitting\n",
    "        random_state=42\n",
    "    )\n",
    "\n",
    "    inner_train_subset = Subset(full_dataset, inner_train_idx)\n",
    "    inner_val_subset = Subset(full_dataset, inner_val_idx)\n",
    "    outer_test_subset = Subset(full_dataset, test_outer_idx)\n",
    "\n",
    "    train_loader = DataLoader(inner_train_subset, batch_size=BATCH_SIZE, shuffle=True, num_workers=4, pin_memory=True)\n",
    "    val_loader = DataLoader(inner_val_subset, batch_size=BATCH_SIZE, shuffle=False, num_workers=4, pin_memory=True)\n",
    "    test_loader = DataLoader(outer_test_subset, batch_size=BATCH_SIZE, shuffle=False, num_workers=4, pin_memory=True)\n",
    "\n",
    "    model = OddOneOutSCAR().to(DEVICE)\n",
    "\n",
    "    load_partial_state_dict(\n",
    "        model,\n",
    "        \"../RADIO/saved_models/RADIO2_SCAR/deployable_model.pth\",\n",
    "    )\n",
    "\n",
    "    optimizer = torch.optim.Adam(\n",
    "        model.parameters(),\n",
    "        lr=LEARNING_RATE,\n",
    "        betas=(BETA_1, BETA_2),\n",
    "        eps=EPSILON\n",
    "    )\n",
    "    criterion = nn.CrossEntropyLoss()\n",
    "    scheduler = torch.optim.lr_scheduler.ReduceLROnPlateau(\n",
    "        optimizer,\n",
    "        mode='min',\n",
    "        factor=0.1,\n",
    "        patience=5,\n",
    "    )\n",
    "    scaler = None\n",
    "\n",
    "\n",
    "    total_params = sum(p.numel() for p in model.parameters() if p.requires_grad)\n",
    "    print(f\"Fold {fold+1} Model has {total_params:,} trainable parameters.\")\n",
    "    print(f\"Fold {fold+1} Training on {len(inner_train_subset)}, Validating on {len(inner_val_subset)}, Testing on {len(outer_test_subset)}.\")\n",
    "\n",
    "    best_model_path = f\"{SAVED_MODELS_PATH}/best_model_fold_{fold+1}.pth\"\n",
    "    best_val_acc_fold = 0.0\n",
    "    epochs_without_improvement = 0\n",
    "\n",
    "    # --- Inner Training Loop for the Fold ---\n",
    "    for epoch in range(1, EPOCHS + 1):\n",
    "        epoch_start_time = time.time()\n",
    "        \n",
    "        print(f\"\\n--- Fold {fold+1}, Epoch {epoch}/{EPOCHS} ---\")\n",
    "        train_loss, train_acc = train_epoch(model, train_loader, optimizer, criterion, DEVICE, scaler=scaler, scheduler=scheduler)\n",
    "        val_loss, val_acc = validate(model, val_loader, criterion, DEVICE)\n",
    "\n",
    "        scheduler.step(val_loss)  # Adjust learning rate based on validation loss\n",
    "\n",
    "        epoch_duration = time.time() - epoch_start_time\n",
    "\n",
    "        print(f\"  Train Loss: {train_loss:.4f} | Train Acc: {train_acc:.4f}\")\n",
    "        print(f\"  Val Loss:   {val_loss:.4f} | Val Acc:   {val_acc:.4f}\")\n",
    "        print(f\"  Epoch Duration: {epoch_duration:.2f} seconds\")\n",
    "        \n",
    "        writer.add_scalar('Loss/train', train_loss, epoch)\n",
    "        writer.add_scalar('Accuracy/train', train_acc, epoch)\n",
    "        writer.add_scalar('Loss/val', val_loss, epoch)\n",
    "        writer.add_scalar('Accuracy/val', val_acc, epoch)\n",
    "        writer.add_scalar('Performance/seconds_per_epoch', epoch_duration, epoch)\n",
    "        writer.add_scalar('Learning_Rate', optimizer.param_groups[0]['lr'], epoch)\n",
    "\n",
    "        if val_acc > best_val_acc_fold:\n",
    "            best_val_acc_fold = val_acc\n",
    "            epochs_without_improvement = 0\n",
    "            torch.save(model.state_dict(), best_model_path)\n",
    "            print(f\"  -> New best inner validation accuracy: {best_val_acc_fold:.4f}. Model state saved.\")\n",
    "        else:\n",
    "            epochs_without_improvement += 1\n",
    "            if epochs_without_improvement >= PATIENCE:\n",
    "                print(f\"  Early stopping at epoch {epoch}.\")\n",
    "                break\n",
    "    \n",
    "    print(f\"\\n--- Fold {fold+1} Final Evaluation ---\")\n",
    "    print(f\"Loading best model for fold {fold+1} (achieved {best_val_acc_fold:.4f} on inner val set).\")\n",
    "    # Load the best model weights identified during the inner loop\n",
    "    model.load_state_dict(torch.load(best_model_path))\n",
    "    \n",
    "    # Evaluate this best model on the completely unseen outer test set\n",
    "    _, final_fold_test_acc = validate(model, test_loader, criterion, DEVICE)\n",
    "    print(f\"Performance of best model on the OUTER TEST SET for fold {fold+1}: {final_fold_test_acc:.4f}\")\n",
    "\n",
    "    fold_test_results.append(final_fold_test_acc)\n",
    "    writer.add_scalar('Accuracy/test', final_fold_test_acc)\n",
    "\n",
    "    hparams = { 'learning_rate': LEARNING_RATE, 'batch_size': BATCH_SIZE }\n",
    "    final_metrics = {\n",
    "        'hparam/test_accuracy': final_fold_test_acc,\n",
    "        'hparam/best_inner_val_accuracy': best_val_acc_fold\n",
    "    }\n",
    "    writer.add_hparams(hparams, final_metrics)\n",
    "    writer.close()\n",
    "\n",
    "# ==============================================================================\n",
    "# 4. AGGREGATE AND REPORT CV RESULTS\n",
    "# ==============================================================================\n",
    "mean_test_acc = np.mean(fold_test_results)\n",
    "std_test_acc = np.std(fold_test_results)\n",
    "\n",
    "print(f\"\\n{'='*30} FINAL UNBIASED PERFORMANCE SUMMARY {'='*30}\")\n",
    "print(f\"Unbiased test accuracies from each fold: {[f'{acc:.4f}' for acc in fold_test_results]}\")\n",
    "print(f\"Average Test Accuracy from CV: {mean_test_acc:.4f}\")\n",
    "print(f\"Standard Deviation of Test Accuracy from CV: {std_test_acc:.4f}\")\n",
    "print(f\"-> Estimated Generalization Performance: {mean_test_acc:.4f} \\u00B1 {std_test_acc:.4f}\")\n",
    "\n",
    "print(\"\\nCross-validation finished.\")\n",
    "print(\"To view TensorBoard logs, run the following command in your terminal:\")\n",
    "print(f\"tensorboard --logdir runs/{MODEL_FOLDER_NAME}\")"
   ]
  }
 ],
 "metadata": {
  "kernelspec": {
   "display_name": "DGL_ENV",
   "language": "python",
   "name": "dgl_env"
  },
  "language_info": {
   "codemirror_mode": {
    "name": "ipython",
    "version": 3
   },
   "file_extension": ".py",
   "mimetype": "text/x-python",
   "name": "python",
   "nbconvert_exporter": "python",
   "pygments_lexer": "ipython3",
   "version": "3.12.3"
  }
 },
 "nbformat": 4,
 "nbformat_minor": 5
}
