{
 "cells": [
  {
   "cell_type": "code",
   "execution_count": 1,
   "id": "39d28230",
   "metadata": {},
   "outputs": [],
   "source": [
    "%load_ext autoreload\n",
    "%autoreload 2"
   ]
  },
  {
   "cell_type": "code",
   "execution_count": 2,
   "id": "fcd03f95",
   "metadata": {},
   "outputs": [],
   "source": [
    "from radio_data_utility import RadioV1Dataset as dataset\n",
    "import argparse\n",
    "import os\n",
    "import json\n",
    "import pickle\n",
    "\n",
    "from torchvision import transforms\n",
    "\n",
    "import torch\n",
    "import numpy as np\n",
    "\n",
    "from torch.utils.data import DataLoader\n",
    "import torch.nn as nn\n",
    "\n",
    "import time\n",
    "import random"
   ]
  },
  {
   "cell_type": "code",
   "execution_count": 3,
   "id": "383ffc8d",
   "metadata": {},
   "outputs": [],
   "source": [
    "with open('./generated_radio_datasets_split/raven_organsmnist_v1_train.pkl', 'rb') as f:\n",
    "    raven_dataset_v1_organ_train = pickle.load(f)\n",
    "\n",
    "with open('./generated_radio_datasets_split/raven_organsmnist_v1_val.pkl', 'rb') as f:\n",
    "    raven_dataset_v1_organ_val = pickle.load(f)\n",
    "\n",
    "with open('./generated_radio_datasets_split/raven_organsmnist_v1_test.pkl', 'rb') as f:\n",
    "    raven_dataset_v1_organ_test = pickle.load(f)"
   ]
  },
  {
   "cell_type": "code",
   "execution_count": 4,
   "id": "5b88a7d0",
   "metadata": {},
   "outputs": [],
   "source": [
    "from wren import WReN, train_epoch, validate, count_parameters"
   ]
  },
  {
   "cell_type": "code",
   "execution_count": 5,
   "id": "2c730771",
   "metadata": {},
   "outputs": [],
   "source": [
    "RANDOM_SEED = 42\n",
    "\n",
    "# Set seeds for reproducibility\n",
    "torch.manual_seed(RANDOM_SEED)\n",
    "np.random.seed(RANDOM_SEED)\n",
    "if torch.cuda.is_available():\n",
    "    torch.cuda.manual_seed_all(RANDOM_SEED)\n",
    "\n",
    "IMG_SIZE = 80"
   ]
  },
  {
   "cell_type": "code",
   "execution_count": 6,
   "id": "59912112",
   "metadata": {},
   "outputs": [],
   "source": [
    "# --- Define Image Transformations ---\n",
    "train_transform = transforms.Compose([\n",
    "    transforms.ToPILImage(),\n",
    "    transforms.Resize(IMG_SIZE),  # Resize to the specified size\n",
    "    transforms.ToTensor(),\n",
    "])\n",
    "\n",
    "eval_transform = transforms.Compose([\n",
    "    transforms.ToPILImage(),\n",
    "    transforms.Resize(IMG_SIZE),\n",
    "    transforms.ToTensor(),\n",
    "])"
   ]
  },
  {
   "cell_type": "code",
   "execution_count": 7,
   "id": "c07f3477",
   "metadata": {},
   "outputs": [
    {
     "name": "stdout",
     "output_type": "stream",
     "text": [
      "Total samples in training set: 4400\n",
      "Total samples in validation set: 550\n",
      "Total samples in test set: 550\n"
     ]
    }
   ],
   "source": [
    "print(\"Total samples in training set:\", len(raven_dataset_v1_organ_train))\n",
    "print(\"Total samples in validation set:\", len(raven_dataset_v1_organ_val))\n",
    "print(\"Total samples in test set:\", len(raven_dataset_v1_organ_test))"
   ]
  },
  {
   "cell_type": "code",
   "execution_count": 8,
   "id": "a63551a1",
   "metadata": {},
   "outputs": [],
   "source": [
    "train_dataset = dataset(\n",
    "    raven_dataset_v1_organ_train, # Use the split training data\n",
    "    mode=\"train\",\n",
    "    transform_train=train_transform,\n",
    "    transform_eval=eval_transform, # transform_eval is not used by train mode but good to pass\n",
    ")\n",
    "\n",
    "val_dataset = dataset(\n",
    "    raven_dataset_v1_organ_val, # Use the split validation data\n",
    "    mode=\"val\",    # Set mode to \"val\" or \"test\"\n",
    "    transform_train=train_transform, # Not used by val mode\n",
    "    transform_eval=eval_transform,\n",
    ")\n",
    "\n",
    "test_dataset = dataset(\n",
    "    raven_dataset_v1_organ_test, # Use the split test data\n",
    "    mode=\"val\",    # Set mode to \"val\" or \"test\"\n",
    "    transform_train=train_transform, # Not used by test mode\n",
    "    transform_eval=eval_transform,\n",
    ")"
   ]
  },
  {
   "cell_type": "code",
   "execution_count": 9,
   "id": "cd02e6d3",
   "metadata": {},
   "outputs": [],
   "source": [
    "import torch\n",
    "import torch.nn as nn\n",
    "import numpy as np\n",
    "import time\n",
    "import json\n",
    "from sklearn.model_selection import StratifiedKFold, train_test_split\n",
    "# ==============================================================================\n",
    "# 1. SETUP - Constants and Parameters\n",
    "# ==============================================================================\n",
    "N_SPLITS = 3 # Number of folds for cross-validation\n",
    "PATIENCE = 10 # Early stopping patience\n",
    "VAL_SPLIT_SIZE = 0.20\n",
    "DEVICE = torch.device(\"cuda\" if torch.cuda.is_available() else \"cpu\")\n",
    "BATCH_SIZE = 128\n",
    "EPOCHS = 100\n",
    "LEARNING_RATE = 1e-4\n",
    "BETA_1 = 0.9\n",
    "BETA_2 = 0.999\n",
    "EPSILON = 1e-8\n",
    "META_BETA = 0"
   ]
  },
  {
   "cell_type": "code",
   "execution_count": 10,
   "id": "fefff0ff",
   "metadata": {},
   "outputs": [
    {
     "name": "stdout",
     "output_type": "stream",
     "text": [
      "Total data for Development (Train+Val): 4950 samples.\n",
      "Test Set size: 550 samples. (Will not be used until the very end)\n"
     ]
    }
   ],
   "source": [
    "from torch.utils.data import TensorDataset, ConcatDataset, Subset, DataLoader\n",
    "\n",
    "dev_dataset = ConcatDataset([train_dataset, val_dataset])\n",
    "dev_dataset_labels = np.concatenate([train_dataset.labels, val_dataset.labels])\n",
    "\n",
    "print(f\"Total data for Development (Train+Val): {len(dev_dataset)} samples.\")\n",
    "print(f\"Test Set size: {len(test_dataset)} samples. (Will not be used until the very end)\")"
   ]
  },
  {
   "cell_type": "markdown",
   "id": "57259b3f",
   "metadata": {},
   "source": [
    "# RADIO-1 STL"
   ]
  },
  {
   "cell_type": "code",
   "execution_count": 11,
   "id": "b42b5b52",
   "metadata": {},
   "outputs": [],
   "source": [
    "model_folder_name = \"RADIO1_WReN\"\n",
    "from tensorboardX import SummaryWriter\n",
    "import time"
   ]
  },
  {
   "cell_type": "code",
   "execution_count": null,
   "id": "f0177fd9",
   "metadata": {},
   "outputs": [
    {
     "name": "stdout",
     "output_type": "stream",
     "text": [
      "\n",
      "========================= PERFORMING NESTED CROSS-VALIDATION =========================\n",
      "\n",
      "--- Outer Fold 1/3 ---\n",
      "Training on 2640, Validating on 660...\n"
     ]
    },
    {
     "name": "stderr",
     "output_type": "stream",
     "text": [
      "Training: 100%|██████████| 21/21 [00:03<00:00,  6.32it/s]\n",
      "Validating: 100%|██████████| 6/6 [00:00<00:00,  8.25it/s]\n"
     ]
    },
    {
     "name": "stdout",
     "output_type": "stream",
     "text": [
      "  New best model for fold 1 at epoch 1: Val Acc: 0.1409\n"
     ]
    },
    {
     "name": "stderr",
     "output_type": "stream",
     "text": [
      "Training: 100%|██████████| 21/21 [00:02<00:00,  8.34it/s]\n",
      "Validating: 100%|██████████| 6/6 [00:00<00:00,  8.06it/s]\n",
      "Training: 100%|██████████| 21/21 [00:02<00:00,  8.33it/s]\n",
      "Validating: 100%|██████████| 6/6 [00:00<00:00,  8.05it/s]\n"
     ]
    },
    {
     "name": "stdout",
     "output_type": "stream",
     "text": [
      "  New best model for fold 1 at epoch 3: Val Acc: 0.1439\n"
     ]
    },
    {
     "name": "stderr",
     "output_type": "stream",
     "text": [
      "Training: 100%|██████████| 21/21 [00:02<00:00,  8.33it/s]\n",
      "Validating: 100%|██████████| 6/6 [00:00<00:00,  8.14it/s]\n"
     ]
    },
    {
     "name": "stdout",
     "output_type": "stream",
     "text": [
      "  New best model for fold 1 at epoch 4: Val Acc: 0.2015\n"
     ]
    },
    {
     "name": "stderr",
     "output_type": "stream",
     "text": [
      "Training: 100%|██████████| 21/21 [00:02<00:00,  8.53it/s]\n",
      "Validating: 100%|██████████| 6/6 [00:00<00:00,  8.14it/s]\n"
     ]
    },
    {
     "name": "stdout",
     "output_type": "stream",
     "text": [
      "  New best model for fold 1 at epoch 5: Val Acc: 0.2212\n"
     ]
    },
    {
     "name": "stderr",
     "output_type": "stream",
     "text": [
      "Training: 100%|██████████| 21/21 [00:02<00:00,  8.38it/s]\n",
      "Validating: 100%|██████████| 6/6 [00:00<00:00,  8.20it/s]\n",
      "Training: 100%|██████████| 21/21 [00:02<00:00,  8.42it/s]\n",
      "Validating: 100%|██████████| 6/6 [00:00<00:00,  7.86it/s]\n"
     ]
    },
    {
     "name": "stdout",
     "output_type": "stream",
     "text": [
      "  New best model for fold 1 at epoch 7: Val Acc: 0.2273\n"
     ]
    },
    {
     "name": "stderr",
     "output_type": "stream",
     "text": [
      "Training: 100%|██████████| 21/21 [00:02<00:00,  8.19it/s]\n",
      "Validating: 100%|██████████| 6/6 [00:00<00:00,  8.18it/s]\n"
     ]
    },
    {
     "name": "stdout",
     "output_type": "stream",
     "text": [
      "  New best model for fold 1 at epoch 8: Val Acc: 0.2348\n"
     ]
    },
    {
     "name": "stderr",
     "output_type": "stream",
     "text": [
      "Training: 100%|██████████| 21/21 [00:02<00:00,  8.50it/s]\n",
      "Validating: 100%|██████████| 6/6 [00:00<00:00,  7.77it/s]\n",
      "Training: 100%|██████████| 21/21 [00:02<00:00,  8.30it/s]\n",
      "Validating: 100%|██████████| 6/6 [00:00<00:00,  8.06it/s]\n"
     ]
    },
    {
     "name": "stdout",
     "output_type": "stream",
     "text": [
      "  New best model for fold 1 at epoch 10: Val Acc: 0.2409\n"
     ]
    },
    {
     "name": "stderr",
     "output_type": "stream",
     "text": [
      "Training: 100%|██████████| 21/21 [00:02<00:00,  8.35it/s]\n",
      "Validating: 100%|██████████| 6/6 [00:00<00:00,  8.08it/s]\n"
     ]
    },
    {
     "name": "stdout",
     "output_type": "stream",
     "text": [
      "  New best model for fold 1 at epoch 11: Val Acc: 0.2621\n"
     ]
    },
    {
     "name": "stderr",
     "output_type": "stream",
     "text": [
      "Training: 100%|██████████| 21/21 [00:02<00:00,  8.32it/s]\n",
      "Validating: 100%|██████████| 6/6 [00:00<00:00,  8.02it/s]\n",
      "Training: 100%|██████████| 21/21 [00:02<00:00,  8.35it/s]\n",
      "Validating: 100%|██████████| 6/6 [00:00<00:00,  8.36it/s]\n"
     ]
    },
    {
     "name": "stdout",
     "output_type": "stream",
     "text": [
      "  New best model for fold 1 at epoch 13: Val Acc: 0.2803\n"
     ]
    },
    {
     "name": "stderr",
     "output_type": "stream",
     "text": [
      "Training: 100%|██████████| 21/21 [00:02<00:00,  8.29it/s]\n",
      "Validating: 100%|██████████| 6/6 [00:00<00:00,  8.05it/s]\n"
     ]
    },
    {
     "name": "stdout",
     "output_type": "stream",
     "text": [
      "  New best model for fold 1 at epoch 14: Val Acc: 0.2864\n"
     ]
    },
    {
     "name": "stderr",
     "output_type": "stream",
     "text": [
      "Training: 100%|██████████| 21/21 [00:02<00:00,  8.23it/s]\n",
      "Validating: 100%|██████████| 6/6 [00:00<00:00,  7.96it/s]\n",
      "Training: 100%|██████████| 21/21 [00:02<00:00,  8.22it/s]\n",
      "Validating: 100%|██████████| 6/6 [00:00<00:00,  8.08it/s]\n",
      "Training: 100%|██████████| 21/21 [00:02<00:00,  8.08it/s]\n",
      "Validating: 100%|██████████| 6/6 [00:00<00:00,  8.29it/s]\n"
     ]
    },
    {
     "name": "stdout",
     "output_type": "stream",
     "text": [
      "  New best model for fold 1 at epoch 17: Val Acc: 0.2879\n"
     ]
    },
    {
     "name": "stderr",
     "output_type": "stream",
     "text": [
      "Training: 100%|██████████| 21/21 [00:02<00:00,  8.44it/s]\n",
      "Validating: 100%|██████████| 6/6 [00:00<00:00,  8.11it/s]\n",
      "Training: 100%|██████████| 21/21 [00:02<00:00,  8.30it/s]\n",
      "Validating: 100%|██████████| 6/6 [00:00<00:00,  7.97it/s]\n",
      "Training: 100%|██████████| 21/21 [00:02<00:00,  8.25it/s]\n",
      "Validating: 100%|██████████| 6/6 [00:00<00:00,  7.87it/s]\n",
      "Training: 100%|██████████| 21/21 [00:02<00:00,  8.44it/s]\n",
      "Validating: 100%|██████████| 6/6 [00:00<00:00,  8.31it/s]\n",
      "Training: 100%|██████████| 21/21 [00:02<00:00,  8.01it/s]\n",
      "Validating: 100%|██████████| 6/6 [00:00<00:00,  8.26it/s]\n",
      "Training: 100%|██████████| 21/21 [00:02<00:00,  8.38it/s]\n",
      "Validating: 100%|██████████| 6/6 [00:00<00:00,  7.99it/s]\n",
      "Training: 100%|██████████| 21/21 [00:02<00:00,  8.15it/s]\n",
      "Validating: 100%|██████████| 6/6 [00:00<00:00,  8.20it/s]\n"
     ]
    },
    {
     "name": "stdout",
     "output_type": "stream",
     "text": [
      "  New best model for fold 1 at epoch 24: Val Acc: 0.2970\n"
     ]
    },
    {
     "name": "stderr",
     "output_type": "stream",
     "text": [
      "Training: 100%|██████████| 21/21 [00:02<00:00,  8.23it/s]\n",
      "Validating: 100%|██████████| 6/6 [00:00<00:00,  8.13it/s]\n",
      "Training: 100%|██████████| 21/21 [00:02<00:00,  8.26it/s]\n",
      "Validating: 100%|██████████| 6/6 [00:00<00:00,  7.97it/s]\n",
      "Training: 100%|██████████| 21/21 [00:02<00:00,  8.17it/s]\n",
      "Validating: 100%|██████████| 6/6 [00:00<00:00,  7.64it/s]\n",
      "Training: 100%|██████████| 21/21 [00:02<00:00,  8.16it/s]\n",
      "Validating: 100%|██████████| 6/6 [00:00<00:00,  8.03it/s]\n",
      "Training: 100%|██████████| 21/21 [00:02<00:00,  8.29it/s]\n",
      "Validating: 100%|██████████| 6/6 [00:00<00:00,  8.01it/s]\n",
      "Training: 100%|██████████| 21/21 [00:02<00:00,  8.22it/s]\n",
      "Validating: 100%|██████████| 6/6 [00:00<00:00,  7.90it/s]\n",
      "Training: 100%|██████████| 21/21 [00:02<00:00,  8.33it/s]\n",
      "Validating: 100%|██████████| 6/6 [00:00<00:00,  7.98it/s]\n",
      "Training: 100%|██████████| 21/21 [00:02<00:00,  8.29it/s]\n",
      "Validating: 100%|██████████| 6/6 [00:00<00:00,  7.76it/s]\n",
      "Training: 100%|██████████| 21/21 [00:02<00:00,  8.31it/s]\n",
      "Validating: 100%|██████████| 6/6 [00:00<00:00,  8.00it/s]\n",
      "Training: 100%|██████████| 21/21 [00:02<00:00,  8.25it/s]\n",
      "Validating: 100%|██████████| 6/6 [00:00<00:00,  8.09it/s]\n"
     ]
    },
    {
     "name": "stdout",
     "output_type": "stream",
     "text": [
      "  Early stopping at epoch 34.\n",
      "Loading best model for fold 1 (achieved 0.2970 on inner val set).\n"
     ]
    },
    {
     "name": "stderr",
     "output_type": "stream",
     "text": [
      "Validating: 100%|██████████| 13/13 [00:01<00:00, 10.76it/s]\n"
     ]
    },
    {
     "name": "stdout",
     "output_type": "stream",
     "text": [
      "Performance on Outer Test Set for fold 1: 0.2430\n",
      "\n",
      "--- Outer Fold 2/3 ---\n",
      "Training on 2640, Validating on 660...\n"
     ]
    },
    {
     "name": "stderr",
     "output_type": "stream",
     "text": [
      "Training: 100%|██████████| 21/21 [00:02<00:00,  8.24it/s]\n",
      "Validating: 100%|██████████| 6/6 [00:00<00:00,  8.11it/s]\n"
     ]
    },
    {
     "name": "stdout",
     "output_type": "stream",
     "text": [
      "  New best model for fold 2 at epoch 1: Val Acc: 0.1076\n"
     ]
    },
    {
     "name": "stderr",
     "output_type": "stream",
     "text": [
      "Training: 100%|██████████| 21/21 [00:02<00:00,  8.28it/s]\n",
      "Validating: 100%|██████████| 6/6 [00:00<00:00,  8.05it/s]\n"
     ]
    },
    {
     "name": "stdout",
     "output_type": "stream",
     "text": [
      "  New best model for fold 2 at epoch 2: Val Acc: 0.1348\n"
     ]
    },
    {
     "name": "stderr",
     "output_type": "stream",
     "text": [
      "Training: 100%|██████████| 21/21 [00:02<00:00,  8.40it/s]\n",
      "Validating: 100%|██████████| 6/6 [00:00<00:00,  8.04it/s]\n"
     ]
    },
    {
     "name": "stdout",
     "output_type": "stream",
     "text": [
      "  New best model for fold 2 at epoch 3: Val Acc: 0.1439\n"
     ]
    },
    {
     "name": "stderr",
     "output_type": "stream",
     "text": [
      "Training: 100%|██████████| 21/21 [00:02<00:00,  8.33it/s]\n",
      "Validating: 100%|██████████| 6/6 [00:00<00:00,  8.00it/s]\n"
     ]
    },
    {
     "name": "stdout",
     "output_type": "stream",
     "text": [
      "  New best model for fold 2 at epoch 4: Val Acc: 0.1576\n"
     ]
    },
    {
     "name": "stderr",
     "output_type": "stream",
     "text": [
      "Training: 100%|██████████| 21/21 [00:02<00:00,  8.06it/s]\n",
      "Validating: 100%|██████████| 6/6 [00:00<00:00,  8.06it/s]\n"
     ]
    },
    {
     "name": "stdout",
     "output_type": "stream",
     "text": [
      "  New best model for fold 2 at epoch 5: Val Acc: 0.1955\n"
     ]
    },
    {
     "name": "stderr",
     "output_type": "stream",
     "text": [
      "Training: 100%|██████████| 21/21 [00:02<00:00,  8.44it/s]\n",
      "Validating: 100%|██████████| 6/6 [00:00<00:00,  8.14it/s]\n",
      "Training: 100%|██████████| 21/21 [00:02<00:00,  8.34it/s]\n",
      "Validating: 100%|██████████| 6/6 [00:00<00:00,  8.31it/s]\n",
      "Training: 100%|██████████| 21/21 [00:02<00:00,  8.28it/s]\n",
      "Validating: 100%|██████████| 6/6 [00:00<00:00,  8.03it/s]\n",
      "Training: 100%|██████████| 21/21 [00:02<00:00,  8.38it/s]\n",
      "Validating: 100%|██████████| 6/6 [00:00<00:00,  8.48it/s]\n",
      "Training: 100%|██████████| 21/21 [00:02<00:00,  8.21it/s]\n",
      "Validating: 100%|██████████| 6/6 [00:00<00:00,  7.94it/s]\n",
      "Training: 100%|██████████| 21/21 [00:02<00:00,  8.28it/s]\n",
      "Validating: 100%|██████████| 6/6 [00:00<00:00,  8.02it/s]\n"
     ]
    },
    {
     "name": "stdout",
     "output_type": "stream",
     "text": [
      "  New best model for fold 2 at epoch 11: Val Acc: 0.2030\n"
     ]
    },
    {
     "name": "stderr",
     "output_type": "stream",
     "text": [
      "Training: 100%|██████████| 21/21 [00:02<00:00,  8.44it/s]\n",
      "Validating: 100%|██████████| 6/6 [00:00<00:00,  7.72it/s]\n"
     ]
    },
    {
     "name": "stdout",
     "output_type": "stream",
     "text": [
      "  New best model for fold 2 at epoch 12: Val Acc: 0.2121\n"
     ]
    },
    {
     "name": "stderr",
     "output_type": "stream",
     "text": [
      "Training: 100%|██████████| 21/21 [00:02<00:00,  8.25it/s]\n",
      "Validating: 100%|██████████| 6/6 [00:00<00:00,  8.07it/s]\n",
      "Training: 100%|██████████| 21/21 [00:02<00:00,  8.01it/s]\n",
      "Validating: 100%|██████████| 6/6 [00:00<00:00,  7.77it/s]\n"
     ]
    },
    {
     "name": "stdout",
     "output_type": "stream",
     "text": [
      "  New best model for fold 2 at epoch 14: Val Acc: 0.2515\n"
     ]
    },
    {
     "name": "stderr",
     "output_type": "stream",
     "text": [
      "Training: 100%|██████████| 21/21 [00:02<00:00,  8.22it/s]\n",
      "Validating: 100%|██████████| 6/6 [00:00<00:00,  7.61it/s]\n"
     ]
    },
    {
     "name": "stdout",
     "output_type": "stream",
     "text": [
      "  New best model for fold 2 at epoch 15: Val Acc: 0.2561\n"
     ]
    },
    {
     "name": "stderr",
     "output_type": "stream",
     "text": [
      "Training: 100%|██████████| 21/21 [00:02<00:00,  8.23it/s]\n",
      "Validating: 100%|██████████| 6/6 [00:00<00:00,  8.00it/s]\n",
      "Training: 100%|██████████| 21/21 [00:02<00:00,  8.23it/s]\n",
      "Validating: 100%|██████████| 6/6 [00:00<00:00,  7.99it/s]\n",
      "Training: 100%|██████████| 21/21 [00:02<00:00,  8.22it/s]\n",
      "Validating: 100%|██████████| 6/6 [00:00<00:00,  8.04it/s]\n",
      "Training: 100%|██████████| 21/21 [00:02<00:00,  8.13it/s]\n",
      "Validating: 100%|██████████| 6/6 [00:00<00:00,  8.05it/s]\n",
      "Training: 100%|██████████| 21/21 [00:02<00:00,  8.34it/s]\n",
      "Validating: 100%|██████████| 6/6 [00:00<00:00,  8.16it/s]\n",
      "Training: 100%|██████████| 21/21 [00:02<00:00,  8.13it/s]\n",
      "Validating: 100%|██████████| 6/6 [00:00<00:00,  8.03it/s]\n",
      "Training: 100%|██████████| 21/21 [00:02<00:00,  8.13it/s]\n",
      "Validating: 100%|██████████| 6/6 [00:00<00:00,  8.18it/s]\n",
      "Training: 100%|██████████| 21/21 [00:02<00:00,  8.14it/s]\n",
      "Validating: 100%|██████████| 6/6 [00:00<00:00,  7.90it/s]\n"
     ]
    },
    {
     "name": "stdout",
     "output_type": "stream",
     "text": [
      "  New best model for fold 2 at epoch 23: Val Acc: 0.2636\n"
     ]
    },
    {
     "name": "stderr",
     "output_type": "stream",
     "text": [
      "Training: 100%|██████████| 21/21 [00:02<00:00,  8.24it/s]\n",
      "Validating: 100%|██████████| 6/6 [00:00<00:00,  8.21it/s]\n",
      "Training: 100%|██████████| 21/21 [00:02<00:00,  8.48it/s]\n",
      "Validating: 100%|██████████| 6/6 [00:00<00:00,  8.07it/s]\n",
      "Training: 100%|██████████| 21/21 [00:02<00:00,  8.26it/s]\n",
      "Validating: 100%|██████████| 6/6 [00:00<00:00,  8.27it/s]\n"
     ]
    },
    {
     "name": "stdout",
     "output_type": "stream",
     "text": [
      "  New best model for fold 2 at epoch 26: Val Acc: 0.2667\n"
     ]
    },
    {
     "name": "stderr",
     "output_type": "stream",
     "text": [
      "Training: 100%|██████████| 21/21 [00:02<00:00,  8.21it/s]\n",
      "Validating: 100%|██████████| 6/6 [00:00<00:00,  7.98it/s]\n",
      "Training: 100%|██████████| 21/21 [00:02<00:00,  8.45it/s]\n",
      "Validating: 100%|██████████| 6/6 [00:00<00:00,  7.95it/s]\n",
      "Training: 100%|██████████| 21/21 [00:02<00:00,  8.19it/s]\n",
      "Validating: 100%|██████████| 6/6 [00:00<00:00,  7.97it/s]\n",
      "Training: 100%|██████████| 21/21 [00:02<00:00,  8.27it/s]\n",
      "Validating: 100%|██████████| 6/6 [00:00<00:00,  7.98it/s]\n",
      "Training: 100%|██████████| 21/21 [00:02<00:00,  8.11it/s]\n",
      "Validating: 100%|██████████| 6/6 [00:00<00:00,  8.05it/s]\n",
      "Training: 100%|██████████| 21/21 [00:02<00:00,  8.11it/s]\n",
      "Validating: 100%|██████████| 6/6 [00:00<00:00,  8.14it/s]\n",
      "Training: 100%|██████████| 21/21 [00:02<00:00,  8.31it/s]\n",
      "Validating: 100%|██████████| 6/6 [00:00<00:00,  7.88it/s]\n",
      "Training: 100%|██████████| 21/21 [00:02<00:00,  7.91it/s]\n",
      "Validating: 100%|██████████| 6/6 [00:00<00:00,  7.77it/s]\n",
      "Training: 100%|██████████| 21/21 [00:02<00:00,  8.30it/s]\n",
      "Validating: 100%|██████████| 6/6 [00:00<00:00,  8.05it/s]\n",
      "Training: 100%|██████████| 21/21 [00:02<00:00,  7.99it/s]\n",
      "Validating: 100%|██████████| 6/6 [00:00<00:00,  8.00it/s]\n"
     ]
    },
    {
     "name": "stdout",
     "output_type": "stream",
     "text": [
      "  Early stopping at epoch 36.\n",
      "Loading best model for fold 2 (achieved 0.2667 on inner val set).\n"
     ]
    },
    {
     "name": "stderr",
     "output_type": "stream",
     "text": [
      "Validating: 100%|██████████| 13/13 [00:01<00:00, 10.67it/s]\n"
     ]
    },
    {
     "name": "stdout",
     "output_type": "stream",
     "text": [
      "Performance on Outer Test Set for fold 2: 0.2752\n",
      "\n",
      "--- Outer Fold 3/3 ---\n",
      "Training on 2640, Validating on 660...\n"
     ]
    },
    {
     "name": "stderr",
     "output_type": "stream",
     "text": [
      "Training: 100%|██████████| 21/21 [00:02<00:00,  8.21it/s]\n",
      "Validating: 100%|██████████| 6/6 [00:00<00:00,  7.38it/s]\n"
     ]
    },
    {
     "name": "stdout",
     "output_type": "stream",
     "text": [
      "  New best model for fold 3 at epoch 1: Val Acc: 0.1318\n"
     ]
    },
    {
     "name": "stderr",
     "output_type": "stream",
     "text": [
      "Training: 100%|██████████| 21/21 [00:02<00:00,  8.24it/s]\n",
      "Validating: 100%|██████████| 6/6 [00:00<00:00,  8.05it/s]\n"
     ]
    },
    {
     "name": "stdout",
     "output_type": "stream",
     "text": [
      "  New best model for fold 3 at epoch 2: Val Acc: 0.1591\n"
     ]
    },
    {
     "name": "stderr",
     "output_type": "stream",
     "text": [
      "Training: 100%|██████████| 21/21 [00:02<00:00,  8.11it/s]\n",
      "Validating: 100%|██████████| 6/6 [00:00<00:00,  8.02it/s]\n"
     ]
    },
    {
     "name": "stdout",
     "output_type": "stream",
     "text": [
      "  New best model for fold 3 at epoch 3: Val Acc: 0.1894\n"
     ]
    },
    {
     "name": "stderr",
     "output_type": "stream",
     "text": [
      "Training: 100%|██████████| 21/21 [00:02<00:00,  8.20it/s]\n",
      "Validating: 100%|██████████| 6/6 [00:00<00:00,  7.99it/s]\n"
     ]
    },
    {
     "name": "stdout",
     "output_type": "stream",
     "text": [
      "  New best model for fold 3 at epoch 4: Val Acc: 0.1985\n"
     ]
    },
    {
     "name": "stderr",
     "output_type": "stream",
     "text": [
      "Training: 100%|██████████| 21/21 [00:02<00:00,  8.09it/s]\n",
      "Validating: 100%|██████████| 6/6 [00:00<00:00,  7.77it/s]\n"
     ]
    },
    {
     "name": "stdout",
     "output_type": "stream",
     "text": [
      "  New best model for fold 3 at epoch 5: Val Acc: 0.2121\n"
     ]
    },
    {
     "name": "stderr",
     "output_type": "stream",
     "text": [
      "Training: 100%|██████████| 21/21 [00:02<00:00,  8.03it/s]\n",
      "Validating: 100%|██████████| 6/6 [00:00<00:00,  7.59it/s]\n"
     ]
    },
    {
     "name": "stdout",
     "output_type": "stream",
     "text": [
      "  New best model for fold 3 at epoch 6: Val Acc: 0.2258\n"
     ]
    },
    {
     "name": "stderr",
     "output_type": "stream",
     "text": [
      "Training: 100%|██████████| 21/21 [00:02<00:00,  8.38it/s]\n",
      "Validating: 100%|██████████| 6/6 [00:00<00:00,  7.95it/s]\n"
     ]
    },
    {
     "name": "stdout",
     "output_type": "stream",
     "text": [
      "  New best model for fold 3 at epoch 7: Val Acc: 0.2333\n"
     ]
    },
    {
     "name": "stderr",
     "output_type": "stream",
     "text": [
      "Training: 100%|██████████| 21/21 [00:02<00:00,  8.32it/s]\n",
      "Validating: 100%|██████████| 6/6 [00:00<00:00,  8.04it/s]\n",
      "Training: 100%|██████████| 21/21 [00:02<00:00,  8.19it/s]\n",
      "Validating: 100%|██████████| 6/6 [00:00<00:00,  7.97it/s]\n",
      "Training: 100%|██████████| 21/21 [00:02<00:00,  8.27it/s]\n",
      "Validating: 100%|██████████| 6/6 [00:00<00:00,  8.02it/s]\n",
      "Training: 100%|██████████| 21/21 [00:02<00:00,  8.15it/s]\n",
      "Validating: 100%|██████████| 6/6 [00:00<00:00,  7.94it/s]\n",
      "Training: 100%|██████████| 21/21 [00:02<00:00,  8.23it/s]\n",
      "Validating: 100%|██████████| 6/6 [00:00<00:00,  8.05it/s]\n"
     ]
    },
    {
     "name": "stdout",
     "output_type": "stream",
     "text": [
      "  New best model for fold 3 at epoch 12: Val Acc: 0.2424\n"
     ]
    },
    {
     "name": "stderr",
     "output_type": "stream",
     "text": [
      "Training: 100%|██████████| 21/21 [00:02<00:00,  8.27it/s]\n",
      "Validating: 100%|██████████| 6/6 [00:00<00:00,  7.91it/s]\n",
      "Training: 100%|██████████| 21/21 [00:02<00:00,  8.17it/s]\n",
      "Validating: 100%|██████████| 6/6 [00:00<00:00,  7.81it/s]\n",
      "Training: 100%|██████████| 21/21 [00:02<00:00,  8.08it/s]\n",
      "Validating: 100%|██████████| 6/6 [00:00<00:00,  7.93it/s]\n"
     ]
    },
    {
     "name": "stdout",
     "output_type": "stream",
     "text": [
      "  New best model for fold 3 at epoch 15: Val Acc: 0.2530\n"
     ]
    },
    {
     "name": "stderr",
     "output_type": "stream",
     "text": [
      "Training: 100%|██████████| 21/21 [00:02<00:00,  8.25it/s]\n",
      "Validating: 100%|██████████| 6/6 [00:00<00:00,  8.00it/s]\n",
      "Training: 100%|██████████| 21/21 [00:02<00:00,  8.34it/s]\n",
      "Validating: 100%|██████████| 6/6 [00:00<00:00,  8.15it/s]\n",
      "Training: 100%|██████████| 21/21 [00:02<00:00,  8.37it/s]\n",
      "Validating: 100%|██████████| 6/6 [00:00<00:00,  8.08it/s]\n",
      "Training: 100%|██████████| 21/21 [00:02<00:00,  8.28it/s]\n",
      "Validating: 100%|██████████| 6/6 [00:00<00:00,  8.18it/s]\n"
     ]
    },
    {
     "name": "stdout",
     "output_type": "stream",
     "text": [
      "  New best model for fold 3 at epoch 19: Val Acc: 0.2591\n"
     ]
    },
    {
     "name": "stderr",
     "output_type": "stream",
     "text": [
      "Training: 100%|██████████| 21/21 [00:02<00:00,  8.20it/s]\n",
      "Validating: 100%|██████████| 6/6 [00:00<00:00,  7.92it/s]\n"
     ]
    },
    {
     "name": "stdout",
     "output_type": "stream",
     "text": [
      "  New best model for fold 3 at epoch 20: Val Acc: 0.2682\n"
     ]
    },
    {
     "name": "stderr",
     "output_type": "stream",
     "text": [
      "Training: 100%|██████████| 21/21 [00:02<00:00,  8.26it/s]\n",
      "Validating: 100%|██████████| 6/6 [00:00<00:00,  7.79it/s]\n",
      "Training: 100%|██████████| 21/21 [00:02<00:00,  8.37it/s]\n",
      "Validating: 100%|██████████| 6/6 [00:00<00:00,  8.06it/s]\n",
      "Training: 100%|██████████| 21/21 [00:02<00:00,  8.05it/s]\n",
      "Validating: 100%|██████████| 6/6 [00:00<00:00,  8.10it/s]\n",
      "Training: 100%|██████████| 21/21 [00:02<00:00,  8.19it/s]\n",
      "Validating: 100%|██████████| 6/6 [00:00<00:00,  8.10it/s]\n",
      "Training: 100%|██████████| 21/21 [00:02<00:00,  8.42it/s]\n",
      "Validating: 100%|██████████| 6/6 [00:00<00:00,  8.14it/s]\n",
      "Training: 100%|██████████| 21/21 [00:02<00:00,  8.13it/s]\n",
      "Validating: 100%|██████████| 6/6 [00:00<00:00,  7.46it/s]\n",
      "Training: 100%|██████████| 21/21 [00:02<00:00,  8.35it/s]\n",
      "Validating: 100%|██████████| 6/6 [00:00<00:00,  7.94it/s]\n",
      "Training: 100%|██████████| 21/21 [00:02<00:00,  8.14it/s]\n",
      "Validating: 100%|██████████| 6/6 [00:00<00:00,  8.16it/s]\n",
      "Training: 100%|██████████| 21/21 [00:02<00:00,  8.28it/s]\n",
      "Validating: 100%|██████████| 6/6 [00:00<00:00,  8.13it/s]\n",
      "Training: 100%|██████████| 21/21 [00:02<00:00,  8.25it/s]\n",
      "Validating: 100%|██████████| 6/6 [00:00<00:00,  8.31it/s]\n"
     ]
    },
    {
     "name": "stdout",
     "output_type": "stream",
     "text": [
      "  Early stopping at epoch 30.\n",
      "Loading best model for fold 3 (achieved 0.2682 on inner val set).\n"
     ]
    },
    {
     "name": "stderr",
     "output_type": "stream",
     "text": [
      "Validating: 100%|██████████| 13/13 [00:01<00:00, 11.30it/s]"
     ]
    },
    {
     "name": "stdout",
     "output_type": "stream",
     "text": [
      "Performance on Outer Test Set for fold 3: 0.2576\n",
      "\n",
      "--- NESTED CROSS VALIDATION COMPLETE ---\n",
      "Cross-validation accuracies on outer folds: ['0.2430', '0.2752', '0.2576']\n",
      "Mean CV Accuracy: 0.2586 ± 0.0131\n"
     ]
    },
    {
     "name": "stderr",
     "output_type": "stream",
     "text": [
      "\n"
     ]
    }
   ],
   "source": [
    "from tensorboardX import SummaryWriter\n",
    "import time\n",
    "\n",
    "\n",
    "print(f\"\\n{'='*25} PERFORMING NESTED CROSS-VALIDATION {'='*25}\")\n",
    "\n",
    "outer_kfold = StratifiedKFold(n_splits=N_SPLITS, shuffle=True, random_state=RANDOM_SEED)\n",
    "fold_test_results = []\n",
    "\n",
    "for fold, (train_outer_idx, test_outer_idx) in enumerate(outer_kfold.split(np.zeros(len(dev_dataset)), dev_dataset_labels)):\n",
    "    print(f\"\\n--- Outer Fold {fold+1}/{N_SPLITS} ---\")\n",
    "    writer = SummaryWriter(log_dir=f'runs/{model_folder_name}/fold_{fold+1}')\n",
    "\n",
    "    # Create inner train/val split from the outer training set\n",
    "    train_outer_labels = dev_dataset_labels[train_outer_idx]\n",
    "    train_inner_idx, val_inner_idx = train_test_split(\n",
    "        train_outer_idx, test_size=VAL_SPLIT_SIZE, shuffle=True, stratify=train_outer_labels, random_state=RANDOM_SEED\n",
    "    )\n",
    "\n",
    "    # Create subsets from the DEVELOPMENT dataset\n",
    "    train_inner_subset = Subset(dev_dataset, train_inner_idx)\n",
    "    val_inner_subset = Subset(dev_dataset, val_inner_idx)\n",
    "    test_outer_subset = Subset(dev_dataset, test_outer_idx) # This is the \"test set\" for this fold\n",
    "\n",
    "    train_loader = DataLoader(train_inner_subset, batch_size=BATCH_SIZE, shuffle=True, num_workers=6, pin_memory=True)\n",
    "    val_loader = DataLoader(val_inner_subset, batch_size=BATCH_SIZE, shuffle=False, num_workers=6, pin_memory=True)\n",
    "    test_loader = DataLoader(test_outer_subset, batch_size=BATCH_SIZE, shuffle=False, num_workers=6, pin_memory=True)\n",
    "\n",
    "    model = WReN().to(DEVICE)\n",
    "    optimizer = torch.optim.Adam(model.parameters(),\n",
    "                                 lr=LEARNING_RATE,\n",
    "                                 betas=(BETA_1, BETA_2),\n",
    "                                 eps=EPSILON)\n",
    "\n",
    "    criterion = nn.CrossEntropyLoss()\n",
    "    scheduler = None\n",
    "    scaler = None\n",
    "\n",
    "    best_model_path = f\"./saved_models/{model_folder_name}/best_model_fold_{fold+1}.pth\"\n",
    "    os.makedirs(f\"./saved_models/{model_folder_name}\", exist_ok=True)\n",
    "    best_val_acc_fold = 0.0\n",
    "    epochs_without_improvement = 0\n",
    "\n",
    "    print(f\"Training on {len(train_inner_subset)}, Validating on {len(val_inner_subset)}...\")\n",
    "    for epoch in range(1, EPOCHS + 1):\n",
    "        train_start_time = time.time()\n",
    "        train_loss, train_acc = train_epoch(model, train_loader, optimizer, criterion, DEVICE)\n",
    "        train_end_time = time.time()\n",
    "        train_time = train_end_time - train_start_time\n",
    "\n",
    "        val_loss, val_acc = validate(model, val_loader, criterion, DEVICE)\n",
    "\n",
    "        writer.add_scalar('CV/Loss/train', train_loss, epoch)\n",
    "        writer.add_scalar('CV/Accuracy/train', train_acc, epoch)\n",
    "        writer.add_scalar('CV/Loss/val', val_loss, epoch)\n",
    "        writer.add_scalar('CV/Accuracy/val', val_acc, epoch)\n",
    "        writer.add_scalar('CV/Time/train', train_time, epoch)\n",
    "\n",
    "        memory_allocated = torch.cuda.memory_allocated(DEVICE) if torch.cuda.is_available() else 0\n",
    "        memory_reserved = torch.cuda.memory_reserved(DEVICE) if torch.cuda.is_available() else 0\n",
    "\n",
    "        writer.add_scalar('CV/Memory/allocated', memory_allocated, epoch)\n",
    "        writer.add_scalar('CV/Memory/reserved', memory_reserved, epoch)\n",
    "\n",
    "        if val_acc > best_val_acc_fold:\n",
    "            best_val_acc_fold = val_acc\n",
    "            epochs_without_improvement = 0\n",
    "            torch.save(model.state_dict(), best_model_path)\n",
    "            print(f\"  New best model for fold {fold+1} at epoch {epoch}: Val Acc: {val_acc:.4f}\")\n",
    "        else:\n",
    "            epochs_without_improvement += 1\n",
    "            if epochs_without_improvement >= PATIENCE:\n",
    "                print(f\"  Early stopping at epoch {epoch}.\")\n",
    "                break\n",
    "    \n",
    "    # Evaluate the best model for this fold on the outer test set\n",
    "    print(f\"Loading best model for fold {fold+1} (achieved {best_val_acc_fold:.4f} on inner val set).\")\n",
    "    model.load_state_dict(torch.load(best_model_path))\n",
    "    _, final_fold_test_acc = validate(model, test_loader, criterion, DEVICE)\n",
    "    print(f\"Performance on Outer Test Set for fold {fold+1}: {final_fold_test_acc:.4f}\")\n",
    "    fold_test_results.append(final_fold_test_acc)\n",
    "    writer.add_scalar('CV/Accuracy/test', final_fold_test_acc, epoch)\n",
    "    writer.close()\n",
    "\n",
    "mean_cv_acc = np.mean(fold_test_results)\n",
    "std_cv_acc = np.std(fold_test_results)\n",
    "print(f\"\\n--- NESTED CROSS VALIDATION COMPLETE ---\")\n",
    "print(f\"Cross-validation accuracies on outer folds: {[f'{acc:.4f}' for acc in fold_test_results]}\")\n",
    "print(f\"Mean CV Accuracy: {mean_cv_acc:.4f} ± {std_cv_acc:.4f}\")"
   ]
  },
  {
   "cell_type": "code",
   "execution_count": null,
   "id": "1924894f",
   "metadata": {},
   "outputs": [
    {
     "name": "stdout",
     "output_type": "stream",
     "text": [
      "\n",
      "========================= TRAINING FINAL DEPLOYABLE MODEL =========================\n",
      "Final training on 4455 samples, validating on 495 for early stopping.\n"
     ]
    },
    {
     "name": "stderr",
     "output_type": "stream",
     "text": [
      "Training: 100%|██████████| 35/35 [00:03<00:00,  8.84it/s]\n",
      "Validating: 100%|██████████| 4/4 [00:00<00:00,  5.66it/s]\n"
     ]
    },
    {
     "name": "stdout",
     "output_type": "stream",
     "text": [
      "Epoch 1: Train Acc: 0.1264 | Val Acc: 0.1354\n",
      "  New best model saved with val acc: 0.1354\n"
     ]
    },
    {
     "name": "stderr",
     "output_type": "stream",
     "text": [
      "Training: 100%|██████████| 35/35 [00:03<00:00,  8.92it/s]\n",
      "Validating: 100%|██████████| 4/4 [00:00<00:00,  6.15it/s]\n"
     ]
    },
    {
     "name": "stdout",
     "output_type": "stream",
     "text": [
      "Epoch 2: Train Acc: 0.1282 | Val Acc: 0.1859\n",
      "  New best model saved with val acc: 0.1859\n"
     ]
    },
    {
     "name": "stderr",
     "output_type": "stream",
     "text": [
      "Training: 100%|██████████| 35/35 [00:03<00:00,  9.11it/s]\n",
      "Validating: 100%|██████████| 4/4 [00:00<00:00,  6.02it/s]\n"
     ]
    },
    {
     "name": "stdout",
     "output_type": "stream",
     "text": [
      "Epoch 3: Train Acc: 0.1558 | Val Acc: 0.2000\n",
      "  New best model saved with val acc: 0.2000\n"
     ]
    },
    {
     "name": "stderr",
     "output_type": "stream",
     "text": [
      "Training: 100%|██████████| 35/35 [00:03<00:00,  9.14it/s]\n",
      "Validating: 100%|██████████| 4/4 [00:00<00:00,  6.00it/s]\n"
     ]
    },
    {
     "name": "stdout",
     "output_type": "stream",
     "text": [
      "Epoch 4: Train Acc: 0.1850 | Val Acc: 0.2242\n",
      "  New best model saved with val acc: 0.2242\n"
     ]
    },
    {
     "name": "stderr",
     "output_type": "stream",
     "text": [
      "Training: 100%|██████████| 35/35 [00:03<00:00,  9.10it/s]\n",
      "Validating: 100%|██████████| 4/4 [00:00<00:00,  5.98it/s]\n"
     ]
    },
    {
     "name": "stdout",
     "output_type": "stream",
     "text": [
      "Epoch 5: Train Acc: 0.1964 | Val Acc: 0.2283\n",
      "  New best model saved with val acc: 0.2283\n"
     ]
    },
    {
     "name": "stderr",
     "output_type": "stream",
     "text": [
      "Training: 100%|██████████| 35/35 [00:03<00:00,  9.19it/s]\n",
      "Validating: 100%|██████████| 4/4 [00:00<00:00,  5.97it/s]\n"
     ]
    },
    {
     "name": "stdout",
     "output_type": "stream",
     "text": [
      "Epoch 6: Train Acc: 0.2063 | Val Acc: 0.2343\n",
      "  New best model saved with val acc: 0.2343\n"
     ]
    },
    {
     "name": "stderr",
     "output_type": "stream",
     "text": [
      "Training: 100%|██████████| 35/35 [00:03<00:00,  9.15it/s]\n",
      "Validating: 100%|██████████| 4/4 [00:00<00:00,  5.53it/s]\n"
     ]
    },
    {
     "name": "stdout",
     "output_type": "stream",
     "text": [
      "Epoch 7: Train Acc: 0.2281 | Val Acc: 0.2808\n",
      "  New best model saved with val acc: 0.2808\n"
     ]
    },
    {
     "name": "stderr",
     "output_type": "stream",
     "text": [
      "Training: 100%|██████████| 35/35 [00:03<00:00,  9.02it/s]\n",
      "Validating: 100%|██████████| 4/4 [00:00<00:00,  5.92it/s]\n"
     ]
    },
    {
     "name": "stdout",
     "output_type": "stream",
     "text": [
      "Epoch 8: Train Acc: 0.2409 | Val Acc: 0.2727\n"
     ]
    },
    {
     "name": "stderr",
     "output_type": "stream",
     "text": [
      "Training: 100%|██████████| 35/35 [00:03<00:00,  9.09it/s]\n",
      "Validating: 100%|██████████| 4/4 [00:00<00:00,  5.68it/s]\n"
     ]
    },
    {
     "name": "stdout",
     "output_type": "stream",
     "text": [
      "Epoch 9: Train Acc: 0.2532 | Val Acc: 0.2505\n"
     ]
    },
    {
     "name": "stderr",
     "output_type": "stream",
     "text": [
      "Training: 100%|██████████| 35/35 [00:03<00:00,  9.01it/s]\n",
      "Validating: 100%|██████████| 4/4 [00:00<00:00,  6.00it/s]\n"
     ]
    },
    {
     "name": "stdout",
     "output_type": "stream",
     "text": [
      "Epoch 10: Train Acc: 0.2532 | Val Acc: 0.2566\n"
     ]
    },
    {
     "name": "stderr",
     "output_type": "stream",
     "text": [
      "Training: 100%|██████████| 35/35 [00:03<00:00,  9.11it/s]\n",
      "Validating: 100%|██████████| 4/4 [00:00<00:00,  5.86it/s]\n"
     ]
    },
    {
     "name": "stdout",
     "output_type": "stream",
     "text": [
      "Epoch 11: Train Acc: 0.2483 | Val Acc: 0.2747\n"
     ]
    },
    {
     "name": "stderr",
     "output_type": "stream",
     "text": [
      "Training: 100%|██████████| 35/35 [00:03<00:00,  9.02it/s]\n",
      "Validating: 100%|██████████| 4/4 [00:00<00:00,  5.95it/s]\n"
     ]
    },
    {
     "name": "stdout",
     "output_type": "stream",
     "text": [
      "Epoch 12: Train Acc: 0.2633 | Val Acc: 0.2586\n"
     ]
    },
    {
     "name": "stderr",
     "output_type": "stream",
     "text": [
      "Training: 100%|██████████| 35/35 [00:03<00:00,  9.16it/s]\n",
      "Validating: 100%|██████████| 4/4 [00:00<00:00,  5.74it/s]\n"
     ]
    },
    {
     "name": "stdout",
     "output_type": "stream",
     "text": [
      "Epoch 13: Train Acc: 0.2568 | Val Acc: 0.2444\n"
     ]
    },
    {
     "name": "stderr",
     "output_type": "stream",
     "text": [
      "Training: 100%|██████████| 35/35 [00:03<00:00,  9.25it/s]\n",
      "Validating: 100%|██████████| 4/4 [00:00<00:00,  5.93it/s]\n"
     ]
    },
    {
     "name": "stdout",
     "output_type": "stream",
     "text": [
      "Epoch 14: Train Acc: 0.2554 | Val Acc: 0.2667\n"
     ]
    },
    {
     "name": "stderr",
     "output_type": "stream",
     "text": [
      "Training: 100%|██████████| 35/35 [00:03<00:00,  9.13it/s]\n",
      "Validating: 100%|██████████| 4/4 [00:00<00:00,  5.59it/s]\n"
     ]
    },
    {
     "name": "stdout",
     "output_type": "stream",
     "text": [
      "Epoch 15: Train Acc: 0.2433 | Val Acc: 0.2545\n"
     ]
    },
    {
     "name": "stderr",
     "output_type": "stream",
     "text": [
      "Training: 100%|██████████| 35/35 [00:03<00:00,  9.12it/s]\n",
      "Validating: 100%|██████████| 4/4 [00:00<00:00,  6.01it/s]\n"
     ]
    },
    {
     "name": "stdout",
     "output_type": "stream",
     "text": [
      "Epoch 16: Train Acc: 0.2640 | Val Acc: 0.2606\n"
     ]
    },
    {
     "name": "stderr",
     "output_type": "stream",
     "text": [
      "Training: 100%|██████████| 35/35 [00:03<00:00,  9.14it/s]\n",
      "Validating: 100%|██████████| 4/4 [00:00<00:00,  5.82it/s]\n"
     ]
    },
    {
     "name": "stdout",
     "output_type": "stream",
     "text": [
      "Epoch 17: Train Acc: 0.2669 | Val Acc: 0.2869\n",
      "  New best model saved with val acc: 0.2869\n"
     ]
    },
    {
     "name": "stderr",
     "output_type": "stream",
     "text": [
      "Training: 100%|██████████| 35/35 [00:03<00:00,  9.02it/s]\n",
      "Validating: 100%|██████████| 4/4 [00:00<00:00,  5.71it/s]\n"
     ]
    },
    {
     "name": "stdout",
     "output_type": "stream",
     "text": [
      "Epoch 18: Train Acc: 0.2689 | Val Acc: 0.2323\n"
     ]
    },
    {
     "name": "stderr",
     "output_type": "stream",
     "text": [
      "Training: 100%|██████████| 35/35 [00:03<00:00,  9.04it/s]\n",
      "Validating: 100%|██████████| 4/4 [00:00<00:00,  6.06it/s]\n"
     ]
    },
    {
     "name": "stdout",
     "output_type": "stream",
     "text": [
      "Epoch 19: Train Acc: 0.2637 | Val Acc: 0.2525\n"
     ]
    },
    {
     "name": "stderr",
     "output_type": "stream",
     "text": [
      "Training: 100%|██████████| 35/35 [00:03<00:00,  9.20it/s]\n",
      "Validating: 100%|██████████| 4/4 [00:00<00:00,  5.44it/s]\n"
     ]
    },
    {
     "name": "stdout",
     "output_type": "stream",
     "text": [
      "Epoch 20: Train Acc: 0.2637 | Val Acc: 0.2505\n"
     ]
    },
    {
     "name": "stderr",
     "output_type": "stream",
     "text": [
      "Training: 100%|██████████| 35/35 [00:03<00:00,  8.81it/s]\n",
      "Validating: 100%|██████████| 4/4 [00:00<00:00,  5.86it/s]\n"
     ]
    },
    {
     "name": "stdout",
     "output_type": "stream",
     "text": [
      "Epoch 21: Train Acc: 0.2801 | Val Acc: 0.2667\n"
     ]
    },
    {
     "name": "stderr",
     "output_type": "stream",
     "text": [
      "Training: 100%|██████████| 35/35 [00:03<00:00,  9.06it/s]\n",
      "Validating: 100%|██████████| 4/4 [00:00<00:00,  6.12it/s]\n"
     ]
    },
    {
     "name": "stdout",
     "output_type": "stream",
     "text": [
      "Epoch 22: Train Acc: 0.2624 | Val Acc: 0.2626\n"
     ]
    },
    {
     "name": "stderr",
     "output_type": "stream",
     "text": [
      "Training: 100%|██████████| 35/35 [00:03<00:00,  9.18it/s]\n",
      "Validating: 100%|██████████| 4/4 [00:00<00:00,  5.90it/s]\n"
     ]
    },
    {
     "name": "stdout",
     "output_type": "stream",
     "text": [
      "Epoch 23: Train Acc: 0.2705 | Val Acc: 0.2444\n"
     ]
    },
    {
     "name": "stderr",
     "output_type": "stream",
     "text": [
      "Training: 100%|██████████| 35/35 [00:03<00:00,  9.06it/s]\n",
      "Validating: 100%|██████████| 4/4 [00:00<00:00,  5.99it/s]\n"
     ]
    },
    {
     "name": "stdout",
     "output_type": "stream",
     "text": [
      "Epoch 24: Train Acc: 0.2788 | Val Acc: 0.2485\n"
     ]
    },
    {
     "name": "stderr",
     "output_type": "stream",
     "text": [
      "Training: 100%|██████████| 35/35 [00:03<00:00,  9.05it/s]\n",
      "Validating: 100%|██████████| 4/4 [00:00<00:00,  5.56it/s]\n"
     ]
    },
    {
     "name": "stdout",
     "output_type": "stream",
     "text": [
      "Epoch 25: Train Acc: 0.2743 | Val Acc: 0.2747\n"
     ]
    },
    {
     "name": "stderr",
     "output_type": "stream",
     "text": [
      "Training: 100%|██████████| 35/35 [00:03<00:00,  9.08it/s]\n",
      "Validating: 100%|██████████| 4/4 [00:00<00:00,  5.95it/s]\n"
     ]
    },
    {
     "name": "stdout",
     "output_type": "stream",
     "text": [
      "Epoch 26: Train Acc: 0.2848 | Val Acc: 0.2687\n"
     ]
    },
    {
     "name": "stderr",
     "output_type": "stream",
     "text": [
      "Training: 100%|██████████| 35/35 [00:03<00:00,  9.22it/s]\n",
      "Validating: 100%|██████████| 4/4 [00:00<00:00,  5.82it/s]"
     ]
    },
    {
     "name": "stdout",
     "output_type": "stream",
     "text": [
      "Epoch 27: Train Acc: 0.2909 | Val Acc: 0.2525\n",
      "  Early stopping final training at epoch 27.\n",
      "\n",
      "--- FINAL DEPLOYABLE MODEL TRAINING COMPLETE ---\n",
      "Final deployable model saved to 'RADIO1_WReN/deployable_model.pth'\n"
     ]
    },
    {
     "name": "stderr",
     "output_type": "stream",
     "text": [
      "\n"
     ]
    }
   ],
   "source": [
    "print(f\"\\n{'='*25} TRAINING FINAL DEPLOYABLE MODEL {'='*25}\")\n",
    "\n",
    "# Create the one-time 90/10 split from the development pool\n",
    "final_train_indices, final_val_indices = train_test_split(\n",
    "    np.arange(len(dev_dataset)), test_size=0.1, shuffle=True, stratify=dev_dataset_labels, random_state=RANDOM_SEED\n",
    ")\n",
    "final_train_subset = Subset(dev_dataset, final_train_indices)\n",
    "final_val_subset = Subset(dev_dataset, final_val_indices)\n",
    "final_train_loader = DataLoader(final_train_subset, batch_size=BATCH_SIZE, shuffle=True, num_workers=6, pin_memory=True)\n",
    "final_val_loader = DataLoader(final_val_subset, batch_size=BATCH_SIZE, shuffle=False, num_workers=6, pin_memory=True)\n",
    "\n",
    "final_model = WReN().to(DEVICE)\n",
    "optimizer = torch.optim.Adam(final_model.parameters(),\n",
    "                                 lr=LEARNING_RATE,\n",
    "                                 betas=(BETA_1, BETA_2),\n",
    "                                 eps=EPSILON)\n",
    "\n",
    "criterion = nn.CrossEntropyLoss()\n",
    "scheduler = None\n",
    "scaler = None\n",
    "\n",
    "writer = SummaryWriter(log_dir=f'runs/{model_folder_name}/final_model_training')\n",
    "\n",
    "best_model_path = f\"./saved_models/{model_folder_name}/deployable_model.pth\"\n",
    "best_final_val_acc = 0.0\n",
    "epochs_without_improvement = 0\n",
    "\n",
    "print(f\"Final training on {len(final_train_subset)} samples, validating on {len(final_val_subset)} for early stopping.\")\n",
    "for epoch in range(1, EPOCHS + 1):\n",
    "    train_start_time = time.time()\n",
    "    train_loss, train_acc = train_epoch(final_model, final_train_loader, optimizer, criterion, DEVICE)\n",
    "    train_end_time = time.time()\n",
    "    train_time = train_end_time - train_start_time\n",
    "    \n",
    "    val_loss, val_acc = validate(final_model, final_val_loader, criterion, DEVICE)\n",
    "    print(f\"Epoch {epoch}: Train Acc: {train_acc:.4f} | Val Acc: {val_acc:.4f}\")\n",
    "    \n",
    "    writer.add_scalar('FinalTrain/Loss/train', train_loss, epoch)\n",
    "    writer.add_scalar('FinalTrain/Accuracy/train', train_acc, epoch)\n",
    "    writer.add_scalar('FinalTrain/Loss/val', val_loss, epoch)\n",
    "    writer.add_scalar('FinalTrain/Accuracy/val', val_acc, epoch)\n",
    "\n",
    "    writer.add_scalar('FinalTrain/Time/train', train_time, epoch)\n",
    "\n",
    "    memory_allocated = torch.cuda.memory_allocated(DEVICE) if torch.cuda.is_available() else 0\n",
    "    memory_reserved = torch.cuda.memory_reserved(DEVICE) if torch.cuda.is_available() else 0\n",
    "\n",
    "    writer.add_scalar('FinalTrain/Memory/allocated', memory_allocated, epoch)\n",
    "    writer.add_scalar('FinalTrain/Memory/reserved', memory_reserved, epoch)\n",
    "\n",
    "    if val_acc > best_final_val_acc:\n",
    "        best_final_val_acc = val_acc\n",
    "        epochs_without_improvement = 0\n",
    "        torch.save(final_model.state_dict(), best_model_path)\n",
    "        print(f\"  New best model saved with val acc: {best_final_val_acc:.4f}\")\n",
    "    else:\n",
    "        epochs_without_improvement += 1\n",
    "        if epochs_without_improvement >= PATIENCE:\n",
    "            print(f\"  Early stopping final training at epoch {epoch}.\")\n",
    "            break\n",
    "writer.close()\n",
    "print(f\"\\n--- FINAL DEPLOYABLE MODEL TRAINING COMPLETE ---\")\n",
    "print(f\"Final deployable model saved to '{best_model_path}'\")"
   ]
  },
  {
   "cell_type": "code",
   "execution_count": null,
   "id": "d0dad1f1",
   "metadata": {},
   "outputs": [
    {
     "name": "stdout",
     "output_type": "stream",
     "text": [
      "\n",
      "========================= FINAL TEST SET EVALUATION =========================\n"
     ]
    },
    {
     "name": "stderr",
     "output_type": "stream",
     "text": [
      "Validating: 100%|██████████| 5/5 [00:00<00:00,  6.79it/s]"
     ]
    },
    {
     "name": "stdout",
     "output_type": "stream",
     "text": [
      "\n",
      "--- FINAL TEST SET EVALUATION COMPLETE ---\n",
      "The final accuracy of the deployable model on the test set is: 0.2491\n"
     ]
    },
    {
     "name": "stderr",
     "output_type": "stream",
     "text": [
      "\n"
     ]
    }
   ],
   "source": [
    "print(f\"\\n{'='*25} FINAL TEST SET EVALUATION {'='*25}\")\n",
    "\n",
    "best_model_path = f\"./saved_models/{model_folder_name}/deployable_model.pth\"\n",
    "criterion = nn.CrossEntropyLoss()\n",
    "\n",
    "# Load the best model we just created\n",
    "deployable_model = WReN().to(DEVICE)\n",
    "deployable_model.load_state_dict(torch.load(best_model_path))\n",
    "\n",
    "# Create a dataloader for the untouched test set\n",
    "test_start_time = time.time()\n",
    "test_loader = DataLoader(test_dataset, batch_size=BATCH_SIZE, shuffle=False, num_workers=6, pin_memory=True)\n",
    "test_end_time = time.time()\n",
    "test_time = test_end_time - test_start_time\n",
    "\n",
    "# Evaluate ONCE\n",
    "_, final_benchmark_score = validate(deployable_model, test_loader, criterion, DEVICE)\n",
    "\n",
    "writer = SummaryWriter(log_dir=f'runs/{model_folder_name}/final_benchmark')\n",
    "# writer.add_hparams(\n",
    "#     {'model': 'Final Deployable', 'evaluation': 'Official Test Set'},\n",
    "#     {'hparam/final_accuracy': final_benchmark_score},\n",
    "#     {'hparam/final_test_time': test_time}\n",
    "# )\n",
    "\n",
    "writer.add_scalar('FinalBenchmark/Accuracy/test', final_benchmark_score, 0)\n",
    "writer.add_scalar('FinalBenchmark/Time/test', test_time, 0)\n",
    "\n",
    "\n",
    "writer.close()\n",
    "\n",
    "print(f\"\\n--- FINAL TEST SET EVALUATION COMPLETE ---\")\n",
    "print(f\"The final accuracy of the deployable model on the test set is: {final_benchmark_score:.4f}\")"
   ]
  },
  {
   "cell_type": "markdown",
   "id": "5a6134c0",
   "metadata": {},
   "source": [
    "# I-RAVEN to RADIO-1 TL"
   ]
  },
  {
   "cell_type": "code",
   "execution_count": 12,
   "id": "4b0ed617",
   "metadata": {},
   "outputs": [
    {
     "name": "stdout",
     "output_type": "stream",
     "text": [
      "\n",
      "========================= PERFORMING NESTED CROSS-VALIDATION TRANSFER =========================\n",
      "\n",
      "--- Outer Fold 1/3 ---\n",
      "Training on 2640, Validating on 660...\n",
      "\n",
      "Epoch 1/100 for Fold 1\n"
     ]
    },
    {
     "name": "stderr",
     "output_type": "stream",
     "text": [
      "Training: 100%|██████████| 21/21 [00:04<00:00,  5.14it/s]\n",
      "Validating: 100%|██████████| 6/6 [00:00<00:00,  6.44it/s]\n"
     ]
    },
    {
     "name": "stdout",
     "output_type": "stream",
     "text": [
      "  Train Loss: 2.0057, Train Acc: 0.2000, Val Loss: 1.8871, Val Acc: 0.2621, Time: 4.09s\n",
      "  New best model for fold 1 at epoch 1: Val Acc: 0.2621\n",
      "\n",
      "Epoch 2/100 for Fold 1\n"
     ]
    },
    {
     "name": "stderr",
     "output_type": "stream",
     "text": [
      "Training: 100%|██████████| 21/21 [00:02<00:00,  7.48it/s]\n",
      "Validating: 100%|██████████| 6/6 [00:00<00:00,  6.32it/s]\n"
     ]
    },
    {
     "name": "stdout",
     "output_type": "stream",
     "text": [
      "  Train Loss: 1.8016, Train Acc: 0.3038, Val Loss: 1.7480, Val Acc: 0.3167, Time: 2.81s\n",
      "  New best model for fold 1 at epoch 2: Val Acc: 0.3167\n",
      "\n",
      "Epoch 3/100 for Fold 1\n"
     ]
    },
    {
     "name": "stderr",
     "output_type": "stream",
     "text": [
      "Training: 100%|██████████| 21/21 [00:02<00:00,  7.47it/s]\n",
      "Validating: 100%|██████████| 6/6 [00:00<00:00,  6.35it/s]\n"
     ]
    },
    {
     "name": "stdout",
     "output_type": "stream",
     "text": [
      "  Train Loss: 1.6291, Train Acc: 0.3739, Val Loss: 1.6303, Val Acc: 0.3606, Time: 2.81s\n",
      "  New best model for fold 1 at epoch 3: Val Acc: 0.3606\n",
      "\n",
      "Epoch 4/100 for Fold 1\n"
     ]
    },
    {
     "name": "stderr",
     "output_type": "stream",
     "text": [
      "Training: 100%|██████████| 21/21 [00:02<00:00,  7.44it/s]\n",
      "Validating: 100%|██████████| 6/6 [00:00<00:00,  6.43it/s]\n"
     ]
    },
    {
     "name": "stdout",
     "output_type": "stream",
     "text": [
      "  Train Loss: 1.4008, Train Acc: 0.4557, Val Loss: 1.4893, Val Acc: 0.4227, Time: 2.82s\n",
      "  New best model for fold 1 at epoch 4: Val Acc: 0.4227\n",
      "\n",
      "Epoch 5/100 for Fold 1\n"
     ]
    },
    {
     "name": "stderr",
     "output_type": "stream",
     "text": [
      "Training: 100%|██████████| 21/21 [00:02<00:00,  7.66it/s]\n",
      "Validating: 100%|██████████| 6/6 [00:00<00:00,  6.33it/s]\n"
     ]
    },
    {
     "name": "stdout",
     "output_type": "stream",
     "text": [
      "  Train Loss: 1.1636, Train Acc: 0.5458, Val Loss: 1.4368, Val Acc: 0.4455, Time: 2.75s\n",
      "  New best model for fold 1 at epoch 5: Val Acc: 0.4455\n",
      "\n",
      "Epoch 6/100 for Fold 1\n"
     ]
    },
    {
     "name": "stderr",
     "output_type": "stream",
     "text": [
      "Training: 100%|██████████| 21/21 [00:02<00:00,  7.32it/s]\n",
      "Validating: 100%|██████████| 6/6 [00:00<00:00,  6.20it/s]\n"
     ]
    },
    {
     "name": "stdout",
     "output_type": "stream",
     "text": [
      "  Train Loss: 0.9460, Train Acc: 0.6477, Val Loss: 1.3987, Val Acc: 0.4682, Time: 2.87s\n",
      "  New best model for fold 1 at epoch 6: Val Acc: 0.4682\n",
      "\n",
      "Epoch 7/100 for Fold 1\n"
     ]
    },
    {
     "name": "stderr",
     "output_type": "stream",
     "text": [
      "Training: 100%|██████████| 21/21 [00:02<00:00,  7.49it/s]\n",
      "Validating: 100%|██████████| 6/6 [00:00<00:00,  6.32it/s]\n"
     ]
    },
    {
     "name": "stdout",
     "output_type": "stream",
     "text": [
      "  Train Loss: 0.7373, Train Acc: 0.7333, Val Loss: 1.4829, Val Acc: 0.4879, Time: 2.81s\n",
      "  New best model for fold 1 at epoch 7: Val Acc: 0.4879\n",
      "\n",
      "Epoch 8/100 for Fold 1\n"
     ]
    },
    {
     "name": "stderr",
     "output_type": "stream",
     "text": [
      "Training: 100%|██████████| 21/21 [00:02<00:00,  7.51it/s]\n",
      "Validating: 100%|██████████| 6/6 [00:00<00:00,  6.17it/s]\n"
     ]
    },
    {
     "name": "stdout",
     "output_type": "stream",
     "text": [
      "  Train Loss: 0.5574, Train Acc: 0.8030, Val Loss: 1.5445, Val Acc: 0.5167, Time: 2.80s\n",
      "  New best model for fold 1 at epoch 8: Val Acc: 0.5167\n",
      "\n",
      "Epoch 9/100 for Fold 1\n"
     ]
    },
    {
     "name": "stderr",
     "output_type": "stream",
     "text": [
      "Training: 100%|██████████| 21/21 [00:02<00:00,  7.51it/s]\n",
      "Validating: 100%|██████████| 6/6 [00:00<00:00,  6.31it/s]\n"
     ]
    },
    {
     "name": "stdout",
     "output_type": "stream",
     "text": [
      "  Train Loss: 0.3952, Train Acc: 0.8758, Val Loss: 1.6740, Val Acc: 0.5106, Time: 2.80s\n",
      "\n",
      "Epoch 10/100 for Fold 1\n"
     ]
    },
    {
     "name": "stderr",
     "output_type": "stream",
     "text": [
      "Training: 100%|██████████| 21/21 [00:02<00:00,  7.56it/s]\n",
      "Validating: 100%|██████████| 6/6 [00:00<00:00,  6.24it/s]\n"
     ]
    },
    {
     "name": "stdout",
     "output_type": "stream",
     "text": [
      "  Train Loss: 0.2611, Train Acc: 0.9182, Val Loss: 2.1265, Val Acc: 0.5242, Time: 2.78s\n",
      "  New best model for fold 1 at epoch 10: Val Acc: 0.5242\n",
      "\n",
      "Epoch 11/100 for Fold 1\n"
     ]
    },
    {
     "name": "stderr",
     "output_type": "stream",
     "text": [
      "Training: 100%|██████████| 21/21 [00:02<00:00,  7.51it/s]\n",
      "Validating: 100%|██████████| 6/6 [00:00<00:00,  6.20it/s]\n"
     ]
    },
    {
     "name": "stdout",
     "output_type": "stream",
     "text": [
      "  Train Loss: 0.1723, Train Acc: 0.9481, Val Loss: 2.1465, Val Acc: 0.4970, Time: 2.80s\n",
      "\n",
      "Epoch 12/100 for Fold 1\n"
     ]
    },
    {
     "name": "stderr",
     "output_type": "stream",
     "text": [
      "Training: 100%|██████████| 21/21 [00:02<00:00,  7.68it/s]\n",
      "Validating: 100%|██████████| 6/6 [00:00<00:00,  6.17it/s]\n"
     ]
    },
    {
     "name": "stdout",
     "output_type": "stream",
     "text": [
      "  Train Loss: 0.0982, Train Acc: 0.9716, Val Loss: 2.4568, Val Acc: 0.5091, Time: 2.74s\n",
      "\n",
      "Epoch 13/100 for Fold 1\n"
     ]
    },
    {
     "name": "stderr",
     "output_type": "stream",
     "text": [
      "Training: 100%|██████████| 21/21 [00:02<00:00,  7.45it/s]\n",
      "Validating: 100%|██████████| 6/6 [00:00<00:00,  6.24it/s]\n"
     ]
    },
    {
     "name": "stdout",
     "output_type": "stream",
     "text": [
      "  Train Loss: 0.0590, Train Acc: 0.9814, Val Loss: 2.7250, Val Acc: 0.5000, Time: 2.82s\n",
      "\n",
      "Epoch 14/100 for Fold 1\n"
     ]
    },
    {
     "name": "stderr",
     "output_type": "stream",
     "text": [
      "Training: 100%|██████████| 21/21 [00:02<00:00,  7.48it/s]\n",
      "Validating: 100%|██████████| 6/6 [00:00<00:00,  6.21it/s]\n"
     ]
    },
    {
     "name": "stdout",
     "output_type": "stream",
     "text": [
      "  Train Loss: 0.0347, Train Acc: 0.9913, Val Loss: 2.9906, Val Acc: 0.4985, Time: 2.81s\n",
      "\n",
      "Epoch 15/100 for Fold 1\n"
     ]
    },
    {
     "name": "stderr",
     "output_type": "stream",
     "text": [
      "Training: 100%|██████████| 21/21 [00:02<00:00,  7.76it/s]\n",
      "Validating: 100%|██████████| 6/6 [00:00<00:00,  6.33it/s]\n"
     ]
    },
    {
     "name": "stdout",
     "output_type": "stream",
     "text": [
      "  Train Loss: 0.0244, Train Acc: 0.9955, Val Loss: 3.3386, Val Acc: 0.5258, Time: 2.71s\n",
      "  New best model for fold 1 at epoch 15: Val Acc: 0.5258\n",
      "\n",
      "Epoch 16/100 for Fold 1\n"
     ]
    },
    {
     "name": "stderr",
     "output_type": "stream",
     "text": [
      "Training: 100%|██████████| 21/21 [00:02<00:00,  7.37it/s]\n",
      "Validating: 100%|██████████| 6/6 [00:00<00:00,  6.21it/s]\n"
     ]
    },
    {
     "name": "stdout",
     "output_type": "stream",
     "text": [
      "  Train Loss: 0.0169, Train Acc: 0.9966, Val Loss: 3.4233, Val Acc: 0.5106, Time: 2.85s\n",
      "\n",
      "Epoch 17/100 for Fold 1\n"
     ]
    },
    {
     "name": "stderr",
     "output_type": "stream",
     "text": [
      "Training: 100%|██████████| 21/21 [00:02<00:00,  7.45it/s]\n",
      "Validating: 100%|██████████| 6/6 [00:00<00:00,  6.20it/s]\n"
     ]
    },
    {
     "name": "stdout",
     "output_type": "stream",
     "text": [
      "  Train Loss: 0.0126, Train Acc: 0.9977, Val Loss: 3.5370, Val Acc: 0.5091, Time: 2.82s\n",
      "\n",
      "Epoch 18/100 for Fold 1\n"
     ]
    },
    {
     "name": "stderr",
     "output_type": "stream",
     "text": [
      "Training: 100%|██████████| 21/21 [00:02<00:00,  7.46it/s]\n",
      "Validating: 100%|██████████| 6/6 [00:00<00:00,  6.19it/s]\n"
     ]
    },
    {
     "name": "stdout",
     "output_type": "stream",
     "text": [
      "  Train Loss: 0.0109, Train Acc: 0.9989, Val Loss: 3.5870, Val Acc: 0.5197, Time: 2.82s\n",
      "\n",
      "Epoch 19/100 for Fold 1\n"
     ]
    },
    {
     "name": "stderr",
     "output_type": "stream",
     "text": [
      "Training: 100%|██████████| 21/21 [00:02<00:00,  7.43it/s]\n",
      "Validating: 100%|██████████| 6/6 [00:00<00:00,  6.34it/s]\n"
     ]
    },
    {
     "name": "stdout",
     "output_type": "stream",
     "text": [
      "  Train Loss: 0.0077, Train Acc: 0.9992, Val Loss: 3.5270, Val Acc: 0.5136, Time: 2.83s\n",
      "\n",
      "Epoch 20/100 for Fold 1\n"
     ]
    },
    {
     "name": "stderr",
     "output_type": "stream",
     "text": [
      "Training: 100%|██████████| 21/21 [00:02<00:00,  7.67it/s]\n",
      "Validating: 100%|██████████| 6/6 [00:00<00:00,  6.25it/s]\n"
     ]
    },
    {
     "name": "stdout",
     "output_type": "stream",
     "text": [
      "  Train Loss: 0.0150, Train Acc: 0.9955, Val Loss: 3.5623, Val Acc: 0.5091, Time: 2.74s\n",
      "\n",
      "Epoch 21/100 for Fold 1\n"
     ]
    },
    {
     "name": "stderr",
     "output_type": "stream",
     "text": [
      "Training: 100%|██████████| 21/21 [00:02<00:00,  7.32it/s]\n",
      "Validating: 100%|██████████| 6/6 [00:00<00:00,  6.39it/s]\n"
     ]
    },
    {
     "name": "stdout",
     "output_type": "stream",
     "text": [
      "  Train Loss: 0.0273, Train Acc: 0.9920, Val Loss: 3.4731, Val Acc: 0.4803, Time: 2.87s\n",
      "\n",
      "Epoch 22/100 for Fold 1\n"
     ]
    },
    {
     "name": "stderr",
     "output_type": "stream",
     "text": [
      "Training: 100%|██████████| 21/21 [00:02<00:00,  7.55it/s]\n",
      "Validating: 100%|██████████| 6/6 [00:00<00:00,  6.38it/s]\n"
     ]
    },
    {
     "name": "stdout",
     "output_type": "stream",
     "text": [
      "  Train Loss: 0.0561, Train Acc: 0.9777, Val Loss: 3.5919, Val Acc: 0.5258, Time: 2.78s\n",
      "\n",
      "Epoch 23/100 for Fold 1\n"
     ]
    },
    {
     "name": "stderr",
     "output_type": "stream",
     "text": [
      "Training: 100%|██████████| 21/21 [00:02<00:00,  7.57it/s]\n",
      "Validating: 100%|██████████| 6/6 [00:01<00:00,  5.79it/s]\n"
     ]
    },
    {
     "name": "stdout",
     "output_type": "stream",
     "text": [
      "  Train Loss: 0.0493, Train Acc: 0.9841, Val Loss: 3.2405, Val Acc: 0.4955, Time: 2.78s\n",
      "\n",
      "Epoch 24/100 for Fold 1\n"
     ]
    },
    {
     "name": "stderr",
     "output_type": "stream",
     "text": [
      "Training: 100%|██████████| 21/21 [00:02<00:00,  7.76it/s]\n",
      "Validating: 100%|██████████| 6/6 [00:00<00:00,  6.18it/s]\n"
     ]
    },
    {
     "name": "stdout",
     "output_type": "stream",
     "text": [
      "  Train Loss: 0.1065, Train Acc: 0.9640, Val Loss: 3.2780, Val Acc: 0.5076, Time: 2.71s\n",
      "\n",
      "Epoch 25/100 for Fold 1\n"
     ]
    },
    {
     "name": "stderr",
     "output_type": "stream",
     "text": [
      "Training: 100%|██████████| 21/21 [00:02<00:00,  7.43it/s]\n",
      "Validating: 100%|██████████| 6/6 [00:00<00:00,  6.22it/s]\n"
     ]
    },
    {
     "name": "stdout",
     "output_type": "stream",
     "text": [
      "  Train Loss: 0.0951, Train Acc: 0.9693, Val Loss: 2.9707, Val Acc: 0.5379, Time: 2.83s\n",
      "  New best model for fold 1 at epoch 25: Val Acc: 0.5379\n",
      "\n",
      "Epoch 26/100 for Fold 1\n"
     ]
    },
    {
     "name": "stderr",
     "output_type": "stream",
     "text": [
      "Training: 100%|██████████| 21/21 [00:02<00:00,  7.55it/s]\n",
      "Validating: 100%|██████████| 6/6 [00:00<00:00,  6.17it/s]\n"
     ]
    },
    {
     "name": "stdout",
     "output_type": "stream",
     "text": [
      "  Train Loss: 0.0303, Train Acc: 0.9932, Val Loss: 3.2376, Val Acc: 0.5273, Time: 2.79s\n",
      "\n",
      "Epoch 27/100 for Fold 1\n"
     ]
    },
    {
     "name": "stderr",
     "output_type": "stream",
     "text": [
      "Training: 100%|██████████| 21/21 [00:02<00:00,  7.48it/s]\n",
      "Validating: 100%|██████████| 6/6 [00:00<00:00,  6.16it/s]\n"
     ]
    },
    {
     "name": "stdout",
     "output_type": "stream",
     "text": [
      "  Train Loss: 0.0115, Train Acc: 0.9973, Val Loss: 3.4590, Val Acc: 0.5258, Time: 2.81s\n",
      "\n",
      "Epoch 28/100 for Fold 1\n"
     ]
    },
    {
     "name": "stderr",
     "output_type": "stream",
     "text": [
      "Training: 100%|██████████| 21/21 [00:02<00:00,  7.61it/s]\n",
      "Validating: 100%|██████████| 6/6 [00:00<00:00,  6.39it/s]\n"
     ]
    },
    {
     "name": "stdout",
     "output_type": "stream",
     "text": [
      "  Train Loss: 0.0054, Train Acc: 0.9989, Val Loss: 3.5232, Val Acc: 0.5227, Time: 2.76s\n",
      "\n",
      "Epoch 29/100 for Fold 1\n"
     ]
    },
    {
     "name": "stderr",
     "output_type": "stream",
     "text": [
      "Training: 100%|██████████| 21/21 [00:02<00:00,  7.57it/s]\n",
      "Validating: 100%|██████████| 6/6 [00:00<00:00,  6.01it/s]\n"
     ]
    },
    {
     "name": "stdout",
     "output_type": "stream",
     "text": [
      "  Train Loss: 0.0033, Train Acc: 1.0000, Val Loss: 3.5373, Val Acc: 0.5303, Time: 2.78s\n",
      "\n",
      "Epoch 30/100 for Fold 1\n"
     ]
    },
    {
     "name": "stderr",
     "output_type": "stream",
     "text": [
      "Training: 100%|██████████| 21/21 [00:02<00:00,  7.94it/s]\n",
      "Validating: 100%|██████████| 6/6 [00:00<00:00,  6.16it/s]\n"
     ]
    },
    {
     "name": "stdout",
     "output_type": "stream",
     "text": [
      "  Train Loss: 0.0022, Train Acc: 1.0000, Val Loss: 3.8479, Val Acc: 0.5318, Time: 2.65s\n",
      "\n",
      "Epoch 31/100 for Fold 1\n"
     ]
    },
    {
     "name": "stderr",
     "output_type": "stream",
     "text": [
      "Training: 100%|██████████| 21/21 [00:02<00:00,  7.53it/s]\n",
      "Validating: 100%|██████████| 6/6 [00:00<00:00,  6.23it/s]\n"
     ]
    },
    {
     "name": "stdout",
     "output_type": "stream",
     "text": [
      "  Train Loss: 0.0018, Train Acc: 0.9992, Val Loss: 3.7019, Val Acc: 0.5242, Time: 2.79s\n",
      "\n",
      "Epoch 32/100 for Fold 1\n"
     ]
    },
    {
     "name": "stderr",
     "output_type": "stream",
     "text": [
      "Training: 100%|██████████| 21/21 [00:02<00:00,  7.56it/s]\n",
      "Validating: 100%|██████████| 6/6 [00:00<00:00,  6.19it/s]\n"
     ]
    },
    {
     "name": "stdout",
     "output_type": "stream",
     "text": [
      "  Train Loss: 0.0008, Train Acc: 1.0000, Val Loss: 3.7700, Val Acc: 0.5227, Time: 2.78s\n",
      "\n",
      "Epoch 33/100 for Fold 1\n"
     ]
    },
    {
     "name": "stderr",
     "output_type": "stream",
     "text": [
      "Training: 100%|██████████| 21/21 [00:02<00:00,  7.72it/s]\n",
      "Validating: 100%|██████████| 6/6 [00:00<00:00,  6.17it/s]\n"
     ]
    },
    {
     "name": "stdout",
     "output_type": "stream",
     "text": [
      "  Train Loss: 0.0007, Train Acc: 1.0000, Val Loss: 3.7969, Val Acc: 0.5197, Time: 2.72s\n",
      "\n",
      "Epoch 34/100 for Fold 1\n"
     ]
    },
    {
     "name": "stderr",
     "output_type": "stream",
     "text": [
      "Training: 100%|██████████| 21/21 [00:02<00:00,  7.41it/s]\n",
      "Validating: 100%|██████████| 6/6 [00:00<00:00,  6.27it/s]\n"
     ]
    },
    {
     "name": "stdout",
     "output_type": "stream",
     "text": [
      "  Train Loss: 0.0009, Train Acc: 1.0000, Val Loss: 3.8439, Val Acc: 0.5197, Time: 2.84s\n",
      "\n",
      "Epoch 35/100 for Fold 1\n"
     ]
    },
    {
     "name": "stderr",
     "output_type": "stream",
     "text": [
      "Training: 100%|██████████| 21/21 [00:02<00:00,  7.20it/s]\n",
      "Validating: 100%|██████████| 6/6 [00:00<00:00,  6.26it/s]\n"
     ]
    },
    {
     "name": "stdout",
     "output_type": "stream",
     "text": [
      "  Train Loss: 0.0010, Train Acc: 1.0000, Val Loss: 3.8062, Val Acc: 0.5182, Time: 2.92s\n",
      "  Early stopping at epoch 35.\n",
      "Loading best model for fold 1 (achieved 0.5379 on inner val set).\n"
     ]
    },
    {
     "name": "stderr",
     "output_type": "stream",
     "text": [
      "Validating: 100%|██████████| 13/13 [00:01<00:00,  8.07it/s]\n"
     ]
    },
    {
     "name": "stdout",
     "output_type": "stream",
     "text": [
      "Performance on Outer Test Set for fold 1: 0.4988\n",
      "\n",
      "--- Outer Fold 2/3 ---\n",
      "Training on 2640, Validating on 660...\n",
      "\n",
      "Epoch 1/100 for Fold 2\n"
     ]
    },
    {
     "name": "stderr",
     "output_type": "stream",
     "text": [
      "Training: 100%|██████████| 21/21 [00:02<00:00,  7.59it/s]\n",
      "Validating: 100%|██████████| 6/6 [00:00<00:00,  6.10it/s]\n"
     ]
    },
    {
     "name": "stdout",
     "output_type": "stream",
     "text": [
      "  Train Loss: 2.0071, Train Acc: 0.2087, Val Loss: 1.8840, Val Acc: 0.2500, Time: 2.77s\n",
      "  New best model for fold 2 at epoch 1: Val Acc: 0.2500\n",
      "\n",
      "Epoch 2/100 for Fold 2\n"
     ]
    },
    {
     "name": "stderr",
     "output_type": "stream",
     "text": [
      "Training: 100%|██████████| 21/21 [00:02<00:00,  7.41it/s]\n",
      "Validating: 100%|██████████| 6/6 [00:00<00:00,  6.04it/s]\n"
     ]
    },
    {
     "name": "stdout",
     "output_type": "stream",
     "text": [
      "  Train Loss: 1.8115, Train Acc: 0.2992, Val Loss: 1.7251, Val Acc: 0.3288, Time: 2.84s\n",
      "  New best model for fold 2 at epoch 2: Val Acc: 0.3288\n",
      "\n",
      "Epoch 3/100 for Fold 2\n"
     ]
    },
    {
     "name": "stderr",
     "output_type": "stream",
     "text": [
      "Training: 100%|██████████| 21/21 [00:02<00:00,  7.56it/s]\n",
      "Validating: 100%|██████████| 6/6 [00:00<00:00,  6.18it/s]\n"
     ]
    },
    {
     "name": "stdout",
     "output_type": "stream",
     "text": [
      "  Train Loss: 1.6574, Train Acc: 0.3542, Val Loss: 1.6135, Val Acc: 0.3682, Time: 2.78s\n",
      "  New best model for fold 2 at epoch 3: Val Acc: 0.3682\n",
      "\n",
      "Epoch 4/100 for Fold 2\n"
     ]
    },
    {
     "name": "stderr",
     "output_type": "stream",
     "text": [
      "Training: 100%|██████████| 21/21 [00:02<00:00,  7.27it/s]\n",
      "Validating: 100%|██████████| 6/6 [00:00<00:00,  6.33it/s]\n"
     ]
    },
    {
     "name": "stdout",
     "output_type": "stream",
     "text": [
      "  Train Loss: 1.4363, Train Acc: 0.4462, Val Loss: 1.5036, Val Acc: 0.4000, Time: 2.89s\n",
      "  New best model for fold 2 at epoch 4: Val Acc: 0.4000\n",
      "\n",
      "Epoch 5/100 for Fold 2\n"
     ]
    },
    {
     "name": "stderr",
     "output_type": "stream",
     "text": [
      "Training: 100%|██████████| 21/21 [00:02<00:00,  7.51it/s]\n",
      "Validating: 100%|██████████| 6/6 [00:00<00:00,  6.24it/s]\n"
     ]
    },
    {
     "name": "stdout",
     "output_type": "stream",
     "text": [
      "  Train Loss: 1.2175, Train Acc: 0.5345, Val Loss: 1.3980, Val Acc: 0.4485, Time: 2.80s\n",
      "  New best model for fold 2 at epoch 5: Val Acc: 0.4485\n",
      "\n",
      "Epoch 6/100 for Fold 2\n"
     ]
    },
    {
     "name": "stderr",
     "output_type": "stream",
     "text": [
      "Training: 100%|██████████| 21/21 [00:02<00:00,  7.46it/s]\n",
      "Validating: 100%|██████████| 6/6 [00:00<00:00,  6.39it/s]\n"
     ]
    },
    {
     "name": "stdout",
     "output_type": "stream",
     "text": [
      "  Train Loss: 1.0059, Train Acc: 0.6159, Val Loss: 1.4240, Val Acc: 0.4742, Time: 2.82s\n",
      "  New best model for fold 2 at epoch 6: Val Acc: 0.4742\n",
      "\n",
      "Epoch 7/100 for Fold 2\n"
     ]
    },
    {
     "name": "stderr",
     "output_type": "stream",
     "text": [
      "Training: 100%|██████████| 21/21 [00:02<00:00,  7.60it/s]\n",
      "Validating: 100%|██████████| 6/6 [00:00<00:00,  6.17it/s]\n"
     ]
    },
    {
     "name": "stdout",
     "output_type": "stream",
     "text": [
      "  Train Loss: 0.7923, Train Acc: 0.7072, Val Loss: 1.4088, Val Acc: 0.4970, Time: 2.77s\n",
      "  New best model for fold 2 at epoch 7: Val Acc: 0.4970\n",
      "\n",
      "Epoch 8/100 for Fold 2\n"
     ]
    },
    {
     "name": "stderr",
     "output_type": "stream",
     "text": [
      "Training: 100%|██████████| 21/21 [00:02<00:00,  7.48it/s]\n",
      "Validating: 100%|██████████| 6/6 [00:00<00:00,  6.16it/s]\n"
     ]
    },
    {
     "name": "stdout",
     "output_type": "stream",
     "text": [
      "  Train Loss: 0.5731, Train Acc: 0.7966, Val Loss: 1.6072, Val Acc: 0.4924, Time: 2.81s\n",
      "\n",
      "Epoch 9/100 for Fold 2\n"
     ]
    },
    {
     "name": "stderr",
     "output_type": "stream",
     "text": [
      "Training: 100%|██████████| 21/21 [00:02<00:00,  7.47it/s]\n",
      "Validating: 100%|██████████| 6/6 [00:00<00:00,  6.22it/s]\n"
     ]
    },
    {
     "name": "stdout",
     "output_type": "stream",
     "text": [
      "  Train Loss: 0.4021, Train Acc: 0.8655, Val Loss: 1.8302, Val Acc: 0.4909, Time: 2.81s\n",
      "\n",
      "Epoch 10/100 for Fold 2\n"
     ]
    },
    {
     "name": "stderr",
     "output_type": "stream",
     "text": [
      "Training: 100%|██████████| 21/21 [00:02<00:00,  7.45it/s]\n",
      "Validating: 100%|██████████| 6/6 [00:00<00:00,  6.14it/s]\n"
     ]
    },
    {
     "name": "stdout",
     "output_type": "stream",
     "text": [
      "  Train Loss: 0.2506, Train Acc: 0.9182, Val Loss: 2.1739, Val Acc: 0.4879, Time: 2.82s\n",
      "\n",
      "Epoch 11/100 for Fold 2\n"
     ]
    },
    {
     "name": "stderr",
     "output_type": "stream",
     "text": [
      "Training: 100%|██████████| 21/21 [00:02<00:00,  7.34it/s]\n",
      "Validating: 100%|██████████| 6/6 [00:00<00:00,  6.21it/s]\n"
     ]
    },
    {
     "name": "stdout",
     "output_type": "stream",
     "text": [
      "  Train Loss: 0.1391, Train Acc: 0.9542, Val Loss: 2.4451, Val Acc: 0.5061, Time: 2.86s\n",
      "  New best model for fold 2 at epoch 11: Val Acc: 0.5061\n",
      "\n",
      "Epoch 12/100 for Fold 2\n"
     ]
    },
    {
     "name": "stderr",
     "output_type": "stream",
     "text": [
      "Training: 100%|██████████| 21/21 [00:02<00:00,  7.44it/s]\n",
      "Validating: 100%|██████████| 6/6 [00:00<00:00,  6.17it/s]\n"
     ]
    },
    {
     "name": "stdout",
     "output_type": "stream",
     "text": [
      "  Train Loss: 0.0752, Train Acc: 0.9803, Val Loss: 2.6170, Val Acc: 0.5318, Time: 2.83s\n",
      "  New best model for fold 2 at epoch 12: Val Acc: 0.5318\n",
      "\n",
      "Epoch 13/100 for Fold 2\n"
     ]
    },
    {
     "name": "stderr",
     "output_type": "stream",
     "text": [
      "Training: 100%|██████████| 21/21 [00:02<00:00,  7.50it/s]\n",
      "Validating: 100%|██████████| 6/6 [00:00<00:00,  6.21it/s]\n"
     ]
    },
    {
     "name": "stdout",
     "output_type": "stream",
     "text": [
      "  Train Loss: 0.0661, Train Acc: 0.9799, Val Loss: 3.0333, Val Acc: 0.5015, Time: 2.80s\n",
      "\n",
      "Epoch 14/100 for Fold 2\n"
     ]
    },
    {
     "name": "stderr",
     "output_type": "stream",
     "text": [
      "Training: 100%|██████████| 21/21 [00:02<00:00,  7.50it/s]\n",
      "Validating: 100%|██████████| 6/6 [00:00<00:00,  6.11it/s]\n"
     ]
    },
    {
     "name": "stdout",
     "output_type": "stream",
     "text": [
      "  Train Loss: 0.0314, Train Acc: 0.9932, Val Loss: 3.1407, Val Acc: 0.5045, Time: 2.80s\n",
      "\n",
      "Epoch 15/100 for Fold 2\n"
     ]
    },
    {
     "name": "stderr",
     "output_type": "stream",
     "text": [
      "Training: 100%|██████████| 21/21 [00:02<00:00,  7.55it/s]\n",
      "Validating: 100%|██████████| 6/6 [00:00<00:00,  6.22it/s]\n"
     ]
    },
    {
     "name": "stdout",
     "output_type": "stream",
     "text": [
      "  Train Loss: 0.0199, Train Acc: 0.9955, Val Loss: 3.1690, Val Acc: 0.5030, Time: 2.78s\n",
      "\n",
      "Epoch 16/100 for Fold 2\n"
     ]
    },
    {
     "name": "stderr",
     "output_type": "stream",
     "text": [
      "Training: 100%|██████████| 21/21 [00:02<00:00,  7.64it/s]\n",
      "Validating: 100%|██████████| 6/6 [00:00<00:00,  6.28it/s]\n"
     ]
    },
    {
     "name": "stdout",
     "output_type": "stream",
     "text": [
      "  Train Loss: 0.0120, Train Acc: 0.9992, Val Loss: 3.5392, Val Acc: 0.5136, Time: 2.75s\n",
      "\n",
      "Epoch 17/100 for Fold 2\n"
     ]
    },
    {
     "name": "stderr",
     "output_type": "stream",
     "text": [
      "Training: 100%|██████████| 21/21 [00:02<00:00,  7.44it/s]\n",
      "Validating: 100%|██████████| 6/6 [00:00<00:00,  6.21it/s]\n"
     ]
    },
    {
     "name": "stdout",
     "output_type": "stream",
     "text": [
      "  Train Loss: 0.0079, Train Acc: 0.9989, Val Loss: 3.5678, Val Acc: 0.4939, Time: 2.83s\n",
      "\n",
      "Epoch 18/100 for Fold 2\n"
     ]
    },
    {
     "name": "stderr",
     "output_type": "stream",
     "text": [
      "Training: 100%|██████████| 21/21 [00:02<00:00,  7.48it/s]\n",
      "Validating: 100%|██████████| 6/6 [00:00<00:00,  6.10it/s]\n"
     ]
    },
    {
     "name": "stdout",
     "output_type": "stream",
     "text": [
      "  Train Loss: 0.0037, Train Acc: 1.0000, Val Loss: 3.9110, Val Acc: 0.5121, Time: 2.81s\n",
      "\n",
      "Epoch 19/100 for Fold 2\n"
     ]
    },
    {
     "name": "stderr",
     "output_type": "stream",
     "text": [
      "Training: 100%|██████████| 21/21 [00:02<00:00,  7.44it/s]\n",
      "Validating: 100%|██████████| 6/6 [00:00<00:00,  6.24it/s]\n"
     ]
    },
    {
     "name": "stdout",
     "output_type": "stream",
     "text": [
      "  Train Loss: 0.0032, Train Acc: 1.0000, Val Loss: 3.9186, Val Acc: 0.5152, Time: 2.83s\n",
      "\n",
      "Epoch 20/100 for Fold 2\n"
     ]
    },
    {
     "name": "stderr",
     "output_type": "stream",
     "text": [
      "Training: 100%|██████████| 21/21 [00:02<00:00,  7.70it/s]\n",
      "Validating: 100%|██████████| 6/6 [00:00<00:00,  6.59it/s]\n"
     ]
    },
    {
     "name": "stdout",
     "output_type": "stream",
     "text": [
      "  Train Loss: 0.0037, Train Acc: 1.0000, Val Loss: 3.8981, Val Acc: 0.5015, Time: 2.73s\n",
      "\n",
      "Epoch 21/100 for Fold 2\n"
     ]
    },
    {
     "name": "stderr",
     "output_type": "stream",
     "text": [
      "Training: 100%|██████████| 21/21 [00:02<00:00,  7.52it/s]\n",
      "Validating: 100%|██████████| 6/6 [00:00<00:00,  6.22it/s]\n"
     ]
    },
    {
     "name": "stdout",
     "output_type": "stream",
     "text": [
      "  Train Loss: 0.0104, Train Acc: 0.9966, Val Loss: 4.0888, Val Acc: 0.4985, Time: 2.80s\n",
      "\n",
      "Epoch 22/100 for Fold 2\n"
     ]
    },
    {
     "name": "stderr",
     "output_type": "stream",
     "text": [
      "Training: 100%|██████████| 21/21 [00:02<00:00,  7.48it/s]\n",
      "Validating: 100%|██████████| 6/6 [00:00<00:00,  6.19it/s]\n"
     ]
    },
    {
     "name": "stdout",
     "output_type": "stream",
     "text": [
      "  Train Loss: 0.0180, Train Acc: 0.9947, Val Loss: 3.8828, Val Acc: 0.5076, Time: 2.81s\n",
      "  Early stopping at epoch 22.\n",
      "Loading best model for fold 2 (achieved 0.5318 on inner val set).\n"
     ]
    },
    {
     "name": "stderr",
     "output_type": "stream",
     "text": [
      "Validating: 100%|██████████| 13/13 [00:01<00:00,  9.25it/s]\n"
     ]
    },
    {
     "name": "stdout",
     "output_type": "stream",
     "text": [
      "Performance on Outer Test Set for fold 2: 0.4939\n",
      "\n",
      "--- Outer Fold 3/3 ---\n",
      "Training on 2640, Validating on 660...\n",
      "\n",
      "Epoch 1/100 for Fold 3\n"
     ]
    },
    {
     "name": "stderr",
     "output_type": "stream",
     "text": [
      "Training: 100%|██████████| 21/21 [00:02<00:00,  7.42it/s]\n",
      "Validating: 100%|██████████| 6/6 [00:00<00:00,  6.24it/s]\n"
     ]
    },
    {
     "name": "stdout",
     "output_type": "stream",
     "text": [
      "  Train Loss: 1.9997, Train Acc: 0.2064, Val Loss: 1.9345, Val Acc: 0.2394, Time: 2.83s\n",
      "  New best model for fold 3 at epoch 1: Val Acc: 0.2394\n",
      "\n",
      "Epoch 2/100 for Fold 3\n"
     ]
    },
    {
     "name": "stderr",
     "output_type": "stream",
     "text": [
      "Training: 100%|██████████| 21/21 [00:02<00:00,  7.79it/s]\n",
      "Validating: 100%|██████████| 6/6 [00:00<00:00,  6.15it/s]\n"
     ]
    },
    {
     "name": "stdout",
     "output_type": "stream",
     "text": [
      "  Train Loss: 1.8262, Train Acc: 0.2924, Val Loss: 1.8175, Val Acc: 0.2924, Time: 2.70s\n",
      "  New best model for fold 3 at epoch 2: Val Acc: 0.2924\n",
      "\n",
      "Epoch 3/100 for Fold 3\n"
     ]
    },
    {
     "name": "stderr",
     "output_type": "stream",
     "text": [
      "Training: 100%|██████████| 21/21 [00:02<00:00,  7.68it/s]\n",
      "Validating: 100%|██████████| 6/6 [00:00<00:00,  6.34it/s]\n"
     ]
    },
    {
     "name": "stdout",
     "output_type": "stream",
     "text": [
      "  Train Loss: 1.6664, Train Acc: 0.3511, Val Loss: 1.6956, Val Acc: 0.3242, Time: 2.74s\n",
      "  New best model for fold 3 at epoch 3: Val Acc: 0.3242\n",
      "\n",
      "Epoch 4/100 for Fold 3\n"
     ]
    },
    {
     "name": "stderr",
     "output_type": "stream",
     "text": [
      "Training: 100%|██████████| 21/21 [00:02<00:00,  7.44it/s]\n",
      "Validating: 100%|██████████| 6/6 [00:01<00:00,  5.25it/s]\n"
     ]
    },
    {
     "name": "stdout",
     "output_type": "stream",
     "text": [
      "  Train Loss: 1.4328, Train Acc: 0.4519, Val Loss: 1.5470, Val Acc: 0.3970, Time: 2.83s\n",
      "  New best model for fold 3 at epoch 4: Val Acc: 0.3970\n",
      "\n",
      "Epoch 5/100 for Fold 3\n"
     ]
    },
    {
     "name": "stderr",
     "output_type": "stream",
     "text": [
      "Training: 100%|██████████| 21/21 [00:02<00:00,  7.43it/s]\n",
      "Validating: 100%|██████████| 6/6 [00:00<00:00,  6.23it/s]\n"
     ]
    },
    {
     "name": "stdout",
     "output_type": "stream",
     "text": [
      "  Train Loss: 1.1942, Train Acc: 0.5519, Val Loss: 1.4669, Val Acc: 0.4470, Time: 2.83s\n",
      "  New best model for fold 3 at epoch 5: Val Acc: 0.4470\n",
      "\n",
      "Epoch 6/100 for Fold 3\n"
     ]
    },
    {
     "name": "stderr",
     "output_type": "stream",
     "text": [
      "Training: 100%|██████████| 21/21 [00:02<00:00,  7.42it/s]\n",
      "Validating: 100%|██████████| 6/6 [00:00<00:00,  6.17it/s]\n"
     ]
    },
    {
     "name": "stdout",
     "output_type": "stream",
     "text": [
      "  Train Loss: 0.9622, Train Acc: 0.6443, Val Loss: 1.3885, Val Acc: 0.5061, Time: 2.83s\n",
      "  New best model for fold 3 at epoch 6: Val Acc: 0.5061\n",
      "\n",
      "Epoch 7/100 for Fold 3\n"
     ]
    },
    {
     "name": "stderr",
     "output_type": "stream",
     "text": [
      "Training: 100%|██████████| 21/21 [00:02<00:00,  7.80it/s]\n",
      "Validating: 100%|██████████| 6/6 [00:00<00:00,  6.27it/s]\n"
     ]
    },
    {
     "name": "stdout",
     "output_type": "stream",
     "text": [
      "  Train Loss: 0.7657, Train Acc: 0.7167, Val Loss: 1.4880, Val Acc: 0.4818, Time: 2.70s\n",
      "\n",
      "Epoch 8/100 for Fold 3\n"
     ]
    },
    {
     "name": "stderr",
     "output_type": "stream",
     "text": [
      "Training: 100%|██████████| 21/21 [00:02<00:00,  7.47it/s]\n",
      "Validating: 100%|██████████| 6/6 [00:00<00:00,  6.03it/s]\n"
     ]
    },
    {
     "name": "stdout",
     "output_type": "stream",
     "text": [
      "  Train Loss: 0.5743, Train Acc: 0.7879, Val Loss: 1.5904, Val Acc: 0.5045, Time: 2.82s\n",
      "\n",
      "Epoch 9/100 for Fold 3\n"
     ]
    },
    {
     "name": "stderr",
     "output_type": "stream",
     "text": [
      "Training: 100%|██████████| 21/21 [00:02<00:00,  7.28it/s]\n",
      "Validating: 100%|██████████| 6/6 [00:00<00:00,  6.37it/s]\n"
     ]
    },
    {
     "name": "stdout",
     "output_type": "stream",
     "text": [
      "  Train Loss: 0.3916, Train Acc: 0.8515, Val Loss: 1.8231, Val Acc: 0.4879, Time: 2.89s\n",
      "\n",
      "Epoch 10/100 for Fold 3\n"
     ]
    },
    {
     "name": "stderr",
     "output_type": "stream",
     "text": [
      "Training: 100%|██████████| 21/21 [00:02<00:00,  7.77it/s]\n",
      "Validating: 100%|██████████| 6/6 [00:00<00:00,  6.32it/s]\n"
     ]
    },
    {
     "name": "stdout",
     "output_type": "stream",
     "text": [
      "  Train Loss: 0.2257, Train Acc: 0.9284, Val Loss: 2.1513, Val Acc: 0.4727, Time: 2.71s\n",
      "\n",
      "Epoch 11/100 for Fold 3\n"
     ]
    },
    {
     "name": "stderr",
     "output_type": "stream",
     "text": [
      "Training: 100%|██████████| 21/21 [00:02<00:00,  7.42it/s]\n",
      "Validating: 100%|██████████| 6/6 [00:00<00:00,  6.28it/s]\n"
     ]
    },
    {
     "name": "stdout",
     "output_type": "stream",
     "text": [
      "  Train Loss: 0.1543, Train Acc: 0.9557, Val Loss: 2.4913, Val Acc: 0.5076, Time: 2.84s\n",
      "  New best model for fold 3 at epoch 11: Val Acc: 0.5076\n",
      "\n",
      "Epoch 12/100 for Fold 3\n"
     ]
    },
    {
     "name": "stderr",
     "output_type": "stream",
     "text": [
      "Training: 100%|██████████| 21/21 [00:02<00:00,  7.60it/s]\n",
      "Validating: 100%|██████████| 6/6 [00:00<00:00,  6.07it/s]\n"
     ]
    },
    {
     "name": "stdout",
     "output_type": "stream",
     "text": [
      "  Train Loss: 0.0886, Train Acc: 0.9761, Val Loss: 2.6153, Val Acc: 0.4909, Time: 2.77s\n",
      "\n",
      "Epoch 13/100 for Fold 3\n"
     ]
    },
    {
     "name": "stderr",
     "output_type": "stream",
     "text": [
      "Training: 100%|██████████| 21/21 [00:02<00:00,  7.45it/s]\n",
      "Validating: 100%|██████████| 6/6 [00:00<00:00,  6.19it/s]\n"
     ]
    },
    {
     "name": "stdout",
     "output_type": "stream",
     "text": [
      "  Train Loss: 0.0535, Train Acc: 0.9883, Val Loss: 2.5811, Val Acc: 0.5045, Time: 2.82s\n",
      "\n",
      "Epoch 14/100 for Fold 3\n"
     ]
    },
    {
     "name": "stderr",
     "output_type": "stream",
     "text": [
      "Training: 100%|██████████| 21/21 [00:02<00:00,  7.52it/s]\n",
      "Validating: 100%|██████████| 6/6 [00:00<00:00,  6.44it/s]\n"
     ]
    },
    {
     "name": "stdout",
     "output_type": "stream",
     "text": [
      "  Train Loss: 0.0317, Train Acc: 0.9936, Val Loss: 3.0029, Val Acc: 0.5000, Time: 2.79s\n",
      "\n",
      "Epoch 15/100 for Fold 3\n"
     ]
    },
    {
     "name": "stderr",
     "output_type": "stream",
     "text": [
      "Training: 100%|██████████| 21/21 [00:02<00:00,  7.89it/s]\n",
      "Validating: 100%|██████████| 6/6 [00:00<00:00,  6.09it/s]\n"
     ]
    },
    {
     "name": "stdout",
     "output_type": "stream",
     "text": [
      "  Train Loss: 0.0178, Train Acc: 0.9970, Val Loss: 3.0757, Val Acc: 0.4985, Time: 2.67s\n",
      "\n",
      "Epoch 16/100 for Fold 3\n"
     ]
    },
    {
     "name": "stderr",
     "output_type": "stream",
     "text": [
      "Training: 100%|██████████| 21/21 [00:02<00:00,  7.48it/s]\n",
      "Validating: 100%|██████████| 6/6 [00:00<00:00,  6.28it/s]\n"
     ]
    },
    {
     "name": "stdout",
     "output_type": "stream",
     "text": [
      "  Train Loss: 0.0144, Train Acc: 0.9966, Val Loss: 3.3699, Val Acc: 0.4924, Time: 2.81s\n",
      "\n",
      "Epoch 17/100 for Fold 3\n"
     ]
    },
    {
     "name": "stderr",
     "output_type": "stream",
     "text": [
      "Training: 100%|██████████| 21/21 [00:02<00:00,  7.74it/s]\n",
      "Validating: 100%|██████████| 6/6 [00:00<00:00,  6.27it/s]\n"
     ]
    },
    {
     "name": "stdout",
     "output_type": "stream",
     "text": [
      "  Train Loss: 0.0083, Train Acc: 0.9992, Val Loss: 3.5248, Val Acc: 0.5061, Time: 2.72s\n",
      "\n",
      "Epoch 18/100 for Fold 3\n"
     ]
    },
    {
     "name": "stderr",
     "output_type": "stream",
     "text": [
      "Training: 100%|██████████| 21/21 [00:02<00:00,  7.40it/s]\n",
      "Validating: 100%|██████████| 6/6 [00:00<00:00,  6.16it/s]\n"
     ]
    },
    {
     "name": "stdout",
     "output_type": "stream",
     "text": [
      "  Train Loss: 0.0044, Train Acc: 0.9996, Val Loss: 3.6068, Val Acc: 0.5030, Time: 2.84s\n",
      "\n",
      "Epoch 19/100 for Fold 3\n"
     ]
    },
    {
     "name": "stderr",
     "output_type": "stream",
     "text": [
      "Training: 100%|██████████| 21/21 [00:02<00:00,  7.58it/s]\n",
      "Validating: 100%|██████████| 6/6 [00:00<00:00,  6.22it/s]\n"
     ]
    },
    {
     "name": "stdout",
     "output_type": "stream",
     "text": [
      "  Train Loss: 0.0037, Train Acc: 0.9996, Val Loss: 3.8111, Val Acc: 0.5076, Time: 2.77s\n",
      "\n",
      "Epoch 20/100 for Fold 3\n"
     ]
    },
    {
     "name": "stderr",
     "output_type": "stream",
     "text": [
      "Training: 100%|██████████| 21/21 [00:02<00:00,  7.63it/s]\n",
      "Validating: 100%|██████████| 6/6 [00:01<00:00,  5.58it/s]\n"
     ]
    },
    {
     "name": "stdout",
     "output_type": "stream",
     "text": [
      "  Train Loss: 0.0037, Train Acc: 0.9996, Val Loss: 3.8861, Val Acc: 0.5106, Time: 2.75s\n",
      "  New best model for fold 3 at epoch 20: Val Acc: 0.5106\n",
      "\n",
      "Epoch 21/100 for Fold 3\n"
     ]
    },
    {
     "name": "stderr",
     "output_type": "stream",
     "text": [
      "Training: 100%|██████████| 21/21 [00:02<00:00,  7.45it/s]\n",
      "Validating: 100%|██████████| 6/6 [00:00<00:00,  6.16it/s]\n"
     ]
    },
    {
     "name": "stdout",
     "output_type": "stream",
     "text": [
      "  Train Loss: 0.0030, Train Acc: 0.9996, Val Loss: 3.9020, Val Acc: 0.4955, Time: 2.82s\n",
      "\n",
      "Epoch 22/100 for Fold 3\n"
     ]
    },
    {
     "name": "stderr",
     "output_type": "stream",
     "text": [
      "Training: 100%|██████████| 21/21 [00:02<00:00,  7.44it/s]\n",
      "Validating: 100%|██████████| 6/6 [00:00<00:00,  6.28it/s]\n"
     ]
    },
    {
     "name": "stdout",
     "output_type": "stream",
     "text": [
      "  Train Loss: 0.0037, Train Acc: 0.9996, Val Loss: 3.8901, Val Acc: 0.5076, Time: 2.83s\n",
      "\n",
      "Epoch 23/100 for Fold 3\n"
     ]
    },
    {
     "name": "stderr",
     "output_type": "stream",
     "text": [
      "Training: 100%|██████████| 21/21 [00:02<00:00,  7.45it/s]\n",
      "Validating: 100%|██████████| 6/6 [00:01<00:00,  6.00it/s]\n"
     ]
    },
    {
     "name": "stdout",
     "output_type": "stream",
     "text": [
      "  Train Loss: 0.0040, Train Acc: 0.9992, Val Loss: 4.3343, Val Acc: 0.4970, Time: 2.82s\n",
      "\n",
      "Epoch 24/100 for Fold 3\n"
     ]
    },
    {
     "name": "stderr",
     "output_type": "stream",
     "text": [
      "Training: 100%|██████████| 21/21 [00:02<00:00,  7.61it/s]\n",
      "Validating: 100%|██████████| 6/6 [00:00<00:00,  6.28it/s]\n"
     ]
    },
    {
     "name": "stdout",
     "output_type": "stream",
     "text": [
      "  Train Loss: 0.0105, Train Acc: 0.9970, Val Loss: 3.8139, Val Acc: 0.4955, Time: 2.76s\n",
      "\n",
      "Epoch 25/100 for Fold 3\n"
     ]
    },
    {
     "name": "stderr",
     "output_type": "stream",
     "text": [
      "Training: 100%|██████████| 21/21 [00:02<00:00,  7.41it/s]\n",
      "Validating: 100%|██████████| 6/6 [00:00<00:00,  6.29it/s]\n"
     ]
    },
    {
     "name": "stdout",
     "output_type": "stream",
     "text": [
      "  Train Loss: 0.0407, Train Acc: 0.9860, Val Loss: 4.2550, Val Acc: 0.4939, Time: 2.84s\n",
      "\n",
      "Epoch 26/100 for Fold 3\n"
     ]
    },
    {
     "name": "stderr",
     "output_type": "stream",
     "text": [
      "Training: 100%|██████████| 21/21 [00:02<00:00,  7.57it/s]\n",
      "Validating: 100%|██████████| 6/6 [00:00<00:00,  6.12it/s]\n"
     ]
    },
    {
     "name": "stdout",
     "output_type": "stream",
     "text": [
      "  Train Loss: 0.0673, Train Acc: 0.9769, Val Loss: 3.8892, Val Acc: 0.4955, Time: 2.78s\n",
      "\n",
      "Epoch 27/100 for Fold 3\n"
     ]
    },
    {
     "name": "stderr",
     "output_type": "stream",
     "text": [
      "Training: 100%|██████████| 21/21 [00:02<00:00,  7.39it/s]\n",
      "Validating: 100%|██████████| 6/6 [00:00<00:00,  6.22it/s]\n"
     ]
    },
    {
     "name": "stdout",
     "output_type": "stream",
     "text": [
      "  Train Loss: 0.1344, Train Acc: 0.9542, Val Loss: 2.9725, Val Acc: 0.5030, Time: 2.84s\n",
      "\n",
      "Epoch 28/100 for Fold 3\n"
     ]
    },
    {
     "name": "stderr",
     "output_type": "stream",
     "text": [
      "Training: 100%|██████████| 21/21 [00:02<00:00,  7.41it/s]\n",
      "Validating: 100%|██████████| 6/6 [00:00<00:00,  6.20it/s]\n"
     ]
    },
    {
     "name": "stdout",
     "output_type": "stream",
     "text": [
      "  Train Loss: 0.1034, Train Acc: 0.9655, Val Loss: 2.9602, Val Acc: 0.5106, Time: 2.84s\n",
      "\n",
      "Epoch 29/100 for Fold 3\n"
     ]
    },
    {
     "name": "stderr",
     "output_type": "stream",
     "text": [
      "Training: 100%|██████████| 21/21 [00:02<00:00,  7.48it/s]\n",
      "Validating: 100%|██████████| 6/6 [00:00<00:00,  6.17it/s]\n"
     ]
    },
    {
     "name": "stdout",
     "output_type": "stream",
     "text": [
      "  Train Loss: 0.0405, Train Acc: 0.9848, Val Loss: 3.0849, Val Acc: 0.4894, Time: 2.81s\n",
      "\n",
      "Epoch 30/100 for Fold 3\n"
     ]
    },
    {
     "name": "stderr",
     "output_type": "stream",
     "text": [
      "Training: 100%|██████████| 21/21 [00:02<00:00,  7.60it/s]\n",
      "Validating: 100%|██████████| 6/6 [00:00<00:00,  6.16it/s]\n"
     ]
    },
    {
     "name": "stdout",
     "output_type": "stream",
     "text": [
      "  Train Loss: 0.0133, Train Acc: 0.9966, Val Loss: 3.3443, Val Acc: 0.5136, Time: 2.77s\n",
      "  New best model for fold 3 at epoch 30: Val Acc: 0.5136\n",
      "\n",
      "Epoch 31/100 for Fold 3\n"
     ]
    },
    {
     "name": "stderr",
     "output_type": "stream",
     "text": [
      "Training: 100%|██████████| 21/21 [00:02<00:00,  7.60it/s]\n",
      "Validating: 100%|██████████| 6/6 [00:00<00:00,  6.23it/s]\n"
     ]
    },
    {
     "name": "stdout",
     "output_type": "stream",
     "text": [
      "  Train Loss: 0.0113, Train Acc: 0.9970, Val Loss: 3.3946, Val Acc: 0.5182, Time: 2.77s\n",
      "  New best model for fold 3 at epoch 31: Val Acc: 0.5182\n",
      "\n",
      "Epoch 32/100 for Fold 3\n"
     ]
    },
    {
     "name": "stderr",
     "output_type": "stream",
     "text": [
      "Training: 100%|██████████| 21/21 [00:02<00:00,  7.41it/s]\n",
      "Validating: 100%|██████████| 6/6 [00:00<00:00,  6.21it/s]\n"
     ]
    },
    {
     "name": "stdout",
     "output_type": "stream",
     "text": [
      "  Train Loss: 0.0053, Train Acc: 0.9992, Val Loss: 3.7115, Val Acc: 0.5303, Time: 2.84s\n",
      "  New best model for fold 3 at epoch 32: Val Acc: 0.5303\n",
      "\n",
      "Epoch 33/100 for Fold 3\n"
     ]
    },
    {
     "name": "stderr",
     "output_type": "stream",
     "text": [
      "Training: 100%|██████████| 21/21 [00:02<00:00,  7.27it/s]\n",
      "Validating: 100%|██████████| 6/6 [00:00<00:00,  6.35it/s]\n"
     ]
    },
    {
     "name": "stdout",
     "output_type": "stream",
     "text": [
      "  Train Loss: 0.0031, Train Acc: 0.9992, Val Loss: 3.6505, Val Acc: 0.5288, Time: 2.89s\n",
      "\n",
      "Epoch 34/100 for Fold 3\n"
     ]
    },
    {
     "name": "stderr",
     "output_type": "stream",
     "text": [
      "Training: 100%|██████████| 21/21 [00:02<00:00,  7.43it/s]\n",
      "Validating: 100%|██████████| 6/6 [00:00<00:00,  6.22it/s]\n"
     ]
    },
    {
     "name": "stdout",
     "output_type": "stream",
     "text": [
      "  Train Loss: 0.0019, Train Acc: 1.0000, Val Loss: 3.6366, Val Acc: 0.5333, Time: 2.83s\n",
      "  New best model for fold 3 at epoch 34: Val Acc: 0.5333\n",
      "\n",
      "Epoch 35/100 for Fold 3\n"
     ]
    },
    {
     "name": "stderr",
     "output_type": "stream",
     "text": [
      "Training: 100%|██████████| 21/21 [00:02<00:00,  7.58it/s]\n",
      "Validating: 100%|██████████| 6/6 [00:00<00:00,  6.15it/s]\n"
     ]
    },
    {
     "name": "stdout",
     "output_type": "stream",
     "text": [
      "  Train Loss: 0.0010, Train Acc: 1.0000, Val Loss: 3.7967, Val Acc: 0.5212, Time: 2.78s\n",
      "\n",
      "Epoch 36/100 for Fold 3\n"
     ]
    },
    {
     "name": "stderr",
     "output_type": "stream",
     "text": [
      "Training: 100%|██████████| 21/21 [00:02<00:00,  7.52it/s]\n",
      "Validating: 100%|██████████| 6/6 [00:00<00:00,  6.20it/s]\n"
     ]
    },
    {
     "name": "stdout",
     "output_type": "stream",
     "text": [
      "  Train Loss: 0.0011, Train Acc: 0.9996, Val Loss: 3.7322, Val Acc: 0.5227, Time: 2.80s\n",
      "\n",
      "Epoch 37/100 for Fold 3\n"
     ]
    },
    {
     "name": "stderr",
     "output_type": "stream",
     "text": [
      "Training: 100%|██████████| 21/21 [00:02<00:00,  7.61it/s]\n",
      "Validating: 100%|██████████| 6/6 [00:00<00:00,  6.23it/s]\n"
     ]
    },
    {
     "name": "stdout",
     "output_type": "stream",
     "text": [
      "  Train Loss: 0.0007, Train Acc: 1.0000, Val Loss: 3.9810, Val Acc: 0.5121, Time: 2.76s\n",
      "\n",
      "Epoch 38/100 for Fold 3\n"
     ]
    },
    {
     "name": "stderr",
     "output_type": "stream",
     "text": [
      "Training: 100%|██████████| 21/21 [00:02<00:00,  7.49it/s]\n",
      "Validating: 100%|██████████| 6/6 [00:00<00:00,  6.27it/s]\n"
     ]
    },
    {
     "name": "stdout",
     "output_type": "stream",
     "text": [
      "  Train Loss: 0.0005, Train Acc: 1.0000, Val Loss: 3.9711, Val Acc: 0.5182, Time: 2.81s\n",
      "\n",
      "Epoch 39/100 for Fold 3\n"
     ]
    },
    {
     "name": "stderr",
     "output_type": "stream",
     "text": [
      "Training: 100%|██████████| 21/21 [00:02<00:00,  7.58it/s]\n",
      "Validating: 100%|██████████| 6/6 [00:00<00:00,  6.13it/s]\n"
     ]
    },
    {
     "name": "stdout",
     "output_type": "stream",
     "text": [
      "  Train Loss: 0.0005, Train Acc: 1.0000, Val Loss: 4.0044, Val Acc: 0.5136, Time: 2.77s\n",
      "\n",
      "Epoch 40/100 for Fold 3\n"
     ]
    },
    {
     "name": "stderr",
     "output_type": "stream",
     "text": [
      "Training: 100%|██████████| 21/21 [00:02<00:00,  7.46it/s]\n",
      "Validating: 100%|██████████| 6/6 [00:00<00:00,  6.26it/s]\n"
     ]
    },
    {
     "name": "stdout",
     "output_type": "stream",
     "text": [
      "  Train Loss: 0.0003, Train Acc: 1.0000, Val Loss: 4.0608, Val Acc: 0.5121, Time: 2.82s\n",
      "\n",
      "Epoch 41/100 for Fold 3\n"
     ]
    },
    {
     "name": "stderr",
     "output_type": "stream",
     "text": [
      "Training: 100%|██████████| 21/21 [00:02<00:00,  7.48it/s]\n",
      "Validating: 100%|██████████| 6/6 [00:00<00:00,  6.25it/s]\n"
     ]
    },
    {
     "name": "stdout",
     "output_type": "stream",
     "text": [
      "  Train Loss: 0.0003, Train Acc: 1.0000, Val Loss: 4.0925, Val Acc: 0.5152, Time: 2.81s\n",
      "\n",
      "Epoch 42/100 for Fold 3\n"
     ]
    },
    {
     "name": "stderr",
     "output_type": "stream",
     "text": [
      "Training: 100%|██████████| 21/21 [00:02<00:00,  7.75it/s]\n",
      "Validating: 100%|██████████| 6/6 [00:00<00:00,  6.24it/s]\n"
     ]
    },
    {
     "name": "stdout",
     "output_type": "stream",
     "text": [
      "  Train Loss: 0.0004, Train Acc: 1.0000, Val Loss: 4.0678, Val Acc: 0.5227, Time: 2.71s\n",
      "\n",
      "Epoch 43/100 for Fold 3\n"
     ]
    },
    {
     "name": "stderr",
     "output_type": "stream",
     "text": [
      "Training: 100%|██████████| 21/21 [00:02<00:00,  7.56it/s]\n",
      "Validating: 100%|██████████| 6/6 [00:00<00:00,  6.17it/s]\n"
     ]
    },
    {
     "name": "stdout",
     "output_type": "stream",
     "text": [
      "  Train Loss: 0.0005, Train Acc: 1.0000, Val Loss: 4.1272, Val Acc: 0.5152, Time: 2.78s\n",
      "\n",
      "Epoch 44/100 for Fold 3\n"
     ]
    },
    {
     "name": "stderr",
     "output_type": "stream",
     "text": [
      "Training: 100%|██████████| 21/21 [00:02<00:00,  7.59it/s]\n",
      "Validating: 100%|██████████| 6/6 [00:00<00:00,  6.31it/s]\n"
     ]
    },
    {
     "name": "stdout",
     "output_type": "stream",
     "text": [
      "  Train Loss: 0.0004, Train Acc: 1.0000, Val Loss: 4.1080, Val Acc: 0.5227, Time: 2.77s\n",
      "  Early stopping at epoch 44.\n",
      "Loading best model for fold 3 (achieved 0.5333 on inner val set).\n"
     ]
    },
    {
     "name": "stderr",
     "output_type": "stream",
     "text": [
      "Validating: 100%|██████████| 13/13 [00:01<00:00,  8.13it/s]"
     ]
    },
    {
     "name": "stdout",
     "output_type": "stream",
     "text": [
      "Performance on Outer Test Set for fold 3: 0.4939\n",
      "\n",
      "--- NESTED CROSS VALIDATION TRANSFER COMPLETE ---\n",
      "Cross-validation accuracies on outer folds: ['0.4988', '0.4939', '0.4939']\n",
      "Mean CV Accuracy: 0.4956 ± 0.0023\n"
     ]
    },
    {
     "name": "stderr",
     "output_type": "stream",
     "text": [
      "\n"
     ]
    }
   ],
   "source": [
    "from tensorboardX import SummaryWriter\n",
    "import time\n",
    "\n",
    "transfer_model_path = \"../I_RAVEN/saved_models/best_model_wren.pth\"\n",
    "model_folder_name = \"RADIO1_WReN_TRANSFER_RAVEN\"\n",
    "\n",
    "print(f\"\\n{'='*25} PERFORMING NESTED CROSS-VALIDATION TRANSFER {'='*25}\")\n",
    "\n",
    "outer_kfold = StratifiedKFold(n_splits=N_SPLITS, shuffle=True, random_state=RANDOM_SEED)\n",
    "fold_test_results = []\n",
    "\n",
    "for fold, (train_outer_idx, test_outer_idx) in enumerate(outer_kfold.split(np.zeros(len(dev_dataset)), dev_dataset_labels)):\n",
    "    print(f\"\\n--- Outer Fold {fold+1}/{N_SPLITS} ---\")\n",
    "    writer = SummaryWriter(log_dir=f'runs/{model_folder_name}/fold_{fold+1}')\n",
    "\n",
    "    # Create inner train/val split from the outer training set\n",
    "    train_outer_labels = dev_dataset_labels[train_outer_idx]\n",
    "    train_inner_idx, val_inner_idx = train_test_split(\n",
    "        train_outer_idx, test_size=VAL_SPLIT_SIZE, shuffle=True, stratify=train_outer_labels, random_state=RANDOM_SEED\n",
    "    )\n",
    "\n",
    "    # Create subsets from the DEVELOPMENT dataset\n",
    "    train_inner_subset = Subset(dev_dataset, train_inner_idx)\n",
    "    val_inner_subset = Subset(dev_dataset, val_inner_idx)\n",
    "    test_outer_subset = Subset(dev_dataset, test_outer_idx) # This is the \"test set\" for this fold\n",
    "\n",
    "    train_loader = DataLoader(train_inner_subset, batch_size=BATCH_SIZE, shuffle=True, num_workers=6, pin_memory=True)\n",
    "    val_loader = DataLoader(val_inner_subset, batch_size=BATCH_SIZE, shuffle=False, num_workers=6, pin_memory=True)\n",
    "    test_loader = DataLoader(test_outer_subset, batch_size=BATCH_SIZE, shuffle=False, num_workers=6, pin_memory=True)\n",
    "\n",
    "    model = WReN().to(DEVICE)  # Initialize a new model for this fold\n",
    "    model.load_state_dict(torch.load(transfer_model_path))  # Load the pre-trained model\n",
    "\n",
    "    optimizer = torch.optim.Adam(model.parameters(),\n",
    "                                 lr=LEARNING_RATE,\n",
    "                                 betas=(BETA_1, BETA_2),\n",
    "                                 eps=EPSILON)\n",
    "\n",
    "    criterion = nn.CrossEntropyLoss()\n",
    "    scheduler = None\n",
    "    scaler = None\n",
    "\n",
    "    best_model_path = f\"./saved_models/{model_folder_name}/best_model_fold_{fold+1}.pth\"\n",
    "    os.makedirs(f\"./saved_models/{model_folder_name}\", exist_ok=True)\n",
    "    best_val_acc_fold = 0.0\n",
    "    epochs_without_improvement = 0\n",
    "\n",
    "    print(f\"Training on {len(train_inner_subset)}, Validating on {len(val_inner_subset)}...\")\n",
    "    for epoch in range(1, EPOCHS + 1):\n",
    "        print(f\"\\nEpoch {epoch}/{EPOCHS} for Fold {fold+1}\")\n",
    "        train_start_time = time.time()\n",
    "        train_loss, train_acc = train_epoch(model, train_loader, optimizer, criterion, DEVICE)\n",
    "        train_end_time = time.time()\n",
    "        train_time = train_end_time - train_start_time\n",
    "\n",
    "        val_loss, val_acc = validate(model, val_loader, criterion, DEVICE)\n",
    "\n",
    "        print(f\"  Train Loss: {train_loss:.4f}, Train Acc: {train_acc:.4f}, Val Loss: {val_loss:.4f}, Val Acc: {val_acc:.4f}, Time: {train_time:.2f}s\")\n",
    "\n",
    "        writer.add_scalar('CV/Loss/train', train_loss, epoch)\n",
    "        writer.add_scalar('CV/Accuracy/train', train_acc, epoch)\n",
    "        writer.add_scalar('CV/Loss/val', val_loss, epoch)\n",
    "        writer.add_scalar('CV/Accuracy/val', val_acc, epoch)\n",
    "        writer.add_scalar('CV/Time/train', train_time, epoch)\n",
    "\n",
    "        memory_allocated = torch.cuda.memory_allocated(DEVICE) if torch.cuda.is_available() else 0\n",
    "        memory_reserved = torch.cuda.memory_reserved(DEVICE) if torch.cuda.is_available() else 0\n",
    "\n",
    "        writer.add_scalar('CV/Memory/allocated', memory_allocated, epoch)\n",
    "        writer.add_scalar('CV/Memory/reserved', memory_reserved, epoch)\n",
    "\n",
    "        if val_acc > best_val_acc_fold:\n",
    "            best_val_acc_fold = val_acc\n",
    "            epochs_without_improvement = 0\n",
    "            torch.save(model.state_dict(), best_model_path)\n",
    "            print(f\"  New best model for fold {fold+1} at epoch {epoch}: Val Acc: {val_acc:.4f}\")\n",
    "        else:\n",
    "            epochs_without_improvement += 1\n",
    "            if epochs_without_improvement >= PATIENCE:\n",
    "                print(f\"  Early stopping at epoch {epoch}.\")\n",
    "                break\n",
    "    \n",
    "    # Evaluate the best model for this fold on the outer test set\n",
    "    print(f\"Loading best model for fold {fold+1} (achieved {best_val_acc_fold:.4f} on inner val set).\")\n",
    "    model.load_state_dict(torch.load(best_model_path))\n",
    "    _, final_fold_test_acc = validate(model, test_loader, criterion, DEVICE)\n",
    "    print(f\"Performance on Outer Test Set for fold {fold+1}: {final_fold_test_acc:.4f}\")\n",
    "    fold_test_results.append(final_fold_test_acc)\n",
    "    writer.add_scalar('CV/Accuracy/test', final_fold_test_acc, epoch)\n",
    "    writer.close()\n",
    "\n",
    "mean_cv_acc = np.mean(fold_test_results)\n",
    "std_cv_acc = np.std(fold_test_results)\n",
    "print(f\"\\n--- NESTED CROSS VALIDATION TRANSFER COMPLETE ---\")\n",
    "print(f\"Cross-validation accuracies on outer folds: {[f'{acc:.4f}' for acc in fold_test_results]}\")\n",
    "print(f\"Mean CV Accuracy: {mean_cv_acc:.4f} ± {std_cv_acc:.4f}\")"
   ]
  }
 ],
 "metadata": {
  "kernelspec": {
   "display_name": "DGL_ENV",
   "language": "python",
   "name": "dgl_env"
  },
  "language_info": {
   "codemirror_mode": {
    "name": "ipython",
    "version": 3
   },
   "file_extension": ".py",
   "mimetype": "text/x-python",
   "name": "python",
   "nbconvert_exporter": "python",
   "pygments_lexer": "ipython3",
   "version": "3.12.3"
  }
 },
 "nbformat": 4,
 "nbformat_minor": 5
}
