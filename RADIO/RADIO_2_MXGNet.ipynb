{
 "cells": [
  {
   "cell_type": "code",
   "execution_count": 1,
   "id": "39d28230",
   "metadata": {},
   "outputs": [],
   "source": [
    "%load_ext autoreload\n",
    "%autoreload 2"
   ]
  },
  {
   "cell_type": "code",
   "execution_count": 2,
   "id": "fcd03f95",
   "metadata": {},
   "outputs": [],
   "source": [
    "from radio_data_utility import RadioV2Dataset as dataset\n",
    "import argparse\n",
    "import os\n",
    "import json\n",
    "import pickle\n",
    "\n",
    "from torchvision import transforms\n",
    "\n",
    "import torch\n",
    "import numpy as np\n",
    "\n",
    "from torch.utils.data import DataLoader\n",
    "import torch.nn as nn\n",
    "\n",
    "from tqdm import tqdm\n",
    "\n",
    "import time\n",
    "import random\n"
   ]
  },
  {
   "cell_type": "code",
   "execution_count": 3,
   "id": "383ffc8d",
   "metadata": {},
   "outputs": [],
   "source": [
    "with open('./generated_radio_datasets_split/raven_organsmnist_v2_train.pkl', 'rb') as f:\n",
    "    raven_dataset_v2_organ_train = pickle.load(f)\n",
    "\n",
    "with open('./generated_radio_datasets_split/raven_organsmnist_v2_val.pkl', 'rb') as f:\n",
    "    raven_dataset_v2_organ_val = pickle.load(f)\n",
    "\n",
    "with open('./generated_radio_datasets_split/raven_organsmnist_v2_test.pkl', 'rb') as f:\n",
    "    raven_dataset_v2_organ_test = pickle.load(f)"
   ]
  },
  {
   "cell_type": "code",
   "execution_count": 4,
   "id": "5b88a7d0",
   "metadata": {},
   "outputs": [],
   "source": [
    "from mxgnet import Model, train_epoch, validate, count_parameters\n",
    "from radam import RAdam"
   ]
  },
  {
   "cell_type": "code",
   "execution_count": 5,
   "id": "2c730771",
   "metadata": {},
   "outputs": [],
   "source": [
    "RANDOM_SEED = 42\n",
    "\n",
    "# Set seeds for reproducibility\n",
    "torch.manual_seed(RANDOM_SEED)\n",
    "np.random.seed(RANDOM_SEED)\n",
    "if torch.cuda.is_available():\n",
    "    torch.cuda.manual_seed_all(RANDOM_SEED)"
   ]
  },
  {
   "cell_type": "code",
   "execution_count": 6,
   "id": "59912112",
   "metadata": {},
   "outputs": [],
   "source": [
    "IMG_SIZE = 80\n",
    "\n",
    "train_transform = transforms.Compose([\n",
    "    transforms.ToPILImage(),\n",
    "    transforms.Resize(IMG_SIZE),  # Resize to the specified size\n",
    "    transforms.ToTensor(),\n",
    "])\n",
    "\n",
    "eval_transform = transforms.Compose([\n",
    "    transforms.ToPILImage(),\n",
    "    transforms.Resize(IMG_SIZE),\n",
    "    transforms.ToTensor(),\n",
    "])"
   ]
  },
  {
   "cell_type": "code",
   "execution_count": 7,
   "id": "c07f3477",
   "metadata": {},
   "outputs": [
    {
     "name": "stdout",
     "output_type": "stream",
     "text": [
      "Total samples in training set: 4400\n",
      "Total samples in validation set: 550\n",
      "Total samples in test set: 550\n"
     ]
    }
   ],
   "source": [
    "print(\"Total samples in training set:\", len(raven_dataset_v2_organ_train))\n",
    "print(\"Total samples in validation set:\", len(raven_dataset_v2_organ_val))\n",
    "print(\"Total samples in test set:\", len(raven_dataset_v2_organ_test))"
   ]
  },
  {
   "cell_type": "code",
   "execution_count": 8,
   "id": "a63551a1",
   "metadata": {},
   "outputs": [],
   "source": [
    "train_dataset = dataset(\n",
    "    raven_dataset_v2_organ_train, # Use the split training data\n",
    "    mode=\"train\",\n",
    "    transform_train=train_transform,\n",
    "    transform_eval=eval_transform, # transform_eval is not used by train mode but good to pass\n",
    ")\n",
    "\n",
    "val_dataset = dataset(\n",
    "    raven_dataset_v2_organ_val, # Use the split validation data\n",
    "    mode=\"val\",    # Set mode to \"val\" or \"test\"\n",
    "    transform_train=train_transform, # Not used by val mode\n",
    "    transform_eval=eval_transform,\n",
    ")\n",
    "\n",
    "test_dataset = dataset(\n",
    "    raven_dataset_v2_organ_test, # Use the split test data\n",
    "    mode=\"val\",    # Set mode to \"val\" or \"test\"\n",
    "    transform_train=train_transform, # Not used by test mode\n",
    "    transform_eval=eval_transform,\n",
    ")"
   ]
  },
  {
   "cell_type": "code",
   "execution_count": 9,
   "id": "cd02e6d3",
   "metadata": {},
   "outputs": [],
   "source": [
    "import torch\n",
    "import torch.nn as nn\n",
    "import numpy as np\n",
    "import time\n",
    "import json\n",
    "from sklearn.model_selection import StratifiedKFold, train_test_split\n",
    "# ==============================================================================\n",
    "# 1. SETUP - Constants and Parameters\n",
    "# ==============================================================================\n",
    "N_SPLITS = 3 # Number of folds for cross-validation\n",
    "PATIENCE = 10 # Early stopping patience\n",
    "VAL_SPLIT_SIZE = 0.20\n",
    "DEVICE = torch.device(\"cuda\" if torch.cuda.is_available() else \"cpu\")\n",
    "EPOCHS = 100\n",
    "LEARNING_RATE = 1e-4\n",
    "BATCH_SIZE = 128"
   ]
  },
  {
   "cell_type": "code",
   "execution_count": 10,
   "id": "1ef67f9d",
   "metadata": {},
   "outputs": [
    {
     "name": "stdout",
     "output_type": "stream",
     "text": [
      "Total data for Development (Train+Val): 4950 samples.\n",
      "Test Set size: 550 samples. (Will not be used until the very end)\n"
     ]
    }
   ],
   "source": [
    "from torch.utils.data import TensorDataset, ConcatDataset, Subset, DataLoader\n",
    "\n",
    "dev_dataset = ConcatDataset([train_dataset, val_dataset])\n",
    "dev_dataset_labels = np.concatenate([train_dataset.labels, val_dataset.labels])\n",
    "\n",
    "print(f\"Total data for Development (Train+Val): {len(dev_dataset)} samples.\")\n",
    "print(f\"Test Set size: {len(test_dataset)} samples. (Will not be used until the very end)\")"
   ]
  },
  {
   "cell_type": "markdown",
   "id": "351dd637",
   "metadata": {},
   "source": [
    "# RADIO-2 STL"
   ]
  },
  {
   "cell_type": "code",
   "execution_count": 11,
   "id": "daad8524",
   "metadata": {},
   "outputs": [],
   "source": [
    "model_folder_name = \"RADIO2_MXGNet\"\n",
    "from tensorboardX import SummaryWriter\n",
    "import time"
   ]
  },
  {
   "cell_type": "code",
   "execution_count": 12,
   "id": "f0177fd9",
   "metadata": {},
   "outputs": [
    {
     "name": "stdout",
     "output_type": "stream",
     "text": [
      "\n",
      "========================= PERFORMING NESTED CROSS-VALIDATION =========================\n",
      "\n",
      "--- Outer Fold 1/3 ---\n",
      "Training on 2640, Validating on 660...\n"
     ]
    },
    {
     "name": "stderr",
     "output_type": "stream",
     "text": [
      "Training:   0%|          | 0/21 [00:00<?, ?it/s]/vol/bitbucket/icc24/MSRGNN/RADIO/mxgnet.py:119: UserWarning: Implicit dimension choice for log_softmax has been deprecated. Change the call to include dim=X as an argument.\n",
      "  return F.log_softmax(h_score)\n",
      "/vol/bitbucket/icc24/MSRGNN/RADIO/radam.py:47: UserWarning: This overload of addcmul_ is deprecated:\n",
      "\taddcmul_(Number value, Tensor tensor1, Tensor tensor2)\n",
      "Consider using one of the following signatures instead:\n",
      "\taddcmul_(Tensor tensor1, Tensor tensor2, *, Number value = 1) (Triggered internally at /pytorch/torch/csrc/utils/python_arg_parser.cpp:1661.)\n",
      "  exp_avg_sq.mul_(beta2).addcmul_(1 - beta2, grad, grad)\n",
      "Training: 100%|██████████| 21/21 [00:08<00:00,  2.55it/s]\n"
     ]
    },
    {
     "name": "stdout",
     "output_type": "stream",
     "text": [
      "Epoch Loss: 2.2137, Accuracy: 0.1170\n"
     ]
    },
    {
     "name": "stderr",
     "output_type": "stream",
     "text": [
      "Validating: 100%|██████████| 6/6 [00:01<00:00,  5.67it/s]\n"
     ]
    },
    {
     "name": "stdout",
     "output_type": "stream",
     "text": [
      "  New best model for fold 1 at epoch 1: Val Acc: 0.1015\n"
     ]
    },
    {
     "name": "stderr",
     "output_type": "stream",
     "text": [
      "Training: 100%|██████████| 21/21 [00:07<00:00,  2.83it/s]\n"
     ]
    },
    {
     "name": "stdout",
     "output_type": "stream",
     "text": [
      "Epoch Loss: 2.1793, Accuracy: 0.1341\n"
     ]
    },
    {
     "name": "stderr",
     "output_type": "stream",
     "text": [
      "Validating: 100%|██████████| 6/6 [00:01<00:00,  5.80it/s]\n"
     ]
    },
    {
     "name": "stdout",
     "output_type": "stream",
     "text": [
      "  New best model for fold 1 at epoch 2: Val Acc: 0.1030\n"
     ]
    },
    {
     "name": "stderr",
     "output_type": "stream",
     "text": [
      "Training: 100%|██████████| 21/21 [00:07<00:00,  2.83it/s]\n"
     ]
    },
    {
     "name": "stdout",
     "output_type": "stream",
     "text": [
      "Epoch Loss: 2.1568, Accuracy: 0.1379\n"
     ]
    },
    {
     "name": "stderr",
     "output_type": "stream",
     "text": [
      "Validating: 100%|██████████| 6/6 [00:01<00:00,  5.74it/s]\n"
     ]
    },
    {
     "name": "stdout",
     "output_type": "stream",
     "text": [
      "  New best model for fold 1 at epoch 3: Val Acc: 0.1227\n"
     ]
    },
    {
     "name": "stderr",
     "output_type": "stream",
     "text": [
      "Training: 100%|██████████| 21/21 [00:07<00:00,  2.80it/s]\n"
     ]
    },
    {
     "name": "stdout",
     "output_type": "stream",
     "text": [
      "Epoch Loss: 2.1029, Accuracy: 0.1663\n"
     ]
    },
    {
     "name": "stderr",
     "output_type": "stream",
     "text": [
      "Validating: 100%|██████████| 6/6 [00:01<00:00,  5.65it/s]\n"
     ]
    },
    {
     "name": "stdout",
     "output_type": "stream",
     "text": [
      "  New best model for fold 1 at epoch 4: Val Acc: 0.1364\n"
     ]
    },
    {
     "name": "stderr",
     "output_type": "stream",
     "text": [
      "Training: 100%|██████████| 21/21 [00:07<00:00,  2.82it/s]\n"
     ]
    },
    {
     "name": "stdout",
     "output_type": "stream",
     "text": [
      "Epoch Loss: 2.0635, Accuracy: 0.1731\n"
     ]
    },
    {
     "name": "stderr",
     "output_type": "stream",
     "text": [
      "Validating: 100%|██████████| 6/6 [00:01<00:00,  5.58it/s]\n"
     ]
    },
    {
     "name": "stdout",
     "output_type": "stream",
     "text": [
      "  New best model for fold 1 at epoch 5: Val Acc: 0.1409\n"
     ]
    },
    {
     "name": "stderr",
     "output_type": "stream",
     "text": [
      "Training: 100%|██████████| 21/21 [00:07<00:00,  2.81it/s]\n"
     ]
    },
    {
     "name": "stdout",
     "output_type": "stream",
     "text": [
      "Epoch Loss: 2.0359, Accuracy: 0.2034\n"
     ]
    },
    {
     "name": "stderr",
     "output_type": "stream",
     "text": [
      "Validating: 100%|██████████| 6/6 [00:01<00:00,  5.40it/s]\n",
      "Training: 100%|██████████| 21/21 [00:07<00:00,  2.83it/s]\n"
     ]
    },
    {
     "name": "stdout",
     "output_type": "stream",
     "text": [
      "Epoch Loss: 1.9724, Accuracy: 0.2394\n"
     ]
    },
    {
     "name": "stderr",
     "output_type": "stream",
     "text": [
      "Validating: 100%|██████████| 6/6 [00:01<00:00,  5.64it/s]\n"
     ]
    },
    {
     "name": "stdout",
     "output_type": "stream",
     "text": [
      "  New best model for fold 1 at epoch 7: Val Acc: 0.1424\n"
     ]
    },
    {
     "name": "stderr",
     "output_type": "stream",
     "text": [
      "Training: 100%|██████████| 21/21 [00:07<00:00,  2.83it/s]\n"
     ]
    },
    {
     "name": "stdout",
     "output_type": "stream",
     "text": [
      "Epoch Loss: 1.9252, Accuracy: 0.2561\n"
     ]
    },
    {
     "name": "stderr",
     "output_type": "stream",
     "text": [
      "Validating: 100%|██████████| 6/6 [00:01<00:00,  5.59it/s]\n",
      "Training: 100%|██████████| 21/21 [00:07<00:00,  2.84it/s]\n"
     ]
    },
    {
     "name": "stdout",
     "output_type": "stream",
     "text": [
      "Epoch Loss: 1.8684, Accuracy: 0.3080\n"
     ]
    },
    {
     "name": "stderr",
     "output_type": "stream",
     "text": [
      "Validating: 100%|██████████| 6/6 [00:01<00:00,  5.42it/s]\n"
     ]
    },
    {
     "name": "stdout",
     "output_type": "stream",
     "text": [
      "  New best model for fold 1 at epoch 9: Val Acc: 0.1470\n"
     ]
    },
    {
     "name": "stderr",
     "output_type": "stream",
     "text": [
      "Training: 100%|██████████| 21/21 [00:07<00:00,  2.84it/s]\n"
     ]
    },
    {
     "name": "stdout",
     "output_type": "stream",
     "text": [
      "Epoch Loss: 1.8203, Accuracy: 0.3235\n"
     ]
    },
    {
     "name": "stderr",
     "output_type": "stream",
     "text": [
      "Validating: 100%|██████████| 6/6 [00:01<00:00,  5.70it/s]\n"
     ]
    },
    {
     "name": "stdout",
     "output_type": "stream",
     "text": [
      "  New best model for fold 1 at epoch 10: Val Acc: 0.1576\n"
     ]
    },
    {
     "name": "stderr",
     "output_type": "stream",
     "text": [
      "Training: 100%|██████████| 21/21 [00:07<00:00,  2.81it/s]\n"
     ]
    },
    {
     "name": "stdout",
     "output_type": "stream",
     "text": [
      "Epoch Loss: 1.7563, Accuracy: 0.3742\n"
     ]
    },
    {
     "name": "stderr",
     "output_type": "stream",
     "text": [
      "Validating: 100%|██████████| 6/6 [00:01<00:00,  5.76it/s]\n",
      "Training: 100%|██████████| 21/21 [00:07<00:00,  2.78it/s]\n"
     ]
    },
    {
     "name": "stdout",
     "output_type": "stream",
     "text": [
      "Epoch Loss: 1.6817, Accuracy: 0.4466\n"
     ]
    },
    {
     "name": "stderr",
     "output_type": "stream",
     "text": [
      "Validating: 100%|██████████| 6/6 [00:01<00:00,  5.75it/s]\n",
      "Training: 100%|██████████| 21/21 [00:07<00:00,  2.83it/s]\n"
     ]
    },
    {
     "name": "stdout",
     "output_type": "stream",
     "text": [
      "Epoch Loss: 1.6330, Accuracy: 0.4784\n"
     ]
    },
    {
     "name": "stderr",
     "output_type": "stream",
     "text": [
      "Validating: 100%|██████████| 6/6 [00:01<00:00,  5.65it/s]\n",
      "Training: 100%|██████████| 21/21 [00:07<00:00,  2.78it/s]\n"
     ]
    },
    {
     "name": "stdout",
     "output_type": "stream",
     "text": [
      "Epoch Loss: 1.5288, Accuracy: 0.5519\n"
     ]
    },
    {
     "name": "stderr",
     "output_type": "stream",
     "text": [
      "Validating: 100%|██████████| 6/6 [00:01<00:00,  5.40it/s]\n",
      "Training: 100%|██████████| 21/21 [00:07<00:00,  2.79it/s]\n"
     ]
    },
    {
     "name": "stdout",
     "output_type": "stream",
     "text": [
      "Epoch Loss: 1.4527, Accuracy: 0.6034\n"
     ]
    },
    {
     "name": "stderr",
     "output_type": "stream",
     "text": [
      "Validating: 100%|██████████| 6/6 [00:01<00:00,  5.70it/s]\n",
      "Training: 100%|██████████| 21/21 [00:07<00:00,  2.81it/s]\n"
     ]
    },
    {
     "name": "stdout",
     "output_type": "stream",
     "text": [
      "Epoch Loss: 1.3700, Accuracy: 0.6542\n"
     ]
    },
    {
     "name": "stderr",
     "output_type": "stream",
     "text": [
      "Validating: 100%|██████████| 6/6 [00:01<00:00,  5.38it/s]\n"
     ]
    },
    {
     "name": "stdout",
     "output_type": "stream",
     "text": [
      "  New best model for fold 1 at epoch 16: Val Acc: 0.1591\n"
     ]
    },
    {
     "name": "stderr",
     "output_type": "stream",
     "text": [
      "Training: 100%|██████████| 21/21 [00:07<00:00,  2.79it/s]\n"
     ]
    },
    {
     "name": "stdout",
     "output_type": "stream",
     "text": [
      "Epoch Loss: 1.2815, Accuracy: 0.7197\n"
     ]
    },
    {
     "name": "stderr",
     "output_type": "stream",
     "text": [
      "Validating: 100%|██████████| 6/6 [00:01<00:00,  5.73it/s]\n"
     ]
    },
    {
     "name": "stdout",
     "output_type": "stream",
     "text": [
      "  New best model for fold 1 at epoch 17: Val Acc: 0.1636\n"
     ]
    },
    {
     "name": "stderr",
     "output_type": "stream",
     "text": [
      "Training: 100%|██████████| 21/21 [00:07<00:00,  2.77it/s]\n"
     ]
    },
    {
     "name": "stdout",
     "output_type": "stream",
     "text": [
      "Epoch Loss: 1.1860, Accuracy: 0.7678\n"
     ]
    },
    {
     "name": "stderr",
     "output_type": "stream",
     "text": [
      "Validating: 100%|██████████| 6/6 [00:01<00:00,  5.64it/s]\n"
     ]
    },
    {
     "name": "stdout",
     "output_type": "stream",
     "text": [
      "  New best model for fold 1 at epoch 18: Val Acc: 0.1742\n"
     ]
    },
    {
     "name": "stderr",
     "output_type": "stream",
     "text": [
      "Training: 100%|██████████| 21/21 [00:07<00:00,  2.81it/s]\n"
     ]
    },
    {
     "name": "stdout",
     "output_type": "stream",
     "text": [
      "Epoch Loss: 1.0884, Accuracy: 0.8261\n"
     ]
    },
    {
     "name": "stderr",
     "output_type": "stream",
     "text": [
      "Validating: 100%|██████████| 6/6 [00:01<00:00,  5.62it/s]\n",
      "Training: 100%|██████████| 21/21 [00:07<00:00,  2.81it/s]\n"
     ]
    },
    {
     "name": "stdout",
     "output_type": "stream",
     "text": [
      "Epoch Loss: 0.9947, Accuracy: 0.8587\n"
     ]
    },
    {
     "name": "stderr",
     "output_type": "stream",
     "text": [
      "Validating: 100%|██████████| 6/6 [00:01<00:00,  5.74it/s]\n",
      "Training: 100%|██████████| 21/21 [00:07<00:00,  2.83it/s]\n"
     ]
    },
    {
     "name": "stdout",
     "output_type": "stream",
     "text": [
      "Epoch Loss: 0.8631, Accuracy: 0.9117\n"
     ]
    },
    {
     "name": "stderr",
     "output_type": "stream",
     "text": [
      "Validating: 100%|██████████| 6/6 [00:01<00:00,  5.45it/s]\n"
     ]
    },
    {
     "name": "stdout",
     "output_type": "stream",
     "text": [
      "  New best model for fold 1 at epoch 21: Val Acc: 0.1848\n"
     ]
    },
    {
     "name": "stderr",
     "output_type": "stream",
     "text": [
      "Training: 100%|██████████| 21/21 [00:07<00:00,  2.82it/s]\n"
     ]
    },
    {
     "name": "stdout",
     "output_type": "stream",
     "text": [
      "Epoch Loss: 0.7823, Accuracy: 0.9348\n"
     ]
    },
    {
     "name": "stderr",
     "output_type": "stream",
     "text": [
      "Validating: 100%|██████████| 6/6 [00:01<00:00,  5.51it/s]\n",
      "Training: 100%|██████████| 21/21 [00:07<00:00,  2.82it/s]\n"
     ]
    },
    {
     "name": "stdout",
     "output_type": "stream",
     "text": [
      "Epoch Loss: 0.7138, Accuracy: 0.9572\n"
     ]
    },
    {
     "name": "stderr",
     "output_type": "stream",
     "text": [
      "Validating: 100%|██████████| 6/6 [00:01<00:00,  5.63it/s]\n",
      "Training: 100%|██████████| 21/21 [00:07<00:00,  2.82it/s]\n"
     ]
    },
    {
     "name": "stdout",
     "output_type": "stream",
     "text": [
      "Epoch Loss: 0.6093, Accuracy: 0.9648\n"
     ]
    },
    {
     "name": "stderr",
     "output_type": "stream",
     "text": [
      "Validating: 100%|██████████| 6/6 [00:01<00:00,  5.63it/s]\n",
      "Training: 100%|██████████| 21/21 [00:07<00:00,  2.78it/s]\n"
     ]
    },
    {
     "name": "stdout",
     "output_type": "stream",
     "text": [
      "Epoch Loss: 0.5372, Accuracy: 0.9788\n"
     ]
    },
    {
     "name": "stderr",
     "output_type": "stream",
     "text": [
      "Validating: 100%|██████████| 6/6 [00:01<00:00,  5.67it/s]\n",
      "Training: 100%|██████████| 21/21 [00:07<00:00,  2.78it/s]\n"
     ]
    },
    {
     "name": "stdout",
     "output_type": "stream",
     "text": [
      "Epoch Loss: 0.4515, Accuracy: 0.9894\n"
     ]
    },
    {
     "name": "stderr",
     "output_type": "stream",
     "text": [
      "Validating: 100%|██████████| 6/6 [00:01<00:00,  5.68it/s]\n",
      "Training: 100%|██████████| 21/21 [00:07<00:00,  2.80it/s]\n"
     ]
    },
    {
     "name": "stdout",
     "output_type": "stream",
     "text": [
      "Epoch Loss: 0.3913, Accuracy: 0.9936\n"
     ]
    },
    {
     "name": "stderr",
     "output_type": "stream",
     "text": [
      "Validating: 100%|██████████| 6/6 [00:01<00:00,  5.62it/s]\n"
     ]
    },
    {
     "name": "stdout",
     "output_type": "stream",
     "text": [
      "  New best model for fold 1 at epoch 27: Val Acc: 0.1894\n"
     ]
    },
    {
     "name": "stderr",
     "output_type": "stream",
     "text": [
      "Training: 100%|██████████| 21/21 [00:07<00:00,  2.78it/s]\n"
     ]
    },
    {
     "name": "stdout",
     "output_type": "stream",
     "text": [
      "Epoch Loss: 0.3249, Accuracy: 0.9989\n"
     ]
    },
    {
     "name": "stderr",
     "output_type": "stream",
     "text": [
      "Validating: 100%|██████████| 6/6 [00:01<00:00,  5.74it/s]\n",
      "Training: 100%|██████████| 21/21 [00:07<00:00,  2.82it/s]\n"
     ]
    },
    {
     "name": "stdout",
     "output_type": "stream",
     "text": [
      "Epoch Loss: 0.2965, Accuracy: 0.9970\n"
     ]
    },
    {
     "name": "stderr",
     "output_type": "stream",
     "text": [
      "Validating: 100%|██████████| 6/6 [00:01<00:00,  5.70it/s]\n",
      "Training: 100%|██████████| 21/21 [00:07<00:00,  2.79it/s]\n"
     ]
    },
    {
     "name": "stdout",
     "output_type": "stream",
     "text": [
      "Epoch Loss: 0.2397, Accuracy: 0.9985\n"
     ]
    },
    {
     "name": "stderr",
     "output_type": "stream",
     "text": [
      "Validating: 100%|██████████| 6/6 [00:01<00:00,  5.64it/s]\n",
      "Training: 100%|██████████| 21/21 [00:07<00:00,  2.80it/s]\n"
     ]
    },
    {
     "name": "stdout",
     "output_type": "stream",
     "text": [
      "Epoch Loss: 0.2097, Accuracy: 0.9992\n"
     ]
    },
    {
     "name": "stderr",
     "output_type": "stream",
     "text": [
      "Validating: 100%|██████████| 6/6 [00:01<00:00,  5.68it/s]\n",
      "Training: 100%|██████████| 21/21 [00:07<00:00,  2.81it/s]\n"
     ]
    },
    {
     "name": "stdout",
     "output_type": "stream",
     "text": [
      "Epoch Loss: 0.1958, Accuracy: 0.9985\n"
     ]
    },
    {
     "name": "stderr",
     "output_type": "stream",
     "text": [
      "Validating: 100%|██████████| 6/6 [00:01<00:00,  5.60it/s]\n"
     ]
    },
    {
     "name": "stdout",
     "output_type": "stream",
     "text": [
      "  New best model for fold 1 at epoch 32: Val Acc: 0.1924\n"
     ]
    },
    {
     "name": "stderr",
     "output_type": "stream",
     "text": [
      "Training: 100%|██████████| 21/21 [00:07<00:00,  2.81it/s]\n"
     ]
    },
    {
     "name": "stdout",
     "output_type": "stream",
     "text": [
      "Epoch Loss: 0.1589, Accuracy: 1.0000\n"
     ]
    },
    {
     "name": "stderr",
     "output_type": "stream",
     "text": [
      "Validating: 100%|██████████| 6/6 [00:01<00:00,  5.67it/s]\n"
     ]
    },
    {
     "name": "stdout",
     "output_type": "stream",
     "text": [
      "  New best model for fold 1 at epoch 33: Val Acc: 0.2045\n"
     ]
    },
    {
     "name": "stderr",
     "output_type": "stream",
     "text": [
      "Training: 100%|██████████| 21/21 [00:07<00:00,  2.81it/s]\n"
     ]
    },
    {
     "name": "stdout",
     "output_type": "stream",
     "text": [
      "Epoch Loss: 0.1428, Accuracy: 1.0000\n"
     ]
    },
    {
     "name": "stderr",
     "output_type": "stream",
     "text": [
      "Validating: 100%|██████████| 6/6 [00:01<00:00,  5.68it/s]\n",
      "Training: 100%|██████████| 21/21 [00:07<00:00,  2.83it/s]\n"
     ]
    },
    {
     "name": "stdout",
     "output_type": "stream",
     "text": [
      "Epoch Loss: 0.1213, Accuracy: 1.0000\n"
     ]
    },
    {
     "name": "stderr",
     "output_type": "stream",
     "text": [
      "Validating: 100%|██████████| 6/6 [00:01<00:00,  5.70it/s]\n",
      "Training: 100%|██████████| 21/21 [00:07<00:00,  2.83it/s]\n"
     ]
    },
    {
     "name": "stdout",
     "output_type": "stream",
     "text": [
      "Epoch Loss: 0.1097, Accuracy: 1.0000\n"
     ]
    },
    {
     "name": "stderr",
     "output_type": "stream",
     "text": [
      "Validating: 100%|██████████| 6/6 [00:01<00:00,  5.65it/s]\n",
      "Training: 100%|██████████| 21/21 [00:07<00:00,  2.82it/s]\n"
     ]
    },
    {
     "name": "stdout",
     "output_type": "stream",
     "text": [
      "Epoch Loss: 0.1077, Accuracy: 0.9996\n"
     ]
    },
    {
     "name": "stderr",
     "output_type": "stream",
     "text": [
      "Validating: 100%|██████████| 6/6 [00:01<00:00,  5.61it/s]\n",
      "Training: 100%|██████████| 21/21 [00:07<00:00,  2.82it/s]\n"
     ]
    },
    {
     "name": "stdout",
     "output_type": "stream",
     "text": [
      "Epoch Loss: 0.0967, Accuracy: 1.0000\n"
     ]
    },
    {
     "name": "stderr",
     "output_type": "stream",
     "text": [
      "Validating: 100%|██████████| 6/6 [00:01<00:00,  5.61it/s]\n",
      "Training: 100%|██████████| 21/21 [00:07<00:00,  2.79it/s]\n"
     ]
    },
    {
     "name": "stdout",
     "output_type": "stream",
     "text": [
      "Epoch Loss: 0.0843, Accuracy: 1.0000\n"
     ]
    },
    {
     "name": "stderr",
     "output_type": "stream",
     "text": [
      "Validating: 100%|██████████| 6/6 [00:01<00:00,  5.56it/s]\n",
      "Training: 100%|██████████| 21/21 [00:07<00:00,  2.82it/s]\n"
     ]
    },
    {
     "name": "stdout",
     "output_type": "stream",
     "text": [
      "Epoch Loss: 0.0710, Accuracy: 1.0000\n"
     ]
    },
    {
     "name": "stderr",
     "output_type": "stream",
     "text": [
      "Validating: 100%|██████████| 6/6 [00:01<00:00,  5.64it/s]\n",
      "Training: 100%|██████████| 21/21 [00:07<00:00,  2.82it/s]\n"
     ]
    },
    {
     "name": "stdout",
     "output_type": "stream",
     "text": [
      "Epoch Loss: 0.0653, Accuracy: 1.0000\n"
     ]
    },
    {
     "name": "stderr",
     "output_type": "stream",
     "text": [
      "Validating: 100%|██████████| 6/6 [00:01<00:00,  5.64it/s]\n",
      "Training: 100%|██████████| 21/21 [00:07<00:00,  2.81it/s]\n"
     ]
    },
    {
     "name": "stdout",
     "output_type": "stream",
     "text": [
      "Epoch Loss: 0.0701, Accuracy: 1.0000\n"
     ]
    },
    {
     "name": "stderr",
     "output_type": "stream",
     "text": [
      "Validating: 100%|██████████| 6/6 [00:01<00:00,  5.55it/s]\n",
      "Training: 100%|██████████| 21/21 [00:07<00:00,  2.83it/s]\n"
     ]
    },
    {
     "name": "stdout",
     "output_type": "stream",
     "text": [
      "Epoch Loss: 0.0594, Accuracy: 1.0000\n"
     ]
    },
    {
     "name": "stderr",
     "output_type": "stream",
     "text": [
      "Validating: 100%|██████████| 6/6 [00:01<00:00,  5.77it/s]\n"
     ]
    },
    {
     "name": "stdout",
     "output_type": "stream",
     "text": [
      "  New best model for fold 1 at epoch 43: Val Acc: 0.2076\n"
     ]
    },
    {
     "name": "stderr",
     "output_type": "stream",
     "text": [
      "Training: 100%|██████████| 21/21 [00:07<00:00,  2.82it/s]\n"
     ]
    },
    {
     "name": "stdout",
     "output_type": "stream",
     "text": [
      "Epoch Loss: 0.0563, Accuracy: 1.0000\n"
     ]
    },
    {
     "name": "stderr",
     "output_type": "stream",
     "text": [
      "Validating: 100%|██████████| 6/6 [00:01<00:00,  5.67it/s]\n",
      "Training: 100%|██████████| 21/21 [00:07<00:00,  2.79it/s]\n"
     ]
    },
    {
     "name": "stdout",
     "output_type": "stream",
     "text": [
      "Epoch Loss: 0.0554, Accuracy: 1.0000\n"
     ]
    },
    {
     "name": "stderr",
     "output_type": "stream",
     "text": [
      "Validating: 100%|██████████| 6/6 [00:01<00:00,  5.71it/s]\n",
      "Training: 100%|██████████| 21/21 [00:07<00:00,  2.83it/s]\n"
     ]
    },
    {
     "name": "stdout",
     "output_type": "stream",
     "text": [
      "Epoch Loss: 0.0485, Accuracy: 1.0000\n"
     ]
    },
    {
     "name": "stderr",
     "output_type": "stream",
     "text": [
      "Validating: 100%|██████████| 6/6 [00:01<00:00,  5.48it/s]\n",
      "Training: 100%|██████████| 21/21 [00:07<00:00,  2.81it/s]\n"
     ]
    },
    {
     "name": "stdout",
     "output_type": "stream",
     "text": [
      "Epoch Loss: 0.0452, Accuracy: 1.0000\n"
     ]
    },
    {
     "name": "stderr",
     "output_type": "stream",
     "text": [
      "Validating: 100%|██████████| 6/6 [00:01<00:00,  5.43it/s]\n",
      "Training: 100%|██████████| 21/21 [00:07<00:00,  2.83it/s]\n"
     ]
    },
    {
     "name": "stdout",
     "output_type": "stream",
     "text": [
      "Epoch Loss: 0.0435, Accuracy: 1.0000\n"
     ]
    },
    {
     "name": "stderr",
     "output_type": "stream",
     "text": [
      "Validating: 100%|██████████| 6/6 [00:01<00:00,  5.66it/s]\n",
      "Training: 100%|██████████| 21/21 [00:07<00:00,  2.77it/s]\n"
     ]
    },
    {
     "name": "stdout",
     "output_type": "stream",
     "text": [
      "Epoch Loss: 0.0417, Accuracy: 1.0000\n"
     ]
    },
    {
     "name": "stderr",
     "output_type": "stream",
     "text": [
      "Validating: 100%|██████████| 6/6 [00:01<00:00,  5.70it/s]\n",
      "Training: 100%|██████████| 21/21 [00:07<00:00,  2.82it/s]\n"
     ]
    },
    {
     "name": "stdout",
     "output_type": "stream",
     "text": [
      "Epoch Loss: 0.0407, Accuracy: 1.0000\n"
     ]
    },
    {
     "name": "stderr",
     "output_type": "stream",
     "text": [
      "Validating: 100%|██████████| 6/6 [00:01<00:00,  5.65it/s]\n",
      "Training: 100%|██████████| 21/21 [00:07<00:00,  2.79it/s]\n"
     ]
    },
    {
     "name": "stdout",
     "output_type": "stream",
     "text": [
      "Epoch Loss: 0.0375, Accuracy: 1.0000\n"
     ]
    },
    {
     "name": "stderr",
     "output_type": "stream",
     "text": [
      "Validating: 100%|██████████| 6/6 [00:01<00:00,  5.65it/s]\n",
      "Training: 100%|██████████| 21/21 [00:07<00:00,  2.82it/s]\n"
     ]
    },
    {
     "name": "stdout",
     "output_type": "stream",
     "text": [
      "Epoch Loss: 0.0339, Accuracy: 1.0000\n"
     ]
    },
    {
     "name": "stderr",
     "output_type": "stream",
     "text": [
      "Validating: 100%|██████████| 6/6 [00:01<00:00,  5.62it/s]\n",
      "Training: 100%|██████████| 21/21 [00:07<00:00,  2.81it/s]\n"
     ]
    },
    {
     "name": "stdout",
     "output_type": "stream",
     "text": [
      "Epoch Loss: 0.0336, Accuracy: 1.0000\n"
     ]
    },
    {
     "name": "stderr",
     "output_type": "stream",
     "text": [
      "Validating: 100%|██████████| 6/6 [00:01<00:00,  5.60it/s]\n"
     ]
    },
    {
     "name": "stdout",
     "output_type": "stream",
     "text": [
      "  Early stopping at epoch 53.\n",
      "Loading best model for fold 1 (achieved 0.2076 on inner val set).\n"
     ]
    },
    {
     "name": "stderr",
     "output_type": "stream",
     "text": [
      "Validating: 100%|██████████| 13/13 [00:01<00:00,  7.65it/s]\n"
     ]
    },
    {
     "name": "stdout",
     "output_type": "stream",
     "text": [
      "Performance on Outer Test Set for fold 1: 0.2024\n",
      "\n",
      "--- Outer Fold 2/3 ---\n",
      "Training on 2640, Validating on 660...\n"
     ]
    },
    {
     "name": "stderr",
     "output_type": "stream",
     "text": [
      "Training:   0%|          | 0/21 [00:00<?, ?it/s]/vol/bitbucket/icc24/MSRGNN/RADIO/mxgnet.py:119: UserWarning: Implicit dimension choice for log_softmax has been deprecated. Change the call to include dim=X as an argument.\n",
      "  return F.log_softmax(h_score)\n",
      "Training: 100%|██████████| 21/21 [00:07<00:00,  2.83it/s]\n"
     ]
    },
    {
     "name": "stdout",
     "output_type": "stream",
     "text": [
      "Epoch Loss: 2.2073, Accuracy: 0.1250\n"
     ]
    },
    {
     "name": "stderr",
     "output_type": "stream",
     "text": [
      "Validating: 100%|██████████| 6/6 [00:01<00:00,  5.60it/s]\n"
     ]
    },
    {
     "name": "stdout",
     "output_type": "stream",
     "text": [
      "  New best model for fold 2 at epoch 1: Val Acc: 0.1333\n"
     ]
    },
    {
     "name": "stderr",
     "output_type": "stream",
     "text": [
      "Training: 100%|██████████| 21/21 [00:07<00:00,  2.80it/s]\n"
     ]
    },
    {
     "name": "stdout",
     "output_type": "stream",
     "text": [
      "Epoch Loss: 2.1934, Accuracy: 0.1269\n"
     ]
    },
    {
     "name": "stderr",
     "output_type": "stream",
     "text": [
      "Validating: 100%|██████████| 6/6 [00:01<00:00,  5.46it/s]\n",
      "Training: 100%|██████████| 21/21 [00:07<00:00,  2.82it/s]\n"
     ]
    },
    {
     "name": "stdout",
     "output_type": "stream",
     "text": [
      "Epoch Loss: 2.1662, Accuracy: 0.1318\n"
     ]
    },
    {
     "name": "stderr",
     "output_type": "stream",
     "text": [
      "Validating: 100%|██████████| 6/6 [00:01<00:00,  5.60it/s]\n",
      "Training: 100%|██████████| 21/21 [00:07<00:00,  2.81it/s]\n"
     ]
    },
    {
     "name": "stdout",
     "output_type": "stream",
     "text": [
      "Epoch Loss: 2.1082, Accuracy: 0.1674\n"
     ]
    },
    {
     "name": "stderr",
     "output_type": "stream",
     "text": [
      "Validating: 100%|██████████| 6/6 [00:01<00:00,  5.65it/s]\n",
      "Training: 100%|██████████| 21/21 [00:07<00:00,  2.80it/s]\n"
     ]
    },
    {
     "name": "stdout",
     "output_type": "stream",
     "text": [
      "Epoch Loss: 2.0542, Accuracy: 0.1966\n"
     ]
    },
    {
     "name": "stderr",
     "output_type": "stream",
     "text": [
      "Validating: 100%|██████████| 6/6 [00:01<00:00,  5.52it/s]\n"
     ]
    },
    {
     "name": "stdout",
     "output_type": "stream",
     "text": [
      "  New best model for fold 2 at epoch 5: Val Acc: 0.1530\n"
     ]
    },
    {
     "name": "stderr",
     "output_type": "stream",
     "text": [
      "Training: 100%|██████████| 21/21 [00:07<00:00,  2.83it/s]\n"
     ]
    },
    {
     "name": "stdout",
     "output_type": "stream",
     "text": [
      "Epoch Loss: 2.0320, Accuracy: 0.1970\n"
     ]
    },
    {
     "name": "stderr",
     "output_type": "stream",
     "text": [
      "Validating: 100%|██████████| 6/6 [00:01<00:00,  5.64it/s]\n"
     ]
    },
    {
     "name": "stdout",
     "output_type": "stream",
     "text": [
      "  New best model for fold 2 at epoch 6: Val Acc: 0.1561\n"
     ]
    },
    {
     "name": "stderr",
     "output_type": "stream",
     "text": [
      "Training: 100%|██████████| 21/21 [00:07<00:00,  2.78it/s]\n"
     ]
    },
    {
     "name": "stdout",
     "output_type": "stream",
     "text": [
      "Epoch Loss: 1.9657, Accuracy: 0.2402\n"
     ]
    },
    {
     "name": "stderr",
     "output_type": "stream",
     "text": [
      "Validating: 100%|██████████| 6/6 [00:01<00:00,  5.57it/s]\n",
      "Training: 100%|██████████| 21/21 [00:07<00:00,  2.79it/s]\n"
     ]
    },
    {
     "name": "stdout",
     "output_type": "stream",
     "text": [
      "Epoch Loss: 1.9229, Accuracy: 0.2598\n"
     ]
    },
    {
     "name": "stderr",
     "output_type": "stream",
     "text": [
      "Validating: 100%|██████████| 6/6 [00:01<00:00,  5.67it/s]\n",
      "Training: 100%|██████████| 21/21 [00:07<00:00,  2.83it/s]\n"
     ]
    },
    {
     "name": "stdout",
     "output_type": "stream",
     "text": [
      "Epoch Loss: 1.8890, Accuracy: 0.2920\n"
     ]
    },
    {
     "name": "stderr",
     "output_type": "stream",
     "text": [
      "Validating: 100%|██████████| 6/6 [00:01<00:00,  5.55it/s]\n",
      "Training: 100%|██████████| 21/21 [00:07<00:00,  2.80it/s]\n"
     ]
    },
    {
     "name": "stdout",
     "output_type": "stream",
     "text": [
      "Epoch Loss: 1.8231, Accuracy: 0.3345\n"
     ]
    },
    {
     "name": "stderr",
     "output_type": "stream",
     "text": [
      "Validating: 100%|██████████| 6/6 [00:01<00:00,  5.69it/s]\n",
      "Training: 100%|██████████| 21/21 [00:07<00:00,  2.79it/s]\n"
     ]
    },
    {
     "name": "stdout",
     "output_type": "stream",
     "text": [
      "Epoch Loss: 1.7597, Accuracy: 0.3795\n"
     ]
    },
    {
     "name": "stderr",
     "output_type": "stream",
     "text": [
      "Validating: 100%|██████████| 6/6 [00:01<00:00,  5.61it/s]\n",
      "Training: 100%|██████████| 21/21 [00:07<00:00,  2.79it/s]\n"
     ]
    },
    {
     "name": "stdout",
     "output_type": "stream",
     "text": [
      "Epoch Loss: 1.6976, Accuracy: 0.4352\n"
     ]
    },
    {
     "name": "stderr",
     "output_type": "stream",
     "text": [
      "Validating: 100%|██████████| 6/6 [00:01<00:00,  5.57it/s]\n",
      "Training: 100%|██████████| 21/21 [00:07<00:00,  2.79it/s]\n"
     ]
    },
    {
     "name": "stdout",
     "output_type": "stream",
     "text": [
      "Epoch Loss: 1.6278, Accuracy: 0.4837\n"
     ]
    },
    {
     "name": "stderr",
     "output_type": "stream",
     "text": [
      "Validating: 100%|██████████| 6/6 [00:01<00:00,  5.63it/s]\n",
      "Training: 100%|██████████| 21/21 [00:07<00:00,  2.77it/s]\n"
     ]
    },
    {
     "name": "stdout",
     "output_type": "stream",
     "text": [
      "Epoch Loss: 1.5588, Accuracy: 0.5333\n"
     ]
    },
    {
     "name": "stderr",
     "output_type": "stream",
     "text": [
      "Validating: 100%|██████████| 6/6 [00:01<00:00,  5.31it/s]\n",
      "Training: 100%|██████████| 21/21 [00:07<00:00,  2.82it/s]\n"
     ]
    },
    {
     "name": "stdout",
     "output_type": "stream",
     "text": [
      "Epoch Loss: 1.4680, Accuracy: 0.5951\n"
     ]
    },
    {
     "name": "stderr",
     "output_type": "stream",
     "text": [
      "Validating: 100%|██████████| 6/6 [00:01<00:00,  5.63it/s]\n",
      "Training: 100%|██████████| 21/21 [00:07<00:00,  2.82it/s]\n"
     ]
    },
    {
     "name": "stdout",
     "output_type": "stream",
     "text": [
      "Epoch Loss: 1.3988, Accuracy: 0.6527\n"
     ]
    },
    {
     "name": "stderr",
     "output_type": "stream",
     "text": [
      "Validating: 100%|██████████| 6/6 [00:01<00:00,  5.17it/s]\n"
     ]
    },
    {
     "name": "stdout",
     "output_type": "stream",
     "text": [
      "  Early stopping at epoch 16.\n",
      "Loading best model for fold 2 (achieved 0.1561 on inner val set).\n"
     ]
    },
    {
     "name": "stderr",
     "output_type": "stream",
     "text": [
      "Validating: 100%|██████████| 13/13 [00:01<00:00,  7.59it/s]\n"
     ]
    },
    {
     "name": "stdout",
     "output_type": "stream",
     "text": [
      "Performance on Outer Test Set for fold 2: 0.1321\n",
      "\n",
      "--- Outer Fold 3/3 ---\n",
      "Training on 2640, Validating on 660...\n"
     ]
    },
    {
     "name": "stderr",
     "output_type": "stream",
     "text": [
      "Training:   0%|          | 0/21 [00:00<?, ?it/s]/vol/bitbucket/icc24/MSRGNN/RADIO/mxgnet.py:119: UserWarning: Implicit dimension choice for log_softmax has been deprecated. Change the call to include dim=X as an argument.\n",
      "  return F.log_softmax(h_score)\n",
      "Training: 100%|██████████| 21/21 [00:07<00:00,  2.81it/s]\n"
     ]
    },
    {
     "name": "stdout",
     "output_type": "stream",
     "text": [
      "Epoch Loss: 2.2286, Accuracy: 0.1265\n"
     ]
    },
    {
     "name": "stderr",
     "output_type": "stream",
     "text": [
      "Validating: 100%|██████████| 6/6 [00:01<00:00,  5.61it/s]\n"
     ]
    },
    {
     "name": "stdout",
     "output_type": "stream",
     "text": [
      "  New best model for fold 3 at epoch 1: Val Acc: 0.1045\n"
     ]
    },
    {
     "name": "stderr",
     "output_type": "stream",
     "text": [
      "Training: 100%|██████████| 21/21 [00:07<00:00,  2.80it/s]\n"
     ]
    },
    {
     "name": "stdout",
     "output_type": "stream",
     "text": [
      "Epoch Loss: 2.2176, Accuracy: 0.1436\n"
     ]
    },
    {
     "name": "stderr",
     "output_type": "stream",
     "text": [
      "Validating: 100%|██████████| 6/6 [00:01<00:00,  5.35it/s]\n"
     ]
    },
    {
     "name": "stdout",
     "output_type": "stream",
     "text": [
      "  New best model for fold 3 at epoch 2: Val Acc: 0.1197\n"
     ]
    },
    {
     "name": "stderr",
     "output_type": "stream",
     "text": [
      "Training: 100%|██████████| 21/21 [00:07<00:00,  2.80it/s]\n"
     ]
    },
    {
     "name": "stdout",
     "output_type": "stream",
     "text": [
      "Epoch Loss: 2.1726, Accuracy: 0.1367\n"
     ]
    },
    {
     "name": "stderr",
     "output_type": "stream",
     "text": [
      "Validating: 100%|██████████| 6/6 [00:01<00:00,  5.71it/s]\n"
     ]
    },
    {
     "name": "stdout",
     "output_type": "stream",
     "text": [
      "  New best model for fold 3 at epoch 3: Val Acc: 0.1212\n"
     ]
    },
    {
     "name": "stderr",
     "output_type": "stream",
     "text": [
      "Training: 100%|██████████| 21/21 [00:07<00:00,  2.83it/s]\n"
     ]
    },
    {
     "name": "stdout",
     "output_type": "stream",
     "text": [
      "Epoch Loss: 2.1382, Accuracy: 0.1508\n"
     ]
    },
    {
     "name": "stderr",
     "output_type": "stream",
     "text": [
      "Validating: 100%|██████████| 6/6 [00:01<00:00,  5.57it/s]\n"
     ]
    },
    {
     "name": "stdout",
     "output_type": "stream",
     "text": [
      "  New best model for fold 3 at epoch 4: Val Acc: 0.1318\n"
     ]
    },
    {
     "name": "stderr",
     "output_type": "stream",
     "text": [
      "Training: 100%|██████████| 21/21 [00:07<00:00,  2.81it/s]\n"
     ]
    },
    {
     "name": "stdout",
     "output_type": "stream",
     "text": [
      "Epoch Loss: 2.0870, Accuracy: 0.1674\n"
     ]
    },
    {
     "name": "stderr",
     "output_type": "stream",
     "text": [
      "Validating: 100%|██████████| 6/6 [00:01<00:00,  5.79it/s]\n"
     ]
    },
    {
     "name": "stdout",
     "output_type": "stream",
     "text": [
      "  New best model for fold 3 at epoch 5: Val Acc: 0.1333\n"
     ]
    },
    {
     "name": "stderr",
     "output_type": "stream",
     "text": [
      "Training: 100%|██████████| 21/21 [00:07<00:00,  2.82it/s]\n"
     ]
    },
    {
     "name": "stdout",
     "output_type": "stream",
     "text": [
      "Epoch Loss: 2.0218, Accuracy: 0.2144\n"
     ]
    },
    {
     "name": "stderr",
     "output_type": "stream",
     "text": [
      "Validating: 100%|██████████| 6/6 [00:01<00:00,  5.70it/s]\n"
     ]
    },
    {
     "name": "stdout",
     "output_type": "stream",
     "text": [
      "  New best model for fold 3 at epoch 6: Val Acc: 0.1364\n"
     ]
    },
    {
     "name": "stderr",
     "output_type": "stream",
     "text": [
      "Training: 100%|██████████| 21/21 [00:07<00:00,  2.79it/s]\n"
     ]
    },
    {
     "name": "stdout",
     "output_type": "stream",
     "text": [
      "Epoch Loss: 1.9917, Accuracy: 0.2197\n"
     ]
    },
    {
     "name": "stderr",
     "output_type": "stream",
     "text": [
      "Validating: 100%|██████████| 6/6 [00:01<00:00,  5.62it/s]\n"
     ]
    },
    {
     "name": "stdout",
     "output_type": "stream",
     "text": [
      "  New best model for fold 3 at epoch 7: Val Acc: 0.1424\n"
     ]
    },
    {
     "name": "stderr",
     "output_type": "stream",
     "text": [
      "Training: 100%|██████████| 21/21 [00:07<00:00,  2.83it/s]\n"
     ]
    },
    {
     "name": "stdout",
     "output_type": "stream",
     "text": [
      "Epoch Loss: 1.9303, Accuracy: 0.2610\n"
     ]
    },
    {
     "name": "stderr",
     "output_type": "stream",
     "text": [
      "Validating: 100%|██████████| 6/6 [00:01<00:00,  5.53it/s]\n",
      "Training: 100%|██████████| 21/21 [00:07<00:00,  2.79it/s]\n"
     ]
    },
    {
     "name": "stdout",
     "output_type": "stream",
     "text": [
      "Epoch Loss: 1.8853, Accuracy: 0.2826\n"
     ]
    },
    {
     "name": "stderr",
     "output_type": "stream",
     "text": [
      "Validating: 100%|██████████| 6/6 [00:01<00:00,  5.70it/s]\n"
     ]
    },
    {
     "name": "stdout",
     "output_type": "stream",
     "text": [
      "  New best model for fold 3 at epoch 9: Val Acc: 0.1485\n"
     ]
    },
    {
     "name": "stderr",
     "output_type": "stream",
     "text": [
      "Training: 100%|██████████| 21/21 [00:07<00:00,  2.81it/s]\n"
     ]
    },
    {
     "name": "stdout",
     "output_type": "stream",
     "text": [
      "Epoch Loss: 1.8243, Accuracy: 0.3330\n"
     ]
    },
    {
     "name": "stderr",
     "output_type": "stream",
     "text": [
      "Validating: 100%|██████████| 6/6 [00:01<00:00,  5.71it/s]\n",
      "Training: 100%|██████████| 21/21 [00:07<00:00,  2.80it/s]\n"
     ]
    },
    {
     "name": "stdout",
     "output_type": "stream",
     "text": [
      "Epoch Loss: 1.7562, Accuracy: 0.3716\n"
     ]
    },
    {
     "name": "stderr",
     "output_type": "stream",
     "text": [
      "Validating: 100%|██████████| 6/6 [00:01<00:00,  5.63it/s]\n"
     ]
    },
    {
     "name": "stdout",
     "output_type": "stream",
     "text": [
      "  New best model for fold 3 at epoch 11: Val Acc: 0.1515\n"
     ]
    },
    {
     "name": "stderr",
     "output_type": "stream",
     "text": [
      "Training: 100%|██████████| 21/21 [00:07<00:00,  2.77it/s]\n"
     ]
    },
    {
     "name": "stdout",
     "output_type": "stream",
     "text": [
      "Epoch Loss: 1.7001, Accuracy: 0.4307\n"
     ]
    },
    {
     "name": "stderr",
     "output_type": "stream",
     "text": [
      "Validating: 100%|██████████| 6/6 [00:01<00:00,  5.69it/s]\n",
      "Training: 100%|██████████| 21/21 [00:07<00:00,  2.82it/s]\n"
     ]
    },
    {
     "name": "stdout",
     "output_type": "stream",
     "text": [
      "Epoch Loss: 1.6257, Accuracy: 0.4841\n"
     ]
    },
    {
     "name": "stderr",
     "output_type": "stream",
     "text": [
      "Validating: 100%|██████████| 6/6 [00:01<00:00,  5.54it/s]\n",
      "Training: 100%|██████████| 21/21 [00:07<00:00,  2.80it/s]\n"
     ]
    },
    {
     "name": "stdout",
     "output_type": "stream",
     "text": [
      "Epoch Loss: 1.5566, Accuracy: 0.5337\n"
     ]
    },
    {
     "name": "stderr",
     "output_type": "stream",
     "text": [
      "Validating: 100%|██████████| 6/6 [00:01<00:00,  5.66it/s]\n"
     ]
    },
    {
     "name": "stdout",
     "output_type": "stream",
     "text": [
      "  New best model for fold 3 at epoch 14: Val Acc: 0.1530\n"
     ]
    },
    {
     "name": "stderr",
     "output_type": "stream",
     "text": [
      "Training: 100%|██████████| 21/21 [00:07<00:00,  2.78it/s]\n"
     ]
    },
    {
     "name": "stdout",
     "output_type": "stream",
     "text": [
      "Epoch Loss: 1.4693, Accuracy: 0.5977\n"
     ]
    },
    {
     "name": "stderr",
     "output_type": "stream",
     "text": [
      "Validating: 100%|██████████| 6/6 [00:01<00:00,  5.61it/s]\n",
      "Training: 100%|██████████| 21/21 [00:07<00:00,  2.80it/s]\n"
     ]
    },
    {
     "name": "stdout",
     "output_type": "stream",
     "text": [
      "Epoch Loss: 1.3916, Accuracy: 0.6534\n"
     ]
    },
    {
     "name": "stderr",
     "output_type": "stream",
     "text": [
      "Validating: 100%|██████████| 6/6 [00:01<00:00,  5.43it/s]\n"
     ]
    },
    {
     "name": "stdout",
     "output_type": "stream",
     "text": [
      "  New best model for fold 3 at epoch 16: Val Acc: 0.1545\n"
     ]
    },
    {
     "name": "stderr",
     "output_type": "stream",
     "text": [
      "Training: 100%|██████████| 21/21 [00:07<00:00,  2.80it/s]\n"
     ]
    },
    {
     "name": "stdout",
     "output_type": "stream",
     "text": [
      "Epoch Loss: 1.3076, Accuracy: 0.7027\n"
     ]
    },
    {
     "name": "stderr",
     "output_type": "stream",
     "text": [
      "Validating: 100%|██████████| 6/6 [00:01<00:00,  5.56it/s]\n"
     ]
    },
    {
     "name": "stdout",
     "output_type": "stream",
     "text": [
      "  New best model for fold 3 at epoch 17: Val Acc: 0.1576\n"
     ]
    },
    {
     "name": "stderr",
     "output_type": "stream",
     "text": [
      "Training: 100%|██████████| 21/21 [00:07<00:00,  2.80it/s]\n"
     ]
    },
    {
     "name": "stdout",
     "output_type": "stream",
     "text": [
      "Epoch Loss: 1.1929, Accuracy: 0.7814\n"
     ]
    },
    {
     "name": "stderr",
     "output_type": "stream",
     "text": [
      "Validating: 100%|██████████| 6/6 [00:01<00:00,  5.73it/s]\n",
      "Training: 100%|██████████| 21/21 [00:07<00:00,  2.80it/s]\n"
     ]
    },
    {
     "name": "stdout",
     "output_type": "stream",
     "text": [
      "Epoch Loss: 1.1061, Accuracy: 0.8193\n"
     ]
    },
    {
     "name": "stderr",
     "output_type": "stream",
     "text": [
      "Validating: 100%|██████████| 6/6 [00:01<00:00,  5.55it/s]\n",
      "Training: 100%|██████████| 21/21 [00:07<00:00,  2.80it/s]\n"
     ]
    },
    {
     "name": "stdout",
     "output_type": "stream",
     "text": [
      "Epoch Loss: 1.0110, Accuracy: 0.8655\n"
     ]
    },
    {
     "name": "stderr",
     "output_type": "stream",
     "text": [
      "Validating: 100%|██████████| 6/6 [00:01<00:00,  5.59it/s]\n"
     ]
    },
    {
     "name": "stdout",
     "output_type": "stream",
     "text": [
      "  New best model for fold 3 at epoch 20: Val Acc: 0.1636\n"
     ]
    },
    {
     "name": "stderr",
     "output_type": "stream",
     "text": [
      "Training: 100%|██████████| 21/21 [00:07<00:00,  2.82it/s]\n"
     ]
    },
    {
     "name": "stdout",
     "output_type": "stream",
     "text": [
      "Epoch Loss: 0.9002, Accuracy: 0.9038\n"
     ]
    },
    {
     "name": "stderr",
     "output_type": "stream",
     "text": [
      "Validating: 100%|██████████| 6/6 [00:01<00:00,  5.30it/s]\n",
      "Training: 100%|██████████| 21/21 [00:07<00:00,  2.82it/s]\n"
     ]
    },
    {
     "name": "stdout",
     "output_type": "stream",
     "text": [
      "Epoch Loss: 0.8085, Accuracy: 0.9265\n"
     ]
    },
    {
     "name": "stderr",
     "output_type": "stream",
     "text": [
      "Validating: 100%|██████████| 6/6 [00:01<00:00,  5.63it/s]\n"
     ]
    },
    {
     "name": "stdout",
     "output_type": "stream",
     "text": [
      "  New best model for fold 3 at epoch 22: Val Acc: 0.1667\n"
     ]
    },
    {
     "name": "stderr",
     "output_type": "stream",
     "text": [
      "Training: 100%|██████████| 21/21 [00:07<00:00,  2.79it/s]\n"
     ]
    },
    {
     "name": "stdout",
     "output_type": "stream",
     "text": [
      "Epoch Loss: 0.7112, Accuracy: 0.9496\n"
     ]
    },
    {
     "name": "stderr",
     "output_type": "stream",
     "text": [
      "Validating: 100%|██████████| 6/6 [00:01<00:00,  5.81it/s]\n",
      "Training: 100%|██████████| 21/21 [00:07<00:00,  2.83it/s]\n"
     ]
    },
    {
     "name": "stdout",
     "output_type": "stream",
     "text": [
      "Epoch Loss: 0.6219, Accuracy: 0.9663\n"
     ]
    },
    {
     "name": "stderr",
     "output_type": "stream",
     "text": [
      "Validating: 100%|██████████| 6/6 [00:01<00:00,  5.56it/s]\n"
     ]
    },
    {
     "name": "stdout",
     "output_type": "stream",
     "text": [
      "  New best model for fold 3 at epoch 24: Val Acc: 0.1682\n"
     ]
    },
    {
     "name": "stderr",
     "output_type": "stream",
     "text": [
      "Training: 100%|██████████| 21/21 [00:07<00:00,  2.77it/s]\n"
     ]
    },
    {
     "name": "stdout",
     "output_type": "stream",
     "text": [
      "Epoch Loss: 0.5319, Accuracy: 0.9818\n"
     ]
    },
    {
     "name": "stderr",
     "output_type": "stream",
     "text": [
      "Validating: 100%|██████████| 6/6 [00:01<00:00,  5.62it/s]\n",
      "Training: 100%|██████████| 21/21 [00:07<00:00,  2.79it/s]\n"
     ]
    },
    {
     "name": "stdout",
     "output_type": "stream",
     "text": [
      "Epoch Loss: 0.4447, Accuracy: 0.9920\n"
     ]
    },
    {
     "name": "stderr",
     "output_type": "stream",
     "text": [
      "Validating: 100%|██████████| 6/6 [00:01<00:00,  5.64it/s]\n",
      "Training: 100%|██████████| 21/21 [00:07<00:00,  2.80it/s]\n"
     ]
    },
    {
     "name": "stdout",
     "output_type": "stream",
     "text": [
      "Epoch Loss: 0.3740, Accuracy: 0.9951\n"
     ]
    },
    {
     "name": "stderr",
     "output_type": "stream",
     "text": [
      "Validating: 100%|██████████| 6/6 [00:01<00:00,  5.50it/s]\n",
      "Training: 100%|██████████| 21/21 [00:07<00:00,  2.80it/s]\n"
     ]
    },
    {
     "name": "stdout",
     "output_type": "stream",
     "text": [
      "Epoch Loss: 0.3283, Accuracy: 0.9973\n"
     ]
    },
    {
     "name": "stderr",
     "output_type": "stream",
     "text": [
      "Validating: 100%|██████████| 6/6 [00:01<00:00,  5.55it/s]\n"
     ]
    },
    {
     "name": "stdout",
     "output_type": "stream",
     "text": [
      "  New best model for fold 3 at epoch 28: Val Acc: 0.1727\n"
     ]
    },
    {
     "name": "stderr",
     "output_type": "stream",
     "text": [
      "Training: 100%|██████████| 21/21 [00:07<00:00,  2.82it/s]\n"
     ]
    },
    {
     "name": "stdout",
     "output_type": "stream",
     "text": [
      "Epoch Loss: 0.2757, Accuracy: 0.9977\n"
     ]
    },
    {
     "name": "stderr",
     "output_type": "stream",
     "text": [
      "Validating: 100%|██████████| 6/6 [00:01<00:00,  5.64it/s]\n",
      "Training: 100%|██████████| 21/21 [00:07<00:00,  2.77it/s]\n"
     ]
    },
    {
     "name": "stdout",
     "output_type": "stream",
     "text": [
      "Epoch Loss: 0.2349, Accuracy: 1.0000\n"
     ]
    },
    {
     "name": "stderr",
     "output_type": "stream",
     "text": [
      "Validating: 100%|██████████| 6/6 [00:01<00:00,  5.58it/s]\n",
      "Training: 100%|██████████| 21/21 [00:07<00:00,  2.82it/s]\n"
     ]
    },
    {
     "name": "stdout",
     "output_type": "stream",
     "text": [
      "Epoch Loss: 0.2147, Accuracy: 1.0000\n"
     ]
    },
    {
     "name": "stderr",
     "output_type": "stream",
     "text": [
      "Validating: 100%|██████████| 6/6 [00:01<00:00,  5.62it/s]\n",
      "Training: 100%|██████████| 21/21 [00:07<00:00,  2.82it/s]\n"
     ]
    },
    {
     "name": "stdout",
     "output_type": "stream",
     "text": [
      "Epoch Loss: 0.1788, Accuracy: 1.0000\n"
     ]
    },
    {
     "name": "stderr",
     "output_type": "stream",
     "text": [
      "Validating: 100%|██████████| 6/6 [00:01<00:00,  5.52it/s]\n",
      "Training: 100%|██████████| 21/21 [00:07<00:00,  2.82it/s]\n"
     ]
    },
    {
     "name": "stdout",
     "output_type": "stream",
     "text": [
      "Epoch Loss: 0.1474, Accuracy: 1.0000\n"
     ]
    },
    {
     "name": "stderr",
     "output_type": "stream",
     "text": [
      "Validating: 100%|██████████| 6/6 [00:01<00:00,  5.61it/s]\n",
      "Training: 100%|██████████| 21/21 [00:07<00:00,  2.77it/s]\n"
     ]
    },
    {
     "name": "stdout",
     "output_type": "stream",
     "text": [
      "Epoch Loss: 0.1324, Accuracy: 1.0000\n"
     ]
    },
    {
     "name": "stderr",
     "output_type": "stream",
     "text": [
      "Validating: 100%|██████████| 6/6 [00:01<00:00,  5.68it/s]\n",
      "Training: 100%|██████████| 21/21 [00:07<00:00,  2.80it/s]\n"
     ]
    },
    {
     "name": "stdout",
     "output_type": "stream",
     "text": [
      "Epoch Loss: 0.1249, Accuracy: 1.0000\n"
     ]
    },
    {
     "name": "stderr",
     "output_type": "stream",
     "text": [
      "Validating: 100%|██████████| 6/6 [00:01<00:00,  5.67it/s]\n",
      "Training: 100%|██████████| 21/21 [00:07<00:00,  2.79it/s]\n"
     ]
    },
    {
     "name": "stdout",
     "output_type": "stream",
     "text": [
      "Epoch Loss: 0.1061, Accuracy: 1.0000\n"
     ]
    },
    {
     "name": "stderr",
     "output_type": "stream",
     "text": [
      "Validating: 100%|██████████| 6/6 [00:01<00:00,  5.44it/s]\n",
      "Training: 100%|██████████| 21/21 [00:07<00:00,  2.82it/s]\n"
     ]
    },
    {
     "name": "stdout",
     "output_type": "stream",
     "text": [
      "Epoch Loss: 0.0932, Accuracy: 1.0000\n"
     ]
    },
    {
     "name": "stderr",
     "output_type": "stream",
     "text": [
      "Validating: 100%|██████████| 6/6 [00:01<00:00,  5.75it/s]\n",
      "Training: 100%|██████████| 21/21 [00:07<00:00,  2.80it/s]\n"
     ]
    },
    {
     "name": "stdout",
     "output_type": "stream",
     "text": [
      "Epoch Loss: 0.0889, Accuracy: 1.0000\n"
     ]
    },
    {
     "name": "stderr",
     "output_type": "stream",
     "text": [
      "Validating: 100%|██████████| 6/6 [00:01<00:00,  5.70it/s]\n"
     ]
    },
    {
     "name": "stdout",
     "output_type": "stream",
     "text": [
      "  Early stopping at epoch 38.\n",
      "Loading best model for fold 3 (achieved 0.1727 on inner val set).\n"
     ]
    },
    {
     "name": "stderr",
     "output_type": "stream",
     "text": [
      "Validating: 100%|██████████| 13/13 [00:01<00:00,  7.50it/s]"
     ]
    },
    {
     "name": "stdout",
     "output_type": "stream",
     "text": [
      "Performance on Outer Test Set for fold 3: 0.1667\n",
      "\n",
      "--- NESTED CROSS VALIDATION COMPLETE ---\n",
      "Cross-validation accuracies on outer folds: ['0.2024', '0.1321', '0.1667']\n",
      "Mean CV Accuracy: 0.1671 ± 0.0287\n"
     ]
    },
    {
     "name": "stderr",
     "output_type": "stream",
     "text": [
      "\n"
     ]
    }
   ],
   "source": [
    "from tensorboardX import SummaryWriter\n",
    "import time\n",
    "\n",
    "\n",
    "print(f\"\\n{'='*25} PERFORMING NESTED CROSS-VALIDATION {'='*25}\")\n",
    "\n",
    "outer_kfold = StratifiedKFold(n_splits=N_SPLITS, shuffle=True, random_state=RANDOM_SEED)\n",
    "fold_test_results = []\n",
    "\n",
    "for fold, (train_outer_idx, test_outer_idx) in enumerate(outer_kfold.split(np.zeros(len(dev_dataset)), dev_dataset_labels)):\n",
    "    print(f\"\\n--- Outer Fold {fold+1}/{N_SPLITS} ---\")\n",
    "    writer = SummaryWriter(log_dir=f'runs/{model_folder_name}/fold_{fold+1}')\n",
    "\n",
    "    # Create inner train/val split from the outer training set\n",
    "    train_outer_labels = dev_dataset_labels[train_outer_idx]\n",
    "    train_inner_idx, val_inner_idx = train_test_split(\n",
    "        train_outer_idx, test_size=VAL_SPLIT_SIZE, shuffle=True, stratify=train_outer_labels, random_state=RANDOM_SEED\n",
    "    )\n",
    "\n",
    "    # Create subsets from the DEVELOPMENT dataset\n",
    "    train_inner_subset = Subset(dev_dataset, train_inner_idx)\n",
    "    val_inner_subset = Subset(dev_dataset, val_inner_idx)\n",
    "    test_outer_subset = Subset(dev_dataset, test_outer_idx) # This is the \"test set\" for this fold\n",
    "\n",
    "    train_loader = DataLoader(train_inner_subset, batch_size=BATCH_SIZE, shuffle=True, num_workers=6, pin_memory=True)\n",
    "    val_loader = DataLoader(val_inner_subset, batch_size=BATCH_SIZE, shuffle=False, num_workers=6, pin_memory=True)\n",
    "    test_loader = DataLoader(test_outer_subset, batch_size=BATCH_SIZE, shuffle=False, num_workers=6, pin_memory=True)\n",
    "\n",
    "    model = Model(IMG_SIZE, IMG_SIZE,beta=0, batch_size=BATCH_SIZE).to(DEVICE)\n",
    "    optimizer = RAdam(model.parameters(), lr=LEARNING_RATE)\n",
    "    criterion = nn.NLLLoss()\n",
    "    scheduler = None\n",
    "    scaler = None\n",
    "\n",
    "\n",
    "    best_model_path = f\"./saved_models/{model_folder_name}/best_model_fold_{fold+1}.pth\"\n",
    "    os.makedirs(f\"./saved_models/{model_folder_name}\", exist_ok=True)\n",
    "    best_val_acc_fold = 0.0\n",
    "    epochs_without_improvement = 0\n",
    "\n",
    "    print(f\"Training on {len(train_inner_subset)}, Validating on {len(val_inner_subset)}...\")\n",
    "    for epoch in range(1, EPOCHS + 1):\n",
    "        train_start_time = time.time()\n",
    "        train_loss, train_acc = train_epoch(model, train_loader, optimizer, criterion, DEVICE)\n",
    "        train_end_time = time.time()\n",
    "        train_time = train_end_time - train_start_time\n",
    "\n",
    "        val_loss, val_acc = validate(model, val_loader, criterion, DEVICE)\n",
    "\n",
    "        writer.add_scalar('CV/Loss/train', train_loss, epoch)\n",
    "        writer.add_scalar('CV/Accuracy/train', train_acc, epoch)\n",
    "        writer.add_scalar('CV/Loss/val', val_loss, epoch)\n",
    "        writer.add_scalar('CV/Accuracy/val', val_acc, epoch)\n",
    "        writer.add_scalar('CV/Time/train', train_time, epoch)\n",
    "\n",
    "        memory_allocated = torch.cuda.memory_allocated(DEVICE) if torch.cuda.is_available() else 0\n",
    "        memory_reserved = torch.cuda.memory_reserved(DEVICE) if torch.cuda.is_available() else 0\n",
    "\n",
    "        writer.add_scalar('CV/Memory/allocated', memory_allocated, epoch)\n",
    "        writer.add_scalar('CV/Memory/reserved', memory_reserved, epoch)\n",
    "\n",
    "        if val_acc > best_val_acc_fold:\n",
    "            best_val_acc_fold = val_acc\n",
    "            epochs_without_improvement = 0\n",
    "            torch.save(model.state_dict(), best_model_path)\n",
    "            print(f\"  New best model for fold {fold+1} at epoch {epoch}: Val Acc: {val_acc:.4f}\")\n",
    "        else:\n",
    "            epochs_without_improvement += 1\n",
    "            if epochs_without_improvement >= PATIENCE:\n",
    "                print(f\"  Early stopping at epoch {epoch}.\")\n",
    "                break\n",
    "    \n",
    "    # Evaluate the best model for this fold on the outer test set\n",
    "    print(f\"Loading best model for fold {fold+1} (achieved {best_val_acc_fold:.4f} on inner val set).\")\n",
    "    model.load_state_dict(torch.load(best_model_path))\n",
    "    _, final_fold_test_acc = validate(model, test_loader, criterion, DEVICE)\n",
    "    print(f\"Performance on Outer Test Set for fold {fold+1}: {final_fold_test_acc:.4f}\")\n",
    "    fold_test_results.append(final_fold_test_acc)\n",
    "    writer.add_scalar('CV/Accuracy/test', final_fold_test_acc, epoch)\n",
    "    writer.close()\n",
    "\n",
    "mean_cv_acc = np.mean(fold_test_results)\n",
    "std_cv_acc = np.std(fold_test_results)\n",
    "print(f\"\\n--- NESTED CROSS VALIDATION COMPLETE ---\")\n",
    "print(f\"Cross-validation accuracies on outer folds: {[f'{acc:.4f}' for acc in fold_test_results]}\")\n",
    "print(f\"Mean CV Accuracy: {mean_cv_acc:.4f} ± {std_cv_acc:.4f}\")"
   ]
  },
  {
   "cell_type": "markdown",
   "id": "40934781",
   "metadata": {},
   "source": [
    "# RADIO-1 to RADIO-2 TL"
   ]
  },
  {
   "cell_type": "code",
   "execution_count": null,
   "id": "da931fa9",
   "metadata": {},
   "outputs": [
    {
     "name": "stdout",
     "output_type": "stream",
     "text": [
      "\n",
      "========================= PERFORMING NESTED CROSS-VALIDATION TRANSFER =========================\n",
      "\n",
      "--- Outer Fold 1/3 ---\n",
      "Training on 2640, Validating on 660...\n",
      "\n",
      "Epoch 1/100 for Fold 1\n"
     ]
    },
    {
     "name": "stderr",
     "output_type": "stream",
     "text": [
      "Training:   0%|          | 0/21 [00:00<?, ?it/s]/vol/bitbucket/icc24/MSRGNN/RADIO/mxgnet.py:119: UserWarning: Implicit dimension choice for log_softmax has been deprecated. Change the call to include dim=X as an argument.\n",
      "  return F.log_softmax(h_score)\n",
      "Training: 100%|██████████| 21/21 [00:07<00:00,  2.83it/s]\n"
     ]
    },
    {
     "name": "stdout",
     "output_type": "stream",
     "text": [
      "Epoch Loss: 1.8201, Accuracy: 0.2417\n"
     ]
    },
    {
     "name": "stderr",
     "output_type": "stream",
     "text": [
      "Validating: 100%|██████████| 6/6 [00:01<00:00,  5.57it/s]\n"
     ]
    },
    {
     "name": "stdout",
     "output_type": "stream",
     "text": [
      "  Train Loss: 1.8201, Train Acc: 0.2417, Val Loss: 1.7126, Val Acc: 0.2606, Time: 7.42s\n",
      "  New best model for fold 1 at epoch 1: Val Acc: 0.2606\n",
      "\n",
      "Epoch 2/100 for Fold 1\n"
     ]
    },
    {
     "name": "stderr",
     "output_type": "stream",
     "text": [
      "Training: 100%|██████████| 21/21 [00:07<00:00,  2.83it/s]\n"
     ]
    },
    {
     "name": "stdout",
     "output_type": "stream",
     "text": [
      "Epoch Loss: 1.8027, Accuracy: 0.2436\n"
     ]
    },
    {
     "name": "stderr",
     "output_type": "stream",
     "text": [
      "Validating: 100%|██████████| 6/6 [00:01<00:00,  5.68it/s]\n"
     ]
    },
    {
     "name": "stdout",
     "output_type": "stream",
     "text": [
      "  Train Loss: 1.8027, Train Acc: 0.2436, Val Loss: 1.7007, Val Acc: 0.2561, Time: 7.43s\n",
      "\n",
      "Epoch 3/100 for Fold 1\n"
     ]
    },
    {
     "name": "stderr",
     "output_type": "stream",
     "text": [
      "Training: 100%|██████████| 21/21 [00:07<00:00,  2.82it/s]\n"
     ]
    },
    {
     "name": "stdout",
     "output_type": "stream",
     "text": [
      "Epoch Loss: 1.7729, Accuracy: 0.2689\n"
     ]
    },
    {
     "name": "stderr",
     "output_type": "stream",
     "text": [
      "Validating: 100%|██████████| 6/6 [00:01<00:00,  5.55it/s]\n"
     ]
    },
    {
     "name": "stdout",
     "output_type": "stream",
     "text": [
      "  Train Loss: 1.7729, Train Acc: 0.2689, Val Loss: 1.6964, Val Acc: 0.2561, Time: 7.45s\n",
      "\n",
      "Epoch 4/100 for Fold 1\n"
     ]
    },
    {
     "name": "stderr",
     "output_type": "stream",
     "text": [
      "Training: 100%|██████████| 21/21 [00:07<00:00,  2.78it/s]\n"
     ]
    },
    {
     "name": "stdout",
     "output_type": "stream",
     "text": [
      "Epoch Loss: 1.7621, Accuracy: 0.2663\n"
     ]
    },
    {
     "name": "stderr",
     "output_type": "stream",
     "text": [
      "Validating: 100%|██████████| 6/6 [00:01<00:00,  5.70it/s]\n"
     ]
    },
    {
     "name": "stdout",
     "output_type": "stream",
     "text": [
      "  Train Loss: 1.7621, Train Acc: 0.2663, Val Loss: 1.6966, Val Acc: 0.2561, Time: 7.56s\n",
      "\n",
      "Epoch 5/100 for Fold 1\n"
     ]
    },
    {
     "name": "stderr",
     "output_type": "stream",
     "text": [
      "Training: 100%|██████████| 21/21 [00:07<00:00,  2.80it/s]\n"
     ]
    },
    {
     "name": "stdout",
     "output_type": "stream",
     "text": [
      "Epoch Loss: 1.7405, Accuracy: 0.2905\n"
     ]
    },
    {
     "name": "stderr",
     "output_type": "stream",
     "text": [
      "Validating: 100%|██████████| 6/6 [00:01<00:00,  5.54it/s]\n"
     ]
    },
    {
     "name": "stdout",
     "output_type": "stream",
     "text": [
      "  Train Loss: 1.7405, Train Acc: 0.2905, Val Loss: 1.6912, Val Acc: 0.2606, Time: 7.52s\n",
      "\n",
      "Epoch 6/100 for Fold 1\n"
     ]
    },
    {
     "name": "stderr",
     "output_type": "stream",
     "text": [
      "Training: 100%|██████████| 21/21 [00:07<00:00,  2.78it/s]\n"
     ]
    },
    {
     "name": "stdout",
     "output_type": "stream",
     "text": [
      "Epoch Loss: 1.7120, Accuracy: 0.3091\n"
     ]
    },
    {
     "name": "stderr",
     "output_type": "stream",
     "text": [
      "Validating: 100%|██████████| 6/6 [00:01<00:00,  5.34it/s]\n"
     ]
    },
    {
     "name": "stdout",
     "output_type": "stream",
     "text": [
      "  Train Loss: 1.7120, Train Acc: 0.3091, Val Loss: 1.6930, Val Acc: 0.2485, Time: 7.55s\n",
      "\n",
      "Epoch 7/100 for Fold 1\n"
     ]
    },
    {
     "name": "stderr",
     "output_type": "stream",
     "text": [
      "Training: 100%|██████████| 21/21 [00:07<00:00,  2.80it/s]\n"
     ]
    },
    {
     "name": "stdout",
     "output_type": "stream",
     "text": [
      "Epoch Loss: 1.6961, Accuracy: 0.3186\n"
     ]
    },
    {
     "name": "stderr",
     "output_type": "stream",
     "text": [
      "Validating: 100%|██████████| 6/6 [00:01<00:00,  5.61it/s]\n"
     ]
    },
    {
     "name": "stdout",
     "output_type": "stream",
     "text": [
      "  Train Loss: 1.6961, Train Acc: 0.3186, Val Loss: 1.7015, Val Acc: 0.2667, Time: 7.51s\n",
      "  New best model for fold 1 at epoch 7: Val Acc: 0.2667\n",
      "\n",
      "Epoch 8/100 for Fold 1\n"
     ]
    },
    {
     "name": "stderr",
     "output_type": "stream",
     "text": [
      "Training: 100%|██████████| 21/21 [00:07<00:00,  2.81it/s]\n"
     ]
    },
    {
     "name": "stdout",
     "output_type": "stream",
     "text": [
      "Epoch Loss: 1.6747, Accuracy: 0.3432\n"
     ]
    },
    {
     "name": "stderr",
     "output_type": "stream",
     "text": [
      "Validating: 100%|██████████| 6/6 [00:01<00:00,  5.63it/s]\n"
     ]
    },
    {
     "name": "stdout",
     "output_type": "stream",
     "text": [
      "  Train Loss: 1.6747, Train Acc: 0.3432, Val Loss: 1.6956, Val Acc: 0.2530, Time: 7.48s\n",
      "\n",
      "Epoch 9/100 for Fold 1\n"
     ]
    },
    {
     "name": "stderr",
     "output_type": "stream",
     "text": [
      "Training: 100%|██████████| 21/21 [00:07<00:00,  2.81it/s]\n"
     ]
    },
    {
     "name": "stdout",
     "output_type": "stream",
     "text": [
      "Epoch Loss: 1.6394, Accuracy: 0.3591\n"
     ]
    },
    {
     "name": "stderr",
     "output_type": "stream",
     "text": [
      "Validating: 100%|██████████| 6/6 [00:01<00:00,  5.51it/s]\n"
     ]
    },
    {
     "name": "stdout",
     "output_type": "stream",
     "text": [
      "  Train Loss: 1.6394, Train Acc: 0.3591, Val Loss: 1.7004, Val Acc: 0.2621, Time: 7.49s\n",
      "\n",
      "Epoch 10/100 for Fold 1\n"
     ]
    },
    {
     "name": "stderr",
     "output_type": "stream",
     "text": [
      "Training: 100%|██████████| 21/21 [00:07<00:00,  2.82it/s]\n"
     ]
    },
    {
     "name": "stdout",
     "output_type": "stream",
     "text": [
      "Epoch Loss: 1.5970, Accuracy: 0.3992\n"
     ]
    },
    {
     "name": "stderr",
     "output_type": "stream",
     "text": [
      "Validating: 100%|██████████| 6/6 [00:01<00:00,  5.68it/s]\n"
     ]
    },
    {
     "name": "stdout",
     "output_type": "stream",
     "text": [
      "  Train Loss: 1.5970, Train Acc: 0.3992, Val Loss: 1.7020, Val Acc: 0.2667, Time: 7.45s\n",
      "\n",
      "Epoch 11/100 for Fold 1\n"
     ]
    },
    {
     "name": "stderr",
     "output_type": "stream",
     "text": [
      "Training: 100%|██████████| 21/21 [00:07<00:00,  2.80it/s]\n"
     ]
    },
    {
     "name": "stdout",
     "output_type": "stream",
     "text": [
      "Epoch Loss: 1.5760, Accuracy: 0.4182\n"
     ]
    },
    {
     "name": "stderr",
     "output_type": "stream",
     "text": [
      "Validating: 100%|██████████| 6/6 [00:01<00:00,  5.64it/s]\n"
     ]
    },
    {
     "name": "stdout",
     "output_type": "stream",
     "text": [
      "  Train Loss: 1.5760, Train Acc: 0.4182, Val Loss: 1.7144, Val Acc: 0.2591, Time: 7.51s\n",
      "\n",
      "Epoch 12/100 for Fold 1\n"
     ]
    },
    {
     "name": "stderr",
     "output_type": "stream",
     "text": [
      "Training: 100%|██████████| 21/21 [00:07<00:00,  2.80it/s]\n"
     ]
    },
    {
     "name": "stdout",
     "output_type": "stream",
     "text": [
      "Epoch Loss: 1.5235, Accuracy: 0.4602\n"
     ]
    },
    {
     "name": "stderr",
     "output_type": "stream",
     "text": [
      "Validating: 100%|██████████| 6/6 [00:01<00:00,  5.68it/s]\n"
     ]
    },
    {
     "name": "stdout",
     "output_type": "stream",
     "text": [
      "  Train Loss: 1.5235, Train Acc: 0.4602, Val Loss: 1.7141, Val Acc: 0.2727, Time: 7.52s\n",
      "  New best model for fold 1 at epoch 12: Val Acc: 0.2727\n",
      "\n",
      "Epoch 13/100 for Fold 1\n"
     ]
    },
    {
     "name": "stderr",
     "output_type": "stream",
     "text": [
      "Training: 100%|██████████| 21/21 [00:07<00:00,  2.78it/s]\n"
     ]
    },
    {
     "name": "stdout",
     "output_type": "stream",
     "text": [
      "Epoch Loss: 1.4670, Accuracy: 0.5295\n"
     ]
    },
    {
     "name": "stderr",
     "output_type": "stream",
     "text": [
      "Validating: 100%|██████████| 6/6 [00:01<00:00,  5.65it/s]\n"
     ]
    },
    {
     "name": "stdout",
     "output_type": "stream",
     "text": [
      "  Train Loss: 1.4670, Train Acc: 0.5295, Val Loss: 1.7343, Val Acc: 0.2576, Time: 7.56s\n",
      "\n",
      "Epoch 14/100 for Fold 1\n"
     ]
    },
    {
     "name": "stderr",
     "output_type": "stream",
     "text": [
      "Training: 100%|██████████| 21/21 [00:07<00:00,  2.80it/s]\n"
     ]
    },
    {
     "name": "stdout",
     "output_type": "stream",
     "text": [
      "Epoch Loss: 1.3957, Accuracy: 0.5723\n"
     ]
    },
    {
     "name": "stderr",
     "output_type": "stream",
     "text": [
      "Validating: 100%|██████████| 6/6 [00:01<00:00,  5.43it/s]\n"
     ]
    },
    {
     "name": "stdout",
     "output_type": "stream",
     "text": [
      "  Train Loss: 1.3957, Train Acc: 0.5723, Val Loss: 1.7290, Val Acc: 0.2727, Time: 7.51s\n",
      "\n",
      "Epoch 15/100 for Fold 1\n"
     ]
    },
    {
     "name": "stderr",
     "output_type": "stream",
     "text": [
      "Training: 100%|██████████| 21/21 [00:07<00:00,  2.80it/s]\n"
     ]
    },
    {
     "name": "stdout",
     "output_type": "stream",
     "text": [
      "Epoch Loss: 1.3191, Accuracy: 0.6405\n"
     ]
    },
    {
     "name": "stderr",
     "output_type": "stream",
     "text": [
      "Validating: 100%|██████████| 6/6 [00:01<00:00,  5.62it/s]\n"
     ]
    },
    {
     "name": "stdout",
     "output_type": "stream",
     "text": [
      "  Train Loss: 1.3191, Train Acc: 0.6405, Val Loss: 1.7530, Val Acc: 0.2939, Time: 7.51s\n",
      "  New best model for fold 1 at epoch 15: Val Acc: 0.2939\n",
      "\n",
      "Epoch 16/100 for Fold 1\n"
     ]
    },
    {
     "name": "stderr",
     "output_type": "stream",
     "text": [
      "Training: 100%|██████████| 21/21 [00:07<00:00,  2.82it/s]\n"
     ]
    },
    {
     "name": "stdout",
     "output_type": "stream",
     "text": [
      "Epoch Loss: 1.2429, Accuracy: 0.7008\n"
     ]
    },
    {
     "name": "stderr",
     "output_type": "stream",
     "text": [
      "Validating: 100%|██████████| 6/6 [00:01<00:00,  5.31it/s]\n"
     ]
    },
    {
     "name": "stdout",
     "output_type": "stream",
     "text": [
      "  Train Loss: 1.2429, Train Acc: 0.7008, Val Loss: 1.7708, Val Acc: 0.2803, Time: 7.46s\n",
      "\n",
      "Epoch 17/100 for Fold 1\n"
     ]
    },
    {
     "name": "stderr",
     "output_type": "stream",
     "text": [
      "Training: 100%|██████████| 21/21 [00:07<00:00,  2.79it/s]\n"
     ]
    },
    {
     "name": "stdout",
     "output_type": "stream",
     "text": [
      "Epoch Loss: 1.1274, Accuracy: 0.7712\n"
     ]
    },
    {
     "name": "stderr",
     "output_type": "stream",
     "text": [
      "Validating: 100%|██████████| 6/6 [00:01<00:00,  5.59it/s]\n"
     ]
    },
    {
     "name": "stdout",
     "output_type": "stream",
     "text": [
      "  Train Loss: 1.1274, Train Acc: 0.7712, Val Loss: 1.7844, Val Acc: 0.2682, Time: 7.52s\n",
      "\n",
      "Epoch 18/100 for Fold 1\n"
     ]
    },
    {
     "name": "stderr",
     "output_type": "stream",
     "text": [
      "Training: 100%|██████████| 21/21 [00:07<00:00,  2.81it/s]\n"
     ]
    },
    {
     "name": "stdout",
     "output_type": "stream",
     "text": [
      "Epoch Loss: 1.0267, Accuracy: 0.8314\n"
     ]
    },
    {
     "name": "stderr",
     "output_type": "stream",
     "text": [
      "Validating: 100%|██████████| 6/6 [00:01<00:00,  5.68it/s]\n"
     ]
    },
    {
     "name": "stdout",
     "output_type": "stream",
     "text": [
      "  Train Loss: 1.0267, Train Acc: 0.8314, Val Loss: 1.8057, Val Acc: 0.2621, Time: 7.47s\n",
      "\n",
      "Epoch 19/100 for Fold 1\n"
     ]
    },
    {
     "name": "stderr",
     "output_type": "stream",
     "text": [
      "Training: 100%|██████████| 21/21 [00:07<00:00,  2.79it/s]\n"
     ]
    },
    {
     "name": "stdout",
     "output_type": "stream",
     "text": [
      "Epoch Loss: 0.9080, Accuracy: 0.8822\n"
     ]
    },
    {
     "name": "stderr",
     "output_type": "stream",
     "text": [
      "Validating: 100%|██████████| 6/6 [00:01<00:00,  5.59it/s]\n"
     ]
    },
    {
     "name": "stdout",
     "output_type": "stream",
     "text": [
      "  Train Loss: 0.9080, Train Acc: 0.8822, Val Loss: 1.8331, Val Acc: 0.2636, Time: 7.52s\n",
      "\n",
      "Epoch 20/100 for Fold 1\n"
     ]
    },
    {
     "name": "stderr",
     "output_type": "stream",
     "text": [
      "Training: 100%|██████████| 21/21 [00:07<00:00,  2.83it/s]\n"
     ]
    },
    {
     "name": "stdout",
     "output_type": "stream",
     "text": [
      "Epoch Loss: 0.7818, Accuracy: 0.9277\n"
     ]
    },
    {
     "name": "stderr",
     "output_type": "stream",
     "text": [
      "Validating: 100%|██████████| 6/6 [00:01<00:00,  5.71it/s]\n"
     ]
    },
    {
     "name": "stdout",
     "output_type": "stream",
     "text": [
      "  Train Loss: 0.7818, Train Acc: 0.9277, Val Loss: 1.8533, Val Acc: 0.2606, Time: 7.43s\n",
      "\n",
      "Epoch 21/100 for Fold 1\n"
     ]
    },
    {
     "name": "stderr",
     "output_type": "stream",
     "text": [
      "Training: 100%|██████████| 21/21 [00:07<00:00,  2.81it/s]\n"
     ]
    },
    {
     "name": "stdout",
     "output_type": "stream",
     "text": [
      "Epoch Loss: 0.6779, Accuracy: 0.9538\n"
     ]
    },
    {
     "name": "stderr",
     "output_type": "stream",
     "text": [
      "Validating: 100%|██████████| 6/6 [00:01<00:00,  5.62it/s]\n"
     ]
    },
    {
     "name": "stdout",
     "output_type": "stream",
     "text": [
      "  Train Loss: 0.6779, Train Acc: 0.9538, Val Loss: 1.8731, Val Acc: 0.2500, Time: 7.48s\n",
      "\n",
      "Epoch 22/100 for Fold 1\n"
     ]
    },
    {
     "name": "stderr",
     "output_type": "stream",
     "text": [
      "Training: 100%|██████████| 21/21 [00:07<00:00,  2.83it/s]\n"
     ]
    },
    {
     "name": "stdout",
     "output_type": "stream",
     "text": [
      "Epoch Loss: 0.5711, Accuracy: 0.9811\n"
     ]
    },
    {
     "name": "stderr",
     "output_type": "stream",
     "text": [
      "Validating: 100%|██████████| 6/6 [00:01<00:00,  5.56it/s]\n"
     ]
    },
    {
     "name": "stdout",
     "output_type": "stream",
     "text": [
      "  Train Loss: 0.5711, Train Acc: 0.9811, Val Loss: 1.8996, Val Acc: 0.2727, Time: 7.43s\n",
      "\n",
      "Epoch 23/100 for Fold 1\n"
     ]
    },
    {
     "name": "stderr",
     "output_type": "stream",
     "text": [
      "Training: 100%|██████████| 21/21 [00:07<00:00,  2.81it/s]\n"
     ]
    },
    {
     "name": "stdout",
     "output_type": "stream",
     "text": [
      "Epoch Loss: 0.4749, Accuracy: 0.9917\n"
     ]
    },
    {
     "name": "stderr",
     "output_type": "stream",
     "text": [
      "Validating: 100%|██████████| 6/6 [00:01<00:00,  5.44it/s]\n"
     ]
    },
    {
     "name": "stdout",
     "output_type": "stream",
     "text": [
      "  Train Loss: 0.4749, Train Acc: 0.9917, Val Loss: 1.9229, Val Acc: 0.2591, Time: 7.48s\n",
      "\n",
      "Epoch 24/100 for Fold 1\n"
     ]
    },
    {
     "name": "stderr",
     "output_type": "stream",
     "text": [
      "Training: 100%|██████████| 21/21 [00:07<00:00,  2.78it/s]\n"
     ]
    },
    {
     "name": "stdout",
     "output_type": "stream",
     "text": [
      "Epoch Loss: 0.3930, Accuracy: 0.9966\n"
     ]
    },
    {
     "name": "stderr",
     "output_type": "stream",
     "text": [
      "Validating: 100%|██████████| 6/6 [00:01<00:00,  5.62it/s]\n"
     ]
    },
    {
     "name": "stdout",
     "output_type": "stream",
     "text": [
      "  Train Loss: 0.3930, Train Acc: 0.9966, Val Loss: 1.9451, Val Acc: 0.2576, Time: 7.57s\n",
      "\n",
      "Epoch 25/100 for Fold 1\n"
     ]
    },
    {
     "name": "stderr",
     "output_type": "stream",
     "text": [
      "Training: 100%|██████████| 21/21 [00:07<00:00,  2.83it/s]\n"
     ]
    },
    {
     "name": "stdout",
     "output_type": "stream",
     "text": [
      "Epoch Loss: 0.3224, Accuracy: 0.9977\n"
     ]
    },
    {
     "name": "stderr",
     "output_type": "stream",
     "text": [
      "Validating: 100%|██████████| 6/6 [00:01<00:00,  5.64it/s]\n"
     ]
    },
    {
     "name": "stdout",
     "output_type": "stream",
     "text": [
      "  Train Loss: 0.3224, Train Acc: 0.9977, Val Loss: 1.9823, Val Acc: 0.2576, Time: 7.44s\n",
      "  Early stopping at epoch 25.\n",
      "Loading best model for fold 1 (achieved 0.2939 on inner val set).\n"
     ]
    },
    {
     "name": "stderr",
     "output_type": "stream",
     "text": [
      "Validating: 100%|██████████| 13/13 [00:01<00:00,  7.48it/s]\n"
     ]
    },
    {
     "name": "stdout",
     "output_type": "stream",
     "text": [
      "Performance on Outer Test Set for fold 1: 0.2497\n",
      "\n",
      "--- Outer Fold 2/3 ---\n",
      "Training on 2640, Validating on 660...\n",
      "\n",
      "Epoch 1/100 for Fold 2\n"
     ]
    },
    {
     "name": "stderr",
     "output_type": "stream",
     "text": [
      "Training:   0%|          | 0/21 [00:00<?, ?it/s]/vol/bitbucket/icc24/MSRGNN/RADIO/mxgnet.py:119: UserWarning: Implicit dimension choice for log_softmax has been deprecated. Change the call to include dim=X as an argument.\n",
      "  return F.log_softmax(h_score)\n",
      "Training: 100%|██████████| 21/21 [00:07<00:00,  2.81it/s]\n"
     ]
    },
    {
     "name": "stdout",
     "output_type": "stream",
     "text": [
      "Epoch Loss: 1.8372, Accuracy: 0.2341\n"
     ]
    },
    {
     "name": "stderr",
     "output_type": "stream",
     "text": [
      "Validating: 100%|██████████| 6/6 [00:01<00:00,  5.66it/s]\n"
     ]
    },
    {
     "name": "stdout",
     "output_type": "stream",
     "text": [
      "  Train Loss: 1.8372, Train Acc: 0.2341, Val Loss: 1.7387, Val Acc: 0.2424, Time: 7.47s\n",
      "  New best model for fold 2 at epoch 1: Val Acc: 0.2424\n",
      "\n",
      "Epoch 2/100 for Fold 2\n"
     ]
    },
    {
     "name": "stderr",
     "output_type": "stream",
     "text": [
      "Training: 100%|██████████| 21/21 [00:07<00:00,  2.82it/s]\n"
     ]
    },
    {
     "name": "stdout",
     "output_type": "stream",
     "text": [
      "Epoch Loss: 1.8071, Accuracy: 0.2477\n"
     ]
    },
    {
     "name": "stderr",
     "output_type": "stream",
     "text": [
      "Validating: 100%|██████████| 6/6 [00:01<00:00,  5.59it/s]\n"
     ]
    },
    {
     "name": "stdout",
     "output_type": "stream",
     "text": [
      "  Train Loss: 1.8071, Train Acc: 0.2477, Val Loss: 1.7328, Val Acc: 0.2530, Time: 7.46s\n",
      "  New best model for fold 2 at epoch 2: Val Acc: 0.2530\n",
      "\n",
      "Epoch 3/100 for Fold 2\n"
     ]
    },
    {
     "name": "stderr",
     "output_type": "stream",
     "text": [
      "Training: 100%|██████████| 21/21 [00:07<00:00,  2.79it/s]\n"
     ]
    },
    {
     "name": "stdout",
     "output_type": "stream",
     "text": [
      "Epoch Loss: 1.7956, Accuracy: 0.2542\n"
     ]
    },
    {
     "name": "stderr",
     "output_type": "stream",
     "text": [
      "Validating: 100%|██████████| 6/6 [00:01<00:00,  5.46it/s]\n"
     ]
    },
    {
     "name": "stdout",
     "output_type": "stream",
     "text": [
      "  Train Loss: 1.7956, Train Acc: 0.2542, Val Loss: 1.7272, Val Acc: 0.2576, Time: 7.54s\n",
      "  New best model for fold 2 at epoch 3: Val Acc: 0.2576\n",
      "\n",
      "Epoch 4/100 for Fold 2\n"
     ]
    },
    {
     "name": "stderr",
     "output_type": "stream",
     "text": [
      "Training: 100%|██████████| 21/21 [00:07<00:00,  2.81it/s]\n"
     ]
    },
    {
     "name": "stdout",
     "output_type": "stream",
     "text": [
      "Epoch Loss: 1.7710, Accuracy: 0.2814\n"
     ]
    },
    {
     "name": "stderr",
     "output_type": "stream",
     "text": [
      "Validating: 100%|██████████| 6/6 [00:01<00:00,  5.60it/s]\n"
     ]
    },
    {
     "name": "stdout",
     "output_type": "stream",
     "text": [
      "  Train Loss: 1.7710, Train Acc: 0.2814, Val Loss: 1.7285, Val Acc: 0.2500, Time: 7.48s\n",
      "\n",
      "Epoch 5/100 for Fold 2\n"
     ]
    },
    {
     "name": "stderr",
     "output_type": "stream",
     "text": [
      "Training: 100%|██████████| 21/21 [00:07<00:00,  2.82it/s]\n"
     ]
    },
    {
     "name": "stdout",
     "output_type": "stream",
     "text": [
      "Epoch Loss: 1.7543, Accuracy: 0.2811\n"
     ]
    },
    {
     "name": "stderr",
     "output_type": "stream",
     "text": [
      "Validating: 100%|██████████| 6/6 [00:01<00:00,  5.58it/s]\n"
     ]
    },
    {
     "name": "stdout",
     "output_type": "stream",
     "text": [
      "  Train Loss: 1.7543, Train Acc: 0.2811, Val Loss: 1.7289, Val Acc: 0.2576, Time: 7.44s\n",
      "\n",
      "Epoch 6/100 for Fold 2\n"
     ]
    },
    {
     "name": "stderr",
     "output_type": "stream",
     "text": [
      "Training: 100%|██████████| 21/21 [00:07<00:00,  2.80it/s]\n"
     ]
    },
    {
     "name": "stdout",
     "output_type": "stream",
     "text": [
      "Epoch Loss: 1.7512, Accuracy: 0.2864\n"
     ]
    },
    {
     "name": "stderr",
     "output_type": "stream",
     "text": [
      "Validating: 100%|██████████| 6/6 [00:01<00:00,  5.64it/s]\n"
     ]
    },
    {
     "name": "stdout",
     "output_type": "stream",
     "text": [
      "  Train Loss: 1.7512, Train Acc: 0.2864, Val Loss: 1.7275, Val Acc: 0.2439, Time: 7.50s\n",
      "\n",
      "Epoch 7/100 for Fold 2\n"
     ]
    },
    {
     "name": "stderr",
     "output_type": "stream",
     "text": [
      "Training: 100%|██████████| 21/21 [00:07<00:00,  2.80it/s]\n"
     ]
    },
    {
     "name": "stdout",
     "output_type": "stream",
     "text": [
      "Epoch Loss: 1.7131, Accuracy: 0.3148\n"
     ]
    },
    {
     "name": "stderr",
     "output_type": "stream",
     "text": [
      "Validating: 100%|██████████| 6/6 [00:01<00:00,  5.40it/s]\n"
     ]
    },
    {
     "name": "stdout",
     "output_type": "stream",
     "text": [
      "  Train Loss: 1.7131, Train Acc: 0.3148, Val Loss: 1.7303, Val Acc: 0.2636, Time: 7.50s\n",
      "  New best model for fold 2 at epoch 7: Val Acc: 0.2636\n",
      "\n",
      "Epoch 8/100 for Fold 2\n"
     ]
    },
    {
     "name": "stderr",
     "output_type": "stream",
     "text": [
      "Training: 100%|██████████| 21/21 [00:07<00:00,  2.81it/s]\n"
     ]
    },
    {
     "name": "stdout",
     "output_type": "stream",
     "text": [
      "Epoch Loss: 1.6810, Accuracy: 0.3447\n"
     ]
    },
    {
     "name": "stderr",
     "output_type": "stream",
     "text": [
      "Validating: 100%|██████████| 6/6 [00:01<00:00,  5.68it/s]\n"
     ]
    },
    {
     "name": "stdout",
     "output_type": "stream",
     "text": [
      "  Train Loss: 1.6810, Train Acc: 0.3447, Val Loss: 1.7308, Val Acc: 0.2500, Time: 7.47s\n",
      "\n",
      "Epoch 9/100 for Fold 2\n"
     ]
    },
    {
     "name": "stderr",
     "output_type": "stream",
     "text": [
      "Training: 100%|██████████| 21/21 [00:07<00:00,  2.81it/s]\n"
     ]
    },
    {
     "name": "stdout",
     "output_type": "stream",
     "text": [
      "Epoch Loss: 1.6507, Accuracy: 0.3636\n"
     ]
    },
    {
     "name": "stderr",
     "output_type": "stream",
     "text": [
      "Validating: 100%|██████████| 6/6 [00:01<00:00,  5.57it/s]\n"
     ]
    },
    {
     "name": "stdout",
     "output_type": "stream",
     "text": [
      "  Train Loss: 1.6507, Train Acc: 0.3636, Val Loss: 1.7292, Val Acc: 0.2530, Time: 7.47s\n",
      "\n",
      "Epoch 10/100 for Fold 2\n"
     ]
    },
    {
     "name": "stderr",
     "output_type": "stream",
     "text": [
      "Training: 100%|██████████| 21/21 [00:07<00:00,  2.79it/s]\n"
     ]
    },
    {
     "name": "stdout",
     "output_type": "stream",
     "text": [
      "Epoch Loss: 1.6066, Accuracy: 0.4098\n"
     ]
    },
    {
     "name": "stderr",
     "output_type": "stream",
     "text": [
      "Validating: 100%|██████████| 6/6 [00:01<00:00,  5.71it/s]\n"
     ]
    },
    {
     "name": "stdout",
     "output_type": "stream",
     "text": [
      "  Train Loss: 1.6066, Train Acc: 0.4098, Val Loss: 1.7286, Val Acc: 0.2439, Time: 7.53s\n",
      "\n",
      "Epoch 11/100 for Fold 2\n"
     ]
    },
    {
     "name": "stderr",
     "output_type": "stream",
     "text": [
      "Training: 100%|██████████| 21/21 [00:07<00:00,  2.82it/s]\n"
     ]
    },
    {
     "name": "stdout",
     "output_type": "stream",
     "text": [
      "Epoch Loss: 1.5778, Accuracy: 0.4295\n"
     ]
    },
    {
     "name": "stderr",
     "output_type": "stream",
     "text": [
      "Validating: 100%|██████████| 6/6 [00:01<00:00,  5.26it/s]\n"
     ]
    },
    {
     "name": "stdout",
     "output_type": "stream",
     "text": [
      "  Train Loss: 1.5778, Train Acc: 0.4295, Val Loss: 1.7376, Val Acc: 0.2545, Time: 7.45s\n",
      "\n",
      "Epoch 12/100 for Fold 2\n"
     ]
    },
    {
     "name": "stderr",
     "output_type": "stream",
     "text": [
      "Training: 100%|██████████| 21/21 [00:07<00:00,  2.80it/s]\n"
     ]
    },
    {
     "name": "stdout",
     "output_type": "stream",
     "text": [
      "Epoch Loss: 1.5330, Accuracy: 0.4716\n"
     ]
    },
    {
     "name": "stderr",
     "output_type": "stream",
     "text": [
      "Validating: 100%|██████████| 6/6 [00:01<00:00,  5.74it/s]\n"
     ]
    },
    {
     "name": "stdout",
     "output_type": "stream",
     "text": [
      "  Train Loss: 1.5330, Train Acc: 0.4716, Val Loss: 1.7430, Val Acc: 0.2576, Time: 7.52s\n",
      "\n",
      "Epoch 13/100 for Fold 2\n"
     ]
    },
    {
     "name": "stderr",
     "output_type": "stream",
     "text": [
      "Training: 100%|██████████| 21/21 [00:07<00:00,  2.81it/s]\n"
     ]
    },
    {
     "name": "stdout",
     "output_type": "stream",
     "text": [
      "Epoch Loss: 1.4725, Accuracy: 0.5144\n"
     ]
    },
    {
     "name": "stderr",
     "output_type": "stream",
     "text": [
      "Validating: 100%|██████████| 6/6 [00:01<00:00,  5.73it/s]\n"
     ]
    },
    {
     "name": "stdout",
     "output_type": "stream",
     "text": [
      "  Train Loss: 1.4725, Train Acc: 0.5144, Val Loss: 1.7549, Val Acc: 0.2530, Time: 7.48s\n",
      "\n",
      "Epoch 14/100 for Fold 2\n"
     ]
    },
    {
     "name": "stderr",
     "output_type": "stream",
     "text": [
      "Training: 100%|██████████| 21/21 [00:07<00:00,  2.82it/s]\n"
     ]
    },
    {
     "name": "stdout",
     "output_type": "stream",
     "text": [
      "Epoch Loss: 1.4010, Accuracy: 0.5773\n"
     ]
    },
    {
     "name": "stderr",
     "output_type": "stream",
     "text": [
      "Validating: 100%|██████████| 6/6 [00:01<00:00,  5.64it/s]\n"
     ]
    },
    {
     "name": "stdout",
     "output_type": "stream",
     "text": [
      "  Train Loss: 1.4010, Train Acc: 0.5773, Val Loss: 1.7610, Val Acc: 0.2561, Time: 7.46s\n",
      "\n",
      "Epoch 15/100 for Fold 2\n"
     ]
    },
    {
     "name": "stderr",
     "output_type": "stream",
     "text": [
      "Training: 100%|██████████| 21/21 [00:07<00:00,  2.82it/s]\n"
     ]
    },
    {
     "name": "stdout",
     "output_type": "stream",
     "text": [
      "Epoch Loss: 1.3132, Accuracy: 0.6572\n"
     ]
    },
    {
     "name": "stderr",
     "output_type": "stream",
     "text": [
      "Validating: 100%|██████████| 6/6 [00:01<00:00,  5.69it/s]\n"
     ]
    },
    {
     "name": "stdout",
     "output_type": "stream",
     "text": [
      "  Train Loss: 1.3132, Train Acc: 0.6572, Val Loss: 1.7770, Val Acc: 0.2576, Time: 7.46s\n",
      "\n",
      "Epoch 16/100 for Fold 2\n"
     ]
    },
    {
     "name": "stderr",
     "output_type": "stream",
     "text": [
      "Training: 100%|██████████| 21/21 [00:07<00:00,  2.80it/s]\n"
     ]
    },
    {
     "name": "stdout",
     "output_type": "stream",
     "text": [
      "Epoch Loss: 1.2168, Accuracy: 0.7121\n"
     ]
    },
    {
     "name": "stderr",
     "output_type": "stream",
     "text": [
      "Validating: 100%|██████████| 6/6 [00:01<00:00,  5.62it/s]\n"
     ]
    },
    {
     "name": "stdout",
     "output_type": "stream",
     "text": [
      "  Train Loss: 1.2168, Train Acc: 0.7121, Val Loss: 1.7848, Val Acc: 0.2606, Time: 7.49s\n",
      "\n",
      "Epoch 17/100 for Fold 2\n"
     ]
    },
    {
     "name": "stderr",
     "output_type": "stream",
     "text": [
      "Training: 100%|██████████| 21/21 [00:07<00:00,  2.81it/s]\n"
     ]
    },
    {
     "name": "stdout",
     "output_type": "stream",
     "text": [
      "Epoch Loss: 1.1071, Accuracy: 0.7875\n"
     ]
    },
    {
     "name": "stderr",
     "output_type": "stream",
     "text": [
      "Validating: 100%|██████████| 6/6 [00:01<00:00,  5.69it/s]\n"
     ]
    },
    {
     "name": "stdout",
     "output_type": "stream",
     "text": [
      "  Train Loss: 1.1071, Train Acc: 0.7875, Val Loss: 1.8139, Val Acc: 0.2545, Time: 7.47s\n",
      "  Early stopping at epoch 17.\n",
      "Loading best model for fold 2 (achieved 0.2636 on inner val set).\n"
     ]
    },
    {
     "name": "stderr",
     "output_type": "stream",
     "text": [
      "Validating: 100%|██████████| 13/13 [00:01<00:00,  7.59it/s]\n"
     ]
    },
    {
     "name": "stdout",
     "output_type": "stream",
     "text": [
      "Performance on Outer Test Set for fold 2: 0.2467\n",
      "\n",
      "--- Outer Fold 3/3 ---\n",
      "Training on 2640, Validating on 660...\n",
      "\n",
      "Epoch 1/100 for Fold 3\n"
     ]
    },
    {
     "name": "stderr",
     "output_type": "stream",
     "text": [
      "Training:   0%|          | 0/21 [00:00<?, ?it/s]/vol/bitbucket/icc24/MSRGNN/RADIO/mxgnet.py:119: UserWarning: Implicit dimension choice for log_softmax has been deprecated. Change the call to include dim=X as an argument.\n",
      "  return F.log_softmax(h_score)\n",
      "Training: 100%|██████████| 21/21 [00:07<00:00,  2.81it/s]\n"
     ]
    },
    {
     "name": "stdout",
     "output_type": "stream",
     "text": [
      "Epoch Loss: 1.8343, Accuracy: 0.2455\n"
     ]
    },
    {
     "name": "stderr",
     "output_type": "stream",
     "text": [
      "Validating: 100%|██████████| 6/6 [00:01<00:00,  5.60it/s]\n"
     ]
    },
    {
     "name": "stdout",
     "output_type": "stream",
     "text": [
      "  Train Loss: 1.8343, Train Acc: 0.2455, Val Loss: 1.7620, Val Acc: 0.2545, Time: 7.49s\n",
      "  New best model for fold 3 at epoch 1: Val Acc: 0.2545\n",
      "\n",
      "Epoch 2/100 for Fold 3\n"
     ]
    },
    {
     "name": "stderr",
     "output_type": "stream",
     "text": [
      "Training: 100%|██████████| 21/21 [00:07<00:00,  2.79it/s]\n"
     ]
    },
    {
     "name": "stdout",
     "output_type": "stream",
     "text": [
      "Epoch Loss: 1.8196, Accuracy: 0.2413\n"
     ]
    },
    {
     "name": "stderr",
     "output_type": "stream",
     "text": [
      "Validating: 100%|██████████| 6/6 [00:01<00:00,  5.71it/s]\n"
     ]
    },
    {
     "name": "stdout",
     "output_type": "stream",
     "text": [
      "  Train Loss: 1.8196, Train Acc: 0.2413, Val Loss: 1.7532, Val Acc: 0.2515, Time: 7.52s\n",
      "\n",
      "Epoch 3/100 for Fold 3\n"
     ]
    },
    {
     "name": "stderr",
     "output_type": "stream",
     "text": [
      "Training: 100%|██████████| 21/21 [00:07<00:00,  2.81it/s]\n"
     ]
    },
    {
     "name": "stdout",
     "output_type": "stream",
     "text": [
      "Epoch Loss: 1.7956, Accuracy: 0.2553\n"
     ]
    },
    {
     "name": "stderr",
     "output_type": "stream",
     "text": [
      "Validating: 100%|██████████| 6/6 [00:01<00:00,  5.71it/s]\n"
     ]
    },
    {
     "name": "stdout",
     "output_type": "stream",
     "text": [
      "  Train Loss: 1.7956, Train Acc: 0.2553, Val Loss: 1.7523, Val Acc: 0.2379, Time: 7.47s\n",
      "\n",
      "Epoch 4/100 for Fold 3\n"
     ]
    },
    {
     "name": "stderr",
     "output_type": "stream",
     "text": [
      "Training: 100%|██████████| 21/21 [00:07<00:00,  2.81it/s]\n"
     ]
    },
    {
     "name": "stdout",
     "output_type": "stream",
     "text": [
      "Epoch Loss: 1.7794, Accuracy: 0.2621\n"
     ]
    },
    {
     "name": "stderr",
     "output_type": "stream",
     "text": [
      "Validating: 100%|██████████| 6/6 [00:01<00:00,  5.61it/s]\n"
     ]
    },
    {
     "name": "stdout",
     "output_type": "stream",
     "text": [
      "  Train Loss: 1.7794, Train Acc: 0.2621, Val Loss: 1.7528, Val Acc: 0.2379, Time: 7.48s\n",
      "\n",
      "Epoch 5/100 for Fold 3\n"
     ]
    },
    {
     "name": "stderr",
     "output_type": "stream",
     "text": [
      "Training: 100%|██████████| 21/21 [00:07<00:00,  2.81it/s]\n"
     ]
    },
    {
     "name": "stdout",
     "output_type": "stream",
     "text": [
      "Epoch Loss: 1.7637, Accuracy: 0.2640\n"
     ]
    },
    {
     "name": "stderr",
     "output_type": "stream",
     "text": [
      "Validating: 100%|██████████| 6/6 [00:01<00:00,  5.56it/s]\n"
     ]
    },
    {
     "name": "stdout",
     "output_type": "stream",
     "text": [
      "  Train Loss: 1.7637, Train Acc: 0.2640, Val Loss: 1.7517, Val Acc: 0.2333, Time: 7.48s\n",
      "\n",
      "Epoch 6/100 for Fold 3\n"
     ]
    },
    {
     "name": "stderr",
     "output_type": "stream",
     "text": [
      "Training: 100%|██████████| 21/21 [00:07<00:00,  2.81it/s]\n"
     ]
    },
    {
     "name": "stdout",
     "output_type": "stream",
     "text": [
      "Epoch Loss: 1.7428, Accuracy: 0.2939\n"
     ]
    },
    {
     "name": "stderr",
     "output_type": "stream",
     "text": [
      "Validating: 100%|██████████| 6/6 [00:01<00:00,  5.63it/s]\n"
     ]
    },
    {
     "name": "stdout",
     "output_type": "stream",
     "text": [
      "  Train Loss: 1.7428, Train Acc: 0.2939, Val Loss: 1.7531, Val Acc: 0.2364, Time: 7.48s\n",
      "\n",
      "Epoch 7/100 for Fold 3\n"
     ]
    },
    {
     "name": "stderr",
     "output_type": "stream",
     "text": [
      "Training: 100%|██████████| 21/21 [00:07<00:00,  2.81it/s]\n"
     ]
    },
    {
     "name": "stdout",
     "output_type": "stream",
     "text": [
      "Epoch Loss: 1.7047, Accuracy: 0.3314\n"
     ]
    },
    {
     "name": "stderr",
     "output_type": "stream",
     "text": [
      "Validating: 100%|██████████| 6/6 [00:01<00:00,  5.65it/s]\n"
     ]
    },
    {
     "name": "stdout",
     "output_type": "stream",
     "text": [
      "  Train Loss: 1.7047, Train Acc: 0.3314, Val Loss: 1.7574, Val Acc: 0.2439, Time: 7.47s\n",
      "\n",
      "Epoch 8/100 for Fold 3\n"
     ]
    },
    {
     "name": "stderr",
     "output_type": "stream",
     "text": [
      "Training: 100%|██████████| 21/21 [00:07<00:00,  2.81it/s]\n"
     ]
    },
    {
     "name": "stdout",
     "output_type": "stream",
     "text": [
      "Epoch Loss: 1.6817, Accuracy: 0.3352\n"
     ]
    },
    {
     "name": "stderr",
     "output_type": "stream",
     "text": [
      "Validating: 100%|██████████| 6/6 [00:01<00:00,  5.68it/s]\n"
     ]
    },
    {
     "name": "stdout",
     "output_type": "stream",
     "text": [
      "  Train Loss: 1.6817, Train Acc: 0.3352, Val Loss: 1.7608, Val Acc: 0.2318, Time: 7.47s\n",
      "\n",
      "Epoch 9/100 for Fold 3\n"
     ]
    },
    {
     "name": "stderr",
     "output_type": "stream",
     "text": [
      "Training: 100%|██████████| 21/21 [00:07<00:00,  2.79it/s]\n"
     ]
    },
    {
     "name": "stdout",
     "output_type": "stream",
     "text": [
      "Epoch Loss: 1.6629, Accuracy: 0.3595\n"
     ]
    },
    {
     "name": "stderr",
     "output_type": "stream",
     "text": [
      "Validating: 100%|██████████| 6/6 [00:01<00:00,  5.65it/s]\n"
     ]
    },
    {
     "name": "stdout",
     "output_type": "stream",
     "text": [
      "  Train Loss: 1.6629, Train Acc: 0.3595, Val Loss: 1.7667, Val Acc: 0.2197, Time: 7.52s\n",
      "\n",
      "Epoch 10/100 for Fold 3\n"
     ]
    },
    {
     "name": "stderr",
     "output_type": "stream",
     "text": [
      "Training: 100%|██████████| 21/21 [00:07<00:00,  2.81it/s]\n"
     ]
    },
    {
     "name": "stdout",
     "output_type": "stream",
     "text": [
      "Epoch Loss: 1.6023, Accuracy: 0.4144\n"
     ]
    },
    {
     "name": "stderr",
     "output_type": "stream",
     "text": [
      "Validating: 100%|██████████| 6/6 [00:01<00:00,  5.60it/s]\n"
     ]
    },
    {
     "name": "stdout",
     "output_type": "stream",
     "text": [
      "  Train Loss: 1.6023, Train Acc: 0.4144, Val Loss: 1.7651, Val Acc: 0.2288, Time: 7.48s\n",
      "\n",
      "Epoch 11/100 for Fold 3\n"
     ]
    },
    {
     "name": "stderr",
     "output_type": "stream",
     "text": [
      "Training: 100%|██████████| 21/21 [00:07<00:00,  2.81it/s]\n"
     ]
    },
    {
     "name": "stdout",
     "output_type": "stream",
     "text": [
      "Epoch Loss: 1.5663, Accuracy: 0.4538\n"
     ]
    },
    {
     "name": "stderr",
     "output_type": "stream",
     "text": [
      "Validating: 100%|██████████| 6/6 [00:01<00:00,  5.74it/s]\n"
     ]
    },
    {
     "name": "stdout",
     "output_type": "stream",
     "text": [
      "  Train Loss: 1.5663, Train Acc: 0.4538, Val Loss: 1.7711, Val Acc: 0.2379, Time: 7.48s\n",
      "  Early stopping at epoch 11.\n",
      "Loading best model for fold 3 (achieved 0.2545 on inner val set).\n"
     ]
    },
    {
     "name": "stderr",
     "output_type": "stream",
     "text": [
      "Validating: 100%|██████████| 13/13 [00:01<00:00,  7.66it/s]"
     ]
    },
    {
     "name": "stdout",
     "output_type": "stream",
     "text": [
      "Performance on Outer Test Set for fold 3: 0.2400\n",
      "\n",
      "--- NESTED CROSS VALIDATION TRANSFER COMPLETE ---\n",
      "Cross-validation accuracies on outer folds: ['0.2497', '0.2467', '0.2400']\n",
      "Mean CV Accuracy: 0.2455 ± 0.0041\n"
     ]
    },
    {
     "name": "stderr",
     "output_type": "stream",
     "text": [
      "\n"
     ]
    },
    {
     "ename": "",
     "evalue": "",
     "output_type": "error",
     "traceback": [
      "\u001b[1;31mThe Kernel crashed while executing code in the current cell or a previous cell. \n",
      "\u001b[1;31mPlease review the code in the cell(s) to identify a possible cause of the failure. \n",
      "\u001b[1;31mClick <a href='https://aka.ms/vscodeJupyterKernelCrash'>here</a> for more info. \n",
      "\u001b[1;31mView Jupyter <a href='command:jupyter.viewOutput'>log</a> for further details."
     ]
    }
   ],
   "source": [
    "from tensorboardX import SummaryWriter\n",
    "import time\n",
    "\n",
    "transfer_model_folder_name = \"./saved_models/RADIO1_MXGNet\"\n",
    "model_folder_name = \"RADIO2_MXGNet_TRANSFER\"\n",
    "\n",
    "print(f\"\\n{'='*25} PERFORMING NESTED CROSS-VALIDATION TRANSFER {'='*25}\")\n",
    "\n",
    "outer_kfold = StratifiedKFold(n_splits=N_SPLITS, shuffle=True, random_state=RANDOM_SEED)\n",
    "fold_test_results = []\n",
    "\n",
    "for fold, (train_outer_idx, test_outer_idx) in enumerate(outer_kfold.split(np.zeros(len(dev_dataset)), dev_dataset_labels)):\n",
    "    print(f\"\\n--- Outer Fold {fold+1}/{N_SPLITS} ---\")\n",
    "    writer = SummaryWriter(log_dir=f'runs/{model_folder_name}/fold_{fold+1}')\n",
    "\n",
    "    # Create inner train/val split from the outer training set\n",
    "    train_outer_labels = dev_dataset_labels[train_outer_idx]\n",
    "    train_inner_idx, val_inner_idx = train_test_split(\n",
    "        train_outer_idx, test_size=VAL_SPLIT_SIZE, shuffle=True, stratify=train_outer_labels, random_state=RANDOM_SEED\n",
    "    )\n",
    "\n",
    "    # Create subsets from the DEVELOPMENT dataset\n",
    "    train_inner_subset = Subset(dev_dataset, train_inner_idx)\n",
    "    val_inner_subset = Subset(dev_dataset, val_inner_idx)\n",
    "    test_outer_subset = Subset(dev_dataset, test_outer_idx) # This is the \"test set\" for this fold\n",
    "\n",
    "    train_loader = DataLoader(train_inner_subset, batch_size=BATCH_SIZE, shuffle=True, num_workers=6, pin_memory=True)\n",
    "    val_loader = DataLoader(val_inner_subset, batch_size=BATCH_SIZE, shuffle=False, num_workers=6, pin_memory=True)\n",
    "    test_loader = DataLoader(test_outer_subset, batch_size=BATCH_SIZE, shuffle=False, num_workers=6, pin_memory=True)\n",
    "\n",
    "    model = Model(IMG_SIZE, IMG_SIZE,beta=0, batch_size=BATCH_SIZE).to(DEVICE)\n",
    "    model.load_state_dict(torch.load(f\"{transfer_model_folder_name}/deployable_model.pth\"), strict=False)  # Load the pre-trained model\n",
    "\n",
    "    optimizer = RAdam(model.parameters(), lr=LEARNING_RATE)\n",
    "    criterion = nn.NLLLoss()\n",
    "    scheduler = None\n",
    "    scaler = None\n",
    "\n",
    "    best_model_path = f\"./saved_models/{model_folder_name}/best_model_fold_{fold+1}.pth\"\n",
    "    os.makedirs(f\"./saved_models/{model_folder_name}\", exist_ok=True)\n",
    "    best_val_acc_fold = 0.0\n",
    "    epochs_without_improvement = 0\n",
    "\n",
    "    print(f\"Training on {len(train_inner_subset)}, Validating on {len(val_inner_subset)}...\")\n",
    "    for epoch in range(1, EPOCHS + 1):\n",
    "        print(f\"\\nEpoch {epoch}/{EPOCHS} for Fold {fold+1}\")\n",
    "        train_start_time = time.time()\n",
    "        train_loss, train_acc = train_epoch(model, train_loader, optimizer, criterion, DEVICE)\n",
    "        train_end_time = time.time()\n",
    "        train_time = train_end_time - train_start_time\n",
    "\n",
    "        val_loss, val_acc = validate(model, val_loader, criterion, DEVICE)\n",
    "\n",
    "        print(f\"  Train Loss: {train_loss:.4f}, Train Acc: {train_acc:.4f}, Val Loss: {val_loss:.4f}, Val Acc: {val_acc:.4f}, Time: {train_time:.2f}s\")\n",
    "\n",
    "        writer.add_scalar('CV/Loss/train', train_loss, epoch)\n",
    "        writer.add_scalar('CV/Accuracy/train', train_acc, epoch)\n",
    "        writer.add_scalar('CV/Loss/val', val_loss, epoch)\n",
    "        writer.add_scalar('CV/Accuracy/val', val_acc, epoch)\n",
    "        writer.add_scalar('CV/Time/train', train_time, epoch)\n",
    "\n",
    "        memory_allocated = torch.cuda.memory_allocated(DEVICE) if torch.cuda.is_available() else 0\n",
    "        memory_reserved = torch.cuda.memory_reserved(DEVICE) if torch.cuda.is_available() else 0\n",
    "\n",
    "        writer.add_scalar('CV/Memory/allocated', memory_allocated, epoch)\n",
    "        writer.add_scalar('CV/Memory/reserved', memory_reserved, epoch)\n",
    "\n",
    "        if val_acc > best_val_acc_fold:\n",
    "            best_val_acc_fold = val_acc\n",
    "            epochs_without_improvement = 0\n",
    "            torch.save(model.state_dict(), best_model_path)\n",
    "            print(f\"  New best model for fold {fold+1} at epoch {epoch}: Val Acc: {val_acc:.4f}\")\n",
    "        else:\n",
    "            epochs_without_improvement += 1\n",
    "            if epochs_without_improvement >= PATIENCE:\n",
    "                print(f\"  Early stopping at epoch {epoch}.\")\n",
    "                break\n",
    "    \n",
    "    # Evaluate the best model for this fold on the outer test set\n",
    "    print(f\"Loading best model for fold {fold+1} (achieved {best_val_acc_fold:.4f} on inner val set).\")\n",
    "    model.load_state_dict(torch.load(best_model_path))\n",
    "    _, final_fold_test_acc = validate(model, test_loader, criterion, DEVICE)\n",
    "    print(f\"Performance on Outer Test Set for fold {fold+1}: {final_fold_test_acc:.4f}\")\n",
    "    fold_test_results.append(final_fold_test_acc)\n",
    "    writer.add_scalar('CV/Accuracy/test', final_fold_test_acc, epoch)\n",
    "    writer.close()\n",
    "\n",
    "mean_cv_acc = np.mean(fold_test_results)\n",
    "std_cv_acc = np.std(fold_test_results)\n",
    "print(f\"\\n--- NESTED CROSS VALIDATION TRANSFER COMPLETE ---\")\n",
    "print(f\"Cross-validation accuracies on outer folds: {[f'{acc:.4f}' for acc in fold_test_results]}\")\n",
    "print(f\"Mean CV Accuracy: {mean_cv_acc:.4f} ± {std_cv_acc:.4f}\")"
   ]
  }
 ],
 "metadata": {
  "kernelspec": {
   "display_name": "DGL_ENV",
   "language": "python",
   "name": "dgl_env"
  },
  "language_info": {
   "codemirror_mode": {
    "name": "ipython",
    "version": 3
   },
   "file_extension": ".py",
   "mimetype": "text/x-python",
   "name": "python",
   "nbconvert_exporter": "python",
   "pygments_lexer": "ipython3",
   "version": "3.12.3"
  }
 },
 "nbformat": 4,
 "nbformat_minor": 5
}
