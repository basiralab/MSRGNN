{
 "cells": [
  {
   "cell_type": "code",
   "execution_count": 1,
   "id": "39d28230",
   "metadata": {},
   "outputs": [],
   "source": [
    "%load_ext autoreload\n",
    "%autoreload 2"
   ]
  },
  {
   "cell_type": "code",
   "execution_count": 2,
   "id": "fcd03f95",
   "metadata": {},
   "outputs": [],
   "source": [
    "from radio_data_utility import RadioV2Dataset as dataset\n",
    "import argparse\n",
    "import os\n",
    "import json\n",
    "import pickle\n",
    "\n",
    "from torchvision import transforms\n",
    "\n",
    "import torch\n",
    "import numpy as np\n",
    "\n",
    "from torch.utils.data import DataLoader\n",
    "import torch.nn as nn\n",
    "\n",
    "from tqdm import tqdm\n",
    "\n",
    "import time\n",
    "import random"
   ]
  },
  {
   "cell_type": "code",
   "execution_count": 3,
   "id": "383ffc8d",
   "metadata": {},
   "outputs": [],
   "source": [
    "with open('./generated_radio_datasets_split/raven_organsmnist_v2_train.pkl', 'rb') as f:\n",
    "    raven_dataset_v2_organ_train = pickle.load(f)\n",
    "\n",
    "with open('./generated_radio_datasets_split/raven_organsmnist_v2_val.pkl', 'rb') as f:\n",
    "    raven_dataset_v2_organ_val = pickle.load(f)\n",
    "\n",
    "with open('./generated_radio_datasets_split/raven_organsmnist_v2_test.pkl', 'rb') as f:\n",
    "    raven_dataset_v2_organ_test = pickle.load(f)"
   ]
  },
  {
   "cell_type": "code",
   "execution_count": 4,
   "id": "5b88a7d0",
   "metadata": {},
   "outputs": [],
   "source": [
    "from drnet import Solver, train_epoch, validate, count_parameters"
   ]
  },
  {
   "cell_type": "code",
   "execution_count": 5,
   "id": "355285e4",
   "metadata": {},
   "outputs": [],
   "source": [
    "RANDOM_SEED = 42\n",
    "\n",
    "# Set seeds for reproducibility\n",
    "torch.manual_seed(RANDOM_SEED)\n",
    "np.random.seed(RANDOM_SEED)\n",
    "if torch.cuda.is_available():\n",
    "    torch.cuda.manual_seed_all(RANDOM_SEED)"
   ]
  },
  {
   "cell_type": "code",
   "execution_count": 6,
   "id": "59912112",
   "metadata": {},
   "outputs": [],
   "source": [
    "IMG_SIZE = 80\n",
    "\n",
    "train_transform = transforms.Compose([\n",
    "    transforms.ToPILImage(),\n",
    "    transforms.Resize(IMG_SIZE),  # Resize to the specified size\n",
    "    transforms.ToTensor(),\n",
    "])\n",
    "\n",
    "eval_transform = transforms.Compose([\n",
    "    transforms.ToPILImage(),\n",
    "    transforms.Resize(IMG_SIZE),\n",
    "    transforms.ToTensor(),\n",
    "])"
   ]
  },
  {
   "cell_type": "code",
   "execution_count": 7,
   "id": "c07f3477",
   "metadata": {},
   "outputs": [
    {
     "name": "stdout",
     "output_type": "stream",
     "text": [
      "Total samples in training set: 4400\n",
      "Total samples in validation set: 550\n",
      "Total samples in test set: 550\n"
     ]
    }
   ],
   "source": [
    "print(\"Total samples in training set:\", len(raven_dataset_v2_organ_train))\n",
    "print(\"Total samples in validation set:\", len(raven_dataset_v2_organ_val))\n",
    "print(\"Total samples in test set:\", len(raven_dataset_v2_organ_test))"
   ]
  },
  {
   "cell_type": "code",
   "execution_count": 8,
   "id": "a63551a1",
   "metadata": {},
   "outputs": [],
   "source": [
    "train_dataset = dataset(\n",
    "    raven_dataset_v2_organ_train, # Use the split training data\n",
    "    mode=\"train\",\n",
    "    transform_train=train_transform,\n",
    "    transform_eval=eval_transform, # transform_eval is not used by train mode but good to pass\n",
    ")\n",
    "\n",
    "val_dataset = dataset(\n",
    "    raven_dataset_v2_organ_val, # Use the split validation data\n",
    "    mode=\"val\",    # Set mode to \"val\" or \"test\"\n",
    "    transform_train=train_transform, # Not used by val mode\n",
    "    transform_eval=eval_transform,\n",
    ")\n",
    "\n",
    "test_dataset = dataset(\n",
    "    raven_dataset_v2_organ_test, # Use the split test data\n",
    "    mode=\"val\",    # Set mode to \"val\" or \"test\"\n",
    "    transform_train=train_transform, # Not used by test mode\n",
    "    transform_eval=eval_transform,\n",
    ")"
   ]
  },
  {
   "cell_type": "code",
   "execution_count": 9,
   "id": "cd02e6d3",
   "metadata": {},
   "outputs": [],
   "source": [
    "import torch\n",
    "import torch.nn as nn\n",
    "import numpy as np\n",
    "import time\n",
    "import json\n",
    "from sklearn.model_selection import StratifiedKFold, train_test_split\n",
    "# ==============================================================================\n",
    "# 1. SETUP - Constants and Parameters\n",
    "# ==============================================================================\n",
    "N_SPLITS = 3 # Number of folds for cross-validation\n",
    "PATIENCE = 10 # Early stopping patience\n",
    "VAL_SPLIT_SIZE = 0.20\n",
    "DEVICE = torch.device(\"cuda\" if torch.cuda.is_available() else \"cpu\")\n",
    "EPOCHS = 100\n",
    "BATCH_SIZE = 128\n",
    "LEARNING_RATE = 3e-4\n",
    "BETA1 = 0.9\n",
    "BETA2 = 0.999\n",
    "EPSILON = 1e-8"
   ]
  },
  {
   "cell_type": "code",
   "execution_count": 12,
   "id": "1f4654a8",
   "metadata": {},
   "outputs": [],
   "source": [
    "from types import SimpleNamespace\n",
    "\n",
    "\n",
    "args = SimpleNamespace(\n",
    "    model='vit',\n",
    "    epochs=401,\n",
    "    load_workers=4,\n",
    "    dataset_path='',\n",
    "    save_model_name='',\n",
    "    img_size=80,\n",
    "    lr=3e-4,\n",
    "    beta1=0.9,\n",
    "    beta2=0.999,\n",
    "    epsilon=1e-8,\n",
    "    dataset=\"raven\",\n",
    "    multi_gpu=False,\n",
    "    val_every=5,\n",
    "    test_every=5,\n",
    "    percent=100,\n",
    "    # For nargs='+', argparse returns a list, so we mimic that behavior\n",
    "    trn_configs=['*'],\n",
    "    tst_configs=['*'],\n",
    "    silent=False,\n",
    "    shuffle_first=False,\n",
    "    check_point=False\n",
    ")"
   ]
  },
  {
   "cell_type": "code",
   "execution_count": 13,
   "id": "b327c530",
   "metadata": {},
   "outputs": [
    {
     "name": "stdout",
     "output_type": "stream",
     "text": [
      "Total data for Development (Train+Val): 4950 samples.\n",
      "Test Set size: 550 samples. (Will not be used until the very end)\n"
     ]
    }
   ],
   "source": [
    "from torch.utils.data import TensorDataset, ConcatDataset, Subset, DataLoader\n",
    "\n",
    "dev_dataset = ConcatDataset([train_dataset, val_dataset])\n",
    "dev_dataset_labels = np.concatenate([train_dataset.labels, val_dataset.labels])\n",
    "\n",
    "print(f\"Total data for Development (Train+Val): {len(dev_dataset)} samples.\")\n",
    "print(f\"Test Set size: {len(test_dataset)} samples. (Will not be used until the very end)\")"
   ]
  },
  {
   "cell_type": "markdown",
   "id": "62ea3d7a",
   "metadata": {},
   "source": [
    "# RADIO-2 STL"
   ]
  },
  {
   "cell_type": "code",
   "execution_count": 14,
   "id": "f27a87b0",
   "metadata": {},
   "outputs": [],
   "source": [
    "model_folder_name = \"RADIO2_DRNet\"\n",
    "from tensorboardX import SummaryWriter\n",
    "import time"
   ]
  },
  {
   "cell_type": "code",
   "execution_count": 15,
   "id": "f0177fd9",
   "metadata": {},
   "outputs": [
    {
     "name": "stdout",
     "output_type": "stream",
     "text": [
      "\n",
      "========================= PERFORMING NESTED CROSS-VALIDATION =========================\n",
      "\n",
      "--- Outer Fold 1/3 ---\n",
      "Training on 2640, Validating on 660...\n",
      "\n",
      "Epoch 1/100 for Fold 1\n"
     ]
    },
    {
     "name": "stderr",
     "output_type": "stream",
     "text": [
      "Training:   0%|          | 0/21 [00:00<?, ?it/s]/vol/venv/icc24/DGL_ENV/lib/python3.12/site-packages/torch/nn/functional.py:1545: UserWarning: dropout2d: Received a 3D input to dropout2d and assuming that channel-wise 1D dropout behavior is desired - input is interpreted as shape (N, C, L), where C is the channel dim. This behavior will change in a future release to interpret the input as one without a batch dimension, i.e. shape (C, H, W). To maintain the 1D channel-wise dropout behavior, please switch to using dropout1d instead.\n",
      "  warnings.warn(\n",
      "Training: 100%|██████████| 21/21 [00:27<00:00,  1.33s/it]\n",
      "Validating: 100%|██████████| 6/6 [00:02<00:00,  2.05it/s]\n"
     ]
    },
    {
     "name": "stdout",
     "output_type": "stream",
     "text": [
      "  Train Loss: 2.3021, Train Acc: 0.1288, Val Loss: 2.0794, Val Acc: 0.1394, Time: 27.85s\n",
      "  New best model for fold 1 at epoch 1: Val Acc: 0.1394\n",
      "\n",
      "Epoch 2/100 for Fold 1\n"
     ]
    },
    {
     "name": "stderr",
     "output_type": "stream",
     "text": [
      "Training: 100%|██████████| 21/21 [00:26<00:00,  1.28s/it]\n",
      "Validating: 100%|██████████| 6/6 [00:02<00:00,  2.15it/s]\n"
     ]
    },
    {
     "name": "stdout",
     "output_type": "stream",
     "text": [
      "  Train Loss: 2.2676, Train Acc: 0.1193, Val Loss: 2.0794, Val Acc: 0.1136, Time: 26.84s\n",
      "\n",
      "Epoch 3/100 for Fold 1\n"
     ]
    },
    {
     "name": "stderr",
     "output_type": "stream",
     "text": [
      "Training: 100%|██████████| 21/21 [00:26<00:00,  1.28s/it]\n",
      "Validating: 100%|██████████| 6/6 [00:02<00:00,  2.12it/s]\n"
     ]
    },
    {
     "name": "stdout",
     "output_type": "stream",
     "text": [
      "  Train Loss: 2.2172, Train Acc: 0.1242, Val Loss: 2.0794, Val Acc: 0.1182, Time: 26.88s\n",
      "\n",
      "Epoch 4/100 for Fold 1\n"
     ]
    },
    {
     "name": "stderr",
     "output_type": "stream",
     "text": [
      "Training: 100%|██████████| 21/21 [00:26<00:00,  1.27s/it]\n",
      "Validating: 100%|██████████| 6/6 [00:02<00:00,  2.13it/s]\n"
     ]
    },
    {
     "name": "stdout",
     "output_type": "stream",
     "text": [
      "  Train Loss: 2.2071, Train Acc: 0.1189, Val Loss: 2.0795, Val Acc: 0.1197, Time: 26.76s\n",
      "\n",
      "Epoch 5/100 for Fold 1\n"
     ]
    },
    {
     "name": "stderr",
     "output_type": "stream",
     "text": [
      "Training: 100%|██████████| 21/21 [00:26<00:00,  1.28s/it]\n",
      "Validating: 100%|██████████| 6/6 [00:02<00:00,  2.21it/s]\n"
     ]
    },
    {
     "name": "stdout",
     "output_type": "stream",
     "text": [
      "  Train Loss: 2.1883, Train Acc: 0.1246, Val Loss: 2.0794, Val Acc: 0.1288, Time: 26.92s\n",
      "\n",
      "Epoch 6/100 for Fold 1\n"
     ]
    },
    {
     "name": "stderr",
     "output_type": "stream",
     "text": [
      "Training: 100%|██████████| 21/21 [00:26<00:00,  1.28s/it]\n",
      "Validating: 100%|██████████| 6/6 [00:02<00:00,  2.20it/s]\n"
     ]
    },
    {
     "name": "stdout",
     "output_type": "stream",
     "text": [
      "  Train Loss: 2.1834, Train Acc: 0.1239, Val Loss: 2.0794, Val Acc: 0.0970, Time: 26.91s\n",
      "\n",
      "Epoch 7/100 for Fold 1\n"
     ]
    },
    {
     "name": "stderr",
     "output_type": "stream",
     "text": [
      "Training: 100%|██████████| 21/21 [00:26<00:00,  1.28s/it]\n",
      "Validating: 100%|██████████| 6/6 [00:02<00:00,  2.12it/s]\n"
     ]
    },
    {
     "name": "stdout",
     "output_type": "stream",
     "text": [
      "  Train Loss: 2.1605, Train Acc: 0.1322, Val Loss: 2.0794, Val Acc: 0.1106, Time: 26.85s\n",
      "\n",
      "Epoch 8/100 for Fold 1\n"
     ]
    },
    {
     "name": "stderr",
     "output_type": "stream",
     "text": [
      "Training: 100%|██████████| 21/21 [00:26<00:00,  1.28s/it]\n",
      "Validating: 100%|██████████| 6/6 [00:02<00:00,  2.12it/s]\n"
     ]
    },
    {
     "name": "stdout",
     "output_type": "stream",
     "text": [
      "  Train Loss: 2.1481, Train Acc: 0.1303, Val Loss: 2.0794, Val Acc: 0.1288, Time: 26.78s\n",
      "\n",
      "Epoch 9/100 for Fold 1\n"
     ]
    },
    {
     "name": "stderr",
     "output_type": "stream",
     "text": [
      "Training: 100%|██████████| 21/21 [00:26<00:00,  1.28s/it]\n",
      "Validating: 100%|██████████| 6/6 [00:02<00:00,  2.12it/s]\n"
     ]
    },
    {
     "name": "stdout",
     "output_type": "stream",
     "text": [
      "  Train Loss: 2.1535, Train Acc: 0.1261, Val Loss: 2.0794, Val Acc: 0.1455, Time: 26.81s\n",
      "  New best model for fold 1 at epoch 9: Val Acc: 0.1455\n",
      "\n",
      "Epoch 10/100 for Fold 1\n"
     ]
    },
    {
     "name": "stderr",
     "output_type": "stream",
     "text": [
      "Training: 100%|██████████| 21/21 [00:26<00:00,  1.28s/it]\n",
      "Validating: 100%|██████████| 6/6 [00:02<00:00,  2.24it/s]\n"
     ]
    },
    {
     "name": "stdout",
     "output_type": "stream",
     "text": [
      "  Train Loss: 2.1328, Train Acc: 0.1288, Val Loss: 2.0794, Val Acc: 0.1182, Time: 26.88s\n",
      "\n",
      "Epoch 11/100 for Fold 1\n"
     ]
    },
    {
     "name": "stderr",
     "output_type": "stream",
     "text": [
      "Training: 100%|██████████| 21/21 [00:26<00:00,  1.28s/it]\n",
      "Validating: 100%|██████████| 6/6 [00:02<00:00,  2.22it/s]\n"
     ]
    },
    {
     "name": "stdout",
     "output_type": "stream",
     "text": [
      "  Train Loss: 2.1432, Train Acc: 0.1174, Val Loss: 2.0794, Val Acc: 0.1348, Time: 26.90s\n",
      "\n",
      "Epoch 12/100 for Fold 1\n"
     ]
    },
    {
     "name": "stderr",
     "output_type": "stream",
     "text": [
      "Training: 100%|██████████| 21/21 [00:26<00:00,  1.29s/it]\n",
      "Validating: 100%|██████████| 6/6 [00:02<00:00,  2.10it/s]\n"
     ]
    },
    {
     "name": "stdout",
     "output_type": "stream",
     "text": [
      "  Train Loss: 2.1305, Train Acc: 0.1220, Val Loss: 2.0794, Val Acc: 0.1394, Time: 27.00s\n",
      "\n",
      "Epoch 13/100 for Fold 1\n"
     ]
    },
    {
     "name": "stderr",
     "output_type": "stream",
     "text": [
      "Training: 100%|██████████| 21/21 [00:26<00:00,  1.28s/it]\n",
      "Validating: 100%|██████████| 6/6 [00:02<00:00,  2.12it/s]\n"
     ]
    },
    {
     "name": "stdout",
     "output_type": "stream",
     "text": [
      "  Train Loss: 2.1203, Train Acc: 0.1341, Val Loss: 2.0794, Val Acc: 0.1470, Time: 26.84s\n",
      "  New best model for fold 1 at epoch 13: Val Acc: 0.1470\n",
      "\n",
      "Epoch 14/100 for Fold 1\n"
     ]
    },
    {
     "name": "stderr",
     "output_type": "stream",
     "text": [
      "Training: 100%|██████████| 21/21 [00:26<00:00,  1.28s/it]\n",
      "Validating: 100%|██████████| 6/6 [00:02<00:00,  2.20it/s]\n"
     ]
    },
    {
     "name": "stdout",
     "output_type": "stream",
     "text": [
      "  Train Loss: 2.1244, Train Acc: 0.1186, Val Loss: 2.0794, Val Acc: 0.1364, Time: 26.87s\n",
      "\n",
      "Epoch 15/100 for Fold 1\n"
     ]
    },
    {
     "name": "stderr",
     "output_type": "stream",
     "text": [
      "Training: 100%|██████████| 21/21 [00:26<00:00,  1.27s/it]\n",
      "Validating: 100%|██████████| 6/6 [00:02<00:00,  2.13it/s]\n"
     ]
    },
    {
     "name": "stdout",
     "output_type": "stream",
     "text": [
      "  Train Loss: 2.1259, Train Acc: 0.1121, Val Loss: 2.0794, Val Acc: 0.1348, Time: 26.76s\n",
      "\n",
      "Epoch 16/100 for Fold 1\n"
     ]
    },
    {
     "name": "stderr",
     "output_type": "stream",
     "text": [
      "Training: 100%|██████████| 21/21 [00:26<00:00,  1.28s/it]\n",
      "Validating: 100%|██████████| 6/6 [00:02<00:00,  2.22it/s]\n"
     ]
    },
    {
     "name": "stdout",
     "output_type": "stream",
     "text": [
      "  Train Loss: 2.1134, Train Acc: 0.1239, Val Loss: 2.0794, Val Acc: 0.1333, Time: 26.91s\n",
      "\n",
      "Epoch 17/100 for Fold 1\n"
     ]
    },
    {
     "name": "stderr",
     "output_type": "stream",
     "text": [
      "Training: 100%|██████████| 21/21 [00:26<00:00,  1.28s/it]\n",
      "Validating: 100%|██████████| 6/6 [00:02<00:00,  2.23it/s]\n"
     ]
    },
    {
     "name": "stdout",
     "output_type": "stream",
     "text": [
      "  Train Loss: 2.1107, Train Acc: 0.1212, Val Loss: 2.0794, Val Acc: 0.1333, Time: 26.79s\n",
      "\n",
      "Epoch 18/100 for Fold 1\n"
     ]
    },
    {
     "name": "stderr",
     "output_type": "stream",
     "text": [
      "Training: 100%|██████████| 21/21 [00:26<00:00,  1.27s/it]\n",
      "Validating: 100%|██████████| 6/6 [00:02<00:00,  2.23it/s]\n"
     ]
    },
    {
     "name": "stdout",
     "output_type": "stream",
     "text": [
      "  Train Loss: 2.1017, Train Acc: 0.1258, Val Loss: 2.0794, Val Acc: 0.1303, Time: 26.71s\n",
      "\n",
      "Epoch 19/100 for Fold 1\n"
     ]
    },
    {
     "name": "stderr",
     "output_type": "stream",
     "text": [
      "Training: 100%|██████████| 21/21 [00:26<00:00,  1.28s/it]\n",
      "Validating: 100%|██████████| 6/6 [00:02<00:00,  2.22it/s]\n"
     ]
    },
    {
     "name": "stdout",
     "output_type": "stream",
     "text": [
      "  Train Loss: 2.1016, Train Acc: 0.1227, Val Loss: 2.0794, Val Acc: 0.1197, Time: 26.92s\n",
      "\n",
      "Epoch 20/100 for Fold 1\n"
     ]
    },
    {
     "name": "stderr",
     "output_type": "stream",
     "text": [
      "Training: 100%|██████████| 21/21 [00:26<00:00,  1.28s/it]\n",
      "Validating: 100%|██████████| 6/6 [00:02<00:00,  2.15it/s]\n"
     ]
    },
    {
     "name": "stdout",
     "output_type": "stream",
     "text": [
      "  Train Loss: 2.0952, Train Acc: 0.1193, Val Loss: 2.0794, Val Acc: 0.1258, Time: 26.80s\n",
      "\n",
      "Epoch 21/100 for Fold 1\n"
     ]
    },
    {
     "name": "stderr",
     "output_type": "stream",
     "text": [
      "Training: 100%|██████████| 21/21 [00:26<00:00,  1.28s/it]\n",
      "Validating: 100%|██████████| 6/6 [00:02<00:00,  2.25it/s]\n"
     ]
    },
    {
     "name": "stdout",
     "output_type": "stream",
     "text": [
      "  Train Loss: 2.0957, Train Acc: 0.1436, Val Loss: 2.0794, Val Acc: 0.1061, Time: 26.85s\n",
      "\n",
      "Epoch 22/100 for Fold 1\n"
     ]
    },
    {
     "name": "stderr",
     "output_type": "stream",
     "text": [
      "Training: 100%|██████████| 21/21 [00:26<00:00,  1.27s/it]\n",
      "Validating: 100%|██████████| 6/6 [00:02<00:00,  2.21it/s]\n"
     ]
    },
    {
     "name": "stdout",
     "output_type": "stream",
     "text": [
      "  Train Loss: 2.1022, Train Acc: 0.1212, Val Loss: 2.0794, Val Acc: 0.1015, Time: 26.76s\n",
      "\n",
      "Epoch 23/100 for Fold 1\n"
     ]
    },
    {
     "name": "stderr",
     "output_type": "stream",
     "text": [
      "Training: 100%|██████████| 21/21 [00:26<00:00,  1.28s/it]\n",
      "Validating: 100%|██████████| 6/6 [00:02<00:00,  2.22it/s]\n"
     ]
    },
    {
     "name": "stdout",
     "output_type": "stream",
     "text": [
      "  Train Loss: 2.0948, Train Acc: 0.1117, Val Loss: 2.0794, Val Acc: 0.1152, Time: 26.86s\n",
      "  Early stopping at epoch 23.\n",
      "Loading best model for fold 1 (achieved 0.1470 on inner val set).\n"
     ]
    },
    {
     "name": "stderr",
     "output_type": "stream",
     "text": [
      "Validating: 100%|██████████| 13/13 [00:05<00:00,  2.33it/s]\n"
     ]
    },
    {
     "name": "stdout",
     "output_type": "stream",
     "text": [
      "Performance on Outer Test Set for fold 1: 0.1152\n",
      "\n",
      "--- Outer Fold 2/3 ---\n",
      "Training on 2640, Validating on 660...\n",
      "\n",
      "Epoch 1/100 for Fold 2\n"
     ]
    },
    {
     "name": "stderr",
     "output_type": "stream",
     "text": [
      "Training:   0%|          | 0/21 [00:00<?, ?it/s]/vol/venv/icc24/DGL_ENV/lib/python3.12/site-packages/torch/nn/functional.py:1545: UserWarning: dropout2d: Received a 3D input to dropout2d and assuming that channel-wise 1D dropout behavior is desired - input is interpreted as shape (N, C, L), where C is the channel dim. This behavior will change in a future release to interpret the input as one without a batch dimension, i.e. shape (C, H, W). To maintain the 1D channel-wise dropout behavior, please switch to using dropout1d instead.\n",
      "  warnings.warn(\n",
      "Training: 100%|██████████| 21/21 [00:26<00:00,  1.27s/it]\n",
      "Validating: 100%|██████████| 6/6 [00:02<00:00,  2.23it/s]\n"
     ]
    },
    {
     "name": "stdout",
     "output_type": "stream",
     "text": [
      "  Train Loss: 2.2991, Train Acc: 0.1322, Val Loss: 2.0794, Val Acc: 0.0955, Time: 26.75s\n",
      "  New best model for fold 2 at epoch 1: Val Acc: 0.0955\n",
      "\n",
      "Epoch 2/100 for Fold 2\n"
     ]
    },
    {
     "name": "stderr",
     "output_type": "stream",
     "text": [
      "Training: 100%|██████████| 21/21 [00:26<00:00,  1.29s/it]\n",
      "Validating: 100%|██████████| 6/6 [00:02<00:00,  2.23it/s]\n"
     ]
    },
    {
     "name": "stdout",
     "output_type": "stream",
     "text": [
      "  Train Loss: 2.2485, Train Acc: 0.1250, Val Loss: 2.0794, Val Acc: 0.1364, Time: 27.00s\n",
      "  New best model for fold 2 at epoch 2: Val Acc: 0.1364\n",
      "\n",
      "Epoch 3/100 for Fold 2\n"
     ]
    },
    {
     "name": "stderr",
     "output_type": "stream",
     "text": [
      "Training: 100%|██████████| 21/21 [00:26<00:00,  1.29s/it]\n",
      "Validating: 100%|██████████| 6/6 [00:02<00:00,  2.14it/s]\n"
     ]
    },
    {
     "name": "stdout",
     "output_type": "stream",
     "text": [
      "  Train Loss: 2.2210, Train Acc: 0.1212, Val Loss: 2.0794, Val Acc: 0.1530, Time: 27.00s\n",
      "  New best model for fold 2 at epoch 3: Val Acc: 0.1530\n",
      "\n",
      "Epoch 4/100 for Fold 2\n"
     ]
    },
    {
     "name": "stderr",
     "output_type": "stream",
     "text": [
      "Training: 100%|██████████| 21/21 [00:26<00:00,  1.29s/it]\n",
      "Validating: 100%|██████████| 6/6 [00:02<00:00,  2.14it/s]\n"
     ]
    },
    {
     "name": "stdout",
     "output_type": "stream",
     "text": [
      "  Train Loss: 2.2096, Train Acc: 0.1307, Val Loss: 2.0794, Val Acc: 0.1515, Time: 27.00s\n",
      "\n",
      "Epoch 5/100 for Fold 2\n"
     ]
    },
    {
     "name": "stderr",
     "output_type": "stream",
     "text": [
      "Training: 100%|██████████| 21/21 [00:26<00:00,  1.28s/it]\n",
      "Validating: 100%|██████████| 6/6 [00:02<00:00,  2.22it/s]\n"
     ]
    },
    {
     "name": "stdout",
     "output_type": "stream",
     "text": [
      "  Train Loss: 2.1774, Train Acc: 0.1314, Val Loss: 2.0794, Val Acc: 0.1379, Time: 26.87s\n",
      "\n",
      "Epoch 6/100 for Fold 2\n"
     ]
    },
    {
     "name": "stderr",
     "output_type": "stream",
     "text": [
      "Training: 100%|██████████| 21/21 [00:26<00:00,  1.28s/it]\n",
      "Validating: 100%|██████████| 6/6 [00:02<00:00,  2.20it/s]\n"
     ]
    },
    {
     "name": "stdout",
     "output_type": "stream",
     "text": [
      "  Train Loss: 2.1725, Train Acc: 0.1299, Val Loss: 2.0794, Val Acc: 0.1242, Time: 26.96s\n",
      "\n",
      "Epoch 7/100 for Fold 2\n"
     ]
    },
    {
     "name": "stderr",
     "output_type": "stream",
     "text": [
      "Training: 100%|██████████| 21/21 [00:26<00:00,  1.27s/it]\n",
      "Validating: 100%|██████████| 6/6 [00:02<00:00,  2.24it/s]\n"
     ]
    },
    {
     "name": "stdout",
     "output_type": "stream",
     "text": [
      "  Train Loss: 2.1589, Train Acc: 0.1235, Val Loss: 2.0794, Val Acc: 0.1167, Time: 26.74s\n",
      "\n",
      "Epoch 8/100 for Fold 2\n"
     ]
    },
    {
     "name": "stderr",
     "output_type": "stream",
     "text": [
      "Training: 100%|██████████| 21/21 [00:26<00:00,  1.28s/it]\n",
      "Validating: 100%|██████████| 6/6 [00:02<00:00,  2.24it/s]\n"
     ]
    },
    {
     "name": "stdout",
     "output_type": "stream",
     "text": [
      "  Train Loss: 2.1691, Train Acc: 0.1159, Val Loss: 2.0794, Val Acc: 0.1242, Time: 26.83s\n",
      "\n",
      "Epoch 9/100 for Fold 2\n"
     ]
    },
    {
     "name": "stderr",
     "output_type": "stream",
     "text": [
      "Training: 100%|██████████| 21/21 [00:26<00:00,  1.28s/it]\n",
      "Validating: 100%|██████████| 6/6 [00:02<00:00,  2.23it/s]\n"
     ]
    },
    {
     "name": "stdout",
     "output_type": "stream",
     "text": [
      "  Train Loss: 2.1646, Train Acc: 0.1136, Val Loss: 2.0794, Val Acc: 0.1091, Time: 26.80s\n",
      "\n",
      "Epoch 10/100 for Fold 2\n"
     ]
    },
    {
     "name": "stderr",
     "output_type": "stream",
     "text": [
      "Training: 100%|██████████| 21/21 [00:26<00:00,  1.28s/it]\n",
      "Validating: 100%|██████████| 6/6 [00:02<00:00,  2.16it/s]\n"
     ]
    },
    {
     "name": "stdout",
     "output_type": "stream",
     "text": [
      "  Train Loss: 2.1256, Train Acc: 0.1212, Val Loss: 2.0794, Val Acc: 0.1197, Time: 26.93s\n",
      "\n",
      "Epoch 11/100 for Fold 2\n"
     ]
    },
    {
     "name": "stderr",
     "output_type": "stream",
     "text": [
      "Training: 100%|██████████| 21/21 [00:26<00:00,  1.28s/it]\n",
      "Validating: 100%|██████████| 6/6 [00:02<00:00,  2.22it/s]\n"
     ]
    },
    {
     "name": "stdout",
     "output_type": "stream",
     "text": [
      "  Train Loss: 2.1368, Train Acc: 0.1333, Val Loss: 2.0794, Val Acc: 0.1242, Time: 26.82s\n",
      "\n",
      "Epoch 12/100 for Fold 2\n"
     ]
    },
    {
     "name": "stderr",
     "output_type": "stream",
     "text": [
      "Training: 100%|██████████| 21/21 [00:26<00:00,  1.27s/it]\n",
      "Validating: 100%|██████████| 6/6 [00:02<00:00,  2.24it/s]\n"
     ]
    },
    {
     "name": "stdout",
     "output_type": "stream",
     "text": [
      "  Train Loss: 2.1340, Train Acc: 0.1220, Val Loss: 2.0795, Val Acc: 0.1061, Time: 26.76s\n",
      "\n",
      "Epoch 13/100 for Fold 2\n"
     ]
    },
    {
     "name": "stderr",
     "output_type": "stream",
     "text": [
      "Training: 100%|██████████| 21/21 [00:26<00:00,  1.28s/it]\n",
      "Validating: 100%|██████████| 6/6 [00:02<00:00,  2.23it/s]\n"
     ]
    },
    {
     "name": "stdout",
     "output_type": "stream",
     "text": [
      "  Train Loss: 2.1227, Train Acc: 0.1246, Val Loss: 2.0794, Val Acc: 0.1076, Time: 26.91s\n",
      "  Early stopping at epoch 13.\n",
      "Loading best model for fold 2 (achieved 0.1530 on inner val set).\n"
     ]
    },
    {
     "name": "stderr",
     "output_type": "stream",
     "text": [
      "Validating: 100%|██████████| 13/13 [00:05<00:00,  2.33it/s]\n"
     ]
    },
    {
     "name": "stdout",
     "output_type": "stream",
     "text": [
      "Performance on Outer Test Set for fold 2: 0.1133\n",
      "\n",
      "--- Outer Fold 3/3 ---\n",
      "Training on 2640, Validating on 660...\n",
      "\n",
      "Epoch 1/100 for Fold 3\n"
     ]
    },
    {
     "name": "stderr",
     "output_type": "stream",
     "text": [
      "Training:   0%|          | 0/21 [00:00<?, ?it/s]/vol/venv/icc24/DGL_ENV/lib/python3.12/site-packages/torch/nn/functional.py:1545: UserWarning: dropout2d: Received a 3D input to dropout2d and assuming that channel-wise 1D dropout behavior is desired - input is interpreted as shape (N, C, L), where C is the channel dim. This behavior will change in a future release to interpret the input as one without a batch dimension, i.e. shape (C, H, W). To maintain the 1D channel-wise dropout behavior, please switch to using dropout1d instead.\n",
      "  warnings.warn(\n",
      "Training: 100%|██████████| 21/21 [00:26<00:00,  1.28s/it]\n",
      "Validating: 100%|██████████| 6/6 [00:02<00:00,  2.19it/s]\n"
     ]
    },
    {
     "name": "stdout",
     "output_type": "stream",
     "text": [
      "  Train Loss: 2.3177, Train Acc: 0.1212, Val Loss: 2.0794, Val Acc: 0.1197, Time: 26.88s\n",
      "  New best model for fold 3 at epoch 1: Val Acc: 0.1197\n",
      "\n",
      "Epoch 2/100 for Fold 3\n"
     ]
    },
    {
     "name": "stderr",
     "output_type": "stream",
     "text": [
      "Training: 100%|██████████| 21/21 [00:26<00:00,  1.28s/it]\n",
      "Validating: 100%|██████████| 6/6 [00:02<00:00,  2.22it/s]\n"
     ]
    },
    {
     "name": "stdout",
     "output_type": "stream",
     "text": [
      "  Train Loss: 2.2409, Train Acc: 0.1269, Val Loss: 2.0794, Val Acc: 0.1409, Time: 26.84s\n",
      "  New best model for fold 3 at epoch 2: Val Acc: 0.1409\n",
      "\n",
      "Epoch 3/100 for Fold 3\n"
     ]
    },
    {
     "name": "stderr",
     "output_type": "stream",
     "text": [
      "Training: 100%|██████████| 21/21 [00:26<00:00,  1.28s/it]\n",
      "Validating: 100%|██████████| 6/6 [00:02<00:00,  2.21it/s]\n"
     ]
    },
    {
     "name": "stdout",
     "output_type": "stream",
     "text": [
      "  Train Loss: 2.2230, Train Acc: 0.1277, Val Loss: 2.0795, Val Acc: 0.1000, Time: 26.89s\n",
      "\n",
      "Epoch 4/100 for Fold 3\n"
     ]
    },
    {
     "name": "stderr",
     "output_type": "stream",
     "text": [
      "Training: 100%|██████████| 21/21 [00:26<00:00,  1.27s/it]\n",
      "Validating: 100%|██████████| 6/6 [00:02<00:00,  2.23it/s]\n"
     ]
    },
    {
     "name": "stdout",
     "output_type": "stream",
     "text": [
      "  Train Loss: 2.1907, Train Acc: 0.1295, Val Loss: 2.0795, Val Acc: 0.0879, Time: 26.73s\n",
      "\n",
      "Epoch 5/100 for Fold 3\n"
     ]
    },
    {
     "name": "stderr",
     "output_type": "stream",
     "text": [
      "Training: 100%|██████████| 21/21 [00:26<00:00,  1.27s/it]\n",
      "Validating: 100%|██████████| 6/6 [00:02<00:00,  2.19it/s]\n"
     ]
    },
    {
     "name": "stdout",
     "output_type": "stream",
     "text": [
      "  Train Loss: 2.1778, Train Acc: 0.1258, Val Loss: 2.0794, Val Acc: 0.1106, Time: 26.76s\n",
      "\n",
      "Epoch 6/100 for Fold 3\n"
     ]
    },
    {
     "name": "stderr",
     "output_type": "stream",
     "text": [
      "Training: 100%|██████████| 21/21 [00:26<00:00,  1.28s/it]\n",
      "Validating: 100%|██████████| 6/6 [00:02<00:00,  2.16it/s]\n"
     ]
    },
    {
     "name": "stdout",
     "output_type": "stream",
     "text": [
      "  Train Loss: 2.1705, Train Acc: 0.1295, Val Loss: 2.0795, Val Acc: 0.1212, Time: 26.82s\n",
      "\n",
      "Epoch 7/100 for Fold 3\n"
     ]
    },
    {
     "name": "stderr",
     "output_type": "stream",
     "text": [
      "Training: 100%|██████████| 21/21 [00:26<00:00,  1.27s/it]\n",
      "Validating: 100%|██████████| 6/6 [00:02<00:00,  2.21it/s]\n"
     ]
    },
    {
     "name": "stdout",
     "output_type": "stream",
     "text": [
      "  Train Loss: 2.1715, Train Acc: 0.1189, Val Loss: 2.0794, Val Acc: 0.1197, Time: 26.72s\n",
      "\n",
      "Epoch 8/100 for Fold 3\n"
     ]
    },
    {
     "name": "stderr",
     "output_type": "stream",
     "text": [
      "Training: 100%|██████████| 21/21 [00:26<00:00,  1.27s/it]\n",
      "Validating: 100%|██████████| 6/6 [00:02<00:00,  2.24it/s]\n"
     ]
    },
    {
     "name": "stdout",
     "output_type": "stream",
     "text": [
      "  Train Loss: 2.1489, Train Acc: 0.1311, Val Loss: 2.0794, Val Acc: 0.1212, Time: 26.74s\n",
      "\n",
      "Epoch 9/100 for Fold 3\n"
     ]
    },
    {
     "name": "stderr",
     "output_type": "stream",
     "text": [
      "Training: 100%|██████████| 21/21 [00:26<00:00,  1.29s/it]\n",
      "Validating: 100%|██████████| 6/6 [00:02<00:00,  2.23it/s]\n"
     ]
    },
    {
     "name": "stdout",
     "output_type": "stream",
     "text": [
      "  Train Loss: 2.1440, Train Acc: 0.1265, Val Loss: 2.0794, Val Acc: 0.1258, Time: 27.00s\n",
      "\n",
      "Epoch 10/100 for Fold 3\n"
     ]
    },
    {
     "name": "stderr",
     "output_type": "stream",
     "text": [
      "Training: 100%|██████████| 21/21 [00:26<00:00,  1.28s/it]\n",
      "Validating: 100%|██████████| 6/6 [00:02<00:00,  2.10it/s]\n"
     ]
    },
    {
     "name": "stdout",
     "output_type": "stream",
     "text": [
      "  Train Loss: 2.1559, Train Acc: 0.1136, Val Loss: 2.0795, Val Acc: 0.1136, Time: 26.93s\n",
      "\n",
      "Epoch 11/100 for Fold 3\n"
     ]
    },
    {
     "name": "stderr",
     "output_type": "stream",
     "text": [
      "Training: 100%|██████████| 21/21 [00:26<00:00,  1.28s/it]\n",
      "Validating: 100%|██████████| 6/6 [00:02<00:00,  2.22it/s]\n"
     ]
    },
    {
     "name": "stdout",
     "output_type": "stream",
     "text": [
      "  Train Loss: 2.1328, Train Acc: 0.1189, Val Loss: 2.0795, Val Acc: 0.1045, Time: 26.84s\n",
      "\n",
      "Epoch 12/100 for Fold 3\n"
     ]
    },
    {
     "name": "stderr",
     "output_type": "stream",
     "text": [
      "Training: 100%|██████████| 21/21 [00:26<00:00,  1.28s/it]\n",
      "Validating: 100%|██████████| 6/6 [00:02<00:00,  2.22it/s]\n"
     ]
    },
    {
     "name": "stdout",
     "output_type": "stream",
     "text": [
      "  Train Loss: 2.1331, Train Acc: 0.1208, Val Loss: 2.0794, Val Acc: 0.1030, Time: 26.83s\n",
      "  Early stopping at epoch 12.\n",
      "Loading best model for fold 3 (achieved 0.1409 on inner val set).\n"
     ]
    },
    {
     "name": "stderr",
     "output_type": "stream",
     "text": [
      "Validating: 100%|██████████| 13/13 [00:05<00:00,  2.32it/s]"
     ]
    },
    {
     "name": "stdout",
     "output_type": "stream",
     "text": [
      "Performance on Outer Test Set for fold 3: 0.1273\n",
      "\n",
      "--- NESTED CROSS VALIDATION COMPLETE ---\n",
      "Cross-validation accuracies on outer folds: ['0.1152', '0.1133', '0.1273']\n",
      "Mean CV Accuracy: 0.1186 ± 0.0062\n"
     ]
    },
    {
     "name": "stderr",
     "output_type": "stream",
     "text": [
      "\n"
     ]
    }
   ],
   "source": [
    "import time\n",
    "\n",
    "print(f\"\\n{'='*25} PERFORMING NESTED CROSS-VALIDATION {'='*25}\")\n",
    "\n",
    "outer_kfold = StratifiedKFold(n_splits=N_SPLITS, shuffle=True, random_state=RANDOM_SEED)\n",
    "fold_test_results = []\n",
    "\n",
    "for fold, (train_outer_idx, test_outer_idx) in enumerate(outer_kfold.split(np.zeros(len(dev_dataset)), dev_dataset_labels)):\n",
    "    print(f\"\\n--- Outer Fold {fold+1}/{N_SPLITS} ---\")\n",
    "    writer = SummaryWriter(log_dir=f'runs/{model_folder_name}/fold_{fold+1}')\n",
    "\n",
    "    # Create inner train/val split from the outer training set\n",
    "    train_outer_labels = dev_dataset_labels[train_outer_idx]\n",
    "    train_inner_idx, val_inner_idx = train_test_split(\n",
    "        train_outer_idx, test_size=VAL_SPLIT_SIZE, shuffle=True, stratify=train_outer_labels, random_state=RANDOM_SEED\n",
    "    )\n",
    "\n",
    "    # Create subsets from the DEVELOPMENT dataset\n",
    "    train_inner_subset = Subset(dev_dataset, train_inner_idx)\n",
    "    val_inner_subset = Subset(dev_dataset, val_inner_idx)\n",
    "    test_outer_subset = Subset(dev_dataset, test_outer_idx) # This is the \"test set\" for this fold\n",
    "\n",
    "    train_loader = DataLoader(train_inner_subset, batch_size=BATCH_SIZE, shuffle=True, num_workers=6, pin_memory=True)\n",
    "    val_loader = DataLoader(val_inner_subset, batch_size=BATCH_SIZE, shuffle=False, num_workers=6, pin_memory=True)\n",
    "    test_loader = DataLoader(test_outer_subset, batch_size=BATCH_SIZE, shuffle=False, num_workers=6, pin_memory=True)\n",
    "\n",
    "    model = Solver(args).to(DEVICE)\n",
    "    optimizer = torch.optim.Adam(model.parameters(), lr=LEARNING_RATE, betas=(BETA1, BETA2), eps=EPSILON)\n",
    "    criterion = nn.CrossEntropyLoss()\n",
    "    scheduler = None\n",
    "    scaler = None\n",
    "\n",
    "    best_model_path = f\"./saved_models/{model_folder_name}/best_model_fold_{fold+1}.pth\"\n",
    "    os.makedirs(f\"./saved_models/{model_folder_name}\", exist_ok=True)\n",
    "    best_val_acc_fold = 0.0\n",
    "    epochs_without_improvement = 0\n",
    "\n",
    "    print(f\"Training on {len(train_inner_subset)}, Validating on {len(val_inner_subset)}...\")\n",
    "    for epoch in range(1, EPOCHS + 1):\n",
    "        print(f\"\\nEpoch {epoch}/{EPOCHS} for Fold {fold+1}\")\n",
    "        train_start_time = time.time()\n",
    "        train_loss, train_acc = train_epoch(model, train_loader, optimizer, criterion, DEVICE)\n",
    "        train_end_time = time.time()\n",
    "        train_time = train_end_time - train_start_time\n",
    "\n",
    "        val_loss, val_acc = validate(model, val_loader, criterion, DEVICE)\n",
    "\n",
    "        print(f\"  Train Loss: {train_loss:.4f}, Train Acc: {train_acc:.4f}, Val Loss: {val_loss:.4f}, Val Acc: {val_acc:.4f}, Time: {train_time:.2f}s\")\n",
    "\n",
    "        writer.add_scalar('CV/Loss/train', train_loss, epoch)\n",
    "        writer.add_scalar('CV/Accuracy/train', train_acc, epoch)\n",
    "        writer.add_scalar('CV/Loss/val', val_loss, epoch)\n",
    "        writer.add_scalar('CV/Accuracy/val', val_acc, epoch)\n",
    "        writer.add_scalar('CV/Time/train', train_time, epoch)\n",
    "\n",
    "        memory_allocated = torch.cuda.memory_allocated(DEVICE) if torch.cuda.is_available() else 0\n",
    "        memory_reserved = torch.cuda.memory_reserved(DEVICE) if torch.cuda.is_available() else 0\n",
    "\n",
    "        writer.add_scalar('CV/Memory/allocated', memory_allocated, epoch)\n",
    "        writer.add_scalar('CV/Memory/reserved', memory_reserved, epoch)\n",
    "\n",
    "        if val_acc > best_val_acc_fold:\n",
    "            best_val_acc_fold = val_acc\n",
    "            epochs_without_improvement = 0\n",
    "            torch.save(model.state_dict(), best_model_path)\n",
    "            print(f\"  New best model for fold {fold+1} at epoch {epoch}: Val Acc: {val_acc:.4f}\")\n",
    "        else:\n",
    "            epochs_without_improvement += 1\n",
    "            if epochs_without_improvement >= PATIENCE:\n",
    "                print(f\"  Early stopping at epoch {epoch}.\")\n",
    "                break\n",
    "    \n",
    "    # Evaluate the best model for this fold on the outer test set\n",
    "    print(f\"Loading best model for fold {fold+1} (achieved {best_val_acc_fold:.4f} on inner val set).\")\n",
    "    model.load_state_dict(torch.load(best_model_path))\n",
    "    _, final_fold_test_acc = validate(model, test_loader, criterion, DEVICE)\n",
    "    print(f\"Performance on Outer Test Set for fold {fold+1}: {final_fold_test_acc:.4f}\")\n",
    "    fold_test_results.append(final_fold_test_acc)\n",
    "    writer.add_scalar('CV/Accuracy/test', final_fold_test_acc, epoch)\n",
    "    writer.close()\n",
    "\n",
    "mean_cv_acc = np.mean(fold_test_results)\n",
    "std_cv_acc = np.std(fold_test_results)\n",
    "print(f\"\\n--- NESTED CROSS VALIDATION COMPLETE ---\")\n",
    "print(f\"Cross-validation accuracies on outer folds: {[f'{acc:.4f}' for acc in fold_test_results]}\")\n",
    "print(f\"Mean CV Accuracy: {mean_cv_acc:.4f} ± {std_cv_acc:.4f}\")"
   ]
  },
  {
   "cell_type": "code",
   "execution_count": null,
   "id": "ee318ada",
   "metadata": {},
   "outputs": [
    {
     "name": "stdout",
     "output_type": "stream",
     "text": [
      "\n",
      "========================= TRAINING FINAL DEPLOYABLE MODEL =========================\n",
      "Final training on 4455 samples, validating on 495 for early stopping.\n"
     ]
    },
    {
     "name": "stderr",
     "output_type": "stream",
     "text": [
      "Training:   0%|          | 0/35 [00:00<?, ?it/s]/vol/venv/icc24/DGL_ENV/lib/python3.12/site-packages/torch/nn/functional.py:1545: UserWarning: dropout2d: Received a 3D input to dropout2d and assuming that channel-wise 1D dropout behavior is desired - input is interpreted as shape (N, C, L), where C is the channel dim. This behavior will change in a future release to interpret the input as one without a batch dimension, i.e. shape (C, H, W). To maintain the 1D channel-wise dropout behavior, please switch to using dropout1d instead.\n",
      "  warnings.warn(\n",
      "Training: 100%|██████████| 35/35 [00:45<00:00,  1.29s/it]\n",
      "Validating: 100%|██████████| 4/4 [00:02<00:00,  1.91it/s]\n"
     ]
    },
    {
     "name": "stdout",
     "output_type": "stream",
     "text": [
      "Epoch 1: Train Acc: 0.1340 | Val Acc: 0.1374\n",
      "  New best model saved with val acc: 0.1374\n"
     ]
    },
    {
     "name": "stderr",
     "output_type": "stream",
     "text": [
      "Training: 100%|██████████| 35/35 [00:44<00:00,  1.26s/it]\n",
      "Validating: 100%|██████████| 4/4 [00:02<00:00,  1.92it/s]\n"
     ]
    },
    {
     "name": "stdout",
     "output_type": "stream",
     "text": [
      "Epoch 2: Train Acc: 0.1284 | Val Acc: 0.1455\n",
      "  New best model saved with val acc: 0.1455\n"
     ]
    },
    {
     "name": "stderr",
     "output_type": "stream",
     "text": [
      "Training: 100%|██████████| 35/35 [00:44<00:00,  1.27s/it]\n",
      "Validating: 100%|██████████| 4/4 [00:02<00:00,  1.91it/s]\n"
     ]
    },
    {
     "name": "stdout",
     "output_type": "stream",
     "text": [
      "Epoch 3: Train Acc: 0.1226 | Val Acc: 0.1212\n"
     ]
    },
    {
     "name": "stderr",
     "output_type": "stream",
     "text": [
      "Training: 100%|██████████| 35/35 [00:44<00:00,  1.27s/it]\n",
      "Validating: 100%|██████████| 4/4 [00:02<00:00,  1.90it/s]\n"
     ]
    },
    {
     "name": "stdout",
     "output_type": "stream",
     "text": [
      "Epoch 4: Train Acc: 0.1232 | Val Acc: 0.1313\n"
     ]
    },
    {
     "name": "stderr",
     "output_type": "stream",
     "text": [
      "Training: 100%|██████████| 35/35 [00:44<00:00,  1.27s/it]\n",
      "Validating: 100%|██████████| 4/4 [00:02<00:00,  1.88it/s]\n"
     ]
    },
    {
     "name": "stdout",
     "output_type": "stream",
     "text": [
      "Epoch 5: Train Acc: 0.1223 | Val Acc: 0.1434\n"
     ]
    },
    {
     "name": "stderr",
     "output_type": "stream",
     "text": [
      "Training: 100%|██████████| 35/35 [00:44<00:00,  1.27s/it]\n",
      "Validating: 100%|██████████| 4/4 [00:02<00:00,  1.87it/s]\n"
     ]
    },
    {
     "name": "stdout",
     "output_type": "stream",
     "text": [
      "Epoch 6: Train Acc: 0.1221 | Val Acc: 0.1636\n",
      "  New best model saved with val acc: 0.1636\n"
     ]
    },
    {
     "name": "stderr",
     "output_type": "stream",
     "text": [
      "Training: 100%|██████████| 35/35 [00:44<00:00,  1.27s/it]\n",
      "Validating: 100%|██████████| 4/4 [00:02<00:00,  1.91it/s]\n"
     ]
    },
    {
     "name": "stdout",
     "output_type": "stream",
     "text": [
      "Epoch 7: Train Acc: 0.1250 | Val Acc: 0.1475\n"
     ]
    },
    {
     "name": "stderr",
     "output_type": "stream",
     "text": [
      "Training: 100%|██████████| 35/35 [00:44<00:00,  1.27s/it]\n",
      "Validating: 100%|██████████| 4/4 [00:02<00:00,  1.90it/s]\n"
     ]
    },
    {
     "name": "stdout",
     "output_type": "stream",
     "text": [
      "Epoch 8: Train Acc: 0.1324 | Val Acc: 0.1212\n"
     ]
    },
    {
     "name": "stderr",
     "output_type": "stream",
     "text": [
      "Training: 100%|██████████| 35/35 [00:44<00:00,  1.27s/it]\n",
      "Validating: 100%|██████████| 4/4 [00:02<00:00,  1.90it/s]\n"
     ]
    },
    {
     "name": "stdout",
     "output_type": "stream",
     "text": [
      "Epoch 9: Train Acc: 0.1160 | Val Acc: 0.1152\n"
     ]
    },
    {
     "name": "stderr",
     "output_type": "stream",
     "text": [
      "Training: 100%|██████████| 35/35 [00:44<00:00,  1.27s/it]\n",
      "Validating: 100%|██████████| 4/4 [00:02<00:00,  1.93it/s]\n"
     ]
    },
    {
     "name": "stdout",
     "output_type": "stream",
     "text": [
      "Epoch 10: Train Acc: 0.1266 | Val Acc: 0.1071\n"
     ]
    },
    {
     "name": "stderr",
     "output_type": "stream",
     "text": [
      "Training: 100%|██████████| 35/35 [00:44<00:00,  1.27s/it]\n",
      "Validating: 100%|██████████| 4/4 [00:02<00:00,  1.93it/s]\n"
     ]
    },
    {
     "name": "stdout",
     "output_type": "stream",
     "text": [
      "Epoch 11: Train Acc: 0.1208 | Val Acc: 0.1232\n"
     ]
    },
    {
     "name": "stderr",
     "output_type": "stream",
     "text": [
      "Training: 100%|██████████| 35/35 [00:44<00:00,  1.27s/it]\n",
      "Validating: 100%|██████████| 4/4 [00:02<00:00,  1.91it/s]\n"
     ]
    },
    {
     "name": "stdout",
     "output_type": "stream",
     "text": [
      "Epoch 12: Train Acc: 0.1315 | Val Acc: 0.1273\n"
     ]
    },
    {
     "name": "stderr",
     "output_type": "stream",
     "text": [
      "Training: 100%|██████████| 35/35 [00:44<00:00,  1.27s/it]\n",
      "Validating: 100%|██████████| 4/4 [00:02<00:00,  1.89it/s]\n"
     ]
    },
    {
     "name": "stdout",
     "output_type": "stream",
     "text": [
      "Epoch 13: Train Acc: 0.1324 | Val Acc: 0.1394\n"
     ]
    },
    {
     "name": "stderr",
     "output_type": "stream",
     "text": [
      "Training: 100%|██████████| 35/35 [00:44<00:00,  1.27s/it]\n",
      "Validating: 100%|██████████| 4/4 [00:02<00:00,  1.89it/s]\n"
     ]
    },
    {
     "name": "stdout",
     "output_type": "stream",
     "text": [
      "Epoch 14: Train Acc: 0.1275 | Val Acc: 0.1333\n"
     ]
    },
    {
     "name": "stderr",
     "output_type": "stream",
     "text": [
      "Training: 100%|██████████| 35/35 [00:44<00:00,  1.27s/it]\n",
      "Validating: 100%|██████████| 4/4 [00:02<00:00,  1.91it/s]\n"
     ]
    },
    {
     "name": "stdout",
     "output_type": "stream",
     "text": [
      "Epoch 15: Train Acc: 0.1147 | Val Acc: 0.1515\n"
     ]
    },
    {
     "name": "stderr",
     "output_type": "stream",
     "text": [
      "Training: 100%|██████████| 35/35 [00:44<00:00,  1.27s/it]\n",
      "Validating: 100%|██████████| 4/4 [00:02<00:00,  1.91it/s]"
     ]
    },
    {
     "name": "stdout",
     "output_type": "stream",
     "text": [
      "Epoch 16: Train Acc: 0.1277 | Val Acc: 0.1515\n",
      "  Early stopping final training at epoch 16.\n",
      "\n",
      "--- FINAL DEPLOYABLE MODEL TRAINING COMPLETE ---\n",
      "Final deployable model saved to 'RADIO2_DRNet/deployable_model.pth'\n"
     ]
    },
    {
     "name": "stderr",
     "output_type": "stream",
     "text": [
      "\n"
     ]
    }
   ],
   "source": [
    "# import train_test_split\n",
    "from sklearn.model_selection import train_test_split\n",
    "\n",
    "print(f\"\\n{'='*25} TRAINING FINAL DEPLOYABLE MODEL {'='*25}\")\n",
    "\n",
    "# Create the one-time 90/10 split from the development pool\n",
    "final_train_indices, final_val_indices = train_test_split(\n",
    "    np.arange(len(dev_dataset)), test_size=0.1, shuffle=True, stratify=dev_dataset_labels, random_state=RANDOM_SEED\n",
    ")\n",
    "final_train_subset = Subset(dev_dataset, final_train_indices)\n",
    "final_val_subset = Subset(dev_dataset, final_val_indices)\n",
    "final_train_loader = DataLoader(final_train_subset, batch_size=BATCH_SIZE, shuffle=True, num_workers=6, pin_memory=True)\n",
    "final_val_loader = DataLoader(final_val_subset, batch_size=BATCH_SIZE, shuffle=False, num_workers=6, pin_memory=True)\n",
    "\n",
    "\n",
    "final_model = Solver(args).to(DEVICE)\n",
    "optimizer = torch.optim.Adam(final_model.parameters(), lr=LEARNING_RATE, betas=(BETA1, BETA2), eps=EPSILON)\n",
    "criterion = nn.CrossEntropyLoss()\n",
    "scheduler = None\n",
    "scaler = None\n",
    "\n",
    "writer = SummaryWriter(log_dir=f'runs/{model_folder_name}/final_model_training')\n",
    "\n",
    "best_model_path = f\"./saved_models/{model_folder_name}/deployable_model.pth\"\n",
    "best_final_val_acc = 0.0\n",
    "epochs_without_improvement = 0\n",
    "\n",
    "print(f\"Final training on {len(final_train_subset)} samples, validating on {len(final_val_subset)} for early stopping.\")\n",
    "for epoch in range(1, EPOCHS + 1):\n",
    "    train_start_time = time.time()\n",
    "    train_loss, train_acc = train_epoch(final_model, final_train_loader, optimizer, criterion, DEVICE)\n",
    "    train_end_time = time.time()\n",
    "    train_time = train_end_time - train_start_time\n",
    "    \n",
    "    val_loss, val_acc = validate(final_model, final_val_loader, criterion, DEVICE)\n",
    "    print(f\"Epoch {epoch}: Train Acc: {train_acc:.4f} | Val Acc: {val_acc:.4f}\")\n",
    "    \n",
    "    writer.add_scalar('FinalTrain/Loss/train', train_loss, epoch)\n",
    "    writer.add_scalar('FinalTrain/Accuracy/train', train_acc, epoch)\n",
    "    writer.add_scalar('FinalTrain/Loss/val', val_loss, epoch)\n",
    "    writer.add_scalar('FinalTrain/Accuracy/val', val_acc, epoch)\n",
    "\n",
    "    writer.add_scalar('FinalTrain/Time/train', train_time, epoch)\n",
    "\n",
    "    memory_allocated = torch.cuda.memory_allocated(DEVICE) if torch.cuda.is_available() else 0\n",
    "    memory_reserved = torch.cuda.memory_reserved(DEVICE) if torch.cuda.is_available() else 0\n",
    "\n",
    "    writer.add_scalar('FinalTrain/Memory/allocated', memory_allocated, epoch)\n",
    "    writer.add_scalar('FinalTrain/Memory/reserved', memory_reserved, epoch)\n",
    "\n",
    "    if val_acc > best_final_val_acc:\n",
    "        best_final_val_acc = val_acc\n",
    "        epochs_without_improvement = 0\n",
    "        torch.save(final_model.state_dict(), best_model_path)\n",
    "        print(f\"  New best model saved with val acc: {best_final_val_acc:.4f}\")\n",
    "    else:\n",
    "        epochs_without_improvement += 1\n",
    "        if epochs_without_improvement >= PATIENCE:\n",
    "            print(f\"  Early stopping final training at epoch {epoch}.\")\n",
    "            break\n",
    "writer.close()\n",
    "print(f\"\\n--- FINAL DEPLOYABLE MODEL TRAINING COMPLETE ---\")\n",
    "print(f\"Final deployable model saved to '{best_model_path}'\")"
   ]
  },
  {
   "cell_type": "code",
   "execution_count": null,
   "id": "1a4e414c",
   "metadata": {},
   "outputs": [
    {
     "name": "stdout",
     "output_type": "stream",
     "text": [
      "\n",
      "========================= FINAL TEST SET EVALUATION =========================\n"
     ]
    },
    {
     "name": "stderr",
     "output_type": "stream",
     "text": [
      "Validating: 100%|██████████| 5/5 [00:02<00:00,  2.16it/s]"
     ]
    },
    {
     "name": "stdout",
     "output_type": "stream",
     "text": [
      "\n",
      "--- FINAL TEST SET EVALUATION COMPLETE ---\n",
      "The final accuracy of the deployable model on the test set is: 0.1345\n"
     ]
    },
    {
     "name": "stderr",
     "output_type": "stream",
     "text": [
      "\n"
     ]
    }
   ],
   "source": [
    "print(f\"\\n{'='*25} FINAL TEST SET EVALUATION {'='*25}\")\n",
    "\n",
    "best_model_path = f\"./saved_models/{model_folder_name}/deployable_model.pth\"\n",
    "criterion = nn.CrossEntropyLoss()\n",
    "\n",
    "# Load the best model we just created\n",
    "deployable_model = Solver(args).to(DEVICE)\n",
    "deployable_model.load_state_dict(torch.load(best_model_path))\n",
    "\n",
    "# Create a dataloader for the untouched test set\n",
    "test_start_time = time.time()\n",
    "test_loader = DataLoader(test_dataset, batch_size=BATCH_SIZE, shuffle=False, num_workers=6, pin_memory=True)\n",
    "test_end_time = time.time()\n",
    "test_time = test_end_time - test_start_time\n",
    "\n",
    "# Evaluate ONCE\n",
    "_, final_benchmark_score = validate(deployable_model, test_loader, criterion, DEVICE)\n",
    "\n",
    "writer = SummaryWriter(log_dir=f'runs/{model_folder_name}/final_benchmark')\n",
    "# writer.add_hparams(\n",
    "#     {'model': 'Final Deployable', 'evaluation': 'Official Test Set'},\n",
    "#     {'hparam/final_accuracy': final_benchmark_score},\n",
    "#     {'hparam/final_test_time': test_time}\n",
    "# )\n",
    "\n",
    "writer.add_scalar('FinalBenchmark/Accuracy/test', final_benchmark_score, 0)\n",
    "writer.add_scalar('FinalBenchmark/Time/test', test_time, 0)\n",
    "\n",
    "\n",
    "writer.close()\n",
    "\n",
    "print(f\"\\n--- FINAL TEST SET EVALUATION COMPLETE ---\")\n",
    "print(f\"The final accuracy of the deployable model on the test set is: {final_benchmark_score:.4f}\")"
   ]
  },
  {
   "cell_type": "code",
   "execution_count": null,
   "id": "07b5b51d",
   "metadata": {},
   "outputs": [],
   "source": [
    "# ==============================================================================\n",
    "# FINAL SUMMARY OF ALL RESULTS\n",
    "# ==============================================================================\n",
    "\n",
    "print(f\"\\n\\n{'='*30} OVERALL EXPERIMENT SUMMARY {'='*30}\")\n",
    "print(f\"1. Nested Cross Validation Performance: {mean_cv_acc:.4f} ± {std_cv_acc:.4f}\")\n",
    "print(f\"2. Final Deployable Model Performance (on test set): {final_benchmark_score:.4f}\")"
   ]
  },
  {
   "cell_type": "markdown",
   "id": "180e19cf",
   "metadata": {},
   "source": [
    "# RADIO-1 to RADIO-2 TL"
   ]
  },
  {
   "cell_type": "code",
   "execution_count": null,
   "id": "fdb1314c",
   "metadata": {},
   "outputs": [
    {
     "name": "stdout",
     "output_type": "stream",
     "text": [
      "\n",
      "========================= PERFORMING NESTED CROSS-VALIDATION TRANSFER =========================\n",
      "\n",
      "--- Outer Fold 1/3 ---\n",
      "Training on 2640, Validating on 660...\n",
      "\n",
      "Epoch 1/100 for Fold 1\n"
     ]
    },
    {
     "name": "stderr",
     "output_type": "stream",
     "text": [
      "Training:   0%|          | 0/21 [00:00<?, ?it/s]/vol/venv/icc24/DGL_ENV/lib/python3.12/site-packages/torch/nn/functional.py:1545: UserWarning: dropout2d: Received a 3D input to dropout2d and assuming that channel-wise 1D dropout behavior is desired - input is interpreted as shape (N, C, L), where C is the channel dim. This behavior will change in a future release to interpret the input as one without a batch dimension, i.e. shape (C, H, W). To maintain the 1D channel-wise dropout behavior, please switch to using dropout1d instead.\n",
      "  warnings.warn(\n",
      "Training: 100%|██████████| 21/21 [00:26<00:00,  1.27s/it]\n",
      "Validating: 100%|██████████| 6/6 [00:02<00:00,  2.23it/s]\n"
     ]
    },
    {
     "name": "stdout",
     "output_type": "stream",
     "text": [
      "  Train Loss: 2.0889, Train Acc: 0.1402, Val Loss: 2.0794, Val Acc: 0.1182, Time: 26.70s\n",
      "  New best model for fold 1 at epoch 1: Val Acc: 0.1182\n",
      "\n",
      "Epoch 2/100 for Fold 1\n"
     ]
    },
    {
     "name": "stderr",
     "output_type": "stream",
     "text": [
      "Training: 100%|██████████| 21/21 [00:26<00:00,  1.28s/it]\n",
      "Validating: 100%|██████████| 6/6 [00:02<00:00,  2.23it/s]\n"
     ]
    },
    {
     "name": "stdout",
     "output_type": "stream",
     "text": [
      "  Train Loss: 2.1034, Train Acc: 0.1284, Val Loss: 2.0793, Val Acc: 0.1318, Time: 26.82s\n",
      "  New best model for fold 1 at epoch 2: Val Acc: 0.1318\n",
      "\n",
      "Epoch 3/100 for Fold 1\n"
     ]
    },
    {
     "name": "stderr",
     "output_type": "stream",
     "text": [
      "Training: 100%|██████████| 21/21 [00:26<00:00,  1.28s/it]\n",
      "Validating: 100%|██████████| 6/6 [00:02<00:00,  2.20it/s]\n"
     ]
    },
    {
     "name": "stdout",
     "output_type": "stream",
     "text": [
      "  Train Loss: 2.1001, Train Acc: 0.1216, Val Loss: 2.0794, Val Acc: 0.1212, Time: 26.91s\n",
      "\n",
      "Epoch 4/100 for Fold 1\n"
     ]
    },
    {
     "name": "stderr",
     "output_type": "stream",
     "text": [
      "Training: 100%|██████████| 21/21 [00:26<00:00,  1.28s/it]\n",
      "Validating: 100%|██████████| 6/6 [00:02<00:00,  2.25it/s]\n"
     ]
    },
    {
     "name": "stdout",
     "output_type": "stream",
     "text": [
      "  Train Loss: 2.0897, Train Acc: 0.1326, Val Loss: 2.0795, Val Acc: 0.1167, Time: 26.84s\n",
      "\n",
      "Epoch 5/100 for Fold 1\n"
     ]
    },
    {
     "name": "stderr",
     "output_type": "stream",
     "text": [
      "Training: 100%|██████████| 21/21 [00:26<00:00,  1.27s/it]\n",
      "Validating: 100%|██████████| 6/6 [00:02<00:00,  2.19it/s]\n"
     ]
    },
    {
     "name": "stdout",
     "output_type": "stream",
     "text": [
      "  Train Loss: 2.1005, Train Acc: 0.1193, Val Loss: 2.0794, Val Acc: 0.1197, Time: 26.78s\n",
      "\n",
      "Epoch 6/100 for Fold 1\n"
     ]
    },
    {
     "name": "stderr",
     "output_type": "stream",
     "text": [
      "Training: 100%|██████████| 21/21 [00:26<00:00,  1.28s/it]\n",
      "Validating: 100%|██████████| 6/6 [00:02<00:00,  2.24it/s]\n"
     ]
    },
    {
     "name": "stdout",
     "output_type": "stream",
     "text": [
      "  Train Loss: 2.0926, Train Acc: 0.1322, Val Loss: 2.0794, Val Acc: 0.1258, Time: 26.89s\n",
      "\n",
      "Epoch 7/100 for Fold 1\n"
     ]
    },
    {
     "name": "stderr",
     "output_type": "stream",
     "text": [
      "Training: 100%|██████████| 21/21 [00:26<00:00,  1.27s/it]\n",
      "Validating: 100%|██████████| 6/6 [00:02<00:00,  2.16it/s]\n"
     ]
    },
    {
     "name": "stdout",
     "output_type": "stream",
     "text": [
      "  Train Loss: 2.0928, Train Acc: 0.1239, Val Loss: 2.0794, Val Acc: 0.1000, Time: 26.72s\n",
      "\n",
      "Epoch 8/100 for Fold 1\n"
     ]
    },
    {
     "name": "stderr",
     "output_type": "stream",
     "text": [
      "Training: 100%|██████████| 21/21 [00:26<00:00,  1.28s/it]\n",
      "Validating: 100%|██████████| 6/6 [00:02<00:00,  2.23it/s]\n"
     ]
    },
    {
     "name": "stdout",
     "output_type": "stream",
     "text": [
      "  Train Loss: 2.0901, Train Acc: 0.1307, Val Loss: 2.0794, Val Acc: 0.1242, Time: 26.80s\n",
      "\n",
      "Epoch 9/100 for Fold 1\n"
     ]
    },
    {
     "name": "stderr",
     "output_type": "stream",
     "text": [
      "Training: 100%|██████████| 21/21 [00:26<00:00,  1.28s/it]\n",
      "Validating: 100%|██████████| 6/6 [00:02<00:00,  2.15it/s]\n"
     ]
    },
    {
     "name": "stdout",
     "output_type": "stream",
     "text": [
      "  Train Loss: 2.0847, Train Acc: 0.1182, Val Loss: 2.0795, Val Acc: 0.1091, Time: 26.98s\n",
      "\n",
      "Epoch 10/100 for Fold 1\n"
     ]
    },
    {
     "name": "stderr",
     "output_type": "stream",
     "text": [
      "Training: 100%|██████████| 21/21 [00:26<00:00,  1.28s/it]\n",
      "Validating: 100%|██████████| 6/6 [00:02<00:00,  2.17it/s]\n"
     ]
    },
    {
     "name": "stdout",
     "output_type": "stream",
     "text": [
      "  Train Loss: 2.0871, Train Acc: 0.1307, Val Loss: 2.0795, Val Acc: 0.1106, Time: 26.94s\n",
      "\n",
      "Epoch 11/100 for Fold 1\n"
     ]
    },
    {
     "name": "stderr",
     "output_type": "stream",
     "text": [
      "Training: 100%|██████████| 21/21 [00:26<00:00,  1.28s/it]\n",
      "Validating: 100%|██████████| 6/6 [00:02<00:00,  2.17it/s]\n"
     ]
    },
    {
     "name": "stdout",
     "output_type": "stream",
     "text": [
      "  Train Loss: 2.0859, Train Acc: 0.1261, Val Loss: 2.0795, Val Acc: 0.1030, Time: 26.91s\n",
      "\n",
      "Epoch 12/100 for Fold 1\n"
     ]
    },
    {
     "name": "stderr",
     "output_type": "stream",
     "text": [
      "Training: 100%|██████████| 21/21 [00:26<00:00,  1.28s/it]\n",
      "Validating: 100%|██████████| 6/6 [00:02<00:00,  2.23it/s]\n"
     ]
    },
    {
     "name": "stdout",
     "output_type": "stream",
     "text": [
      "  Train Loss: 2.0879, Train Acc: 0.1186, Val Loss: 2.0794, Val Acc: 0.1015, Time: 26.86s\n",
      "  Early stopping at epoch 12.\n",
      "Loading best model for fold 1 (achieved 0.1318 on inner val set).\n"
     ]
    },
    {
     "name": "stderr",
     "output_type": "stream",
     "text": [
      "Validating: 100%|██████████| 13/13 [00:05<00:00,  2.30it/s]\n"
     ]
    },
    {
     "name": "stdout",
     "output_type": "stream",
     "text": [
      "Performance on Outer Test Set for fold 1: 0.1115\n",
      "\n",
      "--- Outer Fold 2/3 ---\n",
      "Training on 2640, Validating on 660...\n",
      "\n",
      "Epoch 1/100 for Fold 2\n"
     ]
    },
    {
     "name": "stderr",
     "output_type": "stream",
     "text": [
      "Training:   0%|          | 0/21 [00:00<?, ?it/s]/vol/venv/icc24/DGL_ENV/lib/python3.12/site-packages/torch/nn/functional.py:1545: UserWarning: dropout2d: Received a 3D input to dropout2d and assuming that channel-wise 1D dropout behavior is desired - input is interpreted as shape (N, C, L), where C is the channel dim. This behavior will change in a future release to interpret the input as one without a batch dimension, i.e. shape (C, H, W). To maintain the 1D channel-wise dropout behavior, please switch to using dropout1d instead.\n",
      "  warnings.warn(\n",
      "Training: 100%|██████████| 21/21 [00:26<00:00,  1.27s/it]\n",
      "Validating: 100%|██████████| 6/6 [00:02<00:00,  2.23it/s]\n"
     ]
    },
    {
     "name": "stdout",
     "output_type": "stream",
     "text": [
      "  Train Loss: 2.1032, Train Acc: 0.1318, Val Loss: 2.0795, Val Acc: 0.1167, Time: 26.74s\n",
      "  New best model for fold 2 at epoch 1: Val Acc: 0.1167\n",
      "\n",
      "Epoch 2/100 for Fold 2\n"
     ]
    },
    {
     "name": "stderr",
     "output_type": "stream",
     "text": [
      "Training: 100%|██████████| 21/21 [00:26<00:00,  1.27s/it]\n",
      "Validating: 100%|██████████| 6/6 [00:02<00:00,  2.14it/s]\n"
     ]
    },
    {
     "name": "stdout",
     "output_type": "stream",
     "text": [
      "  Train Loss: 2.1048, Train Acc: 0.1186, Val Loss: 2.0795, Val Acc: 0.1121, Time: 26.68s\n",
      "\n",
      "Epoch 3/100 for Fold 2\n"
     ]
    },
    {
     "name": "stderr",
     "output_type": "stream",
     "text": [
      "Training: 100%|██████████| 21/21 [00:26<00:00,  1.28s/it]\n",
      "Validating: 100%|██████████| 6/6 [00:02<00:00,  2.24it/s]\n"
     ]
    },
    {
     "name": "stdout",
     "output_type": "stream",
     "text": [
      "  Train Loss: 2.0980, Train Acc: 0.1159, Val Loss: 2.0795, Val Acc: 0.1030, Time: 26.94s\n",
      "\n",
      "Epoch 4/100 for Fold 2\n"
     ]
    },
    {
     "name": "stderr",
     "output_type": "stream",
     "text": [
      "Training: 100%|██████████| 21/21 [00:26<00:00,  1.28s/it]\n",
      "Validating: 100%|██████████| 6/6 [00:02<00:00,  2.22it/s]\n"
     ]
    },
    {
     "name": "stdout",
     "output_type": "stream",
     "text": [
      "  Train Loss: 2.0911, Train Acc: 0.1326, Val Loss: 2.0794, Val Acc: 0.1379, Time: 26.93s\n",
      "  New best model for fold 2 at epoch 4: Val Acc: 0.1379\n",
      "\n",
      "Epoch 5/100 for Fold 2\n"
     ]
    },
    {
     "name": "stderr",
     "output_type": "stream",
     "text": [
      "Training: 100%|██████████| 21/21 [00:26<00:00,  1.27s/it]\n",
      "Validating: 100%|██████████| 6/6 [00:02<00:00,  2.23it/s]\n"
     ]
    },
    {
     "name": "stdout",
     "output_type": "stream",
     "text": [
      "  Train Loss: 2.0882, Train Acc: 0.1364, Val Loss: 2.0794, Val Acc: 0.1091, Time: 26.78s\n",
      "\n",
      "Epoch 6/100 for Fold 2\n"
     ]
    },
    {
     "name": "stderr",
     "output_type": "stream",
     "text": [
      "Training: 100%|██████████| 21/21 [00:26<00:00,  1.27s/it]\n",
      "Validating: 100%|██████████| 6/6 [00:02<00:00,  2.23it/s]\n"
     ]
    },
    {
     "name": "stdout",
     "output_type": "stream",
     "text": [
      "  Train Loss: 2.0884, Train Acc: 0.1186, Val Loss: 2.0794, Val Acc: 0.1121, Time: 26.70s\n",
      "\n",
      "Epoch 7/100 for Fold 2\n"
     ]
    },
    {
     "name": "stderr",
     "output_type": "stream",
     "text": [
      "Training: 100%|██████████| 21/21 [00:27<00:00,  1.29s/it]\n",
      "Validating: 100%|██████████| 6/6 [00:02<00:00,  2.21it/s]\n"
     ]
    },
    {
     "name": "stdout",
     "output_type": "stream",
     "text": [
      "  Train Loss: 2.0904, Train Acc: 0.1159, Val Loss: 2.0794, Val Acc: 0.1394, Time: 27.02s\n",
      "  New best model for fold 2 at epoch 7: Val Acc: 0.1394\n",
      "\n",
      "Epoch 8/100 for Fold 2\n"
     ]
    },
    {
     "name": "stderr",
     "output_type": "stream",
     "text": [
      "Training: 100%|██████████| 21/21 [00:26<00:00,  1.28s/it]\n",
      "Validating: 100%|██████████| 6/6 [00:02<00:00,  2.24it/s]\n"
     ]
    },
    {
     "name": "stdout",
     "output_type": "stream",
     "text": [
      "  Train Loss: 2.0866, Train Acc: 0.1288, Val Loss: 2.0795, Val Acc: 0.0939, Time: 26.94s\n",
      "\n",
      "Epoch 9/100 for Fold 2\n"
     ]
    },
    {
     "name": "stderr",
     "output_type": "stream",
     "text": [
      "Training: 100%|██████████| 21/21 [00:26<00:00,  1.27s/it]\n",
      "Validating: 100%|██████████| 6/6 [00:02<00:00,  2.20it/s]\n"
     ]
    },
    {
     "name": "stdout",
     "output_type": "stream",
     "text": [
      "  Train Loss: 2.0880, Train Acc: 0.1292, Val Loss: 2.0794, Val Acc: 0.1106, Time: 26.75s\n",
      "\n",
      "Epoch 10/100 for Fold 2\n"
     ]
    },
    {
     "name": "stderr",
     "output_type": "stream",
     "text": [
      "Training: 100%|██████████| 21/21 [00:26<00:00,  1.28s/it]\n",
      "Validating: 100%|██████████| 6/6 [00:02<00:00,  2.23it/s]\n"
     ]
    },
    {
     "name": "stdout",
     "output_type": "stream",
     "text": [
      "  Train Loss: 2.0821, Train Acc: 0.1420, Val Loss: 2.0794, Val Acc: 0.1242, Time: 26.84s\n",
      "\n",
      "Epoch 11/100 for Fold 2\n"
     ]
    },
    {
     "name": "stderr",
     "output_type": "stream",
     "text": [
      "Training: 100%|██████████| 21/21 [00:26<00:00,  1.28s/it]\n",
      "Validating: 100%|██████████| 6/6 [00:02<00:00,  2.24it/s]\n"
     ]
    },
    {
     "name": "stdout",
     "output_type": "stream",
     "text": [
      "  Train Loss: 2.0838, Train Acc: 0.1307, Val Loss: 2.0794, Val Acc: 0.1379, Time: 26.92s\n",
      "\n",
      "Epoch 12/100 for Fold 2\n"
     ]
    },
    {
     "name": "stderr",
     "output_type": "stream",
     "text": [
      "Training: 100%|██████████| 21/21 [00:26<00:00,  1.27s/it]\n",
      "Validating: 100%|██████████| 6/6 [00:02<00:00,  2.22it/s]\n"
     ]
    },
    {
     "name": "stdout",
     "output_type": "stream",
     "text": [
      "  Train Loss: 2.0896, Train Acc: 0.1231, Val Loss: 2.0794, Val Acc: 0.1242, Time: 26.72s\n",
      "\n",
      "Epoch 13/100 for Fold 2\n"
     ]
    },
    {
     "name": "stderr",
     "output_type": "stream",
     "text": [
      "Training: 100%|██████████| 21/21 [00:26<00:00,  1.27s/it]\n",
      "Validating: 100%|██████████| 6/6 [00:02<00:00,  2.22it/s]\n"
     ]
    },
    {
     "name": "stdout",
     "output_type": "stream",
     "text": [
      "  Train Loss: 2.0843, Train Acc: 0.1360, Val Loss: 2.0794, Val Acc: 0.1318, Time: 26.73s\n",
      "\n",
      "Epoch 14/100 for Fold 2\n"
     ]
    },
    {
     "name": "stderr",
     "output_type": "stream",
     "text": [
      "Training: 100%|██████████| 21/21 [00:26<00:00,  1.27s/it]\n",
      "Validating: 100%|██████████| 6/6 [00:02<00:00,  2.23it/s]\n"
     ]
    },
    {
     "name": "stdout",
     "output_type": "stream",
     "text": [
      "  Train Loss: 2.0871, Train Acc: 0.1208, Val Loss: 2.0794, Val Acc: 0.1288, Time: 26.76s\n",
      "\n",
      "Epoch 15/100 for Fold 2\n"
     ]
    },
    {
     "name": "stderr",
     "output_type": "stream",
     "text": [
      "Training: 100%|██████████| 21/21 [00:26<00:00,  1.27s/it]\n",
      "Validating: 100%|██████████| 6/6 [00:02<00:00,  2.22it/s]\n"
     ]
    },
    {
     "name": "stdout",
     "output_type": "stream",
     "text": [
      "  Train Loss: 2.0872, Train Acc: 0.1239, Val Loss: 2.0794, Val Acc: 0.1348, Time: 26.72s\n",
      "\n",
      "Epoch 16/100 for Fold 2\n"
     ]
    },
    {
     "name": "stderr",
     "output_type": "stream",
     "text": [
      "Training: 100%|██████████| 21/21 [00:26<00:00,  1.27s/it]\n",
      "Validating: 100%|██████████| 6/6 [00:02<00:00,  2.22it/s]\n"
     ]
    },
    {
     "name": "stdout",
     "output_type": "stream",
     "text": [
      "  Train Loss: 2.0844, Train Acc: 0.1288, Val Loss: 2.0794, Val Acc: 0.1348, Time: 26.71s\n",
      "\n",
      "Epoch 17/100 for Fold 2\n"
     ]
    },
    {
     "name": "stderr",
     "output_type": "stream",
     "text": [
      "Training: 100%|██████████| 21/21 [00:26<00:00,  1.27s/it]\n",
      "Validating: 100%|██████████| 6/6 [00:02<00:00,  2.20it/s]\n"
     ]
    },
    {
     "name": "stdout",
     "output_type": "stream",
     "text": [
      "  Train Loss: 2.0799, Train Acc: 0.1265, Val Loss: 2.0794, Val Acc: 0.1288, Time: 26.70s\n",
      "  Early stopping at epoch 17.\n",
      "Loading best model for fold 2 (achieved 0.1394 on inner val set).\n"
     ]
    },
    {
     "name": "stderr",
     "output_type": "stream",
     "text": [
      "Validating: 100%|██████████| 13/13 [00:05<00:00,  2.32it/s]\n"
     ]
    },
    {
     "name": "stdout",
     "output_type": "stream",
     "text": [
      "Performance on Outer Test Set for fold 2: 0.1279\n",
      "\n",
      "--- Outer Fold 3/3 ---\n",
      "Training on 2640, Validating on 660...\n",
      "\n",
      "Epoch 1/100 for Fold 3\n"
     ]
    },
    {
     "name": "stderr",
     "output_type": "stream",
     "text": [
      "Training:   0%|          | 0/21 [00:00<?, ?it/s]/vol/venv/icc24/DGL_ENV/lib/python3.12/site-packages/torch/nn/functional.py:1545: UserWarning: dropout2d: Received a 3D input to dropout2d and assuming that channel-wise 1D dropout behavior is desired - input is interpreted as shape (N, C, L), where C is the channel dim. This behavior will change in a future release to interpret the input as one without a batch dimension, i.e. shape (C, H, W). To maintain the 1D channel-wise dropout behavior, please switch to using dropout1d instead.\n",
      "  warnings.warn(\n",
      "Training: 100%|██████████| 21/21 [00:26<00:00,  1.27s/it]\n",
      "Validating: 100%|██████████| 6/6 [00:02<00:00,  2.23it/s]\n"
     ]
    },
    {
     "name": "stdout",
     "output_type": "stream",
     "text": [
      "  Train Loss: 2.1035, Train Acc: 0.1197, Val Loss: 2.0794, Val Acc: 0.1182, Time: 26.70s\n",
      "  New best model for fold 3 at epoch 1: Val Acc: 0.1182\n",
      "\n",
      "Epoch 2/100 for Fold 3\n"
     ]
    },
    {
     "name": "stderr",
     "output_type": "stream",
     "text": [
      "Training: 100%|██████████| 21/21 [00:26<00:00,  1.28s/it]\n",
      "Validating: 100%|██████████| 6/6 [00:02<00:00,  2.24it/s]\n"
     ]
    },
    {
     "name": "stdout",
     "output_type": "stream",
     "text": [
      "  Train Loss: 2.0979, Train Acc: 0.1330, Val Loss: 2.0794, Val Acc: 0.1242, Time: 26.81s\n",
      "  New best model for fold 3 at epoch 2: Val Acc: 0.1242\n",
      "\n",
      "Epoch 3/100 for Fold 3\n"
     ]
    },
    {
     "name": "stderr",
     "output_type": "stream",
     "text": [
      "Training: 100%|██████████| 21/21 [00:26<00:00,  1.28s/it]\n",
      "Validating: 100%|██████████| 6/6 [00:02<00:00,  2.25it/s]\n"
     ]
    },
    {
     "name": "stdout",
     "output_type": "stream",
     "text": [
      "  Train Loss: 2.0938, Train Acc: 0.1223, Val Loss: 2.0794, Val Acc: 0.1288, Time: 26.79s\n",
      "  New best model for fold 3 at epoch 3: Val Acc: 0.1288\n",
      "\n",
      "Epoch 4/100 for Fold 3\n"
     ]
    },
    {
     "name": "stderr",
     "output_type": "stream",
     "text": [
      "Training: 100%|██████████| 21/21 [00:26<00:00,  1.28s/it]\n",
      "Validating: 100%|██████████| 6/6 [00:02<00:00,  2.23it/s]\n"
     ]
    },
    {
     "name": "stdout",
     "output_type": "stream",
     "text": [
      "  Train Loss: 2.0869, Train Acc: 0.1322, Val Loss: 2.0794, Val Acc: 0.1121, Time: 26.80s\n",
      "\n",
      "Epoch 5/100 for Fold 3\n"
     ]
    },
    {
     "name": "stderr",
     "output_type": "stream",
     "text": [
      "Training: 100%|██████████| 21/21 [00:26<00:00,  1.27s/it]\n",
      "Validating: 100%|██████████| 6/6 [00:02<00:00,  2.20it/s]\n"
     ]
    },
    {
     "name": "stdout",
     "output_type": "stream",
     "text": [
      "  Train Loss: 2.0922, Train Acc: 0.1307, Val Loss: 2.0794, Val Acc: 0.1121, Time: 26.78s\n",
      "\n",
      "Epoch 6/100 for Fold 3\n"
     ]
    },
    {
     "name": "stderr",
     "output_type": "stream",
     "text": [
      "Training: 100%|██████████| 21/21 [00:26<00:00,  1.28s/it]\n",
      "Validating: 100%|██████████| 6/6 [00:02<00:00,  2.23it/s]\n"
     ]
    },
    {
     "name": "stdout",
     "output_type": "stream",
     "text": [
      "  Train Loss: 2.0955, Train Acc: 0.1250, Val Loss: 2.0794, Val Acc: 0.1485, Time: 26.84s\n",
      "  New best model for fold 3 at epoch 6: Val Acc: 0.1485\n",
      "\n",
      "Epoch 7/100 for Fold 3\n"
     ]
    },
    {
     "name": "stderr",
     "output_type": "stream",
     "text": [
      "Training: 100%|██████████| 21/21 [00:26<00:00,  1.27s/it]\n",
      "Validating: 100%|██████████| 6/6 [00:02<00:00,  2.24it/s]\n"
     ]
    },
    {
     "name": "stdout",
     "output_type": "stream",
     "text": [
      "  Train Loss: 2.0939, Train Acc: 0.1189, Val Loss: 2.0794, Val Acc: 0.1273, Time: 26.70s\n",
      "\n",
      "Epoch 8/100 for Fold 3\n"
     ]
    },
    {
     "name": "stderr",
     "output_type": "stream",
     "text": [
      "Training: 100%|██████████| 21/21 [00:26<00:00,  1.27s/it]\n",
      "Validating: 100%|██████████| 6/6 [00:02<00:00,  2.22it/s]\n"
     ]
    },
    {
     "name": "stdout",
     "output_type": "stream",
     "text": [
      "  Train Loss: 2.0945, Train Acc: 0.1186, Val Loss: 2.0794, Val Acc: 0.1167, Time: 26.72s\n",
      "\n",
      "Epoch 9/100 for Fold 3\n"
     ]
    },
    {
     "name": "stderr",
     "output_type": "stream",
     "text": [
      "Training: 100%|██████████| 21/21 [00:26<00:00,  1.28s/it]\n",
      "Validating: 100%|██████████| 6/6 [00:02<00:00,  2.23it/s]\n"
     ]
    },
    {
     "name": "stdout",
     "output_type": "stream",
     "text": [
      "  Train Loss: 2.0886, Train Acc: 0.1250, Val Loss: 2.0794, Val Acc: 0.1197, Time: 26.83s\n",
      "\n",
      "Epoch 10/100 for Fold 3\n"
     ]
    },
    {
     "name": "stderr",
     "output_type": "stream",
     "text": [
      "Training: 100%|██████████| 21/21 [00:26<00:00,  1.28s/it]\n",
      "Validating: 100%|██████████| 6/6 [00:02<00:00,  2.23it/s]\n"
     ]
    },
    {
     "name": "stdout",
     "output_type": "stream",
     "text": [
      "  Train Loss: 2.0846, Train Acc: 0.1261, Val Loss: 2.0795, Val Acc: 0.1076, Time: 26.79s\n",
      "\n",
      "Epoch 11/100 for Fold 3\n"
     ]
    },
    {
     "name": "stderr",
     "output_type": "stream",
     "text": [
      "Training: 100%|██████████| 21/21 [00:26<00:00,  1.28s/it]\n",
      "Validating: 100%|██████████| 6/6 [00:02<00:00,  2.22it/s]\n"
     ]
    },
    {
     "name": "stdout",
     "output_type": "stream",
     "text": [
      "  Train Loss: 2.0867, Train Acc: 0.1295, Val Loss: 2.0794, Val Acc: 0.1091, Time: 26.79s\n",
      "\n",
      "Epoch 12/100 for Fold 3\n"
     ]
    },
    {
     "name": "stderr",
     "output_type": "stream",
     "text": [
      "Training: 100%|██████████| 21/21 [00:26<00:00,  1.27s/it]\n",
      "Validating: 100%|██████████| 6/6 [00:02<00:00,  2.23it/s]\n"
     ]
    },
    {
     "name": "stdout",
     "output_type": "stream",
     "text": [
      "  Train Loss: 2.0891, Train Acc: 0.1148, Val Loss: 2.0794, Val Acc: 0.1364, Time: 26.75s\n",
      "\n",
      "Epoch 13/100 for Fold 3\n"
     ]
    },
    {
     "name": "stderr",
     "output_type": "stream",
     "text": [
      "Training: 100%|██████████| 21/21 [00:27<00:00,  1.29s/it]\n",
      "Validating: 100%|██████████| 6/6 [00:02<00:00,  2.23it/s]\n"
     ]
    },
    {
     "name": "stdout",
     "output_type": "stream",
     "text": [
      "  Train Loss: 2.0835, Train Acc: 0.1227, Val Loss: 2.0794, Val Acc: 0.1318, Time: 27.01s\n",
      "\n",
      "Epoch 14/100 for Fold 3\n"
     ]
    },
    {
     "name": "stderr",
     "output_type": "stream",
     "text": [
      "Training: 100%|██████████| 21/21 [00:26<00:00,  1.27s/it]\n",
      "Validating: 100%|██████████| 6/6 [00:02<00:00,  2.14it/s]\n"
     ]
    },
    {
     "name": "stdout",
     "output_type": "stream",
     "text": [
      "  Train Loss: 2.0840, Train Acc: 0.1242, Val Loss: 2.0794, Val Acc: 0.1227, Time: 26.69s\n",
      "\n",
      "Epoch 15/100 for Fold 3\n"
     ]
    },
    {
     "name": "stderr",
     "output_type": "stream",
     "text": [
      "Training: 100%|██████████| 21/21 [00:26<00:00,  1.28s/it]\n",
      "Validating: 100%|██████████| 6/6 [00:02<00:00,  2.25it/s]\n"
     ]
    },
    {
     "name": "stdout",
     "output_type": "stream",
     "text": [
      "  Train Loss: 2.0833, Train Acc: 0.1269, Val Loss: 2.0794, Val Acc: 0.1258, Time: 26.95s\n",
      "\n",
      "Epoch 16/100 for Fold 3\n"
     ]
    },
    {
     "name": "stderr",
     "output_type": "stream",
     "text": [
      "Training: 100%|██████████| 21/21 [00:26<00:00,  1.27s/it]\n",
      "Validating: 100%|██████████| 6/6 [00:02<00:00,  2.21it/s]\n"
     ]
    },
    {
     "name": "stdout",
     "output_type": "stream",
     "text": [
      "  Train Loss: 2.0833, Train Acc: 0.1223, Val Loss: 2.0794, Val Acc: 0.1303, Time: 26.74s\n",
      "  Early stopping at epoch 16.\n",
      "Loading best model for fold 3 (achieved 0.1485 on inner val set).\n"
     ]
    },
    {
     "name": "stderr",
     "output_type": "stream",
     "text": [
      "Validating: 100%|██████████| 13/13 [00:05<00:00,  2.33it/s]"
     ]
    },
    {
     "name": "stdout",
     "output_type": "stream",
     "text": [
      "Performance on Outer Test Set for fold 3: 0.1103\n",
      "\n",
      "--- NESTED CROSS VALIDATION TRANSFER COMPLETE ---\n",
      "Cross-validation accuracies on outer folds: ['0.1115', '0.1279', '0.1103']\n",
      "Mean CV Accuracy: 0.1166 ± 0.0080\n"
     ]
    },
    {
     "name": "stderr",
     "output_type": "stream",
     "text": [
      "\n"
     ]
    },
    {
     "ename": "",
     "evalue": "",
     "output_type": "error",
     "traceback": [
      "\u001b[1;31mThe Kernel crashed while executing code in the current cell or a previous cell. \n",
      "\u001b[1;31mPlease review the code in the cell(s) to identify a possible cause of the failure. \n",
      "\u001b[1;31mClick <a href='https://aka.ms/vscodeJupyterKernelCrash'>here</a> for more info. \n",
      "\u001b[1;31mView Jupyter <a href='command:jupyter.viewOutput'>log</a> for further details."
     ]
    }
   ],
   "source": [
    "from tensorboardX import SummaryWriter\n",
    "import time\n",
    "\n",
    "transfer_model_folder_name = \"./saved_models/RADIO1_DRNet\"\n",
    "model_folder_name = \"RADIO2_DRNet_TRANSFER\"\n",
    "\n",
    "print(f\"\\n{'='*25} PERFORMING NESTED CROSS-VALIDATION TRANSFER {'='*25}\")\n",
    "\n",
    "outer_kfold = StratifiedKFold(n_splits=N_SPLITS, shuffle=True, random_state=RANDOM_SEED)\n",
    "fold_test_results = []\n",
    "\n",
    "for fold, (train_outer_idx, test_outer_idx) in enumerate(outer_kfold.split(np.zeros(len(dev_dataset)), dev_dataset_labels)):\n",
    "    print(f\"\\n--- Outer Fold {fold+1}/{N_SPLITS} ---\")\n",
    "    writer = SummaryWriter(log_dir=f'runs/{model_folder_name}/fold_{fold+1}')\n",
    "\n",
    "    # Create inner train/val split from the outer training set\n",
    "    train_outer_labels = dev_dataset_labels[train_outer_idx]\n",
    "    train_inner_idx, val_inner_idx = train_test_split(\n",
    "        train_outer_idx, test_size=VAL_SPLIT_SIZE, shuffle=True, stratify=train_outer_labels, random_state=RANDOM_SEED\n",
    "    )\n",
    "\n",
    "    # Create subsets from the DEVELOPMENT dataset\n",
    "    train_inner_subset = Subset(dev_dataset, train_inner_idx)\n",
    "    val_inner_subset = Subset(dev_dataset, val_inner_idx)\n",
    "    test_outer_subset = Subset(dev_dataset, test_outer_idx) # This is the \"test set\" for this fold\n",
    "\n",
    "    train_loader = DataLoader(train_inner_subset, batch_size=BATCH_SIZE, shuffle=True, num_workers=6, pin_memory=True)\n",
    "    val_loader = DataLoader(val_inner_subset, batch_size=BATCH_SIZE, shuffle=False, num_workers=6, pin_memory=True)\n",
    "    test_loader = DataLoader(test_outer_subset, batch_size=BATCH_SIZE, shuffle=False, num_workers=6, pin_memory=True)\n",
    "\n",
    "    model = Solver(args).to(DEVICE)\n",
    "\n",
    "    model.load_state_dict(torch.load(f\"{transfer_model_folder_name}/deployable_model.pth\"), strict=False)  # Load the pre-trained model\n",
    "\n",
    "    optimizer = torch.optim.Adam(model.parameters(), lr=LEARNING_RATE, betas=(BETA1, BETA2), eps=EPSILON)\n",
    "    criterion = nn.CrossEntropyLoss()\n",
    "    scheduler = None\n",
    "    scaler = None\n",
    "\n",
    "    best_model_path = f\"./saved_models/{model_folder_name}/best_model_fold_{fold+1}.pth\"\n",
    "    os.makedirs(f\"./saved_models/{model_folder_name}\", exist_ok=True)\n",
    "    best_val_acc_fold = 0.0\n",
    "    epochs_without_improvement = 0\n",
    "\n",
    "    print(f\"Training on {len(train_inner_subset)}, Validating on {len(val_inner_subset)}...\")\n",
    "    for epoch in range(1, EPOCHS + 1):\n",
    "        print(f\"\\nEpoch {epoch}/{EPOCHS} for Fold {fold+1}\")\n",
    "        train_start_time = time.time()\n",
    "        train_loss, train_acc = train_epoch(model, train_loader, optimizer, criterion, DEVICE)\n",
    "        train_end_time = time.time()\n",
    "        train_time = train_end_time - train_start_time\n",
    "\n",
    "        val_loss, val_acc = validate(model, val_loader, criterion, DEVICE)\n",
    "\n",
    "        print(f\"  Train Loss: {train_loss:.4f}, Train Acc: {train_acc:.4f}, Val Loss: {val_loss:.4f}, Val Acc: {val_acc:.4f}, Time: {train_time:.2f}s\")\n",
    "\n",
    "        writer.add_scalar('CV/Loss/train', train_loss, epoch)\n",
    "        writer.add_scalar('CV/Accuracy/train', train_acc, epoch)\n",
    "        writer.add_scalar('CV/Loss/val', val_loss, epoch)\n",
    "        writer.add_scalar('CV/Accuracy/val', val_acc, epoch)\n",
    "        writer.add_scalar('CV/Time/train', train_time, epoch)\n",
    "\n",
    "        memory_allocated = torch.cuda.memory_allocated(DEVICE) if torch.cuda.is_available() else 0\n",
    "        memory_reserved = torch.cuda.memory_reserved(DEVICE) if torch.cuda.is_available() else 0\n",
    "\n",
    "        writer.add_scalar('CV/Memory/allocated', memory_allocated, epoch)\n",
    "        writer.add_scalar('CV/Memory/reserved', memory_reserved, epoch)\n",
    "\n",
    "        if val_acc > best_val_acc_fold:\n",
    "            best_val_acc_fold = val_acc\n",
    "            epochs_without_improvement = 0\n",
    "            torch.save(model.state_dict(), best_model_path)\n",
    "            print(f\"  New best model for fold {fold+1} at epoch {epoch}: Val Acc: {val_acc:.4f}\")\n",
    "        else:\n",
    "            epochs_without_improvement += 1\n",
    "            if epochs_without_improvement >= PATIENCE:\n",
    "                print(f\"  Early stopping at epoch {epoch}.\")\n",
    "                break\n",
    "    \n",
    "    # Evaluate the best model for this fold on the outer test set\n",
    "    print(f\"Loading best model for fold {fold+1} (achieved {best_val_acc_fold:.4f} on inner val set).\")\n",
    "    model.load_state_dict(torch.load(best_model_path))\n",
    "    _, final_fold_test_acc = validate(model, test_loader, criterion, DEVICE)\n",
    "    print(f\"Performance on Outer Test Set for fold {fold+1}: {final_fold_test_acc:.4f}\")\n",
    "    fold_test_results.append(final_fold_test_acc)\n",
    "    writer.add_scalar('CV/Accuracy/test', final_fold_test_acc, epoch)\n",
    "    writer.close()\n",
    "\n",
    "mean_cv_acc = np.mean(fold_test_results)\n",
    "std_cv_acc = np.std(fold_test_results)\n",
    "print(f\"\\n--- NESTED CROSS VALIDATION TRANSFER COMPLETE ---\")\n",
    "print(f\"Cross-validation accuracies on outer folds: {[f'{acc:.4f}' for acc in fold_test_results]}\")\n",
    "print(f\"Mean CV Accuracy: {mean_cv_acc:.4f} ± {std_cv_acc:.4f}\")"
   ]
  }
 ],
 "metadata": {
  "kernelspec": {
   "display_name": "DGL_ENV",
   "language": "python",
   "name": "dgl_env"
  },
  "language_info": {
   "codemirror_mode": {
    "name": "ipython",
    "version": 3
   },
   "file_extension": ".py",
   "mimetype": "text/x-python",
   "name": "python",
   "nbconvert_exporter": "python",
   "pygments_lexer": "ipython3",
   "version": "3.12.3"
  }
 },
 "nbformat": 4,
 "nbformat_minor": 5
}
