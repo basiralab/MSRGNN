{
 "cells": [
  {
   "cell_type": "code",
   "execution_count": 1,
   "id": "39d28230",
   "metadata": {},
   "outputs": [],
   "source": [
    "%load_ext autoreload\n",
    "%autoreload 2"
   ]
  },
  {
   "cell_type": "code",
   "execution_count": 2,
   "id": "fcd03f95",
   "metadata": {},
   "outputs": [],
   "source": [
    "from radio_data_utility import RadioV2Dataset as dataset\n",
    "import argparse\n",
    "import os\n",
    "import json\n",
    "import pickle\n",
    "\n",
    "from torchvision import transforms\n",
    "\n",
    "import torch\n",
    "import numpy as np\n",
    "\n",
    "from torch.utils.data import DataLoader\n",
    "import torch.nn as nn\n",
    "\n",
    "from tqdm import tqdm\n",
    "\n",
    "import time\n",
    "import random"
   ]
  },
  {
   "cell_type": "code",
   "execution_count": 3,
   "id": "383ffc8d",
   "metadata": {},
   "outputs": [],
   "source": [
    "with open('./generated_radio_datasets_split/raven_organsmnist_v2_train.pkl', 'rb') as f:\n",
    "    raven_dataset_v2_organ_train = pickle.load(f)\n",
    "\n",
    "with open('./generated_radio_datasets_split/raven_organsmnist_v2_val.pkl', 'rb') as f:\n",
    "    raven_dataset_v2_organ_val = pickle.load(f)\n",
    "\n",
    "with open('./generated_radio_datasets_split/raven_organsmnist_v2_test.pkl', 'rb') as f:\n",
    "    raven_dataset_v2_organ_test = pickle.load(f)"
   ]
  },
  {
   "cell_type": "code",
   "execution_count": 4,
   "id": "5b88a7d0",
   "metadata": {},
   "outputs": [],
   "source": [
    "# from drnet import Solver, train_epoch, validate, count_parameters\n",
    "from mrnet import MRNet, train_epoch, validate, count_parameters, contrast_loss"
   ]
  },
  {
   "cell_type": "code",
   "execution_count": 5,
   "id": "355285e4",
   "metadata": {},
   "outputs": [],
   "source": [
    "RANDOM_SEED = 42\n",
    "\n",
    "# Set seeds for reproducibility\n",
    "torch.manual_seed(RANDOM_SEED)\n",
    "np.random.seed(RANDOM_SEED)\n",
    "if torch.cuda.is_available():\n",
    "    torch.cuda.manual_seed_all(RANDOM_SEED)"
   ]
  },
  {
   "cell_type": "code",
   "execution_count": 6,
   "id": "59912112",
   "metadata": {},
   "outputs": [],
   "source": [
    "IMG_SIZE = 80\n",
    "\n",
    "train_transform = transforms.Compose([\n",
    "    transforms.ToPILImage(),\n",
    "    transforms.Resize(IMG_SIZE),  # Resize to the specified size\n",
    "    transforms.ToTensor(),\n",
    "])\n",
    "\n",
    "eval_transform = transforms.Compose([\n",
    "    transforms.ToPILImage(),\n",
    "    transforms.Resize(IMG_SIZE),\n",
    "    transforms.ToTensor(),\n",
    "])"
   ]
  },
  {
   "cell_type": "code",
   "execution_count": 7,
   "id": "c07f3477",
   "metadata": {},
   "outputs": [
    {
     "name": "stdout",
     "output_type": "stream",
     "text": [
      "Total samples in training set: 4400\n",
      "Total samples in validation set: 550\n",
      "Total samples in test set: 550\n"
     ]
    }
   ],
   "source": [
    "print(\"Total samples in training set:\", len(raven_dataset_v2_organ_train))\n",
    "print(\"Total samples in validation set:\", len(raven_dataset_v2_organ_val))\n",
    "print(\"Total samples in test set:\", len(raven_dataset_v2_organ_test))"
   ]
  },
  {
   "cell_type": "code",
   "execution_count": 8,
   "id": "a63551a1",
   "metadata": {},
   "outputs": [],
   "source": [
    "train_dataset = dataset(\n",
    "    raven_dataset_v2_organ_train, # Use the split training data\n",
    "    mode=\"train\",\n",
    "    transform_train=train_transform,\n",
    "    transform_eval=eval_transform, # transform_eval is not used by train mode but good to pass\n",
    ")\n",
    "\n",
    "val_dataset = dataset(\n",
    "    raven_dataset_v2_organ_val, # Use the split validation data\n",
    "    mode=\"val\",    # Set mode to \"val\" or \"test\"\n",
    "    transform_train=train_transform, # Not used by val mode\n",
    "    transform_eval=eval_transform,\n",
    ")\n",
    "\n",
    "test_dataset = dataset(\n",
    "    raven_dataset_v2_organ_test, # Use the split test data\n",
    "    mode=\"val\",    # Set mode to \"val\" or \"test\"\n",
    "    transform_train=train_transform, # Not used by test mode\n",
    "    transform_eval=eval_transform,\n",
    ")"
   ]
  },
  {
   "cell_type": "code",
   "execution_count": null,
   "id": "cd02e6d3",
   "metadata": {},
   "outputs": [],
   "source": [
    "import torch\n",
    "import torch.nn as nn\n",
    "import numpy as np\n",
    "import time\n",
    "import json\n",
    "from sklearn.model_selection import StratifiedKFold, train_test_split\n",
    "# ==============================================================================\n",
    "# 1. SETUP - Constants and Parameters\n",
    "# ==============================================================================\n",
    "N_SPLITS = 3 # Number of folds for cross-validation\n",
    "PATIENCE = 10 # Early stopping patience\n",
    "VAL_SPLIT_SIZE = 0.20\n",
    "DEVICE = torch.device(\"cuda\" if torch.cuda.is_available() else \"cpu\")\n",
    "EPOCHS = 100\n",
    "BATCH_SIZE = 128\n",
    "LEARNING_RATE = 1e-3\n",
    "BETA1 = 0.9\n",
    "BETA2 = 0.999\n",
    "EPSILON = 1e-8\n",
    "WEIGHT_DECAY = 1e-6"
   ]
  },
  {
   "cell_type": "code",
   "execution_count": 10,
   "id": "b327c530",
   "metadata": {},
   "outputs": [
    {
     "name": "stdout",
     "output_type": "stream",
     "text": [
      "Total data for Development (Train+Val): 4950 samples.\n",
      "Test Set size: 550 samples. (Will not be used until the very end)\n"
     ]
    }
   ],
   "source": [
    "from torch.utils.data import TensorDataset, ConcatDataset, Subset, DataLoader\n",
    "\n",
    "dev_dataset = ConcatDataset([train_dataset, val_dataset])\n",
    "dev_dataset_labels = np.concatenate([train_dataset.labels, val_dataset.labels])\n",
    "\n",
    "print(f\"Total data for Development (Train+Val): {len(dev_dataset)} samples.\")\n",
    "print(f\"Test Set size: {len(test_dataset)} samples. (Will not be used until the very end)\")"
   ]
  },
  {
   "cell_type": "markdown",
   "id": "937beb35",
   "metadata": {},
   "source": [
    "# RADIO-2 STL"
   ]
  },
  {
   "cell_type": "code",
   "execution_count": 11,
   "id": "f27a87b0",
   "metadata": {},
   "outputs": [],
   "source": [
    "model_folder_name = \"RADIO2_MRNet\"\n",
    "from tensorboardX import SummaryWriter\n",
    "import time"
   ]
  },
  {
   "cell_type": "code",
   "execution_count": 12,
   "id": "f0177fd9",
   "metadata": {},
   "outputs": [
    {
     "name": "stdout",
     "output_type": "stream",
     "text": [
      "\n",
      "========================= PERFORMING NESTED CROSS-VALIDATION =========================\n",
      "\n",
      "--- Outer Fold 1/3 ---\n",
      "LEVELS: 111\n",
      "Training on 2640, Validating on 660...\n",
      "\n",
      "Epoch 1/100 for Fold 1\n"
     ]
    },
    {
     "name": "stderr",
     "output_type": "stream",
     "text": [
      "Training: 100%|██████████| 21/21 [00:06<00:00,  3.00it/s]\n"
     ]
    },
    {
     "name": "stdout",
     "output_type": "stream",
     "text": [
      "Epoch Loss: 0.4812, Accuracy: 0.3280\n"
     ]
    },
    {
     "name": "stderr",
     "output_type": "stream",
     "text": [
      "Validating: 100%|██████████| 6/6 [00:01<00:00,  5.02it/s]\n"
     ]
    },
    {
     "name": "stdout",
     "output_type": "stream",
     "text": [
      "  Train Loss: 0.4812, Train Acc: 0.3280, Val Loss: 1.0560, Val Acc: 0.1818, Time: 6.99s\n",
      "  New best model for fold 1 at epoch 1: Val Acc: 0.1818\n",
      "\n",
      "Epoch 2/100 for Fold 1\n"
     ]
    },
    {
     "name": "stderr",
     "output_type": "stream",
     "text": [
      "Training: 100%|██████████| 21/21 [00:05<00:00,  3.73it/s]\n"
     ]
    },
    {
     "name": "stdout",
     "output_type": "stream",
     "text": [
      "Epoch Loss: 0.3029, Accuracy: 0.4879\n"
     ]
    },
    {
     "name": "stderr",
     "output_type": "stream",
     "text": [
      "Validating: 100%|██████████| 6/6 [00:01<00:00,  4.99it/s]\n"
     ]
    },
    {
     "name": "stdout",
     "output_type": "stream",
     "text": [
      "  Train Loss: 0.3029, Train Acc: 0.4879, Val Loss: 0.3601, Val Acc: 0.4182, Time: 5.64s\n",
      "  New best model for fold 1 at epoch 2: Val Acc: 0.4182\n",
      "\n",
      "Epoch 3/100 for Fold 1\n"
     ]
    },
    {
     "name": "stderr",
     "output_type": "stream",
     "text": [
      "Training: 100%|██████████| 21/21 [00:05<00:00,  3.74it/s]\n"
     ]
    },
    {
     "name": "stdout",
     "output_type": "stream",
     "text": [
      "Epoch Loss: 0.2603, Accuracy: 0.5814\n"
     ]
    },
    {
     "name": "stderr",
     "output_type": "stream",
     "text": [
      "Validating: 100%|██████████| 6/6 [00:01<00:00,  5.02it/s]\n"
     ]
    },
    {
     "name": "stdout",
     "output_type": "stream",
     "text": [
      "  Train Loss: 0.2603, Train Acc: 0.5814, Val Loss: 0.3061, Val Acc: 0.5803, Time: 5.62s\n",
      "  New best model for fold 1 at epoch 3: Val Acc: 0.5803\n",
      "\n",
      "Epoch 4/100 for Fold 1\n"
     ]
    },
    {
     "name": "stderr",
     "output_type": "stream",
     "text": [
      "Training: 100%|██████████| 21/21 [00:05<00:00,  3.69it/s]\n"
     ]
    },
    {
     "name": "stdout",
     "output_type": "stream",
     "text": [
      "Epoch Loss: 0.2337, Accuracy: 0.6595\n"
     ]
    },
    {
     "name": "stderr",
     "output_type": "stream",
     "text": [
      "Validating: 100%|██████████| 6/6 [00:01<00:00,  4.98it/s]\n"
     ]
    },
    {
     "name": "stdout",
     "output_type": "stream",
     "text": [
      "  Train Loss: 0.2337, Train Acc: 0.6595, Val Loss: 0.2696, Val Acc: 0.6348, Time: 5.70s\n",
      "  New best model for fold 1 at epoch 4: Val Acc: 0.6348\n",
      "\n",
      "Epoch 5/100 for Fold 1\n"
     ]
    },
    {
     "name": "stderr",
     "output_type": "stream",
     "text": [
      "Training: 100%|██████████| 21/21 [00:05<00:00,  3.63it/s]\n"
     ]
    },
    {
     "name": "stdout",
     "output_type": "stream",
     "text": [
      "Epoch Loss: 0.2009, Accuracy: 0.7455\n"
     ]
    },
    {
     "name": "stderr",
     "output_type": "stream",
     "text": [
      "Validating: 100%|██████████| 6/6 [00:01<00:00,  5.14it/s]\n"
     ]
    },
    {
     "name": "stdout",
     "output_type": "stream",
     "text": [
      "  Train Loss: 0.2009, Train Acc: 0.7455, Val Loss: 0.2377, Val Acc: 0.6652, Time: 5.79s\n",
      "  New best model for fold 1 at epoch 5: Val Acc: 0.6652\n",
      "\n",
      "Epoch 6/100 for Fold 1\n"
     ]
    },
    {
     "name": "stderr",
     "output_type": "stream",
     "text": [
      "Training: 100%|██████████| 21/21 [00:05<00:00,  3.67it/s]\n"
     ]
    },
    {
     "name": "stdout",
     "output_type": "stream",
     "text": [
      "Epoch Loss: 0.1833, Accuracy: 0.7773\n"
     ]
    },
    {
     "name": "stderr",
     "output_type": "stream",
     "text": [
      "Validating: 100%|██████████| 6/6 [00:01<00:00,  5.18it/s]\n"
     ]
    },
    {
     "name": "stdout",
     "output_type": "stream",
     "text": [
      "  Train Loss: 0.1833, Train Acc: 0.7773, Val Loss: 0.2148, Val Acc: 0.6682, Time: 5.73s\n",
      "  New best model for fold 1 at epoch 6: Val Acc: 0.6682\n",
      "\n",
      "Epoch 7/100 for Fold 1\n"
     ]
    },
    {
     "name": "stderr",
     "output_type": "stream",
     "text": [
      "Training: 100%|██████████| 21/21 [00:05<00:00,  3.69it/s]\n"
     ]
    },
    {
     "name": "stdout",
     "output_type": "stream",
     "text": [
      "Epoch Loss: 0.1555, Accuracy: 0.8307\n"
     ]
    },
    {
     "name": "stderr",
     "output_type": "stream",
     "text": [
      "Validating: 100%|██████████| 6/6 [00:01<00:00,  5.39it/s]\n"
     ]
    },
    {
     "name": "stdout",
     "output_type": "stream",
     "text": [
      "  Train Loss: 0.1555, Train Acc: 0.8307, Val Loss: 0.2518, Val Acc: 0.6864, Time: 5.69s\n",
      "  New best model for fold 1 at epoch 7: Val Acc: 0.6864\n",
      "\n",
      "Epoch 8/100 for Fold 1\n"
     ]
    },
    {
     "name": "stderr",
     "output_type": "stream",
     "text": [
      "Training: 100%|██████████| 21/21 [00:05<00:00,  3.65it/s]\n"
     ]
    },
    {
     "name": "stdout",
     "output_type": "stream",
     "text": [
      "Epoch Loss: 0.1362, Accuracy: 0.8644\n"
     ]
    },
    {
     "name": "stderr",
     "output_type": "stream",
     "text": [
      "Validating: 100%|██████████| 6/6 [00:01<00:00,  5.22it/s]\n"
     ]
    },
    {
     "name": "stdout",
     "output_type": "stream",
     "text": [
      "  Train Loss: 0.1362, Train Acc: 0.8644, Val Loss: 0.2109, Val Acc: 0.7212, Time: 5.76s\n",
      "  New best model for fold 1 at epoch 8: Val Acc: 0.7212\n",
      "\n",
      "Epoch 9/100 for Fold 1\n"
     ]
    },
    {
     "name": "stderr",
     "output_type": "stream",
     "text": [
      "Training: 100%|██████████| 21/21 [00:05<00:00,  3.63it/s]\n"
     ]
    },
    {
     "name": "stdout",
     "output_type": "stream",
     "text": [
      "Epoch Loss: 0.1283, Accuracy: 0.8860\n"
     ]
    },
    {
     "name": "stderr",
     "output_type": "stream",
     "text": [
      "Validating: 100%|██████████| 6/6 [00:01<00:00,  4.97it/s]\n"
     ]
    },
    {
     "name": "stdout",
     "output_type": "stream",
     "text": [
      "  Train Loss: 0.1283, Train Acc: 0.8860, Val Loss: 0.2888, Val Acc: 0.7136, Time: 5.79s\n",
      "\n",
      "Epoch 10/100 for Fold 1\n"
     ]
    },
    {
     "name": "stderr",
     "output_type": "stream",
     "text": [
      "Training: 100%|██████████| 21/21 [00:05<00:00,  3.64it/s]\n"
     ]
    },
    {
     "name": "stdout",
     "output_type": "stream",
     "text": [
      "Epoch Loss: 0.1035, Accuracy: 0.9117\n"
     ]
    },
    {
     "name": "stderr",
     "output_type": "stream",
     "text": [
      "Validating: 100%|██████████| 6/6 [00:01<00:00,  5.23it/s]\n"
     ]
    },
    {
     "name": "stdout",
     "output_type": "stream",
     "text": [
      "  Train Loss: 0.1035, Train Acc: 0.9117, Val Loss: 0.2046, Val Acc: 0.7697, Time: 5.77s\n",
      "  New best model for fold 1 at epoch 10: Val Acc: 0.7697\n",
      "\n",
      "Epoch 11/100 for Fold 1\n"
     ]
    },
    {
     "name": "stderr",
     "output_type": "stream",
     "text": [
      "Training: 100%|██████████| 21/21 [00:05<00:00,  3.69it/s]\n"
     ]
    },
    {
     "name": "stdout",
     "output_type": "stream",
     "text": [
      "Epoch Loss: 0.0953, Accuracy: 0.9273\n"
     ]
    },
    {
     "name": "stderr",
     "output_type": "stream",
     "text": [
      "Validating: 100%|██████████| 6/6 [00:01<00:00,  4.95it/s]\n"
     ]
    },
    {
     "name": "stdout",
     "output_type": "stream",
     "text": [
      "  Train Loss: 0.0953, Train Acc: 0.9273, Val Loss: 0.2504, Val Acc: 0.7515, Time: 5.69s\n",
      "\n",
      "Epoch 12/100 for Fold 1\n"
     ]
    },
    {
     "name": "stderr",
     "output_type": "stream",
     "text": [
      "Training: 100%|██████████| 21/21 [00:05<00:00,  3.58it/s]\n"
     ]
    },
    {
     "name": "stdout",
     "output_type": "stream",
     "text": [
      "Epoch Loss: 0.0941, Accuracy: 0.9246\n"
     ]
    },
    {
     "name": "stderr",
     "output_type": "stream",
     "text": [
      "Validating: 100%|██████████| 6/6 [00:01<00:00,  5.19it/s]\n"
     ]
    },
    {
     "name": "stdout",
     "output_type": "stream",
     "text": [
      "  Train Loss: 0.0941, Train Acc: 0.9246, Val Loss: 0.2248, Val Acc: 0.7515, Time: 5.87s\n",
      "\n",
      "Epoch 13/100 for Fold 1\n"
     ]
    },
    {
     "name": "stderr",
     "output_type": "stream",
     "text": [
      "Training: 100%|██████████| 21/21 [00:05<00:00,  3.69it/s]\n"
     ]
    },
    {
     "name": "stdout",
     "output_type": "stream",
     "text": [
      "Epoch Loss: 0.0766, Accuracy: 0.9394\n"
     ]
    },
    {
     "name": "stderr",
     "output_type": "stream",
     "text": [
      "Validating: 100%|██████████| 6/6 [00:01<00:00,  5.11it/s]\n"
     ]
    },
    {
     "name": "stdout",
     "output_type": "stream",
     "text": [
      "  Train Loss: 0.0766, Train Acc: 0.9394, Val Loss: 0.2030, Val Acc: 0.7879, Time: 5.70s\n",
      "  New best model for fold 1 at epoch 13: Val Acc: 0.7879\n",
      "\n",
      "Epoch 14/100 for Fold 1\n"
     ]
    },
    {
     "name": "stderr",
     "output_type": "stream",
     "text": [
      "Training: 100%|██████████| 21/21 [00:05<00:00,  3.70it/s]\n"
     ]
    },
    {
     "name": "stdout",
     "output_type": "stream",
     "text": [
      "Epoch Loss: 0.0690, Accuracy: 0.9492\n"
     ]
    },
    {
     "name": "stderr",
     "output_type": "stream",
     "text": [
      "Validating: 100%|██████████| 6/6 [00:01<00:00,  5.18it/s]\n"
     ]
    },
    {
     "name": "stdout",
     "output_type": "stream",
     "text": [
      "  Train Loss: 0.0690, Train Acc: 0.9492, Val Loss: 0.2313, Val Acc: 0.7848, Time: 5.69s\n",
      "\n",
      "Epoch 15/100 for Fold 1\n"
     ]
    },
    {
     "name": "stderr",
     "output_type": "stream",
     "text": [
      "Training: 100%|██████████| 21/21 [00:05<00:00,  3.74it/s]\n"
     ]
    },
    {
     "name": "stdout",
     "output_type": "stream",
     "text": [
      "Epoch Loss: 0.0645, Accuracy: 0.9530\n"
     ]
    },
    {
     "name": "stderr",
     "output_type": "stream",
     "text": [
      "Validating: 100%|██████████| 6/6 [00:01<00:00,  5.27it/s]\n"
     ]
    },
    {
     "name": "stdout",
     "output_type": "stream",
     "text": [
      "  Train Loss: 0.0645, Train Acc: 0.9530, Val Loss: 0.2646, Val Acc: 0.7485, Time: 5.62s\n",
      "\n",
      "Epoch 16/100 for Fold 1\n"
     ]
    },
    {
     "name": "stderr",
     "output_type": "stream",
     "text": [
      "Training: 100%|██████████| 21/21 [00:05<00:00,  3.69it/s]\n"
     ]
    },
    {
     "name": "stdout",
     "output_type": "stream",
     "text": [
      "Epoch Loss: 0.0604, Accuracy: 0.9598\n"
     ]
    },
    {
     "name": "stderr",
     "output_type": "stream",
     "text": [
      "Validating: 100%|██████████| 6/6 [00:01<00:00,  5.39it/s]\n"
     ]
    },
    {
     "name": "stdout",
     "output_type": "stream",
     "text": [
      "  Train Loss: 0.0604, Train Acc: 0.9598, Val Loss: 0.2179, Val Acc: 0.7955, Time: 5.69s\n",
      "  New best model for fold 1 at epoch 16: Val Acc: 0.7955\n",
      "\n",
      "Epoch 17/100 for Fold 1\n"
     ]
    },
    {
     "name": "stderr",
     "output_type": "stream",
     "text": [
      "Training: 100%|██████████| 21/21 [00:05<00:00,  3.64it/s]\n"
     ]
    },
    {
     "name": "stdout",
     "output_type": "stream",
     "text": [
      "Epoch Loss: 0.0504, Accuracy: 0.9636\n"
     ]
    },
    {
     "name": "stderr",
     "output_type": "stream",
     "text": [
      "Validating: 100%|██████████| 6/6 [00:01<00:00,  4.71it/s]\n"
     ]
    },
    {
     "name": "stdout",
     "output_type": "stream",
     "text": [
      "  Train Loss: 0.0504, Train Acc: 0.9636, Val Loss: 0.2032, Val Acc: 0.8121, Time: 5.77s\n",
      "  New best model for fold 1 at epoch 17: Val Acc: 0.8121\n",
      "\n",
      "Epoch 18/100 for Fold 1\n"
     ]
    },
    {
     "name": "stderr",
     "output_type": "stream",
     "text": [
      "Training: 100%|██████████| 21/21 [00:05<00:00,  3.62it/s]\n"
     ]
    },
    {
     "name": "stdout",
     "output_type": "stream",
     "text": [
      "Epoch Loss: 0.0478, Accuracy: 0.9758\n"
     ]
    },
    {
     "name": "stderr",
     "output_type": "stream",
     "text": [
      "Validating: 100%|██████████| 6/6 [00:01<00:00,  5.21it/s]\n"
     ]
    },
    {
     "name": "stdout",
     "output_type": "stream",
     "text": [
      "  Train Loss: 0.0478, Train Acc: 0.9758, Val Loss: 0.2319, Val Acc: 0.7758, Time: 5.81s\n",
      "\n",
      "Epoch 19/100 for Fold 1\n"
     ]
    },
    {
     "name": "stderr",
     "output_type": "stream",
     "text": [
      "Training: 100%|██████████| 21/21 [00:05<00:00,  3.55it/s]\n"
     ]
    },
    {
     "name": "stdout",
     "output_type": "stream",
     "text": [
      "Epoch Loss: 0.0505, Accuracy: 0.9727\n"
     ]
    },
    {
     "name": "stderr",
     "output_type": "stream",
     "text": [
      "Validating: 100%|██████████| 6/6 [00:01<00:00,  4.96it/s]\n"
     ]
    },
    {
     "name": "stdout",
     "output_type": "stream",
     "text": [
      "  Train Loss: 0.0505, Train Acc: 0.9727, Val Loss: 0.2009, Val Acc: 0.8061, Time: 5.92s\n",
      "\n",
      "Epoch 20/100 for Fold 1\n"
     ]
    },
    {
     "name": "stderr",
     "output_type": "stream",
     "text": [
      "Training: 100%|██████████| 21/21 [00:05<00:00,  3.71it/s]\n"
     ]
    },
    {
     "name": "stdout",
     "output_type": "stream",
     "text": [
      "Epoch Loss: 0.0448, Accuracy: 0.9754\n"
     ]
    },
    {
     "name": "stderr",
     "output_type": "stream",
     "text": [
      "Validating: 100%|██████████| 6/6 [00:01<00:00,  5.10it/s]\n"
     ]
    },
    {
     "name": "stdout",
     "output_type": "stream",
     "text": [
      "  Train Loss: 0.0448, Train Acc: 0.9754, Val Loss: 0.2302, Val Acc: 0.8076, Time: 5.66s\n",
      "\n",
      "Epoch 21/100 for Fold 1\n"
     ]
    },
    {
     "name": "stderr",
     "output_type": "stream",
     "text": [
      "Training: 100%|██████████| 21/21 [00:05<00:00,  3.71it/s]\n"
     ]
    },
    {
     "name": "stdout",
     "output_type": "stream",
     "text": [
      "Epoch Loss: 0.0363, Accuracy: 0.9841\n"
     ]
    },
    {
     "name": "stderr",
     "output_type": "stream",
     "text": [
      "Validating: 100%|██████████| 6/6 [00:01<00:00,  5.13it/s]\n"
     ]
    },
    {
     "name": "stdout",
     "output_type": "stream",
     "text": [
      "  Train Loss: 0.0363, Train Acc: 0.9841, Val Loss: 0.2246, Val Acc: 0.8136, Time: 5.66s\n",
      "  New best model for fold 1 at epoch 21: Val Acc: 0.8136\n",
      "\n",
      "Epoch 22/100 for Fold 1\n"
     ]
    },
    {
     "name": "stderr",
     "output_type": "stream",
     "text": [
      "Training: 100%|██████████| 21/21 [00:05<00:00,  3.68it/s]\n"
     ]
    },
    {
     "name": "stdout",
     "output_type": "stream",
     "text": [
      "Epoch Loss: 0.0373, Accuracy: 0.9807\n"
     ]
    },
    {
     "name": "stderr",
     "output_type": "stream",
     "text": [
      "Validating: 100%|██████████| 6/6 [00:01<00:00,  5.19it/s]\n"
     ]
    },
    {
     "name": "stdout",
     "output_type": "stream",
     "text": [
      "  Train Loss: 0.0373, Train Acc: 0.9807, Val Loss: 0.2492, Val Acc: 0.8000, Time: 5.70s\n",
      "\n",
      "Epoch 23/100 for Fold 1\n"
     ]
    },
    {
     "name": "stderr",
     "output_type": "stream",
     "text": [
      "Training: 100%|██████████| 21/21 [00:05<00:00,  3.68it/s]\n"
     ]
    },
    {
     "name": "stdout",
     "output_type": "stream",
     "text": [
      "Epoch Loss: 0.0410, Accuracy: 0.9830\n"
     ]
    },
    {
     "name": "stderr",
     "output_type": "stream",
     "text": [
      "Validating: 100%|██████████| 6/6 [00:01<00:00,  4.99it/s]\n"
     ]
    },
    {
     "name": "stdout",
     "output_type": "stream",
     "text": [
      "  Train Loss: 0.0410, Train Acc: 0.9830, Val Loss: 0.2089, Val Acc: 0.8091, Time: 5.72s\n",
      "\n",
      "Epoch 24/100 for Fold 1\n"
     ]
    },
    {
     "name": "stderr",
     "output_type": "stream",
     "text": [
      "Training: 100%|██████████| 21/21 [00:05<00:00,  3.69it/s]\n"
     ]
    },
    {
     "name": "stdout",
     "output_type": "stream",
     "text": [
      "Epoch Loss: 0.0365, Accuracy: 0.9852\n"
     ]
    },
    {
     "name": "stderr",
     "output_type": "stream",
     "text": [
      "Validating: 100%|██████████| 6/6 [00:01<00:00,  5.16it/s]\n"
     ]
    },
    {
     "name": "stdout",
     "output_type": "stream",
     "text": [
      "  Train Loss: 0.0365, Train Acc: 0.9852, Val Loss: 0.2438, Val Acc: 0.7909, Time: 5.69s\n",
      "\n",
      "Epoch 25/100 for Fold 1\n"
     ]
    },
    {
     "name": "stderr",
     "output_type": "stream",
     "text": [
      "Training: 100%|██████████| 21/21 [00:05<00:00,  3.69it/s]\n"
     ]
    },
    {
     "name": "stdout",
     "output_type": "stream",
     "text": [
      "Epoch Loss: 0.0299, Accuracy: 0.9867\n"
     ]
    },
    {
     "name": "stderr",
     "output_type": "stream",
     "text": [
      "Validating: 100%|██████████| 6/6 [00:01<00:00,  5.10it/s]\n"
     ]
    },
    {
     "name": "stdout",
     "output_type": "stream",
     "text": [
      "  Train Loss: 0.0299, Train Acc: 0.9867, Val Loss: 0.2313, Val Acc: 0.8045, Time: 5.69s\n",
      "\n",
      "Epoch 26/100 for Fold 1\n"
     ]
    },
    {
     "name": "stderr",
     "output_type": "stream",
     "text": [
      "Training: 100%|██████████| 21/21 [00:05<00:00,  3.69it/s]\n"
     ]
    },
    {
     "name": "stdout",
     "output_type": "stream",
     "text": [
      "Epoch Loss: 0.0279, Accuracy: 0.9867\n"
     ]
    },
    {
     "name": "stderr",
     "output_type": "stream",
     "text": [
      "Validating: 100%|██████████| 6/6 [00:01<00:00,  5.18it/s]\n"
     ]
    },
    {
     "name": "stdout",
     "output_type": "stream",
     "text": [
      "  Train Loss: 0.0279, Train Acc: 0.9867, Val Loss: 0.2397, Val Acc: 0.8045, Time: 5.70s\n",
      "\n",
      "Epoch 27/100 for Fold 1\n"
     ]
    },
    {
     "name": "stderr",
     "output_type": "stream",
     "text": [
      "Training: 100%|██████████| 21/21 [00:05<00:00,  3.71it/s]\n"
     ]
    },
    {
     "name": "stdout",
     "output_type": "stream",
     "text": [
      "Epoch Loss: 0.0265, Accuracy: 0.9898\n"
     ]
    },
    {
     "name": "stderr",
     "output_type": "stream",
     "text": [
      "Validating: 100%|██████████| 6/6 [00:01<00:00,  5.25it/s]\n"
     ]
    },
    {
     "name": "stdout",
     "output_type": "stream",
     "text": [
      "  Train Loss: 0.0265, Train Acc: 0.9898, Val Loss: 0.2515, Val Acc: 0.8015, Time: 5.67s\n",
      "\n",
      "Epoch 28/100 for Fold 1\n"
     ]
    },
    {
     "name": "stderr",
     "output_type": "stream",
     "text": [
      "Training: 100%|██████████| 21/21 [00:05<00:00,  3.69it/s]\n"
     ]
    },
    {
     "name": "stdout",
     "output_type": "stream",
     "text": [
      "Epoch Loss: 0.0203, Accuracy: 0.9924\n"
     ]
    },
    {
     "name": "stderr",
     "output_type": "stream",
     "text": [
      "Validating: 100%|██████████| 6/6 [00:01<00:00,  5.17it/s]\n"
     ]
    },
    {
     "name": "stdout",
     "output_type": "stream",
     "text": [
      "  Train Loss: 0.0203, Train Acc: 0.9924, Val Loss: 0.2566, Val Acc: 0.7955, Time: 5.69s\n",
      "\n",
      "Epoch 29/100 for Fold 1\n"
     ]
    },
    {
     "name": "stderr",
     "output_type": "stream",
     "text": [
      "Training: 100%|██████████| 21/21 [00:05<00:00,  3.68it/s]\n"
     ]
    },
    {
     "name": "stdout",
     "output_type": "stream",
     "text": [
      "Epoch Loss: 0.0191, Accuracy: 0.9932\n"
     ]
    },
    {
     "name": "stderr",
     "output_type": "stream",
     "text": [
      "Validating: 100%|██████████| 6/6 [00:01<00:00,  5.15it/s]\n"
     ]
    },
    {
     "name": "stdout",
     "output_type": "stream",
     "text": [
      "  Train Loss: 0.0191, Train Acc: 0.9932, Val Loss: 0.2909, Val Acc: 0.7924, Time: 5.71s\n",
      "\n",
      "Epoch 30/100 for Fold 1\n"
     ]
    },
    {
     "name": "stderr",
     "output_type": "stream",
     "text": [
      "Training: 100%|██████████| 21/21 [00:05<00:00,  3.67it/s]\n"
     ]
    },
    {
     "name": "stdout",
     "output_type": "stream",
     "text": [
      "Epoch Loss: 0.0207, Accuracy: 0.9936\n"
     ]
    },
    {
     "name": "stderr",
     "output_type": "stream",
     "text": [
      "Validating: 100%|██████████| 6/6 [00:01<00:00,  5.09it/s]\n"
     ]
    },
    {
     "name": "stdout",
     "output_type": "stream",
     "text": [
      "  Train Loss: 0.0207, Train Acc: 0.9936, Val Loss: 0.2933, Val Acc: 0.8000, Time: 5.73s\n",
      "\n",
      "Epoch 31/100 for Fold 1\n"
     ]
    },
    {
     "name": "stderr",
     "output_type": "stream",
     "text": [
      "Training: 100%|██████████| 21/21 [00:05<00:00,  3.69it/s]\n"
     ]
    },
    {
     "name": "stdout",
     "output_type": "stream",
     "text": [
      "Epoch Loss: 0.0204, Accuracy: 0.9924\n"
     ]
    },
    {
     "name": "stderr",
     "output_type": "stream",
     "text": [
      "Validating: 100%|██████████| 6/6 [00:01<00:00,  5.15it/s]\n"
     ]
    },
    {
     "name": "stdout",
     "output_type": "stream",
     "text": [
      "  Train Loss: 0.0204, Train Acc: 0.9924, Val Loss: 0.2574, Val Acc: 0.8106, Time: 5.70s\n",
      "  Early stopping at epoch 31.\n",
      "Loading best model for fold 1 (achieved 0.8136 on inner val set).\n"
     ]
    },
    {
     "name": "stderr",
     "output_type": "stream",
     "text": [
      "Validating: 100%|██████████| 13/13 [00:01<00:00,  6.90it/s]\n"
     ]
    },
    {
     "name": "stdout",
     "output_type": "stream",
     "text": [
      "Performance on Outer Test Set for fold 1: 0.7952\n",
      "\n",
      "--- Outer Fold 2/3 ---\n",
      "LEVELS: 111\n",
      "Training on 2640, Validating on 660...\n",
      "\n",
      "Epoch 1/100 for Fold 2\n"
     ]
    },
    {
     "name": "stderr",
     "output_type": "stream",
     "text": [
      "Training: 100%|██████████| 21/21 [00:05<00:00,  3.65it/s]\n"
     ]
    },
    {
     "name": "stdout",
     "output_type": "stream",
     "text": [
      "Epoch Loss: 0.4816, Accuracy: 0.3227\n"
     ]
    },
    {
     "name": "stderr",
     "output_type": "stream",
     "text": [
      "Validating: 100%|██████████| 6/6 [00:01<00:00,  5.20it/s]\n"
     ]
    },
    {
     "name": "stdout",
     "output_type": "stream",
     "text": [
      "  Train Loss: 0.4816, Train Acc: 0.3227, Val Loss: 0.5017, Val Acc: 0.3621, Time: 5.76s\n",
      "  New best model for fold 2 at epoch 1: Val Acc: 0.3621\n",
      "\n",
      "Epoch 2/100 for Fold 2\n"
     ]
    },
    {
     "name": "stderr",
     "output_type": "stream",
     "text": [
      "Training: 100%|██████████| 21/21 [00:05<00:00,  3.56it/s]\n"
     ]
    },
    {
     "name": "stdout",
     "output_type": "stream",
     "text": [
      "Epoch Loss: 0.3024, Accuracy: 0.5348\n"
     ]
    },
    {
     "name": "stderr",
     "output_type": "stream",
     "text": [
      "Validating: 100%|██████████| 6/6 [00:01<00:00,  4.92it/s]\n"
     ]
    },
    {
     "name": "stdout",
     "output_type": "stream",
     "text": [
      "  Train Loss: 0.3024, Train Acc: 0.5348, Val Loss: 0.3271, Val Acc: 0.4379, Time: 5.90s\n",
      "  New best model for fold 2 at epoch 2: Val Acc: 0.4379\n",
      "\n",
      "Epoch 3/100 for Fold 2\n"
     ]
    },
    {
     "name": "stderr",
     "output_type": "stream",
     "text": [
      "Training: 100%|██████████| 21/21 [00:05<00:00,  3.67it/s]\n"
     ]
    },
    {
     "name": "stdout",
     "output_type": "stream",
     "text": [
      "Epoch Loss: 0.2556, Accuracy: 0.6277\n"
     ]
    },
    {
     "name": "stderr",
     "output_type": "stream",
     "text": [
      "Validating: 100%|██████████| 6/6 [00:01<00:00,  4.94it/s]\n"
     ]
    },
    {
     "name": "stdout",
     "output_type": "stream",
     "text": [
      "  Train Loss: 0.2556, Train Acc: 0.6277, Val Loss: 0.2866, Val Acc: 0.5742, Time: 5.73s\n",
      "  New best model for fold 2 at epoch 3: Val Acc: 0.5742\n",
      "\n",
      "Epoch 4/100 for Fold 2\n"
     ]
    },
    {
     "name": "stderr",
     "output_type": "stream",
     "text": [
      "Training: 100%|██████████| 21/21 [00:05<00:00,  3.66it/s]\n"
     ]
    },
    {
     "name": "stdout",
     "output_type": "stream",
     "text": [
      "Epoch Loss: 0.2212, Accuracy: 0.6936\n"
     ]
    },
    {
     "name": "stderr",
     "output_type": "stream",
     "text": [
      "Validating: 100%|██████████| 6/6 [00:01<00:00,  5.11it/s]\n"
     ]
    },
    {
     "name": "stdout",
     "output_type": "stream",
     "text": [
      "  Train Loss: 0.2212, Train Acc: 0.6936, Val Loss: 0.2687, Val Acc: 0.5894, Time: 5.74s\n",
      "  New best model for fold 2 at epoch 4: Val Acc: 0.5894\n",
      "\n",
      "Epoch 5/100 for Fold 2\n"
     ]
    },
    {
     "name": "stderr",
     "output_type": "stream",
     "text": [
      "Training: 100%|██████████| 21/21 [00:05<00:00,  3.58it/s]\n"
     ]
    },
    {
     "name": "stdout",
     "output_type": "stream",
     "text": [
      "Epoch Loss: 0.1895, Accuracy: 0.7515\n"
     ]
    },
    {
     "name": "stderr",
     "output_type": "stream",
     "text": [
      "Validating: 100%|██████████| 6/6 [00:01<00:00,  4.93it/s]\n"
     ]
    },
    {
     "name": "stdout",
     "output_type": "stream",
     "text": [
      "  Train Loss: 0.1895, Train Acc: 0.7515, Val Loss: 0.2361, Val Acc: 0.6439, Time: 5.88s\n",
      "  New best model for fold 2 at epoch 5: Val Acc: 0.6439\n",
      "\n",
      "Epoch 6/100 for Fold 2\n"
     ]
    },
    {
     "name": "stderr",
     "output_type": "stream",
     "text": [
      "Training: 100%|██████████| 21/21 [00:05<00:00,  3.68it/s]\n"
     ]
    },
    {
     "name": "stdout",
     "output_type": "stream",
     "text": [
      "Epoch Loss: 0.1708, Accuracy: 0.8034\n"
     ]
    },
    {
     "name": "stderr",
     "output_type": "stream",
     "text": [
      "Validating: 100%|██████████| 6/6 [00:01<00:00,  5.22it/s]\n"
     ]
    },
    {
     "name": "stdout",
     "output_type": "stream",
     "text": [
      "  Train Loss: 0.1708, Train Acc: 0.8034, Val Loss: 0.2267, Val Acc: 0.6652, Time: 5.71s\n",
      "  New best model for fold 2 at epoch 6: Val Acc: 0.6652\n",
      "\n",
      "Epoch 7/100 for Fold 2\n"
     ]
    },
    {
     "name": "stderr",
     "output_type": "stream",
     "text": [
      "Training: 100%|██████████| 21/21 [00:05<00:00,  3.68it/s]\n"
     ]
    },
    {
     "name": "stdout",
     "output_type": "stream",
     "text": [
      "Epoch Loss: 0.1453, Accuracy: 0.8504\n"
     ]
    },
    {
     "name": "stderr",
     "output_type": "stream",
     "text": [
      "Validating: 100%|██████████| 6/6 [00:01<00:00,  5.19it/s]\n"
     ]
    },
    {
     "name": "stdout",
     "output_type": "stream",
     "text": [
      "  Train Loss: 0.1453, Train Acc: 0.8504, Val Loss: 0.2562, Val Acc: 0.6561, Time: 5.71s\n",
      "\n",
      "Epoch 8/100 for Fold 2\n"
     ]
    },
    {
     "name": "stderr",
     "output_type": "stream",
     "text": [
      "Training: 100%|██████████| 21/21 [00:05<00:00,  3.69it/s]\n"
     ]
    },
    {
     "name": "stdout",
     "output_type": "stream",
     "text": [
      "Epoch Loss: 0.1303, Accuracy: 0.8811\n"
     ]
    },
    {
     "name": "stderr",
     "output_type": "stream",
     "text": [
      "Validating: 100%|██████████| 6/6 [00:01<00:00,  5.19it/s]\n"
     ]
    },
    {
     "name": "stdout",
     "output_type": "stream",
     "text": [
      "  Train Loss: 0.1303, Train Acc: 0.8811, Val Loss: 0.2418, Val Acc: 0.7258, Time: 5.69s\n",
      "  New best model for fold 2 at epoch 8: Val Acc: 0.7258\n",
      "\n",
      "Epoch 9/100 for Fold 2\n"
     ]
    },
    {
     "name": "stderr",
     "output_type": "stream",
     "text": [
      "Training: 100%|██████████| 21/21 [00:05<00:00,  3.66it/s]\n"
     ]
    },
    {
     "name": "stdout",
     "output_type": "stream",
     "text": [
      "Epoch Loss: 0.1139, Accuracy: 0.9083\n"
     ]
    },
    {
     "name": "stderr",
     "output_type": "stream",
     "text": [
      "Validating: 100%|██████████| 6/6 [00:01<00:00,  5.15it/s]\n"
     ]
    },
    {
     "name": "stdout",
     "output_type": "stream",
     "text": [
      "  Train Loss: 0.1139, Train Acc: 0.9083, Val Loss: 0.3440, Val Acc: 0.6955, Time: 5.75s\n",
      "\n",
      "Epoch 10/100 for Fold 2\n"
     ]
    },
    {
     "name": "stderr",
     "output_type": "stream",
     "text": [
      "Training: 100%|██████████| 21/21 [00:05<00:00,  3.68it/s]\n"
     ]
    },
    {
     "name": "stdout",
     "output_type": "stream",
     "text": [
      "Epoch Loss: 0.1021, Accuracy: 0.9216\n"
     ]
    },
    {
     "name": "stderr",
     "output_type": "stream",
     "text": [
      "Validating: 100%|██████████| 6/6 [00:01<00:00,  5.14it/s]\n"
     ]
    },
    {
     "name": "stdout",
     "output_type": "stream",
     "text": [
      "  Train Loss: 0.1021, Train Acc: 0.9216, Val Loss: 0.2663, Val Acc: 0.7561, Time: 5.71s\n",
      "  New best model for fold 2 at epoch 10: Val Acc: 0.7561\n",
      "\n",
      "Epoch 11/100 for Fold 2\n"
     ]
    },
    {
     "name": "stderr",
     "output_type": "stream",
     "text": [
      "Training: 100%|██████████| 21/21 [00:05<00:00,  3.68it/s]\n"
     ]
    },
    {
     "name": "stdout",
     "output_type": "stream",
     "text": [
      "Epoch Loss: 0.0886, Accuracy: 0.9394\n"
     ]
    },
    {
     "name": "stderr",
     "output_type": "stream",
     "text": [
      "Validating: 100%|██████████| 6/6 [00:01<00:00,  5.11it/s]\n"
     ]
    },
    {
     "name": "stdout",
     "output_type": "stream",
     "text": [
      "  Train Loss: 0.0886, Train Acc: 0.9394, Val Loss: 0.2574, Val Acc: 0.7076, Time: 5.71s\n",
      "\n",
      "Epoch 12/100 for Fold 2\n"
     ]
    },
    {
     "name": "stderr",
     "output_type": "stream",
     "text": [
      "Training: 100%|██████████| 21/21 [00:05<00:00,  3.63it/s]\n"
     ]
    },
    {
     "name": "stdout",
     "output_type": "stream",
     "text": [
      "Epoch Loss: 0.0816, Accuracy: 0.9500\n"
     ]
    },
    {
     "name": "stderr",
     "output_type": "stream",
     "text": [
      "Validating: 100%|██████████| 6/6 [00:01<00:00,  4.85it/s]\n"
     ]
    },
    {
     "name": "stdout",
     "output_type": "stream",
     "text": [
      "  Train Loss: 0.0816, Train Acc: 0.9500, Val Loss: 0.2078, Val Acc: 0.7636, Time: 5.79s\n",
      "  New best model for fold 2 at epoch 12: Val Acc: 0.7636\n",
      "\n",
      "Epoch 13/100 for Fold 2\n"
     ]
    },
    {
     "name": "stderr",
     "output_type": "stream",
     "text": [
      "Training: 100%|██████████| 21/21 [00:05<00:00,  3.62it/s]\n"
     ]
    },
    {
     "name": "stdout",
     "output_type": "stream",
     "text": [
      "Epoch Loss: 0.0708, Accuracy: 0.9598\n"
     ]
    },
    {
     "name": "stderr",
     "output_type": "stream",
     "text": [
      "Validating: 100%|██████████| 6/6 [00:01<00:00,  5.06it/s]\n"
     ]
    },
    {
     "name": "stdout",
     "output_type": "stream",
     "text": [
      "  Train Loss: 0.0708, Train Acc: 0.9598, Val Loss: 0.2198, Val Acc: 0.7712, Time: 5.81s\n",
      "  New best model for fold 2 at epoch 13: Val Acc: 0.7712\n",
      "\n",
      "Epoch 14/100 for Fold 2\n"
     ]
    },
    {
     "name": "stderr",
     "output_type": "stream",
     "text": [
      "Training: 100%|██████████| 21/21 [00:05<00:00,  3.63it/s]\n"
     ]
    },
    {
     "name": "stdout",
     "output_type": "stream",
     "text": [
      "Epoch Loss: 0.0642, Accuracy: 0.9640\n"
     ]
    },
    {
     "name": "stderr",
     "output_type": "stream",
     "text": [
      "Validating: 100%|██████████| 6/6 [00:01<00:00,  5.11it/s]\n"
     ]
    },
    {
     "name": "stdout",
     "output_type": "stream",
     "text": [
      "  Train Loss: 0.0642, Train Acc: 0.9640, Val Loss: 0.2132, Val Acc: 0.7697, Time: 5.79s\n",
      "\n",
      "Epoch 15/100 for Fold 2\n"
     ]
    },
    {
     "name": "stderr",
     "output_type": "stream",
     "text": [
      "Training: 100%|██████████| 21/21 [00:05<00:00,  3.69it/s]\n"
     ]
    },
    {
     "name": "stdout",
     "output_type": "stream",
     "text": [
      "Epoch Loss: 0.0622, Accuracy: 0.9610\n"
     ]
    },
    {
     "name": "stderr",
     "output_type": "stream",
     "text": [
      "Validating: 100%|██████████| 6/6 [00:01<00:00,  5.15it/s]\n"
     ]
    },
    {
     "name": "stdout",
     "output_type": "stream",
     "text": [
      "  Train Loss: 0.0622, Train Acc: 0.9610, Val Loss: 0.1825, Val Acc: 0.7985, Time: 5.70s\n",
      "  New best model for fold 2 at epoch 15: Val Acc: 0.7985\n",
      "\n",
      "Epoch 16/100 for Fold 2\n"
     ]
    },
    {
     "name": "stderr",
     "output_type": "stream",
     "text": [
      "Training: 100%|██████████| 21/21 [00:05<00:00,  3.57it/s]\n"
     ]
    },
    {
     "name": "stdout",
     "output_type": "stream",
     "text": [
      "Epoch Loss: 0.0517, Accuracy: 0.9712\n"
     ]
    },
    {
     "name": "stderr",
     "output_type": "stream",
     "text": [
      "Validating: 100%|██████████| 6/6 [00:01<00:00,  5.20it/s]\n"
     ]
    },
    {
     "name": "stdout",
     "output_type": "stream",
     "text": [
      "  Train Loss: 0.0517, Train Acc: 0.9712, Val Loss: 0.2217, Val Acc: 0.7833, Time: 5.89s\n",
      "\n",
      "Epoch 17/100 for Fold 2\n"
     ]
    },
    {
     "name": "stderr",
     "output_type": "stream",
     "text": [
      "Training: 100%|██████████| 21/21 [00:05<00:00,  3.71it/s]\n"
     ]
    },
    {
     "name": "stdout",
     "output_type": "stream",
     "text": [
      "Epoch Loss: 0.0491, Accuracy: 0.9758\n"
     ]
    },
    {
     "name": "stderr",
     "output_type": "stream",
     "text": [
      "Validating: 100%|██████████| 6/6 [00:01<00:00,  5.23it/s]\n"
     ]
    },
    {
     "name": "stdout",
     "output_type": "stream",
     "text": [
      "  Train Loss: 0.0491, Train Acc: 0.9758, Val Loss: 0.2213, Val Acc: 0.7833, Time: 5.67s\n",
      "\n",
      "Epoch 18/100 for Fold 2\n"
     ]
    },
    {
     "name": "stderr",
     "output_type": "stream",
     "text": [
      "Training: 100%|██████████| 21/21 [00:05<00:00,  3.57it/s]\n"
     ]
    },
    {
     "name": "stdout",
     "output_type": "stream",
     "text": [
      "Epoch Loss: 0.0437, Accuracy: 0.9799\n"
     ]
    },
    {
     "name": "stderr",
     "output_type": "stream",
     "text": [
      "Validating: 100%|██████████| 6/6 [00:01<00:00,  5.11it/s]\n"
     ]
    },
    {
     "name": "stdout",
     "output_type": "stream",
     "text": [
      "  Train Loss: 0.0437, Train Acc: 0.9799, Val Loss: 0.2329, Val Acc: 0.7788, Time: 5.88s\n",
      "\n",
      "Epoch 19/100 for Fold 2\n"
     ]
    },
    {
     "name": "stderr",
     "output_type": "stream",
     "text": [
      "Training: 100%|██████████| 21/21 [00:05<00:00,  3.67it/s]\n"
     ]
    },
    {
     "name": "stdout",
     "output_type": "stream",
     "text": [
      "Epoch Loss: 0.0441, Accuracy: 0.9795\n"
     ]
    },
    {
     "name": "stderr",
     "output_type": "stream",
     "text": [
      "Validating: 100%|██████████| 6/6 [00:01<00:00,  5.15it/s]\n"
     ]
    },
    {
     "name": "stdout",
     "output_type": "stream",
     "text": [
      "  Train Loss: 0.0441, Train Acc: 0.9795, Val Loss: 0.2570, Val Acc: 0.7667, Time: 5.72s\n",
      "\n",
      "Epoch 20/100 for Fold 2\n"
     ]
    },
    {
     "name": "stderr",
     "output_type": "stream",
     "text": [
      "Training: 100%|██████████| 21/21 [00:05<00:00,  3.69it/s]\n"
     ]
    },
    {
     "name": "stdout",
     "output_type": "stream",
     "text": [
      "Epoch Loss: 0.0411, Accuracy: 0.9769\n"
     ]
    },
    {
     "name": "stderr",
     "output_type": "stream",
     "text": [
      "Validating: 100%|██████████| 6/6 [00:01<00:00,  4.93it/s]\n"
     ]
    },
    {
     "name": "stdout",
     "output_type": "stream",
     "text": [
      "  Train Loss: 0.0411, Train Acc: 0.9769, Val Loss: 0.2273, Val Acc: 0.7788, Time: 5.69s\n",
      "\n",
      "Epoch 21/100 for Fold 2\n"
     ]
    },
    {
     "name": "stderr",
     "output_type": "stream",
     "text": [
      "Training: 100%|██████████| 21/21 [00:05<00:00,  3.70it/s]\n"
     ]
    },
    {
     "name": "stdout",
     "output_type": "stream",
     "text": [
      "Epoch Loss: 0.0371, Accuracy: 0.9848\n"
     ]
    },
    {
     "name": "stderr",
     "output_type": "stream",
     "text": [
      "Validating: 100%|██████████| 6/6 [00:01<00:00,  4.84it/s]\n"
     ]
    },
    {
     "name": "stdout",
     "output_type": "stream",
     "text": [
      "  Train Loss: 0.0371, Train Acc: 0.9848, Val Loss: 0.2467, Val Acc: 0.7682, Time: 5.69s\n",
      "\n",
      "Epoch 22/100 for Fold 2\n"
     ]
    },
    {
     "name": "stderr",
     "output_type": "stream",
     "text": [
      "Training: 100%|██████████| 21/21 [00:05<00:00,  3.71it/s]\n"
     ]
    },
    {
     "name": "stdout",
     "output_type": "stream",
     "text": [
      "Epoch Loss: 0.0359, Accuracy: 0.9867\n"
     ]
    },
    {
     "name": "stderr",
     "output_type": "stream",
     "text": [
      "Validating: 100%|██████████| 6/6 [00:01<00:00,  5.17it/s]\n"
     ]
    },
    {
     "name": "stdout",
     "output_type": "stream",
     "text": [
      "  Train Loss: 0.0359, Train Acc: 0.9867, Val Loss: 0.2649, Val Acc: 0.7864, Time: 5.67s\n",
      "\n",
      "Epoch 23/100 for Fold 2\n"
     ]
    },
    {
     "name": "stderr",
     "output_type": "stream",
     "text": [
      "Training: 100%|██████████| 21/21 [00:05<00:00,  3.70it/s]\n"
     ]
    },
    {
     "name": "stdout",
     "output_type": "stream",
     "text": [
      "Epoch Loss: 0.0351, Accuracy: 0.9845\n"
     ]
    },
    {
     "name": "stderr",
     "output_type": "stream",
     "text": [
      "Validating: 100%|██████████| 6/6 [00:01<00:00,  5.14it/s]\n"
     ]
    },
    {
     "name": "stdout",
     "output_type": "stream",
     "text": [
      "  Train Loss: 0.0351, Train Acc: 0.9845, Val Loss: 0.2393, Val Acc: 0.7697, Time: 5.68s\n",
      "\n",
      "Epoch 24/100 for Fold 2\n"
     ]
    },
    {
     "name": "stderr",
     "output_type": "stream",
     "text": [
      "Training: 100%|██████████| 21/21 [00:05<00:00,  3.71it/s]\n"
     ]
    },
    {
     "name": "stdout",
     "output_type": "stream",
     "text": [
      "Epoch Loss: 0.0278, Accuracy: 0.9871\n"
     ]
    },
    {
     "name": "stderr",
     "output_type": "stream",
     "text": [
      "Validating: 100%|██████████| 6/6 [00:01<00:00,  5.13it/s]\n"
     ]
    },
    {
     "name": "stdout",
     "output_type": "stream",
     "text": [
      "  Train Loss: 0.0278, Train Acc: 0.9871, Val Loss: 0.2281, Val Acc: 0.7955, Time: 5.66s\n",
      "\n",
      "Epoch 25/100 for Fold 2\n"
     ]
    },
    {
     "name": "stderr",
     "output_type": "stream",
     "text": [
      "Training: 100%|██████████| 21/21 [00:05<00:00,  3.69it/s]\n"
     ]
    },
    {
     "name": "stdout",
     "output_type": "stream",
     "text": [
      "Epoch Loss: 0.0282, Accuracy: 0.9864\n"
     ]
    },
    {
     "name": "stderr",
     "output_type": "stream",
     "text": [
      "Validating: 100%|██████████| 6/6 [00:01<00:00,  5.09it/s]\n"
     ]
    },
    {
     "name": "stdout",
     "output_type": "stream",
     "text": [
      "  Train Loss: 0.0282, Train Acc: 0.9864, Val Loss: 0.2629, Val Acc: 0.7636, Time: 5.70s\n",
      "  Early stopping at epoch 25.\n",
      "Loading best model for fold 2 (achieved 0.7985 on inner val set).\n"
     ]
    },
    {
     "name": "stderr",
     "output_type": "stream",
     "text": [
      "Validating: 100%|██████████| 13/13 [00:01<00:00,  6.86it/s]\n"
     ]
    },
    {
     "name": "stdout",
     "output_type": "stream",
     "text": [
      "Performance on Outer Test Set for fold 2: 0.8030\n",
      "\n",
      "--- Outer Fold 3/3 ---\n",
      "LEVELS: 111\n",
      "Training on 2640, Validating on 660...\n",
      "\n",
      "Epoch 1/100 for Fold 3\n"
     ]
    },
    {
     "name": "stderr",
     "output_type": "stream",
     "text": [
      "Training: 100%|██████████| 21/21 [00:05<00:00,  3.68it/s]\n"
     ]
    },
    {
     "name": "stdout",
     "output_type": "stream",
     "text": [
      "Epoch Loss: 0.4813, Accuracy: 0.3212\n"
     ]
    },
    {
     "name": "stderr",
     "output_type": "stream",
     "text": [
      "Validating: 100%|██████████| 6/6 [00:01<00:00,  5.14it/s]\n"
     ]
    },
    {
     "name": "stdout",
     "output_type": "stream",
     "text": [
      "  Train Loss: 0.4813, Train Acc: 0.3212, Val Loss: 0.8826, Val Acc: 0.1667, Time: 5.72s\n",
      "  New best model for fold 3 at epoch 1: Val Acc: 0.1667\n",
      "\n",
      "Epoch 2/100 for Fold 3\n"
     ]
    },
    {
     "name": "stderr",
     "output_type": "stream",
     "text": [
      "Training: 100%|██████████| 21/21 [00:05<00:00,  3.69it/s]\n"
     ]
    },
    {
     "name": "stdout",
     "output_type": "stream",
     "text": [
      "Epoch Loss: 0.3036, Accuracy: 0.5064\n"
     ]
    },
    {
     "name": "stderr",
     "output_type": "stream",
     "text": [
      "Validating: 100%|██████████| 6/6 [00:01<00:00,  4.87it/s]\n"
     ]
    },
    {
     "name": "stdout",
     "output_type": "stream",
     "text": [
      "  Train Loss: 0.3036, Train Acc: 0.5064, Val Loss: 0.4543, Val Acc: 0.1894, Time: 5.69s\n",
      "  New best model for fold 3 at epoch 2: Val Acc: 0.1894\n",
      "\n",
      "Epoch 3/100 for Fold 3\n"
     ]
    },
    {
     "name": "stderr",
     "output_type": "stream",
     "text": [
      "Training: 100%|██████████| 21/21 [00:05<00:00,  3.69it/s]\n"
     ]
    },
    {
     "name": "stdout",
     "output_type": "stream",
     "text": [
      "Epoch Loss: 0.2624, Accuracy: 0.5746\n"
     ]
    },
    {
     "name": "stderr",
     "output_type": "stream",
     "text": [
      "Validating: 100%|██████████| 6/6 [00:01<00:00,  4.97it/s]\n"
     ]
    },
    {
     "name": "stdout",
     "output_type": "stream",
     "text": [
      "  Train Loss: 0.2624, Train Acc: 0.5746, Val Loss: 0.2734, Val Acc: 0.5652, Time: 5.70s\n",
      "  New best model for fold 3 at epoch 3: Val Acc: 0.5652\n",
      "\n",
      "Epoch 4/100 for Fold 3\n"
     ]
    },
    {
     "name": "stderr",
     "output_type": "stream",
     "text": [
      "Training: 100%|██████████| 21/21 [00:05<00:00,  3.65it/s]\n"
     ]
    },
    {
     "name": "stdout",
     "output_type": "stream",
     "text": [
      "Epoch Loss: 0.2338, Accuracy: 0.6648\n"
     ]
    },
    {
     "name": "stderr",
     "output_type": "stream",
     "text": [
      "Validating: 100%|██████████| 6/6 [00:01<00:00,  4.98it/s]\n"
     ]
    },
    {
     "name": "stdout",
     "output_type": "stream",
     "text": [
      "  Train Loss: 0.2338, Train Acc: 0.6648, Val Loss: 0.2991, Val Acc: 0.6121, Time: 5.75s\n",
      "  New best model for fold 3 at epoch 4: Val Acc: 0.6121\n",
      "\n",
      "Epoch 5/100 for Fold 3\n"
     ]
    },
    {
     "name": "stderr",
     "output_type": "stream",
     "text": [
      "Training: 100%|██████████| 21/21 [00:05<00:00,  3.69it/s]\n"
     ]
    },
    {
     "name": "stdout",
     "output_type": "stream",
     "text": [
      "Epoch Loss: 0.2010, Accuracy: 0.7375\n"
     ]
    },
    {
     "name": "stderr",
     "output_type": "stream",
     "text": [
      "Validating: 100%|██████████| 6/6 [00:01<00:00,  5.11it/s]\n"
     ]
    },
    {
     "name": "stdout",
     "output_type": "stream",
     "text": [
      "  Train Loss: 0.2010, Train Acc: 0.7375, Val Loss: 0.2484, Val Acc: 0.6530, Time: 5.70s\n",
      "  New best model for fold 3 at epoch 5: Val Acc: 0.6530\n",
      "\n",
      "Epoch 6/100 for Fold 3\n"
     ]
    },
    {
     "name": "stderr",
     "output_type": "stream",
     "text": [
      "Training: 100%|██████████| 21/21 [00:05<00:00,  3.68it/s]\n"
     ]
    },
    {
     "name": "stdout",
     "output_type": "stream",
     "text": [
      "Epoch Loss: 0.1803, Accuracy: 0.7875\n"
     ]
    },
    {
     "name": "stderr",
     "output_type": "stream",
     "text": [
      "Validating: 100%|██████████| 6/6 [00:01<00:00,  5.21it/s]\n"
     ]
    },
    {
     "name": "stdout",
     "output_type": "stream",
     "text": [
      "  Train Loss: 0.1803, Train Acc: 0.7875, Val Loss: 0.2416, Val Acc: 0.6667, Time: 5.71s\n",
      "  New best model for fold 3 at epoch 6: Val Acc: 0.6667\n",
      "\n",
      "Epoch 7/100 for Fold 3\n"
     ]
    },
    {
     "name": "stderr",
     "output_type": "stream",
     "text": [
      "Training: 100%|██████████| 21/21 [00:05<00:00,  3.67it/s]\n"
     ]
    },
    {
     "name": "stdout",
     "output_type": "stream",
     "text": [
      "Epoch Loss: 0.1554, Accuracy: 0.8364\n"
     ]
    },
    {
     "name": "stderr",
     "output_type": "stream",
     "text": [
      "Validating: 100%|██████████| 6/6 [00:01<00:00,  5.21it/s]\n"
     ]
    },
    {
     "name": "stdout",
     "output_type": "stream",
     "text": [
      "  Train Loss: 0.1554, Train Acc: 0.8364, Val Loss: 0.2647, Val Acc: 0.7030, Time: 5.73s\n",
      "  New best model for fold 3 at epoch 7: Val Acc: 0.7030\n",
      "\n",
      "Epoch 8/100 for Fold 3\n"
     ]
    },
    {
     "name": "stderr",
     "output_type": "stream",
     "text": [
      "Training: 100%|██████████| 21/21 [00:05<00:00,  3.67it/s]\n"
     ]
    },
    {
     "name": "stdout",
     "output_type": "stream",
     "text": [
      "Epoch Loss: 0.1352, Accuracy: 0.8822\n"
     ]
    },
    {
     "name": "stderr",
     "output_type": "stream",
     "text": [
      "Validating: 100%|██████████| 6/6 [00:01<00:00,  5.09it/s]\n"
     ]
    },
    {
     "name": "stdout",
     "output_type": "stream",
     "text": [
      "  Train Loss: 0.1352, Train Acc: 0.8822, Val Loss: 0.2131, Val Acc: 0.7273, Time: 5.72s\n",
      "  New best model for fold 3 at epoch 8: Val Acc: 0.7273\n",
      "\n",
      "Epoch 9/100 for Fold 3\n"
     ]
    },
    {
     "name": "stderr",
     "output_type": "stream",
     "text": [
      "Training: 100%|██████████| 21/21 [00:05<00:00,  3.62it/s]\n"
     ]
    },
    {
     "name": "stdout",
     "output_type": "stream",
     "text": [
      "Epoch Loss: 0.1228, Accuracy: 0.9064\n"
     ]
    },
    {
     "name": "stderr",
     "output_type": "stream",
     "text": [
      "Validating: 100%|██████████| 6/6 [00:01<00:00,  5.08it/s]\n"
     ]
    },
    {
     "name": "stdout",
     "output_type": "stream",
     "text": [
      "  Train Loss: 0.1228, Train Acc: 0.9064, Val Loss: 0.2625, Val Acc: 0.7106, Time: 5.81s\n",
      "\n",
      "Epoch 10/100 for Fold 3\n"
     ]
    },
    {
     "name": "stderr",
     "output_type": "stream",
     "text": [
      "Training: 100%|██████████| 21/21 [00:05<00:00,  3.65it/s]\n"
     ]
    },
    {
     "name": "stdout",
     "output_type": "stream",
     "text": [
      "Epoch Loss: 0.1046, Accuracy: 0.9292\n"
     ]
    },
    {
     "name": "stderr",
     "output_type": "stream",
     "text": [
      "Validating: 100%|██████████| 6/6 [00:01<00:00,  5.19it/s]\n"
     ]
    },
    {
     "name": "stdout",
     "output_type": "stream",
     "text": [
      "  Train Loss: 0.1046, Train Acc: 0.9292, Val Loss: 0.2135, Val Acc: 0.7424, Time: 5.76s\n",
      "  New best model for fold 3 at epoch 10: Val Acc: 0.7424\n",
      "\n",
      "Epoch 11/100 for Fold 3\n"
     ]
    },
    {
     "name": "stderr",
     "output_type": "stream",
     "text": [
      "Training: 100%|██████████| 21/21 [00:05<00:00,  3.71it/s]\n"
     ]
    },
    {
     "name": "stdout",
     "output_type": "stream",
     "text": [
      "Epoch Loss: 0.0943, Accuracy: 0.9496\n"
     ]
    },
    {
     "name": "stderr",
     "output_type": "stream",
     "text": [
      "Validating: 100%|██████████| 6/6 [00:01<00:00,  5.14it/s]\n"
     ]
    },
    {
     "name": "stdout",
     "output_type": "stream",
     "text": [
      "  Train Loss: 0.0943, Train Acc: 0.9496, Val Loss: 0.2228, Val Acc: 0.7561, Time: 5.66s\n",
      "  New best model for fold 3 at epoch 11: Val Acc: 0.7561\n",
      "\n",
      "Epoch 12/100 for Fold 3\n"
     ]
    },
    {
     "name": "stderr",
     "output_type": "stream",
     "text": [
      "Training: 100%|██████████| 21/21 [00:05<00:00,  3.67it/s]\n"
     ]
    },
    {
     "name": "stdout",
     "output_type": "stream",
     "text": [
      "Epoch Loss: 0.0792, Accuracy: 0.9587\n"
     ]
    },
    {
     "name": "stderr",
     "output_type": "stream",
     "text": [
      "Validating: 100%|██████████| 6/6 [00:01<00:00,  5.08it/s]\n"
     ]
    },
    {
     "name": "stdout",
     "output_type": "stream",
     "text": [
      "  Train Loss: 0.0792, Train Acc: 0.9587, Val Loss: 0.2253, Val Acc: 0.7515, Time: 5.72s\n",
      "\n",
      "Epoch 13/100 for Fold 3\n"
     ]
    },
    {
     "name": "stderr",
     "output_type": "stream",
     "text": [
      "Training: 100%|██████████| 21/21 [00:05<00:00,  3.61it/s]\n"
     ]
    },
    {
     "name": "stdout",
     "output_type": "stream",
     "text": [
      "Epoch Loss: 0.0735, Accuracy: 0.9655\n"
     ]
    },
    {
     "name": "stderr",
     "output_type": "stream",
     "text": [
      "Validating: 100%|██████████| 6/6 [00:01<00:00,  5.07it/s]\n"
     ]
    },
    {
     "name": "stdout",
     "output_type": "stream",
     "text": [
      "  Train Loss: 0.0735, Train Acc: 0.9655, Val Loss: 0.2698, Val Acc: 0.7288, Time: 5.82s\n",
      "\n",
      "Epoch 14/100 for Fold 3\n"
     ]
    },
    {
     "name": "stderr",
     "output_type": "stream",
     "text": [
      "Training: 100%|██████████| 21/21 [00:05<00:00,  3.71it/s]\n"
     ]
    },
    {
     "name": "stdout",
     "output_type": "stream",
     "text": [
      "Epoch Loss: 0.0688, Accuracy: 0.9682\n"
     ]
    },
    {
     "name": "stderr",
     "output_type": "stream",
     "text": [
      "Validating: 100%|██████████| 6/6 [00:01<00:00,  5.02it/s]\n"
     ]
    },
    {
     "name": "stdout",
     "output_type": "stream",
     "text": [
      "  Train Loss: 0.0688, Train Acc: 0.9682, Val Loss: 0.2393, Val Acc: 0.7667, Time: 5.67s\n",
      "  New best model for fold 3 at epoch 14: Val Acc: 0.7667\n",
      "\n",
      "Epoch 15/100 for Fold 3\n"
     ]
    },
    {
     "name": "stderr",
     "output_type": "stream",
     "text": [
      "Training: 100%|██████████| 21/21 [00:05<00:00,  3.65it/s]\n"
     ]
    },
    {
     "name": "stdout",
     "output_type": "stream",
     "text": [
      "Epoch Loss: 0.0602, Accuracy: 0.9746\n"
     ]
    },
    {
     "name": "stderr",
     "output_type": "stream",
     "text": [
      "Validating: 100%|██████████| 6/6 [00:01<00:00,  5.18it/s]\n"
     ]
    },
    {
     "name": "stdout",
     "output_type": "stream",
     "text": [
      "  Train Loss: 0.0602, Train Acc: 0.9746, Val Loss: 0.2184, Val Acc: 0.7515, Time: 5.76s\n",
      "\n",
      "Epoch 16/100 for Fold 3\n"
     ]
    },
    {
     "name": "stderr",
     "output_type": "stream",
     "text": [
      "Training: 100%|██████████| 21/21 [00:05<00:00,  3.69it/s]\n"
     ]
    },
    {
     "name": "stdout",
     "output_type": "stream",
     "text": [
      "Epoch Loss: 0.0539, Accuracy: 0.9754\n"
     ]
    },
    {
     "name": "stderr",
     "output_type": "stream",
     "text": [
      "Validating: 100%|██████████| 6/6 [00:01<00:00,  5.18it/s]\n"
     ]
    },
    {
     "name": "stdout",
     "output_type": "stream",
     "text": [
      "  Train Loss: 0.0539, Train Acc: 0.9754, Val Loss: 0.2285, Val Acc: 0.7742, Time: 5.69s\n",
      "  New best model for fold 3 at epoch 16: Val Acc: 0.7742\n",
      "\n",
      "Epoch 17/100 for Fold 3\n"
     ]
    },
    {
     "name": "stderr",
     "output_type": "stream",
     "text": [
      "Training: 100%|██████████| 21/21 [00:05<00:00,  3.68it/s]\n"
     ]
    },
    {
     "name": "stdout",
     "output_type": "stream",
     "text": [
      "Epoch Loss: 0.0472, Accuracy: 0.9830\n"
     ]
    },
    {
     "name": "stderr",
     "output_type": "stream",
     "text": [
      "Validating: 100%|██████████| 6/6 [00:01<00:00,  5.16it/s]\n"
     ]
    },
    {
     "name": "stdout",
     "output_type": "stream",
     "text": [
      "  Train Loss: 0.0472, Train Acc: 0.9830, Val Loss: 0.2689, Val Acc: 0.7455, Time: 5.71s\n",
      "\n",
      "Epoch 18/100 for Fold 3\n"
     ]
    },
    {
     "name": "stderr",
     "output_type": "stream",
     "text": [
      "Training: 100%|██████████| 21/21 [00:05<00:00,  3.61it/s]\n"
     ]
    },
    {
     "name": "stdout",
     "output_type": "stream",
     "text": [
      "Epoch Loss: 0.0415, Accuracy: 0.9841\n"
     ]
    },
    {
     "name": "stderr",
     "output_type": "stream",
     "text": [
      "Validating: 100%|██████████| 6/6 [00:01<00:00,  5.12it/s]\n"
     ]
    },
    {
     "name": "stdout",
     "output_type": "stream",
     "text": [
      "  Train Loss: 0.0415, Train Acc: 0.9841, Val Loss: 0.2401, Val Acc: 0.7697, Time: 5.82s\n",
      "\n",
      "Epoch 19/100 for Fold 3\n"
     ]
    },
    {
     "name": "stderr",
     "output_type": "stream",
     "text": [
      "Training: 100%|██████████| 21/21 [00:05<00:00,  3.63it/s]\n"
     ]
    },
    {
     "name": "stdout",
     "output_type": "stream",
     "text": [
      "Epoch Loss: 0.0427, Accuracy: 0.9845\n"
     ]
    },
    {
     "name": "stderr",
     "output_type": "stream",
     "text": [
      "Validating: 100%|██████████| 6/6 [00:01<00:00,  5.23it/s]\n"
     ]
    },
    {
     "name": "stdout",
     "output_type": "stream",
     "text": [
      "  Train Loss: 0.0427, Train Acc: 0.9845, Val Loss: 0.2384, Val Acc: 0.7712, Time: 5.80s\n",
      "\n",
      "Epoch 20/100 for Fold 3\n"
     ]
    },
    {
     "name": "stderr",
     "output_type": "stream",
     "text": [
      "Training: 100%|██████████| 21/21 [00:05<00:00,  3.67it/s]\n"
     ]
    },
    {
     "name": "stdout",
     "output_type": "stream",
     "text": [
      "Epoch Loss: 0.0306, Accuracy: 0.9902\n"
     ]
    },
    {
     "name": "stderr",
     "output_type": "stream",
     "text": [
      "Validating: 100%|██████████| 6/6 [00:01<00:00,  5.14it/s]\n"
     ]
    },
    {
     "name": "stdout",
     "output_type": "stream",
     "text": [
      "  Train Loss: 0.0306, Train Acc: 0.9902, Val Loss: 0.2399, Val Acc: 0.7742, Time: 5.73s\n",
      "\n",
      "Epoch 21/100 for Fold 3\n"
     ]
    },
    {
     "name": "stderr",
     "output_type": "stream",
     "text": [
      "Training: 100%|██████████| 21/21 [00:05<00:00,  3.65it/s]\n"
     ]
    },
    {
     "name": "stdout",
     "output_type": "stream",
     "text": [
      "Epoch Loss: 0.0272, Accuracy: 0.9917\n"
     ]
    },
    {
     "name": "stderr",
     "output_type": "stream",
     "text": [
      "Validating: 100%|██████████| 6/6 [00:01<00:00,  5.38it/s]\n"
     ]
    },
    {
     "name": "stdout",
     "output_type": "stream",
     "text": [
      "  Train Loss: 0.0272, Train Acc: 0.9917, Val Loss: 0.2688, Val Acc: 0.7879, Time: 5.76s\n",
      "  New best model for fold 3 at epoch 21: Val Acc: 0.7879\n",
      "\n",
      "Epoch 22/100 for Fold 3\n"
     ]
    },
    {
     "name": "stderr",
     "output_type": "stream",
     "text": [
      "Training: 100%|██████████| 21/21 [00:05<00:00,  3.54it/s]\n"
     ]
    },
    {
     "name": "stdout",
     "output_type": "stream",
     "text": [
      "Epoch Loss: 0.0341, Accuracy: 0.9894\n"
     ]
    },
    {
     "name": "stderr",
     "output_type": "stream",
     "text": [
      "Validating: 100%|██████████| 6/6 [00:01<00:00,  5.19it/s]\n"
     ]
    },
    {
     "name": "stdout",
     "output_type": "stream",
     "text": [
      "  Train Loss: 0.0341, Train Acc: 0.9894, Val Loss: 0.2608, Val Acc: 0.7727, Time: 5.93s\n",
      "\n",
      "Epoch 23/100 for Fold 3\n"
     ]
    },
    {
     "name": "stderr",
     "output_type": "stream",
     "text": [
      "Training: 100%|██████████| 21/21 [00:05<00:00,  3.71it/s]\n"
     ]
    },
    {
     "name": "stdout",
     "output_type": "stream",
     "text": [
      "Epoch Loss: 0.0378, Accuracy: 0.9917\n"
     ]
    },
    {
     "name": "stderr",
     "output_type": "stream",
     "text": [
      "Validating: 100%|██████████| 6/6 [00:01<00:00,  5.14it/s]\n"
     ]
    },
    {
     "name": "stdout",
     "output_type": "stream",
     "text": [
      "  Train Loss: 0.0378, Train Acc: 0.9917, Val Loss: 0.2596, Val Acc: 0.7652, Time: 5.66s\n",
      "\n",
      "Epoch 24/100 for Fold 3\n"
     ]
    },
    {
     "name": "stderr",
     "output_type": "stream",
     "text": [
      "Training: 100%|██████████| 21/21 [00:05<00:00,  3.64it/s]\n"
     ]
    },
    {
     "name": "stdout",
     "output_type": "stream",
     "text": [
      "Epoch Loss: 0.0340, Accuracy: 0.9909\n"
     ]
    },
    {
     "name": "stderr",
     "output_type": "stream",
     "text": [
      "Validating: 100%|██████████| 6/6 [00:01<00:00,  4.82it/s]\n"
     ]
    },
    {
     "name": "stdout",
     "output_type": "stream",
     "text": [
      "  Train Loss: 0.0340, Train Acc: 0.9909, Val Loss: 0.2535, Val Acc: 0.7939, Time: 5.78s\n",
      "  New best model for fold 3 at epoch 24: Val Acc: 0.7939\n",
      "\n",
      "Epoch 25/100 for Fold 3\n"
     ]
    },
    {
     "name": "stderr",
     "output_type": "stream",
     "text": [
      "Training: 100%|██████████| 21/21 [00:05<00:00,  3.55it/s]\n"
     ]
    },
    {
     "name": "stdout",
     "output_type": "stream",
     "text": [
      "Epoch Loss: 0.0299, Accuracy: 0.9939\n"
     ]
    },
    {
     "name": "stderr",
     "output_type": "stream",
     "text": [
      "Validating: 100%|██████████| 6/6 [00:01<00:00,  5.11it/s]\n"
     ]
    },
    {
     "name": "stdout",
     "output_type": "stream",
     "text": [
      "  Train Loss: 0.0299, Train Acc: 0.9939, Val Loss: 0.2657, Val Acc: 0.7758, Time: 5.91s\n",
      "\n",
      "Epoch 26/100 for Fold 3\n"
     ]
    },
    {
     "name": "stderr",
     "output_type": "stream",
     "text": [
      "Training: 100%|██████████| 21/21 [00:05<00:00,  3.68it/s]\n"
     ]
    },
    {
     "name": "stdout",
     "output_type": "stream",
     "text": [
      "Epoch Loss: 0.0222, Accuracy: 0.9939\n"
     ]
    },
    {
     "name": "stderr",
     "output_type": "stream",
     "text": [
      "Validating: 100%|██████████| 6/6 [00:01<00:00,  5.08it/s]\n"
     ]
    },
    {
     "name": "stdout",
     "output_type": "stream",
     "text": [
      "  Train Loss: 0.0222, Train Acc: 0.9939, Val Loss: 0.2515, Val Acc: 0.7924, Time: 5.71s\n",
      "\n",
      "Epoch 27/100 for Fold 3\n"
     ]
    },
    {
     "name": "stderr",
     "output_type": "stream",
     "text": [
      "Training: 100%|██████████| 21/21 [00:05<00:00,  3.69it/s]\n"
     ]
    },
    {
     "name": "stdout",
     "output_type": "stream",
     "text": [
      "Epoch Loss: 0.0191, Accuracy: 0.9973\n"
     ]
    },
    {
     "name": "stderr",
     "output_type": "stream",
     "text": [
      "Validating: 100%|██████████| 6/6 [00:01<00:00,  5.09it/s]\n"
     ]
    },
    {
     "name": "stdout",
     "output_type": "stream",
     "text": [
      "  Train Loss: 0.0191, Train Acc: 0.9973, Val Loss: 0.2450, Val Acc: 0.7894, Time: 5.70s\n",
      "\n",
      "Epoch 28/100 for Fold 3\n"
     ]
    },
    {
     "name": "stderr",
     "output_type": "stream",
     "text": [
      "Training: 100%|██████████| 21/21 [00:05<00:00,  3.55it/s]\n"
     ]
    },
    {
     "name": "stdout",
     "output_type": "stream",
     "text": [
      "Epoch Loss: 0.0198, Accuracy: 0.9962\n"
     ]
    },
    {
     "name": "stderr",
     "output_type": "stream",
     "text": [
      "Validating: 100%|██████████| 6/6 [00:01<00:00,  5.00it/s]\n"
     ]
    },
    {
     "name": "stdout",
     "output_type": "stream",
     "text": [
      "  Train Loss: 0.0198, Train Acc: 0.9962, Val Loss: 0.2826, Val Acc: 0.7712, Time: 5.92s\n",
      "\n",
      "Epoch 29/100 for Fold 3\n"
     ]
    },
    {
     "name": "stderr",
     "output_type": "stream",
     "text": [
      "Training: 100%|██████████| 21/21 [00:05<00:00,  3.65it/s]\n"
     ]
    },
    {
     "name": "stdout",
     "output_type": "stream",
     "text": [
      "Epoch Loss: 0.0204, Accuracy: 0.9973\n"
     ]
    },
    {
     "name": "stderr",
     "output_type": "stream",
     "text": [
      "Validating: 100%|██████████| 6/6 [00:01<00:00,  5.16it/s]\n"
     ]
    },
    {
     "name": "stdout",
     "output_type": "stream",
     "text": [
      "  Train Loss: 0.0204, Train Acc: 0.9973, Val Loss: 0.2607, Val Acc: 0.7909, Time: 5.75s\n",
      "\n",
      "Epoch 30/100 for Fold 3\n"
     ]
    },
    {
     "name": "stderr",
     "output_type": "stream",
     "text": [
      "Training: 100%|██████████| 21/21 [00:05<00:00,  3.61it/s]\n"
     ]
    },
    {
     "name": "stdout",
     "output_type": "stream",
     "text": [
      "Epoch Loss: 0.0172, Accuracy: 0.9977\n"
     ]
    },
    {
     "name": "stderr",
     "output_type": "stream",
     "text": [
      "Validating: 100%|██████████| 6/6 [00:01<00:00,  5.04it/s]\n"
     ]
    },
    {
     "name": "stdout",
     "output_type": "stream",
     "text": [
      "  Train Loss: 0.0172, Train Acc: 0.9977, Val Loss: 0.3241, Val Acc: 0.7773, Time: 5.82s\n",
      "\n",
      "Epoch 31/100 for Fold 3\n"
     ]
    },
    {
     "name": "stderr",
     "output_type": "stream",
     "text": [
      "Training: 100%|██████████| 21/21 [00:05<00:00,  3.68it/s]\n"
     ]
    },
    {
     "name": "stdout",
     "output_type": "stream",
     "text": [
      "Epoch Loss: 0.0130, Accuracy: 0.9989\n"
     ]
    },
    {
     "name": "stderr",
     "output_type": "stream",
     "text": [
      "Validating: 100%|██████████| 6/6 [00:01<00:00,  5.11it/s]\n"
     ]
    },
    {
     "name": "stdout",
     "output_type": "stream",
     "text": [
      "  Train Loss: 0.0130, Train Acc: 0.9989, Val Loss: 0.2937, Val Acc: 0.7833, Time: 5.72s\n",
      "\n",
      "Epoch 32/100 for Fold 3\n"
     ]
    },
    {
     "name": "stderr",
     "output_type": "stream",
     "text": [
      "Training: 100%|██████████| 21/21 [00:05<00:00,  3.71it/s]\n"
     ]
    },
    {
     "name": "stdout",
     "output_type": "stream",
     "text": [
      "Epoch Loss: 0.0131, Accuracy: 0.9989\n"
     ]
    },
    {
     "name": "stderr",
     "output_type": "stream",
     "text": [
      "Validating: 100%|██████████| 6/6 [00:01<00:00,  5.15it/s]\n"
     ]
    },
    {
     "name": "stdout",
     "output_type": "stream",
     "text": [
      "  Train Loss: 0.0131, Train Acc: 0.9989, Val Loss: 0.2813, Val Acc: 0.8045, Time: 5.66s\n",
      "  New best model for fold 3 at epoch 32: Val Acc: 0.8045\n",
      "\n",
      "Epoch 33/100 for Fold 3\n"
     ]
    },
    {
     "name": "stderr",
     "output_type": "stream",
     "text": [
      "Training: 100%|██████████| 21/21 [00:05<00:00,  3.58it/s]\n"
     ]
    },
    {
     "name": "stdout",
     "output_type": "stream",
     "text": [
      "Epoch Loss: 0.0162, Accuracy: 0.9985\n"
     ]
    },
    {
     "name": "stderr",
     "output_type": "stream",
     "text": [
      "Validating: 100%|██████████| 6/6 [00:01<00:00,  5.20it/s]\n"
     ]
    },
    {
     "name": "stdout",
     "output_type": "stream",
     "text": [
      "  Train Loss: 0.0162, Train Acc: 0.9985, Val Loss: 0.2743, Val Acc: 0.7879, Time: 5.87s\n",
      "\n",
      "Epoch 34/100 for Fold 3\n"
     ]
    },
    {
     "name": "stderr",
     "output_type": "stream",
     "text": [
      "Training: 100%|██████████| 21/21 [00:05<00:00,  3.68it/s]\n"
     ]
    },
    {
     "name": "stdout",
     "output_type": "stream",
     "text": [
      "Epoch Loss: 0.0137, Accuracy: 0.9996\n"
     ]
    },
    {
     "name": "stderr",
     "output_type": "stream",
     "text": [
      "Validating: 100%|██████████| 6/6 [00:01<00:00,  5.04it/s]\n"
     ]
    },
    {
     "name": "stdout",
     "output_type": "stream",
     "text": [
      "  Train Loss: 0.0137, Train Acc: 0.9996, Val Loss: 0.2946, Val Acc: 0.7864, Time: 5.71s\n",
      "\n",
      "Epoch 35/100 for Fold 3\n"
     ]
    },
    {
     "name": "stderr",
     "output_type": "stream",
     "text": [
      "Training: 100%|██████████| 21/21 [00:05<00:00,  3.65it/s]\n"
     ]
    },
    {
     "name": "stdout",
     "output_type": "stream",
     "text": [
      "Epoch Loss: 0.0164, Accuracy: 0.9973\n"
     ]
    },
    {
     "name": "stderr",
     "output_type": "stream",
     "text": [
      "Validating: 100%|██████████| 6/6 [00:01<00:00,  5.16it/s]\n"
     ]
    },
    {
     "name": "stdout",
     "output_type": "stream",
     "text": [
      "  Train Loss: 0.0164, Train Acc: 0.9973, Val Loss: 0.3138, Val Acc: 0.7803, Time: 5.75s\n",
      "\n",
      "Epoch 36/100 for Fold 3\n"
     ]
    },
    {
     "name": "stderr",
     "output_type": "stream",
     "text": [
      "Training: 100%|██████████| 21/21 [00:05<00:00,  3.68it/s]\n"
     ]
    },
    {
     "name": "stdout",
     "output_type": "stream",
     "text": [
      "Epoch Loss: 0.0170, Accuracy: 0.9992\n"
     ]
    },
    {
     "name": "stderr",
     "output_type": "stream",
     "text": [
      "Validating: 100%|██████████| 6/6 [00:01<00:00,  5.23it/s]\n"
     ]
    },
    {
     "name": "stdout",
     "output_type": "stream",
     "text": [
      "  Train Loss: 0.0170, Train Acc: 0.9992, Val Loss: 0.2834, Val Acc: 0.8000, Time: 5.70s\n",
      "\n",
      "Epoch 37/100 for Fold 3\n"
     ]
    },
    {
     "name": "stderr",
     "output_type": "stream",
     "text": [
      "Training: 100%|██████████| 21/21 [00:05<00:00,  3.68it/s]\n"
     ]
    },
    {
     "name": "stdout",
     "output_type": "stream",
     "text": [
      "Epoch Loss: 0.0165, Accuracy: 0.9992\n"
     ]
    },
    {
     "name": "stderr",
     "output_type": "stream",
     "text": [
      "Validating: 100%|██████████| 6/6 [00:01<00:00,  4.97it/s]\n"
     ]
    },
    {
     "name": "stdout",
     "output_type": "stream",
     "text": [
      "  Train Loss: 0.0165, Train Acc: 0.9992, Val Loss: 0.2633, Val Acc: 0.8167, Time: 5.71s\n",
      "  New best model for fold 3 at epoch 37: Val Acc: 0.8167\n",
      "\n",
      "Epoch 38/100 for Fold 3\n"
     ]
    },
    {
     "name": "stderr",
     "output_type": "stream",
     "text": [
      "Training: 100%|██████████| 21/21 [00:05<00:00,  3.66it/s]\n"
     ]
    },
    {
     "name": "stdout",
     "output_type": "stream",
     "text": [
      "Epoch Loss: 0.0165, Accuracy: 0.9989\n"
     ]
    },
    {
     "name": "stderr",
     "output_type": "stream",
     "text": [
      "Validating: 100%|██████████| 6/6 [00:01<00:00,  5.08it/s]\n"
     ]
    },
    {
     "name": "stdout",
     "output_type": "stream",
     "text": [
      "  Train Loss: 0.0165, Train Acc: 0.9989, Val Loss: 0.2799, Val Acc: 0.8015, Time: 5.74s\n",
      "\n",
      "Epoch 39/100 for Fold 3\n"
     ]
    },
    {
     "name": "stderr",
     "output_type": "stream",
     "text": [
      "Training: 100%|██████████| 21/21 [00:05<00:00,  3.70it/s]\n"
     ]
    },
    {
     "name": "stdout",
     "output_type": "stream",
     "text": [
      "Epoch Loss: 0.0150, Accuracy: 0.9989\n"
     ]
    },
    {
     "name": "stderr",
     "output_type": "stream",
     "text": [
      "Validating: 100%|██████████| 6/6 [00:01<00:00,  4.91it/s]\n"
     ]
    },
    {
     "name": "stdout",
     "output_type": "stream",
     "text": [
      "  Train Loss: 0.0150, Train Acc: 0.9989, Val Loss: 0.3165, Val Acc: 0.7818, Time: 5.69s\n",
      "\n",
      "Epoch 40/100 for Fold 3\n"
     ]
    },
    {
     "name": "stderr",
     "output_type": "stream",
     "text": [
      "Training: 100%|██████████| 21/21 [00:05<00:00,  3.70it/s]\n"
     ]
    },
    {
     "name": "stdout",
     "output_type": "stream",
     "text": [
      "Epoch Loss: 0.0140, Accuracy: 0.9992\n"
     ]
    },
    {
     "name": "stderr",
     "output_type": "stream",
     "text": [
      "Validating: 100%|██████████| 6/6 [00:01<00:00,  5.07it/s]\n"
     ]
    },
    {
     "name": "stdout",
     "output_type": "stream",
     "text": [
      "  Train Loss: 0.0140, Train Acc: 0.9992, Val Loss: 0.2817, Val Acc: 0.8136, Time: 5.68s\n",
      "\n",
      "Epoch 41/100 for Fold 3\n"
     ]
    },
    {
     "name": "stderr",
     "output_type": "stream",
     "text": [
      "Training: 100%|██████████| 21/21 [00:05<00:00,  3.67it/s]\n"
     ]
    },
    {
     "name": "stdout",
     "output_type": "stream",
     "text": [
      "Epoch Loss: 0.0104, Accuracy: 1.0000\n"
     ]
    },
    {
     "name": "stderr",
     "output_type": "stream",
     "text": [
      "Validating: 100%|██████████| 6/6 [00:01<00:00,  4.82it/s]\n"
     ]
    },
    {
     "name": "stdout",
     "output_type": "stream",
     "text": [
      "  Train Loss: 0.0104, Train Acc: 1.0000, Val Loss: 0.2682, Val Acc: 0.8030, Time: 5.73s\n",
      "\n",
      "Epoch 42/100 for Fold 3\n"
     ]
    },
    {
     "name": "stderr",
     "output_type": "stream",
     "text": [
      "Training: 100%|██████████| 21/21 [00:05<00:00,  3.70it/s]\n"
     ]
    },
    {
     "name": "stdout",
     "output_type": "stream",
     "text": [
      "Epoch Loss: 0.0071, Accuracy: 1.0000\n"
     ]
    },
    {
     "name": "stderr",
     "output_type": "stream",
     "text": [
      "Validating: 100%|██████████| 6/6 [00:01<00:00,  5.34it/s]\n"
     ]
    },
    {
     "name": "stdout",
     "output_type": "stream",
     "text": [
      "  Train Loss: 0.0071, Train Acc: 1.0000, Val Loss: 0.2799, Val Acc: 0.8076, Time: 5.68s\n",
      "\n",
      "Epoch 43/100 for Fold 3\n"
     ]
    },
    {
     "name": "stderr",
     "output_type": "stream",
     "text": [
      "Training: 100%|██████████| 21/21 [00:05<00:00,  3.66it/s]\n"
     ]
    },
    {
     "name": "stdout",
     "output_type": "stream",
     "text": [
      "Epoch Loss: 0.0098, Accuracy: 0.9992\n"
     ]
    },
    {
     "name": "stderr",
     "output_type": "stream",
     "text": [
      "Validating: 100%|██████████| 6/6 [00:01<00:00,  5.11it/s]\n"
     ]
    },
    {
     "name": "stdout",
     "output_type": "stream",
     "text": [
      "  Train Loss: 0.0098, Train Acc: 0.9992, Val Loss: 0.2908, Val Acc: 0.8000, Time: 5.75s\n",
      "\n",
      "Epoch 44/100 for Fold 3\n"
     ]
    },
    {
     "name": "stderr",
     "output_type": "stream",
     "text": [
      "Training: 100%|██████████| 21/21 [00:05<00:00,  3.68it/s]\n"
     ]
    },
    {
     "name": "stdout",
     "output_type": "stream",
     "text": [
      "Epoch Loss: 0.0091, Accuracy: 0.9996\n"
     ]
    },
    {
     "name": "stderr",
     "output_type": "stream",
     "text": [
      "Validating: 100%|██████████| 6/6 [00:01<00:00,  5.17it/s]\n"
     ]
    },
    {
     "name": "stdout",
     "output_type": "stream",
     "text": [
      "  Train Loss: 0.0091, Train Acc: 0.9996, Val Loss: 0.2975, Val Acc: 0.7879, Time: 5.71s\n",
      "\n",
      "Epoch 45/100 for Fold 3\n"
     ]
    },
    {
     "name": "stderr",
     "output_type": "stream",
     "text": [
      "Training: 100%|██████████| 21/21 [00:05<00:00,  3.67it/s]\n"
     ]
    },
    {
     "name": "stdout",
     "output_type": "stream",
     "text": [
      "Epoch Loss: 0.0077, Accuracy: 0.9996\n"
     ]
    },
    {
     "name": "stderr",
     "output_type": "stream",
     "text": [
      "Validating: 100%|██████████| 6/6 [00:01<00:00,  5.00it/s]\n"
     ]
    },
    {
     "name": "stdout",
     "output_type": "stream",
     "text": [
      "  Train Loss: 0.0077, Train Acc: 0.9996, Val Loss: 0.2869, Val Acc: 0.8121, Time: 5.73s\n",
      "\n",
      "Epoch 46/100 for Fold 3\n"
     ]
    },
    {
     "name": "stderr",
     "output_type": "stream",
     "text": [
      "Training: 100%|██████████| 21/21 [00:05<00:00,  3.69it/s]\n"
     ]
    },
    {
     "name": "stdout",
     "output_type": "stream",
     "text": [
      "Epoch Loss: 0.0085, Accuracy: 1.0000\n"
     ]
    },
    {
     "name": "stderr",
     "output_type": "stream",
     "text": [
      "Validating: 100%|██████████| 6/6 [00:01<00:00,  5.20it/s]\n"
     ]
    },
    {
     "name": "stdout",
     "output_type": "stream",
     "text": [
      "  Train Loss: 0.0085, Train Acc: 1.0000, Val Loss: 0.3203, Val Acc: 0.7803, Time: 5.70s\n",
      "\n",
      "Epoch 47/100 for Fold 3\n"
     ]
    },
    {
     "name": "stderr",
     "output_type": "stream",
     "text": [
      "Training: 100%|██████████| 21/21 [00:05<00:00,  3.71it/s]\n"
     ]
    },
    {
     "name": "stdout",
     "output_type": "stream",
     "text": [
      "Epoch Loss: 0.0116, Accuracy: 0.9996\n"
     ]
    },
    {
     "name": "stderr",
     "output_type": "stream",
     "text": [
      "Validating: 100%|██████████| 6/6 [00:01<00:00,  5.15it/s]\n"
     ]
    },
    {
     "name": "stdout",
     "output_type": "stream",
     "text": [
      "  Train Loss: 0.0116, Train Acc: 0.9996, Val Loss: 0.2986, Val Acc: 0.7864, Time: 5.67s\n",
      "  Early stopping at epoch 47.\n",
      "Loading best model for fold 3 (achieved 0.8167 on inner val set).\n"
     ]
    },
    {
     "name": "stderr",
     "output_type": "stream",
     "text": [
      "Validating: 100%|██████████| 13/13 [00:01<00:00,  6.80it/s]"
     ]
    },
    {
     "name": "stdout",
     "output_type": "stream",
     "text": [
      "Performance on Outer Test Set for fold 3: 0.7867\n",
      "\n",
      "--- NESTED CROSS VALIDATION COMPLETE ---\n",
      "Cross-validation accuracies on outer folds: ['0.7952', '0.8030', '0.7867']\n",
      "Mean CV Accuracy: 0.7949 ± 0.0067\n"
     ]
    },
    {
     "name": "stderr",
     "output_type": "stream",
     "text": [
      "\n"
     ]
    }
   ],
   "source": [
    "import time\n",
    "\n",
    "print(f\"\\n{'='*25} PERFORMING NESTED CROSS-VALIDATION {'='*25}\")\n",
    "\n",
    "outer_kfold = StratifiedKFold(n_splits=N_SPLITS, shuffle=True, random_state=RANDOM_SEED)\n",
    "fold_test_results = []\n",
    "\n",
    "for fold, (train_outer_idx, test_outer_idx) in enumerate(outer_kfold.split(np.zeros(len(dev_dataset)), dev_dataset_labels)):\n",
    "    print(f\"\\n--- Outer Fold {fold+1}/{N_SPLITS} ---\")\n",
    "    writer = SummaryWriter(log_dir=f'runs/{model_folder_name}/fold_{fold+1}')\n",
    "\n",
    "    # Create inner train/val split from the outer training set\n",
    "    train_outer_labels = dev_dataset_labels[train_outer_idx]\n",
    "    train_inner_idx, val_inner_idx = train_test_split(\n",
    "        train_outer_idx, test_size=VAL_SPLIT_SIZE, shuffle=True, stratify=train_outer_labels, random_state=RANDOM_SEED\n",
    "    )\n",
    "\n",
    "    # Create subsets from the DEVELOPMENT dataset\n",
    "    train_inner_subset = Subset(dev_dataset, train_inner_idx)\n",
    "    val_inner_subset = Subset(dev_dataset, val_inner_idx)\n",
    "    test_outer_subset = Subset(dev_dataset, test_outer_idx) # This is the \"test set\" for this fold\n",
    "\n",
    "    train_loader = DataLoader(train_inner_subset, batch_size=BATCH_SIZE, shuffle=True, num_workers=6, pin_memory=True)\n",
    "    val_loader = DataLoader(val_inner_subset, batch_size=BATCH_SIZE, shuffle=False, num_workers=6, pin_memory=True)\n",
    "    test_loader = DataLoader(test_outer_subset, batch_size=BATCH_SIZE, shuffle=False, num_workers=6, pin_memory=True)\n",
    "\n",
    "    model = MRNet(\n",
    "        use_meta=False,\n",
    "        multihead=True,\n",
    "    ).to(DEVICE)\n",
    "    optimizer = torch.optim.Adam(\n",
    "        model.parameters(),\n",
    "        lr=LEARNING_RATE,\n",
    "        betas=(BETA1, BETA2),\n",
    "        eps=EPSILON,\n",
    "        weight_decay=WEIGHT_DECAY\n",
    "    )\n",
    "    criterion = lambda x, y, reduction='mean': contrast_loss(x, y, 'mean', False)\n",
    "    scheduler = None\n",
    "    scaler = None\n",
    "\n",
    "    best_model_path = f\"./saved_models/{model_folder_name}/best_model_fold_{fold+1}.pth\"\n",
    "    os.makedirs(f\"./saved_models/{model_folder_name}\", exist_ok=True)\n",
    "    best_val_acc_fold = 0.0\n",
    "    epochs_without_improvement = 0\n",
    "\n",
    "    print(f\"Training on {len(train_inner_subset)}, Validating on {len(val_inner_subset)}...\")\n",
    "    for epoch in range(1, EPOCHS + 1):\n",
    "        print(f\"\\nEpoch {epoch}/{EPOCHS} for Fold {fold+1}\")\n",
    "        train_start_time = time.time()\n",
    "        train_loss, train_acc = train_epoch(model, train_loader, optimizer, criterion, DEVICE)\n",
    "        train_end_time = time.time()\n",
    "        train_time = train_end_time - train_start_time\n",
    "\n",
    "        val_loss, val_acc = validate(model, val_loader, criterion, DEVICE)\n",
    "\n",
    "        print(f\"  Train Loss: {train_loss:.4f}, Train Acc: {train_acc:.4f}, Val Loss: {val_loss:.4f}, Val Acc: {val_acc:.4f}, Time: {train_time:.2f}s\")\n",
    "\n",
    "        writer.add_scalar('CV/Loss/train', train_loss, epoch)\n",
    "        writer.add_scalar('CV/Accuracy/train', train_acc, epoch)\n",
    "        writer.add_scalar('CV/Loss/val', val_loss, epoch)\n",
    "        writer.add_scalar('CV/Accuracy/val', val_acc, epoch)\n",
    "        writer.add_scalar('CV/Time/train', train_time, epoch)\n",
    "\n",
    "        memory_allocated = torch.cuda.memory_allocated(DEVICE) if torch.cuda.is_available() else 0\n",
    "        memory_reserved = torch.cuda.memory_reserved(DEVICE) if torch.cuda.is_available() else 0\n",
    "\n",
    "        writer.add_scalar('CV/Memory/allocated', memory_allocated, epoch)\n",
    "        writer.add_scalar('CV/Memory/reserved', memory_reserved, epoch)\n",
    "\n",
    "        if val_acc > best_val_acc_fold:\n",
    "            best_val_acc_fold = val_acc\n",
    "            epochs_without_improvement = 0\n",
    "            torch.save(model.state_dict(), best_model_path)\n",
    "            print(f\"  New best model for fold {fold+1} at epoch {epoch}: Val Acc: {val_acc:.4f}\")\n",
    "        else:\n",
    "            epochs_without_improvement += 1\n",
    "            if epochs_without_improvement >= PATIENCE:\n",
    "                print(f\"  Early stopping at epoch {epoch}.\")\n",
    "                break\n",
    "    \n",
    "    # Evaluate the best model for this fold on the outer test set\n",
    "    print(f\"Loading best model for fold {fold+1} (achieved {best_val_acc_fold:.4f} on inner val set).\")\n",
    "    model.load_state_dict(torch.load(best_model_path))\n",
    "    _, final_fold_test_acc = validate(model, test_loader, criterion, DEVICE)\n",
    "    print(f\"Performance on Outer Test Set for fold {fold+1}: {final_fold_test_acc:.4f}\")\n",
    "    fold_test_results.append(final_fold_test_acc)\n",
    "    writer.add_scalar('CV/Accuracy/test', final_fold_test_acc, epoch)\n",
    "    writer.close()\n",
    "\n",
    "mean_cv_acc = np.mean(fold_test_results)\n",
    "std_cv_acc = np.std(fold_test_results)\n",
    "print(f\"\\n--- NESTED CROSS VALIDATION COMPLETE ---\")\n",
    "print(f\"Cross-validation accuracies on outer folds: {[f'{acc:.4f}' for acc in fold_test_results]}\")\n",
    "print(f\"Mean CV Accuracy: {mean_cv_acc:.4f} ± {std_cv_acc:.4f}\")"
   ]
  },
  {
   "cell_type": "code",
   "execution_count": 14,
   "id": "07b5b51d",
   "metadata": {},
   "outputs": [
    {
     "name": "stdout",
     "output_type": "stream",
     "text": [
      "\n",
      "\n",
      "============================== OVERALL EXPERIMENT SUMMARY ==============================\n",
      "1. Nested Cross Validation Performance: 0.7949 ± 0.0067\n"
     ]
    }
   ],
   "source": [
    "# ==============================================================================\n",
    "# FINAL SUMMARY OF ALL RESULTS\n",
    "# ==============================================================================\n",
    "\n",
    "print(f\"\\n\\n{'='*30} OVERALL EXPERIMENT SUMMARY {'='*30}\")\n",
    "print(f\"1. Nested Cross Validation Performance: {mean_cv_acc:.4f} ± {std_cv_acc:.4f}\")\n",
    "# print(f\"2. Final Deployable Model Performance (on test set): {final_benchmark_score:.4f}\")"
   ]
  },
  {
   "cell_type": "markdown",
   "id": "e1647f9c",
   "metadata": {},
   "source": [
    "# RADIO-1 to RADIO-2 TL"
   ]
  },
  {
   "cell_type": "code",
   "execution_count": 15,
   "id": "fdb1314c",
   "metadata": {},
   "outputs": [
    {
     "name": "stdout",
     "output_type": "stream",
     "text": [
      "\n",
      "========================= PERFORMING NESTED CROSS-VALIDATION TRANSFER =========================\n",
      "\n",
      "--- Outer Fold 1/3 ---\n",
      "LEVELS: 111\n",
      "Training on 2640, Validating on 660...\n",
      "\n",
      "Epoch 1/100 for Fold 1\n"
     ]
    },
    {
     "name": "stderr",
     "output_type": "stream",
     "text": [
      "Training: 100%|██████████| 21/21 [00:05<00:00,  3.70it/s]\n"
     ]
    },
    {
     "name": "stdout",
     "output_type": "stream",
     "text": [
      "Epoch Loss: 0.1792, Accuracy: 0.7867\n"
     ]
    },
    {
     "name": "stderr",
     "output_type": "stream",
     "text": [
      "Validating: 100%|██████████| 6/6 [00:01<00:00,  5.15it/s]\n"
     ]
    },
    {
     "name": "stdout",
     "output_type": "stream",
     "text": [
      "  Train Loss: 0.1792, Train Acc: 0.7867, Val Loss: 0.1370, Val Acc: 0.8318, Time: 5.68s\n",
      "  New best model for fold 1 at epoch 1: Val Acc: 0.8318\n",
      "\n",
      "Epoch 2/100 for Fold 1\n"
     ]
    },
    {
     "name": "stderr",
     "output_type": "stream",
     "text": [
      "Training: 100%|██████████| 21/21 [00:05<00:00,  3.66it/s]\n"
     ]
    },
    {
     "name": "stdout",
     "output_type": "stream",
     "text": [
      "Epoch Loss: 0.1013, Accuracy: 0.8659\n"
     ]
    },
    {
     "name": "stderr",
     "output_type": "stream",
     "text": [
      "Validating: 100%|██████████| 6/6 [00:01<00:00,  4.96it/s]\n"
     ]
    },
    {
     "name": "stdout",
     "output_type": "stream",
     "text": [
      "  Train Loss: 0.1013, Train Acc: 0.8659, Val Loss: 0.1231, Val Acc: 0.8652, Time: 5.75s\n",
      "  New best model for fold 1 at epoch 2: Val Acc: 0.8652\n",
      "\n",
      "Epoch 3/100 for Fold 1\n"
     ]
    },
    {
     "name": "stderr",
     "output_type": "stream",
     "text": [
      "Training: 100%|██████████| 21/21 [00:05<00:00,  3.65it/s]\n"
     ]
    },
    {
     "name": "stdout",
     "output_type": "stream",
     "text": [
      "Epoch Loss: 0.0756, Accuracy: 0.8970\n"
     ]
    },
    {
     "name": "stderr",
     "output_type": "stream",
     "text": [
      "Validating: 100%|██████████| 6/6 [00:01<00:00,  5.29it/s]\n"
     ]
    },
    {
     "name": "stdout",
     "output_type": "stream",
     "text": [
      "  Train Loss: 0.0756, Train Acc: 0.8970, Val Loss: 0.1122, Val Acc: 0.8788, Time: 5.75s\n",
      "  New best model for fold 1 at epoch 3: Val Acc: 0.8788\n",
      "\n",
      "Epoch 4/100 for Fold 1\n"
     ]
    },
    {
     "name": "stderr",
     "output_type": "stream",
     "text": [
      "Training: 100%|██████████| 21/21 [00:05<00:00,  3.68it/s]\n"
     ]
    },
    {
     "name": "stdout",
     "output_type": "stream",
     "text": [
      "Epoch Loss: 0.0642, Accuracy: 0.9227\n"
     ]
    },
    {
     "name": "stderr",
     "output_type": "stream",
     "text": [
      "Validating: 100%|██████████| 6/6 [00:01<00:00,  5.12it/s]\n"
     ]
    },
    {
     "name": "stdout",
     "output_type": "stream",
     "text": [
      "  Train Loss: 0.0642, Train Acc: 0.9227, Val Loss: 0.1163, Val Acc: 0.8697, Time: 5.71s\n",
      "\n",
      "Epoch 5/100 for Fold 1\n"
     ]
    },
    {
     "name": "stderr",
     "output_type": "stream",
     "text": [
      "Training: 100%|██████████| 21/21 [00:05<00:00,  3.70it/s]\n"
     ]
    },
    {
     "name": "stdout",
     "output_type": "stream",
     "text": [
      "Epoch Loss: 0.0570, Accuracy: 0.9311\n"
     ]
    },
    {
     "name": "stderr",
     "output_type": "stream",
     "text": [
      "Validating: 100%|██████████| 6/6 [00:01<00:00,  5.12it/s]\n"
     ]
    },
    {
     "name": "stdout",
     "output_type": "stream",
     "text": [
      "  Train Loss: 0.0570, Train Acc: 0.9311, Val Loss: 0.1213, Val Acc: 0.8727, Time: 5.68s\n",
      "\n",
      "Epoch 6/100 for Fold 1\n"
     ]
    },
    {
     "name": "stderr",
     "output_type": "stream",
     "text": [
      "Training: 100%|██████████| 21/21 [00:05<00:00,  3.68it/s]\n"
     ]
    },
    {
     "name": "stdout",
     "output_type": "stream",
     "text": [
      "Epoch Loss: 0.0554, Accuracy: 0.9519\n"
     ]
    },
    {
     "name": "stderr",
     "output_type": "stream",
     "text": [
      "Validating: 100%|██████████| 6/6 [00:01<00:00,  5.00it/s]\n"
     ]
    },
    {
     "name": "stdout",
     "output_type": "stream",
     "text": [
      "  Train Loss: 0.0554, Train Acc: 0.9519, Val Loss: 0.1403, Val Acc: 0.8758, Time: 5.72s\n",
      "\n",
      "Epoch 7/100 for Fold 1\n"
     ]
    },
    {
     "name": "stderr",
     "output_type": "stream",
     "text": [
      "Training: 100%|██████████| 21/21 [00:05<00:00,  3.64it/s]\n"
     ]
    },
    {
     "name": "stdout",
     "output_type": "stream",
     "text": [
      "Epoch Loss: 0.0475, Accuracy: 0.9614\n"
     ]
    },
    {
     "name": "stderr",
     "output_type": "stream",
     "text": [
      "Validating: 100%|██████████| 6/6 [00:01<00:00,  5.24it/s]\n"
     ]
    },
    {
     "name": "stdout",
     "output_type": "stream",
     "text": [
      "  Train Loss: 0.0475, Train Acc: 0.9614, Val Loss: 0.1350, Val Acc: 0.8818, Time: 5.77s\n",
      "  New best model for fold 1 at epoch 7: Val Acc: 0.8818\n",
      "\n",
      "Epoch 8/100 for Fold 1\n"
     ]
    },
    {
     "name": "stderr",
     "output_type": "stream",
     "text": [
      "Training: 100%|██████████| 21/21 [00:05<00:00,  3.61it/s]\n"
     ]
    },
    {
     "name": "stdout",
     "output_type": "stream",
     "text": [
      "Epoch Loss: 0.0427, Accuracy: 0.9678\n"
     ]
    },
    {
     "name": "stderr",
     "output_type": "stream",
     "text": [
      "Validating: 100%|██████████| 6/6 [00:01<00:00,  5.21it/s]\n"
     ]
    },
    {
     "name": "stdout",
     "output_type": "stream",
     "text": [
      "  Train Loss: 0.0427, Train Acc: 0.9678, Val Loss: 0.1567, Val Acc: 0.8515, Time: 5.82s\n",
      "\n",
      "Epoch 9/100 for Fold 1\n"
     ]
    },
    {
     "name": "stderr",
     "output_type": "stream",
     "text": [
      "Training: 100%|██████████| 21/21 [00:05<00:00,  3.66it/s]\n"
     ]
    },
    {
     "name": "stdout",
     "output_type": "stream",
     "text": [
      "Epoch Loss: 0.0385, Accuracy: 0.9777\n"
     ]
    },
    {
     "name": "stderr",
     "output_type": "stream",
     "text": [
      "Validating: 100%|██████████| 6/6 [00:01<00:00,  4.82it/s]\n"
     ]
    },
    {
     "name": "stdout",
     "output_type": "stream",
     "text": [
      "  Train Loss: 0.0385, Train Acc: 0.9777, Val Loss: 0.1379, Val Acc: 0.8636, Time: 5.75s\n",
      "\n",
      "Epoch 10/100 for Fold 1\n"
     ]
    },
    {
     "name": "stderr",
     "output_type": "stream",
     "text": [
      "Training: 100%|██████████| 21/21 [00:05<00:00,  3.65it/s]\n"
     ]
    },
    {
     "name": "stdout",
     "output_type": "stream",
     "text": [
      "Epoch Loss: 0.0348, Accuracy: 0.9814\n"
     ]
    },
    {
     "name": "stderr",
     "output_type": "stream",
     "text": [
      "Validating: 100%|██████████| 6/6 [00:01<00:00,  5.18it/s]\n"
     ]
    },
    {
     "name": "stdout",
     "output_type": "stream",
     "text": [
      "  Train Loss: 0.0348, Train Acc: 0.9814, Val Loss: 0.1613, Val Acc: 0.8727, Time: 5.76s\n",
      "\n",
      "Epoch 11/100 for Fold 1\n"
     ]
    },
    {
     "name": "stderr",
     "output_type": "stream",
     "text": [
      "Training: 100%|██████████| 21/21 [00:05<00:00,  3.54it/s]\n"
     ]
    },
    {
     "name": "stdout",
     "output_type": "stream",
     "text": [
      "Epoch Loss: 0.0312, Accuracy: 0.9833\n"
     ]
    },
    {
     "name": "stderr",
     "output_type": "stream",
     "text": [
      "Validating: 100%|██████████| 6/6 [00:01<00:00,  5.00it/s]\n"
     ]
    },
    {
     "name": "stdout",
     "output_type": "stream",
     "text": [
      "  Train Loss: 0.0312, Train Acc: 0.9833, Val Loss: 0.1378, Val Acc: 0.8621, Time: 5.93s\n",
      "\n",
      "Epoch 12/100 for Fold 1\n"
     ]
    },
    {
     "name": "stderr",
     "output_type": "stream",
     "text": [
      "Training: 100%|██████████| 21/21 [00:05<00:00,  3.66it/s]\n"
     ]
    },
    {
     "name": "stdout",
     "output_type": "stream",
     "text": [
      "Epoch Loss: 0.0339, Accuracy: 0.9811\n"
     ]
    },
    {
     "name": "stderr",
     "output_type": "stream",
     "text": [
      "Validating: 100%|██████████| 6/6 [00:01<00:00,  4.94it/s]\n"
     ]
    },
    {
     "name": "stdout",
     "output_type": "stream",
     "text": [
      "  Train Loss: 0.0339, Train Acc: 0.9811, Val Loss: 0.1649, Val Acc: 0.8561, Time: 5.73s\n",
      "\n",
      "Epoch 13/100 for Fold 1\n"
     ]
    },
    {
     "name": "stderr",
     "output_type": "stream",
     "text": [
      "Training: 100%|██████████| 21/21 [00:05<00:00,  3.65it/s]\n"
     ]
    },
    {
     "name": "stdout",
     "output_type": "stream",
     "text": [
      "Epoch Loss: 0.0251, Accuracy: 0.9886\n"
     ]
    },
    {
     "name": "stderr",
     "output_type": "stream",
     "text": [
      "Validating: 100%|██████████| 6/6 [00:01<00:00,  5.08it/s]\n"
     ]
    },
    {
     "name": "stdout",
     "output_type": "stream",
     "text": [
      "  Train Loss: 0.0251, Train Acc: 0.9886, Val Loss: 0.1468, Val Acc: 0.8788, Time: 5.76s\n",
      "\n",
      "Epoch 14/100 for Fold 1\n"
     ]
    },
    {
     "name": "stderr",
     "output_type": "stream",
     "text": [
      "Training: 100%|██████████| 21/21 [00:05<00:00,  3.68it/s]\n"
     ]
    },
    {
     "name": "stdout",
     "output_type": "stream",
     "text": [
      "Epoch Loss: 0.0183, Accuracy: 0.9939\n"
     ]
    },
    {
     "name": "stderr",
     "output_type": "stream",
     "text": [
      "Validating: 100%|██████████| 6/6 [00:01<00:00,  5.02it/s]\n"
     ]
    },
    {
     "name": "stdout",
     "output_type": "stream",
     "text": [
      "  Train Loss: 0.0183, Train Acc: 0.9939, Val Loss: 0.1812, Val Acc: 0.8652, Time: 5.72s\n",
      "\n",
      "Epoch 15/100 for Fold 1\n"
     ]
    },
    {
     "name": "stderr",
     "output_type": "stream",
     "text": [
      "Training: 100%|██████████| 21/21 [00:05<00:00,  3.54it/s]\n"
     ]
    },
    {
     "name": "stdout",
     "output_type": "stream",
     "text": [
      "Epoch Loss: 0.0222, Accuracy: 0.9917\n"
     ]
    },
    {
     "name": "stderr",
     "output_type": "stream",
     "text": [
      "Validating: 100%|██████████| 6/6 [00:01<00:00,  5.21it/s]\n"
     ]
    },
    {
     "name": "stdout",
     "output_type": "stream",
     "text": [
      "  Train Loss: 0.0222, Train Acc: 0.9917, Val Loss: 0.1767, Val Acc: 0.8712, Time: 5.94s\n",
      "\n",
      "Epoch 16/100 for Fold 1\n"
     ]
    },
    {
     "name": "stderr",
     "output_type": "stream",
     "text": [
      "Training: 100%|██████████| 21/21 [00:05<00:00,  3.68it/s]\n"
     ]
    },
    {
     "name": "stdout",
     "output_type": "stream",
     "text": [
      "Epoch Loss: 0.0165, Accuracy: 0.9932\n"
     ]
    },
    {
     "name": "stderr",
     "output_type": "stream",
     "text": [
      "Validating: 100%|██████████| 6/6 [00:01<00:00,  5.04it/s]\n"
     ]
    },
    {
     "name": "stdout",
     "output_type": "stream",
     "text": [
      "  Train Loss: 0.0165, Train Acc: 0.9932, Val Loss: 0.1891, Val Acc: 0.8682, Time: 5.71s\n",
      "\n",
      "Epoch 17/100 for Fold 1\n"
     ]
    },
    {
     "name": "stderr",
     "output_type": "stream",
     "text": [
      "Training: 100%|██████████| 21/21 [00:05<00:00,  3.58it/s]\n"
     ]
    },
    {
     "name": "stdout",
     "output_type": "stream",
     "text": [
      "Epoch Loss: 0.0168, Accuracy: 0.9966\n"
     ]
    },
    {
     "name": "stderr",
     "output_type": "stream",
     "text": [
      "Validating: 100%|██████████| 6/6 [00:01<00:00,  5.10it/s]\n"
     ]
    },
    {
     "name": "stdout",
     "output_type": "stream",
     "text": [
      "  Train Loss: 0.0168, Train Acc: 0.9966, Val Loss: 0.1889, Val Acc: 0.8667, Time: 5.86s\n",
      "  Early stopping at epoch 17.\n",
      "Loading best model for fold 1 (achieved 0.8818 on inner val set).\n"
     ]
    },
    {
     "name": "stderr",
     "output_type": "stream",
     "text": [
      "Validating: 100%|██████████| 13/13 [00:01<00:00,  6.92it/s]\n"
     ]
    },
    {
     "name": "stdout",
     "output_type": "stream",
     "text": [
      "Performance on Outer Test Set for fold 1: 0.8376\n",
      "\n",
      "--- Outer Fold 2/3 ---\n",
      "LEVELS: 111\n",
      "Training on 2640, Validating on 660...\n",
      "\n",
      "Epoch 1/100 for Fold 2\n"
     ]
    },
    {
     "name": "stderr",
     "output_type": "stream",
     "text": [
      "Training: 100%|██████████| 21/21 [00:05<00:00,  3.68it/s]\n"
     ]
    },
    {
     "name": "stdout",
     "output_type": "stream",
     "text": [
      "Epoch Loss: 0.1765, Accuracy: 0.8011\n"
     ]
    },
    {
     "name": "stderr",
     "output_type": "stream",
     "text": [
      "Validating: 100%|██████████| 6/6 [00:01<00:00,  5.07it/s]\n"
     ]
    },
    {
     "name": "stdout",
     "output_type": "stream",
     "text": [
      "  Train Loss: 0.1765, Train Acc: 0.8011, Val Loss: 0.1698, Val Acc: 0.8106, Time: 5.70s\n",
      "  New best model for fold 2 at epoch 1: Val Acc: 0.8106\n",
      "\n",
      "Epoch 2/100 for Fold 2\n"
     ]
    },
    {
     "name": "stderr",
     "output_type": "stream",
     "text": [
      "Training: 100%|██████████| 21/21 [00:05<00:00,  3.67it/s]\n"
     ]
    },
    {
     "name": "stdout",
     "output_type": "stream",
     "text": [
      "Epoch Loss: 0.0981, Accuracy: 0.8720\n"
     ]
    },
    {
     "name": "stderr",
     "output_type": "stream",
     "text": [
      "Validating: 100%|██████████| 6/6 [00:01<00:00,  5.03it/s]\n"
     ]
    },
    {
     "name": "stdout",
     "output_type": "stream",
     "text": [
      "  Train Loss: 0.0981, Train Acc: 0.8720, Val Loss: 0.1190, Val Acc: 0.8364, Time: 5.72s\n",
      "  New best model for fold 2 at epoch 2: Val Acc: 0.8364\n",
      "\n",
      "Epoch 3/100 for Fold 2\n"
     ]
    },
    {
     "name": "stderr",
     "output_type": "stream",
     "text": [
      "Training: 100%|██████████| 21/21 [00:05<00:00,  3.59it/s]\n"
     ]
    },
    {
     "name": "stdout",
     "output_type": "stream",
     "text": [
      "Epoch Loss: 0.0738, Accuracy: 0.9042\n"
     ]
    },
    {
     "name": "stderr",
     "output_type": "stream",
     "text": [
      "Validating: 100%|██████████| 6/6 [00:01<00:00,  5.14it/s]\n"
     ]
    },
    {
     "name": "stdout",
     "output_type": "stream",
     "text": [
      "  Train Loss: 0.0738, Train Acc: 0.9042, Val Loss: 0.1229, Val Acc: 0.8485, Time: 5.85s\n",
      "  New best model for fold 2 at epoch 3: Val Acc: 0.8485\n",
      "\n",
      "Epoch 4/100 for Fold 2\n"
     ]
    },
    {
     "name": "stderr",
     "output_type": "stream",
     "text": [
      "Training: 100%|██████████| 21/21 [00:05<00:00,  3.67it/s]\n"
     ]
    },
    {
     "name": "stdout",
     "output_type": "stream",
     "text": [
      "Epoch Loss: 0.0604, Accuracy: 0.9326\n"
     ]
    },
    {
     "name": "stderr",
     "output_type": "stream",
     "text": [
      "Validating: 100%|██████████| 6/6 [00:01<00:00,  5.12it/s]\n"
     ]
    },
    {
     "name": "stdout",
     "output_type": "stream",
     "text": [
      "  Train Loss: 0.0604, Train Acc: 0.9326, Val Loss: 0.1278, Val Acc: 0.8530, Time: 5.72s\n",
      "  New best model for fold 2 at epoch 4: Val Acc: 0.8530\n",
      "\n",
      "Epoch 5/100 for Fold 2\n"
     ]
    },
    {
     "name": "stderr",
     "output_type": "stream",
     "text": [
      "Training: 100%|██████████| 21/21 [00:05<00:00,  3.68it/s]\n"
     ]
    },
    {
     "name": "stdout",
     "output_type": "stream",
     "text": [
      "Epoch Loss: 0.0548, Accuracy: 0.9477\n"
     ]
    },
    {
     "name": "stderr",
     "output_type": "stream",
     "text": [
      "Validating: 100%|██████████| 6/6 [00:01<00:00,  4.92it/s]\n"
     ]
    },
    {
     "name": "stdout",
     "output_type": "stream",
     "text": [
      "  Train Loss: 0.0548, Train Acc: 0.9477, Val Loss: 0.1503, Val Acc: 0.8212, Time: 5.71s\n",
      "\n",
      "Epoch 6/100 for Fold 2\n"
     ]
    },
    {
     "name": "stderr",
     "output_type": "stream",
     "text": [
      "Training: 100%|██████████| 21/21 [00:05<00:00,  3.70it/s]\n"
     ]
    },
    {
     "name": "stdout",
     "output_type": "stream",
     "text": [
      "Epoch Loss: 0.0517, Accuracy: 0.9598\n"
     ]
    },
    {
     "name": "stderr",
     "output_type": "stream",
     "text": [
      "Validating: 100%|██████████| 6/6 [00:01<00:00,  5.28it/s]\n"
     ]
    },
    {
     "name": "stdout",
     "output_type": "stream",
     "text": [
      "  Train Loss: 0.0517, Train Acc: 0.9598, Val Loss: 0.1355, Val Acc: 0.8545, Time: 5.68s\n",
      "  New best model for fold 2 at epoch 6: Val Acc: 0.8545\n",
      "\n",
      "Epoch 7/100 for Fold 2\n"
     ]
    },
    {
     "name": "stderr",
     "output_type": "stream",
     "text": [
      "Training: 100%|██████████| 21/21 [00:05<00:00,  3.67it/s]\n"
     ]
    },
    {
     "name": "stdout",
     "output_type": "stream",
     "text": [
      "Epoch Loss: 0.0446, Accuracy: 0.9674\n"
     ]
    },
    {
     "name": "stderr",
     "output_type": "stream",
     "text": [
      "Validating: 100%|██████████| 6/6 [00:01<00:00,  5.07it/s]\n"
     ]
    },
    {
     "name": "stdout",
     "output_type": "stream",
     "text": [
      "  Train Loss: 0.0446, Train Acc: 0.9674, Val Loss: 0.1621, Val Acc: 0.8394, Time: 5.73s\n",
      "\n",
      "Epoch 8/100 for Fold 2\n"
     ]
    },
    {
     "name": "stderr",
     "output_type": "stream",
     "text": [
      "Training: 100%|██████████| 21/21 [00:05<00:00,  3.67it/s]\n"
     ]
    },
    {
     "name": "stdout",
     "output_type": "stream",
     "text": [
      "Epoch Loss: 0.0442, Accuracy: 0.9742\n"
     ]
    },
    {
     "name": "stderr",
     "output_type": "stream",
     "text": [
      "Validating: 100%|██████████| 6/6 [00:01<00:00,  5.16it/s]\n"
     ]
    },
    {
     "name": "stdout",
     "output_type": "stream",
     "text": [
      "  Train Loss: 0.0442, Train Acc: 0.9742, Val Loss: 0.1747, Val Acc: 0.8409, Time: 5.72s\n",
      "\n",
      "Epoch 9/100 for Fold 2\n"
     ]
    },
    {
     "name": "stderr",
     "output_type": "stream",
     "text": [
      "Training: 100%|██████████| 21/21 [00:05<00:00,  3.62it/s]\n"
     ]
    },
    {
     "name": "stdout",
     "output_type": "stream",
     "text": [
      "Epoch Loss: 0.0446, Accuracy: 0.9712\n"
     ]
    },
    {
     "name": "stderr",
     "output_type": "stream",
     "text": [
      "Validating: 100%|██████████| 6/6 [00:01<00:00,  5.03it/s]\n"
     ]
    },
    {
     "name": "stdout",
     "output_type": "stream",
     "text": [
      "  Train Loss: 0.0446, Train Acc: 0.9712, Val Loss: 0.1776, Val Acc: 0.8470, Time: 5.81s\n",
      "\n",
      "Epoch 10/100 for Fold 2\n"
     ]
    },
    {
     "name": "stderr",
     "output_type": "stream",
     "text": [
      "Training: 100%|██████████| 21/21 [00:05<00:00,  3.64it/s]\n"
     ]
    },
    {
     "name": "stdout",
     "output_type": "stream",
     "text": [
      "Epoch Loss: 0.0349, Accuracy: 0.9807\n"
     ]
    },
    {
     "name": "stderr",
     "output_type": "stream",
     "text": [
      "Validating: 100%|██████████| 6/6 [00:01<00:00,  5.13it/s]\n"
     ]
    },
    {
     "name": "stdout",
     "output_type": "stream",
     "text": [
      "  Train Loss: 0.0349, Train Acc: 0.9807, Val Loss: 0.1750, Val Acc: 0.8561, Time: 5.77s\n",
      "  New best model for fold 2 at epoch 10: Val Acc: 0.8561\n",
      "\n",
      "Epoch 11/100 for Fold 2\n"
     ]
    },
    {
     "name": "stderr",
     "output_type": "stream",
     "text": [
      "Training: 100%|██████████| 21/21 [00:05<00:00,  3.68it/s]\n"
     ]
    },
    {
     "name": "stdout",
     "output_type": "stream",
     "text": [
      "Epoch Loss: 0.0353, Accuracy: 0.9750\n"
     ]
    },
    {
     "name": "stderr",
     "output_type": "stream",
     "text": [
      "Validating: 100%|██████████| 6/6 [00:01<00:00,  5.14it/s]\n"
     ]
    },
    {
     "name": "stdout",
     "output_type": "stream",
     "text": [
      "  Train Loss: 0.0353, Train Acc: 0.9750, Val Loss: 0.1687, Val Acc: 0.8561, Time: 5.71s\n",
      "\n",
      "Epoch 12/100 for Fold 2\n"
     ]
    },
    {
     "name": "stderr",
     "output_type": "stream",
     "text": [
      "Training: 100%|██████████| 21/21 [00:05<00:00,  3.61it/s]\n"
     ]
    },
    {
     "name": "stdout",
     "output_type": "stream",
     "text": [
      "Epoch Loss: 0.0328, Accuracy: 0.9860\n"
     ]
    },
    {
     "name": "stderr",
     "output_type": "stream",
     "text": [
      "Validating: 100%|██████████| 6/6 [00:01<00:00,  5.11it/s]\n"
     ]
    },
    {
     "name": "stdout",
     "output_type": "stream",
     "text": [
      "  Train Loss: 0.0328, Train Acc: 0.9860, Val Loss: 0.1926, Val Acc: 0.8409, Time: 5.81s\n",
      "\n",
      "Epoch 13/100 for Fold 2\n"
     ]
    },
    {
     "name": "stderr",
     "output_type": "stream",
     "text": [
      "Training: 100%|██████████| 21/21 [00:05<00:00,  3.68it/s]\n"
     ]
    },
    {
     "name": "stdout",
     "output_type": "stream",
     "text": [
      "Epoch Loss: 0.0235, Accuracy: 0.9905\n"
     ]
    },
    {
     "name": "stderr",
     "output_type": "stream",
     "text": [
      "Validating: 100%|██████████| 6/6 [00:01<00:00,  5.10it/s]\n"
     ]
    },
    {
     "name": "stdout",
     "output_type": "stream",
     "text": [
      "  Train Loss: 0.0235, Train Acc: 0.9905, Val Loss: 0.1635, Val Acc: 0.8591, Time: 5.71s\n",
      "  New best model for fold 2 at epoch 13: Val Acc: 0.8591\n",
      "\n",
      "Epoch 14/100 for Fold 2\n"
     ]
    },
    {
     "name": "stderr",
     "output_type": "stream",
     "text": [
      "Training: 100%|██████████| 21/21 [00:05<00:00,  3.68it/s]\n"
     ]
    },
    {
     "name": "stdout",
     "output_type": "stream",
     "text": [
      "Epoch Loss: 0.0159, Accuracy: 0.9920\n"
     ]
    },
    {
     "name": "stderr",
     "output_type": "stream",
     "text": [
      "Validating: 100%|██████████| 6/6 [00:01<00:00,  5.09it/s]\n"
     ]
    },
    {
     "name": "stdout",
     "output_type": "stream",
     "text": [
      "  Train Loss: 0.0159, Train Acc: 0.9920, Val Loss: 0.1781, Val Acc: 0.8530, Time: 5.71s\n",
      "\n",
      "Epoch 15/100 for Fold 2\n"
     ]
    },
    {
     "name": "stderr",
     "output_type": "stream",
     "text": [
      "Training: 100%|██████████| 21/21 [00:05<00:00,  3.60it/s]\n"
     ]
    },
    {
     "name": "stdout",
     "output_type": "stream",
     "text": [
      "Epoch Loss: 0.0180, Accuracy: 0.9958\n"
     ]
    },
    {
     "name": "stderr",
     "output_type": "stream",
     "text": [
      "Validating: 100%|██████████| 6/6 [00:01<00:00,  5.14it/s]\n"
     ]
    },
    {
     "name": "stdout",
     "output_type": "stream",
     "text": [
      "  Train Loss: 0.0180, Train Acc: 0.9958, Val Loss: 0.1827, Val Acc: 0.8485, Time: 5.84s\n",
      "\n",
      "Epoch 16/100 for Fold 2\n"
     ]
    },
    {
     "name": "stderr",
     "output_type": "stream",
     "text": [
      "Training: 100%|██████████| 21/21 [00:05<00:00,  3.65it/s]\n"
     ]
    },
    {
     "name": "stdout",
     "output_type": "stream",
     "text": [
      "Epoch Loss: 0.0177, Accuracy: 0.9939\n"
     ]
    },
    {
     "name": "stderr",
     "output_type": "stream",
     "text": [
      "Validating: 100%|██████████| 6/6 [00:01<00:00,  5.17it/s]\n"
     ]
    },
    {
     "name": "stdout",
     "output_type": "stream",
     "text": [
      "  Train Loss: 0.0177, Train Acc: 0.9939, Val Loss: 0.2254, Val Acc: 0.8258, Time: 5.76s\n",
      "\n",
      "Epoch 17/100 for Fold 2\n"
     ]
    },
    {
     "name": "stderr",
     "output_type": "stream",
     "text": [
      "Training: 100%|██████████| 21/21 [00:05<00:00,  3.57it/s]\n"
     ]
    },
    {
     "name": "stdout",
     "output_type": "stream",
     "text": [
      "Epoch Loss: 0.0171, Accuracy: 0.9951\n"
     ]
    },
    {
     "name": "stderr",
     "output_type": "stream",
     "text": [
      "Validating: 100%|██████████| 6/6 [00:01<00:00,  5.07it/s]\n"
     ]
    },
    {
     "name": "stdout",
     "output_type": "stream",
     "text": [
      "  Train Loss: 0.0171, Train Acc: 0.9951, Val Loss: 0.2029, Val Acc: 0.8394, Time: 5.88s\n",
      "\n",
      "Epoch 18/100 for Fold 2\n"
     ]
    },
    {
     "name": "stderr",
     "output_type": "stream",
     "text": [
      "Training: 100%|██████████| 21/21 [00:05<00:00,  3.65it/s]\n"
     ]
    },
    {
     "name": "stdout",
     "output_type": "stream",
     "text": [
      "Epoch Loss: 0.0211, Accuracy: 0.9962\n"
     ]
    },
    {
     "name": "stderr",
     "output_type": "stream",
     "text": [
      "Validating: 100%|██████████| 6/6 [00:01<00:00,  5.08it/s]\n"
     ]
    },
    {
     "name": "stdout",
     "output_type": "stream",
     "text": [
      "  Train Loss: 0.0211, Train Acc: 0.9962, Val Loss: 0.1800, Val Acc: 0.8545, Time: 5.76s\n",
      "\n",
      "Epoch 19/100 for Fold 2\n"
     ]
    },
    {
     "name": "stderr",
     "output_type": "stream",
     "text": [
      "Training: 100%|██████████| 21/21 [00:05<00:00,  3.68it/s]\n"
     ]
    },
    {
     "name": "stdout",
     "output_type": "stream",
     "text": [
      "Epoch Loss: 0.0204, Accuracy: 0.9958\n"
     ]
    },
    {
     "name": "stderr",
     "output_type": "stream",
     "text": [
      "Validating: 100%|██████████| 6/6 [00:01<00:00,  4.91it/s]\n"
     ]
    },
    {
     "name": "stdout",
     "output_type": "stream",
     "text": [
      "  Train Loss: 0.0204, Train Acc: 0.9958, Val Loss: 0.1859, Val Acc: 0.8652, Time: 5.71s\n",
      "  New best model for fold 2 at epoch 19: Val Acc: 0.8652\n",
      "\n",
      "Epoch 20/100 for Fold 2\n"
     ]
    },
    {
     "name": "stderr",
     "output_type": "stream",
     "text": [
      "Training: 100%|██████████| 21/21 [00:05<00:00,  3.68it/s]\n"
     ]
    },
    {
     "name": "stdout",
     "output_type": "stream",
     "text": [
      "Epoch Loss: 0.0123, Accuracy: 0.9973\n"
     ]
    },
    {
     "name": "stderr",
     "output_type": "stream",
     "text": [
      "Validating: 100%|██████████| 6/6 [00:01<00:00,  5.05it/s]\n"
     ]
    },
    {
     "name": "stdout",
     "output_type": "stream",
     "text": [
      "  Train Loss: 0.0123, Train Acc: 0.9973, Val Loss: 0.2007, Val Acc: 0.8500, Time: 5.71s\n",
      "\n",
      "Epoch 21/100 for Fold 2\n"
     ]
    },
    {
     "name": "stderr",
     "output_type": "stream",
     "text": [
      "Training: 100%|██████████| 21/21 [00:05<00:00,  3.68it/s]\n"
     ]
    },
    {
     "name": "stdout",
     "output_type": "stream",
     "text": [
      "Epoch Loss: 0.0095, Accuracy: 0.9992\n"
     ]
    },
    {
     "name": "stderr",
     "output_type": "stream",
     "text": [
      "Validating: 100%|██████████| 6/6 [00:01<00:00,  5.04it/s]\n"
     ]
    },
    {
     "name": "stdout",
     "output_type": "stream",
     "text": [
      "  Train Loss: 0.0095, Train Acc: 0.9992, Val Loss: 0.2154, Val Acc: 0.8439, Time: 5.71s\n",
      "\n",
      "Epoch 22/100 for Fold 2\n"
     ]
    },
    {
     "name": "stderr",
     "output_type": "stream",
     "text": [
      "Training: 100%|██████████| 21/21 [00:05<00:00,  3.66it/s]\n"
     ]
    },
    {
     "name": "stdout",
     "output_type": "stream",
     "text": [
      "Epoch Loss: 0.0096, Accuracy: 0.9996\n"
     ]
    },
    {
     "name": "stderr",
     "output_type": "stream",
     "text": [
      "Validating: 100%|██████████| 6/6 [00:01<00:00,  5.18it/s]\n"
     ]
    },
    {
     "name": "stdout",
     "output_type": "stream",
     "text": [
      "  Train Loss: 0.0096, Train Acc: 0.9996, Val Loss: 0.2326, Val Acc: 0.8364, Time: 5.75s\n",
      "\n",
      "Epoch 23/100 for Fold 2\n"
     ]
    },
    {
     "name": "stderr",
     "output_type": "stream",
     "text": [
      "Training: 100%|██████████| 21/21 [00:05<00:00,  3.63it/s]\n"
     ]
    },
    {
     "name": "stdout",
     "output_type": "stream",
     "text": [
      "Epoch Loss: 0.0096, Accuracy: 0.9992\n"
     ]
    },
    {
     "name": "stderr",
     "output_type": "stream",
     "text": [
      "Validating: 100%|██████████| 6/6 [00:01<00:00,  5.15it/s]\n"
     ]
    },
    {
     "name": "stdout",
     "output_type": "stream",
     "text": [
      "  Train Loss: 0.0096, Train Acc: 0.9992, Val Loss: 0.3562, Val Acc: 0.8167, Time: 5.80s\n",
      "\n",
      "Epoch 24/100 for Fold 2\n"
     ]
    },
    {
     "name": "stderr",
     "output_type": "stream",
     "text": [
      "Training: 100%|██████████| 21/21 [00:05<00:00,  3.55it/s]\n"
     ]
    },
    {
     "name": "stdout",
     "output_type": "stream",
     "text": [
      "Epoch Loss: 0.0096, Accuracy: 0.9989\n"
     ]
    },
    {
     "name": "stderr",
     "output_type": "stream",
     "text": [
      "Validating: 100%|██████████| 6/6 [00:01<00:00,  5.30it/s]\n"
     ]
    },
    {
     "name": "stdout",
     "output_type": "stream",
     "text": [
      "  Train Loss: 0.0096, Train Acc: 0.9989, Val Loss: 0.2415, Val Acc: 0.8242, Time: 5.92s\n",
      "\n",
      "Epoch 25/100 for Fold 2\n"
     ]
    },
    {
     "name": "stderr",
     "output_type": "stream",
     "text": [
      "Training: 100%|██████████| 21/21 [00:05<00:00,  3.67it/s]\n"
     ]
    },
    {
     "name": "stdout",
     "output_type": "stream",
     "text": [
      "Epoch Loss: 0.0088, Accuracy: 0.9989\n"
     ]
    },
    {
     "name": "stderr",
     "output_type": "stream",
     "text": [
      "Validating: 100%|██████████| 6/6 [00:01<00:00,  4.84it/s]\n"
     ]
    },
    {
     "name": "stdout",
     "output_type": "stream",
     "text": [
      "  Train Loss: 0.0088, Train Acc: 0.9989, Val Loss: 0.2785, Val Acc: 0.8167, Time: 5.73s\n",
      "\n",
      "Epoch 26/100 for Fold 2\n"
     ]
    },
    {
     "name": "stderr",
     "output_type": "stream",
     "text": [
      "Training: 100%|██████████| 21/21 [00:05<00:00,  3.57it/s]\n"
     ]
    },
    {
     "name": "stdout",
     "output_type": "stream",
     "text": [
      "Epoch Loss: 0.0092, Accuracy: 0.9985\n"
     ]
    },
    {
     "name": "stderr",
     "output_type": "stream",
     "text": [
      "Validating: 100%|██████████| 6/6 [00:01<00:00,  5.09it/s]\n"
     ]
    },
    {
     "name": "stdout",
     "output_type": "stream",
     "text": [
      "  Train Loss: 0.0092, Train Acc: 0.9985, Val Loss: 0.2350, Val Acc: 0.8500, Time: 5.89s\n",
      "\n",
      "Epoch 27/100 for Fold 2\n"
     ]
    },
    {
     "name": "stderr",
     "output_type": "stream",
     "text": [
      "Training: 100%|██████████| 21/21 [00:05<00:00,  3.60it/s]\n"
     ]
    },
    {
     "name": "stdout",
     "output_type": "stream",
     "text": [
      "Epoch Loss: 0.0096, Accuracy: 0.9992\n"
     ]
    },
    {
     "name": "stderr",
     "output_type": "stream",
     "text": [
      "Validating: 100%|██████████| 6/6 [00:01<00:00,  5.15it/s]\n"
     ]
    },
    {
     "name": "stdout",
     "output_type": "stream",
     "text": [
      "  Train Loss: 0.0096, Train Acc: 0.9992, Val Loss: 0.2210, Val Acc: 0.8530, Time: 5.84s\n",
      "\n",
      "Epoch 28/100 for Fold 2\n"
     ]
    },
    {
     "name": "stderr",
     "output_type": "stream",
     "text": [
      "Training: 100%|██████████| 21/21 [00:05<00:00,  3.55it/s]\n"
     ]
    },
    {
     "name": "stdout",
     "output_type": "stream",
     "text": [
      "Epoch Loss: 0.0102, Accuracy: 0.9992\n"
     ]
    },
    {
     "name": "stderr",
     "output_type": "stream",
     "text": [
      "Validating: 100%|██████████| 6/6 [00:01<00:00,  5.06it/s]\n"
     ]
    },
    {
     "name": "stdout",
     "output_type": "stream",
     "text": [
      "  Train Loss: 0.0102, Train Acc: 0.9992, Val Loss: 0.2263, Val Acc: 0.8470, Time: 5.91s\n",
      "\n",
      "Epoch 29/100 for Fold 2\n"
     ]
    },
    {
     "name": "stderr",
     "output_type": "stream",
     "text": [
      "Training: 100%|██████████| 21/21 [00:05<00:00,  3.66it/s]\n"
     ]
    },
    {
     "name": "stdout",
     "output_type": "stream",
     "text": [
      "Epoch Loss: 0.0098, Accuracy: 1.0000\n"
     ]
    },
    {
     "name": "stderr",
     "output_type": "stream",
     "text": [
      "Validating: 100%|██████████| 6/6 [00:01<00:00,  5.29it/s]\n"
     ]
    },
    {
     "name": "stdout",
     "output_type": "stream",
     "text": [
      "  Train Loss: 0.0098, Train Acc: 1.0000, Val Loss: 0.2158, Val Acc: 0.8379, Time: 5.75s\n",
      "  Early stopping at epoch 29.\n",
      "Loading best model for fold 2 (achieved 0.8652 on inner val set).\n"
     ]
    },
    {
     "name": "stderr",
     "output_type": "stream",
     "text": [
      "Validating: 100%|██████████| 13/13 [00:01<00:00,  6.80it/s]\n"
     ]
    },
    {
     "name": "stdout",
     "output_type": "stream",
     "text": [
      "Performance on Outer Test Set for fold 2: 0.8642\n",
      "\n",
      "--- Outer Fold 3/3 ---\n",
      "LEVELS: 111\n",
      "Training on 2640, Validating on 660...\n",
      "\n",
      "Epoch 1/100 for Fold 3\n"
     ]
    },
    {
     "name": "stderr",
     "output_type": "stream",
     "text": [
      "Training: 100%|██████████| 21/21 [00:05<00:00,  3.67it/s]\n"
     ]
    },
    {
     "name": "stdout",
     "output_type": "stream",
     "text": [
      "Epoch Loss: 0.1790, Accuracy: 0.7939\n"
     ]
    },
    {
     "name": "stderr",
     "output_type": "stream",
     "text": [
      "Validating: 100%|██████████| 6/6 [00:01<00:00,  5.17it/s]\n"
     ]
    },
    {
     "name": "stdout",
     "output_type": "stream",
     "text": [
      "  Train Loss: 0.1790, Train Acc: 0.7939, Val Loss: 0.1436, Val Acc: 0.8364, Time: 5.72s\n",
      "  New best model for fold 3 at epoch 1: Val Acc: 0.8364\n",
      "\n",
      "Epoch 2/100 for Fold 3\n"
     ]
    },
    {
     "name": "stderr",
     "output_type": "stream",
     "text": [
      "Training: 100%|██████████| 21/21 [00:05<00:00,  3.56it/s]\n"
     ]
    },
    {
     "name": "stdout",
     "output_type": "stream",
     "text": [
      "Epoch Loss: 0.1057, Accuracy: 0.8610\n"
     ]
    },
    {
     "name": "stderr",
     "output_type": "stream",
     "text": [
      "Validating: 100%|██████████| 6/6 [00:01<00:00,  5.11it/s]\n"
     ]
    },
    {
     "name": "stdout",
     "output_type": "stream",
     "text": [
      "  Train Loss: 0.1057, Train Acc: 0.8610, Val Loss: 0.1100, Val Acc: 0.8455, Time: 5.91s\n",
      "  New best model for fold 3 at epoch 2: Val Acc: 0.8455\n",
      "\n",
      "Epoch 3/100 for Fold 3\n"
     ]
    },
    {
     "name": "stderr",
     "output_type": "stream",
     "text": [
      "Training: 100%|██████████| 21/21 [00:05<00:00,  3.65it/s]\n"
     ]
    },
    {
     "name": "stdout",
     "output_type": "stream",
     "text": [
      "Epoch Loss: 0.0778, Accuracy: 0.8905\n"
     ]
    },
    {
     "name": "stderr",
     "output_type": "stream",
     "text": [
      "Validating: 100%|██████████| 6/6 [00:01<00:00,  5.07it/s]\n"
     ]
    },
    {
     "name": "stdout",
     "output_type": "stream",
     "text": [
      "  Train Loss: 0.0778, Train Acc: 0.8905, Val Loss: 0.1070, Val Acc: 0.8576, Time: 5.75s\n",
      "  New best model for fold 3 at epoch 3: Val Acc: 0.8576\n",
      "\n",
      "Epoch 4/100 for Fold 3\n"
     ]
    },
    {
     "name": "stderr",
     "output_type": "stream",
     "text": [
      "Training: 100%|██████████| 21/21 [00:05<00:00,  3.65it/s]\n"
     ]
    },
    {
     "name": "stdout",
     "output_type": "stream",
     "text": [
      "Epoch Loss: 0.0641, Accuracy: 0.9125\n"
     ]
    },
    {
     "name": "stderr",
     "output_type": "stream",
     "text": [
      "Validating: 100%|██████████| 6/6 [00:01<00:00,  4.93it/s]\n"
     ]
    },
    {
     "name": "stdout",
     "output_type": "stream",
     "text": [
      "  Train Loss: 0.0641, Train Acc: 0.9125, Val Loss: 0.1244, Val Acc: 0.8500, Time: 5.75s\n",
      "\n",
      "Epoch 5/100 for Fold 3\n"
     ]
    },
    {
     "name": "stderr",
     "output_type": "stream",
     "text": [
      "Training: 100%|██████████| 21/21 [00:05<00:00,  3.70it/s]\n"
     ]
    },
    {
     "name": "stdout",
     "output_type": "stream",
     "text": [
      "Epoch Loss: 0.0591, Accuracy: 0.9333\n"
     ]
    },
    {
     "name": "stderr",
     "output_type": "stream",
     "text": [
      "Validating: 100%|██████████| 6/6 [00:01<00:00,  5.22it/s]\n"
     ]
    },
    {
     "name": "stdout",
     "output_type": "stream",
     "text": [
      "  Train Loss: 0.0591, Train Acc: 0.9333, Val Loss: 0.1382, Val Acc: 0.8727, Time: 5.68s\n",
      "  New best model for fold 3 at epoch 5: Val Acc: 0.8727\n",
      "\n",
      "Epoch 6/100 for Fold 3\n"
     ]
    },
    {
     "name": "stderr",
     "output_type": "stream",
     "text": [
      "Training: 100%|██████████| 21/21 [00:05<00:00,  3.63it/s]\n"
     ]
    },
    {
     "name": "stdout",
     "output_type": "stream",
     "text": [
      "Epoch Loss: 0.0561, Accuracy: 0.9424\n"
     ]
    },
    {
     "name": "stderr",
     "output_type": "stream",
     "text": [
      "Validating: 100%|██████████| 6/6 [00:01<00:00,  5.25it/s]\n"
     ]
    },
    {
     "name": "stdout",
     "output_type": "stream",
     "text": [
      "  Train Loss: 0.0561, Train Acc: 0.9424, Val Loss: 0.1350, Val Acc: 0.8621, Time: 5.79s\n",
      "\n",
      "Epoch 7/100 for Fold 3\n"
     ]
    },
    {
     "name": "stderr",
     "output_type": "stream",
     "text": [
      "Training: 100%|██████████| 21/21 [00:05<00:00,  3.70it/s]\n"
     ]
    },
    {
     "name": "stdout",
     "output_type": "stream",
     "text": [
      "Epoch Loss: 0.0511, Accuracy: 0.9610\n"
     ]
    },
    {
     "name": "stderr",
     "output_type": "stream",
     "text": [
      "Validating: 100%|██████████| 6/6 [00:01<00:00,  5.09it/s]\n"
     ]
    },
    {
     "name": "stdout",
     "output_type": "stream",
     "text": [
      "  Train Loss: 0.0511, Train Acc: 0.9610, Val Loss: 0.1558, Val Acc: 0.8530, Time: 5.68s\n",
      "\n",
      "Epoch 8/100 for Fold 3\n"
     ]
    },
    {
     "name": "stderr",
     "output_type": "stream",
     "text": [
      "Training: 100%|██████████| 21/21 [00:05<00:00,  3.68it/s]\n"
     ]
    },
    {
     "name": "stdout",
     "output_type": "stream",
     "text": [
      "Epoch Loss: 0.0497, Accuracy: 0.9674\n"
     ]
    },
    {
     "name": "stderr",
     "output_type": "stream",
     "text": [
      "Validating: 100%|██████████| 6/6 [00:01<00:00,  5.08it/s]\n"
     ]
    },
    {
     "name": "stdout",
     "output_type": "stream",
     "text": [
      "  Train Loss: 0.0497, Train Acc: 0.9674, Val Loss: 0.1435, Val Acc: 0.8515, Time: 5.70s\n",
      "\n",
      "Epoch 9/100 for Fold 3\n"
     ]
    },
    {
     "name": "stderr",
     "output_type": "stream",
     "text": [
      "Training: 100%|██████████| 21/21 [00:05<00:00,  3.67it/s]\n"
     ]
    },
    {
     "name": "stdout",
     "output_type": "stream",
     "text": [
      "Epoch Loss: 0.0406, Accuracy: 0.9742\n"
     ]
    },
    {
     "name": "stderr",
     "output_type": "stream",
     "text": [
      "Validating: 100%|██████████| 6/6 [00:01<00:00,  4.93it/s]\n"
     ]
    },
    {
     "name": "stdout",
     "output_type": "stream",
     "text": [
      "  Train Loss: 0.0406, Train Acc: 0.9742, Val Loss: 0.1391, Val Acc: 0.8530, Time: 5.72s\n",
      "\n",
      "Epoch 10/100 for Fold 3\n"
     ]
    },
    {
     "name": "stderr",
     "output_type": "stream",
     "text": [
      "Training: 100%|██████████| 21/21 [00:05<00:00,  3.68it/s]\n"
     ]
    },
    {
     "name": "stdout",
     "output_type": "stream",
     "text": [
      "Epoch Loss: 0.0335, Accuracy: 0.9822\n"
     ]
    },
    {
     "name": "stderr",
     "output_type": "stream",
     "text": [
      "Validating: 100%|██████████| 6/6 [00:01<00:00,  4.95it/s]\n"
     ]
    },
    {
     "name": "stdout",
     "output_type": "stream",
     "text": [
      "  Train Loss: 0.0335, Train Acc: 0.9822, Val Loss: 0.1561, Val Acc: 0.8530, Time: 5.71s\n",
      "\n",
      "Epoch 11/100 for Fold 3\n"
     ]
    },
    {
     "name": "stderr",
     "output_type": "stream",
     "text": [
      "Training: 100%|██████████| 21/21 [00:05<00:00,  3.66it/s]\n"
     ]
    },
    {
     "name": "stdout",
     "output_type": "stream",
     "text": [
      "Epoch Loss: 0.0316, Accuracy: 0.9841\n"
     ]
    },
    {
     "name": "stderr",
     "output_type": "stream",
     "text": [
      "Validating: 100%|██████████| 6/6 [00:01<00:00,  5.07it/s]\n"
     ]
    },
    {
     "name": "stdout",
     "output_type": "stream",
     "text": [
      "  Train Loss: 0.0316, Train Acc: 0.9841, Val Loss: 0.1762, Val Acc: 0.8333, Time: 5.73s\n",
      "\n",
      "Epoch 12/100 for Fold 3\n"
     ]
    },
    {
     "name": "stderr",
     "output_type": "stream",
     "text": [
      "Training: 100%|██████████| 21/21 [00:05<00:00,  3.67it/s]\n"
     ]
    },
    {
     "name": "stdout",
     "output_type": "stream",
     "text": [
      "Epoch Loss: 0.0323, Accuracy: 0.9848\n"
     ]
    },
    {
     "name": "stderr",
     "output_type": "stream",
     "text": [
      "Validating: 100%|██████████| 6/6 [00:01<00:00,  5.09it/s]\n"
     ]
    },
    {
     "name": "stdout",
     "output_type": "stream",
     "text": [
      "  Train Loss: 0.0323, Train Acc: 0.9848, Val Loss: 0.1695, Val Acc: 0.8591, Time: 5.72s\n",
      "\n",
      "Epoch 13/100 for Fold 3\n"
     ]
    },
    {
     "name": "stderr",
     "output_type": "stream",
     "text": [
      "Training: 100%|██████████| 21/21 [00:05<00:00,  3.62it/s]\n"
     ]
    },
    {
     "name": "stdout",
     "output_type": "stream",
     "text": [
      "Epoch Loss: 0.0283, Accuracy: 0.9875\n"
     ]
    },
    {
     "name": "stderr",
     "output_type": "stream",
     "text": [
      "Validating: 100%|██████████| 6/6 [00:01<00:00,  5.11it/s]\n"
     ]
    },
    {
     "name": "stdout",
     "output_type": "stream",
     "text": [
      "  Train Loss: 0.0283, Train Acc: 0.9875, Val Loss: 0.1750, Val Acc: 0.8485, Time: 5.80s\n",
      "\n",
      "Epoch 14/100 for Fold 3\n"
     ]
    },
    {
     "name": "stderr",
     "output_type": "stream",
     "text": [
      "Training: 100%|██████████| 21/21 [00:05<00:00,  3.66it/s]\n"
     ]
    },
    {
     "name": "stdout",
     "output_type": "stream",
     "text": [
      "Epoch Loss: 0.0247, Accuracy: 0.9905\n"
     ]
    },
    {
     "name": "stderr",
     "output_type": "stream",
     "text": [
      "Validating: 100%|██████████| 6/6 [00:01<00:00,  5.08it/s]\n"
     ]
    },
    {
     "name": "stdout",
     "output_type": "stream",
     "text": [
      "  Train Loss: 0.0247, Train Acc: 0.9905, Val Loss: 0.1781, Val Acc: 0.8530, Time: 5.74s\n",
      "\n",
      "Epoch 15/100 for Fold 3\n"
     ]
    },
    {
     "name": "stderr",
     "output_type": "stream",
     "text": [
      "Training: 100%|██████████| 21/21 [00:05<00:00,  3.66it/s]\n"
     ]
    },
    {
     "name": "stdout",
     "output_type": "stream",
     "text": [
      "Epoch Loss: 0.0214, Accuracy: 0.9909\n"
     ]
    },
    {
     "name": "stderr",
     "output_type": "stream",
     "text": [
      "Validating: 100%|██████████| 6/6 [00:01<00:00,  5.06it/s]\n"
     ]
    },
    {
     "name": "stdout",
     "output_type": "stream",
     "text": [
      "  Train Loss: 0.0214, Train Acc: 0.9909, Val Loss: 0.1934, Val Acc: 0.8606, Time: 5.75s\n",
      "  Early stopping at epoch 15.\n",
      "Loading best model for fold 3 (achieved 0.8727 on inner val set).\n"
     ]
    },
    {
     "name": "stderr",
     "output_type": "stream",
     "text": [
      "Validating: 100%|██████████| 13/13 [00:01<00:00,  6.73it/s]"
     ]
    },
    {
     "name": "stdout",
     "output_type": "stream",
     "text": [
      "Performance on Outer Test Set for fold 3: 0.8509\n",
      "\n",
      "--- NESTED CROSS VALIDATION TRANSFER COMPLETE ---\n",
      "Cross-validation accuracies on outer folds: ['0.8376', '0.8642', '0.8509']\n",
      "Mean CV Accuracy: 0.8509 ± 0.0109\n"
     ]
    },
    {
     "name": "stderr",
     "output_type": "stream",
     "text": [
      "\n"
     ]
    }
   ],
   "source": [
    "from tensorboardX import SummaryWriter\n",
    "import time\n",
    "\n",
    "transfer_model_folder_name = \"./saved_models/RADIO1_MRNet\"\n",
    "model_folder_name = \"RADIO2_MRNet_TRANSFER\"\n",
    "\n",
    "print(f\"\\n{'='*25} PERFORMING NESTED CROSS-VALIDATION TRANSFER {'='*25}\")\n",
    "\n",
    "outer_kfold = StratifiedKFold(n_splits=N_SPLITS, shuffle=True, random_state=RANDOM_SEED)\n",
    "fold_test_results = []\n",
    "\n",
    "for fold, (train_outer_idx, test_outer_idx) in enumerate(outer_kfold.split(np.zeros(len(dev_dataset)), dev_dataset_labels)):\n",
    "    print(f\"\\n--- Outer Fold {fold+1}/{N_SPLITS} ---\")\n",
    "    writer = SummaryWriter(log_dir=f'runs/{model_folder_name}/fold_{fold+1}')\n",
    "\n",
    "    # Create inner train/val split from the outer training set\n",
    "    train_outer_labels = dev_dataset_labels[train_outer_idx]\n",
    "    train_inner_idx, val_inner_idx = train_test_split(\n",
    "        train_outer_idx, test_size=VAL_SPLIT_SIZE, shuffle=True, stratify=train_outer_labels, random_state=RANDOM_SEED\n",
    "    )\n",
    "\n",
    "    # Create subsets from the DEVELOPMENT dataset\n",
    "    train_inner_subset = Subset(dev_dataset, train_inner_idx)\n",
    "    val_inner_subset = Subset(dev_dataset, val_inner_idx)\n",
    "    test_outer_subset = Subset(dev_dataset, test_outer_idx) # This is the \"test set\" for this fold\n",
    "\n",
    "    train_loader = DataLoader(train_inner_subset, batch_size=BATCH_SIZE, shuffle=True, num_workers=6, pin_memory=True)\n",
    "    val_loader = DataLoader(val_inner_subset, batch_size=BATCH_SIZE, shuffle=False, num_workers=6, pin_memory=True)\n",
    "    test_loader = DataLoader(test_outer_subset, batch_size=BATCH_SIZE, shuffle=False, num_workers=6, pin_memory=True)\n",
    "\n",
    "\n",
    "    model = MRNet(\n",
    "        use_meta=False,\n",
    "        multihead=True,\n",
    "    ).to(DEVICE)\n",
    "\n",
    "    model.load_state_dict(torch.load(f\"{transfer_model_folder_name}/deployable_model.pth\"))  # Load the pre-trained model\n",
    "\n",
    "    optimizer = torch.optim.Adam(\n",
    "        model.parameters(),\n",
    "        lr=LEARNING_RATE,\n",
    "        betas=(BETA1, BETA2),\n",
    "        eps=EPSILON,\n",
    "        weight_decay=WEIGHT_DECAY\n",
    "    )\n",
    "    criterion = lambda x, y, reduction='mean': contrast_loss(x, y, 'mean', False)\n",
    "    scheduler = None\n",
    "    scaler = None\n",
    "\n",
    "    best_model_path = f\"./saved_models/{model_folder_name}/best_model_fold_{fold+1}.pth\"\n",
    "    os.makedirs(f\"./saved_models/{model_folder_name}\", exist_ok=True)\n",
    "    best_val_acc_fold = 0.0\n",
    "    epochs_without_improvement = 0\n",
    "\n",
    "    print(f\"Training on {len(train_inner_subset)}, Validating on {len(val_inner_subset)}...\")\n",
    "    for epoch in range(1, EPOCHS + 1):\n",
    "        print(f\"\\nEpoch {epoch}/{EPOCHS} for Fold {fold+1}\")\n",
    "        train_start_time = time.time()\n",
    "        train_loss, train_acc = train_epoch(model, train_loader, optimizer, criterion, DEVICE)\n",
    "        train_end_time = time.time()\n",
    "        train_time = train_end_time - train_start_time\n",
    "\n",
    "        val_loss, val_acc = validate(model, val_loader, criterion, DEVICE)\n",
    "\n",
    "        print(f\"  Train Loss: {train_loss:.4f}, Train Acc: {train_acc:.4f}, Val Loss: {val_loss:.4f}, Val Acc: {val_acc:.4f}, Time: {train_time:.2f}s\")\n",
    "\n",
    "        writer.add_scalar('CV/Loss/train', train_loss, epoch)\n",
    "        writer.add_scalar('CV/Accuracy/train', train_acc, epoch)\n",
    "        writer.add_scalar('CV/Loss/val', val_loss, epoch)\n",
    "        writer.add_scalar('CV/Accuracy/val', val_acc, epoch)\n",
    "        writer.add_scalar('CV/Time/train', train_time, epoch)\n",
    "\n",
    "        memory_allocated = torch.cuda.memory_allocated(DEVICE) if torch.cuda.is_available() else 0\n",
    "        memory_reserved = torch.cuda.memory_reserved(DEVICE) if torch.cuda.is_available() else 0\n",
    "\n",
    "        writer.add_scalar('CV/Memory/allocated', memory_allocated, epoch)\n",
    "        writer.add_scalar('CV/Memory/reserved', memory_reserved, epoch)\n",
    "\n",
    "        if val_acc > best_val_acc_fold:\n",
    "            best_val_acc_fold = val_acc\n",
    "            epochs_without_improvement = 0\n",
    "            torch.save(model.state_dict(), best_model_path)\n",
    "            print(f\"  New best model for fold {fold+1} at epoch {epoch}: Val Acc: {val_acc:.4f}\")\n",
    "        else:\n",
    "            epochs_without_improvement += 1\n",
    "            if epochs_without_improvement >= PATIENCE:\n",
    "                print(f\"  Early stopping at epoch {epoch}.\")\n",
    "                break\n",
    "    \n",
    "    # Evaluate the best model for this fold on the outer test set\n",
    "    print(f\"Loading best model for fold {fold+1} (achieved {best_val_acc_fold:.4f} on inner val set).\")\n",
    "    model.load_state_dict(torch.load(best_model_path))\n",
    "    _, final_fold_test_acc = validate(model, test_loader, criterion, DEVICE)\n",
    "    print(f\"Performance on Outer Test Set for fold {fold+1}: {final_fold_test_acc:.4f}\")\n",
    "    fold_test_results.append(final_fold_test_acc)\n",
    "    writer.add_scalar('CV/Accuracy/test', final_fold_test_acc, epoch)\n",
    "    writer.close()\n",
    "\n",
    "mean_cv_acc = np.mean(fold_test_results)\n",
    "std_cv_acc = np.std(fold_test_results)\n",
    "print(f\"\\n--- NESTED CROSS VALIDATION TRANSFER COMPLETE ---\")\n",
    "print(f\"Cross-validation accuracies on outer folds: {[f'{acc:.4f}' for acc in fold_test_results]}\")\n",
    "print(f\"Mean CV Accuracy: {mean_cv_acc:.4f} ± {std_cv_acc:.4f}\")"
   ]
  }
 ],
 "metadata": {
  "kernelspec": {
   "display_name": "DGL_ENV",
   "language": "python",
   "name": "dgl_env"
  },
  "language_info": {
   "codemirror_mode": {
    "name": "ipython",
    "version": 3
   },
   "file_extension": ".py",
   "mimetype": "text/x-python",
   "name": "python",
   "nbconvert_exporter": "python",
   "pygments_lexer": "ipython3",
   "version": "3.12.3"
  }
 },
 "nbformat": 4,
 "nbformat_minor": 5
}
