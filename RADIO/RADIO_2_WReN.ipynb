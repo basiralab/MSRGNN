{
 "cells": [
  {
   "cell_type": "code",
   "execution_count": 1,
   "id": "39d28230",
   "metadata": {},
   "outputs": [],
   "source": [
    "%load_ext autoreload\n",
    "%autoreload 2"
   ]
  },
  {
   "cell_type": "code",
   "execution_count": 2,
   "id": "fcd03f95",
   "metadata": {},
   "outputs": [],
   "source": [
    "from radio_data_utility import RadioV2Dataset as dataset\n",
    "import argparse\n",
    "import os\n",
    "import json\n",
    "import pickle\n",
    "\n",
    "from torchvision import transforms\n",
    "\n",
    "import torch\n",
    "import numpy as np\n",
    "\n",
    "from torch.utils.data import DataLoader\n",
    "import torch.nn as nn\n",
    "\n",
    "import time\n",
    "import random"
   ]
  },
  {
   "cell_type": "code",
   "execution_count": 3,
   "id": "383ffc8d",
   "metadata": {},
   "outputs": [],
   "source": [
    "with open('./generated_radio_datasets_split/raven_organsmnist_v2_train.pkl', 'rb') as f:\n",
    "    raven_dataset_v2_organ_train = pickle.load(f)\n",
    "\n",
    "with open('./generated_radio_datasets_split/raven_organsmnist_v2_val.pkl', 'rb') as f:\n",
    "    raven_dataset_v2_organ_val = pickle.load(f)\n",
    "\n",
    "with open('./generated_radio_datasets_split/raven_organsmnist_v2_test.pkl', 'rb') as f:\n",
    "    raven_dataset_v2_organ_test = pickle.load(f)"
   ]
  },
  {
   "cell_type": "code",
   "execution_count": 4,
   "id": "5b88a7d0",
   "metadata": {},
   "outputs": [],
   "source": [
    "from wren import WReN, train_epoch, validate, count_parameters"
   ]
  },
  {
   "cell_type": "code",
   "execution_count": 5,
   "id": "2c730771",
   "metadata": {},
   "outputs": [],
   "source": [
    "RANDOM_SEED = 42\n",
    "\n",
    "# Set seeds for reproducibility\n",
    "torch.manual_seed(RANDOM_SEED)\n",
    "np.random.seed(RANDOM_SEED)\n",
    "if torch.cuda.is_available():\n",
    "    torch.cuda.manual_seed_all(RANDOM_SEED)\n",
    "\n",
    "IMG_SIZE = 80"
   ]
  },
  {
   "cell_type": "code",
   "execution_count": 6,
   "id": "59912112",
   "metadata": {},
   "outputs": [],
   "source": [
    "# --- Define Image Transformations ---\n",
    "train_transform = transforms.Compose([\n",
    "    transforms.ToPILImage(),\n",
    "    transforms.Resize(IMG_SIZE),  # Resize to the specified size\n",
    "    transforms.ToTensor(),\n",
    "])\n",
    "\n",
    "eval_transform = transforms.Compose([\n",
    "    transforms.ToPILImage(),\n",
    "    transforms.Resize(IMG_SIZE),\n",
    "    transforms.ToTensor(),\n",
    "])"
   ]
  },
  {
   "cell_type": "code",
   "execution_count": 7,
   "id": "c07f3477",
   "metadata": {},
   "outputs": [
    {
     "name": "stdout",
     "output_type": "stream",
     "text": [
      "Total samples in training set: 4400\n",
      "Total samples in validation set: 550\n",
      "Total samples in test set: 550\n"
     ]
    }
   ],
   "source": [
    "print(\"Total samples in training set:\", len(raven_dataset_v2_organ_train))\n",
    "print(\"Total samples in validation set:\", len(raven_dataset_v2_organ_val))\n",
    "print(\"Total samples in test set:\", len(raven_dataset_v2_organ_test))"
   ]
  },
  {
   "cell_type": "code",
   "execution_count": 8,
   "id": "a63551a1",
   "metadata": {},
   "outputs": [],
   "source": [
    "train_dataset = dataset(\n",
    "    raven_dataset_v2_organ_train, # Use the split training data\n",
    "    mode=\"train\",\n",
    "    transform_train=train_transform,\n",
    "    transform_eval=eval_transform, # transform_eval is not used by train mode but good to pass\n",
    ")\n",
    "\n",
    "val_dataset = dataset(\n",
    "    raven_dataset_v2_organ_val, # Use the split validation data\n",
    "    mode=\"val\",    # Set mode to \"val\" or \"test\"\n",
    "    transform_train=train_transform, # Not used by val mode\n",
    "    transform_eval=eval_transform,\n",
    ")\n",
    "\n",
    "test_dataset = dataset(\n",
    "    raven_dataset_v2_organ_test, # Use the split test data\n",
    "    mode=\"val\",    # Set mode to \"val\" or \"test\"\n",
    "    transform_train=train_transform, # Not used by test mode\n",
    "    transform_eval=eval_transform,\n",
    ")"
   ]
  },
  {
   "cell_type": "code",
   "execution_count": 9,
   "id": "cd02e6d3",
   "metadata": {},
   "outputs": [],
   "source": [
    "import torch\n",
    "import torch.nn as nn\n",
    "import numpy as np\n",
    "import time\n",
    "import json\n",
    "from sklearn.model_selection import StratifiedKFold, train_test_split\n",
    "# ==============================================================================\n",
    "# 1. SETUP - Constants and Parameters\n",
    "# ==============================================================================\n",
    "N_SPLITS = 3 # Number of folds for cross-validation\n",
    "PATIENCE = 10 # Early stopping patience\n",
    "VAL_SPLIT_SIZE = 0.20\n",
    "DEVICE = torch.device(\"cuda\" if torch.cuda.is_available() else \"cpu\")\n",
    "BATCH_SIZE = 128\n",
    "EPOCHS = 100\n",
    "LEARNING_RATE = 1e-4\n",
    "BETA_1 = 0.9\n",
    "BETA_2 = 0.999\n",
    "EPSILON = 1e-8\n",
    "META_BETA = 0"
   ]
  },
  {
   "cell_type": "code",
   "execution_count": 10,
   "id": "2bce732f",
   "metadata": {},
   "outputs": [
    {
     "name": "stdout",
     "output_type": "stream",
     "text": [
      "Total data for Development (Train+Val): 4950 samples.\n",
      "Test Set size: 550 samples. (Will not be used until the very end)\n"
     ]
    }
   ],
   "source": [
    "from torch.utils.data import TensorDataset, ConcatDataset, Subset, DataLoader\n",
    "\n",
    "dev_dataset = ConcatDataset([train_dataset, val_dataset])\n",
    "dev_dataset_labels = np.concatenate([train_dataset.labels, val_dataset.labels])\n",
    "\n",
    "print(f\"Total data for Development (Train+Val): {len(dev_dataset)} samples.\")\n",
    "print(f\"Test Set size: {len(test_dataset)} samples. (Will not be used until the very end)\")"
   ]
  },
  {
   "cell_type": "markdown",
   "id": "62c917c1",
   "metadata": {},
   "source": [
    "# RADIO-2 STL"
   ]
  },
  {
   "cell_type": "code",
   "execution_count": 11,
   "id": "29e9c898",
   "metadata": {},
   "outputs": [],
   "source": [
    "model_folder_name = \"RADIO2_WReN\"\n",
    "from tensorboardX import SummaryWriter\n",
    "import time"
   ]
  },
  {
   "cell_type": "code",
   "execution_count": null,
   "id": "3e5ce50d",
   "metadata": {},
   "outputs": [
    {
     "name": "stdout",
     "output_type": "stream",
     "text": [
      "\n",
      "========================= PERFORMING NESTED CROSS-VALIDATION =========================\n",
      "\n",
      "--- Outer Fold 1/3 ---\n",
      "Training on 2640, Validating on 660...\n"
     ]
    },
    {
     "name": "stderr",
     "output_type": "stream",
     "text": [
      "Training:   0%|          | 0/21 [00:00<?, ?it/s]"
     ]
    },
    {
     "name": "stderr",
     "output_type": "stream",
     "text": [
      "Training: 100%|██████████| 21/21 [00:02<00:00,  8.09it/s]\n",
      "Validating: 100%|██████████| 6/6 [00:00<00:00,  6.40it/s]\n"
     ]
    },
    {
     "name": "stdout",
     "output_type": "stream",
     "text": [
      "  New best model for fold 1 at epoch 1: Val Acc: 0.1076\n"
     ]
    },
    {
     "name": "stderr",
     "output_type": "stream",
     "text": [
      "Training: 100%|██████████| 21/21 [00:02<00:00,  7.60it/s]\n",
      "Validating: 100%|██████████| 6/6 [00:00<00:00,  7.50it/s]\n"
     ]
    },
    {
     "name": "stdout",
     "output_type": "stream",
     "text": [
      "  New best model for fold 1 at epoch 2: Val Acc: 0.3500\n"
     ]
    },
    {
     "name": "stderr",
     "output_type": "stream",
     "text": [
      "Training: 100%|██████████| 21/21 [00:02<00:00,  8.10it/s]\n",
      "Validating: 100%|██████████| 6/6 [00:00<00:00,  7.46it/s]\n"
     ]
    },
    {
     "name": "stdout",
     "output_type": "stream",
     "text": [
      "  New best model for fold 1 at epoch 3: Val Acc: 0.4864\n"
     ]
    },
    {
     "name": "stderr",
     "output_type": "stream",
     "text": [
      "Training: 100%|██████████| 21/21 [00:02<00:00,  7.96it/s]\n",
      "Validating: 100%|██████████| 6/6 [00:00<00:00,  7.30it/s]\n"
     ]
    },
    {
     "name": "stdout",
     "output_type": "stream",
     "text": [
      "  New best model for fold 1 at epoch 4: Val Acc: 0.5152\n"
     ]
    },
    {
     "name": "stderr",
     "output_type": "stream",
     "text": [
      "Training: 100%|██████████| 21/21 [00:02<00:00,  8.04it/s]\n",
      "Validating: 100%|██████████| 6/6 [00:00<00:00,  7.65it/s]\n"
     ]
    },
    {
     "name": "stdout",
     "output_type": "stream",
     "text": [
      "  New best model for fold 1 at epoch 5: Val Acc: 0.5561\n"
     ]
    },
    {
     "name": "stderr",
     "output_type": "stream",
     "text": [
      "Training: 100%|██████████| 21/21 [00:02<00:00,  8.00it/s]\n",
      "Validating: 100%|██████████| 6/6 [00:00<00:00,  7.49it/s]\n"
     ]
    },
    {
     "name": "stdout",
     "output_type": "stream",
     "text": [
      "  New best model for fold 1 at epoch 6: Val Acc: 0.6061\n"
     ]
    },
    {
     "name": "stderr",
     "output_type": "stream",
     "text": [
      "Training: 100%|██████████| 21/21 [00:02<00:00,  8.12it/s]\n",
      "Validating: 100%|██████████| 6/6 [00:00<00:00,  7.39it/s]\n"
     ]
    },
    {
     "name": "stdout",
     "output_type": "stream",
     "text": [
      "  New best model for fold 1 at epoch 7: Val Acc: 0.6333\n"
     ]
    },
    {
     "name": "stderr",
     "output_type": "stream",
     "text": [
      "Training: 100%|██████████| 21/21 [00:02<00:00,  8.07it/s]\n",
      "Validating: 100%|██████████| 6/6 [00:00<00:00,  7.33it/s]\n"
     ]
    },
    {
     "name": "stdout",
     "output_type": "stream",
     "text": [
      "  New best model for fold 1 at epoch 8: Val Acc: 0.6591\n"
     ]
    },
    {
     "name": "stderr",
     "output_type": "stream",
     "text": [
      "Training: 100%|██████████| 21/21 [00:02<00:00,  7.81it/s]\n",
      "Validating: 100%|██████████| 6/6 [00:00<00:00,  7.23it/s]\n"
     ]
    },
    {
     "name": "stdout",
     "output_type": "stream",
     "text": [
      "  New best model for fold 1 at epoch 9: Val Acc: 0.6636\n"
     ]
    },
    {
     "name": "stderr",
     "output_type": "stream",
     "text": [
      "Training: 100%|██████████| 21/21 [00:02<00:00,  7.70it/s]\n",
      "Validating: 100%|██████████| 6/6 [00:00<00:00,  7.34it/s]\n"
     ]
    },
    {
     "name": "stdout",
     "output_type": "stream",
     "text": [
      "  New best model for fold 1 at epoch 10: Val Acc: 0.6818\n"
     ]
    },
    {
     "name": "stderr",
     "output_type": "stream",
     "text": [
      "Training: 100%|██████████| 21/21 [00:02<00:00,  7.95it/s]\n",
      "Validating: 100%|██████████| 6/6 [00:00<00:00,  7.25it/s]\n",
      "Training: 100%|██████████| 21/21 [00:02<00:00,  7.92it/s]\n",
      "Validating: 100%|██████████| 6/6 [00:00<00:00,  7.38it/s]\n",
      "Training: 100%|██████████| 21/21 [00:02<00:00,  8.10it/s]\n",
      "Validating: 100%|██████████| 6/6 [00:00<00:00,  7.51it/s]\n",
      "Training: 100%|██████████| 21/21 [00:02<00:00,  8.06it/s]\n",
      "Validating: 100%|██████████| 6/6 [00:00<00:00,  7.37it/s]\n",
      "Training: 100%|██████████| 21/21 [00:02<00:00,  8.05it/s]\n",
      "Validating: 100%|██████████| 6/6 [00:00<00:00,  7.20it/s]\n",
      "Training: 100%|██████████| 21/21 [00:02<00:00,  7.82it/s]\n",
      "Validating: 100%|██████████| 6/6 [00:00<00:00,  7.20it/s]\n",
      "Training: 100%|██████████| 21/21 [00:02<00:00,  7.92it/s]\n",
      "Validating: 100%|██████████| 6/6 [00:00<00:00,  7.30it/s]\n",
      "Training: 100%|██████████| 21/21 [00:02<00:00,  8.13it/s]\n",
      "Validating: 100%|██████████| 6/6 [00:00<00:00,  7.05it/s]\n",
      "Training: 100%|██████████| 21/21 [00:02<00:00,  8.00it/s]\n",
      "Validating: 100%|██████████| 6/6 [00:00<00:00,  7.18it/s]\n",
      "Training: 100%|██████████| 21/21 [00:02<00:00,  8.01it/s]\n",
      "Validating: 100%|██████████| 6/6 [00:00<00:00,  7.44it/s]\n"
     ]
    },
    {
     "name": "stdout",
     "output_type": "stream",
     "text": [
      "  Early stopping at epoch 20.\n",
      "Loading best model for fold 1 (achieved 0.6818 on inner val set).\n"
     ]
    },
    {
     "name": "stderr",
     "output_type": "stream",
     "text": [
      "Validating: 100%|██████████| 13/13 [00:01<00:00, 10.41it/s]\n"
     ]
    },
    {
     "name": "stdout",
     "output_type": "stream",
     "text": [
      "Performance on Outer Test Set for fold 1: 0.6509\n",
      "\n",
      "--- Outer Fold 2/3 ---\n",
      "Training on 2640, Validating on 660...\n"
     ]
    },
    {
     "name": "stderr",
     "output_type": "stream",
     "text": [
      "Training: 100%|██████████| 21/21 [00:02<00:00,  7.98it/s]\n",
      "Validating: 100%|██████████| 6/6 [00:00<00:00,  7.40it/s]\n"
     ]
    },
    {
     "name": "stdout",
     "output_type": "stream",
     "text": [
      "  New best model for fold 2 at epoch 1: Val Acc: 0.1379\n"
     ]
    },
    {
     "name": "stderr",
     "output_type": "stream",
     "text": [
      "Training: 100%|██████████| 21/21 [00:02<00:00,  7.81it/s]\n",
      "Validating: 100%|██████████| 6/6 [00:00<00:00,  7.35it/s]\n"
     ]
    },
    {
     "name": "stdout",
     "output_type": "stream",
     "text": [
      "  New best model for fold 2 at epoch 2: Val Acc: 0.3318\n"
     ]
    },
    {
     "name": "stderr",
     "output_type": "stream",
     "text": [
      "Training: 100%|██████████| 21/21 [00:02<00:00,  7.90it/s]\n",
      "Validating: 100%|██████████| 6/6 [00:00<00:00,  7.51it/s]\n"
     ]
    },
    {
     "name": "stdout",
     "output_type": "stream",
     "text": [
      "  New best model for fold 2 at epoch 3: Val Acc: 0.4000\n"
     ]
    },
    {
     "name": "stderr",
     "output_type": "stream",
     "text": [
      "Training: 100%|██████████| 21/21 [00:02<00:00,  8.02it/s]\n",
      "Validating: 100%|██████████| 6/6 [00:00<00:00,  7.08it/s]\n"
     ]
    },
    {
     "name": "stdout",
     "output_type": "stream",
     "text": [
      "  New best model for fold 2 at epoch 4: Val Acc: 0.4985\n"
     ]
    },
    {
     "name": "stderr",
     "output_type": "stream",
     "text": [
      "Training: 100%|██████████| 21/21 [00:02<00:00,  7.94it/s]\n",
      "Validating: 100%|██████████| 6/6 [00:00<00:00,  7.21it/s]\n"
     ]
    },
    {
     "name": "stdout",
     "output_type": "stream",
     "text": [
      "  New best model for fold 2 at epoch 5: Val Acc: 0.5667\n"
     ]
    },
    {
     "name": "stderr",
     "output_type": "stream",
     "text": [
      "Training: 100%|██████████| 21/21 [00:02<00:00,  8.09it/s]\n",
      "Validating: 100%|██████████| 6/6 [00:00<00:00,  7.41it/s]\n"
     ]
    },
    {
     "name": "stdout",
     "output_type": "stream",
     "text": [
      "  New best model for fold 2 at epoch 6: Val Acc: 0.6106\n"
     ]
    },
    {
     "name": "stderr",
     "output_type": "stream",
     "text": [
      "Training: 100%|██████████| 21/21 [00:02<00:00,  8.03it/s]\n",
      "Validating: 100%|██████████| 6/6 [00:00<00:00,  7.38it/s]\n"
     ]
    },
    {
     "name": "stdout",
     "output_type": "stream",
     "text": [
      "  New best model for fold 2 at epoch 7: Val Acc: 0.6394\n"
     ]
    },
    {
     "name": "stderr",
     "output_type": "stream",
     "text": [
      "Training: 100%|██████████| 21/21 [00:02<00:00,  7.99it/s]\n",
      "Validating: 100%|██████████| 6/6 [00:00<00:00,  7.16it/s]\n"
     ]
    },
    {
     "name": "stdout",
     "output_type": "stream",
     "text": [
      "  New best model for fold 2 at epoch 8: Val Acc: 0.6697\n"
     ]
    },
    {
     "name": "stderr",
     "output_type": "stream",
     "text": [
      "Training: 100%|██████████| 21/21 [00:02<00:00,  7.94it/s]\n",
      "Validating: 100%|██████████| 6/6 [00:00<00:00,  7.27it/s]\n"
     ]
    },
    {
     "name": "stdout",
     "output_type": "stream",
     "text": [
      "  New best model for fold 2 at epoch 9: Val Acc: 0.6803\n"
     ]
    },
    {
     "name": "stderr",
     "output_type": "stream",
     "text": [
      "Training: 100%|██████████| 21/21 [00:02<00:00,  8.02it/s]\n",
      "Validating: 100%|██████████| 6/6 [00:00<00:00,  7.07it/s]\n",
      "Training: 100%|██████████| 21/21 [00:02<00:00,  8.01it/s]\n",
      "Validating: 100%|██████████| 6/6 [00:00<00:00,  7.25it/s]\n",
      "Training: 100%|██████████| 21/21 [00:02<00:00,  7.88it/s]\n",
      "Validating: 100%|██████████| 6/6 [00:00<00:00,  7.01it/s]\n",
      "Training: 100%|██████████| 21/21 [00:02<00:00,  7.70it/s]\n",
      "Validating: 100%|██████████| 6/6 [00:00<00:00,  7.43it/s]\n",
      "Training: 100%|██████████| 21/21 [00:02<00:00,  7.87it/s]\n",
      "Validating: 100%|██████████| 6/6 [00:00<00:00,  7.30it/s]\n",
      "Training: 100%|██████████| 21/21 [00:02<00:00,  8.00it/s]\n",
      "Validating: 100%|██████████| 6/6 [00:00<00:00,  7.37it/s]\n"
     ]
    },
    {
     "name": "stdout",
     "output_type": "stream",
     "text": [
      "  New best model for fold 2 at epoch 15: Val Acc: 0.6864\n"
     ]
    },
    {
     "name": "stderr",
     "output_type": "stream",
     "text": [
      "Training: 100%|██████████| 21/21 [00:02<00:00,  7.98it/s]\n",
      "Validating: 100%|██████████| 6/6 [00:00<00:00,  7.28it/s]\n"
     ]
    },
    {
     "name": "stdout",
     "output_type": "stream",
     "text": [
      "  New best model for fold 2 at epoch 16: Val Acc: 0.6879\n"
     ]
    },
    {
     "name": "stderr",
     "output_type": "stream",
     "text": [
      "Training: 100%|██████████| 21/21 [00:02<00:00,  8.05it/s]\n",
      "Validating: 100%|██████████| 6/6 [00:00<00:00,  7.64it/s]\n"
     ]
    },
    {
     "name": "stdout",
     "output_type": "stream",
     "text": [
      "  New best model for fold 2 at epoch 17: Val Acc: 0.6939\n"
     ]
    },
    {
     "name": "stderr",
     "output_type": "stream",
     "text": [
      "Training: 100%|██████████| 21/21 [00:02<00:00,  8.03it/s]\n",
      "Validating: 100%|██████████| 6/6 [00:00<00:00,  7.36it/s]\n",
      "Training: 100%|██████████| 21/21 [00:02<00:00,  7.99it/s]\n",
      "Validating: 100%|██████████| 6/6 [00:00<00:00,  7.27it/s]\n"
     ]
    },
    {
     "name": "stdout",
     "output_type": "stream",
     "text": [
      "  New best model for fold 2 at epoch 19: Val Acc: 0.6970\n"
     ]
    },
    {
     "name": "stderr",
     "output_type": "stream",
     "text": [
      "Training: 100%|██████████| 21/21 [00:02<00:00,  7.94it/s]\n",
      "Validating: 100%|██████████| 6/6 [00:00<00:00,  7.18it/s]\n"
     ]
    },
    {
     "name": "stdout",
     "output_type": "stream",
     "text": [
      "  New best model for fold 2 at epoch 20: Val Acc: 0.7000\n"
     ]
    },
    {
     "name": "stderr",
     "output_type": "stream",
     "text": [
      "Training: 100%|██████████| 21/21 [00:02<00:00,  7.63it/s]\n",
      "Validating: 100%|██████████| 6/6 [00:00<00:00,  7.34it/s]\n",
      "Training: 100%|██████████| 21/21 [00:02<00:00,  7.79it/s]\n",
      "Validating: 100%|██████████| 6/6 [00:00<00:00,  7.56it/s]\n",
      "Training: 100%|██████████| 21/21 [00:02<00:00,  7.96it/s]\n",
      "Validating: 100%|██████████| 6/6 [00:00<00:00,  7.32it/s]\n",
      "Training: 100%|██████████| 21/21 [00:02<00:00,  8.05it/s]\n",
      "Validating: 100%|██████████| 6/6 [00:00<00:00,  7.18it/s]\n",
      "Training: 100%|██████████| 21/21 [00:02<00:00,  7.98it/s]\n",
      "Validating: 100%|██████████| 6/6 [00:00<00:00,  7.18it/s]\n"
     ]
    },
    {
     "name": "stdout",
     "output_type": "stream",
     "text": [
      "  New best model for fold 2 at epoch 25: Val Acc: 0.7015\n"
     ]
    },
    {
     "name": "stderr",
     "output_type": "stream",
     "text": [
      "Training: 100%|██████████| 21/21 [00:02<00:00,  7.98it/s]\n",
      "Validating: 100%|██████████| 6/6 [00:00<00:00,  7.34it/s]\n"
     ]
    },
    {
     "name": "stdout",
     "output_type": "stream",
     "text": [
      "  New best model for fold 2 at epoch 26: Val Acc: 0.7136\n"
     ]
    },
    {
     "name": "stderr",
     "output_type": "stream",
     "text": [
      "Training: 100%|██████████| 21/21 [00:02<00:00,  7.74it/s]\n",
      "Validating: 100%|██████████| 6/6 [00:00<00:00,  7.19it/s]\n",
      "Training: 100%|██████████| 21/21 [00:02<00:00,  8.00it/s]\n",
      "Validating: 100%|██████████| 6/6 [00:00<00:00,  7.32it/s]\n",
      "Training: 100%|██████████| 21/21 [00:02<00:00,  8.02it/s]\n",
      "Validating: 100%|██████████| 6/6 [00:00<00:00,  7.37it/s]\n",
      "Training: 100%|██████████| 21/21 [00:02<00:00,  7.94it/s]\n",
      "Validating: 100%|██████████| 6/6 [00:00<00:00,  6.97it/s]\n",
      "Training: 100%|██████████| 21/21 [00:02<00:00,  8.16it/s]\n",
      "Validating: 100%|██████████| 6/6 [00:00<00:00,  6.91it/s]\n",
      "Training: 100%|██████████| 21/21 [00:02<00:00,  8.16it/s]\n",
      "Validating: 100%|██████████| 6/6 [00:00<00:00,  7.38it/s]\n",
      "Training: 100%|██████████| 21/21 [00:02<00:00,  8.10it/s]\n",
      "Validating: 100%|██████████| 6/6 [00:00<00:00,  7.14it/s]\n",
      "Training: 100%|██████████| 21/21 [00:02<00:00,  8.03it/s]\n",
      "Validating: 100%|██████████| 6/6 [00:00<00:00,  7.04it/s]\n",
      "Training: 100%|██████████| 21/21 [00:02<00:00,  7.97it/s]\n",
      "Validating: 100%|██████████| 6/6 [00:00<00:00,  7.33it/s]\n"
     ]
    },
    {
     "name": "stdout",
     "output_type": "stream",
     "text": [
      "  New best model for fold 2 at epoch 35: Val Acc: 0.7182\n"
     ]
    },
    {
     "name": "stderr",
     "output_type": "stream",
     "text": [
      "Training: 100%|██████████| 21/21 [00:02<00:00,  8.05it/s]\n",
      "Validating: 100%|██████████| 6/6 [00:00<00:00,  7.27it/s]\n",
      "Training: 100%|██████████| 21/21 [00:02<00:00,  7.89it/s]\n",
      "Validating: 100%|██████████| 6/6 [00:00<00:00,  7.25it/s]\n",
      "Training: 100%|██████████| 21/21 [00:02<00:00,  7.82it/s]\n",
      "Validating: 100%|██████████| 6/6 [00:00<00:00,  7.33it/s]\n",
      "Training: 100%|██████████| 21/21 [00:02<00:00,  8.02it/s]\n",
      "Validating: 100%|██████████| 6/6 [00:00<00:00,  7.42it/s]\n",
      "Training: 100%|██████████| 21/21 [00:02<00:00,  8.14it/s]\n",
      "Validating: 100%|██████████| 6/6 [00:00<00:00,  7.03it/s]\n"
     ]
    },
    {
     "name": "stdout",
     "output_type": "stream",
     "text": [
      "  New best model for fold 2 at epoch 40: Val Acc: 0.7197\n"
     ]
    },
    {
     "name": "stderr",
     "output_type": "stream",
     "text": [
      "Training: 100%|██████████| 21/21 [00:02<00:00,  7.94it/s]\n",
      "Validating: 100%|██████████| 6/6 [00:00<00:00,  7.32it/s]\n"
     ]
    },
    {
     "name": "stdout",
     "output_type": "stream",
     "text": [
      "  New best model for fold 2 at epoch 41: Val Acc: 0.7242\n"
     ]
    },
    {
     "name": "stderr",
     "output_type": "stream",
     "text": [
      "Training: 100%|██████████| 21/21 [00:02<00:00,  8.09it/s]\n",
      "Validating: 100%|██████████| 6/6 [00:00<00:00,  7.32it/s]\n",
      "Training: 100%|██████████| 21/21 [00:02<00:00,  7.90it/s]\n",
      "Validating: 100%|██████████| 6/6 [00:00<00:00,  7.22it/s]\n",
      "Training: 100%|██████████| 21/21 [00:02<00:00,  7.81it/s]\n",
      "Validating: 100%|██████████| 6/6 [00:00<00:00,  7.13it/s]\n",
      "Training: 100%|██████████| 21/21 [00:02<00:00,  8.15it/s]\n",
      "Validating: 100%|██████████| 6/6 [00:00<00:00,  7.04it/s]\n",
      "Training: 100%|██████████| 21/21 [00:02<00:00,  7.71it/s]\n",
      "Validating: 100%|██████████| 6/6 [00:00<00:00,  7.45it/s]\n",
      "Training: 100%|██████████| 21/21 [00:02<00:00,  8.04it/s]\n",
      "Validating: 100%|██████████| 6/6 [00:00<00:00,  7.22it/s]\n"
     ]
    },
    {
     "name": "stdout",
     "output_type": "stream",
     "text": [
      "  New best model for fold 2 at epoch 47: Val Acc: 0.7333\n"
     ]
    },
    {
     "name": "stderr",
     "output_type": "stream",
     "text": [
      "Training: 100%|██████████| 21/21 [00:02<00:00,  8.00it/s]\n",
      "Validating: 100%|██████████| 6/6 [00:00<00:00,  7.26it/s]\n",
      "Training: 100%|██████████| 21/21 [00:02<00:00,  8.19it/s]\n",
      "Validating: 100%|██████████| 6/6 [00:00<00:00,  7.30it/s]\n",
      "Training: 100%|██████████| 21/21 [00:02<00:00,  7.80it/s]\n",
      "Validating: 100%|██████████| 6/6 [00:00<00:00,  7.31it/s]\n",
      "Training: 100%|██████████| 21/21 [00:02<00:00,  8.02it/s]\n",
      "Validating: 100%|██████████| 6/6 [00:00<00:00,  6.81it/s]\n",
      "Training: 100%|██████████| 21/21 [00:02<00:00,  7.97it/s]\n",
      "Validating: 100%|██████████| 6/6 [00:00<00:00,  7.17it/s]\n",
      "Training: 100%|██████████| 21/21 [00:02<00:00,  7.84it/s]\n",
      "Validating: 100%|██████████| 6/6 [00:00<00:00,  7.12it/s]\n",
      "Training: 100%|██████████| 21/21 [00:02<00:00,  7.89it/s]\n",
      "Validating: 100%|██████████| 6/6 [00:00<00:00,  7.27it/s]\n",
      "Training: 100%|██████████| 21/21 [00:02<00:00,  8.05it/s]\n",
      "Validating: 100%|██████████| 6/6 [00:00<00:00,  7.23it/s]\n",
      "Training: 100%|██████████| 21/21 [00:02<00:00,  7.96it/s]\n",
      "Validating: 100%|██████████| 6/6 [00:00<00:00,  7.39it/s]\n",
      "Training: 100%|██████████| 21/21 [00:02<00:00,  8.16it/s]\n",
      "Validating: 100%|██████████| 6/6 [00:00<00:00,  7.12it/s]\n"
     ]
    },
    {
     "name": "stdout",
     "output_type": "stream",
     "text": [
      "  Early stopping at epoch 57.\n",
      "Loading best model for fold 2 (achieved 0.7333 on inner val set).\n"
     ]
    },
    {
     "name": "stderr",
     "output_type": "stream",
     "text": [
      "Validating: 100%|██████████| 13/13 [00:01<00:00,  9.90it/s]\n"
     ]
    },
    {
     "name": "stdout",
     "output_type": "stream",
     "text": [
      "Performance on Outer Test Set for fold 2: 0.6909\n",
      "\n",
      "--- Outer Fold 3/3 ---\n",
      "Training on 2640, Validating on 660...\n"
     ]
    },
    {
     "name": "stderr",
     "output_type": "stream",
     "text": [
      "Training: 100%|██████████| 21/21 [00:02<00:00,  7.86it/s]\n",
      "Validating: 100%|██████████| 6/6 [00:00<00:00,  6.99it/s]\n"
     ]
    },
    {
     "name": "stdout",
     "output_type": "stream",
     "text": [
      "  New best model for fold 3 at epoch 1: Val Acc: 0.1273\n"
     ]
    },
    {
     "name": "stderr",
     "output_type": "stream",
     "text": [
      "Training: 100%|██████████| 21/21 [00:02<00:00,  7.96it/s]\n",
      "Validating: 100%|██████████| 6/6 [00:00<00:00,  7.40it/s]\n"
     ]
    },
    {
     "name": "stdout",
     "output_type": "stream",
     "text": [
      "  New best model for fold 3 at epoch 2: Val Acc: 0.3409\n"
     ]
    },
    {
     "name": "stderr",
     "output_type": "stream",
     "text": [
      "Training: 100%|██████████| 21/21 [00:02<00:00,  7.96it/s]\n",
      "Validating: 100%|██████████| 6/6 [00:00<00:00,  7.35it/s]\n"
     ]
    },
    {
     "name": "stdout",
     "output_type": "stream",
     "text": [
      "  New best model for fold 3 at epoch 3: Val Acc: 0.4485\n"
     ]
    },
    {
     "name": "stderr",
     "output_type": "stream",
     "text": [
      "Training: 100%|██████████| 21/21 [00:02<00:00,  7.98it/s]\n",
      "Validating: 100%|██████████| 6/6 [00:00<00:00,  7.18it/s]\n"
     ]
    },
    {
     "name": "stdout",
     "output_type": "stream",
     "text": [
      "  New best model for fold 3 at epoch 4: Val Acc: 0.5061\n"
     ]
    },
    {
     "name": "stderr",
     "output_type": "stream",
     "text": [
      "Training: 100%|██████████| 21/21 [00:02<00:00,  7.81it/s]\n",
      "Validating: 100%|██████████| 6/6 [00:00<00:00,  7.24it/s]\n"
     ]
    },
    {
     "name": "stdout",
     "output_type": "stream",
     "text": [
      "  New best model for fold 3 at epoch 5: Val Acc: 0.5470\n"
     ]
    },
    {
     "name": "stderr",
     "output_type": "stream",
     "text": [
      "Training: 100%|██████████| 21/21 [00:02<00:00,  7.81it/s]\n",
      "Validating: 100%|██████████| 6/6 [00:00<00:00,  7.14it/s]\n"
     ]
    },
    {
     "name": "stdout",
     "output_type": "stream",
     "text": [
      "  New best model for fold 3 at epoch 6: Val Acc: 0.6182\n"
     ]
    },
    {
     "name": "stderr",
     "output_type": "stream",
     "text": [
      "Training: 100%|██████████| 21/21 [00:02<00:00,  7.86it/s]\n",
      "Validating: 100%|██████████| 6/6 [00:00<00:00,  6.90it/s]\n"
     ]
    },
    {
     "name": "stdout",
     "output_type": "stream",
     "text": [
      "  New best model for fold 3 at epoch 7: Val Acc: 0.6364\n"
     ]
    },
    {
     "name": "stderr",
     "output_type": "stream",
     "text": [
      "Training: 100%|██████████| 21/21 [00:02<00:00,  7.90it/s]\n",
      "Validating: 100%|██████████| 6/6 [00:00<00:00,  7.28it/s]\n"
     ]
    },
    {
     "name": "stdout",
     "output_type": "stream",
     "text": [
      "  New best model for fold 3 at epoch 8: Val Acc: 0.6545\n"
     ]
    },
    {
     "name": "stderr",
     "output_type": "stream",
     "text": [
      "Training: 100%|██████████| 21/21 [00:02<00:00,  7.84it/s]\n",
      "Validating: 100%|██████████| 6/6 [00:00<00:00,  7.18it/s]\n"
     ]
    },
    {
     "name": "stdout",
     "output_type": "stream",
     "text": [
      "  New best model for fold 3 at epoch 9: Val Acc: 0.6667\n"
     ]
    },
    {
     "name": "stderr",
     "output_type": "stream",
     "text": [
      "Training: 100%|██████████| 21/21 [00:02<00:00,  7.92it/s]\n",
      "Validating: 100%|██████████| 6/6 [00:00<00:00,  7.22it/s]\n"
     ]
    },
    {
     "name": "stdout",
     "output_type": "stream",
     "text": [
      "  New best model for fold 3 at epoch 10: Val Acc: 0.6682\n"
     ]
    },
    {
     "name": "stderr",
     "output_type": "stream",
     "text": [
      "Training: 100%|██████████| 21/21 [00:02<00:00,  7.94it/s]\n",
      "Validating: 100%|██████████| 6/6 [00:00<00:00,  7.27it/s]\n"
     ]
    },
    {
     "name": "stdout",
     "output_type": "stream",
     "text": [
      "  New best model for fold 3 at epoch 11: Val Acc: 0.6742\n"
     ]
    },
    {
     "name": "stderr",
     "output_type": "stream",
     "text": [
      "Training: 100%|██████████| 21/21 [00:02<00:00,  7.88it/s]\n",
      "Validating: 100%|██████████| 6/6 [00:00<00:00,  7.43it/s]\n"
     ]
    },
    {
     "name": "stdout",
     "output_type": "stream",
     "text": [
      "  New best model for fold 3 at epoch 12: Val Acc: 0.6818\n"
     ]
    },
    {
     "name": "stderr",
     "output_type": "stream",
     "text": [
      "Training: 100%|██████████| 21/21 [00:02<00:00,  8.07it/s]\n",
      "Validating: 100%|██████████| 6/6 [00:00<00:00,  7.25it/s]\n"
     ]
    },
    {
     "name": "stdout",
     "output_type": "stream",
     "text": [
      "  New best model for fold 3 at epoch 13: Val Acc: 0.6848\n"
     ]
    },
    {
     "name": "stderr",
     "output_type": "stream",
     "text": [
      "Training: 100%|██████████| 21/21 [00:02<00:00,  7.90it/s]\n",
      "Validating: 100%|██████████| 6/6 [00:00<00:00,  7.29it/s]\n"
     ]
    },
    {
     "name": "stdout",
     "output_type": "stream",
     "text": [
      "  New best model for fold 3 at epoch 14: Val Acc: 0.6879\n"
     ]
    },
    {
     "name": "stderr",
     "output_type": "stream",
     "text": [
      "Training: 100%|██████████| 21/21 [00:02<00:00,  7.87it/s]\n",
      "Validating: 100%|██████████| 6/6 [00:00<00:00,  7.31it/s]\n"
     ]
    },
    {
     "name": "stdout",
     "output_type": "stream",
     "text": [
      "  New best model for fold 3 at epoch 15: Val Acc: 0.6894\n"
     ]
    },
    {
     "name": "stderr",
     "output_type": "stream",
     "text": [
      "Training: 100%|██████████| 21/21 [00:02<00:00,  7.78it/s]\n",
      "Validating: 100%|██████████| 6/6 [00:00<00:00,  7.13it/s]\n",
      "Training: 100%|██████████| 21/21 [00:02<00:00,  7.96it/s]\n",
      "Validating: 100%|██████████| 6/6 [00:00<00:00,  7.30it/s]\n"
     ]
    },
    {
     "name": "stdout",
     "output_type": "stream",
     "text": [
      "  New best model for fold 3 at epoch 17: Val Acc: 0.6955\n"
     ]
    },
    {
     "name": "stderr",
     "output_type": "stream",
     "text": [
      "Training: 100%|██████████| 21/21 [00:02<00:00,  8.01it/s]\n",
      "Validating: 100%|██████████| 6/6 [00:00<00:00,  7.53it/s]\n",
      "Training: 100%|██████████| 21/21 [00:02<00:00,  7.85it/s]\n",
      "Validating: 100%|██████████| 6/6 [00:00<00:00,  7.29it/s]\n"
     ]
    },
    {
     "name": "stdout",
     "output_type": "stream",
     "text": [
      "  New best model for fold 3 at epoch 19: Val Acc: 0.7030\n"
     ]
    },
    {
     "name": "stderr",
     "output_type": "stream",
     "text": [
      "Training: 100%|██████████| 21/21 [00:02<00:00,  8.05it/s]\n",
      "Validating: 100%|██████████| 6/6 [00:00<00:00,  7.18it/s]\n"
     ]
    },
    {
     "name": "stdout",
     "output_type": "stream",
     "text": [
      "  New best model for fold 3 at epoch 20: Val Acc: 0.7121\n"
     ]
    },
    {
     "name": "stderr",
     "output_type": "stream",
     "text": [
      "Training: 100%|██████████| 21/21 [00:02<00:00,  8.19it/s]\n",
      "Validating: 100%|██████████| 6/6 [00:00<00:00,  6.99it/s]\n",
      "Training: 100%|██████████| 21/21 [00:02<00:00,  7.94it/s]\n",
      "Validating: 100%|██████████| 6/6 [00:00<00:00,  7.17it/s]\n",
      "Training: 100%|██████████| 21/21 [00:02<00:00,  8.16it/s]\n",
      "Validating: 100%|██████████| 6/6 [00:00<00:00,  7.38it/s]\n",
      "Training: 100%|██████████| 21/21 [00:02<00:00,  7.74it/s]\n",
      "Validating: 100%|██████████| 6/6 [00:00<00:00,  7.06it/s]\n",
      "Training: 100%|██████████| 21/21 [00:02<00:00,  7.82it/s]\n",
      "Validating: 100%|██████████| 6/6 [00:00<00:00,  7.46it/s]\n",
      "Training: 100%|██████████| 21/21 [00:02<00:00,  7.99it/s]\n",
      "Validating: 100%|██████████| 6/6 [00:00<00:00,  7.09it/s]\n",
      "Training: 100%|██████████| 21/21 [00:02<00:00,  8.02it/s]\n",
      "Validating: 100%|██████████| 6/6 [00:00<00:00,  7.13it/s]\n",
      "Training: 100%|██████████| 21/21 [00:02<00:00,  8.07it/s]\n",
      "Validating: 100%|██████████| 6/6 [00:00<00:00,  7.25it/s]\n",
      "Training: 100%|██████████| 21/21 [00:02<00:00,  7.88it/s]\n",
      "Validating: 100%|██████████| 6/6 [00:00<00:00,  6.79it/s]\n",
      "Training: 100%|██████████| 21/21 [00:02<00:00,  7.99it/s]\n",
      "Validating: 100%|██████████| 6/6 [00:00<00:00,  7.60it/s]\n"
     ]
    },
    {
     "name": "stdout",
     "output_type": "stream",
     "text": [
      "  Early stopping at epoch 30.\n",
      "Loading best model for fold 3 (achieved 0.7121 on inner val set).\n"
     ]
    },
    {
     "name": "stderr",
     "output_type": "stream",
     "text": [
      "Validating: 100%|██████████| 13/13 [00:01<00:00, 10.12it/s]"
     ]
    },
    {
     "name": "stdout",
     "output_type": "stream",
     "text": [
      "Performance on Outer Test Set for fold 3: 0.6552\n",
      "\n",
      "--- NESTED CROSS VALIDATION COMPLETE ---\n",
      "Cross-validation accuracies on outer folds: ['0.6509', '0.6909', '0.6552']\n",
      "Mean CV Accuracy: 0.6657 ± 0.0179\n"
     ]
    },
    {
     "name": "stderr",
     "output_type": "stream",
     "text": [
      "\n"
     ]
    }
   ],
   "source": [
    "from tensorboardX import SummaryWriter\n",
    "import time\n",
    "\n",
    "\n",
    "print(f\"\\n{'='*25} PERFORMING NESTED CROSS-VALIDATION {'='*25}\")\n",
    "\n",
    "outer_kfold = StratifiedKFold(n_splits=N_SPLITS, shuffle=True, random_state=RANDOM_SEED)\n",
    "fold_test_results = []\n",
    "\n",
    "for fold, (train_outer_idx, test_outer_idx) in enumerate(outer_kfold.split(np.zeros(len(dev_dataset)), dev_dataset_labels)):\n",
    "    print(f\"\\n--- Outer Fold {fold+1}/{N_SPLITS} ---\")\n",
    "    writer = SummaryWriter(log_dir=f'runs/{model_folder_name}/fold_{fold+1}')\n",
    "\n",
    "    # Create inner train/val split from the outer training set\n",
    "    train_outer_labels = dev_dataset_labels[train_outer_idx]\n",
    "    train_inner_idx, val_inner_idx = train_test_split(\n",
    "        train_outer_idx, test_size=VAL_SPLIT_SIZE, shuffle=True, stratify=train_outer_labels, random_state=RANDOM_SEED\n",
    "    )\n",
    "\n",
    "    # Create subsets from the DEVELOPMENT dataset\n",
    "    train_inner_subset = Subset(dev_dataset, train_inner_idx)\n",
    "    val_inner_subset = Subset(dev_dataset, val_inner_idx)\n",
    "    test_outer_subset = Subset(dev_dataset, test_outer_idx) # This is the \"test set\" for this fold\n",
    "\n",
    "    train_loader = DataLoader(train_inner_subset, batch_size=BATCH_SIZE, shuffle=True, num_workers=6, pin_memory=True)\n",
    "    val_loader = DataLoader(val_inner_subset, batch_size=BATCH_SIZE, shuffle=False, num_workers=6, pin_memory=True)\n",
    "    test_loader = DataLoader(test_outer_subset, batch_size=BATCH_SIZE, shuffle=False, num_workers=6, pin_memory=True)\n",
    "\n",
    "    model = WReN().to(DEVICE)\n",
    "    optimizer = torch.optim.Adam(model.parameters(),\n",
    "                                 lr=LEARNING_RATE,\n",
    "                                 betas=(BETA_1, BETA_2),\n",
    "                                 eps=EPSILON)\n",
    "\n",
    "    criterion = nn.CrossEntropyLoss()\n",
    "    scheduler = None\n",
    "    scaler = None\n",
    "\n",
    "    best_model_path = f\"./saved_models/{model_folder_name}/best_model_fold_{fold+1}.pth\"\n",
    "    os.makedirs(f\"./saved_models/{model_folder_name}\", exist_ok=True)\n",
    "    best_val_acc_fold = 0.0\n",
    "    epochs_without_improvement = 0\n",
    "\n",
    "    print(f\"Training on {len(train_inner_subset)}, Validating on {len(val_inner_subset)}...\")\n",
    "    for epoch in range(1, EPOCHS + 1):\n",
    "        train_start_time = time.time()\n",
    "        train_loss, train_acc = train_epoch(model, train_loader, optimizer, criterion, DEVICE)\n",
    "        train_end_time = time.time()\n",
    "        train_time = train_end_time - train_start_time\n",
    "\n",
    "        val_loss, val_acc = validate(model, val_loader, criterion, DEVICE)\n",
    "\n",
    "        writer.add_scalar('CV/Loss/train', train_loss, epoch)\n",
    "        writer.add_scalar('CV/Accuracy/train', train_acc, epoch)\n",
    "        writer.add_scalar('CV/Loss/val', val_loss, epoch)\n",
    "        writer.add_scalar('CV/Accuracy/val', val_acc, epoch)\n",
    "        writer.add_scalar('CV/Time/train', train_time, epoch)\n",
    "\n",
    "        memory_allocated = torch.cuda.memory_allocated(DEVICE) if torch.cuda.is_available() else 0\n",
    "        memory_reserved = torch.cuda.memory_reserved(DEVICE) if torch.cuda.is_available() else 0\n",
    "\n",
    "        writer.add_scalar('CV/Memory/allocated', memory_allocated, epoch)\n",
    "        writer.add_scalar('CV/Memory/reserved', memory_reserved, epoch)\n",
    "\n",
    "        if val_acc > best_val_acc_fold:\n",
    "            best_val_acc_fold = val_acc\n",
    "            epochs_without_improvement = 0\n",
    "            torch.save(model.state_dict(), best_model_path)\n",
    "            print(f\"  New best model for fold {fold+1} at epoch {epoch}: Val Acc: {val_acc:.4f}\")\n",
    "        else:\n",
    "            epochs_without_improvement += 1\n",
    "            if epochs_without_improvement >= PATIENCE:\n",
    "                print(f\"  Early stopping at epoch {epoch}.\")\n",
    "                break\n",
    "    \n",
    "    # Evaluate the best model for this fold on the outer test set\n",
    "    print(f\"Loading best model for fold {fold+1} (achieved {best_val_acc_fold:.4f} on inner val set).\")\n",
    "    model.load_state_dict(torch.load(best_model_path))\n",
    "    _, final_fold_test_acc = validate(model, test_loader, criterion, DEVICE)\n",
    "    print(f\"Performance on Outer Test Set for fold {fold+1}: {final_fold_test_acc:.4f}\")\n",
    "    fold_test_results.append(final_fold_test_acc)\n",
    "    writer.add_scalar('CV/Accuracy/test', final_fold_test_acc, epoch)\n",
    "    writer.close()\n",
    "\n",
    "mean_cv_acc = np.mean(fold_test_results)\n",
    "std_cv_acc = np.std(fold_test_results)\n",
    "print(f\"\\n--- NESTED CROSS VALIDATION COMPLETE ---\")\n",
    "print(f\"Cross-validation accuracies on outer folds: {[f'{acc:.4f}' for acc in fold_test_results]}\")\n",
    "print(f\"Mean CV Accuracy: {mean_cv_acc:.4f} ± {std_cv_acc:.4f}\")"
   ]
  },
  {
   "cell_type": "code",
   "execution_count": null,
   "id": "f7f7d8c6",
   "metadata": {},
   "outputs": [
    {
     "name": "stdout",
     "output_type": "stream",
     "text": [
      "\n",
      "========================= TRAINING FINAL DEPLOYABLE MODEL =========================\n",
      "Final training on 4455 samples, validating on 495 for early stopping.\n"
     ]
    },
    {
     "name": "stderr",
     "output_type": "stream",
     "text": [
      "Training: 100%|██████████| 35/35 [00:04<00:00,  7.56it/s]\n",
      "Validating: 100%|██████████| 4/4 [00:00<00:00,  5.77it/s]\n"
     ]
    },
    {
     "name": "stdout",
     "output_type": "stream",
     "text": [
      "Epoch 1: Train Acc: 0.1679 | Val Acc: 0.3091\n",
      "  New best model saved with val acc: 0.3091\n"
     ]
    },
    {
     "name": "stderr",
     "output_type": "stream",
     "text": [
      "Training: 100%|██████████| 35/35 [00:03<00:00,  8.92it/s]\n",
      "Validating: 100%|██████████| 4/4 [00:00<00:00,  5.78it/s]\n"
     ]
    },
    {
     "name": "stdout",
     "output_type": "stream",
     "text": [
      "Epoch 2: Train Acc: 0.3591 | Val Acc: 0.4990\n",
      "  New best model saved with val acc: 0.4990\n"
     ]
    },
    {
     "name": "stderr",
     "output_type": "stream",
     "text": [
      "Training: 100%|██████████| 35/35 [00:03<00:00,  9.15it/s]\n",
      "Validating: 100%|██████████| 4/4 [00:00<00:00,  5.75it/s]\n"
     ]
    },
    {
     "name": "stdout",
     "output_type": "stream",
     "text": [
      "Epoch 3: Train Acc: 0.5143 | Val Acc: 0.5657\n",
      "  New best model saved with val acc: 0.5657\n"
     ]
    },
    {
     "name": "stderr",
     "output_type": "stream",
     "text": [
      "Training: 100%|██████████| 35/35 [00:03<00:00,  9.05it/s]\n",
      "Validating: 100%|██████████| 4/4 [00:00<00:00,  5.69it/s]\n"
     ]
    },
    {
     "name": "stdout",
     "output_type": "stream",
     "text": [
      "Epoch 4: Train Acc: 0.5814 | Val Acc: 0.6081\n",
      "  New best model saved with val acc: 0.6081\n"
     ]
    },
    {
     "name": "stderr",
     "output_type": "stream",
     "text": [
      "Training: 100%|██████████| 35/35 [00:03<00:00,  9.19it/s]\n",
      "Validating: 100%|██████████| 4/4 [00:00<00:00,  5.67it/s]\n"
     ]
    },
    {
     "name": "stdout",
     "output_type": "stream",
     "text": [
      "Epoch 5: Train Acc: 0.6431 | Val Acc: 0.6263\n",
      "  New best model saved with val acc: 0.6263\n"
     ]
    },
    {
     "name": "stderr",
     "output_type": "stream",
     "text": [
      "Training: 100%|██████████| 35/35 [00:03<00:00,  9.17it/s]\n",
      "Validating: 100%|██████████| 4/4 [00:00<00:00,  5.74it/s]\n"
     ]
    },
    {
     "name": "stdout",
     "output_type": "stream",
     "text": [
      "Epoch 6: Train Acc: 0.6826 | Val Acc: 0.6465\n",
      "  New best model saved with val acc: 0.6465\n"
     ]
    },
    {
     "name": "stderr",
     "output_type": "stream",
     "text": [
      "Training: 100%|██████████| 35/35 [00:03<00:00,  8.98it/s]\n",
      "Validating: 100%|██████████| 4/4 [00:00<00:00,  5.63it/s]\n"
     ]
    },
    {
     "name": "stdout",
     "output_type": "stream",
     "text": [
      "Epoch 7: Train Acc: 0.7347 | Val Acc: 0.6606\n",
      "  New best model saved with val acc: 0.6606\n"
     ]
    },
    {
     "name": "stderr",
     "output_type": "stream",
     "text": [
      "Training: 100%|██████████| 35/35 [00:03<00:00,  9.22it/s]\n",
      "Validating: 100%|██████████| 4/4 [00:00<00:00,  5.75it/s]\n"
     ]
    },
    {
     "name": "stdout",
     "output_type": "stream",
     "text": [
      "Epoch 8: Train Acc: 0.7621 | Val Acc: 0.6747\n",
      "  New best model saved with val acc: 0.6747\n"
     ]
    },
    {
     "name": "stderr",
     "output_type": "stream",
     "text": [
      "Training: 100%|██████████| 35/35 [00:03<00:00,  9.22it/s]\n",
      "Validating: 100%|██████████| 4/4 [00:00<00:00,  5.73it/s]\n"
     ]
    },
    {
     "name": "stdout",
     "output_type": "stream",
     "text": [
      "Epoch 9: Train Acc: 0.7838 | Val Acc: 0.6848\n",
      "  New best model saved with val acc: 0.6848\n"
     ]
    },
    {
     "name": "stderr",
     "output_type": "stream",
     "text": [
      "Training: 100%|██████████| 35/35 [00:03<00:00,  9.10it/s]\n",
      "Validating: 100%|██████████| 4/4 [00:00<00:00,  5.69it/s]\n"
     ]
    },
    {
     "name": "stdout",
     "output_type": "stream",
     "text": [
      "Epoch 10: Train Acc: 0.8130 | Val Acc: 0.6970\n",
      "  New best model saved with val acc: 0.6970\n"
     ]
    },
    {
     "name": "stderr",
     "output_type": "stream",
     "text": [
      "Training: 100%|██████████| 35/35 [00:03<00:00,  9.14it/s]\n",
      "Validating: 100%|██████████| 4/4 [00:00<00:00,  5.72it/s]\n"
     ]
    },
    {
     "name": "stdout",
     "output_type": "stream",
     "text": [
      "Epoch 11: Train Acc: 0.8426 | Val Acc: 0.6949\n"
     ]
    },
    {
     "name": "stderr",
     "output_type": "stream",
     "text": [
      "Training: 100%|██████████| 35/35 [00:03<00:00,  9.34it/s]\n",
      "Validating: 100%|██████████| 4/4 [00:00<00:00,  5.73it/s]\n"
     ]
    },
    {
     "name": "stdout",
     "output_type": "stream",
     "text": [
      "Epoch 12: Train Acc: 0.8669 | Val Acc: 0.6970\n"
     ]
    },
    {
     "name": "stderr",
     "output_type": "stream",
     "text": [
      "Training: 100%|██████████| 35/35 [00:03<00:00,  9.24it/s]\n",
      "Validating: 100%|██████████| 4/4 [00:00<00:00,  5.78it/s]\n"
     ]
    },
    {
     "name": "stdout",
     "output_type": "stream",
     "text": [
      "Epoch 13: Train Acc: 0.8923 | Val Acc: 0.7030\n",
      "  New best model saved with val acc: 0.7030\n"
     ]
    },
    {
     "name": "stderr",
     "output_type": "stream",
     "text": [
      "Training: 100%|██████████| 35/35 [00:03<00:00,  9.16it/s]\n",
      "Validating: 100%|██████████| 4/4 [00:00<00:00,  5.67it/s]\n"
     ]
    },
    {
     "name": "stdout",
     "output_type": "stream",
     "text": [
      "Epoch 14: Train Acc: 0.9021 | Val Acc: 0.7051\n",
      "  New best model saved with val acc: 0.7051\n"
     ]
    },
    {
     "name": "stderr",
     "output_type": "stream",
     "text": [
      "Training: 100%|██████████| 35/35 [00:03<00:00,  8.98it/s]\n",
      "Validating: 100%|██████████| 4/4 [00:00<00:00,  5.77it/s]\n"
     ]
    },
    {
     "name": "stdout",
     "output_type": "stream",
     "text": [
      "Epoch 15: Train Acc: 0.9250 | Val Acc: 0.7172\n",
      "  New best model saved with val acc: 0.7172\n"
     ]
    },
    {
     "name": "stderr",
     "output_type": "stream",
     "text": [
      "Training: 100%|██████████| 35/35 [00:03<00:00,  9.10it/s]\n",
      "Validating: 100%|██████████| 4/4 [00:00<00:00,  5.75it/s]\n"
     ]
    },
    {
     "name": "stdout",
     "output_type": "stream",
     "text": [
      "Epoch 16: Train Acc: 0.9248 | Val Acc: 0.7232\n",
      "  New best model saved with val acc: 0.7232\n"
     ]
    },
    {
     "name": "stderr",
     "output_type": "stream",
     "text": [
      "Training: 100%|██████████| 35/35 [00:03<00:00,  9.17it/s]\n",
      "Validating: 100%|██████████| 4/4 [00:00<00:00,  5.71it/s]\n"
     ]
    },
    {
     "name": "stdout",
     "output_type": "stream",
     "text": [
      "Epoch 17: Train Acc: 0.9365 | Val Acc: 0.7455\n",
      "  New best model saved with val acc: 0.7455\n"
     ]
    },
    {
     "name": "stderr",
     "output_type": "stream",
     "text": [
      "Training: 100%|██████████| 35/35 [00:03<00:00,  8.89it/s]\n",
      "Validating: 100%|██████████| 4/4 [00:00<00:00,  5.85it/s]\n"
     ]
    },
    {
     "name": "stdout",
     "output_type": "stream",
     "text": [
      "Epoch 18: Train Acc: 0.9493 | Val Acc: 0.7495\n",
      "  New best model saved with val acc: 0.7495\n"
     ]
    },
    {
     "name": "stderr",
     "output_type": "stream",
     "text": [
      "Training: 100%|██████████| 35/35 [00:03<00:00,  9.17it/s]\n",
      "Validating: 100%|██████████| 4/4 [00:00<00:00,  5.69it/s]\n"
     ]
    },
    {
     "name": "stdout",
     "output_type": "stream",
     "text": [
      "Epoch 19: Train Acc: 0.9459 | Val Acc: 0.7495\n"
     ]
    },
    {
     "name": "stderr",
     "output_type": "stream",
     "text": [
      "Training: 100%|██████████| 35/35 [00:03<00:00,  9.20it/s]\n",
      "Validating: 100%|██████████| 4/4 [00:00<00:00,  5.63it/s]\n"
     ]
    },
    {
     "name": "stdout",
     "output_type": "stream",
     "text": [
      "Epoch 20: Train Acc: 0.9598 | Val Acc: 0.7495\n"
     ]
    },
    {
     "name": "stderr",
     "output_type": "stream",
     "text": [
      "Training: 100%|██████████| 35/35 [00:03<00:00,  9.13it/s]\n",
      "Validating: 100%|██████████| 4/4 [00:00<00:00,  5.75it/s]\n"
     ]
    },
    {
     "name": "stdout",
     "output_type": "stream",
     "text": [
      "Epoch 21: Train Acc: 0.9636 | Val Acc: 0.7515\n",
      "  New best model saved with val acc: 0.7515\n"
     ]
    },
    {
     "name": "stderr",
     "output_type": "stream",
     "text": [
      "Training: 100%|██████████| 35/35 [00:03<00:00,  9.14it/s]\n",
      "Validating: 100%|██████████| 4/4 [00:00<00:00,  5.71it/s]\n"
     ]
    },
    {
     "name": "stdout",
     "output_type": "stream",
     "text": [
      "Epoch 22: Train Acc: 0.9699 | Val Acc: 0.7535\n",
      "  New best model saved with val acc: 0.7535\n"
     ]
    },
    {
     "name": "stderr",
     "output_type": "stream",
     "text": [
      "Training: 100%|██████████| 35/35 [00:03<00:00,  9.10it/s]\n",
      "Validating: 100%|██████████| 4/4 [00:00<00:00,  5.80it/s]\n"
     ]
    },
    {
     "name": "stdout",
     "output_type": "stream",
     "text": [
      "Epoch 23: Train Acc: 0.9692 | Val Acc: 0.7455\n"
     ]
    },
    {
     "name": "stderr",
     "output_type": "stream",
     "text": [
      "Training: 100%|██████████| 35/35 [00:03<00:00,  8.90it/s]\n",
      "Validating: 100%|██████████| 4/4 [00:00<00:00,  5.62it/s]\n"
     ]
    },
    {
     "name": "stdout",
     "output_type": "stream",
     "text": [
      "Epoch 24: Train Acc: 0.9623 | Val Acc: 0.7253\n"
     ]
    },
    {
     "name": "stderr",
     "output_type": "stream",
     "text": [
      "Training: 100%|██████████| 35/35 [00:03<00:00,  9.17it/s]\n",
      "Validating: 100%|██████████| 4/4 [00:00<00:00,  5.60it/s]\n"
     ]
    },
    {
     "name": "stdout",
     "output_type": "stream",
     "text": [
      "Epoch 25: Train Acc: 0.9771 | Val Acc: 0.7434\n"
     ]
    },
    {
     "name": "stderr",
     "output_type": "stream",
     "text": [
      "Training: 100%|██████████| 35/35 [00:03<00:00,  8.89it/s]\n",
      "Validating: 100%|██████████| 4/4 [00:00<00:00,  5.72it/s]\n"
     ]
    },
    {
     "name": "stdout",
     "output_type": "stream",
     "text": [
      "Epoch 26: Train Acc: 0.9825 | Val Acc: 0.7455\n"
     ]
    },
    {
     "name": "stderr",
     "output_type": "stream",
     "text": [
      "Training: 100%|██████████| 35/35 [00:03<00:00,  9.03it/s]\n",
      "Validating: 100%|██████████| 4/4 [00:00<00:00,  5.69it/s]\n"
     ]
    },
    {
     "name": "stdout",
     "output_type": "stream",
     "text": [
      "Epoch 27: Train Acc: 0.9856 | Val Acc: 0.7333\n"
     ]
    },
    {
     "name": "stderr",
     "output_type": "stream",
     "text": [
      "Training: 100%|██████████| 35/35 [00:03<00:00,  9.13it/s]\n",
      "Validating: 100%|██████████| 4/4 [00:00<00:00,  5.65it/s]\n"
     ]
    },
    {
     "name": "stdout",
     "output_type": "stream",
     "text": [
      "Epoch 28: Train Acc: 0.9859 | Val Acc: 0.7414\n"
     ]
    },
    {
     "name": "stderr",
     "output_type": "stream",
     "text": [
      "Training: 100%|██████████| 35/35 [00:03<00:00,  9.16it/s]\n",
      "Validating: 100%|██████████| 4/4 [00:00<00:00,  5.78it/s]\n"
     ]
    },
    {
     "name": "stdout",
     "output_type": "stream",
     "text": [
      "Epoch 29: Train Acc: 0.9838 | Val Acc: 0.7434\n"
     ]
    },
    {
     "name": "stderr",
     "output_type": "stream",
     "text": [
      "Training: 100%|██████████| 35/35 [00:03<00:00,  9.21it/s]\n",
      "Validating: 100%|██████████| 4/4 [00:00<00:00,  5.44it/s]\n"
     ]
    },
    {
     "name": "stdout",
     "output_type": "stream",
     "text": [
      "Epoch 30: Train Acc: 0.9890 | Val Acc: 0.7434\n"
     ]
    },
    {
     "name": "stderr",
     "output_type": "stream",
     "text": [
      "Training: 100%|██████████| 35/35 [00:03<00:00,  8.90it/s]\n",
      "Validating: 100%|██████████| 4/4 [00:00<00:00,  5.82it/s]\n"
     ]
    },
    {
     "name": "stdout",
     "output_type": "stream",
     "text": [
      "Epoch 31: Train Acc: 0.9917 | Val Acc: 0.7636\n",
      "  New best model saved with val acc: 0.7636\n"
     ]
    },
    {
     "name": "stderr",
     "output_type": "stream",
     "text": [
      "Training: 100%|██████████| 35/35 [00:03<00:00,  8.89it/s]\n",
      "Validating: 100%|██████████| 4/4 [00:00<00:00,  5.76it/s]\n"
     ]
    },
    {
     "name": "stdout",
     "output_type": "stream",
     "text": [
      "Epoch 32: Train Acc: 0.9903 | Val Acc: 0.7556\n"
     ]
    },
    {
     "name": "stderr",
     "output_type": "stream",
     "text": [
      "Training: 100%|██████████| 35/35 [00:03<00:00,  9.01it/s]\n",
      "Validating: 100%|██████████| 4/4 [00:00<00:00,  5.62it/s]\n"
     ]
    },
    {
     "name": "stdout",
     "output_type": "stream",
     "text": [
      "Epoch 33: Train Acc: 0.9872 | Val Acc: 0.7697\n",
      "  New best model saved with val acc: 0.7697\n"
     ]
    },
    {
     "name": "stderr",
     "output_type": "stream",
     "text": [
      "Training: 100%|██████████| 35/35 [00:03<00:00,  9.21it/s]\n",
      "Validating: 100%|██████████| 4/4 [00:00<00:00,  5.73it/s]\n"
     ]
    },
    {
     "name": "stdout",
     "output_type": "stream",
     "text": [
      "Epoch 34: Train Acc: 0.9874 | Val Acc: 0.7455\n"
     ]
    },
    {
     "name": "stderr",
     "output_type": "stream",
     "text": [
      "Training: 100%|██████████| 35/35 [00:03<00:00,  9.06it/s]\n",
      "Validating: 100%|██████████| 4/4 [00:00<00:00,  5.52it/s]\n"
     ]
    },
    {
     "name": "stdout",
     "output_type": "stream",
     "text": [
      "Epoch 35: Train Acc: 0.9942 | Val Acc: 0.7515\n"
     ]
    },
    {
     "name": "stderr",
     "output_type": "stream",
     "text": [
      "Training: 100%|██████████| 35/35 [00:03<00:00,  9.08it/s]\n",
      "Validating: 100%|██████████| 4/4 [00:00<00:00,  5.70it/s]\n"
     ]
    },
    {
     "name": "stdout",
     "output_type": "stream",
     "text": [
      "Epoch 36: Train Acc: 0.9937 | Val Acc: 0.7717\n",
      "  New best model saved with val acc: 0.7717\n"
     ]
    },
    {
     "name": "stderr",
     "output_type": "stream",
     "text": [
      "Training: 100%|██████████| 35/35 [00:03<00:00,  8.84it/s]\n",
      "Validating: 100%|██████████| 4/4 [00:00<00:00,  5.76it/s]\n"
     ]
    },
    {
     "name": "stdout",
     "output_type": "stream",
     "text": [
      "Epoch 37: Train Acc: 0.9906 | Val Acc: 0.7475\n"
     ]
    },
    {
     "name": "stderr",
     "output_type": "stream",
     "text": [
      "Training: 100%|██████████| 35/35 [00:03<00:00,  9.00it/s]\n",
      "Validating: 100%|██████████| 4/4 [00:00<00:00,  5.68it/s]\n"
     ]
    },
    {
     "name": "stdout",
     "output_type": "stream",
     "text": [
      "Epoch 38: Train Acc: 0.9785 | Val Acc: 0.7576\n"
     ]
    },
    {
     "name": "stderr",
     "output_type": "stream",
     "text": [
      "Training: 100%|██████████| 35/35 [00:03<00:00,  9.13it/s]\n",
      "Validating: 100%|██████████| 4/4 [00:00<00:00,  5.74it/s]\n"
     ]
    },
    {
     "name": "stdout",
     "output_type": "stream",
     "text": [
      "Epoch 39: Train Acc: 0.9951 | Val Acc: 0.7556\n"
     ]
    },
    {
     "name": "stderr",
     "output_type": "stream",
     "text": [
      "Training: 100%|██████████| 35/35 [00:03<00:00,  9.25it/s]\n",
      "Validating: 100%|██████████| 4/4 [00:00<00:00,  5.74it/s]\n"
     ]
    },
    {
     "name": "stdout",
     "output_type": "stream",
     "text": [
      "Epoch 40: Train Acc: 0.9910 | Val Acc: 0.7394\n"
     ]
    },
    {
     "name": "stderr",
     "output_type": "stream",
     "text": [
      "Training: 100%|██████████| 35/35 [00:03<00:00,  9.26it/s]\n",
      "Validating: 100%|██████████| 4/4 [00:00<00:00,  5.68it/s]\n"
     ]
    },
    {
     "name": "stdout",
     "output_type": "stream",
     "text": [
      "Epoch 41: Train Acc: 0.9924 | Val Acc: 0.7455\n"
     ]
    },
    {
     "name": "stderr",
     "output_type": "stream",
     "text": [
      "Training: 100%|██████████| 35/35 [00:03<00:00,  9.30it/s]\n",
      "Validating: 100%|██████████| 4/4 [00:00<00:00,  5.76it/s]\n"
     ]
    },
    {
     "name": "stdout",
     "output_type": "stream",
     "text": [
      "Epoch 42: Train Acc: 0.9928 | Val Acc: 0.7616\n"
     ]
    },
    {
     "name": "stderr",
     "output_type": "stream",
     "text": [
      "Training: 100%|██████████| 35/35 [00:03<00:00,  8.99it/s]\n",
      "Validating: 100%|██████████| 4/4 [00:00<00:00,  5.39it/s]\n"
     ]
    },
    {
     "name": "stdout",
     "output_type": "stream",
     "text": [
      "Epoch 43: Train Acc: 0.9953 | Val Acc: 0.7616\n"
     ]
    },
    {
     "name": "stderr",
     "output_type": "stream",
     "text": [
      "Training: 100%|██████████| 35/35 [00:03<00:00,  8.94it/s]\n",
      "Validating: 100%|██████████| 4/4 [00:00<00:00,  5.54it/s]\n"
     ]
    },
    {
     "name": "stdout",
     "output_type": "stream",
     "text": [
      "Epoch 44: Train Acc: 0.9982 | Val Acc: 0.7657\n"
     ]
    },
    {
     "name": "stderr",
     "output_type": "stream",
     "text": [
      "Training: 100%|██████████| 35/35 [00:03<00:00,  9.22it/s]\n",
      "Validating: 100%|██████████| 4/4 [00:00<00:00,  5.63it/s]\n"
     ]
    },
    {
     "name": "stdout",
     "output_type": "stream",
     "text": [
      "Epoch 45: Train Acc: 0.9971 | Val Acc: 0.7455\n"
     ]
    },
    {
     "name": "stderr",
     "output_type": "stream",
     "text": [
      "Training: 100%|██████████| 35/35 [00:03<00:00,  9.13it/s]\n",
      "Validating: 100%|██████████| 4/4 [00:00<00:00,  5.72it/s]"
     ]
    },
    {
     "name": "stdout",
     "output_type": "stream",
     "text": [
      "Epoch 46: Train Acc: 0.9966 | Val Acc: 0.7657\n",
      "  Early stopping final training at epoch 46.\n",
      "\n",
      "--- FINAL DEPLOYABLE MODEL TRAINING COMPLETE ---\n",
      "Final deployable model saved to 'RADIO2_WReN/deployable_model.pth'\n"
     ]
    },
    {
     "name": "stderr",
     "output_type": "stream",
     "text": [
      "\n"
     ]
    }
   ],
   "source": [
    "print(f\"\\n{'='*25} TRAINING FINAL DEPLOYABLE MODEL {'='*25}\")\n",
    "\n",
    "# Create the one-time 90/10 split from the development pool\n",
    "final_train_indices, final_val_indices = train_test_split(\n",
    "    np.arange(len(dev_dataset)), test_size=0.1, shuffle=True, stratify=dev_dataset_labels, random_state=RANDOM_SEED\n",
    ")\n",
    "final_train_subset = Subset(dev_dataset, final_train_indices)\n",
    "final_val_subset = Subset(dev_dataset, final_val_indices)\n",
    "final_train_loader = DataLoader(final_train_subset, batch_size=BATCH_SIZE, shuffle=True, num_workers=6, pin_memory=True)\n",
    "final_val_loader = DataLoader(final_val_subset, batch_size=BATCH_SIZE, shuffle=False, num_workers=6, pin_memory=True)\n",
    "\n",
    "final_model = WReN().to(DEVICE)\n",
    "optimizer = torch.optim.Adam(final_model.parameters(),\n",
    "                                 lr=LEARNING_RATE,\n",
    "                                 betas=(BETA_1, BETA_2),\n",
    "                                 eps=EPSILON)\n",
    "\n",
    "criterion = nn.CrossEntropyLoss()\n",
    "scheduler = None\n",
    "scaler = None\n",
    "\n",
    "writer = SummaryWriter(log_dir=f'runs/{model_folder_name}/final_model_training')\n",
    "\n",
    "best_model_path = f\"./saved_models/{model_folder_name}/deployable_model.pth\"\n",
    "best_final_val_acc = 0.0\n",
    "epochs_without_improvement = 0\n",
    "\n",
    "print(f\"Final training on {len(final_train_subset)} samples, validating on {len(final_val_subset)} for early stopping.\")\n",
    "for epoch in range(1, EPOCHS + 1):\n",
    "    train_start_time = time.time()\n",
    "    train_loss, train_acc = train_epoch(final_model, final_train_loader, optimizer, criterion, DEVICE)\n",
    "    train_end_time = time.time()\n",
    "    train_time = train_end_time - train_start_time\n",
    "    \n",
    "    val_loss, val_acc = validate(final_model, final_val_loader, criterion, DEVICE)\n",
    "    print(f\"Epoch {epoch}: Train Acc: {train_acc:.4f} | Val Acc: {val_acc:.4f}\")\n",
    "    \n",
    "    writer.add_scalar('FinalTrain/Loss/train', train_loss, epoch)\n",
    "    writer.add_scalar('FinalTrain/Accuracy/train', train_acc, epoch)\n",
    "    writer.add_scalar('FinalTrain/Loss/val', val_loss, epoch)\n",
    "    writer.add_scalar('FinalTrain/Accuracy/val', val_acc, epoch)\n",
    "\n",
    "    writer.add_scalar('FinalTrain/Time/train', train_time, epoch)\n",
    "\n",
    "    memory_allocated = torch.cuda.memory_allocated(DEVICE) if torch.cuda.is_available() else 0\n",
    "    memory_reserved = torch.cuda.memory_reserved(DEVICE) if torch.cuda.is_available() else 0\n",
    "\n",
    "    writer.add_scalar('FinalTrain/Memory/allocated', memory_allocated, epoch)\n",
    "    writer.add_scalar('FinalTrain/Memory/reserved', memory_reserved, epoch)\n",
    "\n",
    "    if val_acc > best_final_val_acc:\n",
    "        best_final_val_acc = val_acc\n",
    "        epochs_without_improvement = 0\n",
    "        torch.save(final_model.state_dict(), best_model_path)\n",
    "        print(f\"  New best model saved with val acc: {best_final_val_acc:.4f}\")\n",
    "    else:\n",
    "        epochs_without_improvement += 1\n",
    "        if epochs_without_improvement >= PATIENCE:\n",
    "            print(f\"  Early stopping final training at epoch {epoch}.\")\n",
    "            break\n",
    "writer.close()\n",
    "print(f\"\\n--- FINAL DEPLOYABLE MODEL TRAINING COMPLETE ---\")\n",
    "print(f\"Final deployable model saved to '{best_model_path}'\")"
   ]
  },
  {
   "cell_type": "code",
   "execution_count": null,
   "id": "eb689f5f",
   "metadata": {},
   "outputs": [
    {
     "name": "stdout",
     "output_type": "stream",
     "text": [
      "\n",
      "========================= FINAL TEST SET EVALUATION =========================\n"
     ]
    },
    {
     "name": "stderr",
     "output_type": "stream",
     "text": [
      "Validating: 100%|██████████| 5/5 [00:00<00:00,  6.63it/s]"
     ]
    },
    {
     "name": "stdout",
     "output_type": "stream",
     "text": [
      "\n",
      "--- FINAL TEST SET EVALUATION COMPLETE ---\n",
      "The final accuracy of the deployable model on the test set is: 0.6273\n"
     ]
    },
    {
     "name": "stderr",
     "output_type": "stream",
     "text": [
      "\n"
     ]
    },
    {
     "ename": "",
     "evalue": "",
     "output_type": "error",
     "traceback": [
      "\u001b[1;31mThe Kernel crashed while executing code in the current cell or a previous cell. \n",
      "\u001b[1;31mPlease review the code in the cell(s) to identify a possible cause of the failure. \n",
      "\u001b[1;31mClick <a href='https://aka.ms/vscodeJupyterKernelCrash'>here</a> for more info. \n",
      "\u001b[1;31mView Jupyter <a href='command:jupyter.viewOutput'>log</a> for further details."
     ]
    }
   ],
   "source": [
    "print(f\"\\n{'='*25} FINAL TEST SET EVALUATION {'='*25}\")\n",
    "\n",
    "best_model_path = f\"./saved_models/{model_folder_name}/deployable_model.pth\"\n",
    "criterion = nn.CrossEntropyLoss()\n",
    "\n",
    "# Load the best model we just created\n",
    "deployable_model = WReN().to(DEVICE)\n",
    "deployable_model.load_state_dict(torch.load(best_model_path))\n",
    "\n",
    "# Create a dataloader for the untouched test set\n",
    "test_start_time = time.time()\n",
    "test_loader = DataLoader(test_dataset, batch_size=BATCH_SIZE, shuffle=False, num_workers=6, pin_memory=True)\n",
    "test_end_time = time.time()\n",
    "test_time = test_end_time - test_start_time\n",
    "\n",
    "# Evaluate ONCE\n",
    "_, final_benchmark_score = validate(deployable_model, test_loader, criterion, DEVICE)\n",
    "\n",
    "writer = SummaryWriter(log_dir=f'runs/{model_folder_name}/final_benchmark')\n",
    "# writer.add_hparams(\n",
    "#     {'model': 'Final Deployable', 'evaluation': 'Official Test Set'},\n",
    "#     {'hparam/final_accuracy': final_benchmark_score},\n",
    "#     {'hparam/final_test_time': test_time}\n",
    "# )\n",
    "\n",
    "writer.add_scalar('FinalBenchmark/Accuracy/test', final_benchmark_score, 0)\n",
    "writer.add_scalar('FinalBenchmark/Time/test', test_time, 0)\n",
    "\n",
    "\n",
    "writer.close()\n",
    "\n",
    "print(f\"\\n--- FINAL TEST SET EVALUATION COMPLETE ---\")\n",
    "print(f\"The final accuracy of the deployable model on the test set is: {final_benchmark_score:.4f}\")"
   ]
  },
  {
   "cell_type": "markdown",
   "id": "222511b4",
   "metadata": {},
   "source": [
    "# RADIO-1 to RADIO-2 TL"
   ]
  },
  {
   "cell_type": "code",
   "execution_count": null,
   "id": "35bb0865",
   "metadata": {},
   "outputs": [
    {
     "name": "stdout",
     "output_type": "stream",
     "text": [
      "\n",
      "========================= PERFORMING NESTED CROSS-VALIDATION TRANSFER =========================\n",
      "\n",
      "--- Outer Fold 1/3 ---\n",
      "Training on 2640, Validating on 660...\n",
      "\n",
      "Epoch 1/100 for Fold 1\n"
     ]
    },
    {
     "name": "stderr",
     "output_type": "stream",
     "text": [
      "Training: 100%|██████████| 21/21 [00:03<00:00,  6.28it/s]\n",
      "Validating: 100%|██████████| 6/6 [00:00<00:00,  7.60it/s]\n"
     ]
    },
    {
     "name": "stdout",
     "output_type": "stream",
     "text": [
      "  Train Loss: 1.9167, Train Acc: 0.2402, Val Loss: 1.4996, Val Acc: 0.3561, Time: 3.35s\n",
      "  New best model for fold 1 at epoch 1: Val Acc: 0.3561\n",
      "\n",
      "Epoch 2/100 for Fold 1\n"
     ]
    },
    {
     "name": "stderr",
     "output_type": "stream",
     "text": [
      "Training: 100%|██████████| 21/21 [00:02<00:00,  8.26it/s]\n",
      "Validating: 100%|██████████| 6/6 [00:00<00:00,  7.41it/s]\n"
     ]
    },
    {
     "name": "stdout",
     "output_type": "stream",
     "text": [
      "  Train Loss: 1.4748, Train Acc: 0.3277, Val Loss: 1.3391, Val Acc: 0.3803, Time: 2.54s\n",
      "  New best model for fold 1 at epoch 2: Val Acc: 0.3803\n",
      "\n",
      "Epoch 3/100 for Fold 1\n"
     ]
    },
    {
     "name": "stderr",
     "output_type": "stream",
     "text": [
      "Training: 100%|██████████| 21/21 [00:02<00:00,  8.22it/s]\n",
      "Validating: 100%|██████████| 6/6 [00:00<00:00,  7.13it/s]\n"
     ]
    },
    {
     "name": "stdout",
     "output_type": "stream",
     "text": [
      "  Train Loss: 1.3395, Train Acc: 0.3761, Val Loss: 1.2260, Val Acc: 0.4061, Time: 2.56s\n",
      "  New best model for fold 1 at epoch 3: Val Acc: 0.4061\n",
      "\n",
      "Epoch 4/100 for Fold 1\n"
     ]
    },
    {
     "name": "stderr",
     "output_type": "stream",
     "text": [
      "Training: 100%|██████████| 21/21 [00:02<00:00,  8.29it/s]\n",
      "Validating: 100%|██████████| 6/6 [00:00<00:00,  7.08it/s]\n"
     ]
    },
    {
     "name": "stdout",
     "output_type": "stream",
     "text": [
      "  Train Loss: 1.2610, Train Acc: 0.4027, Val Loss: 1.1574, Val Acc: 0.4424, Time: 2.54s\n",
      "  New best model for fold 1 at epoch 4: Val Acc: 0.4424\n",
      "\n",
      "Epoch 5/100 for Fold 1\n"
     ]
    },
    {
     "name": "stderr",
     "output_type": "stream",
     "text": [
      "Training: 100%|██████████| 21/21 [00:02<00:00,  8.02it/s]\n",
      "Validating: 100%|██████████| 6/6 [00:00<00:00,  7.26it/s]\n"
     ]
    },
    {
     "name": "stdout",
     "output_type": "stream",
     "text": [
      "  Train Loss: 1.1910, Train Acc: 0.4341, Val Loss: 1.1601, Val Acc: 0.4561, Time: 2.62s\n",
      "  New best model for fold 1 at epoch 5: Val Acc: 0.4561\n",
      "\n",
      "Epoch 6/100 for Fold 1\n"
     ]
    },
    {
     "name": "stderr",
     "output_type": "stream",
     "text": [
      "Training: 100%|██████████| 21/21 [00:02<00:00,  8.20it/s]\n",
      "Validating: 100%|██████████| 6/6 [00:00<00:00,  7.47it/s]\n"
     ]
    },
    {
     "name": "stdout",
     "output_type": "stream",
     "text": [
      "  Train Loss: 1.1348, Train Acc: 0.4629, Val Loss: 1.0837, Val Acc: 0.4803, Time: 2.56s\n",
      "  New best model for fold 1 at epoch 6: Val Acc: 0.4803\n",
      "\n",
      "Epoch 7/100 for Fold 1\n"
     ]
    },
    {
     "name": "stderr",
     "output_type": "stream",
     "text": [
      "Training: 100%|██████████| 21/21 [00:02<00:00,  8.18it/s]\n",
      "Validating: 100%|██████████| 6/6 [00:00<00:00,  7.25it/s]\n"
     ]
    },
    {
     "name": "stdout",
     "output_type": "stream",
     "text": [
      "  Train Loss: 1.0806, Train Acc: 0.4883, Val Loss: 1.0554, Val Acc: 0.4970, Time: 2.57s\n",
      "  New best model for fold 1 at epoch 7: Val Acc: 0.4970\n",
      "\n",
      "Epoch 8/100 for Fold 1\n"
     ]
    },
    {
     "name": "stderr",
     "output_type": "stream",
     "text": [
      "Training: 100%|██████████| 21/21 [00:02<00:00,  8.10it/s]\n",
      "Validating: 100%|██████████| 6/6 [00:00<00:00,  7.43it/s]\n"
     ]
    },
    {
     "name": "stdout",
     "output_type": "stream",
     "text": [
      "  Train Loss: 1.0280, Train Acc: 0.5083, Val Loss: 1.0355, Val Acc: 0.5136, Time: 2.59s\n",
      "  New best model for fold 1 at epoch 8: Val Acc: 0.5136\n",
      "\n",
      "Epoch 9/100 for Fold 1\n"
     ]
    },
    {
     "name": "stderr",
     "output_type": "stream",
     "text": [
      "Training: 100%|██████████| 21/21 [00:02<00:00,  8.15it/s]\n",
      "Validating: 100%|██████████| 6/6 [00:00<00:00,  7.49it/s]\n"
     ]
    },
    {
     "name": "stdout",
     "output_type": "stream",
     "text": [
      "  Train Loss: 0.9982, Train Acc: 0.5098, Val Loss: 1.0215, Val Acc: 0.5136, Time: 2.58s\n",
      "\n",
      "Epoch 10/100 for Fold 1\n"
     ]
    },
    {
     "name": "stderr",
     "output_type": "stream",
     "text": [
      "Training: 100%|██████████| 21/21 [00:02<00:00,  8.10it/s]\n",
      "Validating: 100%|██████████| 6/6 [00:00<00:00,  7.47it/s]\n"
     ]
    },
    {
     "name": "stdout",
     "output_type": "stream",
     "text": [
      "  Train Loss: 0.9352, Train Acc: 0.5462, Val Loss: 1.0222, Val Acc: 0.5197, Time: 2.60s\n",
      "  New best model for fold 1 at epoch 10: Val Acc: 0.5197\n",
      "\n",
      "Epoch 11/100 for Fold 1\n"
     ]
    },
    {
     "name": "stderr",
     "output_type": "stream",
     "text": [
      "Training: 100%|██████████| 21/21 [00:02<00:00,  8.26it/s]\n",
      "Validating: 100%|██████████| 6/6 [00:00<00:00,  7.33it/s]\n"
     ]
    },
    {
     "name": "stdout",
     "output_type": "stream",
     "text": [
      "  Train Loss: 0.8989, Train Acc: 0.5614, Val Loss: 1.0023, Val Acc: 0.5242, Time: 2.55s\n",
      "  New best model for fold 1 at epoch 11: Val Acc: 0.5242\n",
      "\n",
      "Epoch 12/100 for Fold 1\n"
     ]
    },
    {
     "name": "stderr",
     "output_type": "stream",
     "text": [
      "Training: 100%|██████████| 21/21 [00:02<00:00,  8.32it/s]\n",
      "Validating: 100%|██████████| 6/6 [00:00<00:00,  7.43it/s]\n"
     ]
    },
    {
     "name": "stdout",
     "output_type": "stream",
     "text": [
      "  Train Loss: 0.8713, Train Acc: 0.5761, Val Loss: 0.9893, Val Acc: 0.5303, Time: 2.53s\n",
      "  New best model for fold 1 at epoch 12: Val Acc: 0.5303\n",
      "\n",
      "Epoch 13/100 for Fold 1\n"
     ]
    },
    {
     "name": "stderr",
     "output_type": "stream",
     "text": [
      "Training: 100%|██████████| 21/21 [00:02<00:00,  8.06it/s]\n",
      "Validating: 100%|██████████| 6/6 [00:00<00:00,  7.44it/s]\n"
     ]
    },
    {
     "name": "stdout",
     "output_type": "stream",
     "text": [
      "  Train Loss: 0.8208, Train Acc: 0.6133, Val Loss: 0.9869, Val Acc: 0.5470, Time: 2.61s\n",
      "  New best model for fold 1 at epoch 13: Val Acc: 0.5470\n",
      "\n",
      "Epoch 14/100 for Fold 1\n"
     ]
    },
    {
     "name": "stderr",
     "output_type": "stream",
     "text": [
      "Training: 100%|██████████| 21/21 [00:02<00:00,  8.23it/s]\n",
      "Validating: 100%|██████████| 6/6 [00:00<00:00,  7.54it/s]\n"
     ]
    },
    {
     "name": "stdout",
     "output_type": "stream",
     "text": [
      "  Train Loss: 0.7787, Train Acc: 0.6242, Val Loss: 1.0116, Val Acc: 0.5682, Time: 2.55s\n",
      "  New best model for fold 1 at epoch 14: Val Acc: 0.5682\n",
      "\n",
      "Epoch 15/100 for Fold 1\n"
     ]
    },
    {
     "name": "stderr",
     "output_type": "stream",
     "text": [
      "Training: 100%|██████████| 21/21 [00:02<00:00,  8.15it/s]\n",
      "Validating: 100%|██████████| 6/6 [00:00<00:00,  7.14it/s]\n"
     ]
    },
    {
     "name": "stdout",
     "output_type": "stream",
     "text": [
      "  Train Loss: 0.7187, Train Acc: 0.6545, Val Loss: 0.9552, Val Acc: 0.5833, Time: 2.58s\n",
      "  New best model for fold 1 at epoch 15: Val Acc: 0.5833\n",
      "\n",
      "Epoch 16/100 for Fold 1\n"
     ]
    },
    {
     "name": "stderr",
     "output_type": "stream",
     "text": [
      "Training: 100%|██████████| 21/21 [00:02<00:00,  8.20it/s]\n",
      "Validating: 100%|██████████| 6/6 [00:00<00:00,  7.40it/s]\n"
     ]
    },
    {
     "name": "stdout",
     "output_type": "stream",
     "text": [
      "  Train Loss: 0.6471, Train Acc: 0.7004, Val Loss: 0.9991, Val Acc: 0.6167, Time: 2.56s\n",
      "  New best model for fold 1 at epoch 16: Val Acc: 0.6167\n",
      "\n",
      "Epoch 17/100 for Fold 1\n"
     ]
    },
    {
     "name": "stderr",
     "output_type": "stream",
     "text": [
      "Training: 100%|██████████| 21/21 [00:02<00:00,  8.11it/s]\n",
      "Validating: 100%|██████████| 6/6 [00:00<00:00,  7.39it/s]\n"
     ]
    },
    {
     "name": "stdout",
     "output_type": "stream",
     "text": [
      "  Train Loss: 0.5683, Train Acc: 0.7428, Val Loss: 0.9405, Val Acc: 0.6318, Time: 2.59s\n",
      "  New best model for fold 1 at epoch 17: Val Acc: 0.6318\n",
      "\n",
      "Epoch 18/100 for Fold 1\n"
     ]
    },
    {
     "name": "stderr",
     "output_type": "stream",
     "text": [
      "Training: 100%|██████████| 21/21 [00:02<00:00,  7.82it/s]\n",
      "Validating: 100%|██████████| 6/6 [00:00<00:00,  7.53it/s]\n"
     ]
    },
    {
     "name": "stdout",
     "output_type": "stream",
     "text": [
      "  Train Loss: 0.4973, Train Acc: 0.7830, Val Loss: 0.9755, Val Acc: 0.6515, Time: 2.69s\n",
      "  New best model for fold 1 at epoch 18: Val Acc: 0.6515\n",
      "\n",
      "Epoch 19/100 for Fold 1\n"
     ]
    },
    {
     "name": "stderr",
     "output_type": "stream",
     "text": [
      "Training: 100%|██████████| 21/21 [00:02<00:00,  8.12it/s]\n",
      "Validating: 100%|██████████| 6/6 [00:00<00:00,  7.51it/s]\n"
     ]
    },
    {
     "name": "stdout",
     "output_type": "stream",
     "text": [
      "  Train Loss: 0.4503, Train Acc: 0.8011, Val Loss: 0.9728, Val Acc: 0.6606, Time: 2.59s\n",
      "  New best model for fold 1 at epoch 19: Val Acc: 0.6606\n",
      "\n",
      "Epoch 20/100 for Fold 1\n"
     ]
    },
    {
     "name": "stderr",
     "output_type": "stream",
     "text": [
      "Training: 100%|██████████| 21/21 [00:02<00:00,  8.19it/s]\n",
      "Validating: 100%|██████████| 6/6 [00:00<00:00,  7.57it/s]\n"
     ]
    },
    {
     "name": "stdout",
     "output_type": "stream",
     "text": [
      "  Train Loss: 0.3944, Train Acc: 0.8402, Val Loss: 0.9518, Val Acc: 0.6652, Time: 2.57s\n",
      "  New best model for fold 1 at epoch 20: Val Acc: 0.6652\n",
      "\n",
      "Epoch 21/100 for Fold 1\n"
     ]
    },
    {
     "name": "stderr",
     "output_type": "stream",
     "text": [
      "Training: 100%|██████████| 21/21 [00:02<00:00,  8.02it/s]\n",
      "Validating: 100%|██████████| 6/6 [00:00<00:00,  7.08it/s]\n"
     ]
    },
    {
     "name": "stdout",
     "output_type": "stream",
     "text": [
      "  Train Loss: 0.3588, Train Acc: 0.8485, Val Loss: 1.1250, Val Acc: 0.6682, Time: 2.62s\n",
      "  New best model for fold 1 at epoch 21: Val Acc: 0.6682\n",
      "\n",
      "Epoch 22/100 for Fold 1\n"
     ]
    },
    {
     "name": "stderr",
     "output_type": "stream",
     "text": [
      "Training: 100%|██████████| 21/21 [00:02<00:00,  8.06it/s]\n",
      "Validating: 100%|██████████| 6/6 [00:00<00:00,  7.50it/s]\n"
     ]
    },
    {
     "name": "stdout",
     "output_type": "stream",
     "text": [
      "  Train Loss: 0.2971, Train Acc: 0.8826, Val Loss: 1.1254, Val Acc: 0.6864, Time: 2.61s\n",
      "  New best model for fold 1 at epoch 22: Val Acc: 0.6864\n",
      "\n",
      "Epoch 23/100 for Fold 1\n"
     ]
    },
    {
     "name": "stderr",
     "output_type": "stream",
     "text": [
      "Training: 100%|██████████| 21/21 [00:02<00:00,  8.24it/s]\n",
      "Validating: 100%|██████████| 6/6 [00:00<00:00,  7.36it/s]\n"
     ]
    },
    {
     "name": "stdout",
     "output_type": "stream",
     "text": [
      "  Train Loss: 0.2689, Train Acc: 0.8951, Val Loss: 1.1679, Val Acc: 0.6742, Time: 2.55s\n",
      "\n",
      "Epoch 24/100 for Fold 1\n"
     ]
    },
    {
     "name": "stderr",
     "output_type": "stream",
     "text": [
      "Training: 100%|██████████| 21/21 [00:02<00:00,  8.09it/s]\n",
      "Validating: 100%|██████████| 6/6 [00:00<00:00,  7.38it/s]\n"
     ]
    },
    {
     "name": "stdout",
     "output_type": "stream",
     "text": [
      "  Train Loss: 0.2317, Train Acc: 0.9034, Val Loss: 1.1066, Val Acc: 0.6742, Time: 2.60s\n",
      "\n",
      "Epoch 25/100 for Fold 1\n"
     ]
    },
    {
     "name": "stderr",
     "output_type": "stream",
     "text": [
      "Training: 100%|██████████| 21/21 [00:02<00:00,  8.20it/s]\n",
      "Validating: 100%|██████████| 6/6 [00:00<00:00,  7.46it/s]\n"
     ]
    },
    {
     "name": "stdout",
     "output_type": "stream",
     "text": [
      "  Train Loss: 0.2341, Train Acc: 0.9095, Val Loss: 1.1782, Val Acc: 0.6758, Time: 2.56s\n",
      "\n",
      "Epoch 26/100 for Fold 1\n"
     ]
    },
    {
     "name": "stderr",
     "output_type": "stream",
     "text": [
      "Training: 100%|██████████| 21/21 [00:02<00:00,  8.25it/s]\n",
      "Validating: 100%|██████████| 6/6 [00:00<00:00,  7.29it/s]\n"
     ]
    },
    {
     "name": "stdout",
     "output_type": "stream",
     "text": [
      "  Train Loss: 0.1656, Train Acc: 0.9402, Val Loss: 1.3690, Val Acc: 0.6758, Time: 2.55s\n",
      "\n",
      "Epoch 27/100 for Fold 1\n"
     ]
    },
    {
     "name": "stderr",
     "output_type": "stream",
     "text": [
      "Training: 100%|██████████| 21/21 [00:02<00:00,  8.02it/s]\n",
      "Validating: 100%|██████████| 6/6 [00:00<00:00,  7.34it/s]\n"
     ]
    },
    {
     "name": "stdout",
     "output_type": "stream",
     "text": [
      "  Train Loss: 0.1356, Train Acc: 0.9534, Val Loss: 1.4553, Val Acc: 0.6591, Time: 2.62s\n",
      "\n",
      "Epoch 28/100 for Fold 1\n"
     ]
    },
    {
     "name": "stderr",
     "output_type": "stream",
     "text": [
      "Training: 100%|██████████| 21/21 [00:02<00:00,  8.13it/s]\n",
      "Validating: 100%|██████████| 6/6 [00:00<00:00,  7.27it/s]\n"
     ]
    },
    {
     "name": "stdout",
     "output_type": "stream",
     "text": [
      "  Train Loss: 0.1348, Train Acc: 0.9489, Val Loss: 1.6933, Val Acc: 0.6530, Time: 2.59s\n",
      "\n",
      "Epoch 29/100 for Fold 1\n"
     ]
    },
    {
     "name": "stderr",
     "output_type": "stream",
     "text": [
      "Training: 100%|██████████| 21/21 [00:02<00:00,  8.00it/s]\n",
      "Validating: 100%|██████████| 6/6 [00:00<00:00,  7.56it/s]\n"
     ]
    },
    {
     "name": "stdout",
     "output_type": "stream",
     "text": [
      "  Train Loss: 0.1429, Train Acc: 0.9568, Val Loss: 1.5637, Val Acc: 0.6909, Time: 2.63s\n",
      "  New best model for fold 1 at epoch 29: Val Acc: 0.6909\n",
      "\n",
      "Epoch 30/100 for Fold 1\n"
     ]
    },
    {
     "name": "stderr",
     "output_type": "stream",
     "text": [
      "Training: 100%|██████████| 21/21 [00:02<00:00,  8.23it/s]\n",
      "Validating: 100%|██████████| 6/6 [00:00<00:00,  7.39it/s]\n"
     ]
    },
    {
     "name": "stdout",
     "output_type": "stream",
     "text": [
      "  Train Loss: 0.1037, Train Acc: 0.9621, Val Loss: 1.7636, Val Acc: 0.6697, Time: 2.55s\n",
      "\n",
      "Epoch 31/100 for Fold 1\n"
     ]
    },
    {
     "name": "stderr",
     "output_type": "stream",
     "text": [
      "Training: 100%|██████████| 21/21 [00:02<00:00,  8.31it/s]\n",
      "Validating: 100%|██████████| 6/6 [00:00<00:00,  7.39it/s]\n"
     ]
    },
    {
     "name": "stdout",
     "output_type": "stream",
     "text": [
      "  Train Loss: 0.1089, Train Acc: 0.9614, Val Loss: 1.5188, Val Acc: 0.6803, Time: 2.53s\n",
      "\n",
      "Epoch 32/100 for Fold 1\n"
     ]
    },
    {
     "name": "stderr",
     "output_type": "stream",
     "text": [
      "Training: 100%|██████████| 21/21 [00:02<00:00,  8.18it/s]\n",
      "Validating: 100%|██████████| 6/6 [00:00<00:00,  7.36it/s]\n"
     ]
    },
    {
     "name": "stdout",
     "output_type": "stream",
     "text": [
      "  Train Loss: 0.0873, Train Acc: 0.9701, Val Loss: 1.2781, Val Acc: 0.6788, Time: 2.57s\n",
      "\n",
      "Epoch 33/100 for Fold 1\n"
     ]
    },
    {
     "name": "stderr",
     "output_type": "stream",
     "text": [
      "Training: 100%|██████████| 21/21 [00:02<00:00,  7.77it/s]\n",
      "Validating: 100%|██████████| 6/6 [00:00<00:00,  7.66it/s]\n"
     ]
    },
    {
     "name": "stdout",
     "output_type": "stream",
     "text": [
      "  Train Loss: 0.1068, Train Acc: 0.9648, Val Loss: 1.5534, Val Acc: 0.6909, Time: 2.71s\n",
      "\n",
      "Epoch 34/100 for Fold 1\n"
     ]
    },
    {
     "name": "stderr",
     "output_type": "stream",
     "text": [
      "Training: 100%|██████████| 21/21 [00:02<00:00,  7.87it/s]\n",
      "Validating: 100%|██████████| 6/6 [00:00<00:00,  7.48it/s]\n"
     ]
    },
    {
     "name": "stdout",
     "output_type": "stream",
     "text": [
      "  Train Loss: 0.0609, Train Acc: 0.9807, Val Loss: 1.7294, Val Acc: 0.6818, Time: 2.67s\n",
      "\n",
      "Epoch 35/100 for Fold 1\n"
     ]
    },
    {
     "name": "stderr",
     "output_type": "stream",
     "text": [
      "Training: 100%|██████████| 21/21 [00:02<00:00,  8.37it/s]\n",
      "Validating: 100%|██████████| 6/6 [00:00<00:00,  7.23it/s]\n"
     ]
    },
    {
     "name": "stdout",
     "output_type": "stream",
     "text": [
      "  Train Loss: 0.0632, Train Acc: 0.9811, Val Loss: 1.6832, Val Acc: 0.6894, Time: 2.51s\n",
      "\n",
      "Epoch 36/100 for Fold 1\n"
     ]
    },
    {
     "name": "stderr",
     "output_type": "stream",
     "text": [
      "Training: 100%|██████████| 21/21 [00:02<00:00,  8.22it/s]\n",
      "Validating: 100%|██████████| 6/6 [00:00<00:00,  7.17it/s]\n"
     ]
    },
    {
     "name": "stdout",
     "output_type": "stream",
     "text": [
      "  Train Loss: 0.0609, Train Acc: 0.9799, Val Loss: 1.6581, Val Acc: 0.6833, Time: 2.56s\n",
      "\n",
      "Epoch 37/100 for Fold 1\n"
     ]
    },
    {
     "name": "stderr",
     "output_type": "stream",
     "text": [
      "Training: 100%|██████████| 21/21 [00:02<00:00,  8.15it/s]\n",
      "Validating: 100%|██████████| 6/6 [00:00<00:00,  7.58it/s]\n"
     ]
    },
    {
     "name": "stdout",
     "output_type": "stream",
     "text": [
      "  Train Loss: 0.0578, Train Acc: 0.9795, Val Loss: 1.8272, Val Acc: 0.6924, Time: 2.58s\n",
      "  New best model for fold 1 at epoch 37: Val Acc: 0.6924\n",
      "\n",
      "Epoch 38/100 for Fold 1\n"
     ]
    },
    {
     "name": "stderr",
     "output_type": "stream",
     "text": [
      "Training: 100%|██████████| 21/21 [00:02<00:00,  7.89it/s]\n",
      "Validating: 100%|██████████| 6/6 [00:00<00:00,  7.60it/s]\n"
     ]
    },
    {
     "name": "stdout",
     "output_type": "stream",
     "text": [
      "  Train Loss: 0.0759, Train Acc: 0.9769, Val Loss: 1.7270, Val Acc: 0.6833, Time: 2.66s\n",
      "\n",
      "Epoch 39/100 for Fold 1\n"
     ]
    },
    {
     "name": "stderr",
     "output_type": "stream",
     "text": [
      "Training: 100%|██████████| 21/21 [00:02<00:00,  8.29it/s]\n",
      "Validating: 100%|██████████| 6/6 [00:00<00:00,  7.60it/s]\n"
     ]
    },
    {
     "name": "stdout",
     "output_type": "stream",
     "text": [
      "  Train Loss: 0.0573, Train Acc: 0.9826, Val Loss: 2.1304, Val Acc: 0.7015, Time: 2.54s\n",
      "  New best model for fold 1 at epoch 39: Val Acc: 0.7015\n",
      "\n",
      "Epoch 40/100 for Fold 1\n"
     ]
    },
    {
     "name": "stderr",
     "output_type": "stream",
     "text": [
      "Training: 100%|██████████| 21/21 [00:02<00:00,  7.99it/s]\n",
      "Validating: 100%|██████████| 6/6 [00:00<00:00,  7.43it/s]\n"
     ]
    },
    {
     "name": "stdout",
     "output_type": "stream",
     "text": [
      "  Train Loss: 0.0325, Train Acc: 0.9905, Val Loss: 2.1010, Val Acc: 0.7015, Time: 2.63s\n",
      "\n",
      "Epoch 41/100 for Fold 1\n"
     ]
    },
    {
     "name": "stderr",
     "output_type": "stream",
     "text": [
      "Training: 100%|██████████| 21/21 [00:02<00:00,  8.04it/s]\n",
      "Validating: 100%|██████████| 6/6 [00:00<00:00,  7.15it/s]\n"
     ]
    },
    {
     "name": "stdout",
     "output_type": "stream",
     "text": [
      "  Train Loss: 0.0332, Train Acc: 0.9894, Val Loss: 2.2617, Val Acc: 0.6985, Time: 2.62s\n",
      "\n",
      "Epoch 42/100 for Fold 1\n"
     ]
    },
    {
     "name": "stderr",
     "output_type": "stream",
     "text": [
      "Training: 100%|██████████| 21/21 [00:02<00:00,  8.19it/s]\n",
      "Validating: 100%|██████████| 6/6 [00:00<00:00,  7.42it/s]\n"
     ]
    },
    {
     "name": "stdout",
     "output_type": "stream",
     "text": [
      "  Train Loss: 0.0234, Train Acc: 0.9913, Val Loss: 2.3205, Val Acc: 0.6970, Time: 2.57s\n",
      "\n",
      "Epoch 43/100 for Fold 1\n"
     ]
    },
    {
     "name": "stderr",
     "output_type": "stream",
     "text": [
      "Training: 100%|██████████| 21/21 [00:02<00:00,  8.16it/s]\n",
      "Validating: 100%|██████████| 6/6 [00:00<00:00,  7.51it/s]\n"
     ]
    },
    {
     "name": "stdout",
     "output_type": "stream",
     "text": [
      "  Train Loss: 0.0269, Train Acc: 0.9909, Val Loss: 2.4736, Val Acc: 0.6894, Time: 2.58s\n",
      "\n",
      "Epoch 44/100 for Fold 1\n"
     ]
    },
    {
     "name": "stderr",
     "output_type": "stream",
     "text": [
      "Training: 100%|██████████| 21/21 [00:02<00:00,  8.16it/s]\n",
      "Validating: 100%|██████████| 6/6 [00:00<00:00,  7.47it/s]\n"
     ]
    },
    {
     "name": "stdout",
     "output_type": "stream",
     "text": [
      "  Train Loss: 0.0750, Train Acc: 0.9742, Val Loss: 2.0684, Val Acc: 0.6864, Time: 2.58s\n",
      "\n",
      "Epoch 45/100 for Fold 1\n"
     ]
    },
    {
     "name": "stderr",
     "output_type": "stream",
     "text": [
      "Training: 100%|██████████| 21/21 [00:02<00:00,  8.03it/s]\n",
      "Validating: 100%|██████████| 6/6 [00:00<00:00,  7.70it/s]\n"
     ]
    },
    {
     "name": "stdout",
     "output_type": "stream",
     "text": [
      "  Train Loss: 0.0387, Train Acc: 0.9879, Val Loss: 2.0054, Val Acc: 0.6848, Time: 2.62s\n",
      "\n",
      "Epoch 46/100 for Fold 1\n"
     ]
    },
    {
     "name": "stderr",
     "output_type": "stream",
     "text": [
      "Training: 100%|██████████| 21/21 [00:02<00:00,  8.28it/s]\n",
      "Validating: 100%|██████████| 6/6 [00:00<00:00,  7.51it/s]\n"
     ]
    },
    {
     "name": "stdout",
     "output_type": "stream",
     "text": [
      "  Train Loss: 0.0267, Train Acc: 0.9905, Val Loss: 2.0969, Val Acc: 0.6955, Time: 2.54s\n",
      "\n",
      "Epoch 47/100 for Fold 1\n"
     ]
    },
    {
     "name": "stderr",
     "output_type": "stream",
     "text": [
      "Training: 100%|██████████| 21/21 [00:02<00:00,  8.03it/s]\n",
      "Validating: 100%|██████████| 6/6 [00:00<00:00,  7.61it/s]\n"
     ]
    },
    {
     "name": "stdout",
     "output_type": "stream",
     "text": [
      "  Train Loss: 0.0221, Train Acc: 0.9939, Val Loss: 2.2684, Val Acc: 0.7015, Time: 2.62s\n",
      "\n",
      "Epoch 48/100 for Fold 1\n"
     ]
    },
    {
     "name": "stderr",
     "output_type": "stream",
     "text": [
      "Training: 100%|██████████| 21/21 [00:02<00:00,  8.36it/s]\n",
      "Validating: 100%|██████████| 6/6 [00:00<00:00,  7.53it/s]\n"
     ]
    },
    {
     "name": "stdout",
     "output_type": "stream",
     "text": [
      "  Train Loss: 0.0183, Train Acc: 0.9936, Val Loss: 2.5092, Val Acc: 0.7061, Time: 2.51s\n",
      "  New best model for fold 1 at epoch 48: Val Acc: 0.7061\n",
      "\n",
      "Epoch 49/100 for Fold 1\n"
     ]
    },
    {
     "name": "stderr",
     "output_type": "stream",
     "text": [
      "Training: 100%|██████████| 21/21 [00:02<00:00,  7.89it/s]\n",
      "Validating: 100%|██████████| 6/6 [00:00<00:00,  7.31it/s]\n"
     ]
    },
    {
     "name": "stdout",
     "output_type": "stream",
     "text": [
      "  Train Loss: 0.0089, Train Acc: 0.9985, Val Loss: 2.3360, Val Acc: 0.7030, Time: 2.67s\n",
      "\n",
      "Epoch 50/100 for Fold 1\n"
     ]
    },
    {
     "name": "stderr",
     "output_type": "stream",
     "text": [
      "Training: 100%|██████████| 21/21 [00:02<00:00,  8.20it/s]\n",
      "Validating: 100%|██████████| 6/6 [00:00<00:00,  7.49it/s]\n"
     ]
    },
    {
     "name": "stdout",
     "output_type": "stream",
     "text": [
      "  Train Loss: 0.0077, Train Acc: 0.9989, Val Loss: 2.5641, Val Acc: 0.6985, Time: 2.56s\n",
      "\n",
      "Epoch 51/100 for Fold 1\n"
     ]
    },
    {
     "name": "stderr",
     "output_type": "stream",
     "text": [
      "Training: 100%|██████████| 21/21 [00:02<00:00,  8.30it/s]\n",
      "Validating: 100%|██████████| 6/6 [00:00<00:00,  7.07it/s]\n"
     ]
    },
    {
     "name": "stdout",
     "output_type": "stream",
     "text": [
      "  Train Loss: 0.0056, Train Acc: 0.9985, Val Loss: 2.5517, Val Acc: 0.6955, Time: 2.53s\n",
      "\n",
      "Epoch 52/100 for Fold 1\n"
     ]
    },
    {
     "name": "stderr",
     "output_type": "stream",
     "text": [
      "Training: 100%|██████████| 21/21 [00:02<00:00,  7.85it/s]\n",
      "Validating: 100%|██████████| 6/6 [00:00<00:00,  7.44it/s]\n"
     ]
    },
    {
     "name": "stdout",
     "output_type": "stream",
     "text": [
      "  Train Loss: 0.0079, Train Acc: 0.9985, Val Loss: 2.8621, Val Acc: 0.6909, Time: 2.68s\n",
      "\n",
      "Epoch 53/100 for Fold 1\n"
     ]
    },
    {
     "name": "stderr",
     "output_type": "stream",
     "text": [
      "Training: 100%|██████████| 21/21 [00:02<00:00,  8.17it/s]\n",
      "Validating: 100%|██████████| 6/6 [00:00<00:00,  7.50it/s]\n"
     ]
    },
    {
     "name": "stdout",
     "output_type": "stream",
     "text": [
      "  Train Loss: 0.0107, Train Acc: 0.9970, Val Loss: 3.0471, Val Acc: 0.6894, Time: 2.57s\n",
      "\n",
      "Epoch 54/100 for Fold 1\n"
     ]
    },
    {
     "name": "stderr",
     "output_type": "stream",
     "text": [
      "Training: 100%|██████████| 21/21 [00:02<00:00,  8.15it/s]\n",
      "Validating: 100%|██████████| 6/6 [00:00<00:00,  7.45it/s]\n"
     ]
    },
    {
     "name": "stdout",
     "output_type": "stream",
     "text": [
      "  Train Loss: 0.0093, Train Acc: 0.9966, Val Loss: 2.7413, Val Acc: 0.6970, Time: 2.58s\n",
      "\n",
      "Epoch 55/100 for Fold 1\n"
     ]
    },
    {
     "name": "stderr",
     "output_type": "stream",
     "text": [
      "Training: 100%|██████████| 21/21 [00:02<00:00,  8.12it/s]\n",
      "Validating: 100%|██████████| 6/6 [00:00<00:00,  7.42it/s]\n"
     ]
    },
    {
     "name": "stdout",
     "output_type": "stream",
     "text": [
      "  Train Loss: 0.0084, Train Acc: 0.9985, Val Loss: 2.7287, Val Acc: 0.6879, Time: 2.59s\n",
      "\n",
      "Epoch 56/100 for Fold 1\n"
     ]
    },
    {
     "name": "stderr",
     "output_type": "stream",
     "text": [
      "Training: 100%|██████████| 21/21 [00:02<00:00,  8.05it/s]\n",
      "Validating: 100%|██████████| 6/6 [00:00<00:00,  6.72it/s]\n"
     ]
    },
    {
     "name": "stdout",
     "output_type": "stream",
     "text": [
      "  Train Loss: 0.0097, Train Acc: 0.9970, Val Loss: 2.6927, Val Acc: 0.6803, Time: 2.61s\n",
      "\n",
      "Epoch 57/100 for Fold 1\n"
     ]
    },
    {
     "name": "stderr",
     "output_type": "stream",
     "text": [
      "Training: 100%|██████████| 21/21 [00:02<00:00,  7.91it/s]\n",
      "Validating: 100%|██████████| 6/6 [00:00<00:00,  7.05it/s]\n"
     ]
    },
    {
     "name": "stdout",
     "output_type": "stream",
     "text": [
      "  Train Loss: 0.0107, Train Acc: 0.9955, Val Loss: 3.0777, Val Acc: 0.6848, Time: 2.66s\n",
      "\n",
      "Epoch 58/100 for Fold 1\n"
     ]
    },
    {
     "name": "stderr",
     "output_type": "stream",
     "text": [
      "Training: 100%|██████████| 21/21 [00:02<00:00,  7.41it/s]\n",
      "Validating: 100%|██████████| 6/6 [00:00<00:00,  7.39it/s]\n"
     ]
    },
    {
     "name": "stdout",
     "output_type": "stream",
     "text": [
      "  Train Loss: 0.0241, Train Acc: 0.9920, Val Loss: 3.0864, Val Acc: 0.6985, Time: 2.84s\n",
      "  Early stopping at epoch 58.\n",
      "Loading best model for fold 1 (achieved 0.7061 on inner val set).\n"
     ]
    },
    {
     "name": "stderr",
     "output_type": "stream",
     "text": [
      "Validating: 100%|██████████| 13/13 [00:01<00:00,  9.48it/s]\n"
     ]
    },
    {
     "name": "stdout",
     "output_type": "stream",
     "text": [
      "Performance on Outer Test Set for fold 1: 0.6552\n",
      "\n",
      "--- Outer Fold 2/3 ---\n",
      "Training on 2640, Validating on 660...\n",
      "\n",
      "Epoch 1/100 for Fold 2\n"
     ]
    },
    {
     "name": "stderr",
     "output_type": "stream",
     "text": [
      "Training: 100%|██████████| 21/21 [00:02<00:00,  8.09it/s]\n",
      "Validating: 100%|██████████| 6/6 [00:00<00:00,  7.49it/s]\n"
     ]
    },
    {
     "name": "stdout",
     "output_type": "stream",
     "text": [
      "  Train Loss: 1.9366, Train Acc: 0.2314, Val Loss: 1.4987, Val Acc: 0.3379, Time: 2.60s\n",
      "  New best model for fold 2 at epoch 1: Val Acc: 0.3379\n",
      "\n",
      "Epoch 2/100 for Fold 2\n"
     ]
    },
    {
     "name": "stderr",
     "output_type": "stream",
     "text": [
      "Training: 100%|██████████| 21/21 [00:02<00:00,  8.33it/s]\n",
      "Validating: 100%|██████████| 6/6 [00:00<00:00,  7.32it/s]\n"
     ]
    },
    {
     "name": "stdout",
     "output_type": "stream",
     "text": [
      "  Train Loss: 1.4769, Train Acc: 0.3201, Val Loss: 1.3514, Val Acc: 0.3697, Time: 2.52s\n",
      "  New best model for fold 2 at epoch 2: Val Acc: 0.3697\n",
      "\n",
      "Epoch 3/100 for Fold 2\n"
     ]
    },
    {
     "name": "stderr",
     "output_type": "stream",
     "text": [
      "Training: 100%|██████████| 21/21 [00:02<00:00,  8.10it/s]\n",
      "Validating: 100%|██████████| 6/6 [00:00<00:00,  7.37it/s]\n"
     ]
    },
    {
     "name": "stdout",
     "output_type": "stream",
     "text": [
      "  Train Loss: 1.3521, Train Acc: 0.3826, Val Loss: 1.2553, Val Acc: 0.4303, Time: 2.59s\n",
      "  New best model for fold 2 at epoch 3: Val Acc: 0.4303\n",
      "\n",
      "Epoch 4/100 for Fold 2\n"
     ]
    },
    {
     "name": "stderr",
     "output_type": "stream",
     "text": [
      "Training: 100%|██████████| 21/21 [00:02<00:00,  8.11it/s]\n",
      "Validating: 100%|██████████| 6/6 [00:00<00:00,  7.07it/s]\n"
     ]
    },
    {
     "name": "stdout",
     "output_type": "stream",
     "text": [
      "  Train Loss: 1.2716, Train Acc: 0.4083, Val Loss: 1.2087, Val Acc: 0.4500, Time: 2.59s\n",
      "  New best model for fold 2 at epoch 4: Val Acc: 0.4500\n",
      "\n",
      "Epoch 5/100 for Fold 2\n"
     ]
    },
    {
     "name": "stderr",
     "output_type": "stream",
     "text": [
      "Training: 100%|██████████| 21/21 [00:02<00:00,  8.19it/s]\n",
      "Validating: 100%|██████████| 6/6 [00:00<00:00,  7.56it/s]\n"
     ]
    },
    {
     "name": "stdout",
     "output_type": "stream",
     "text": [
      "  Train Loss: 1.2071, Train Acc: 0.4390, Val Loss: 1.1812, Val Acc: 0.4621, Time: 2.57s\n",
      "  New best model for fold 2 at epoch 5: Val Acc: 0.4621\n",
      "\n",
      "Epoch 6/100 for Fold 2\n"
     ]
    },
    {
     "name": "stderr",
     "output_type": "stream",
     "text": [
      "Training: 100%|██████████| 21/21 [00:02<00:00,  8.20it/s]\n",
      "Validating: 100%|██████████| 6/6 [00:00<00:00,  7.43it/s]\n"
     ]
    },
    {
     "name": "stdout",
     "output_type": "stream",
     "text": [
      "  Train Loss: 1.1466, Train Acc: 0.4568, Val Loss: 1.1108, Val Acc: 0.4773, Time: 2.56s\n",
      "  New best model for fold 2 at epoch 6: Val Acc: 0.4773\n",
      "\n",
      "Epoch 7/100 for Fold 2\n"
     ]
    },
    {
     "name": "stderr",
     "output_type": "stream",
     "text": [
      "Training: 100%|██████████| 21/21 [00:02<00:00,  8.17it/s]\n",
      "Validating: 100%|██████████| 6/6 [00:00<00:00,  7.32it/s]\n"
     ]
    },
    {
     "name": "stdout",
     "output_type": "stream",
     "text": [
      "  Train Loss: 1.1129, Train Acc: 0.4663, Val Loss: 1.0744, Val Acc: 0.4848, Time: 2.57s\n",
      "  New best model for fold 2 at epoch 7: Val Acc: 0.4848\n",
      "\n",
      "Epoch 8/100 for Fold 2\n"
     ]
    },
    {
     "name": "stderr",
     "output_type": "stream",
     "text": [
      "Training: 100%|██████████| 21/21 [00:02<00:00,  8.26it/s]\n",
      "Validating: 100%|██████████| 6/6 [00:00<00:00,  7.06it/s]\n"
     ]
    },
    {
     "name": "stdout",
     "output_type": "stream",
     "text": [
      "  Train Loss: 1.0468, Train Acc: 0.5027, Val Loss: 1.0419, Val Acc: 0.4818, Time: 2.55s\n",
      "\n",
      "Epoch 9/100 for Fold 2\n"
     ]
    },
    {
     "name": "stderr",
     "output_type": "stream",
     "text": [
      "Training: 100%|██████████| 21/21 [00:02<00:00,  8.27it/s]\n",
      "Validating: 100%|██████████| 6/6 [00:00<00:00,  7.05it/s]\n"
     ]
    },
    {
     "name": "stdout",
     "output_type": "stream",
     "text": [
      "  Train Loss: 1.0162, Train Acc: 0.5098, Val Loss: 1.0156, Val Acc: 0.4848, Time: 2.54s\n",
      "\n",
      "Epoch 10/100 for Fold 2\n"
     ]
    },
    {
     "name": "stderr",
     "output_type": "stream",
     "text": [
      "Training: 100%|██████████| 21/21 [00:02<00:00,  8.26it/s]\n",
      "Validating: 100%|██████████| 6/6 [00:00<00:00,  7.51it/s]\n"
     ]
    },
    {
     "name": "stdout",
     "output_type": "stream",
     "text": [
      "  Train Loss: 0.9628, Train Acc: 0.5292, Val Loss: 1.0013, Val Acc: 0.4970, Time: 2.55s\n",
      "  New best model for fold 2 at epoch 10: Val Acc: 0.4970\n",
      "\n",
      "Epoch 11/100 for Fold 2\n"
     ]
    },
    {
     "name": "stderr",
     "output_type": "stream",
     "text": [
      "Training: 100%|██████████| 21/21 [00:02<00:00,  7.95it/s]\n",
      "Validating: 100%|██████████| 6/6 [00:00<00:00,  7.20it/s]\n"
     ]
    },
    {
     "name": "stdout",
     "output_type": "stream",
     "text": [
      "  Train Loss: 0.9089, Train Acc: 0.5587, Val Loss: 1.0059, Val Acc: 0.5061, Time: 2.64s\n",
      "  New best model for fold 2 at epoch 11: Val Acc: 0.5061\n",
      "\n",
      "Epoch 12/100 for Fold 2\n"
     ]
    },
    {
     "name": "stderr",
     "output_type": "stream",
     "text": [
      "Training: 100%|██████████| 21/21 [00:02<00:00,  8.28it/s]\n",
      "Validating: 100%|██████████| 6/6 [00:00<00:00,  7.35it/s]\n"
     ]
    },
    {
     "name": "stdout",
     "output_type": "stream",
     "text": [
      "  Train Loss: 0.8681, Train Acc: 0.5742, Val Loss: 1.0009, Val Acc: 0.5212, Time: 2.54s\n",
      "  New best model for fold 2 at epoch 12: Val Acc: 0.5212\n",
      "\n",
      "Epoch 13/100 for Fold 2\n"
     ]
    },
    {
     "name": "stderr",
     "output_type": "stream",
     "text": [
      "Training: 100%|██████████| 21/21 [00:02<00:00,  8.28it/s]\n",
      "Validating: 100%|██████████| 6/6 [00:00<00:00,  7.43it/s]\n"
     ]
    },
    {
     "name": "stdout",
     "output_type": "stream",
     "text": [
      "  Train Loss: 0.8237, Train Acc: 0.5894, Val Loss: 1.0186, Val Acc: 0.5136, Time: 2.54s\n",
      "\n",
      "Epoch 14/100 for Fold 2\n"
     ]
    },
    {
     "name": "stderr",
     "output_type": "stream",
     "text": [
      "Training: 100%|██████████| 21/21 [00:02<00:00,  8.26it/s]\n",
      "Validating: 100%|██████████| 6/6 [00:00<00:00,  7.40it/s]\n"
     ]
    },
    {
     "name": "stdout",
     "output_type": "stream",
     "text": [
      "  Train Loss: 0.7801, Train Acc: 0.6227, Val Loss: 0.9652, Val Acc: 0.5424, Time: 2.55s\n",
      "  New best model for fold 2 at epoch 14: Val Acc: 0.5424\n",
      "\n",
      "Epoch 15/100 for Fold 2\n"
     ]
    },
    {
     "name": "stderr",
     "output_type": "stream",
     "text": [
      "Training: 100%|██████████| 21/21 [00:02<00:00,  8.07it/s]\n",
      "Validating: 100%|██████████| 6/6 [00:00<00:00,  7.27it/s]\n"
     ]
    },
    {
     "name": "stdout",
     "output_type": "stream",
     "text": [
      "  Train Loss: 0.7464, Train Acc: 0.6530, Val Loss: 0.9299, Val Acc: 0.5667, Time: 2.60s\n",
      "  New best model for fold 2 at epoch 15: Val Acc: 0.5667\n",
      "\n",
      "Epoch 16/100 for Fold 2\n"
     ]
    },
    {
     "name": "stderr",
     "output_type": "stream",
     "text": [
      "Training: 100%|██████████| 21/21 [00:02<00:00,  7.97it/s]\n",
      "Validating: 100%|██████████| 6/6 [00:00<00:00,  7.30it/s]\n"
     ]
    },
    {
     "name": "stdout",
     "output_type": "stream",
     "text": [
      "  Train Loss: 0.6921, Train Acc: 0.6773, Val Loss: 0.9544, Val Acc: 0.5894, Time: 2.64s\n",
      "  New best model for fold 2 at epoch 16: Val Acc: 0.5894\n",
      "\n",
      "Epoch 17/100 for Fold 2\n"
     ]
    },
    {
     "name": "stderr",
     "output_type": "stream",
     "text": [
      "Training: 100%|██████████| 21/21 [00:02<00:00,  8.14it/s]\n",
      "Validating: 100%|██████████| 6/6 [00:00<00:00,  7.45it/s]\n"
     ]
    },
    {
     "name": "stdout",
     "output_type": "stream",
     "text": [
      "  Train Loss: 0.5939, Train Acc: 0.7280, Val Loss: 0.9627, Val Acc: 0.5894, Time: 2.58s\n",
      "\n",
      "Epoch 18/100 for Fold 2\n"
     ]
    },
    {
     "name": "stderr",
     "output_type": "stream",
     "text": [
      "Training: 100%|██████████| 21/21 [00:02<00:00,  8.15it/s]\n",
      "Validating: 100%|██████████| 6/6 [00:00<00:00,  7.49it/s]\n"
     ]
    },
    {
     "name": "stdout",
     "output_type": "stream",
     "text": [
      "  Train Loss: 0.5454, Train Acc: 0.7542, Val Loss: 0.8927, Val Acc: 0.6045, Time: 2.58s\n",
      "  New best model for fold 2 at epoch 18: Val Acc: 0.6045\n",
      "\n",
      "Epoch 19/100 for Fold 2\n"
     ]
    },
    {
     "name": "stderr",
     "output_type": "stream",
     "text": [
      "Training: 100%|██████████| 21/21 [00:02<00:00,  8.23it/s]\n",
      "Validating: 100%|██████████| 6/6 [00:00<00:00,  7.42it/s]\n"
     ]
    },
    {
     "name": "stdout",
     "output_type": "stream",
     "text": [
      "  Train Loss: 0.4795, Train Acc: 0.7867, Val Loss: 0.9151, Val Acc: 0.6152, Time: 2.55s\n",
      "  New best model for fold 2 at epoch 19: Val Acc: 0.6152\n",
      "\n",
      "Epoch 20/100 for Fold 2\n"
     ]
    },
    {
     "name": "stderr",
     "output_type": "stream",
     "text": [
      "Training: 100%|██████████| 21/21 [00:02<00:00,  8.18it/s]\n",
      "Validating: 100%|██████████| 6/6 [00:00<00:00,  7.39it/s]\n"
     ]
    },
    {
     "name": "stdout",
     "output_type": "stream",
     "text": [
      "  Train Loss: 0.4193, Train Acc: 0.8163, Val Loss: 0.9875, Val Acc: 0.6288, Time: 2.57s\n",
      "  New best model for fold 2 at epoch 20: Val Acc: 0.6288\n",
      "\n",
      "Epoch 21/100 for Fold 2\n"
     ]
    },
    {
     "name": "stderr",
     "output_type": "stream",
     "text": [
      "Training: 100%|██████████| 21/21 [00:02<00:00,  7.97it/s]\n",
      "Validating: 100%|██████████| 6/6 [00:00<00:00,  7.26it/s]\n"
     ]
    },
    {
     "name": "stdout",
     "output_type": "stream",
     "text": [
      "  Train Loss: 0.3740, Train Acc: 0.8345, Val Loss: 0.9905, Val Acc: 0.6333, Time: 2.64s\n",
      "  New best model for fold 2 at epoch 21: Val Acc: 0.6333\n",
      "\n",
      "Epoch 22/100 for Fold 2\n"
     ]
    },
    {
     "name": "stderr",
     "output_type": "stream",
     "text": [
      "Training: 100%|██████████| 21/21 [00:02<00:00,  7.79it/s]\n",
      "Validating: 100%|██████████| 6/6 [00:00<00:00,  7.54it/s]\n"
     ]
    },
    {
     "name": "stdout",
     "output_type": "stream",
     "text": [
      "  Train Loss: 0.3259, Train Acc: 0.8636, Val Loss: 1.0327, Val Acc: 0.6561, Time: 2.70s\n",
      "  New best model for fold 2 at epoch 22: Val Acc: 0.6561\n",
      "\n",
      "Epoch 23/100 for Fold 2\n"
     ]
    },
    {
     "name": "stderr",
     "output_type": "stream",
     "text": [
      "Training: 100%|██████████| 21/21 [00:02<00:00,  8.29it/s]\n",
      "Validating: 100%|██████████| 6/6 [00:00<00:00,  7.52it/s]\n"
     ]
    },
    {
     "name": "stdout",
     "output_type": "stream",
     "text": [
      "  Train Loss: 0.2994, Train Acc: 0.8727, Val Loss: 0.9437, Val Acc: 0.6561, Time: 2.54s\n",
      "\n",
      "Epoch 24/100 for Fold 2\n"
     ]
    },
    {
     "name": "stderr",
     "output_type": "stream",
     "text": [
      "Training: 100%|██████████| 21/21 [00:02<00:00,  8.20it/s]\n",
      "Validating: 100%|██████████| 6/6 [00:00<00:00,  7.13it/s]\n"
     ]
    },
    {
     "name": "stdout",
     "output_type": "stream",
     "text": [
      "  Train Loss: 0.2381, Train Acc: 0.9080, Val Loss: 1.0979, Val Acc: 0.6515, Time: 2.57s\n",
      "\n",
      "Epoch 25/100 for Fold 2\n"
     ]
    },
    {
     "name": "stderr",
     "output_type": "stream",
     "text": [
      "Training: 100%|██████████| 21/21 [00:02<00:00,  7.95it/s]\n",
      "Validating: 100%|██████████| 6/6 [00:00<00:00,  7.25it/s]\n"
     ]
    },
    {
     "name": "stdout",
     "output_type": "stream",
     "text": [
      "  Train Loss: 0.2204, Train Acc: 0.9117, Val Loss: 1.3263, Val Acc: 0.6545, Time: 2.65s\n",
      "\n",
      "Epoch 26/100 for Fold 2\n"
     ]
    },
    {
     "name": "stderr",
     "output_type": "stream",
     "text": [
      "Training: 100%|██████████| 21/21 [00:02<00:00,  7.88it/s]\n",
      "Validating: 100%|██████████| 6/6 [00:00<00:00,  7.41it/s]\n"
     ]
    },
    {
     "name": "stdout",
     "output_type": "stream",
     "text": [
      "  Train Loss: 0.1997, Train Acc: 0.9197, Val Loss: 1.2251, Val Acc: 0.6758, Time: 2.67s\n",
      "  New best model for fold 2 at epoch 26: Val Acc: 0.6758\n",
      "\n",
      "Epoch 27/100 for Fold 2\n"
     ]
    },
    {
     "name": "stderr",
     "output_type": "stream",
     "text": [
      "Training: 100%|██████████| 21/21 [00:02<00:00,  8.12it/s]\n",
      "Validating: 100%|██████████| 6/6 [00:00<00:00,  7.44it/s]\n"
     ]
    },
    {
     "name": "stdout",
     "output_type": "stream",
     "text": [
      "  Train Loss: 0.1493, Train Acc: 0.9348, Val Loss: 1.2933, Val Acc: 0.6621, Time: 2.59s\n",
      "\n",
      "Epoch 28/100 for Fold 2\n"
     ]
    },
    {
     "name": "stderr",
     "output_type": "stream",
     "text": [
      "Training: 100%|██████████| 21/21 [00:02<00:00,  8.05it/s]\n",
      "Validating: 100%|██████████| 6/6 [00:00<00:00,  7.11it/s]\n"
     ]
    },
    {
     "name": "stdout",
     "output_type": "stream",
     "text": [
      "  Train Loss: 0.1447, Train Acc: 0.9413, Val Loss: 1.3498, Val Acc: 0.6470, Time: 2.61s\n",
      "\n",
      "Epoch 29/100 for Fold 2\n"
     ]
    },
    {
     "name": "stderr",
     "output_type": "stream",
     "text": [
      "Training: 100%|██████████| 21/21 [00:02<00:00,  8.06it/s]\n",
      "Validating: 100%|██████████| 6/6 [00:00<00:00,  7.44it/s]\n"
     ]
    },
    {
     "name": "stdout",
     "output_type": "stream",
     "text": [
      "  Train Loss: 0.1464, Train Acc: 0.9436, Val Loss: 1.3092, Val Acc: 0.6621, Time: 2.61s\n",
      "\n",
      "Epoch 30/100 for Fold 2\n"
     ]
    },
    {
     "name": "stderr",
     "output_type": "stream",
     "text": [
      "Training: 100%|██████████| 21/21 [00:02<00:00,  8.19it/s]\n",
      "Validating: 100%|██████████| 6/6 [00:00<00:00,  7.50it/s]\n"
     ]
    },
    {
     "name": "stdout",
     "output_type": "stream",
     "text": [
      "  Train Loss: 0.1238, Train Acc: 0.9557, Val Loss: 1.4608, Val Acc: 0.6667, Time: 2.57s\n",
      "\n",
      "Epoch 31/100 for Fold 2\n"
     ]
    },
    {
     "name": "stderr",
     "output_type": "stream",
     "text": [
      "Training: 100%|██████████| 21/21 [00:02<00:00,  8.29it/s]\n",
      "Validating: 100%|██████████| 6/6 [00:00<00:00,  7.08it/s]\n"
     ]
    },
    {
     "name": "stdout",
     "output_type": "stream",
     "text": [
      "  Train Loss: 0.1196, Train Acc: 0.9538, Val Loss: 1.0965, Val Acc: 0.6424, Time: 2.54s\n",
      "\n",
      "Epoch 32/100 for Fold 2\n"
     ]
    },
    {
     "name": "stderr",
     "output_type": "stream",
     "text": [
      "Training: 100%|██████████| 21/21 [00:02<00:00,  8.26it/s]\n",
      "Validating: 100%|██████████| 6/6 [00:00<00:00,  7.17it/s]\n"
     ]
    },
    {
     "name": "stdout",
     "output_type": "stream",
     "text": [
      "  Train Loss: 0.1171, Train Acc: 0.9530, Val Loss: 1.5037, Val Acc: 0.6439, Time: 2.54s\n",
      "\n",
      "Epoch 33/100 for Fold 2\n"
     ]
    },
    {
     "name": "stderr",
     "output_type": "stream",
     "text": [
      "Training: 100%|██████████| 21/21 [00:02<00:00,  8.21it/s]\n",
      "Validating: 100%|██████████| 6/6 [00:00<00:00,  7.16it/s]\n"
     ]
    },
    {
     "name": "stdout",
     "output_type": "stream",
     "text": [
      "  Train Loss: 0.0818, Train Acc: 0.9723, Val Loss: 1.5518, Val Acc: 0.6697, Time: 2.56s\n",
      "\n",
      "Epoch 34/100 for Fold 2\n"
     ]
    },
    {
     "name": "stderr",
     "output_type": "stream",
     "text": [
      "Training: 100%|██████████| 21/21 [00:02<00:00,  8.23it/s]\n",
      "Validating: 100%|██████████| 6/6 [00:00<00:00,  7.27it/s]\n"
     ]
    },
    {
     "name": "stdout",
     "output_type": "stream",
     "text": [
      "  Train Loss: 0.0773, Train Acc: 0.9705, Val Loss: 1.6870, Val Acc: 0.6545, Time: 2.56s\n",
      "\n",
      "Epoch 35/100 for Fold 2\n"
     ]
    },
    {
     "name": "stderr",
     "output_type": "stream",
     "text": [
      "Training: 100%|██████████| 21/21 [00:02<00:00,  8.11it/s]\n",
      "Validating: 100%|██████████| 6/6 [00:00<00:00,  7.29it/s]\n"
     ]
    },
    {
     "name": "stdout",
     "output_type": "stream",
     "text": [
      "  Train Loss: 0.0940, Train Acc: 0.9682, Val Loss: 1.3751, Val Acc: 0.6742, Time: 2.59s\n",
      "\n",
      "Epoch 36/100 for Fold 2\n"
     ]
    },
    {
     "name": "stderr",
     "output_type": "stream",
     "text": [
      "Training: 100%|██████████| 21/21 [00:02<00:00,  8.13it/s]\n",
      "Validating: 100%|██████████| 6/6 [00:00<00:00,  7.37it/s]\n"
     ]
    },
    {
     "name": "stdout",
     "output_type": "stream",
     "text": [
      "  Train Loss: 0.0853, Train Acc: 0.9689, Val Loss: 1.5072, Val Acc: 0.6667, Time: 2.59s\n",
      "  Early stopping at epoch 36.\n",
      "Loading best model for fold 2 (achieved 0.6758 on inner val set).\n"
     ]
    },
    {
     "name": "stderr",
     "output_type": "stream",
     "text": [
      "Validating: 100%|██████████| 13/13 [00:01<00:00,  9.99it/s]\n"
     ]
    },
    {
     "name": "stdout",
     "output_type": "stream",
     "text": [
      "Performance on Outer Test Set for fold 2: 0.6485\n",
      "\n",
      "--- Outer Fold 3/3 ---\n",
      "Training on 2640, Validating on 660...\n",
      "\n",
      "Epoch 1/100 for Fold 3\n"
     ]
    },
    {
     "name": "stderr",
     "output_type": "stream",
     "text": [
      "Training: 100%|██████████| 21/21 [00:02<00:00,  7.95it/s]\n",
      "Validating: 100%|██████████| 6/6 [00:00<00:00,  7.03it/s]\n"
     ]
    },
    {
     "name": "stdout",
     "output_type": "stream",
     "text": [
      "  Train Loss: 1.9798, Train Acc: 0.2114, Val Loss: 1.5980, Val Acc: 0.3136, Time: 2.64s\n",
      "  New best model for fold 3 at epoch 1: Val Acc: 0.3136\n",
      "\n",
      "Epoch 2/100 for Fold 3\n"
     ]
    },
    {
     "name": "stderr",
     "output_type": "stream",
     "text": [
      "Training: 100%|██████████| 21/21 [00:02<00:00,  8.01it/s]\n",
      "Validating: 100%|██████████| 6/6 [00:00<00:00,  7.51it/s]\n"
     ]
    },
    {
     "name": "stdout",
     "output_type": "stream",
     "text": [
      "  Train Loss: 1.5178, Train Acc: 0.3220, Val Loss: 1.3772, Val Acc: 0.3848, Time: 2.62s\n",
      "  New best model for fold 3 at epoch 2: Val Acc: 0.3848\n",
      "\n",
      "Epoch 3/100 for Fold 3\n"
     ]
    },
    {
     "name": "stderr",
     "output_type": "stream",
     "text": [
      "Training: 100%|██████████| 21/21 [00:02<00:00,  8.15it/s]\n",
      "Validating: 100%|██████████| 6/6 [00:00<00:00,  7.48it/s]\n"
     ]
    },
    {
     "name": "stdout",
     "output_type": "stream",
     "text": [
      "  Train Loss: 1.3829, Train Acc: 0.3686, Val Loss: 1.3066, Val Acc: 0.4015, Time: 2.58s\n",
      "  New best model for fold 3 at epoch 3: Val Acc: 0.4015\n",
      "\n",
      "Epoch 4/100 for Fold 3\n"
     ]
    },
    {
     "name": "stderr",
     "output_type": "stream",
     "text": [
      "Training: 100%|██████████| 21/21 [00:02<00:00,  7.97it/s]\n",
      "Validating: 100%|██████████| 6/6 [00:00<00:00,  7.61it/s]\n"
     ]
    },
    {
     "name": "stdout",
     "output_type": "stream",
     "text": [
      "  Train Loss: 1.3022, Train Acc: 0.3966, Val Loss: 1.2324, Val Acc: 0.4258, Time: 2.64s\n",
      "  New best model for fold 3 at epoch 4: Val Acc: 0.4258\n",
      "\n",
      "Epoch 5/100 for Fold 3\n"
     ]
    },
    {
     "name": "stderr",
     "output_type": "stream",
     "text": [
      "Training: 100%|██████████| 21/21 [00:02<00:00,  8.02it/s]\n",
      "Validating: 100%|██████████| 6/6 [00:00<00:00,  7.04it/s]\n"
     ]
    },
    {
     "name": "stdout",
     "output_type": "stream",
     "text": [
      "  Train Loss: 1.2272, Train Acc: 0.4201, Val Loss: 1.2329, Val Acc: 0.4318, Time: 2.62s\n",
      "  New best model for fold 3 at epoch 5: Val Acc: 0.4318\n",
      "\n",
      "Epoch 6/100 for Fold 3\n"
     ]
    },
    {
     "name": "stderr",
     "output_type": "stream",
     "text": [
      "Training: 100%|██████████| 21/21 [00:02<00:00,  7.90it/s]\n",
      "Validating: 100%|██████████| 6/6 [00:00<00:00,  7.40it/s]\n"
     ]
    },
    {
     "name": "stdout",
     "output_type": "stream",
     "text": [
      "  Train Loss: 1.1811, Train Acc: 0.4561, Val Loss: 1.1770, Val Acc: 0.4576, Time: 2.66s\n",
      "  New best model for fold 3 at epoch 6: Val Acc: 0.4576\n",
      "\n",
      "Epoch 7/100 for Fold 3\n"
     ]
    },
    {
     "name": "stderr",
     "output_type": "stream",
     "text": [
      "Training: 100%|██████████| 21/21 [00:02<00:00,  8.18it/s]\n",
      "Validating: 100%|██████████| 6/6 [00:00<00:00,  7.25it/s]\n"
     ]
    },
    {
     "name": "stdout",
     "output_type": "stream",
     "text": [
      "  Train Loss: 1.1276, Train Acc: 0.4663, Val Loss: 1.1038, Val Acc: 0.4606, Time: 2.57s\n",
      "  New best model for fold 3 at epoch 7: Val Acc: 0.4606\n",
      "\n",
      "Epoch 8/100 for Fold 3\n"
     ]
    },
    {
     "name": "stderr",
     "output_type": "stream",
     "text": [
      "Training: 100%|██████████| 21/21 [00:02<00:00,  8.00it/s]\n",
      "Validating: 100%|██████████| 6/6 [00:00<00:00,  7.36it/s]\n"
     ]
    },
    {
     "name": "stdout",
     "output_type": "stream",
     "text": [
      "  Train Loss: 1.0827, Train Acc: 0.4883, Val Loss: 1.0873, Val Acc: 0.4652, Time: 2.63s\n",
      "  New best model for fold 3 at epoch 8: Val Acc: 0.4652\n",
      "\n",
      "Epoch 9/100 for Fold 3\n"
     ]
    },
    {
     "name": "stderr",
     "output_type": "stream",
     "text": [
      "Training: 100%|██████████| 21/21 [00:02<00:00,  8.16it/s]\n",
      "Validating: 100%|██████████| 6/6 [00:00<00:00,  7.10it/s]\n"
     ]
    },
    {
     "name": "stdout",
     "output_type": "stream",
     "text": [
      "  Train Loss: 1.0320, Train Acc: 0.4985, Val Loss: 1.0744, Val Acc: 0.4864, Time: 2.58s\n",
      "  New best model for fold 3 at epoch 9: Val Acc: 0.4864\n",
      "\n",
      "Epoch 10/100 for Fold 3\n"
     ]
    },
    {
     "name": "stderr",
     "output_type": "stream",
     "text": [
      "Training: 100%|██████████| 21/21 [00:02<00:00,  8.10it/s]\n",
      "Validating: 100%|██████████| 6/6 [00:00<00:00,  7.50it/s]\n"
     ]
    },
    {
     "name": "stdout",
     "output_type": "stream",
     "text": [
      "  Train Loss: 0.9835, Train Acc: 0.5216, Val Loss: 1.0508, Val Acc: 0.4879, Time: 2.59s\n",
      "  New best model for fold 3 at epoch 10: Val Acc: 0.4879\n",
      "\n",
      "Epoch 11/100 for Fold 3\n"
     ]
    },
    {
     "name": "stderr",
     "output_type": "stream",
     "text": [
      "Training: 100%|██████████| 21/21 [00:02<00:00,  8.11it/s]\n",
      "Validating: 100%|██████████| 6/6 [00:00<00:00,  7.08it/s]\n"
     ]
    },
    {
     "name": "stdout",
     "output_type": "stream",
     "text": [
      "  Train Loss: 0.9426, Train Acc: 0.5364, Val Loss: 1.0955, Val Acc: 0.4970, Time: 2.59s\n",
      "  New best model for fold 3 at epoch 11: Val Acc: 0.4970\n",
      "\n",
      "Epoch 12/100 for Fold 3\n"
     ]
    },
    {
     "name": "stderr",
     "output_type": "stream",
     "text": [
      "Training: 100%|██████████| 21/21 [00:02<00:00,  7.88it/s]\n",
      "Validating: 100%|██████████| 6/6 [00:00<00:00,  7.01it/s]\n"
     ]
    },
    {
     "name": "stdout",
     "output_type": "stream",
     "text": [
      "  Train Loss: 0.9069, Train Acc: 0.5534, Val Loss: 1.0526, Val Acc: 0.5182, Time: 2.67s\n",
      "  New best model for fold 3 at epoch 12: Val Acc: 0.5182\n",
      "\n",
      "Epoch 13/100 for Fold 3\n"
     ]
    },
    {
     "name": "stderr",
     "output_type": "stream",
     "text": [
      "Training: 100%|██████████| 21/21 [00:02<00:00,  8.27it/s]\n",
      "Validating: 100%|██████████| 6/6 [00:00<00:00,  7.38it/s]\n"
     ]
    },
    {
     "name": "stdout",
     "output_type": "stream",
     "text": [
      "  Train Loss: 0.8507, Train Acc: 0.5803, Val Loss: 1.0644, Val Acc: 0.5197, Time: 2.54s\n",
      "  New best model for fold 3 at epoch 13: Val Acc: 0.5197\n",
      "\n",
      "Epoch 14/100 for Fold 3\n"
     ]
    },
    {
     "name": "stderr",
     "output_type": "stream",
     "text": [
      "Training: 100%|██████████| 21/21 [00:02<00:00,  8.25it/s]\n",
      "Validating: 100%|██████████| 6/6 [00:00<00:00,  7.47it/s]\n"
     ]
    },
    {
     "name": "stdout",
     "output_type": "stream",
     "text": [
      "  Train Loss: 0.8147, Train Acc: 0.6019, Val Loss: 1.0697, Val Acc: 0.5530, Time: 2.55s\n",
      "  New best model for fold 3 at epoch 14: Val Acc: 0.5530\n",
      "\n",
      "Epoch 15/100 for Fold 3\n"
     ]
    },
    {
     "name": "stderr",
     "output_type": "stream",
     "text": [
      "Training: 100%|██████████| 21/21 [00:02<00:00,  7.95it/s]\n",
      "Validating: 100%|██████████| 6/6 [00:00<00:00,  7.39it/s]\n"
     ]
    },
    {
     "name": "stdout",
     "output_type": "stream",
     "text": [
      "  Train Loss: 0.7521, Train Acc: 0.6383, Val Loss: 1.0336, Val Acc: 0.5606, Time: 2.64s\n",
      "  New best model for fold 3 at epoch 15: Val Acc: 0.5606\n",
      "\n",
      "Epoch 16/100 for Fold 3\n"
     ]
    },
    {
     "name": "stderr",
     "output_type": "stream",
     "text": [
      "Training: 100%|██████████| 21/21 [00:02<00:00,  8.25it/s]\n",
      "Validating: 100%|██████████| 6/6 [00:00<00:00,  7.35it/s]\n"
     ]
    },
    {
     "name": "stdout",
     "output_type": "stream",
     "text": [
      "  Train Loss: 0.6720, Train Acc: 0.6780, Val Loss: 1.0492, Val Acc: 0.5682, Time: 2.55s\n",
      "  New best model for fold 3 at epoch 16: Val Acc: 0.5682\n",
      "\n",
      "Epoch 17/100 for Fold 3\n"
     ]
    },
    {
     "name": "stderr",
     "output_type": "stream",
     "text": [
      "Training: 100%|██████████| 21/21 [00:02<00:00,  8.11it/s]\n",
      "Validating: 100%|██████████| 6/6 [00:00<00:00,  7.46it/s]\n"
     ]
    },
    {
     "name": "stdout",
     "output_type": "stream",
     "text": [
      "  Train Loss: 0.6129, Train Acc: 0.7258, Val Loss: 1.0745, Val Acc: 0.5818, Time: 2.59s\n",
      "  New best model for fold 3 at epoch 17: Val Acc: 0.5818\n",
      "\n",
      "Epoch 18/100 for Fold 3\n"
     ]
    },
    {
     "name": "stderr",
     "output_type": "stream",
     "text": [
      "Training: 100%|██████████| 21/21 [00:02<00:00,  7.86it/s]\n",
      "Validating: 100%|██████████| 6/6 [00:00<00:00,  7.05it/s]\n"
     ]
    },
    {
     "name": "stdout",
     "output_type": "stream",
     "text": [
      "  Train Loss: 0.5677, Train Acc: 0.7564, Val Loss: 1.0322, Val Acc: 0.6167, Time: 2.68s\n",
      "  New best model for fold 3 at epoch 18: Val Acc: 0.6167\n",
      "\n",
      "Epoch 19/100 for Fold 3\n"
     ]
    },
    {
     "name": "stderr",
     "output_type": "stream",
     "text": [
      "Training: 100%|██████████| 21/21 [00:02<00:00,  8.09it/s]\n",
      "Validating: 100%|██████████| 6/6 [00:00<00:00,  7.08it/s]\n"
     ]
    },
    {
     "name": "stdout",
     "output_type": "stream",
     "text": [
      "  Train Loss: 0.4844, Train Acc: 0.7841, Val Loss: 1.0310, Val Acc: 0.6303, Time: 2.60s\n",
      "  New best model for fold 3 at epoch 19: Val Acc: 0.6303\n",
      "\n",
      "Epoch 20/100 for Fold 3\n"
     ]
    },
    {
     "name": "stderr",
     "output_type": "stream",
     "text": [
      "Training: 100%|██████████| 21/21 [00:02<00:00,  8.12it/s]\n",
      "Validating: 100%|██████████| 6/6 [00:00<00:00,  7.10it/s]\n"
     ]
    },
    {
     "name": "stdout",
     "output_type": "stream",
     "text": [
      "  Train Loss: 0.4547, Train Acc: 0.8068, Val Loss: 1.0969, Val Acc: 0.6485, Time: 2.59s\n",
      "  New best model for fold 3 at epoch 20: Val Acc: 0.6485\n",
      "\n",
      "Epoch 21/100 for Fold 3\n"
     ]
    },
    {
     "name": "stderr",
     "output_type": "stream",
     "text": [
      "Training: 100%|██████████| 21/21 [00:02<00:00,  8.09it/s]\n",
      "Validating: 100%|██████████| 6/6 [00:00<00:00,  7.07it/s]\n"
     ]
    },
    {
     "name": "stdout",
     "output_type": "stream",
     "text": [
      "  Train Loss: 0.3639, Train Acc: 0.8432, Val Loss: 1.0713, Val Acc: 0.6545, Time: 2.60s\n",
      "  New best model for fold 3 at epoch 21: Val Acc: 0.6545\n",
      "\n",
      "Epoch 22/100 for Fold 3\n"
     ]
    },
    {
     "name": "stderr",
     "output_type": "stream",
     "text": [
      "Training: 100%|██████████| 21/21 [00:02<00:00,  7.68it/s]\n",
      "Validating: 100%|██████████| 6/6 [00:00<00:00,  7.48it/s]\n"
     ]
    },
    {
     "name": "stdout",
     "output_type": "stream",
     "text": [
      "  Train Loss: 0.3088, Train Acc: 0.8712, Val Loss: 1.1600, Val Acc: 0.6621, Time: 2.74s\n",
      "  New best model for fold 3 at epoch 22: Val Acc: 0.6621\n",
      "\n",
      "Epoch 23/100 for Fold 3\n"
     ]
    },
    {
     "name": "stderr",
     "output_type": "stream",
     "text": [
      "Training: 100%|██████████| 21/21 [00:02<00:00,  7.93it/s]\n",
      "Validating: 100%|██████████| 6/6 [00:00<00:00,  7.36it/s]\n"
     ]
    },
    {
     "name": "stdout",
     "output_type": "stream",
     "text": [
      "  Train Loss: 0.2879, Train Acc: 0.8754, Val Loss: 1.1460, Val Acc: 0.6424, Time: 2.65s\n",
      "\n",
      "Epoch 24/100 for Fold 3\n"
     ]
    },
    {
     "name": "stderr",
     "output_type": "stream",
     "text": [
      "Training: 100%|██████████| 21/21 [00:02<00:00,  8.21it/s]\n",
      "Validating: 100%|██████████| 6/6 [00:00<00:00,  7.48it/s]\n"
     ]
    },
    {
     "name": "stdout",
     "output_type": "stream",
     "text": [
      "  Train Loss: 0.2572, Train Acc: 0.8985, Val Loss: 1.1393, Val Acc: 0.6818, Time: 2.56s\n",
      "  New best model for fold 3 at epoch 24: Val Acc: 0.6818\n",
      "\n",
      "Epoch 25/100 for Fold 3\n"
     ]
    },
    {
     "name": "stderr",
     "output_type": "stream",
     "text": [
      "Training: 100%|██████████| 21/21 [00:02<00:00,  8.13it/s]\n",
      "Validating: 100%|██████████| 6/6 [00:00<00:00,  6.97it/s]\n"
     ]
    },
    {
     "name": "stdout",
     "output_type": "stream",
     "text": [
      "  Train Loss: 0.2216, Train Acc: 0.9114, Val Loss: 1.2888, Val Acc: 0.6803, Time: 2.59s\n",
      "\n",
      "Epoch 26/100 for Fold 3\n"
     ]
    },
    {
     "name": "stderr",
     "output_type": "stream",
     "text": [
      "Training: 100%|██████████| 21/21 [00:02<00:00,  8.26it/s]\n",
      "Validating: 100%|██████████| 6/6 [00:00<00:00,  7.58it/s]\n"
     ]
    },
    {
     "name": "stdout",
     "output_type": "stream",
     "text": [
      "  Train Loss: 0.1853, Train Acc: 0.9239, Val Loss: 1.1911, Val Acc: 0.6939, Time: 2.55s\n",
      "  New best model for fold 3 at epoch 26: Val Acc: 0.6939\n",
      "\n",
      "Epoch 27/100 for Fold 3\n"
     ]
    },
    {
     "name": "stderr",
     "output_type": "stream",
     "text": [
      "Training: 100%|██████████| 21/21 [00:02<00:00,  8.18it/s]\n",
      "Validating: 100%|██████████| 6/6 [00:00<00:00,  7.21it/s]\n"
     ]
    },
    {
     "name": "stdout",
     "output_type": "stream",
     "text": [
      "  Train Loss: 0.1864, Train Acc: 0.9216, Val Loss: 1.3684, Val Acc: 0.6909, Time: 2.57s\n",
      "\n",
      "Epoch 28/100 for Fold 3\n"
     ]
    },
    {
     "name": "stderr",
     "output_type": "stream",
     "text": [
      "Training: 100%|██████████| 21/21 [00:02<00:00,  8.03it/s]\n",
      "Validating: 100%|██████████| 6/6 [00:00<00:00,  7.31it/s]\n"
     ]
    },
    {
     "name": "stdout",
     "output_type": "stream",
     "text": [
      "  Train Loss: 0.1642, Train Acc: 0.9364, Val Loss: 1.4251, Val Acc: 0.6697, Time: 2.62s\n",
      "\n",
      "Epoch 29/100 for Fold 3\n"
     ]
    },
    {
     "name": "stderr",
     "output_type": "stream",
     "text": [
      "Training: 100%|██████████| 21/21 [00:02<00:00,  8.15it/s]\n",
      "Validating: 100%|██████████| 6/6 [00:00<00:00,  7.40it/s]\n"
     ]
    },
    {
     "name": "stdout",
     "output_type": "stream",
     "text": [
      "  Train Loss: 0.1470, Train Acc: 0.9371, Val Loss: 1.3665, Val Acc: 0.6970, Time: 2.58s\n",
      "  New best model for fold 3 at epoch 29: Val Acc: 0.6970\n",
      "\n",
      "Epoch 30/100 for Fold 3\n"
     ]
    },
    {
     "name": "stderr",
     "output_type": "stream",
     "text": [
      "Training: 100%|██████████| 21/21 [00:02<00:00,  8.19it/s]\n",
      "Validating: 100%|██████████| 6/6 [00:00<00:00,  7.59it/s]\n"
     ]
    },
    {
     "name": "stdout",
     "output_type": "stream",
     "text": [
      "  Train Loss: 0.1261, Train Acc: 0.9530, Val Loss: 1.3699, Val Acc: 0.6879, Time: 2.57s\n",
      "\n",
      "Epoch 31/100 for Fold 3\n"
     ]
    },
    {
     "name": "stderr",
     "output_type": "stream",
     "text": [
      "Training: 100%|██████████| 21/21 [00:02<00:00,  8.11it/s]\n",
      "Validating: 100%|██████████| 6/6 [00:00<00:00,  7.33it/s]\n"
     ]
    },
    {
     "name": "stdout",
     "output_type": "stream",
     "text": [
      "  Train Loss: 0.1110, Train Acc: 0.9576, Val Loss: 1.5417, Val Acc: 0.7045, Time: 2.59s\n",
      "  New best model for fold 3 at epoch 31: Val Acc: 0.7045\n",
      "\n",
      "Epoch 32/100 for Fold 3\n"
     ]
    },
    {
     "name": "stderr",
     "output_type": "stream",
     "text": [
      "Training: 100%|██████████| 21/21 [00:02<00:00,  8.08it/s]\n",
      "Validating: 100%|██████████| 6/6 [00:00<00:00,  7.26it/s]\n"
     ]
    },
    {
     "name": "stdout",
     "output_type": "stream",
     "text": [
      "  Train Loss: 0.0951, Train Acc: 0.9629, Val Loss: 1.5162, Val Acc: 0.6894, Time: 2.60s\n",
      "\n",
      "Epoch 33/100 for Fold 3\n"
     ]
    },
    {
     "name": "stderr",
     "output_type": "stream",
     "text": [
      "Training: 100%|██████████| 21/21 [00:02<00:00,  8.26it/s]\n",
      "Validating: 100%|██████████| 6/6 [00:00<00:00,  7.26it/s]\n"
     ]
    },
    {
     "name": "stdout",
     "output_type": "stream",
     "text": [
      "  Train Loss: 0.0800, Train Acc: 0.9701, Val Loss: 1.6152, Val Acc: 0.6985, Time: 2.55s\n",
      "\n",
      "Epoch 34/100 for Fold 3\n"
     ]
    },
    {
     "name": "stderr",
     "output_type": "stream",
     "text": [
      "Training: 100%|██████████| 21/21 [00:02<00:00,  8.10it/s]\n",
      "Validating: 100%|██████████| 6/6 [00:00<00:00,  7.28it/s]\n"
     ]
    },
    {
     "name": "stdout",
     "output_type": "stream",
     "text": [
      "  Train Loss: 0.0783, Train Acc: 0.9705, Val Loss: 1.8706, Val Acc: 0.6909, Time: 2.59s\n",
      "\n",
      "Epoch 35/100 for Fold 3\n"
     ]
    },
    {
     "name": "stderr",
     "output_type": "stream",
     "text": [
      "Training: 100%|██████████| 21/21 [00:02<00:00,  8.27it/s]\n",
      "Validating: 100%|██████████| 6/6 [00:00<00:00,  7.29it/s]\n"
     ]
    },
    {
     "name": "stdout",
     "output_type": "stream",
     "text": [
      "  Train Loss: 0.0744, Train Acc: 0.9689, Val Loss: 1.7938, Val Acc: 0.6561, Time: 2.54s\n",
      "\n",
      "Epoch 36/100 for Fold 3\n"
     ]
    },
    {
     "name": "stderr",
     "output_type": "stream",
     "text": [
      "Training: 100%|██████████| 21/21 [00:02<00:00,  8.28it/s]\n",
      "Validating: 100%|██████████| 6/6 [00:00<00:00,  7.53it/s]\n"
     ]
    },
    {
     "name": "stdout",
     "output_type": "stream",
     "text": [
      "  Train Loss: 0.0661, Train Acc: 0.9761, Val Loss: 1.7076, Val Acc: 0.6803, Time: 2.54s\n",
      "\n",
      "Epoch 37/100 for Fold 3\n"
     ]
    },
    {
     "name": "stderr",
     "output_type": "stream",
     "text": [
      "Training: 100%|██████████| 21/21 [00:02<00:00,  8.27it/s]\n",
      "Validating: 100%|██████████| 6/6 [00:00<00:00,  7.46it/s]\n"
     ]
    },
    {
     "name": "stdout",
     "output_type": "stream",
     "text": [
      "  Train Loss: 0.0600, Train Acc: 0.9792, Val Loss: 1.8222, Val Acc: 0.6970, Time: 2.54s\n",
      "\n",
      "Epoch 38/100 for Fold 3\n"
     ]
    },
    {
     "name": "stderr",
     "output_type": "stream",
     "text": [
      "Training: 100%|██████████| 21/21 [00:02<00:00,  7.87it/s]\n",
      "Validating: 100%|██████████| 6/6 [00:00<00:00,  7.41it/s]\n"
     ]
    },
    {
     "name": "stdout",
     "output_type": "stream",
     "text": [
      "  Train Loss: 0.0644, Train Acc: 0.9792, Val Loss: 1.8661, Val Acc: 0.6955, Time: 2.67s\n",
      "\n",
      "Epoch 39/100 for Fold 3\n"
     ]
    },
    {
     "name": "stderr",
     "output_type": "stream",
     "text": [
      "Training: 100%|██████████| 21/21 [00:02<00:00,  8.06it/s]\n",
      "Validating: 100%|██████████| 6/6 [00:00<00:00,  7.32it/s]\n"
     ]
    },
    {
     "name": "stdout",
     "output_type": "stream",
     "text": [
      "  Train Loss: 0.0461, Train Acc: 0.9830, Val Loss: 1.8698, Val Acc: 0.7045, Time: 2.61s\n",
      "\n",
      "Epoch 40/100 for Fold 3\n"
     ]
    },
    {
     "name": "stderr",
     "output_type": "stream",
     "text": [
      "Training: 100%|██████████| 21/21 [00:02<00:00,  8.24it/s]\n",
      "Validating: 100%|██████████| 6/6 [00:00<00:00,  7.40it/s]\n"
     ]
    },
    {
     "name": "stdout",
     "output_type": "stream",
     "text": [
      "  Train Loss: 0.0353, Train Acc: 0.9894, Val Loss: 1.7983, Val Acc: 0.6955, Time: 2.55s\n",
      "\n",
      "Epoch 41/100 for Fold 3\n"
     ]
    },
    {
     "name": "stderr",
     "output_type": "stream",
     "text": [
      "Training: 100%|██████████| 21/21 [00:02<00:00,  8.32it/s]\n",
      "Validating: 100%|██████████| 6/6 [00:00<00:00,  7.35it/s]\n"
     ]
    },
    {
     "name": "stdout",
     "output_type": "stream",
     "text": [
      "  Train Loss: 0.0336, Train Acc: 0.9890, Val Loss: 1.8593, Val Acc: 0.6879, Time: 2.53s\n",
      "  Early stopping at epoch 41.\n",
      "Loading best model for fold 3 (achieved 0.7045 on inner val set).\n"
     ]
    },
    {
     "name": "stderr",
     "output_type": "stream",
     "text": [
      "Validating: 100%|██████████| 13/13 [00:01<00:00, 10.16it/s]"
     ]
    },
    {
     "name": "stdout",
     "output_type": "stream",
     "text": [
      "Performance on Outer Test Set for fold 3: 0.6661\n",
      "\n",
      "--- NESTED CROSS VALIDATION TRANSFER COMPLETE ---\n",
      "Cross-validation accuracies on outer folds: ['0.6552', '0.6485', '0.6661']\n",
      "Mean CV Accuracy: 0.6566 ± 0.0072\n"
     ]
    },
    {
     "name": "stderr",
     "output_type": "stream",
     "text": [
      "\n"
     ]
    },
    {
     "ename": "",
     "evalue": "",
     "output_type": "error",
     "traceback": [
      "\u001b[1;31mThe Kernel crashed while executing code in the current cell or a previous cell. \n",
      "\u001b[1;31mPlease review the code in the cell(s) to identify a possible cause of the failure. \n",
      "\u001b[1;31mClick <a href='https://aka.ms/vscodeJupyterKernelCrash'>here</a> for more info. \n",
      "\u001b[1;31mView Jupyter <a href='command:jupyter.viewOutput'>log</a> for further details."
     ]
    }
   ],
   "source": [
    "from tensorboardX import SummaryWriter\n",
    "import time\n",
    "\n",
    "transfer_model_folder_name = \"./saved_models/RADIO1_WReN\"\n",
    "model_folder_name = \"RADIO2_WReN_TRANSFER\"\n",
    "\n",
    "print(f\"\\n{'='*25} PERFORMING NESTED CROSS-VALIDATION TRANSFER {'='*25}\")\n",
    "\n",
    "outer_kfold = StratifiedKFold(n_splits=N_SPLITS, shuffle=True, random_state=RANDOM_SEED)\n",
    "fold_test_results = []\n",
    "\n",
    "for fold, (train_outer_idx, test_outer_idx) in enumerate(outer_kfold.split(np.zeros(len(dev_dataset)), dev_dataset_labels)):\n",
    "    print(f\"\\n--- Outer Fold {fold+1}/{N_SPLITS} ---\")\n",
    "    writer = SummaryWriter(log_dir=f'runs/{model_folder_name}/fold_{fold+1}')\n",
    "\n",
    "    # Create inner train/val split from the outer training set\n",
    "    train_outer_labels = dev_dataset_labels[train_outer_idx]\n",
    "    train_inner_idx, val_inner_idx = train_test_split(\n",
    "        train_outer_idx, test_size=VAL_SPLIT_SIZE, shuffle=True, stratify=train_outer_labels, random_state=RANDOM_SEED\n",
    "    )\n",
    "\n",
    "    # Create subsets from the DEVELOPMENT dataset\n",
    "    train_inner_subset = Subset(dev_dataset, train_inner_idx)\n",
    "    val_inner_subset = Subset(dev_dataset, val_inner_idx)\n",
    "    test_outer_subset = Subset(dev_dataset, test_outer_idx) # This is the \"test set\" for this fold\n",
    "\n",
    "    train_loader = DataLoader(train_inner_subset, batch_size=BATCH_SIZE, shuffle=True, num_workers=6, pin_memory=True)\n",
    "    val_loader = DataLoader(val_inner_subset, batch_size=BATCH_SIZE, shuffle=False, num_workers=6, pin_memory=True)\n",
    "    test_loader = DataLoader(test_outer_subset, batch_size=BATCH_SIZE, shuffle=False, num_workers=6, pin_memory=True)\n",
    "\n",
    "    model = WReN().to(DEVICE)  # Initialize a new model for this fold\n",
    "    model.load_state_dict(torch.load(f\"{transfer_model_folder_name}/deployable_model.pth\"))  # Load the pre-trained model\n",
    "    \n",
    "    optimizer = torch.optim.Adam(model.parameters(),\n",
    "                                 lr=LEARNING_RATE,\n",
    "                                 betas=(BETA_1, BETA_2),\n",
    "                                 eps=EPSILON)\n",
    "\n",
    "    criterion = nn.CrossEntropyLoss()\n",
    "    scheduler = None\n",
    "    scaler = None\n",
    "\n",
    "    best_model_path = f\"./saved_models/{model_folder_name}/best_model_fold_{fold+1}.pth\"\n",
    "    os.makedirs(f\"./saved_models/{model_folder_name}\", exist_ok=True)\n",
    "    best_val_acc_fold = 0.0\n",
    "    epochs_without_improvement = 0\n",
    "\n",
    "    print(f\"Training on {len(train_inner_subset)}, Validating on {len(val_inner_subset)}...\")\n",
    "    for epoch in range(1, EPOCHS + 1):\n",
    "        print(f\"\\nEpoch {epoch}/{EPOCHS} for Fold {fold+1}\")\n",
    "        train_start_time = time.time()\n",
    "        train_loss, train_acc = train_epoch(model, train_loader, optimizer, criterion, DEVICE)\n",
    "        train_end_time = time.time()\n",
    "        train_time = train_end_time - train_start_time\n",
    "\n",
    "        val_loss, val_acc = validate(model, val_loader, criterion, DEVICE)\n",
    "\n",
    "        print(f\"  Train Loss: {train_loss:.4f}, Train Acc: {train_acc:.4f}, Val Loss: {val_loss:.4f}, Val Acc: {val_acc:.4f}, Time: {train_time:.2f}s\")\n",
    "\n",
    "        writer.add_scalar('CV/Loss/train', train_loss, epoch)\n",
    "        writer.add_scalar('CV/Accuracy/train', train_acc, epoch)\n",
    "        writer.add_scalar('CV/Loss/val', val_loss, epoch)\n",
    "        writer.add_scalar('CV/Accuracy/val', val_acc, epoch)\n",
    "        writer.add_scalar('CV/Time/train', train_time, epoch)\n",
    "\n",
    "        memory_allocated = torch.cuda.memory_allocated(DEVICE) if torch.cuda.is_available() else 0\n",
    "        memory_reserved = torch.cuda.memory_reserved(DEVICE) if torch.cuda.is_available() else 0\n",
    "\n",
    "        writer.add_scalar('CV/Memory/allocated', memory_allocated, epoch)\n",
    "        writer.add_scalar('CV/Memory/reserved', memory_reserved, epoch)\n",
    "\n",
    "        if val_acc > best_val_acc_fold:\n",
    "            best_val_acc_fold = val_acc\n",
    "            epochs_without_improvement = 0\n",
    "            torch.save(model.state_dict(), best_model_path)\n",
    "            print(f\"  New best model for fold {fold+1} at epoch {epoch}: Val Acc: {val_acc:.4f}\")\n",
    "        else:\n",
    "            epochs_without_improvement += 1\n",
    "            if epochs_without_improvement >= PATIENCE:\n",
    "                print(f\"  Early stopping at epoch {epoch}.\")\n",
    "                break\n",
    "    \n",
    "    # Evaluate the best model for this fold on the outer test set\n",
    "    print(f\"Loading best model for fold {fold+1} (achieved {best_val_acc_fold:.4f} on inner val set).\")\n",
    "    model.load_state_dict(torch.load(best_model_path))\n",
    "    _, final_fold_test_acc = validate(model, test_loader, criterion, DEVICE)\n",
    "    print(f\"Performance on Outer Test Set for fold {fold+1}: {final_fold_test_acc:.4f}\")\n",
    "    fold_test_results.append(final_fold_test_acc)\n",
    "    writer.add_scalar('CV/Accuracy/test', final_fold_test_acc, epoch)\n",
    "    writer.close()\n",
    "\n",
    "mean_cv_acc = np.mean(fold_test_results)\n",
    "std_cv_acc = np.std(fold_test_results)\n",
    "print(f\"\\n--- NESTED CROSS VALIDATION TRANSFER COMPLETE ---\")\n",
    "print(f\"Cross-validation accuracies on outer folds: {[f'{acc:.4f}' for acc in fold_test_results]}\")\n",
    "print(f\"Mean CV Accuracy: {mean_cv_acc:.4f} ± {std_cv_acc:.4f}\")"
   ]
  }
 ],
 "metadata": {
  "kernelspec": {
   "display_name": "DGL_ENV",
   "language": "python",
   "name": "dgl_env"
  },
  "language_info": {
   "codemirror_mode": {
    "name": "ipython",
    "version": 3
   },
   "file_extension": ".py",
   "mimetype": "text/x-python",
   "name": "python",
   "nbconvert_exporter": "python",
   "pygments_lexer": "ipython3",
   "version": "3.12.3"
  }
 },
 "nbformat": 4,
 "nbformat_minor": 5
}
